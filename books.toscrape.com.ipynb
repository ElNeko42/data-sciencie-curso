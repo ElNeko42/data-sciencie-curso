{
 "cells": [
  {
   "cell_type": "markdown",
   "id": "165126bb",
   "metadata": {},
   "source": [
    "### Ejercicio 1:\n",
    "- De la web `url = \"https://books.toscrape.com\"` obtén la siguiente información del primer libro:\n",
    "    - Título\n",
    "    - Precio\n",
    "    - Stock\n",
    "    - Puntuación\n",
    "    - Descripción\n",
    "    - Género"
   ]
  },
  {
   "cell_type": "code",
   "execution_count": null,
   "id": "f175c902",
   "metadata": {},
   "outputs": [],
   "source": []
  },
  {
   "cell_type": "code",
   "execution_count": null,
   "id": "f4b3c61d",
   "metadata": {},
   "outputs": [],
   "source": []
  },
  {
   "cell_type": "code",
   "execution_count": null,
   "id": "12a10981",
   "metadata": {},
   "outputs": [],
   "source": []
  },
  {
   "cell_type": "markdown",
   "id": "ab9f50c1",
   "metadata": {},
   "source": [
    "### Ejercicio 2:\n",
    "- Obtén la información que pide el **ejercicio 1** de los 20 primeros libros\n",
    "\n",
    "_Tip: usa Selenium para navegar por la página_"
   ]
  },
  {
   "cell_type": "code",
   "execution_count": null,
   "id": "6aa32fbb",
   "metadata": {},
   "outputs": [],
   "source": []
  },
  {
   "cell_type": "code",
   "execution_count": null,
   "id": "9514e6e5",
   "metadata": {},
   "outputs": [],
   "source": []
  },
  {
   "cell_type": "code",
   "execution_count": null,
   "id": "47e26128",
   "metadata": {},
   "outputs": [],
   "source": []
  },
  {
   "cell_type": "markdown",
   "id": "79e4a095",
   "metadata": {},
   "source": [
    "### Ejercicio 3:\n",
    "- Obtén la información que pide el ejercicio 1 de todos los libros que hay en la página web."
   ]
  },
  {
   "cell_type": "code",
   "execution_count": null,
   "id": "8b63ce95",
   "metadata": {},
   "outputs": [],
   "source": []
  },
  {
   "cell_type": "code",
   "execution_count": null,
   "id": "5c7e1a5f",
   "metadata": {},
   "outputs": [],
   "source": []
  },
  {
   "cell_type": "code",
   "execution_count": null,
   "id": "6f08ec95",
   "metadata": {},
   "outputs": [],
   "source": []
  }
 ],
 "metadata": {
  "kernelspec": {
   "display_name": "Python 3 (ipykernel)",
   "language": "python",
   "name": "python3"
  },
  "language_info": {
   "codemirror_mode": {
    "name": "ipython",
    "version": 3
   },
   "file_extension": ".py",
   "mimetype": "text/x-python",
   "name": "python",
   "nbconvert_exporter": "python",
   "pygments_lexer": "ipython3",
   "version": "3.10.12"
  }
 },
 "nbformat": 4,
 "nbformat_minor": 5
}
