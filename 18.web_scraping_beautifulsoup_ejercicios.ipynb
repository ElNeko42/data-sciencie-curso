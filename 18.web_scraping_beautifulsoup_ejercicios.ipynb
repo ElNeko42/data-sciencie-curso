{
 "cells": [
  {
   "cell_type": "markdown",
   "id": "5988379a",
   "metadata": {},
   "source": [
    "## Ejercicios Web Scraping BeautifulSoup"
   ]
  },
  {
   "cell_type": "code",
   "execution_count": 5,
   "id": "029889fe",
   "metadata": {},
   "outputs": [],
   "source": [
    "import numpy as np\n",
    "import pandas as pd\n",
    "\n",
    "import requests\n",
    "from bs4 import BeautifulSoup\n",
    "\n",
    "from time import sleep"
   ]
  },
  {
   "cell_type": "markdown",
   "id": "22f45faa",
   "metadata": {},
   "source": [
    "De la pagina:\n",
    "\n",
    "https://www.recetasgratis.net/Recetas-de-Ensaladas-listado_receta-4_1.html\n",
    "\n",
    "- Sacar la siguiente información de las recetas de la primera página:\n",
    "\n",
    "1. **Nombre**\n",
    "2. **Descripcion**\n",
    "3. **Comensales**\n",
    "4. **Tiempo**\n",
    "5. **Categoria**\n",
    "6. **Dificultad**\n",
    "7. **Ingredientes**\n",
    "8. **Instrucciones**\n",
    "\n",
    "Guardalo en un DataFrame y luego en un **`.csv`**."
   ]
  },
  {
   "cell_type": "code",
   "execution_count": null,
   "id": "f92d7232",
   "metadata": {},
   "outputs": [],
   "source": [
    "url = \"https://www.recetasgratis.net/Recetas-de-Ensaladas-listado_receta-4_1.html\"\n",
    "\n",
    "response = requests.get(url)\n",
    "soup = BeautifulSoup(response.text, \"html.parser\")\n",
    "\n",
    "soup"
   ]
  },
  {
   "cell_type": "code",
   "execution_count": 7,
   "id": "6feb378f",
   "metadata": {},
   "outputs": [],
   "source": [
    "recetas = soup.find_all(\"div\", class_ = \"resultado link\")"
   ]
  },
  {
   "cell_type": "code",
   "execution_count": 27,
   "id": "56787060-fcb8-47f8-9212-c7816f873528",
   "metadata": {},
   "outputs": [],
   "source": [
    "data = []\n",
    "for receta in recetas:\n",
    "    titulo = receta.find(\"a\").text\n",
    "    url = receta.find(\"a\")['href']\n",
    "    dificultad = [x.text for x in receta.find_all(\"span\") if \"dificultad\" in x.text.lower()]\n",
    "    if not len(dificultad):\n",
    "        continue\n",
    "    dificultad = dificultad[0]\n",
    "\n",
    "    comensales = receta.find(\"span\", class_ = \"property comensales\")\n",
    "    comensales = comensales.text if comensales else np.nan\n",
    "\n",
    "    duracion = receta.find(\"span\", class_ = \"property duracion\")\n",
    "    duracion = duracion.text if duracion else np.nan\n",
    "\n",
    "    para = receta.find(\"span\", class_ = \"property para\")\n",
    "    para = para.text if para else np.nan\n",
    "\n",
    "    data.append([titulo, url, dificultad, comensales, duracion, para])"
   ]
  },
  {
   "cell_type": "code",
   "execution_count": 35,
   "id": "3ac50456-73b7-47df-9d42-ee97f5b98ac3",
   "metadata": {},
   "outputs": [],
   "source": [
    "lista_vacia = []"
   ]
  },
  {
   "cell_type": "code",
   "execution_count": 37,
   "id": "8b77e3a0-3cf0-4dcc-86bf-fdc5354d73e0",
   "metadata": {},
   "outputs": [
    {
     "data": {
      "text/plain": [
       "False"
      ]
     },
     "execution_count": 37,
     "metadata": {},
     "output_type": "execute_result"
    }
   ],
   "source": [
    "bool(0)"
   ]
  },
  {
   "cell_type": "code",
   "execution_count": null,
   "id": "effa9213-5261-4cf5-9f69-09b36d3e9476",
   "metadata": {},
   "outputs": [],
   "source": []
  },
  {
   "cell_type": "code",
   "execution_count": 34,
   "id": "41919e0e-1413-4e8b-8119-ddb4b0f6745c",
   "metadata": {},
   "outputs": [
    {
     "data": {
      "text/plain": [
       "'\\nLa ensalada aragonesa de patata es una muy exquisita receta preparada con una variedad de ingredientes muy ricos nutricionalmente hablando. Así pues, en esta ensalada encontramos vitaminas, minerales, fibra, hidratos de carbono, proteína y ácidos grasos omega 3. Esto es así debido a que contiene verduras,...'"
      ]
     },
     "execution_count": 34,
     "metadata": {},
     "output_type": "execute_result"
    }
   ],
   "source": [
    "receta.find(\"div\", class_ = \"intro\").text"
   ]
  },
  {
   "cell_type": "code",
   "execution_count": 29,
   "id": "2d6cf0ae-e3f5-4ea5-b8e2-01b8a61febc8",
   "metadata": {},
   "outputs": [],
   "source": [
    "df = pd.DataFrame(data, columns = [\"titulo\", \"url\", \"dificultad\", \"comensales\", \"duracion\", \"para\"])"
   ]
  },
  {
   "cell_type": "code",
   "execution_count": 30,
   "id": "8795bb7d-6181-4c6e-9812-69d31a83bb8e",
   "metadata": {},
   "outputs": [
    {
     "data": {
      "text/html": [
       "<div>\n",
       "<style scoped>\n",
       "    .dataframe tbody tr th:only-of-type {\n",
       "        vertical-align: middle;\n",
       "    }\n",
       "\n",
       "    .dataframe tbody tr th {\n",
       "        vertical-align: top;\n",
       "    }\n",
       "\n",
       "    .dataframe thead th {\n",
       "        text-align: right;\n",
       "    }\n",
       "</style>\n",
       "<table border=\"1\" class=\"dataframe\">\n",
       "  <thead>\n",
       "    <tr style=\"text-align: right;\">\n",
       "      <th></th>\n",
       "      <th>titulo</th>\n",
       "      <th>url</th>\n",
       "      <th>dificultad</th>\n",
       "      <th>comensales</th>\n",
       "      <th>duracion</th>\n",
       "      <th>para</th>\n",
       "    </tr>\n",
       "  </thead>\n",
       "  <tbody>\n",
       "    <tr>\n",
       "      <th>0</th>\n",
       "      <td>Receta de Ensalada coleslaw</td>\n",
       "      <td>https://www.recetasgratis.net/receta-de-ensala...</td>\n",
       "      <td>Dificultad baja</td>\n",
       "      <td>1</td>\n",
       "      <td>15m</td>\n",
       "      <td>Acompañamiento</td>\n",
       "    </tr>\n",
       "    <tr>\n",
       "      <th>1</th>\n",
       "      <td>Receta de Ensalada de quinoa y verduras</td>\n",
       "      <td>https://www.recetasgratis.net/receta-de-ensala...</td>\n",
       "      <td>Dificultad baja</td>\n",
       "      <td>3</td>\n",
       "      <td>45m</td>\n",
       "      <td>Plato principal</td>\n",
       "    </tr>\n",
       "    <tr>\n",
       "      <th>2</th>\n",
       "      <td>Receta de Ensalada navideña peruana</td>\n",
       "      <td>https://www.recetasgratis.net/receta-de-ensala...</td>\n",
       "      <td>Dificultad baja</td>\n",
       "      <td>10</td>\n",
       "      <td>30m</td>\n",
       "      <td>NaN</td>\n",
       "    </tr>\n",
       "    <tr>\n",
       "      <th>3</th>\n",
       "      <td>Receta de Ensalada de pasta con atún</td>\n",
       "      <td>https://www.recetasgratis.net/receta-de-ensala...</td>\n",
       "      <td>Dificultad baja</td>\n",
       "      <td>5</td>\n",
       "      <td>30m</td>\n",
       "      <td>NaN</td>\n",
       "    </tr>\n",
       "    <tr>\n",
       "      <th>4</th>\n",
       "      <td>Receta de Ensaladilla vegana</td>\n",
       "      <td>https://www.recetasgratis.net/receta-de-ensala...</td>\n",
       "      <td>Dificultad media</td>\n",
       "      <td>4</td>\n",
       "      <td>45m</td>\n",
       "      <td>NaN</td>\n",
       "    </tr>\n",
       "  </tbody>\n",
       "</table>\n",
       "</div>"
      ],
      "text/plain": [
       "                                    titulo  \\\n",
       "0              Receta de Ensalada coleslaw   \n",
       "1  Receta de Ensalada de quinoa y verduras   \n",
       "2      Receta de Ensalada navideña peruana   \n",
       "3     Receta de Ensalada de pasta con atún   \n",
       "4             Receta de Ensaladilla vegana   \n",
       "\n",
       "                                                 url        dificultad  \\\n",
       "0  https://www.recetasgratis.net/receta-de-ensala...   Dificultad baja   \n",
       "1  https://www.recetasgratis.net/receta-de-ensala...   Dificultad baja   \n",
       "2  https://www.recetasgratis.net/receta-de-ensala...   Dificultad baja   \n",
       "3  https://www.recetasgratis.net/receta-de-ensala...   Dificultad baja   \n",
       "4  https://www.recetasgratis.net/receta-de-ensala...  Dificultad media   \n",
       "\n",
       "  comensales duracion             para  \n",
       "0          1      15m   Acompañamiento  \n",
       "1          3      45m  Plato principal  \n",
       "2         10      30m              NaN  \n",
       "3          5      30m              NaN  \n",
       "4          4      45m              NaN  "
      ]
     },
     "execution_count": 30,
     "metadata": {},
     "output_type": "execute_result"
    }
   ],
   "source": [
    "df.head()"
   ]
  },
  {
   "cell_type": "markdown",
   "id": "6ae0d51a",
   "metadata": {},
   "source": [
    "- Repetir el ejercicio para todas las recetas de todas las páginas."
   ]
  },
  {
   "cell_type": "code",
   "execution_count": null,
   "id": "654a35b4",
   "metadata": {},
   "outputs": [],
   "source": [
    "# SEGUNDO Y TERCER PASO\n",
    "\n",
    "\"\"\"\n",
    "SEGUNDO HACER LO DE ARRIBA PARA TODAS LAS PÁGINAS.\n",
    "\n",
    "TERCERA. ENTRAR A CADA URL, Y SACAR INFORMACIÓN DE INGREDIENTES. (más difícil)\n",
    "\n",
    "\"\"\""
   ]
  },
  {
   "cell_type": "code",
   "execution_count": 38,
   "id": "0a868894",
   "metadata": {},
   "outputs": [],
   "source": [
    "url = \"https://ianews.es/\"\n",
    "response = requests.get(url)\n",
    "soup = BeautifulSoup(response.text, \"html.parser\")"
   ]
  },
  {
   "cell_type": "code",
   "execution_count": 40,
   "id": "a5d3af88",
   "metadata": {},
   "outputs": [],
   "source": [
    "articulos = soup.find_all(\"li\")"
   ]
  },
  {
   "cell_type": "code",
   "execution_count": 46,
   "id": "60991bfa-33c2-438c-b759-3e1bd2e901f4",
   "metadata": {},
   "outputs": [
    {
     "data": {
      "text/plain": [
       "['¿Te imaginas poder convertir una foto en un video con solo unos clics?',\n",
       " 'Cómo convertir cualquier PDF en un chat con AskYourPDF',\n",
       " 'ChatGPT: ¿El chatbot que superará el test de Turing con GPT-5?',\n",
       " 'Cómo mejorar tus imágenes con inteligencia artificial y Nero AI Image Upscaler',\n",
       " 'Cómo convertir tus mensajes de voz de WhatsApp en texto con WhisperBot',\n",
       " 'La UNESCO adopta la primera Recomendación sobre la Ética de la Inteligencia Artificial: ¿Qué significa y por qué es importante?',\n",
       " '¿Qué pasaría si pudieras crear imágenes realistas o fantásticas con solo escribir unas pocas palabras?',\n",
       " '¿Te gustaría hablar con tu personaje favorito, ya sea real o ficticio?',\n",
       " 'Microsoft 365 Copilot: la herramienta inteligente que te ayuda a trabajar mejor',\n",
       " 'VALL-E: la herramienta de Microsoft que imita tu voz en segundos']"
      ]
     },
     "execution_count": 46,
     "metadata": {},
     "output_type": "execute_result"
    }
   ],
   "source": [
    "[x.find(\"h2\", class_ = \"wp-block-post-title\").text for x in articulos]"
   ]
  },
  {
   "cell_type": "code",
   "execution_count": 48,
   "id": "85a03cc5-fe2c-4f36-a145-3e5cf3b5bd16",
   "metadata": {},
   "outputs": [
    {
     "data": {
      "text/plain": [
       "['Pues esto pronto será posible gracias a una nueva herramienta basada en un modelo de difusión guiado por la pose. En este artículo te explicamos en qué consiste esta tecnología y cómo puedes probarla tú mismo. La síntesis de vistas novedosas a partir de una sola imagen es un problema fundamental para muchas aplicaciones de… ',\n",
       " '¿Alguna vez has tenido que leer un documento PDF largo y aburrido, como un contrato, un informe o una investigación, y te has sentido perdido entre tantas páginas y palabras? ¿O quizás has querido extraer información específica de un PDF, pero no sabes cómo buscarla o dónde encontrarla? Si es así, te presento una herramienta… ',\n",
       " 'El test de Turing es una prueba propuesta por el matemático Alan Turing en 1950 para determinar si una máquina puede exhibir un comportamiento inteligente equivalente o indistinguible del de un humano. El test consiste en que un evaluador humano mantenga una conversación con un interlocutor oculto, que puede ser una persona o una máquina,… ',\n",
       " '¿Te has preguntado alguna vez cómo sería poder mejorar la calidad de tus imágenes con solo un clic? ¿Te gustaría poder aumentar la resolución, la nitidez y los detalles de tus fotos sin perder tiempo ni dinero en programas complejos? Si la respuesta es sí, entonces te interesa conocer Nero AI Image Upscaler, una herramienta… ',\n",
       " '¿Estás cansado de tener que escuchar los mensajes de voz de WhatsApp cuando no tienes tiempo o no puedes hacerlo? ¿Te gustaría poder leerlos en texto y obtener lo esencial de forma rápida y sencilla? Si es así, te presentamos WhisperBot, el asistente de inteligencia artificial que transcribe tus mensajes de voz de WhatsApp y… ',\n",
       " 'La ética de la inteligencia artificial (IA) es un tema crucial para el futuro de la humanidad y el planeta. La UNESCO ha adoptado la primera Recomendación sobre la Ética de la IA, que es un instrumento normativo global que orienta a los países sobre cómo maximizar los beneficios de la IA y reducir los… ',\n",
       " 'Esa es la promesa de Midjourney, un generador de imágenes basado en inteligencia artificial que funciona a través de un servidor de Discord. Midjourney es un laboratorio de investigación independiente que explora nuevos medios de pensamiento y amplía los poderes imaginativos de la especie humana. Su modelo de IA ha sido recientemente actualizado a la… ',\n",
       " '¿Qué tal si pudieras crear tu propio personaje y darle vida con una inteligencia artificial? Eso es lo que te ofrece Character.AI, una plataforma que te permite crear y chatear con personajes de todo tipo, desde celebridades hasta personajes de videojuegos. Character.AI es un producto beta que utiliza modelos de lenguaje neuronal para permitir a… ',\n",
       " '¿Te gustaría tener un asistente personal que te ayude a hacer tus tareas diarias con más facilidad y rapidez? ¿Quieres sacarle el máximo partido a las herramientas de Microsoft 365 que usas a diario? Si la respuesta es sí, entonces te interesa conocer Microsoft 365 Copilot, la nueva herramienta inteligente que Microsoft ha creado para… ',\n",
       " '¿Te imaginas poder crear tu propio asistente de voz personalizado con solo grabar unas frases? ¿O poder modificar el tono y el acento de cualquier audio con solo arrastrar un cursor? Esto es lo que promete VALL-E, la nueva herramienta de inteligencia artificial diseñada por Microsoft. VALL-E es una aplicación web que permite generar voces… ']"
      ]
     },
     "execution_count": 48,
     "metadata": {},
     "output_type": "execute_result"
    }
   ],
   "source": [
    "[x.find(\"div\", class_ = \"wp-block-post-excerpt\").text for x in articulos]"
   ]
  },
  {
   "cell_type": "code",
   "execution_count": null,
   "id": "c524b9a1-2f46-4811-bcf0-eabf3a389978",
   "metadata": {},
   "outputs": [],
   "source": []
  }
 ],
 "metadata": {
  "kernelspec": {
   "display_name": "Python 3 (ipykernel)",
   "language": "python",
   "name": "python3"
  },
  "language_info": {
   "codemirror_mode": {
    "name": "ipython",
    "version": 3
   },
   "file_extension": ".py",
   "mimetype": "text/x-python",
   "name": "python",
   "nbconvert_exporter": "python",
   "pygments_lexer": "ipython3",
   "version": "3.10.12"
  }
 },
 "nbformat": 4,
 "nbformat_minor": 5
}
