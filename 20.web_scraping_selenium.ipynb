{
 "cells": [
  {
   "cell_type": "markdown",
   "id": "9201eda6",
   "metadata": {},
   "source": [
    "## Selenium\n",
    "\n",
    "**`Selenium WebDriver`** es una herramienta para recopilar datos de los sitios web y simular las interacciones del usuario.\n",
    "\n",
    "```python\n",
    "pip install selenium\n",
    "```\n",
    "\n",
    "*__Documentación__: https://selenium-python.readthedocs.io/index.html*\n",
    "\n",
    "Para utilizar **`selenium`** debemos tener el archivo **`chromedriver.exe`** si estamos usando Chrome. Este se puede descargar desde la documentación, hay que descargar el **`chromedriver.exe`** que sea compatible con la versión de nuestro navegador."
   ]
  },
  {
   "cell_type": "code",
   "execution_count": 20,
   "id": "a8139cbc",
   "metadata": {},
   "outputs": [],
   "source": [
    "import requests \n",
    "\n",
    "from bs4 import BeautifulSoup\n",
    "\n",
    "from selenium import webdriver\n",
    "from selenium.webdriver.common.by import By\n",
    "\n",
    "from time import sleep"
   ]
  },
  {
   "cell_type": "code",
   "execution_count": 21,
   "id": "5853b819",
   "metadata": {},
   "outputs": [
    {
     "data": {
      "text/plain": [
       "'3.141.0'"
      ]
     },
     "execution_count": 21,
     "metadata": {},
     "output_type": "execute_result"
    }
   ],
   "source": [
    "import selenium\n",
    "\n",
    "selenium.__version__"
   ]
  },
  {
   "cell_type": "code",
   "execution_count": 22,
   "id": "7aa1ff77",
   "metadata": {},
   "outputs": [],
   "source": [
    "# Driver de Chrome\n",
    "\n",
    "chrome_driver = \"chromedriver.exe\""
   ]
  },
  {
   "cell_type": "code",
   "execution_count": 23,
   "id": "05380313-2f65-4735-bf37-f5f74f6efb62",
   "metadata": {},
   "outputs": [],
   "source": [
    "# https://chromedriver.chromium.org/downloads"
   ]
  },
  {
   "cell_type": "code",
   "execution_count": 25,
   "id": "d0ef31ad",
   "metadata": {},
   "outputs": [],
   "source": [
    "# Ejecutar webdriver.Chrome abrirá una ventana nueva en el navegador \n",
    "# A traves de esta ventana podremos seguir usando selenium\n",
    "\n",
    "#browser = webdriver.Chrome(executable_path = chrome_driver)\n",
    "browser = webdriver.Chrome()\n",
    "\n",
    "browser.get(\"https://google.com\")\n",
    "\n",
    "browser.maximize_window()"
   ]
  },
  {
   "cell_type": "markdown",
   "id": "ccfa847f",
   "metadata": {},
   "source": [
    "Para \"encontrar\" los elementos de una página web podemos usar sus características. Usando las herramientas del navegador podemos elegir cual usar, los métodos para buscar son:\n",
    "\n",
    "\n",
    "|Método                                     |\n",
    "|-------------------------------------------|\n",
    "|**`.find_element(by, value)`**             |\n",
    "|**`.find_elements(by, value)`**            |\n",
    "\n",
    "Y los posibles elementos para filtrar en el parámetro **by** son:\n",
    "\n",
    "|Filtro                                     |\n",
    "|-------------------------------------------|\n",
    "|**`By.NAME`**              |\n",
    "|**`By.XPATH`**             |\n",
    "|**`By.LINK_TEXT`**         |\n",
    "|**`By.PARTIAL_LINK_TEXT`** |\n",
    "|**`By.TAG_NAME`**          |\n",
    "|**`By.CLASS_NAME`**        |\n",
    "|**`By.CSS_SELECTOR`**      |"
   ]
  },
  {
   "cell_type": "code",
   "execution_count": 31,
   "id": "6591c67f-34c4-4aa6-b1f6-471546054697",
   "metadata": {},
   "outputs": [],
   "source": [
    "browser.find_element(by = By.ID, value = \"L2AGLb\").click()"
   ]
  },
  {
   "cell_type": "code",
   "execution_count": 32,
   "id": "83859267",
   "metadata": {
    "scrolled": true
   },
   "outputs": [],
   "source": [
    "# En el buscador de google escribimos \"Python\"\n",
    "\n",
    "# Encontramos el buscador\n",
    "buscador = browser.find_element(by = By.ID, value = \"APjFqb\")\n",
    "\n",
    "sleep(1)\n",
    "\n",
    "# .clear() limpia lo que este escrito\n",
    "buscador.clear()\n",
    "\n",
    "sleep(1)\n",
    "\n",
    "# # .send_keys() escribe\n",
    "buscador.send_keys(\"Python\")\n",
    "\n",
    "sleep(1)\n",
    "\n",
    "#.submit() hace submit.\n",
    "buscador.submit()"
   ]
  },
  {
   "cell_type": "code",
   "execution_count": 33,
   "id": "03f5a8e1",
   "metadata": {},
   "outputs": [
    {
     "data": {
      "text/plain": [
       "'https://www.google.com/search?q=Python&sca_esv=85af15397c77c0f6&sca_upv=1&source=hp&ei=QRveZZujHYGkkdUP1o2ImAo&iflsig=ANes7DEAAAAAZd4pUWAMCjsWD4IkMsjT0YDe-RBXXUeK'"
      ]
     },
     "execution_count": 33,
     "metadata": {},
     "output_type": "execute_result"
    }
   ],
   "source": [
    "# .current_url retorna el url de la página del navegador.\n",
    "\n",
    "browser.current_url"
   ]
  },
  {
   "cell_type": "code",
   "execution_count": null,
   "id": "e0c9a2bd",
   "metadata": {},
   "outputs": [],
   "source": [
    "# Con .page_source sacamos el html de esa página\n",
    "\n",
    "browser.page_source"
   ]
  },
  {
   "cell_type": "code",
   "execution_count": 34,
   "id": "c067c6f1",
   "metadata": {},
   "outputs": [],
   "source": [
    "# En este punto ya podemos usar BeautifulSoup para sacar la información.\n",
    "\n",
    "soup = BeautifulSoup(browser.page_source, \"html.parser\")"
   ]
  },
  {
   "cell_type": "code",
   "execution_count": 35,
   "id": "88c1755a",
   "metadata": {},
   "outputs": [
    {
     "data": {
      "text/plain": [
       "['Python España',\n",
       " 'Welcome to Python.org',\n",
       " 'Download Python',\n",
       " '¿Qué es Python? - Explicación del lenguaje Python - AWS',\n",
       " '¿Es muy difícil aprender a programar Python? - Quora',\n",
       " 'Descripción del puesto: Desarrollador de Python (m/h/x)',\n",
       " '¿En cuánto tiempo puedo aprender Python? (+ consejos de aprendizaje)',\n",
       " 'Python - Wikipedia, la enciclopedia libre',\n",
       " '¿Qué es Python? - Explicación del lenguaje Python - AWS',\n",
       " 'Online Python - IDE, Editor, Compiler, Interpreter',\n",
       " 'Aprende Python',\n",
       " 'Qué es Python, para qué sirve y cómo se usa (+ recursos para ...',\n",
       " 'Learn Python']"
      ]
     },
     "execution_count": 35,
     "metadata": {},
     "output_type": "execute_result"
    }
   ],
   "source": [
    "[x.text for x in soup.find_all(\"h3\")][:-4]"
   ]
  },
  {
   "cell_type": "code",
   "execution_count": 36,
   "id": "ed7cb155",
   "metadata": {},
   "outputs": [],
   "source": [
    "# Si queremos ir a la página anterior, podemos hacer:\n",
    "\n",
    "browser.back()"
   ]
  },
  {
   "cell_type": "code",
   "execution_count": 37,
   "id": "67077a62",
   "metadata": {},
   "outputs": [],
   "source": [
    "# Y si quisieramos cerrar el navegador:\n",
    "\n",
    "browser.quit()"
   ]
  },
  {
   "cell_type": "markdown",
   "id": "a7125b9f",
   "metadata": {},
   "source": [
    "### Guardar imagenes usando `requests` y `shutil`:"
   ]
  },
  {
   "cell_type": "code",
   "execution_count": 38,
   "id": "0cf2008c",
   "metadata": {},
   "outputs": [],
   "source": [
    "import requests\n",
    "\n",
    "import shutil"
   ]
  },
  {
   "cell_type": "code",
   "execution_count": 39,
   "id": "4e64ab07",
   "metadata": {},
   "outputs": [],
   "source": [
    "url = \"https://google.com/\"\n",
    "\n",
    "browser = webdriver.Chrome()\n",
    "\n",
    "browser.get(url)\n",
    "\n",
    "sleep(3)\n",
    "\n",
    "soup = BeautifulSoup(browser.page_source, \"html.parser\")"
   ]
  },
  {
   "cell_type": "code",
   "execution_count": 41,
   "id": "0f0f7155",
   "metadata": {},
   "outputs": [
    {
     "data": {
      "text/plain": [
       "'https://www.google.com/images/branding/googlelogo/2x/googlelogo_color_272x92dp.png'"
      ]
     },
     "execution_count": 41,
     "metadata": {},
     "output_type": "execute_result"
    }
   ],
   "source": [
    "img_enlace = soup.find(\"img\", class_ = \"lnXdpd\")[\"src\"]\n",
    "\n",
    "img_enlace = f'https://www.google.com{img_enlace}'\n",
    "\n",
    "img_enlace"
   ]
  },
  {
   "cell_type": "code",
   "execution_count": 42,
   "id": "9796bb5c",
   "metadata": {},
   "outputs": [],
   "source": [
    "response_img = requests.get(img_enlace, stream = True)\n",
    "\n",
    "with open(\"google.png\", \"bw\") as file:\n",
    "    \n",
    "    response_img.raw.decode_content = True\n",
    "    \n",
    "    shutil.copyfileobj(response_img.raw, file)"
   ]
  },
  {
   "cell_type": "code",
   "execution_count": null,
   "id": "0cc6d203",
   "metadata": {},
   "outputs": [],
   "source": [
    "################################################################################################################################"
   ]
  }
 ],
 "metadata": {
  "kernelspec": {
   "display_name": "Python 3 (ipykernel)",
   "language": "python",
   "name": "python3"
  },
  "language_info": {
   "codemirror_mode": {
    "name": "ipython",
    "version": 3
   },
   "file_extension": ".py",
   "mimetype": "text/x-python",
   "name": "python",
   "nbconvert_exporter": "python",
   "pygments_lexer": "ipython3",
   "version": "3.10.12"
  }
 },
 "nbformat": 4,
 "nbformat_minor": 5
}
