{
 "cells": [
  {
   "cell_type": "markdown",
   "id": "725a31ea",
   "metadata": {},
   "source": [
    "## Ejercicios pandas 1"
   ]
  },
  {
   "cell_type": "code",
   "execution_count": 2,
   "id": "fec45fd2",
   "metadata": {},
   "outputs": [],
   "source": [
    "import pandas as pd"
   ]
  },
  {
   "cell_type": "markdown",
   "id": "998e7753",
   "metadata": {},
   "source": [
    "### Ejercicio 1:\n",
    "- Lee el archivo **\"Canada.xlsx\"** y guardalo en la variable **`df`**"
   ]
  },
  {
   "cell_type": "code",
   "execution_count": 3,
   "id": "3c01c91d-e584-4790-842d-815254cfb0cf",
   "metadata": {},
   "outputs": [
    {
     "name": "stdout",
     "output_type": "stream",
     "text": [
      "Requirement already satisfied: openpyxl in /home/fede/Documents/venv/lib/python3.10/site-packages (3.0.10)\n",
      "Requirement already satisfied: et-xmlfile in /home/fede/Documents/venv/lib/python3.10/site-packages (from openpyxl) (1.1.0)\n"
     ]
    }
   ],
   "source": [
    "!pip install openpyxl"
   ]
  },
  {
   "cell_type": "code",
   "execution_count": 4,
   "id": "a4427c4e-ac9b-4967-9e86-22978b307b52",
   "metadata": {},
   "outputs": [],
   "source": [
    "df = pd.read_excel(\"Data/Canada.xlsx\")"
   ]
  },
  {
   "cell_type": "markdown",
   "id": "22183796",
   "metadata": {},
   "source": [
    "### Ejercicio 2:\n",
    "- Mostrar el tamaño de DataFrame."
   ]
  },
  {
   "cell_type": "code",
   "execution_count": 5,
   "id": "2db0252b",
   "metadata": {},
   "outputs": [
    {
     "data": {
      "text/plain": [
       "(195, 41)"
      ]
     },
     "execution_count": 5,
     "metadata": {},
     "output_type": "execute_result"
    }
   ],
   "source": [
    "df.shape"
   ]
  },
  {
   "cell_type": "markdown",
   "id": "df0584c6",
   "metadata": {},
   "source": [
    "### Ejercicio 3:\n",
    "- Mostrar las primeras 3 filas."
   ]
  },
  {
   "cell_type": "code",
   "execution_count": 6,
   "id": "94b2f4c4",
   "metadata": {},
   "outputs": [
    {
     "data": {
      "text/html": [
       "<div>\n",
       "<style scoped>\n",
       "    .dataframe tbody tr th:only-of-type {\n",
       "        vertical-align: middle;\n",
       "    }\n",
       "\n",
       "    .dataframe tbody tr th {\n",
       "        vertical-align: top;\n",
       "    }\n",
       "\n",
       "    .dataframe thead th {\n",
       "        text-align: right;\n",
       "    }\n",
       "</style>\n",
       "<table border=\"1\" class=\"dataframe\">\n",
       "  <thead>\n",
       "    <tr style=\"text-align: right;\">\n",
       "      <th></th>\n",
       "      <th>Tipo</th>\n",
       "      <th>Pais</th>\n",
       "      <th>Area</th>\n",
       "      <th>Continente</th>\n",
       "      <th>Region</th>\n",
       "      <th>Nombre de region</th>\n",
       "      <th>Tipo de region</th>\n",
       "      <th>1980</th>\n",
       "      <th>1981</th>\n",
       "      <th>1982</th>\n",
       "      <th>...</th>\n",
       "      <th>2004</th>\n",
       "      <th>2005</th>\n",
       "      <th>2006</th>\n",
       "      <th>2007</th>\n",
       "      <th>2008</th>\n",
       "      <th>2009</th>\n",
       "      <th>2010</th>\n",
       "      <th>2011</th>\n",
       "      <th>2012</th>\n",
       "      <th>2013</th>\n",
       "    </tr>\n",
       "  </thead>\n",
       "  <tbody>\n",
       "    <tr>\n",
       "      <th>0</th>\n",
       "      <td>Immigrants</td>\n",
       "      <td>Afghanistan</td>\n",
       "      <td>935</td>\n",
       "      <td>Asia</td>\n",
       "      <td>5501</td>\n",
       "      <td>Southern Asia</td>\n",
       "      <td>Developing regions</td>\n",
       "      <td>16</td>\n",
       "      <td>39</td>\n",
       "      <td>39</td>\n",
       "      <td>...</td>\n",
       "      <td>2978</td>\n",
       "      <td>3436</td>\n",
       "      <td>3009</td>\n",
       "      <td>2652</td>\n",
       "      <td>2111</td>\n",
       "      <td>1746</td>\n",
       "      <td>1758</td>\n",
       "      <td>2203</td>\n",
       "      <td>2635</td>\n",
       "      <td>2004</td>\n",
       "    </tr>\n",
       "    <tr>\n",
       "      <th>1</th>\n",
       "      <td>Immigrants</td>\n",
       "      <td>Albania</td>\n",
       "      <td>908</td>\n",
       "      <td>Europe</td>\n",
       "      <td>925</td>\n",
       "      <td>Southern Europe</td>\n",
       "      <td>Developed regions</td>\n",
       "      <td>1</td>\n",
       "      <td>0</td>\n",
       "      <td>0</td>\n",
       "      <td>...</td>\n",
       "      <td>1450</td>\n",
       "      <td>1223</td>\n",
       "      <td>856</td>\n",
       "      <td>702</td>\n",
       "      <td>560</td>\n",
       "      <td>716</td>\n",
       "      <td>561</td>\n",
       "      <td>539</td>\n",
       "      <td>620</td>\n",
       "      <td>603</td>\n",
       "    </tr>\n",
       "    <tr>\n",
       "      <th>2</th>\n",
       "      <td>Immigrants</td>\n",
       "      <td>Algeria</td>\n",
       "      <td>903</td>\n",
       "      <td>Africa</td>\n",
       "      <td>912</td>\n",
       "      <td>Northern Africa</td>\n",
       "      <td>Developing regions</td>\n",
       "      <td>80</td>\n",
       "      <td>67</td>\n",
       "      <td>71</td>\n",
       "      <td>...</td>\n",
       "      <td>3616</td>\n",
       "      <td>3626</td>\n",
       "      <td>4807</td>\n",
       "      <td>3623</td>\n",
       "      <td>4005</td>\n",
       "      <td>5393</td>\n",
       "      <td>4752</td>\n",
       "      <td>4325</td>\n",
       "      <td>3774</td>\n",
       "      <td>4331</td>\n",
       "    </tr>\n",
       "  </tbody>\n",
       "</table>\n",
       "<p>3 rows × 41 columns</p>\n",
       "</div>"
      ],
      "text/plain": [
       "         Tipo         Pais  Area Continente  Region Nombre de region  \\\n",
       "0  Immigrants  Afghanistan   935       Asia    5501    Southern Asia   \n",
       "1  Immigrants      Albania   908     Europe     925  Southern Europe   \n",
       "2  Immigrants      Algeria   903     Africa     912  Northern Africa   \n",
       "\n",
       "       Tipo de region  1980  1981  1982  ...  2004  2005  2006  2007  2008  \\\n",
       "0  Developing regions    16    39    39  ...  2978  3436  3009  2652  2111   \n",
       "1   Developed regions     1     0     0  ...  1450  1223   856   702   560   \n",
       "2  Developing regions    80    67    71  ...  3616  3626  4807  3623  4005   \n",
       "\n",
       "   2009  2010  2011  2012  2013  \n",
       "0  1746  1758  2203  2635  2004  \n",
       "1   716   561   539   620   603  \n",
       "2  5393  4752  4325  3774  4331  \n",
       "\n",
       "[3 rows x 41 columns]"
      ]
     },
     "execution_count": 6,
     "metadata": {},
     "output_type": "execute_result"
    }
   ],
   "source": [
    "df.head(3)"
   ]
  },
  {
   "cell_type": "code",
   "execution_count": null,
   "id": "d6d61967",
   "metadata": {},
   "outputs": [],
   "source": []
  },
  {
   "cell_type": "code",
   "execution_count": null,
   "id": "93562c3f",
   "metadata": {},
   "outputs": [],
   "source": []
  },
  {
   "cell_type": "markdown",
   "id": "014adda6",
   "metadata": {},
   "source": [
    "### Ejercicio 4:\n",
    "- Mostrar las últimas 10 filas."
   ]
  },
  {
   "cell_type": "code",
   "execution_count": 7,
   "id": "f1c89817",
   "metadata": {},
   "outputs": [
    {
     "data": {
      "text/html": [
       "<div>\n",
       "<style scoped>\n",
       "    .dataframe tbody tr th:only-of-type {\n",
       "        vertical-align: middle;\n",
       "    }\n",
       "\n",
       "    .dataframe tbody tr th {\n",
       "        vertical-align: top;\n",
       "    }\n",
       "\n",
       "    .dataframe thead th {\n",
       "        text-align: right;\n",
       "    }\n",
       "</style>\n",
       "<table border=\"1\" class=\"dataframe\">\n",
       "  <thead>\n",
       "    <tr style=\"text-align: right;\">\n",
       "      <th></th>\n",
       "      <th>Tipo</th>\n",
       "      <th>Pais</th>\n",
       "      <th>Area</th>\n",
       "      <th>Continente</th>\n",
       "      <th>Region</th>\n",
       "      <th>Nombre de region</th>\n",
       "      <th>Tipo de region</th>\n",
       "      <th>1980</th>\n",
       "      <th>1981</th>\n",
       "      <th>1982</th>\n",
       "      <th>...</th>\n",
       "      <th>2004</th>\n",
       "      <th>2005</th>\n",
       "      <th>2006</th>\n",
       "      <th>2007</th>\n",
       "      <th>2008</th>\n",
       "      <th>2009</th>\n",
       "      <th>2010</th>\n",
       "      <th>2011</th>\n",
       "      <th>2012</th>\n",
       "      <th>2013</th>\n",
       "    </tr>\n",
       "  </thead>\n",
       "  <tbody>\n",
       "    <tr>\n",
       "      <th>185</th>\n",
       "      <td>Immigrants</td>\n",
       "      <td>United States of America</td>\n",
       "      <td>905</td>\n",
       "      <td>Northern America</td>\n",
       "      <td>905</td>\n",
       "      <td>Northern America</td>\n",
       "      <td>Developed regions</td>\n",
       "      <td>9378</td>\n",
       "      <td>10030</td>\n",
       "      <td>9074</td>\n",
       "      <td>...</td>\n",
       "      <td>6990</td>\n",
       "      <td>8394</td>\n",
       "      <td>9613</td>\n",
       "      <td>9463</td>\n",
       "      <td>10190</td>\n",
       "      <td>8995</td>\n",
       "      <td>8142</td>\n",
       "      <td>7676</td>\n",
       "      <td>7891</td>\n",
       "      <td>8501</td>\n",
       "    </tr>\n",
       "    <tr>\n",
       "      <th>186</th>\n",
       "      <td>Immigrants</td>\n",
       "      <td>Uruguay</td>\n",
       "      <td>904</td>\n",
       "      <td>Latin America and the Caribbean</td>\n",
       "      <td>931</td>\n",
       "      <td>South America</td>\n",
       "      <td>Developing regions</td>\n",
       "      <td>128</td>\n",
       "      <td>132</td>\n",
       "      <td>146</td>\n",
       "      <td>...</td>\n",
       "      <td>130</td>\n",
       "      <td>217</td>\n",
       "      <td>175</td>\n",
       "      <td>147</td>\n",
       "      <td>160</td>\n",
       "      <td>99</td>\n",
       "      <td>93</td>\n",
       "      <td>81</td>\n",
       "      <td>47</td>\n",
       "      <td>58</td>\n",
       "    </tr>\n",
       "    <tr>\n",
       "      <th>187</th>\n",
       "      <td>Immigrants</td>\n",
       "      <td>Uzbekistan</td>\n",
       "      <td>935</td>\n",
       "      <td>Asia</td>\n",
       "      <td>5500</td>\n",
       "      <td>Central Asia</td>\n",
       "      <td>Developing regions</td>\n",
       "      <td>0</td>\n",
       "      <td>0</td>\n",
       "      <td>0</td>\n",
       "      <td>...</td>\n",
       "      <td>175</td>\n",
       "      <td>330</td>\n",
       "      <td>262</td>\n",
       "      <td>284</td>\n",
       "      <td>215</td>\n",
       "      <td>288</td>\n",
       "      <td>289</td>\n",
       "      <td>162</td>\n",
       "      <td>235</td>\n",
       "      <td>167</td>\n",
       "    </tr>\n",
       "    <tr>\n",
       "      <th>188</th>\n",
       "      <td>Immigrants</td>\n",
       "      <td>Vanuatu</td>\n",
       "      <td>909</td>\n",
       "      <td>Oceania</td>\n",
       "      <td>928</td>\n",
       "      <td>Melanesia</td>\n",
       "      <td>Developing regions</td>\n",
       "      <td>0</td>\n",
       "      <td>0</td>\n",
       "      <td>0</td>\n",
       "      <td>...</td>\n",
       "      <td>1</td>\n",
       "      <td>1</td>\n",
       "      <td>1</td>\n",
       "      <td>0</td>\n",
       "      <td>0</td>\n",
       "      <td>1</td>\n",
       "      <td>0</td>\n",
       "      <td>0</td>\n",
       "      <td>0</td>\n",
       "      <td>0</td>\n",
       "    </tr>\n",
       "    <tr>\n",
       "      <th>189</th>\n",
       "      <td>Immigrants</td>\n",
       "      <td>Venezuela (Bolivarian Republic of)</td>\n",
       "      <td>904</td>\n",
       "      <td>Latin America and the Caribbean</td>\n",
       "      <td>931</td>\n",
       "      <td>South America</td>\n",
       "      <td>Developing regions</td>\n",
       "      <td>103</td>\n",
       "      <td>117</td>\n",
       "      <td>174</td>\n",
       "      <td>...</td>\n",
       "      <td>1224</td>\n",
       "      <td>1211</td>\n",
       "      <td>1192</td>\n",
       "      <td>1335</td>\n",
       "      <td>1239</td>\n",
       "      <td>1353</td>\n",
       "      <td>998</td>\n",
       "      <td>1452</td>\n",
       "      <td>1373</td>\n",
       "      <td>1022</td>\n",
       "    </tr>\n",
       "    <tr>\n",
       "      <th>190</th>\n",
       "      <td>Immigrants</td>\n",
       "      <td>Viet Nam</td>\n",
       "      <td>935</td>\n",
       "      <td>Asia</td>\n",
       "      <td>920</td>\n",
       "      <td>South-Eastern Asia</td>\n",
       "      <td>Developing regions</td>\n",
       "      <td>1191</td>\n",
       "      <td>1829</td>\n",
       "      <td>2162</td>\n",
       "      <td>...</td>\n",
       "      <td>1816</td>\n",
       "      <td>1852</td>\n",
       "      <td>3153</td>\n",
       "      <td>2574</td>\n",
       "      <td>1784</td>\n",
       "      <td>2171</td>\n",
       "      <td>1942</td>\n",
       "      <td>1723</td>\n",
       "      <td>1731</td>\n",
       "      <td>2112</td>\n",
       "    </tr>\n",
       "    <tr>\n",
       "      <th>191</th>\n",
       "      <td>Immigrants</td>\n",
       "      <td>Western Sahara</td>\n",
       "      <td>903</td>\n",
       "      <td>Africa</td>\n",
       "      <td>912</td>\n",
       "      <td>Northern Africa</td>\n",
       "      <td>Developing regions</td>\n",
       "      <td>0</td>\n",
       "      <td>0</td>\n",
       "      <td>0</td>\n",
       "      <td>...</td>\n",
       "      <td>0</td>\n",
       "      <td>0</td>\n",
       "      <td>1</td>\n",
       "      <td>0</td>\n",
       "      <td>0</td>\n",
       "      <td>0</td>\n",
       "      <td>0</td>\n",
       "      <td>0</td>\n",
       "      <td>0</td>\n",
       "      <td>0</td>\n",
       "    </tr>\n",
       "    <tr>\n",
       "      <th>192</th>\n",
       "      <td>Immigrants</td>\n",
       "      <td>Yemen</td>\n",
       "      <td>935</td>\n",
       "      <td>Asia</td>\n",
       "      <td>922</td>\n",
       "      <td>Western Asia</td>\n",
       "      <td>Developing regions</td>\n",
       "      <td>1</td>\n",
       "      <td>2</td>\n",
       "      <td>1</td>\n",
       "      <td>...</td>\n",
       "      <td>124</td>\n",
       "      <td>161</td>\n",
       "      <td>140</td>\n",
       "      <td>122</td>\n",
       "      <td>133</td>\n",
       "      <td>128</td>\n",
       "      <td>211</td>\n",
       "      <td>160</td>\n",
       "      <td>174</td>\n",
       "      <td>217</td>\n",
       "    </tr>\n",
       "    <tr>\n",
       "      <th>193</th>\n",
       "      <td>Immigrants</td>\n",
       "      <td>Zambia</td>\n",
       "      <td>903</td>\n",
       "      <td>Africa</td>\n",
       "      <td>910</td>\n",
       "      <td>Eastern Africa</td>\n",
       "      <td>Developing regions</td>\n",
       "      <td>11</td>\n",
       "      <td>17</td>\n",
       "      <td>11</td>\n",
       "      <td>...</td>\n",
       "      <td>56</td>\n",
       "      <td>91</td>\n",
       "      <td>77</td>\n",
       "      <td>71</td>\n",
       "      <td>64</td>\n",
       "      <td>60</td>\n",
       "      <td>102</td>\n",
       "      <td>69</td>\n",
       "      <td>46</td>\n",
       "      <td>59</td>\n",
       "    </tr>\n",
       "    <tr>\n",
       "      <th>194</th>\n",
       "      <td>Immigrants</td>\n",
       "      <td>Zimbabwe</td>\n",
       "      <td>903</td>\n",
       "      <td>Africa</td>\n",
       "      <td>910</td>\n",
       "      <td>Eastern Africa</td>\n",
       "      <td>Developing regions</td>\n",
       "      <td>72</td>\n",
       "      <td>114</td>\n",
       "      <td>102</td>\n",
       "      <td>...</td>\n",
       "      <td>1450</td>\n",
       "      <td>615</td>\n",
       "      <td>454</td>\n",
       "      <td>663</td>\n",
       "      <td>611</td>\n",
       "      <td>508</td>\n",
       "      <td>494</td>\n",
       "      <td>434</td>\n",
       "      <td>437</td>\n",
       "      <td>407</td>\n",
       "    </tr>\n",
       "  </tbody>\n",
       "</table>\n",
       "<p>10 rows × 41 columns</p>\n",
       "</div>"
      ],
      "text/plain": [
       "           Tipo                                Pais  Area  \\\n",
       "185  Immigrants            United States of America   905   \n",
       "186  Immigrants                             Uruguay   904   \n",
       "187  Immigrants                          Uzbekistan   935   \n",
       "188  Immigrants                             Vanuatu   909   \n",
       "189  Immigrants  Venezuela (Bolivarian Republic of)   904   \n",
       "190  Immigrants                            Viet Nam   935   \n",
       "191  Immigrants                      Western Sahara   903   \n",
       "192  Immigrants                               Yemen   935   \n",
       "193  Immigrants                              Zambia   903   \n",
       "194  Immigrants                            Zimbabwe   903   \n",
       "\n",
       "                          Continente  Region    Nombre de region  \\\n",
       "185                 Northern America     905    Northern America   \n",
       "186  Latin America and the Caribbean     931       South America   \n",
       "187                             Asia    5500        Central Asia   \n",
       "188                          Oceania     928           Melanesia   \n",
       "189  Latin America and the Caribbean     931       South America   \n",
       "190                             Asia     920  South-Eastern Asia   \n",
       "191                           Africa     912     Northern Africa   \n",
       "192                             Asia     922        Western Asia   \n",
       "193                           Africa     910      Eastern Africa   \n",
       "194                           Africa     910      Eastern Africa   \n",
       "\n",
       "         Tipo de region  1980   1981  1982  ...  2004  2005  2006  2007  \\\n",
       "185   Developed regions  9378  10030  9074  ...  6990  8394  9613  9463   \n",
       "186  Developing regions   128    132   146  ...   130   217   175   147   \n",
       "187  Developing regions     0      0     0  ...   175   330   262   284   \n",
       "188  Developing regions     0      0     0  ...     1     1     1     0   \n",
       "189  Developing regions   103    117   174  ...  1224  1211  1192  1335   \n",
       "190  Developing regions  1191   1829  2162  ...  1816  1852  3153  2574   \n",
       "191  Developing regions     0      0     0  ...     0     0     1     0   \n",
       "192  Developing regions     1      2     1  ...   124   161   140   122   \n",
       "193  Developing regions    11     17    11  ...    56    91    77    71   \n",
       "194  Developing regions    72    114   102  ...  1450   615   454   663   \n",
       "\n",
       "      2008  2009  2010  2011  2012  2013  \n",
       "185  10190  8995  8142  7676  7891  8501  \n",
       "186    160    99    93    81    47    58  \n",
       "187    215   288   289   162   235   167  \n",
       "188      0     1     0     0     0     0  \n",
       "189   1239  1353   998  1452  1373  1022  \n",
       "190   1784  2171  1942  1723  1731  2112  \n",
       "191      0     0     0     0     0     0  \n",
       "192    133   128   211   160   174   217  \n",
       "193     64    60   102    69    46    59  \n",
       "194    611   508   494   434   437   407  \n",
       "\n",
       "[10 rows x 41 columns]"
      ]
     },
     "execution_count": 7,
     "metadata": {},
     "output_type": "execute_result"
    }
   ],
   "source": [
    "df.tail(10)"
   ]
  },
  {
   "cell_type": "code",
   "execution_count": null,
   "id": "8efddb4f",
   "metadata": {},
   "outputs": [],
   "source": []
  },
  {
   "cell_type": "code",
   "execution_count": null,
   "id": "74307044",
   "metadata": {},
   "outputs": [],
   "source": []
  },
  {
   "cell_type": "markdown",
   "id": "b904d434",
   "metadata": {},
   "source": [
    "### Ejercicio 5:\n",
    "- Mostrar las estadisticas del DataFrame."
   ]
  },
  {
   "cell_type": "code",
   "execution_count": 8,
   "id": "0b24ce9b",
   "metadata": {},
   "outputs": [
    {
     "data": {
      "text/html": [
       "<div>\n",
       "<style scoped>\n",
       "    .dataframe tbody tr th:only-of-type {\n",
       "        vertical-align: middle;\n",
       "    }\n",
       "\n",
       "    .dataframe tbody tr th {\n",
       "        vertical-align: top;\n",
       "    }\n",
       "\n",
       "    .dataframe thead th {\n",
       "        text-align: right;\n",
       "    }\n",
       "</style>\n",
       "<table border=\"1\" class=\"dataframe\">\n",
       "  <thead>\n",
       "    <tr style=\"text-align: right;\">\n",
       "      <th></th>\n",
       "      <th>Area</th>\n",
       "      <th>Region</th>\n",
       "      <th>1980</th>\n",
       "      <th>1981</th>\n",
       "      <th>1982</th>\n",
       "      <th>1983</th>\n",
       "      <th>1984</th>\n",
       "      <th>1985</th>\n",
       "      <th>1986</th>\n",
       "      <th>1987</th>\n",
       "      <th>...</th>\n",
       "      <th>2004</th>\n",
       "      <th>2005</th>\n",
       "      <th>2006</th>\n",
       "      <th>2007</th>\n",
       "      <th>2008</th>\n",
       "      <th>2009</th>\n",
       "      <th>2010</th>\n",
       "      <th>2011</th>\n",
       "      <th>2012</th>\n",
       "      <th>2013</th>\n",
       "    </tr>\n",
       "  </thead>\n",
       "  <tbody>\n",
       "    <tr>\n",
       "      <th>count</th>\n",
       "      <td>195.000000</td>\n",
       "      <td>195.000000</td>\n",
       "      <td>195.000000</td>\n",
       "      <td>195.000000</td>\n",
       "      <td>195.000000</td>\n",
       "      <td>195.000000</td>\n",
       "      <td>195.000000</td>\n",
       "      <td>195.000000</td>\n",
       "      <td>195.000000</td>\n",
       "      <td>195.000000</td>\n",
       "      <td>...</td>\n",
       "      <td>195.000000</td>\n",
       "      <td>195.000000</td>\n",
       "      <td>195.000000</td>\n",
       "      <td>195.000000</td>\n",
       "      <td>195.000000</td>\n",
       "      <td>195.000000</td>\n",
       "      <td>195.000000</td>\n",
       "      <td>195.000000</td>\n",
       "      <td>195.000000</td>\n",
       "      <td>195.000000</td>\n",
       "    </tr>\n",
       "    <tr>\n",
       "      <th>mean</th>\n",
       "      <td>912.764103</td>\n",
       "      <td>1249.015385</td>\n",
       "      <td>508.394872</td>\n",
       "      <td>566.989744</td>\n",
       "      <td>534.723077</td>\n",
       "      <td>387.435897</td>\n",
       "      <td>376.497436</td>\n",
       "      <td>358.861538</td>\n",
       "      <td>441.271795</td>\n",
       "      <td>691.133333</td>\n",
       "      <td>...</td>\n",
       "      <td>1190.169231</td>\n",
       "      <td>1320.292308</td>\n",
       "      <td>1266.958974</td>\n",
       "      <td>1191.820513</td>\n",
       "      <td>1246.394872</td>\n",
       "      <td>1275.733333</td>\n",
       "      <td>1420.287179</td>\n",
       "      <td>1262.533333</td>\n",
       "      <td>1313.958974</td>\n",
       "      <td>1320.702564</td>\n",
       "    </tr>\n",
       "    <tr>\n",
       "      <th>std</th>\n",
       "      <td>13.082835</td>\n",
       "      <td>1185.526885</td>\n",
       "      <td>1949.588546</td>\n",
       "      <td>2152.643752</td>\n",
       "      <td>1866.997511</td>\n",
       "      <td>1204.333597</td>\n",
       "      <td>1198.246371</td>\n",
       "      <td>1079.309600</td>\n",
       "      <td>1225.576630</td>\n",
       "      <td>2109.205607</td>\n",
       "      <td>...</td>\n",
       "      <td>3710.505369</td>\n",
       "      <td>4425.957828</td>\n",
       "      <td>3926.717747</td>\n",
       "      <td>3443.542409</td>\n",
       "      <td>3694.573544</td>\n",
       "      <td>3829.630424</td>\n",
       "      <td>4462.946328</td>\n",
       "      <td>4030.084313</td>\n",
       "      <td>4247.555161</td>\n",
       "      <td>4237.951988</td>\n",
       "    </tr>\n",
       "    <tr>\n",
       "      <th>min</th>\n",
       "      <td>903.000000</td>\n",
       "      <td>905.000000</td>\n",
       "      <td>0.000000</td>\n",
       "      <td>0.000000</td>\n",
       "      <td>0.000000</td>\n",
       "      <td>0.000000</td>\n",
       "      <td>0.000000</td>\n",
       "      <td>0.000000</td>\n",
       "      <td>0.000000</td>\n",
       "      <td>0.000000</td>\n",
       "      <td>...</td>\n",
       "      <td>0.000000</td>\n",
       "      <td>0.000000</td>\n",
       "      <td>0.000000</td>\n",
       "      <td>0.000000</td>\n",
       "      <td>0.000000</td>\n",
       "      <td>0.000000</td>\n",
       "      <td>0.000000</td>\n",
       "      <td>0.000000</td>\n",
       "      <td>0.000000</td>\n",
       "      <td>0.000000</td>\n",
       "    </tr>\n",
       "    <tr>\n",
       "      <th>25%</th>\n",
       "      <td>903.000000</td>\n",
       "      <td>914.000000</td>\n",
       "      <td>0.000000</td>\n",
       "      <td>0.000000</td>\n",
       "      <td>0.000000</td>\n",
       "      <td>0.000000</td>\n",
       "      <td>0.000000</td>\n",
       "      <td>0.000000</td>\n",
       "      <td>0.500000</td>\n",
       "      <td>0.500000</td>\n",
       "      <td>...</td>\n",
       "      <td>19.000000</td>\n",
       "      <td>28.500000</td>\n",
       "      <td>25.000000</td>\n",
       "      <td>31.000000</td>\n",
       "      <td>31.000000</td>\n",
       "      <td>36.000000</td>\n",
       "      <td>40.500000</td>\n",
       "      <td>37.500000</td>\n",
       "      <td>42.500000</td>\n",
       "      <td>45.000000</td>\n",
       "    </tr>\n",
       "    <tr>\n",
       "      <th>50%</th>\n",
       "      <td>908.000000</td>\n",
       "      <td>922.000000</td>\n",
       "      <td>13.000000</td>\n",
       "      <td>10.000000</td>\n",
       "      <td>11.000000</td>\n",
       "      <td>12.000000</td>\n",
       "      <td>13.000000</td>\n",
       "      <td>17.000000</td>\n",
       "      <td>18.000000</td>\n",
       "      <td>26.000000</td>\n",
       "      <td>...</td>\n",
       "      <td>191.000000</td>\n",
       "      <td>210.000000</td>\n",
       "      <td>218.000000</td>\n",
       "      <td>198.000000</td>\n",
       "      <td>205.000000</td>\n",
       "      <td>214.000000</td>\n",
       "      <td>211.000000</td>\n",
       "      <td>179.000000</td>\n",
       "      <td>233.000000</td>\n",
       "      <td>213.000000</td>\n",
       "    </tr>\n",
       "    <tr>\n",
       "      <th>75%</th>\n",
       "      <td>922.000000</td>\n",
       "      <td>925.500000</td>\n",
       "      <td>251.500000</td>\n",
       "      <td>295.500000</td>\n",
       "      <td>275.000000</td>\n",
       "      <td>173.000000</td>\n",
       "      <td>181.000000</td>\n",
       "      <td>197.000000</td>\n",
       "      <td>254.000000</td>\n",
       "      <td>434.000000</td>\n",
       "      <td>...</td>\n",
       "      <td>756.500000</td>\n",
       "      <td>832.000000</td>\n",
       "      <td>842.000000</td>\n",
       "      <td>899.000000</td>\n",
       "      <td>934.500000</td>\n",
       "      <td>888.000000</td>\n",
       "      <td>932.000000</td>\n",
       "      <td>772.000000</td>\n",
       "      <td>783.000000</td>\n",
       "      <td>796.000000</td>\n",
       "    </tr>\n",
       "    <tr>\n",
       "      <th>max</th>\n",
       "      <td>935.000000</td>\n",
       "      <td>5501.000000</td>\n",
       "      <td>22045.000000</td>\n",
       "      <td>24796.000000</td>\n",
       "      <td>20620.000000</td>\n",
       "      <td>10015.000000</td>\n",
       "      <td>10170.000000</td>\n",
       "      <td>9564.000000</td>\n",
       "      <td>9470.000000</td>\n",
       "      <td>21337.000000</td>\n",
       "      <td>...</td>\n",
       "      <td>36619.000000</td>\n",
       "      <td>42584.000000</td>\n",
       "      <td>33848.000000</td>\n",
       "      <td>28742.000000</td>\n",
       "      <td>30037.000000</td>\n",
       "      <td>29622.000000</td>\n",
       "      <td>38617.000000</td>\n",
       "      <td>36765.000000</td>\n",
       "      <td>34315.000000</td>\n",
       "      <td>34129.000000</td>\n",
       "    </tr>\n",
       "  </tbody>\n",
       "</table>\n",
       "<p>8 rows × 36 columns</p>\n",
       "</div>"
      ],
      "text/plain": [
       "             Area       Region          1980          1981          1982  \\\n",
       "count  195.000000   195.000000    195.000000    195.000000    195.000000   \n",
       "mean   912.764103  1249.015385    508.394872    566.989744    534.723077   \n",
       "std     13.082835  1185.526885   1949.588546   2152.643752   1866.997511   \n",
       "min    903.000000   905.000000      0.000000      0.000000      0.000000   \n",
       "25%    903.000000   914.000000      0.000000      0.000000      0.000000   \n",
       "50%    908.000000   922.000000     13.000000     10.000000     11.000000   \n",
       "75%    922.000000   925.500000    251.500000    295.500000    275.000000   \n",
       "max    935.000000  5501.000000  22045.000000  24796.000000  20620.000000   \n",
       "\n",
       "               1983          1984         1985         1986          1987  \\\n",
       "count    195.000000    195.000000   195.000000   195.000000    195.000000   \n",
       "mean     387.435897    376.497436   358.861538   441.271795    691.133333   \n",
       "std     1204.333597   1198.246371  1079.309600  1225.576630   2109.205607   \n",
       "min        0.000000      0.000000     0.000000     0.000000      0.000000   \n",
       "25%        0.000000      0.000000     0.000000     0.500000      0.500000   \n",
       "50%       12.000000     13.000000    17.000000    18.000000     26.000000   \n",
       "75%      173.000000    181.000000   197.000000   254.000000    434.000000   \n",
       "max    10015.000000  10170.000000  9564.000000  9470.000000  21337.000000   \n",
       "\n",
       "       ...          2004          2005          2006          2007  \\\n",
       "count  ...    195.000000    195.000000    195.000000    195.000000   \n",
       "mean   ...   1190.169231   1320.292308   1266.958974   1191.820513   \n",
       "std    ...   3710.505369   4425.957828   3926.717747   3443.542409   \n",
       "min    ...      0.000000      0.000000      0.000000      0.000000   \n",
       "25%    ...     19.000000     28.500000     25.000000     31.000000   \n",
       "50%    ...    191.000000    210.000000    218.000000    198.000000   \n",
       "75%    ...    756.500000    832.000000    842.000000    899.000000   \n",
       "max    ...  36619.000000  42584.000000  33848.000000  28742.000000   \n",
       "\n",
       "               2008          2009          2010          2011          2012  \\\n",
       "count    195.000000    195.000000    195.000000    195.000000    195.000000   \n",
       "mean    1246.394872   1275.733333   1420.287179   1262.533333   1313.958974   \n",
       "std     3694.573544   3829.630424   4462.946328   4030.084313   4247.555161   \n",
       "min        0.000000      0.000000      0.000000      0.000000      0.000000   \n",
       "25%       31.000000     36.000000     40.500000     37.500000     42.500000   \n",
       "50%      205.000000    214.000000    211.000000    179.000000    233.000000   \n",
       "75%      934.500000    888.000000    932.000000    772.000000    783.000000   \n",
       "max    30037.000000  29622.000000  38617.000000  36765.000000  34315.000000   \n",
       "\n",
       "               2013  \n",
       "count    195.000000  \n",
       "mean    1320.702564  \n",
       "std     4237.951988  \n",
       "min        0.000000  \n",
       "25%       45.000000  \n",
       "50%      213.000000  \n",
       "75%      796.000000  \n",
       "max    34129.000000  \n",
       "\n",
       "[8 rows x 36 columns]"
      ]
     },
     "execution_count": 8,
     "metadata": {},
     "output_type": "execute_result"
    }
   ],
   "source": [
    "df.describe()"
   ]
  },
  {
   "cell_type": "code",
   "execution_count": null,
   "id": "98bd2376",
   "metadata": {},
   "outputs": [],
   "source": []
  },
  {
   "cell_type": "markdown",
   "id": "6d92361f",
   "metadata": {},
   "source": [
    "### Ejercicio 6:\n",
    "- Mostrar la información del DataFrame."
   ]
  },
  {
   "cell_type": "code",
   "execution_count": 9,
   "id": "316761a0",
   "metadata": {},
   "outputs": [
    {
     "name": "stdout",
     "output_type": "stream",
     "text": [
      "<class 'pandas.core.frame.DataFrame'>\n",
      "RangeIndex: 195 entries, 0 to 194\n",
      "Data columns (total 41 columns):\n",
      " #   Column            Non-Null Count  Dtype \n",
      "---  ------            --------------  ----- \n",
      " 0   Tipo              195 non-null    object\n",
      " 1   Pais              195 non-null    object\n",
      " 2   Area              195 non-null    int64 \n",
      " 3   Continente        195 non-null    object\n",
      " 4   Region            195 non-null    int64 \n",
      " 5   Nombre de region  195 non-null    object\n",
      " 6   Tipo de region    195 non-null    object\n",
      " 7   1980              195 non-null    int64 \n",
      " 8   1981              195 non-null    int64 \n",
      " 9   1982              195 non-null    int64 \n",
      " 10  1983              195 non-null    int64 \n",
      " 11  1984              195 non-null    int64 \n",
      " 12  1985              195 non-null    int64 \n",
      " 13  1986              195 non-null    int64 \n",
      " 14  1987              195 non-null    int64 \n",
      " 15  1988              195 non-null    int64 \n",
      " 16  1989              195 non-null    int64 \n",
      " 17  1990              195 non-null    int64 \n",
      " 18  1991              195 non-null    int64 \n",
      " 19  1992              195 non-null    int64 \n",
      " 20  1993              195 non-null    int64 \n",
      " 21  1994              195 non-null    int64 \n",
      " 22  1995              195 non-null    int64 \n",
      " 23  1996              195 non-null    int64 \n",
      " 24  1997              195 non-null    int64 \n",
      " 25  1998              195 non-null    int64 \n",
      " 26  1999              195 non-null    int64 \n",
      " 27  2000              195 non-null    int64 \n",
      " 28  2001              195 non-null    int64 \n",
      " 29  2002              195 non-null    int64 \n",
      " 30  2003              195 non-null    int64 \n",
      " 31  2004              195 non-null    int64 \n",
      " 32  2005              195 non-null    int64 \n",
      " 33  2006              195 non-null    int64 \n",
      " 34  2007              195 non-null    int64 \n",
      " 35  2008              195 non-null    int64 \n",
      " 36  2009              195 non-null    int64 \n",
      " 37  2010              195 non-null    int64 \n",
      " 38  2011              195 non-null    int64 \n",
      " 39  2012              195 non-null    int64 \n",
      " 40  2013              195 non-null    int64 \n",
      "dtypes: int64(36), object(5)\n",
      "memory usage: 62.6+ KB\n"
     ]
    }
   ],
   "source": [
    "df.info()"
   ]
  },
  {
   "cell_type": "code",
   "execution_count": null,
   "id": "8a67d56e",
   "metadata": {},
   "outputs": [],
   "source": []
  },
  {
   "cell_type": "code",
   "execution_count": null,
   "id": "705f487c",
   "metadata": {},
   "outputs": [],
   "source": []
  },
  {
   "cell_type": "markdown",
   "id": "07ffcabf",
   "metadata": {},
   "source": [
    "### Ejercicio 7:\n",
    "- Mostar las columnas del DataFrame en una lista."
   ]
  },
  {
   "cell_type": "code",
   "execution_count": 10,
   "id": "db3f22d0",
   "metadata": {},
   "outputs": [
    {
     "data": {
      "text/plain": [
       "Index([            'Tipo',             'Pais',             'Area',\n",
       "             'Continente',           'Region', 'Nombre de region',\n",
       "         'Tipo de region',               1980,               1981,\n",
       "                     1982,               1983,               1984,\n",
       "                     1985,               1986,               1987,\n",
       "                     1988,               1989,               1990,\n",
       "                     1991,               1992,               1993,\n",
       "                     1994,               1995,               1996,\n",
       "                     1997,               1998,               1999,\n",
       "                     2000,               2001,               2002,\n",
       "                     2003,               2004,               2005,\n",
       "                     2006,               2007,               2008,\n",
       "                     2009,               2010,               2011,\n",
       "                     2012,               2013],\n",
       "      dtype='object')"
      ]
     },
     "execution_count": 10,
     "metadata": {},
     "output_type": "execute_result"
    }
   ],
   "source": [
    "df.columns"
   ]
  },
  {
   "cell_type": "code",
   "execution_count": null,
   "id": "c6f75b90",
   "metadata": {},
   "outputs": [],
   "source": []
  },
  {
   "cell_type": "code",
   "execution_count": null,
   "id": "2f0201e5",
   "metadata": {},
   "outputs": [],
   "source": []
  },
  {
   "cell_type": "markdown",
   "id": "ce8b768b",
   "metadata": {},
   "source": [
    "### Ejercicio 8:\n",
    "- Eliminar las columnas: **`Tipo`**, **`Area`** y **`Region`**."
   ]
  },
  {
   "cell_type": "code",
   "execution_count": 11,
   "id": "ff5ae623",
   "metadata": {},
   "outputs": [],
   "source": [
    "columnas_eliminar = [\"Tipo\", \"Area\", \"Region\"]\n",
    "\n",
    "df = df.drop(columnas_eliminar, axis = 1)"
   ]
  },
  {
   "cell_type": "markdown",
   "id": "b16f92b6",
   "metadata": {},
   "source": [
    "### Ejercicio 9:\n",
    "- Obtener los valores únicos de la columna **`Continente`** en una lista."
   ]
  },
  {
   "cell_type": "code",
   "execution_count": 12,
   "id": "186d61ef",
   "metadata": {},
   "outputs": [],
   "source": [
    "continentes = df['Continente'].unique()"
   ]
  },
  {
   "cell_type": "code",
   "execution_count": 13,
   "id": "6672319e",
   "metadata": {},
   "outputs": [
    {
     "data": {
      "text/plain": [
       "array(['Asia', 'Europe', 'Africa', 'Oceania',\n",
       "       'Latin America and the Caribbean', 'Northern America'],\n",
       "      dtype=object)"
      ]
     },
     "execution_count": 13,
     "metadata": {},
     "output_type": "execute_result"
    }
   ],
   "source": [
    "continentes"
   ]
  },
  {
   "cell_type": "markdown",
   "id": "9a727b01",
   "metadata": {},
   "source": [
    "### Ejercicio 10:\n",
    "- Obtener el valor minimo del año 2000."
   ]
  },
  {
   "cell_type": "code",
   "execution_count": 14,
   "id": "bf6e133c",
   "metadata": {},
   "outputs": [
    {
     "data": {
      "text/plain": [
       "0"
      ]
     },
     "execution_count": 14,
     "metadata": {},
     "output_type": "execute_result"
    }
   ],
   "source": [
    "df[2000].min()"
   ]
  },
  {
   "cell_type": "markdown",
   "id": "f69b79a4",
   "metadata": {},
   "source": [
    "### Ejercicio 11:\n",
    "- Obtener los valores máximos de 1991-2000."
   ]
  },
  {
   "cell_type": "code",
   "execution_count": 15,
   "id": "76a62126",
   "metadata": {},
   "outputs": [
    {
     "data": {
      "text/plain": [
       "1991    23380\n",
       "1992    34123\n",
       "1993    33720\n",
       "1994    39231\n",
       "1995    30145\n",
       "1996    29322\n",
       "1997    22965\n",
       "1998    21049\n",
       "1999    30069\n",
       "2000    35529\n",
       "dtype: int64"
      ]
     },
     "execution_count": 15,
     "metadata": {},
     "output_type": "execute_result"
    }
   ],
   "source": [
    "df[range(1991, 2001)].max()"
   ]
  },
  {
   "cell_type": "markdown",
   "id": "fa13aa92",
   "metadata": {},
   "source": [
    "### Ejercicio 12:\n",
    "- Obtener una lista con la media de migración de todos los años."
   ]
  },
  {
   "cell_type": "code",
   "execution_count": 16,
   "id": "1b79ff80",
   "metadata": {},
   "outputs": [
    {
     "data": {
      "text/plain": [
       "1980     508.394872\n",
       "1981     566.989744\n",
       "1982     534.723077\n",
       "1983     387.435897\n",
       "1984     376.497436\n",
       "1985     358.861538\n",
       "1986     441.271795\n",
       "1987     691.133333\n",
       "1988     714.389744\n",
       "1989     843.241026\n",
       "1990     964.379487\n",
       "1991    1064.148718\n",
       "1992    1136.856410\n",
       "1993    1138.712821\n",
       "1994     993.153846\n",
       "1995     962.625641\n",
       "1996    1026.076923\n",
       "1997     989.153846\n",
       "1998     824.241026\n",
       "1999     922.143590\n",
       "2000    1111.343590\n",
       "2001    1244.323077\n",
       "2002    1144.158974\n",
       "2003    1114.343590\n",
       "2004    1190.169231\n",
       "2005    1320.292308\n",
       "2006    1266.958974\n",
       "2007    1191.820513\n",
       "2008    1246.394872\n",
       "2009    1275.733333\n",
       "2010    1420.287179\n",
       "2011    1262.533333\n",
       "2012    1313.958974\n",
       "2013    1320.702564\n",
       "dtype: float64"
      ]
     },
     "execution_count": 16,
     "metadata": {},
     "output_type": "execute_result"
    }
   ],
   "source": [
    "df.loc[:, 1980:].mean()"
   ]
  },
  {
   "cell_type": "code",
   "execution_count": null,
   "id": "de588efd",
   "metadata": {},
   "outputs": [],
   "source": []
  },
  {
   "cell_type": "code",
   "execution_count": null,
   "id": "dd50593a",
   "metadata": {},
   "outputs": [],
   "source": []
  },
  {
   "cell_type": "markdown",
   "id": "0164287c",
   "metadata": {},
   "source": [
    "### Ejercicio 13:\n",
    "- Obtener el país con más migración en el año 2010."
   ]
  },
  {
   "cell_type": "code",
   "execution_count": null,
   "id": "e0a2c9a8-383d-405c-9e67-1c92e0c14c99",
   "metadata": {},
   "outputs": [],
   "source": [
    "# Vamos a hacerlo de dos maneras y discutir sus ventajas y desvantajas\n",
    "# Una involucra filtrado y la otra no."
   ]
  },
  {
   "cell_type": "code",
   "execution_count": 19,
   "id": "2290d25f",
   "metadata": {},
   "outputs": [
    {
     "data": {
      "text/html": [
       "<div>\n",
       "<style scoped>\n",
       "    .dataframe tbody tr th:only-of-type {\n",
       "        vertical-align: middle;\n",
       "    }\n",
       "\n",
       "    .dataframe tbody tr th {\n",
       "        vertical-align: top;\n",
       "    }\n",
       "\n",
       "    .dataframe thead th {\n",
       "        text-align: right;\n",
       "    }\n",
       "</style>\n",
       "<table border=\"1\" class=\"dataframe\">\n",
       "  <thead>\n",
       "    <tr style=\"text-align: right;\">\n",
       "      <th></th>\n",
       "      <th>Pais</th>\n",
       "      <th>Continente</th>\n",
       "      <th>Nombre de region</th>\n",
       "      <th>Tipo de region</th>\n",
       "      <th>1980</th>\n",
       "      <th>1981</th>\n",
       "      <th>1982</th>\n",
       "      <th>1983</th>\n",
       "      <th>1984</th>\n",
       "      <th>1985</th>\n",
       "      <th>...</th>\n",
       "      <th>2004</th>\n",
       "      <th>2005</th>\n",
       "      <th>2006</th>\n",
       "      <th>2007</th>\n",
       "      <th>2008</th>\n",
       "      <th>2009</th>\n",
       "      <th>2010</th>\n",
       "      <th>2011</th>\n",
       "      <th>2012</th>\n",
       "      <th>2013</th>\n",
       "    </tr>\n",
       "  </thead>\n",
       "  <tbody>\n",
       "    <tr>\n",
       "      <th>136</th>\n",
       "      <td>Philippines</td>\n",
       "      <td>Asia</td>\n",
       "      <td>South-Eastern Asia</td>\n",
       "      <td>Developing regions</td>\n",
       "      <td>6051</td>\n",
       "      <td>5921</td>\n",
       "      <td>5249</td>\n",
       "      <td>4562</td>\n",
       "      <td>3801</td>\n",
       "      <td>3150</td>\n",
       "      <td>...</td>\n",
       "      <td>14004</td>\n",
       "      <td>18139</td>\n",
       "      <td>18400</td>\n",
       "      <td>19837</td>\n",
       "      <td>24887</td>\n",
       "      <td>28573</td>\n",
       "      <td>38617</td>\n",
       "      <td>36765</td>\n",
       "      <td>34315</td>\n",
       "      <td>29544</td>\n",
       "    </tr>\n",
       "  </tbody>\n",
       "</table>\n",
       "<p>1 rows × 38 columns</p>\n",
       "</div>"
      ],
      "text/plain": [
       "            Pais Continente    Nombre de region      Tipo de region  1980  \\\n",
       "136  Philippines       Asia  South-Eastern Asia  Developing regions  6051   \n",
       "\n",
       "     1981  1982  1983  1984  1985  ...   2004   2005   2006   2007   2008  \\\n",
       "136  5921  5249  4562  3801  3150  ...  14004  18139  18400  19837  24887   \n",
       "\n",
       "      2009   2010   2011   2012   2013  \n",
       "136  28573  38617  36765  34315  29544  \n",
       "\n",
       "[1 rows x 38 columns]"
      ]
     },
     "execution_count": 19,
     "metadata": {},
     "output_type": "execute_result"
    }
   ],
   "source": [
    "df.sort_values(by = 2010, ascending=False).head(1)"
   ]
  },
  {
   "cell_type": "code",
   "execution_count": 27,
   "id": "e5e6ea7a-c7f1-4801-9a3f-fc3cde7168c9",
   "metadata": {},
   "outputs": [
    {
     "data": {
      "text/plain": [
       "'Philippines'"
      ]
     },
     "execution_count": 27,
     "metadata": {},
     "output_type": "execute_result"
    }
   ],
   "source": [
    "df.sort_values(by = 2010, ascending=False)['Pais'].iloc[0]"
   ]
  },
  {
   "cell_type": "code",
   "execution_count": 24,
   "id": "9d5619ab-3ca7-4052-ba6f-69b73f4cf158",
   "metadata": {},
   "outputs": [
    {
     "data": {
      "text/html": [
       "<div>\n",
       "<style scoped>\n",
       "    .dataframe tbody tr th:only-of-type {\n",
       "        vertical-align: middle;\n",
       "    }\n",
       "\n",
       "    .dataframe tbody tr th {\n",
       "        vertical-align: top;\n",
       "    }\n",
       "\n",
       "    .dataframe thead th {\n",
       "        text-align: right;\n",
       "    }\n",
       "</style>\n",
       "<table border=\"1\" class=\"dataframe\">\n",
       "  <thead>\n",
       "    <tr style=\"text-align: right;\">\n",
       "      <th></th>\n",
       "      <th>Pais</th>\n",
       "      <th>Continente</th>\n",
       "      <th>Nombre de region</th>\n",
       "      <th>Tipo de region</th>\n",
       "      <th>1980</th>\n",
       "      <th>1981</th>\n",
       "      <th>1982</th>\n",
       "      <th>1983</th>\n",
       "      <th>1984</th>\n",
       "      <th>1985</th>\n",
       "      <th>...</th>\n",
       "      <th>2004</th>\n",
       "      <th>2005</th>\n",
       "      <th>2006</th>\n",
       "      <th>2007</th>\n",
       "      <th>2008</th>\n",
       "      <th>2009</th>\n",
       "      <th>2010</th>\n",
       "      <th>2011</th>\n",
       "      <th>2012</th>\n",
       "      <th>2013</th>\n",
       "    </tr>\n",
       "  </thead>\n",
       "  <tbody>\n",
       "    <tr>\n",
       "      <th>136</th>\n",
       "      <td>Philippines</td>\n",
       "      <td>Asia</td>\n",
       "      <td>South-Eastern Asia</td>\n",
       "      <td>Developing regions</td>\n",
       "      <td>6051</td>\n",
       "      <td>5921</td>\n",
       "      <td>5249</td>\n",
       "      <td>4562</td>\n",
       "      <td>3801</td>\n",
       "      <td>3150</td>\n",
       "      <td>...</td>\n",
       "      <td>14004</td>\n",
       "      <td>18139</td>\n",
       "      <td>18400</td>\n",
       "      <td>19837</td>\n",
       "      <td>24887</td>\n",
       "      <td>28573</td>\n",
       "      <td>38617</td>\n",
       "      <td>36765</td>\n",
       "      <td>34315</td>\n",
       "      <td>29544</td>\n",
       "    </tr>\n",
       "  </tbody>\n",
       "</table>\n",
       "<p>1 rows × 38 columns</p>\n",
       "</div>"
      ],
      "text/plain": [
       "            Pais Continente    Nombre de region      Tipo de region  1980  \\\n",
       "136  Philippines       Asia  South-Eastern Asia  Developing regions  6051   \n",
       "\n",
       "     1981  1982  1983  1984  1985  ...   2004   2005   2006   2007   2008  \\\n",
       "136  5921  5249  4562  3801  3150  ...  14004  18139  18400  19837  24887   \n",
       "\n",
       "      2009   2010   2011   2012   2013  \n",
       "136  28573  38617  36765  34315  29544  \n",
       "\n",
       "[1 rows x 38 columns]"
      ]
     },
     "execution_count": 24,
     "metadata": {},
     "output_type": "execute_result"
    }
   ],
   "source": [
    "df[df[2010] == df[2010].max()]"
   ]
  },
  {
   "cell_type": "code",
   "execution_count": 26,
   "id": "b1f28f0c-de3e-47fc-a0d8-98a1d354e769",
   "metadata": {},
   "outputs": [
    {
     "data": {
      "text/plain": [
       "'Philippines'"
      ]
     },
     "execution_count": 26,
     "metadata": {},
     "output_type": "execute_result"
    }
   ],
   "source": [
    "df[df[2010] == df[2010].max()]['Pais'].iloc[0]"
   ]
  },
  {
   "cell_type": "code",
   "execution_count": 28,
   "id": "547d2360-1bfa-44c5-b52b-1bbd6929f2c2",
   "metadata": {},
   "outputs": [
    {
     "data": {
      "text/plain": [
       "'Philippines'"
      ]
     },
     "execution_count": 28,
     "metadata": {},
     "output_type": "execute_result"
    }
   ],
   "source": [
    "df['Pais'][df[2010] == df[2010].max()].iloc[0]"
   ]
  },
  {
   "cell_type": "code",
   "execution_count": null,
   "id": "b306a435-ee7c-477b-9d1e-af31efe810f4",
   "metadata": {},
   "outputs": [],
   "source": []
  },
  {
   "cell_type": "markdown",
   "id": "fb9eaad8",
   "metadata": {},
   "source": [
    "### Ejercicio 14\n",
    "- Obtener el país con menor migración en el año 2005."
   ]
  },
  {
   "cell_type": "code",
   "execution_count": null,
   "id": "a89d4035",
   "metadata": {},
   "outputs": [],
   "source": []
  },
  {
   "cell_type": "code",
   "execution_count": null,
   "id": "9d0a68c1",
   "metadata": {},
   "outputs": [],
   "source": []
  },
  {
   "cell_type": "code",
   "execution_count": null,
   "id": "7accc134",
   "metadata": {},
   "outputs": [],
   "source": []
  },
  {
   "cell_type": "markdown",
   "id": "4c278ad5",
   "metadata": {},
   "source": [
    "### Ejercicio 15:\n",
    "- Encuentra el año en que más migración hubo de España a Canada."
   ]
  },
  {
   "cell_type": "code",
   "execution_count": null,
   "id": "e03798c0",
   "metadata": {},
   "outputs": [],
   "source": []
  },
  {
   "cell_type": "code",
   "execution_count": null,
   "id": "2abd75b5",
   "metadata": {},
   "outputs": [],
   "source": []
  },
  {
   "cell_type": "code",
   "execution_count": null,
   "id": "a02f4b50",
   "metadata": {},
   "outputs": [],
   "source": []
  },
  {
   "cell_type": "markdown",
   "id": "23cc5be8",
   "metadata": {},
   "source": [
    "### Ejercicio 16:\n",
    "- Encuentra el año en que menor migración hubo de España a Canada."
   ]
  },
  {
   "cell_type": "code",
   "execution_count": null,
   "id": "bd71d1ae",
   "metadata": {},
   "outputs": [],
   "source": []
  },
  {
   "cell_type": "code",
   "execution_count": null,
   "id": "120e2cd7",
   "metadata": {},
   "outputs": [],
   "source": []
  },
  {
   "cell_type": "code",
   "execution_count": null,
   "id": "062f7529",
   "metadata": {},
   "outputs": [],
   "source": []
  },
  {
   "cell_type": "markdown",
   "id": "8298f80b",
   "metadata": {},
   "source": [
    "### Ejercicio 17:\n",
    "- Ordena en una lista los años de migración en España de menor a mayor de acuerdo a la información de cada año."
   ]
  },
  {
   "cell_type": "code",
   "execution_count": 43,
   "id": "abafb8ee",
   "metadata": {},
   "outputs": [],
   "source": [
    "spain_df = df[df['Pais'] == \"Spain\"]"
   ]
  },
  {
   "cell_type": "code",
   "execution_count": 37,
   "id": "b79e4846",
   "metadata": {},
   "outputs": [],
   "source": [
    "spain_series = spain_df.iloc[:, 4:].T[161]"
   ]
  },
  {
   "cell_type": "code",
   "execution_count": 42,
   "id": "d040a477-1b95-4d0f-927c-adeeb10cb945",
   "metadata": {},
   "outputs": [
    {
     "data": {
      "text/plain": [
       "2013    331\n",
       "1981    299\n",
       "2012    262\n",
       "1982    260\n",
       "1980    211\n",
       "2009    195\n",
       "2011    179\n",
       "1987    176\n",
       "2010    174\n",
       "2008    169\n",
       "1989    168\n",
       "1991    165\n",
       "1993    160\n",
       "2007    137\n",
       "1988    137\n",
       "1984    137\n",
       "1983    133\n",
       "2004    133\n",
       "1992    130\n",
       "2005    126\n",
       "2006    124\n",
       "1990    122\n",
       "1986    121\n",
       "1996    105\n",
       "1985     98\n",
       "2000     93\n",
       "2003     89\n",
       "1997     88\n",
       "2002     87\n",
       "1998     87\n",
       "1994     84\n",
       "1999     81\n",
       "2001     79\n",
       "1995     78\n",
       "Name: 161, dtype: int64"
      ]
     },
     "execution_count": 42,
     "metadata": {},
     "output_type": "execute_result"
    }
   ],
   "source": [
    "spain_series.sort_values(ascending=False) #.index.tolist()"
   ]
  },
  {
   "cell_type": "code",
   "execution_count": null,
   "id": "53b1a728",
   "metadata": {},
   "outputs": [],
   "source": []
  },
  {
   "cell_type": "markdown",
   "id": "4d895b14",
   "metadata": {},
   "source": [
    "### Ejercicio 18:\n",
    "- Crea una lista con todos los países."
   ]
  },
  {
   "cell_type": "code",
   "execution_count": null,
   "id": "16be4e85",
   "metadata": {},
   "outputs": [],
   "source": []
  },
  {
   "cell_type": "code",
   "execution_count": null,
   "id": "5ac6396a",
   "metadata": {},
   "outputs": [],
   "source": []
  },
  {
   "cell_type": "code",
   "execution_count": null,
   "id": "69a9a9d2",
   "metadata": {},
   "outputs": [],
   "source": []
  },
  {
   "cell_type": "markdown",
   "id": "ed58810b",
   "metadata": {},
   "source": [
    "### Ejercicio 19:\n",
    "- Encuentra el número de paises por continente y agrega los nombres a un diccionario.\n",
    "    - Ejemplo: **`{\"Asía\" : 20, \"Africa\" : 10, \"Europa\" : 5}`**"
   ]
  },
  {
   "cell_type": "code",
   "execution_count": null,
   "id": "b46d1fb2",
   "metadata": {},
   "outputs": [],
   "source": []
  },
  {
   "cell_type": "code",
   "execution_count": null,
   "id": "dd70064a",
   "metadata": {},
   "outputs": [],
   "source": []
  },
  {
   "cell_type": "code",
   "execution_count": null,
   "id": "982d20b0",
   "metadata": {},
   "outputs": [],
   "source": []
  },
  {
   "cell_type": "markdown",
   "id": "c353ddef",
   "metadata": {},
   "source": [
    "### Ejercicio 20:\n",
    "- Crea un DataFrame a partir del diccionario anterior."
   ]
  },
  {
   "cell_type": "code",
   "execution_count": null,
   "id": "9d394ba0",
   "metadata": {},
   "outputs": [],
   "source": []
  },
  {
   "cell_type": "code",
   "execution_count": null,
   "id": "4746538a",
   "metadata": {},
   "outputs": [],
   "source": []
  },
  {
   "cell_type": "code",
   "execution_count": null,
   "id": "65300975",
   "metadata": {},
   "outputs": [],
   "source": []
  },
  {
   "cell_type": "markdown",
   "id": "efb22aae",
   "metadata": {},
   "source": [
    "### Ejercicio 21:\n",
    "- Repite los últimos dos ejercicios tomando en cuenta que america latina y america del norte son un solo continente."
   ]
  },
  {
   "cell_type": "code",
   "execution_count": null,
   "id": "f81d26d0",
   "metadata": {},
   "outputs": [],
   "source": []
  },
  {
   "cell_type": "code",
   "execution_count": null,
   "id": "71994f5b",
   "metadata": {},
   "outputs": [],
   "source": []
  },
  {
   "cell_type": "code",
   "execution_count": null,
   "id": "ea854e82",
   "metadata": {},
   "outputs": [],
   "source": []
  },
  {
   "cell_type": "markdown",
   "id": "352092b8",
   "metadata": {},
   "source": [
    "### Ejercicio 22:\n",
    "- Crea un DataFrame por continente y en cada DataFrame apareceran los paises de dicho contiente.\n",
    "- Muestra las 3 primeras filas de cada DataFrame."
   ]
  },
  {
   "cell_type": "code",
   "execution_count": null,
   "id": "e497217a",
   "metadata": {},
   "outputs": [],
   "source": []
  },
  {
   "cell_type": "code",
   "execution_count": null,
   "id": "2fc6a13c",
   "metadata": {},
   "outputs": [],
   "source": []
  },
  {
   "cell_type": "code",
   "execution_count": null,
   "id": "6da4abfd",
   "metadata": {},
   "outputs": [],
   "source": []
  },
  {
   "attachments": {},
   "cell_type": "markdown",
   "id": "a3eeb181",
   "metadata": {},
   "source": [
    "### Ejercicio 23:\n",
    "- Obtener los valores maximos de migración de cada año y crea un DataFrame con los años y el número de migración máximo de cada año.\n",
    "\n",
    "|     |Año |Numero de Migrantes|\n",
    "|-----|----|-------------------|\n",
    "|**0**|1980|22045              |\n",
    "|**1**|1981|24796              |\n",
    "|**2**|1982|20620              |\n",
    "|**3**|1983|10015              |\n",
    "|**4**|1984|10170              |"
   ]
  },
  {
   "cell_type": "code",
   "execution_count": null,
   "id": "e36ee9b2",
   "metadata": {},
   "outputs": [],
   "source": []
  },
  {
   "cell_type": "code",
   "execution_count": null,
   "id": "7d1d6125",
   "metadata": {},
   "outputs": [],
   "source": []
  },
  {
   "cell_type": "markdown",
   "id": "8d762598",
   "metadata": {},
   "source": [
    "### Ejercicio 24:\n",
    "- Ordenar por número mayor de migración a menor el DataFrame anterior."
   ]
  },
  {
   "cell_type": "code",
   "execution_count": null,
   "id": "8ebae29e",
   "metadata": {},
   "outputs": [],
   "source": []
  },
  {
   "cell_type": "code",
   "execution_count": null,
   "id": "aa5dd93a",
   "metadata": {},
   "outputs": [],
   "source": []
  },
  {
   "cell_type": "code",
   "execution_count": null,
   "id": "5f4a6b96",
   "metadata": {},
   "outputs": [],
   "source": []
  },
  {
   "cell_type": "markdown",
   "id": "ebde50e8",
   "metadata": {},
   "source": [
    "### Ejercicio 25:\n",
    "- Obtener el promedio y la mediana de cada año de migración y agregar al dataframe anterior."
   ]
  },
  {
   "cell_type": "code",
   "execution_count": null,
   "id": "b9c7efee",
   "metadata": {},
   "outputs": [],
   "source": []
  },
  {
   "cell_type": "code",
   "execution_count": null,
   "id": "84d977ad",
   "metadata": {},
   "outputs": [],
   "source": []
  },
  {
   "cell_type": "code",
   "execution_count": null,
   "id": "0f5c3554",
   "metadata": {},
   "outputs": [],
   "source": []
  },
  {
   "attachments": {},
   "cell_type": "markdown",
   "id": "331277c1",
   "metadata": {},
   "source": [
    "### Ejercicio 26:\n",
    "- Encontrar el año en que hubo más migración por continente y crear un dataframe con nombre de continente, el año de máxima migración y cantidad de migración.\n",
    "\n",
    "|\t  |Continente|Año |Migraciones|\n",
    "|-----|----------|----|-----------|\n",
    "|**0**|Asia\t     |2005|42584      |\n",
    "|**1**|Europe\t |1994|39231      |\n",
    "|**2**|Africa\t |2010|6242       |\n",
    "|**3**|Oceania\t |1992|1782       |\n",
    "|**4**|America\t |2008|10190      |"
   ]
  },
  {
   "cell_type": "code",
   "execution_count": null,
   "id": "f5408938",
   "metadata": {},
   "outputs": [],
   "source": []
  },
  {
   "cell_type": "code",
   "execution_count": null,
   "id": "b2ed28a8",
   "metadata": {},
   "outputs": [],
   "source": []
  },
  {
   "cell_type": "code",
   "execution_count": null,
   "id": "5cfd000f",
   "metadata": {},
   "outputs": [],
   "source": []
  },
  {
   "attachments": {},
   "cell_type": "markdown",
   "id": "5626edb6",
   "metadata": {},
   "source": [
    "### Ejercicio 27:\n",
    "- Encontrar los 10 paises con más migración entre el 2008 y 2010.\n",
    "\n",
    "|       |Pais                                             |2008 |2009 |\t2010|migracion_2010|\n",
    "|-------|-------------------------------------------------|-----|-----|-----|--------------|\n",
    "|**136**|Philippines                                      |24887|28573|38617|         92077|\n",
    "|**79** |India                                            |28261|29456|34235|         91952|\n",
    "|**36** |China                                            |30037|29622|30391|         90050|\n",
    "|**185**|United States of America                         |10190|8995 |8142 |         27327|\n",
    "|**183**|United Kingdom of Great Britain and Northern I...|8979 |8876 |8724 |         26579|\n",
    "|**130**|Pakistan                                         |8994 |7217 |6811 |         23022|\n",
    "|**81** |Iran (Islamic Republic of)                       |6475 |6580 |7477 |         20532|\n",
    "|**140**|Republic of Korea                                |7294 |5874 |5537 |         18705|\n",
    "|**116**|Morocco                                          |4226 |5532 |6242 |         16000|\n",
    "|**39** |Colombia                                         |5452 |4652 |5218 |         15322|"
   ]
  },
  {
   "cell_type": "code",
   "execution_count": null,
   "id": "9564a261",
   "metadata": {},
   "outputs": [],
   "source": []
  },
  {
   "cell_type": "code",
   "execution_count": null,
   "id": "05ec9a6b",
   "metadata": {},
   "outputs": [],
   "source": []
  },
  {
   "cell_type": "code",
   "execution_count": null,
   "id": "0d340ed7",
   "metadata": {},
   "outputs": [],
   "source": []
  },
  {
   "cell_type": "markdown",
   "id": "633e5bba",
   "metadata": {},
   "source": [
    "### Ejercicio 28:\n",
    "- Agregar una columna al DataFrame inicial con el número total de migración de 1980 al 2013 por pais."
   ]
  },
  {
   "cell_type": "code",
   "execution_count": null,
   "id": "cdb5c708",
   "metadata": {},
   "outputs": [],
   "source": []
  },
  {
   "cell_type": "code",
   "execution_count": null,
   "id": "1a4fe325",
   "metadata": {},
   "outputs": [],
   "source": []
  },
  {
   "cell_type": "code",
   "execution_count": null,
   "id": "2dc02780",
   "metadata": {},
   "outputs": [],
   "source": []
  },
  {
   "cell_type": "markdown",
   "id": "a90225d5",
   "metadata": {},
   "source": [
    "### Ejercicio 29:\n",
    "- Encuentra el país de cada continente con más migración y crea un DataFrame con estos paises."
   ]
  },
  {
   "cell_type": "code",
   "execution_count": null,
   "id": "6f754af4",
   "metadata": {},
   "outputs": [],
   "source": []
  },
  {
   "cell_type": "code",
   "execution_count": null,
   "id": "c6d32539",
   "metadata": {},
   "outputs": [],
   "source": []
  },
  {
   "cell_type": "code",
   "execution_count": null,
   "id": "34754a0c",
   "metadata": {},
   "outputs": [],
   "source": []
  },
  {
   "attachments": {},
   "cell_type": "markdown",
   "id": "bdc2ca60",
   "metadata": {},
   "source": [
    "### Ejercicio 30:\n",
    "- Encontrar los 3 paises con más migración de cada continente y agregarlos en un DataFrame.\n",
    "\n",
    "|       |Continente|Pais                                             |Total Migracion|\n",
    "|-------|----------|-------------------------------------------------|---------------|\n",
    "|**79**\t|Asia\t   |India                                            |691904         |\n",
    "|**36**\t|Asia\t   |China                                            |659962         |\n",
    "|**136**|Asia\t   |Philippines                                      |511391         |\n",
    "|**183**|Europa\t   |United Kingdom of Great Britain and Northern I...|551500         |\n",
    "|**137**|Europa\t   |Poland                                           |139241         |\n",
    "|**63**\t|Europa\t   |France                                           |109091         |\n",
    "|**55**\t|Africa\t   |Egypt                                            |72745          |\n",
    "|**116**|Africa\t   |Morocco                                          |72267          |\n",
    "|**2**\t|Africa\t   |Algeria                                          |69439          |\n",
    "|**9**\t|Oceania   |Australia                                        |23829          |\n",
    "|**61**\t|Oceania   |Fiji                                             |20609          |\n",
    "|**124**|Oceania   |New Zealand                                      |10386          |\n",
    "|**185**|America   |United States of America                         |241122         |\n",
    "|**86**\t|America   |Jamaica                                          |106431         |\n",
    "|**75**\t|America   |Haiti                                            |84813          |"
   ]
  },
  {
   "cell_type": "code",
   "execution_count": null,
   "id": "f0e48d98",
   "metadata": {},
   "outputs": [],
   "source": []
  },
  {
   "cell_type": "code",
   "execution_count": null,
   "id": "21663cab",
   "metadata": {},
   "outputs": [],
   "source": []
  },
  {
   "cell_type": "code",
   "execution_count": null,
   "id": "e8610e22",
   "metadata": {},
   "outputs": [],
   "source": []
  },
  {
   "cell_type": "markdown",
   "id": "4d6cf5ab",
   "metadata": {},
   "source": [
    "### Ejercicio 31:\n",
    "- Cambiar los nombres de cada continente a español (utilizando un bucle for)."
   ]
  },
  {
   "cell_type": "code",
   "execution_count": null,
   "id": "2e9b6b20",
   "metadata": {},
   "outputs": [],
   "source": []
  },
  {
   "cell_type": "code",
   "execution_count": null,
   "id": "2b22cd50",
   "metadata": {},
   "outputs": [],
   "source": []
  },
  {
   "cell_type": "code",
   "execution_count": null,
   "id": "36f3b7c5",
   "metadata": {},
   "outputs": [],
   "source": []
  },
  {
   "cell_type": "markdown",
   "id": "4c8b9454",
   "metadata": {},
   "source": [
    "#### Extra: Obtener un DataFrame que te parezca relevante a partir de la aplicación de filtros. ¡Se creativo!"
   ]
  },
  {
   "cell_type": "code",
   "execution_count": null,
   "id": "d402393a",
   "metadata": {},
   "outputs": [],
   "source": []
  },
  {
   "cell_type": "code",
   "execution_count": null,
   "id": "e274d687",
   "metadata": {},
   "outputs": [],
   "source": []
  },
  {
   "cell_type": "code",
   "execution_count": null,
   "id": "7cbd4de9",
   "metadata": {},
   "outputs": [],
   "source": []
  }
 ],
 "metadata": {
  "kernelspec": {
   "display_name": "Python 3 (ipykernel)",
   "language": "python",
   "name": "python3"
  },
  "language_info": {
   "codemirror_mode": {
    "name": "ipython",
    "version": 3
   },
   "file_extension": ".py",
   "mimetype": "text/x-python",
   "name": "python",
   "nbconvert_exporter": "python",
   "pygments_lexer": "ipython3",
   "version": "3.10.12"
  }
 },
 "nbformat": 4,
 "nbformat_minor": 5
}
