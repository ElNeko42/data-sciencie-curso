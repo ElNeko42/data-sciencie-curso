{
 "cells": [
  {
   "cell_type": "markdown",
   "id": "42f4e847",
   "metadata": {},
   "source": [
    "## plotly\n",
    "\n",
    "**`plotly`** es una librería que crea gráficos interactivos de alta calidad.\n",
    "\n",
    "```html\n",
    "pip install plotly\n",
    "```\n",
    "\n",
    "_**Documentación: https://plotly.com/python-api-reference/**_\n",
    "\n",
    "\n",
    "|Función                   |Descripción              |\n",
    "|--------------------------|-------------------------|\n",
    "|**`px.strip()`**          |Gráfica de \"tiras\".      |\n",
    "|**`px.histogram()`**      |Histograma.              |\n",
    "|**`px.bar()`**            |Gráfico de barras.       |\n",
    "|**`px.sunburst()`**       |Gráfico de \"sol\".        |\n",
    "|**`px.treemap()`**        |Gráfico de mapa de árbol.|\n",
    "|**`px.line()`**           |Gráfica de rectas.       |\n",
    "|**`px.scatter()`**        |Gráfica de dispersión.   |\n",
    "|**`px.box()`**            |Gráfica de cajas.        |\n",
    "|**`px.violin()`**         |Gráfica de violin.       |\n",
    "|**`px.pie()`**            |Gráfica de sectores.     |\n",
    "|**`px.imshow()`**         |Gráfico de calor.        |\n",
    "|**`px.scatter_ternary()`**|Grafico de 3 variables.  |\n",
    "|**`px.scatter_3d()`**     |Gráfico en 3D.           |"
   ]
  },
  {
   "cell_type": "code",
   "execution_count": 7,
   "id": "fc070f03",
   "metadata": {},
   "outputs": [],
   "source": [
    "import numpy as np\n",
    "import pandas as pd\n",
    "\n",
    "import plotly.express as px"
   ]
  },
  {
   "cell_type": "markdown",
   "id": "ac056f40",
   "metadata": {},
   "source": [
    "#### Data"
   ]
  },
  {
   "cell_type": "code",
   "execution_count": 8,
   "id": "7a191799",
   "metadata": {},
   "outputs": [
    {
     "name": "stdout",
     "output_type": "stream",
     "text": [
      "CPU times: total: 9.59 s\n",
      "Wall time: 9.6 s\n"
     ]
    }
   ],
   "source": [
    "%%time\n",
    "\n",
    "df1 = pd.read_excel(\"Data/Airbnb_NYC.xlsx\", sheet_name = \"NYC1\")\n",
    "df2 = pd.read_excel(\"Data/Airbnb_NYC.xlsx\", sheet_name = \"NYC2\")\n",
    "\n",
    "df_airbnb = pd.merge(left = df1, right = df2, left_on = \"id\", right_on = \"id\")\n",
    "\n",
    "df_iris = pd.read_csv(\"Data/iris.csv\")\n",
    "\n",
    "df_titanic = pd.read_csv(\"Data/titanic.csv\")\n",
    "\n",
    "df_pokemon = pd.read_csv(\"Data/Pokemon.csv\")"
   ]
  },
  {
   "cell_type": "code",
   "execution_count": 4,
   "id": "92b97716",
   "metadata": {},
   "outputs": [
    {
     "data": {
      "text/html": [
       "<div>\n",
       "<style scoped>\n",
       "    .dataframe tbody tr th:only-of-type {\n",
       "        vertical-align: middle;\n",
       "    }\n",
       "\n",
       "    .dataframe tbody tr th {\n",
       "        vertical-align: top;\n",
       "    }\n",
       "\n",
       "    .dataframe thead th {\n",
       "        text-align: right;\n",
       "    }\n",
       "</style>\n",
       "<table border=\"1\" class=\"dataframe\">\n",
       "  <thead>\n",
       "    <tr style=\"text-align: right;\">\n",
       "      <th></th>\n",
       "      <th>#</th>\n",
       "      <th>Name</th>\n",
       "      <th>Type 1</th>\n",
       "      <th>Type 2</th>\n",
       "      <th>Total</th>\n",
       "      <th>HP</th>\n",
       "      <th>Attack</th>\n",
       "      <th>Defense</th>\n",
       "      <th>Sp. Atk</th>\n",
       "      <th>Sp. Def</th>\n",
       "      <th>Speed</th>\n",
       "      <th>Generation</th>\n",
       "      <th>Legendary</th>\n",
       "    </tr>\n",
       "  </thead>\n",
       "  <tbody>\n",
       "    <tr>\n",
       "      <th>0</th>\n",
       "      <td>1</td>\n",
       "      <td>Bulbasaur</td>\n",
       "      <td>Grass</td>\n",
       "      <td>Poison</td>\n",
       "      <td>318</td>\n",
       "      <td>45</td>\n",
       "      <td>49</td>\n",
       "      <td>49</td>\n",
       "      <td>65</td>\n",
       "      <td>65</td>\n",
       "      <td>45</td>\n",
       "      <td>1</td>\n",
       "      <td>False</td>\n",
       "    </tr>\n",
       "    <tr>\n",
       "      <th>1</th>\n",
       "      <td>2</td>\n",
       "      <td>Ivysaur</td>\n",
       "      <td>Grass</td>\n",
       "      <td>Poison</td>\n",
       "      <td>405</td>\n",
       "      <td>60</td>\n",
       "      <td>62</td>\n",
       "      <td>63</td>\n",
       "      <td>80</td>\n",
       "      <td>80</td>\n",
       "      <td>60</td>\n",
       "      <td>1</td>\n",
       "      <td>False</td>\n",
       "    </tr>\n",
       "    <tr>\n",
       "      <th>2</th>\n",
       "      <td>3</td>\n",
       "      <td>Venusaur</td>\n",
       "      <td>Grass</td>\n",
       "      <td>Poison</td>\n",
       "      <td>525</td>\n",
       "      <td>80</td>\n",
       "      <td>82</td>\n",
       "      <td>83</td>\n",
       "      <td>100</td>\n",
       "      <td>100</td>\n",
       "      <td>80</td>\n",
       "      <td>1</td>\n",
       "      <td>False</td>\n",
       "    </tr>\n",
       "    <tr>\n",
       "      <th>3</th>\n",
       "      <td>3</td>\n",
       "      <td>VenusaurMega Venusaur</td>\n",
       "      <td>Grass</td>\n",
       "      <td>Poison</td>\n",
       "      <td>625</td>\n",
       "      <td>80</td>\n",
       "      <td>100</td>\n",
       "      <td>123</td>\n",
       "      <td>122</td>\n",
       "      <td>120</td>\n",
       "      <td>80</td>\n",
       "      <td>1</td>\n",
       "      <td>False</td>\n",
       "    </tr>\n",
       "    <tr>\n",
       "      <th>4</th>\n",
       "      <td>4</td>\n",
       "      <td>Charmander</td>\n",
       "      <td>Fire</td>\n",
       "      <td>NaN</td>\n",
       "      <td>309</td>\n",
       "      <td>39</td>\n",
       "      <td>52</td>\n",
       "      <td>43</td>\n",
       "      <td>60</td>\n",
       "      <td>50</td>\n",
       "      <td>65</td>\n",
       "      <td>1</td>\n",
       "      <td>False</td>\n",
       "    </tr>\n",
       "    <tr>\n",
       "      <th>...</th>\n",
       "      <td>...</td>\n",
       "      <td>...</td>\n",
       "      <td>...</td>\n",
       "      <td>...</td>\n",
       "      <td>...</td>\n",
       "      <td>...</td>\n",
       "      <td>...</td>\n",
       "      <td>...</td>\n",
       "      <td>...</td>\n",
       "      <td>...</td>\n",
       "      <td>...</td>\n",
       "      <td>...</td>\n",
       "      <td>...</td>\n",
       "    </tr>\n",
       "    <tr>\n",
       "      <th>795</th>\n",
       "      <td>719</td>\n",
       "      <td>Diancie</td>\n",
       "      <td>Rock</td>\n",
       "      <td>Fairy</td>\n",
       "      <td>600</td>\n",
       "      <td>50</td>\n",
       "      <td>100</td>\n",
       "      <td>150</td>\n",
       "      <td>100</td>\n",
       "      <td>150</td>\n",
       "      <td>50</td>\n",
       "      <td>6</td>\n",
       "      <td>True</td>\n",
       "    </tr>\n",
       "    <tr>\n",
       "      <th>796</th>\n",
       "      <td>719</td>\n",
       "      <td>DiancieMega Diancie</td>\n",
       "      <td>Rock</td>\n",
       "      <td>Fairy</td>\n",
       "      <td>700</td>\n",
       "      <td>50</td>\n",
       "      <td>160</td>\n",
       "      <td>110</td>\n",
       "      <td>160</td>\n",
       "      <td>110</td>\n",
       "      <td>110</td>\n",
       "      <td>6</td>\n",
       "      <td>True</td>\n",
       "    </tr>\n",
       "    <tr>\n",
       "      <th>797</th>\n",
       "      <td>720</td>\n",
       "      <td>HoopaHoopa Confined</td>\n",
       "      <td>Psychic</td>\n",
       "      <td>Ghost</td>\n",
       "      <td>600</td>\n",
       "      <td>80</td>\n",
       "      <td>110</td>\n",
       "      <td>60</td>\n",
       "      <td>150</td>\n",
       "      <td>130</td>\n",
       "      <td>70</td>\n",
       "      <td>6</td>\n",
       "      <td>True</td>\n",
       "    </tr>\n",
       "    <tr>\n",
       "      <th>798</th>\n",
       "      <td>720</td>\n",
       "      <td>HoopaHoopa Unbound</td>\n",
       "      <td>Psychic</td>\n",
       "      <td>Dark</td>\n",
       "      <td>680</td>\n",
       "      <td>80</td>\n",
       "      <td>160</td>\n",
       "      <td>60</td>\n",
       "      <td>170</td>\n",
       "      <td>130</td>\n",
       "      <td>80</td>\n",
       "      <td>6</td>\n",
       "      <td>True</td>\n",
       "    </tr>\n",
       "    <tr>\n",
       "      <th>799</th>\n",
       "      <td>721</td>\n",
       "      <td>Volcanion</td>\n",
       "      <td>Fire</td>\n",
       "      <td>Water</td>\n",
       "      <td>600</td>\n",
       "      <td>80</td>\n",
       "      <td>110</td>\n",
       "      <td>120</td>\n",
       "      <td>130</td>\n",
       "      <td>90</td>\n",
       "      <td>70</td>\n",
       "      <td>6</td>\n",
       "      <td>True</td>\n",
       "    </tr>\n",
       "  </tbody>\n",
       "</table>\n",
       "<p>800 rows × 13 columns</p>\n",
       "</div>"
      ],
      "text/plain": [
       "       #                   Name   Type 1  Type 2  Total  HP  Attack  Defense  \\\n",
       "0      1              Bulbasaur    Grass  Poison    318  45      49       49   \n",
       "1      2                Ivysaur    Grass  Poison    405  60      62       63   \n",
       "2      3               Venusaur    Grass  Poison    525  80      82       83   \n",
       "3      3  VenusaurMega Venusaur    Grass  Poison    625  80     100      123   \n",
       "4      4             Charmander     Fire     NaN    309  39      52       43   \n",
       "..   ...                    ...      ...     ...    ...  ..     ...      ...   \n",
       "795  719                Diancie     Rock   Fairy    600  50     100      150   \n",
       "796  719    DiancieMega Diancie     Rock   Fairy    700  50     160      110   \n",
       "797  720    HoopaHoopa Confined  Psychic   Ghost    600  80     110       60   \n",
       "798  720     HoopaHoopa Unbound  Psychic    Dark    680  80     160       60   \n",
       "799  721              Volcanion     Fire   Water    600  80     110      120   \n",
       "\n",
       "     Sp. Atk  Sp. Def  Speed  Generation  Legendary  \n",
       "0         65       65     45           1      False  \n",
       "1         80       80     60           1      False  \n",
       "2        100      100     80           1      False  \n",
       "3        122      120     80           1      False  \n",
       "4         60       50     65           1      False  \n",
       "..       ...      ...    ...         ...        ...  \n",
       "795      100      150     50           6       True  \n",
       "796      160      110    110           6       True  \n",
       "797      150      130     70           6       True  \n",
       "798      170      130     80           6       True  \n",
       "799      130       90     70           6       True  \n",
       "\n",
       "[800 rows x 13 columns]"
      ]
     },
     "execution_count": 4,
     "metadata": {},
     "output_type": "execute_result"
    }
   ],
   "source": [
    "df_pokemon"
   ]
  },
  {
   "cell_type": "markdown",
   "id": "3f164554",
   "metadata": {},
   "source": [
    "#### Strip Plot\n",
    "**`px.strip()`**"
   ]
  },
  {
   "cell_type": "code",
   "execution_count": 10,
   "id": "911bb68b",
   "metadata": {},
   "outputs": [
    {
     "ename": "ValueError",
     "evalue": "Mime type rendering requires nbformat>=4.2.0 but it is not installed",
     "output_type": "error",
     "traceback": [
      "\u001b[1;31m---------------------------------------------------------------------------\u001b[0m",
      "\u001b[1;31mValueError\u001b[0m                                Traceback (most recent call last)",
      "File \u001b[1;32m~\\AppData\\Roaming\\Python\\Python312\\site-packages\\IPython\\core\\formatters.py:922\u001b[0m, in \u001b[0;36mIPythonDisplayFormatter.__call__\u001b[1;34m(self, obj)\u001b[0m\n\u001b[0;32m    920\u001b[0m method \u001b[38;5;241m=\u001b[39m get_real_method(obj, \u001b[38;5;28mself\u001b[39m\u001b[38;5;241m.\u001b[39mprint_method)\n\u001b[0;32m    921\u001b[0m \u001b[38;5;28;01mif\u001b[39;00m method \u001b[38;5;129;01mis\u001b[39;00m \u001b[38;5;129;01mnot\u001b[39;00m \u001b[38;5;28;01mNone\u001b[39;00m:\n\u001b[1;32m--> 922\u001b[0m     \u001b[43mmethod\u001b[49m\u001b[43m(\u001b[49m\u001b[43m)\u001b[49m\n\u001b[0;32m    923\u001b[0m     \u001b[38;5;28;01mreturn\u001b[39;00m \u001b[38;5;28;01mTrue\u001b[39;00m\n",
      "File \u001b[1;32mc:\\Users\\fran\\AppData\\Local\\Programs\\Python\\Python312\\Lib\\site-packages\\plotly\\basedatatypes.py:832\u001b[0m, in \u001b[0;36mBaseFigure._ipython_display_\u001b[1;34m(self)\u001b[0m\n\u001b[0;32m    829\u001b[0m \u001b[38;5;28;01mimport\u001b[39;00m \u001b[38;5;21;01mplotly\u001b[39;00m\u001b[38;5;21;01m.\u001b[39;00m\u001b[38;5;21;01mio\u001b[39;00m \u001b[38;5;28;01mas\u001b[39;00m \u001b[38;5;21;01mpio\u001b[39;00m\n\u001b[0;32m    831\u001b[0m \u001b[38;5;28;01mif\u001b[39;00m pio\u001b[38;5;241m.\u001b[39mrenderers\u001b[38;5;241m.\u001b[39mrender_on_display \u001b[38;5;129;01mand\u001b[39;00m pio\u001b[38;5;241m.\u001b[39mrenderers\u001b[38;5;241m.\u001b[39mdefault:\n\u001b[1;32m--> 832\u001b[0m     \u001b[43mpio\u001b[49m\u001b[38;5;241;43m.\u001b[39;49m\u001b[43mshow\u001b[49m\u001b[43m(\u001b[49m\u001b[38;5;28;43mself\u001b[39;49m\u001b[43m)\u001b[49m\n\u001b[0;32m    833\u001b[0m \u001b[38;5;28;01melse\u001b[39;00m:\n\u001b[0;32m    834\u001b[0m     \u001b[38;5;28mprint\u001b[39m(\u001b[38;5;28mrepr\u001b[39m(\u001b[38;5;28mself\u001b[39m))\n",
      "File \u001b[1;32mc:\\Users\\fran\\AppData\\Local\\Programs\\Python\\Python312\\Lib\\site-packages\\plotly\\io\\_renderers.py:394\u001b[0m, in \u001b[0;36mshow\u001b[1;34m(fig, renderer, validate, **kwargs)\u001b[0m\n\u001b[0;32m    389\u001b[0m         \u001b[38;5;28;01mraise\u001b[39;00m \u001b[38;5;167;01mValueError\u001b[39;00m(\n\u001b[0;32m    390\u001b[0m             \u001b[38;5;124m\"\u001b[39m\u001b[38;5;124mMime type rendering requires ipython but it is not installed\u001b[39m\u001b[38;5;124m\"\u001b[39m\n\u001b[0;32m    391\u001b[0m         )\n\u001b[0;32m    393\u001b[0m     \u001b[38;5;28;01mif\u001b[39;00m \u001b[38;5;129;01mnot\u001b[39;00m nbformat \u001b[38;5;129;01mor\u001b[39;00m Version(nbformat\u001b[38;5;241m.\u001b[39m__version__) \u001b[38;5;241m<\u001b[39m Version(\u001b[38;5;124m\"\u001b[39m\u001b[38;5;124m4.2.0\u001b[39m\u001b[38;5;124m\"\u001b[39m):\n\u001b[1;32m--> 394\u001b[0m         \u001b[38;5;28;01mraise\u001b[39;00m \u001b[38;5;167;01mValueError\u001b[39;00m(\n\u001b[0;32m    395\u001b[0m             \u001b[38;5;124m\"\u001b[39m\u001b[38;5;124mMime type rendering requires nbformat>=4.2.0 but it is not installed\u001b[39m\u001b[38;5;124m\"\u001b[39m\n\u001b[0;32m    396\u001b[0m         )\n\u001b[0;32m    398\u001b[0m     ipython_display\u001b[38;5;241m.\u001b[39mdisplay(bundle, raw\u001b[38;5;241m=\u001b[39m\u001b[38;5;28;01mTrue\u001b[39;00m)\n\u001b[0;32m    400\u001b[0m \u001b[38;5;66;03m# external renderers\u001b[39;00m\n",
      "\u001b[1;31mValueError\u001b[0m: Mime type rendering requires nbformat>=4.2.0 but it is not installed"
     ]
    },
    {
     "data": {
      "application/vnd.plotly.v1+json": {
       "config": {
        "plotlyServerURL": "https://plot.ly"
       },
       "data": [
        {
         "alignmentgroup": "True",
         "boxpoints": "all",
         "customdata": [
          [
           1,
           "Bulbasaur",
           "Grass",
           "Poison",
           45,
           49,
           49,
           65,
           65,
           45,
           1,
           false
          ],
          [
           2,
           "Ivysaur",
           "Grass",
           "Poison",
           60,
           62,
           63,
           80,
           80,
           60,
           1,
           false
          ],
          [
           3,
           "Venusaur",
           "Grass",
           "Poison",
           80,
           82,
           83,
           100,
           100,
           80,
           1,
           false
          ],
          [
           3,
           "VenusaurMega Venusaur",
           "Grass",
           "Poison",
           80,
           100,
           123,
           122,
           120,
           80,
           1,
           false
          ],
          [
           43,
           "Oddish",
           "Grass",
           "Poison",
           45,
           50,
           55,
           75,
           65,
           30,
           1,
           false
          ],
          [
           44,
           "Gloom",
           "Grass",
           "Poison",
           60,
           65,
           70,
           85,
           75,
           40,
           1,
           false
          ],
          [
           45,
           "Vileplume",
           "Grass",
           "Poison",
           75,
           80,
           85,
           110,
           90,
           50,
           1,
           false
          ],
          [
           69,
           "Bellsprout",
           "Grass",
           "Poison",
           50,
           75,
           35,
           70,
           30,
           40,
           1,
           false
          ],
          [
           70,
           "Weepinbell",
           "Grass",
           "Poison",
           65,
           90,
           50,
           85,
           45,
           55,
           1,
           false
          ],
          [
           71,
           "Victreebel",
           "Grass",
           "Poison",
           80,
           105,
           65,
           100,
           70,
           70,
           1,
           false
          ],
          [
           102,
           "Exeggcute",
           "Grass",
           "Psychic",
           60,
           40,
           80,
           60,
           45,
           40,
           1,
           false
          ],
          [
           103,
           "Exeggutor",
           "Grass",
           "Psychic",
           95,
           95,
           85,
           125,
           65,
           55,
           1,
           false
          ],
          [
           114,
           "Tangela",
           "Grass",
           null,
           65,
           55,
           115,
           100,
           40,
           60,
           1,
           false
          ]
         ],
         "fillcolor": "rgba(255,255,255,0)",
         "hoveron": "points",
         "hovertemplate": "Type 1=%{customdata[2]}<br>Total=%{x}<br>#=%{customdata[0]}<br>Name=%{customdata[1]}<br>Type 2=%{customdata[3]}<br>HP=%{customdata[4]}<br>Attack=%{customdata[5]}<br>Defense=%{customdata[6]}<br>Sp. Atk=%{customdata[7]}<br>Sp. Def=%{customdata[8]}<br>Speed=%{customdata[9]}<br>Generation=%{customdata[10]}<br>Legendary=%{customdata[11]}<extra></extra>",
         "legendgroup": "Grass",
         "line": {
          "color": "rgba(255,255,255,0)"
         },
         "marker": {
          "color": "#636efa"
         },
         "name": "Grass",
         "offsetgroup": "Grass",
         "orientation": "h",
         "pointpos": 0,
         "showlegend": true,
         "type": "box",
         "x": [
          318,
          405,
          525,
          625,
          320,
          395,
          490,
          300,
          390,
          490,
          325,
          520,
          435
         ],
         "x0": " ",
         "xaxis": "x",
         "y0": " ",
         "yaxis": "y"
        },
        {
         "alignmentgroup": "True",
         "boxpoints": "all",
         "customdata": [
          [
           4,
           "Charmander",
           "Fire",
           null,
           39,
           52,
           43,
           60,
           50,
           65,
           1,
           false
          ],
          [
           5,
           "Charmeleon",
           "Fire",
           null,
           58,
           64,
           58,
           80,
           65,
           80,
           1,
           false
          ],
          [
           6,
           "Charizard",
           "Fire",
           "Flying",
           78,
           84,
           78,
           109,
           85,
           100,
           1,
           false
          ],
          [
           6,
           "CharizardMega Charizard X",
           "Fire",
           "Dragon",
           78,
           130,
           111,
           130,
           85,
           100,
           1,
           false
          ],
          [
           6,
           "CharizardMega Charizard Y",
           "Fire",
           "Flying",
           78,
           104,
           78,
           159,
           115,
           100,
           1,
           false
          ],
          [
           37,
           "Vulpix",
           "Fire",
           null,
           38,
           41,
           40,
           50,
           65,
           65,
           1,
           false
          ],
          [
           38,
           "Ninetales",
           "Fire",
           null,
           73,
           76,
           75,
           81,
           100,
           100,
           1,
           false
          ],
          [
           58,
           "Growlithe",
           "Fire",
           null,
           55,
           70,
           45,
           70,
           50,
           60,
           1,
           false
          ],
          [
           59,
           "Arcanine",
           "Fire",
           null,
           90,
           110,
           80,
           100,
           80,
           95,
           1,
           false
          ],
          [
           77,
           "Ponyta",
           "Fire",
           null,
           50,
           85,
           55,
           65,
           65,
           90,
           1,
           false
          ],
          [
           78,
           "Rapidash",
           "Fire",
           null,
           65,
           100,
           70,
           80,
           80,
           105,
           1,
           false
          ],
          [
           126,
           "Magmar",
           "Fire",
           null,
           65,
           95,
           57,
           100,
           85,
           93,
           1,
           false
          ],
          [
           136,
           "Flareon",
           "Fire",
           null,
           65,
           130,
           60,
           95,
           110,
           65,
           1,
           false
          ],
          [
           146,
           "Moltres",
           "Fire",
           "Flying",
           90,
           100,
           90,
           125,
           85,
           90,
           1,
           true
          ]
         ],
         "fillcolor": "rgba(255,255,255,0)",
         "hoveron": "points",
         "hovertemplate": "Type 1=%{customdata[2]}<br>Total=%{x}<br>#=%{customdata[0]}<br>Name=%{customdata[1]}<br>Type 2=%{customdata[3]}<br>HP=%{customdata[4]}<br>Attack=%{customdata[5]}<br>Defense=%{customdata[6]}<br>Sp. Atk=%{customdata[7]}<br>Sp. Def=%{customdata[8]}<br>Speed=%{customdata[9]}<br>Generation=%{customdata[10]}<br>Legendary=%{customdata[11]}<extra></extra>",
         "legendgroup": "Fire",
         "line": {
          "color": "rgba(255,255,255,0)"
         },
         "marker": {
          "color": "#EF553B"
         },
         "name": "Fire",
         "offsetgroup": "Fire",
         "orientation": "h",
         "pointpos": 0,
         "showlegend": true,
         "type": "box",
         "x": [
          309,
          405,
          534,
          634,
          634,
          299,
          505,
          350,
          555,
          410,
          500,
          495,
          525,
          580
         ],
         "x0": " ",
         "xaxis": "x",
         "y0": " ",
         "yaxis": "y"
        },
        {
         "alignmentgroup": "True",
         "boxpoints": "all",
         "customdata": [
          [
           7,
           "Squirtle",
           "Water",
           null,
           44,
           48,
           65,
           50,
           64,
           43,
           1,
           false
          ],
          [
           8,
           "Wartortle",
           "Water",
           null,
           59,
           63,
           80,
           65,
           80,
           58,
           1,
           false
          ],
          [
           9,
           "Blastoise",
           "Water",
           null,
           79,
           83,
           100,
           85,
           105,
           78,
           1,
           false
          ],
          [
           9,
           "BlastoiseMega Blastoise",
           "Water",
           null,
           79,
           103,
           120,
           135,
           115,
           78,
           1,
           false
          ],
          [
           54,
           "Psyduck",
           "Water",
           null,
           50,
           52,
           48,
           65,
           50,
           55,
           1,
           false
          ],
          [
           55,
           "Golduck",
           "Water",
           null,
           80,
           82,
           78,
           95,
           80,
           85,
           1,
           false
          ],
          [
           60,
           "Poliwag",
           "Water",
           null,
           40,
           50,
           40,
           40,
           40,
           90,
           1,
           false
          ],
          [
           61,
           "Poliwhirl",
           "Water",
           null,
           65,
           65,
           65,
           50,
           50,
           90,
           1,
           false
          ],
          [
           62,
           "Poliwrath",
           "Water",
           "Fighting",
           90,
           95,
           95,
           70,
           90,
           70,
           1,
           false
          ],
          [
           72,
           "Tentacool",
           "Water",
           "Poison",
           40,
           40,
           35,
           50,
           100,
           70,
           1,
           false
          ],
          [
           73,
           "Tentacruel",
           "Water",
           "Poison",
           80,
           70,
           65,
           80,
           120,
           100,
           1,
           false
          ],
          [
           79,
           "Slowpoke",
           "Water",
           "Psychic",
           90,
           65,
           65,
           40,
           40,
           15,
           1,
           false
          ],
          [
           80,
           "Slowbro",
           "Water",
           "Psychic",
           95,
           75,
           110,
           100,
           80,
           30,
           1,
           false
          ],
          [
           80,
           "SlowbroMega Slowbro",
           "Water",
           "Psychic",
           95,
           75,
           180,
           130,
           80,
           30,
           1,
           false
          ],
          [
           86,
           "Seel",
           "Water",
           null,
           65,
           45,
           55,
           45,
           70,
           45,
           1,
           false
          ],
          [
           87,
           "Dewgong",
           "Water",
           "Ice",
           90,
           70,
           80,
           70,
           95,
           70,
           1,
           false
          ],
          [
           90,
           "Shellder",
           "Water",
           null,
           30,
           65,
           100,
           45,
           25,
           40,
           1,
           false
          ],
          [
           91,
           "Cloyster",
           "Water",
           "Ice",
           50,
           95,
           180,
           85,
           45,
           70,
           1,
           false
          ],
          [
           98,
           "Krabby",
           "Water",
           null,
           30,
           105,
           90,
           25,
           25,
           50,
           1,
           false
          ],
          [
           99,
           "Kingler",
           "Water",
           null,
           55,
           130,
           115,
           50,
           50,
           75,
           1,
           false
          ],
          [
           116,
           "Horsea",
           "Water",
           null,
           30,
           40,
           70,
           70,
           25,
           60,
           1,
           false
          ],
          [
           117,
           "Seadra",
           "Water",
           null,
           55,
           65,
           95,
           95,
           45,
           85,
           1,
           false
          ],
          [
           118,
           "Goldeen",
           "Water",
           null,
           45,
           67,
           60,
           35,
           50,
           63,
           1,
           false
          ],
          [
           119,
           "Seaking",
           "Water",
           null,
           80,
           92,
           65,
           65,
           80,
           68,
           1,
           false
          ],
          [
           120,
           "Staryu",
           "Water",
           null,
           30,
           45,
           55,
           70,
           55,
           85,
           1,
           false
          ],
          [
           121,
           "Starmie",
           "Water",
           "Psychic",
           60,
           75,
           85,
           100,
           85,
           115,
           1,
           false
          ],
          [
           129,
           "Magikarp",
           "Water",
           null,
           20,
           10,
           55,
           15,
           20,
           80,
           1,
           false
          ],
          [
           130,
           "Gyarados",
           "Water",
           "Flying",
           95,
           125,
           79,
           60,
           100,
           81,
           1,
           false
          ],
          [
           130,
           "GyaradosMega Gyarados",
           "Water",
           "Dark",
           95,
           155,
           109,
           70,
           130,
           81,
           1,
           false
          ],
          [
           131,
           "Lapras",
           "Water",
           "Ice",
           130,
           85,
           80,
           85,
           95,
           60,
           1,
           false
          ],
          [
           134,
           "Vaporeon",
           "Water",
           null,
           130,
           65,
           60,
           110,
           95,
           65,
           1,
           false
          ]
         ],
         "fillcolor": "rgba(255,255,255,0)",
         "hoveron": "points",
         "hovertemplate": "Type 1=%{customdata[2]}<br>Total=%{x}<br>#=%{customdata[0]}<br>Name=%{customdata[1]}<br>Type 2=%{customdata[3]}<br>HP=%{customdata[4]}<br>Attack=%{customdata[5]}<br>Defense=%{customdata[6]}<br>Sp. Atk=%{customdata[7]}<br>Sp. Def=%{customdata[8]}<br>Speed=%{customdata[9]}<br>Generation=%{customdata[10]}<br>Legendary=%{customdata[11]}<extra></extra>",
         "legendgroup": "Water",
         "line": {
          "color": "rgba(255,255,255,0)"
         },
         "marker": {
          "color": "#00cc96"
         },
         "name": "Water",
         "offsetgroup": "Water",
         "orientation": "h",
         "pointpos": 0,
         "showlegend": true,
         "type": "box",
         "x": [
          314,
          405,
          530,
          630,
          320,
          500,
          300,
          385,
          510,
          335,
          515,
          315,
          490,
          590,
          325,
          475,
          305,
          525,
          325,
          475,
          295,
          440,
          320,
          450,
          340,
          520,
          200,
          540,
          640,
          535,
          525
         ],
         "x0": " ",
         "xaxis": "x",
         "y0": " ",
         "yaxis": "y"
        },
        {
         "alignmentgroup": "True",
         "boxpoints": "all",
         "customdata": [
          [
           10,
           "Caterpie",
           "Bug",
           null,
           45,
           30,
           35,
           20,
           20,
           45,
           1,
           false
          ],
          [
           11,
           "Metapod",
           "Bug",
           null,
           50,
           20,
           55,
           25,
           25,
           30,
           1,
           false
          ],
          [
           12,
           "Butterfree",
           "Bug",
           "Flying",
           60,
           45,
           50,
           90,
           80,
           70,
           1,
           false
          ],
          [
           13,
           "Weedle",
           "Bug",
           "Poison",
           40,
           35,
           30,
           20,
           20,
           50,
           1,
           false
          ],
          [
           14,
           "Kakuna",
           "Bug",
           "Poison",
           45,
           25,
           50,
           25,
           25,
           35,
           1,
           false
          ],
          [
           15,
           "Beedrill",
           "Bug",
           "Poison",
           65,
           90,
           40,
           45,
           80,
           75,
           1,
           false
          ],
          [
           15,
           "BeedrillMega Beedrill",
           "Bug",
           "Poison",
           65,
           150,
           40,
           15,
           80,
           145,
           1,
           false
          ],
          [
           46,
           "Paras",
           "Bug",
           "Grass",
           35,
           70,
           55,
           45,
           55,
           25,
           1,
           false
          ],
          [
           47,
           "Parasect",
           "Bug",
           "Grass",
           60,
           95,
           80,
           60,
           80,
           30,
           1,
           false
          ],
          [
           48,
           "Venonat",
           "Bug",
           "Poison",
           60,
           55,
           50,
           40,
           55,
           45,
           1,
           false
          ],
          [
           49,
           "Venomoth",
           "Bug",
           "Poison",
           70,
           65,
           60,
           90,
           75,
           90,
           1,
           false
          ],
          [
           123,
           "Scyther",
           "Bug",
           "Flying",
           70,
           110,
           80,
           55,
           80,
           105,
           1,
           false
          ],
          [
           127,
           "Pinsir",
           "Bug",
           null,
           65,
           125,
           100,
           55,
           70,
           85,
           1,
           false
          ],
          [
           127,
           "PinsirMega Pinsir",
           "Bug",
           "Flying",
           65,
           155,
           120,
           65,
           90,
           105,
           1,
           false
          ]
         ],
         "fillcolor": "rgba(255,255,255,0)",
         "hoveron": "points",
         "hovertemplate": "Type 1=%{customdata[2]}<br>Total=%{x}<br>#=%{customdata[0]}<br>Name=%{customdata[1]}<br>Type 2=%{customdata[3]}<br>HP=%{customdata[4]}<br>Attack=%{customdata[5]}<br>Defense=%{customdata[6]}<br>Sp. Atk=%{customdata[7]}<br>Sp. Def=%{customdata[8]}<br>Speed=%{customdata[9]}<br>Generation=%{customdata[10]}<br>Legendary=%{customdata[11]}<extra></extra>",
         "legendgroup": "Bug",
         "line": {
          "color": "rgba(255,255,255,0)"
         },
         "marker": {
          "color": "#ab63fa"
         },
         "name": "Bug",
         "offsetgroup": "Bug",
         "orientation": "h",
         "pointpos": 0,
         "showlegend": true,
         "type": "box",
         "x": [
          195,
          205,
          395,
          195,
          205,
          395,
          495,
          285,
          405,
          305,
          450,
          500,
          500,
          600
         ],
         "x0": " ",
         "xaxis": "x",
         "y0": " ",
         "yaxis": "y"
        },
        {
         "alignmentgroup": "True",
         "boxpoints": "all",
         "customdata": [
          [
           16,
           "Pidgey",
           "Normal",
           "Flying",
           40,
           45,
           40,
           35,
           35,
           56,
           1,
           false
          ],
          [
           17,
           "Pidgeotto",
           "Normal",
           "Flying",
           63,
           60,
           55,
           50,
           50,
           71,
           1,
           false
          ],
          [
           18,
           "Pidgeot",
           "Normal",
           "Flying",
           83,
           80,
           75,
           70,
           70,
           101,
           1,
           false
          ],
          [
           18,
           "PidgeotMega Pidgeot",
           "Normal",
           "Flying",
           83,
           80,
           80,
           135,
           80,
           121,
           1,
           false
          ],
          [
           19,
           "Rattata",
           "Normal",
           null,
           30,
           56,
           35,
           25,
           35,
           72,
           1,
           false
          ],
          [
           20,
           "Raticate",
           "Normal",
           null,
           55,
           81,
           60,
           50,
           70,
           97,
           1,
           false
          ],
          [
           21,
           "Spearow",
           "Normal",
           "Flying",
           40,
           60,
           30,
           31,
           31,
           70,
           1,
           false
          ],
          [
           22,
           "Fearow",
           "Normal",
           "Flying",
           65,
           90,
           65,
           61,
           61,
           100,
           1,
           false
          ],
          [
           39,
           "Jigglypuff",
           "Normal",
           "Fairy",
           115,
           45,
           20,
           45,
           25,
           20,
           1,
           false
          ],
          [
           40,
           "Wigglytuff",
           "Normal",
           "Fairy",
           140,
           70,
           45,
           85,
           50,
           45,
           1,
           false
          ],
          [
           52,
           "Meowth",
           "Normal",
           null,
           40,
           45,
           35,
           40,
           40,
           90,
           1,
           false
          ],
          [
           53,
           "Persian",
           "Normal",
           null,
           65,
           70,
           60,
           65,
           65,
           115,
           1,
           false
          ],
          [
           83,
           "Farfetch'd",
           "Normal",
           "Flying",
           52,
           65,
           55,
           58,
           62,
           60,
           1,
           false
          ],
          [
           84,
           "Doduo",
           "Normal",
           "Flying",
           35,
           85,
           45,
           35,
           35,
           75,
           1,
           false
          ],
          [
           85,
           "Dodrio",
           "Normal",
           "Flying",
           60,
           110,
           70,
           60,
           60,
           100,
           1,
           false
          ],
          [
           108,
           "Lickitung",
           "Normal",
           null,
           90,
           55,
           75,
           60,
           75,
           30,
           1,
           false
          ],
          [
           113,
           "Chansey",
           "Normal",
           null,
           250,
           5,
           5,
           35,
           105,
           50,
           1,
           false
          ],
          [
           115,
           "Kangaskhan",
           "Normal",
           null,
           105,
           95,
           80,
           40,
           80,
           90,
           1,
           false
          ],
          [
           115,
           "KangaskhanMega Kangaskhan",
           "Normal",
           null,
           105,
           125,
           100,
           60,
           100,
           100,
           1,
           false
          ],
          [
           128,
           "Tauros",
           "Normal",
           null,
           75,
           100,
           95,
           40,
           70,
           110,
           1,
           false
          ],
          [
           132,
           "Ditto",
           "Normal",
           null,
           48,
           48,
           48,
           48,
           48,
           48,
           1,
           false
          ],
          [
           133,
           "Eevee",
           "Normal",
           null,
           55,
           55,
           50,
           45,
           65,
           55,
           1,
           false
          ],
          [
           137,
           "Porygon",
           "Normal",
           null,
           65,
           60,
           70,
           85,
           75,
           40,
           1,
           false
          ],
          [
           143,
           "Snorlax",
           "Normal",
           null,
           160,
           110,
           65,
           65,
           110,
           30,
           1,
           false
          ]
         ],
         "fillcolor": "rgba(255,255,255,0)",
         "hoveron": "points",
         "hovertemplate": "Type 1=%{customdata[2]}<br>Total=%{x}<br>#=%{customdata[0]}<br>Name=%{customdata[1]}<br>Type 2=%{customdata[3]}<br>HP=%{customdata[4]}<br>Attack=%{customdata[5]}<br>Defense=%{customdata[6]}<br>Sp. Atk=%{customdata[7]}<br>Sp. Def=%{customdata[8]}<br>Speed=%{customdata[9]}<br>Generation=%{customdata[10]}<br>Legendary=%{customdata[11]}<extra></extra>",
         "legendgroup": "Normal",
         "line": {
          "color": "rgba(255,255,255,0)"
         },
         "marker": {
          "color": "#FFA15A"
         },
         "name": "Normal",
         "offsetgroup": "Normal",
         "orientation": "h",
         "pointpos": 0,
         "showlegend": true,
         "type": "box",
         "x": [
          251,
          349,
          479,
          579,
          253,
          413,
          262,
          442,
          270,
          435,
          290,
          440,
          352,
          310,
          460,
          385,
          450,
          490,
          590,
          490,
          288,
          325,
          395,
          540
         ],
         "x0": " ",
         "xaxis": "x",
         "y0": " ",
         "yaxis": "y"
        },
        {
         "alignmentgroup": "True",
         "boxpoints": "all",
         "customdata": [
          [
           23,
           "Ekans",
           "Poison",
           null,
           35,
           60,
           44,
           40,
           54,
           55,
           1,
           false
          ],
          [
           24,
           "Arbok",
           "Poison",
           null,
           60,
           85,
           69,
           65,
           79,
           80,
           1,
           false
          ],
          [
           29,
           "Nidoran♀",
           "Poison",
           null,
           55,
           47,
           52,
           40,
           40,
           41,
           1,
           false
          ],
          [
           30,
           "Nidorina",
           "Poison",
           null,
           70,
           62,
           67,
           55,
           55,
           56,
           1,
           false
          ],
          [
           31,
           "Nidoqueen",
           "Poison",
           "Ground",
           90,
           92,
           87,
           75,
           85,
           76,
           1,
           false
          ],
          [
           32,
           "Nidoran♂",
           "Poison",
           null,
           46,
           57,
           40,
           40,
           40,
           50,
           1,
           false
          ],
          [
           33,
           "Nidorino",
           "Poison",
           null,
           61,
           72,
           57,
           55,
           55,
           65,
           1,
           false
          ],
          [
           34,
           "Nidoking",
           "Poison",
           "Ground",
           81,
           102,
           77,
           85,
           75,
           85,
           1,
           false
          ],
          [
           41,
           "Zubat",
           "Poison",
           "Flying",
           40,
           45,
           35,
           30,
           40,
           55,
           1,
           false
          ],
          [
           42,
           "Golbat",
           "Poison",
           "Flying",
           75,
           80,
           70,
           65,
           75,
           90,
           1,
           false
          ],
          [
           88,
           "Grimer",
           "Poison",
           null,
           80,
           80,
           50,
           40,
           50,
           25,
           1,
           false
          ],
          [
           89,
           "Muk",
           "Poison",
           null,
           105,
           105,
           75,
           65,
           100,
           50,
           1,
           false
          ],
          [
           109,
           "Koffing",
           "Poison",
           null,
           40,
           65,
           95,
           60,
           45,
           35,
           1,
           false
          ],
          [
           110,
           "Weezing",
           "Poison",
           null,
           65,
           90,
           120,
           85,
           70,
           60,
           1,
           false
          ]
         ],
         "fillcolor": "rgba(255,255,255,0)",
         "hoveron": "points",
         "hovertemplate": "Type 1=%{customdata[2]}<br>Total=%{x}<br>#=%{customdata[0]}<br>Name=%{customdata[1]}<br>Type 2=%{customdata[3]}<br>HP=%{customdata[4]}<br>Attack=%{customdata[5]}<br>Defense=%{customdata[6]}<br>Sp. Atk=%{customdata[7]}<br>Sp. Def=%{customdata[8]}<br>Speed=%{customdata[9]}<br>Generation=%{customdata[10]}<br>Legendary=%{customdata[11]}<extra></extra>",
         "legendgroup": "Poison",
         "line": {
          "color": "rgba(255,255,255,0)"
         },
         "marker": {
          "color": "#19d3f3"
         },
         "name": "Poison",
         "offsetgroup": "Poison",
         "orientation": "h",
         "pointpos": 0,
         "showlegend": true,
         "type": "box",
         "x": [
          288,
          438,
          275,
          365,
          505,
          273,
          365,
          505,
          245,
          455,
          325,
          500,
          340,
          490
         ],
         "x0": " ",
         "xaxis": "x",
         "y0": " ",
         "yaxis": "y"
        },
        {
         "alignmentgroup": "True",
         "boxpoints": "all",
         "customdata": [
          [
           25,
           "Pikachu",
           "Electric",
           null,
           35,
           55,
           40,
           50,
           50,
           90,
           1,
           false
          ],
          [
           26,
           "Raichu",
           "Electric",
           null,
           60,
           90,
           55,
           90,
           80,
           110,
           1,
           false
          ],
          [
           81,
           "Magnemite",
           "Electric",
           "Steel",
           25,
           35,
           70,
           95,
           55,
           45,
           1,
           false
          ],
          [
           82,
           "Magneton",
           "Electric",
           "Steel",
           50,
           60,
           95,
           120,
           70,
           70,
           1,
           false
          ],
          [
           100,
           "Voltorb",
           "Electric",
           null,
           40,
           30,
           50,
           55,
           55,
           100,
           1,
           false
          ],
          [
           101,
           "Electrode",
           "Electric",
           null,
           60,
           50,
           70,
           80,
           80,
           140,
           1,
           false
          ],
          [
           125,
           "Electabuzz",
           "Electric",
           null,
           65,
           83,
           57,
           95,
           85,
           105,
           1,
           false
          ],
          [
           135,
           "Jolteon",
           "Electric",
           null,
           65,
           65,
           60,
           110,
           95,
           130,
           1,
           false
          ],
          [
           145,
           "Zapdos",
           "Electric",
           "Flying",
           90,
           90,
           85,
           125,
           90,
           100,
           1,
           true
          ]
         ],
         "fillcolor": "rgba(255,255,255,0)",
         "hoveron": "points",
         "hovertemplate": "Type 1=%{customdata[2]}<br>Total=%{x}<br>#=%{customdata[0]}<br>Name=%{customdata[1]}<br>Type 2=%{customdata[3]}<br>HP=%{customdata[4]}<br>Attack=%{customdata[5]}<br>Defense=%{customdata[6]}<br>Sp. Atk=%{customdata[7]}<br>Sp. Def=%{customdata[8]}<br>Speed=%{customdata[9]}<br>Generation=%{customdata[10]}<br>Legendary=%{customdata[11]}<extra></extra>",
         "legendgroup": "Electric",
         "line": {
          "color": "rgba(255,255,255,0)"
         },
         "marker": {
          "color": "#FF6692"
         },
         "name": "Electric",
         "offsetgroup": "Electric",
         "orientation": "h",
         "pointpos": 0,
         "showlegend": true,
         "type": "box",
         "x": [
          320,
          485,
          325,
          465,
          330,
          480,
          490,
          525,
          580
         ],
         "x0": " ",
         "xaxis": "x",
         "y0": " ",
         "yaxis": "y"
        },
        {
         "alignmentgroup": "True",
         "boxpoints": "all",
         "customdata": [
          [
           27,
           "Sandshrew",
           "Ground",
           null,
           50,
           75,
           85,
           20,
           30,
           40,
           1,
           false
          ],
          [
           28,
           "Sandslash",
           "Ground",
           null,
           75,
           100,
           110,
           45,
           55,
           65,
           1,
           false
          ],
          [
           50,
           "Diglett",
           "Ground",
           null,
           10,
           55,
           25,
           35,
           45,
           95,
           1,
           false
          ],
          [
           51,
           "Dugtrio",
           "Ground",
           null,
           35,
           80,
           50,
           50,
           70,
           120,
           1,
           false
          ],
          [
           104,
           "Cubone",
           "Ground",
           null,
           50,
           50,
           95,
           40,
           50,
           35,
           1,
           false
          ],
          [
           105,
           "Marowak",
           "Ground",
           null,
           60,
           80,
           110,
           50,
           80,
           45,
           1,
           false
          ],
          [
           111,
           "Rhyhorn",
           "Ground",
           "Rock",
           80,
           85,
           95,
           30,
           30,
           25,
           1,
           false
          ],
          [
           112,
           "Rhydon",
           "Ground",
           "Rock",
           105,
           130,
           120,
           45,
           45,
           40,
           1,
           false
          ]
         ],
         "fillcolor": "rgba(255,255,255,0)",
         "hoveron": "points",
         "hovertemplate": "Type 1=%{customdata[2]}<br>Total=%{x}<br>#=%{customdata[0]}<br>Name=%{customdata[1]}<br>Type 2=%{customdata[3]}<br>HP=%{customdata[4]}<br>Attack=%{customdata[5]}<br>Defense=%{customdata[6]}<br>Sp. Atk=%{customdata[7]}<br>Sp. Def=%{customdata[8]}<br>Speed=%{customdata[9]}<br>Generation=%{customdata[10]}<br>Legendary=%{customdata[11]}<extra></extra>",
         "legendgroup": "Ground",
         "line": {
          "color": "rgba(255,255,255,0)"
         },
         "marker": {
          "color": "#B6E880"
         },
         "name": "Ground",
         "offsetgroup": "Ground",
         "orientation": "h",
         "pointpos": 0,
         "showlegend": true,
         "type": "box",
         "x": [
          300,
          450,
          265,
          405,
          320,
          425,
          345,
          485
         ],
         "x0": " ",
         "xaxis": "x",
         "y0": " ",
         "yaxis": "y"
        },
        {
         "alignmentgroup": "True",
         "boxpoints": "all",
         "customdata": [
          [
           35,
           "Clefairy",
           "Fairy",
           null,
           70,
           45,
           48,
           60,
           65,
           35,
           1,
           false
          ],
          [
           36,
           "Clefable",
           "Fairy",
           null,
           95,
           70,
           73,
           95,
           90,
           60,
           1,
           false
          ]
         ],
         "fillcolor": "rgba(255,255,255,0)",
         "hoveron": "points",
         "hovertemplate": "Type 1=%{customdata[2]}<br>Total=%{x}<br>#=%{customdata[0]}<br>Name=%{customdata[1]}<br>Type 2=%{customdata[3]}<br>HP=%{customdata[4]}<br>Attack=%{customdata[5]}<br>Defense=%{customdata[6]}<br>Sp. Atk=%{customdata[7]}<br>Sp. Def=%{customdata[8]}<br>Speed=%{customdata[9]}<br>Generation=%{customdata[10]}<br>Legendary=%{customdata[11]}<extra></extra>",
         "legendgroup": "Fairy",
         "line": {
          "color": "rgba(255,255,255,0)"
         },
         "marker": {
          "color": "#FF97FF"
         },
         "name": "Fairy",
         "offsetgroup": "Fairy",
         "orientation": "h",
         "pointpos": 0,
         "showlegend": true,
         "type": "box",
         "x": [
          323,
          483
         ],
         "x0": " ",
         "xaxis": "x",
         "y0": " ",
         "yaxis": "y"
        },
        {
         "alignmentgroup": "True",
         "boxpoints": "all",
         "customdata": [
          [
           56,
           "Mankey",
           "Fighting",
           null,
           40,
           80,
           35,
           35,
           45,
           70,
           1,
           false
          ],
          [
           57,
           "Primeape",
           "Fighting",
           null,
           65,
           105,
           60,
           60,
           70,
           95,
           1,
           false
          ],
          [
           66,
           "Machop",
           "Fighting",
           null,
           70,
           80,
           50,
           35,
           35,
           35,
           1,
           false
          ],
          [
           67,
           "Machoke",
           "Fighting",
           null,
           80,
           100,
           70,
           50,
           60,
           45,
           1,
           false
          ],
          [
           68,
           "Machamp",
           "Fighting",
           null,
           90,
           130,
           80,
           65,
           85,
           55,
           1,
           false
          ],
          [
           106,
           "Hitmonlee",
           "Fighting",
           null,
           50,
           120,
           53,
           35,
           110,
           87,
           1,
           false
          ],
          [
           107,
           "Hitmonchan",
           "Fighting",
           null,
           50,
           105,
           79,
           35,
           110,
           76,
           1,
           false
          ]
         ],
         "fillcolor": "rgba(255,255,255,0)",
         "hoveron": "points",
         "hovertemplate": "Type 1=%{customdata[2]}<br>Total=%{x}<br>#=%{customdata[0]}<br>Name=%{customdata[1]}<br>Type 2=%{customdata[3]}<br>HP=%{customdata[4]}<br>Attack=%{customdata[5]}<br>Defense=%{customdata[6]}<br>Sp. Atk=%{customdata[7]}<br>Sp. Def=%{customdata[8]}<br>Speed=%{customdata[9]}<br>Generation=%{customdata[10]}<br>Legendary=%{customdata[11]}<extra></extra>",
         "legendgroup": "Fighting",
         "line": {
          "color": "rgba(255,255,255,0)"
         },
         "marker": {
          "color": "#FECB52"
         },
         "name": "Fighting",
         "offsetgroup": "Fighting",
         "orientation": "h",
         "pointpos": 0,
         "showlegend": true,
         "type": "box",
         "x": [
          305,
          455,
          305,
          405,
          505,
          455,
          455
         ],
         "x0": " ",
         "xaxis": "x",
         "y0": " ",
         "yaxis": "y"
        },
        {
         "alignmentgroup": "True",
         "boxpoints": "all",
         "customdata": [
          [
           63,
           "Abra",
           "Psychic",
           null,
           25,
           20,
           15,
           105,
           55,
           90,
           1,
           false
          ],
          [
           64,
           "Kadabra",
           "Psychic",
           null,
           40,
           35,
           30,
           120,
           70,
           105,
           1,
           false
          ],
          [
           65,
           "Alakazam",
           "Psychic",
           null,
           55,
           50,
           45,
           135,
           95,
           120,
           1,
           false
          ],
          [
           65,
           "AlakazamMega Alakazam",
           "Psychic",
           null,
           55,
           50,
           65,
           175,
           95,
           150,
           1,
           false
          ],
          [
           96,
           "Drowzee",
           "Psychic",
           null,
           60,
           48,
           45,
           43,
           90,
           42,
           1,
           false
          ],
          [
           97,
           "Hypno",
           "Psychic",
           null,
           85,
           73,
           70,
           73,
           115,
           67,
           1,
           false
          ],
          [
           122,
           "Mr. Mime",
           "Psychic",
           "Fairy",
           40,
           45,
           65,
           100,
           120,
           90,
           1,
           false
          ],
          [
           150,
           "Mewtwo",
           "Psychic",
           null,
           106,
           110,
           90,
           154,
           90,
           130,
           1,
           true
          ],
          [
           150,
           "MewtwoMega Mewtwo X",
           "Psychic",
           "Fighting",
           106,
           190,
           100,
           154,
           100,
           130,
           1,
           true
          ],
          [
           150,
           "MewtwoMega Mewtwo Y",
           "Psychic",
           null,
           106,
           150,
           70,
           194,
           120,
           140,
           1,
           true
          ],
          [
           151,
           "Mew",
           "Psychic",
           null,
           100,
           100,
           100,
           100,
           100,
           100,
           1,
           false
          ]
         ],
         "fillcolor": "rgba(255,255,255,0)",
         "hoveron": "points",
         "hovertemplate": "Type 1=%{customdata[2]}<br>Total=%{x}<br>#=%{customdata[0]}<br>Name=%{customdata[1]}<br>Type 2=%{customdata[3]}<br>HP=%{customdata[4]}<br>Attack=%{customdata[5]}<br>Defense=%{customdata[6]}<br>Sp. Atk=%{customdata[7]}<br>Sp. Def=%{customdata[8]}<br>Speed=%{customdata[9]}<br>Generation=%{customdata[10]}<br>Legendary=%{customdata[11]}<extra></extra>",
         "legendgroup": "Psychic",
         "line": {
          "color": "rgba(255,255,255,0)"
         },
         "marker": {
          "color": "#636efa"
         },
         "name": "Psychic",
         "offsetgroup": "Psychic",
         "orientation": "h",
         "pointpos": 0,
         "showlegend": true,
         "type": "box",
         "x": [
          310,
          400,
          500,
          590,
          328,
          483,
          460,
          680,
          780,
          780,
          600
         ],
         "x0": " ",
         "xaxis": "x",
         "y0": " ",
         "yaxis": "y"
        },
        {
         "alignmentgroup": "True",
         "boxpoints": "all",
         "customdata": [
          [
           74,
           "Geodude",
           "Rock",
           "Ground",
           40,
           80,
           100,
           30,
           30,
           20,
           1,
           false
          ],
          [
           75,
           "Graveler",
           "Rock",
           "Ground",
           55,
           95,
           115,
           45,
           45,
           35,
           1,
           false
          ],
          [
           76,
           "Golem",
           "Rock",
           "Ground",
           80,
           120,
           130,
           55,
           65,
           45,
           1,
           false
          ],
          [
           95,
           "Onix",
           "Rock",
           "Ground",
           35,
           45,
           160,
           30,
           45,
           70,
           1,
           false
          ],
          [
           138,
           "Omanyte",
           "Rock",
           "Water",
           35,
           40,
           100,
           90,
           55,
           35,
           1,
           false
          ],
          [
           139,
           "Omastar",
           "Rock",
           "Water",
           70,
           60,
           125,
           115,
           70,
           55,
           1,
           false
          ],
          [
           140,
           "Kabuto",
           "Rock",
           "Water",
           30,
           80,
           90,
           55,
           45,
           55,
           1,
           false
          ],
          [
           141,
           "Kabutops",
           "Rock",
           "Water",
           60,
           115,
           105,
           65,
           70,
           80,
           1,
           false
          ],
          [
           142,
           "Aerodactyl",
           "Rock",
           "Flying",
           80,
           105,
           65,
           60,
           75,
           130,
           1,
           false
          ],
          [
           142,
           "AerodactylMega Aerodactyl",
           "Rock",
           "Flying",
           80,
           135,
           85,
           70,
           95,
           150,
           1,
           false
          ]
         ],
         "fillcolor": "rgba(255,255,255,0)",
         "hoveron": "points",
         "hovertemplate": "Type 1=%{customdata[2]}<br>Total=%{x}<br>#=%{customdata[0]}<br>Name=%{customdata[1]}<br>Type 2=%{customdata[3]}<br>HP=%{customdata[4]}<br>Attack=%{customdata[5]}<br>Defense=%{customdata[6]}<br>Sp. Atk=%{customdata[7]}<br>Sp. Def=%{customdata[8]}<br>Speed=%{customdata[9]}<br>Generation=%{customdata[10]}<br>Legendary=%{customdata[11]}<extra></extra>",
         "legendgroup": "Rock",
         "line": {
          "color": "rgba(255,255,255,0)"
         },
         "marker": {
          "color": "#EF553B"
         },
         "name": "Rock",
         "offsetgroup": "Rock",
         "orientation": "h",
         "pointpos": 0,
         "showlegend": true,
         "type": "box",
         "x": [
          300,
          390,
          495,
          385,
          355,
          495,
          355,
          495,
          515,
          615
         ],
         "x0": " ",
         "xaxis": "x",
         "y0": " ",
         "yaxis": "y"
        },
        {
         "alignmentgroup": "True",
         "boxpoints": "all",
         "customdata": [
          [
           92,
           "Gastly",
           "Ghost",
           "Poison",
           30,
           35,
           30,
           100,
           35,
           80,
           1,
           false
          ],
          [
           93,
           "Haunter",
           "Ghost",
           "Poison",
           45,
           50,
           45,
           115,
           55,
           95,
           1,
           false
          ],
          [
           94,
           "Gengar",
           "Ghost",
           "Poison",
           60,
           65,
           60,
           130,
           75,
           110,
           1,
           false
          ],
          [
           94,
           "GengarMega Gengar",
           "Ghost",
           "Poison",
           60,
           65,
           80,
           170,
           95,
           130,
           1,
           false
          ]
         ],
         "fillcolor": "rgba(255,255,255,0)",
         "hoveron": "points",
         "hovertemplate": "Type 1=%{customdata[2]}<br>Total=%{x}<br>#=%{customdata[0]}<br>Name=%{customdata[1]}<br>Type 2=%{customdata[3]}<br>HP=%{customdata[4]}<br>Attack=%{customdata[5]}<br>Defense=%{customdata[6]}<br>Sp. Atk=%{customdata[7]}<br>Sp. Def=%{customdata[8]}<br>Speed=%{customdata[9]}<br>Generation=%{customdata[10]}<br>Legendary=%{customdata[11]}<extra></extra>",
         "legendgroup": "Ghost",
         "line": {
          "color": "rgba(255,255,255,0)"
         },
         "marker": {
          "color": "#00cc96"
         },
         "name": "Ghost",
         "offsetgroup": "Ghost",
         "orientation": "h",
         "pointpos": 0,
         "showlegend": true,
         "type": "box",
         "x": [
          310,
          405,
          500,
          600
         ],
         "x0": " ",
         "xaxis": "x",
         "y0": " ",
         "yaxis": "y"
        },
        {
         "alignmentgroup": "True",
         "boxpoints": "all",
         "customdata": [
          [
           124,
           "Jynx",
           "Ice",
           "Psychic",
           65,
           50,
           35,
           115,
           95,
           95,
           1,
           false
          ],
          [
           144,
           "Articuno",
           "Ice",
           "Flying",
           90,
           85,
           100,
           95,
           125,
           85,
           1,
           true
          ]
         ],
         "fillcolor": "rgba(255,255,255,0)",
         "hoveron": "points",
         "hovertemplate": "Type 1=%{customdata[2]}<br>Total=%{x}<br>#=%{customdata[0]}<br>Name=%{customdata[1]}<br>Type 2=%{customdata[3]}<br>HP=%{customdata[4]}<br>Attack=%{customdata[5]}<br>Defense=%{customdata[6]}<br>Sp. Atk=%{customdata[7]}<br>Sp. Def=%{customdata[8]}<br>Speed=%{customdata[9]}<br>Generation=%{customdata[10]}<br>Legendary=%{customdata[11]}<extra></extra>",
         "legendgroup": "Ice",
         "line": {
          "color": "rgba(255,255,255,0)"
         },
         "marker": {
          "color": "#ab63fa"
         },
         "name": "Ice",
         "offsetgroup": "Ice",
         "orientation": "h",
         "pointpos": 0,
         "showlegend": true,
         "type": "box",
         "x": [
          455,
          580
         ],
         "x0": " ",
         "xaxis": "x",
         "y0": " ",
         "yaxis": "y"
        },
        {
         "alignmentgroup": "True",
         "boxpoints": "all",
         "customdata": [
          [
           147,
           "Dratini",
           "Dragon",
           null,
           41,
           64,
           45,
           50,
           50,
           50,
           1,
           false
          ],
          [
           148,
           "Dragonair",
           "Dragon",
           null,
           61,
           84,
           65,
           70,
           70,
           70,
           1,
           false
          ],
          [
           149,
           "Dragonite",
           "Dragon",
           "Flying",
           91,
           134,
           95,
           100,
           100,
           80,
           1,
           false
          ]
         ],
         "fillcolor": "rgba(255,255,255,0)",
         "hoveron": "points",
         "hovertemplate": "Type 1=%{customdata[2]}<br>Total=%{x}<br>#=%{customdata[0]}<br>Name=%{customdata[1]}<br>Type 2=%{customdata[3]}<br>HP=%{customdata[4]}<br>Attack=%{customdata[5]}<br>Defense=%{customdata[6]}<br>Sp. Atk=%{customdata[7]}<br>Sp. Def=%{customdata[8]}<br>Speed=%{customdata[9]}<br>Generation=%{customdata[10]}<br>Legendary=%{customdata[11]}<extra></extra>",
         "legendgroup": "Dragon",
         "line": {
          "color": "rgba(255,255,255,0)"
         },
         "marker": {
          "color": "#FFA15A"
         },
         "name": "Dragon",
         "offsetgroup": "Dragon",
         "orientation": "h",
         "pointpos": 0,
         "showlegend": true,
         "type": "box",
         "x": [
          300,
          420,
          600
         ],
         "x0": " ",
         "xaxis": "x",
         "y0": " ",
         "yaxis": "y"
        }
       ],
       "layout": {
        "boxmode": "group",
        "legend": {
         "title": {
          "text": "Type 1"
         },
         "tracegroupgap": 0
        },
        "margin": {
         "t": 60
        },
        "template": {
         "data": {
          "bar": [
           {
            "error_x": {
             "color": "#2a3f5f"
            },
            "error_y": {
             "color": "#2a3f5f"
            },
            "marker": {
             "line": {
              "color": "#E5ECF6",
              "width": 0.5
             },
             "pattern": {
              "fillmode": "overlay",
              "size": 10,
              "solidity": 0.2
             }
            },
            "type": "bar"
           }
          ],
          "barpolar": [
           {
            "marker": {
             "line": {
              "color": "#E5ECF6",
              "width": 0.5
             },
             "pattern": {
              "fillmode": "overlay",
              "size": 10,
              "solidity": 0.2
             }
            },
            "type": "barpolar"
           }
          ],
          "carpet": [
           {
            "aaxis": {
             "endlinecolor": "#2a3f5f",
             "gridcolor": "white",
             "linecolor": "white",
             "minorgridcolor": "white",
             "startlinecolor": "#2a3f5f"
            },
            "baxis": {
             "endlinecolor": "#2a3f5f",
             "gridcolor": "white",
             "linecolor": "white",
             "minorgridcolor": "white",
             "startlinecolor": "#2a3f5f"
            },
            "type": "carpet"
           }
          ],
          "choropleth": [
           {
            "colorbar": {
             "outlinewidth": 0,
             "ticks": ""
            },
            "type": "choropleth"
           }
          ],
          "contour": [
           {
            "colorbar": {
             "outlinewidth": 0,
             "ticks": ""
            },
            "colorscale": [
             [
              0,
              "#0d0887"
             ],
             [
              0.1111111111111111,
              "#46039f"
             ],
             [
              0.2222222222222222,
              "#7201a8"
             ],
             [
              0.3333333333333333,
              "#9c179e"
             ],
             [
              0.4444444444444444,
              "#bd3786"
             ],
             [
              0.5555555555555556,
              "#d8576b"
             ],
             [
              0.6666666666666666,
              "#ed7953"
             ],
             [
              0.7777777777777778,
              "#fb9f3a"
             ],
             [
              0.8888888888888888,
              "#fdca26"
             ],
             [
              1,
              "#f0f921"
             ]
            ],
            "type": "contour"
           }
          ],
          "contourcarpet": [
           {
            "colorbar": {
             "outlinewidth": 0,
             "ticks": ""
            },
            "type": "contourcarpet"
           }
          ],
          "heatmap": [
           {
            "colorbar": {
             "outlinewidth": 0,
             "ticks": ""
            },
            "colorscale": [
             [
              0,
              "#0d0887"
             ],
             [
              0.1111111111111111,
              "#46039f"
             ],
             [
              0.2222222222222222,
              "#7201a8"
             ],
             [
              0.3333333333333333,
              "#9c179e"
             ],
             [
              0.4444444444444444,
              "#bd3786"
             ],
             [
              0.5555555555555556,
              "#d8576b"
             ],
             [
              0.6666666666666666,
              "#ed7953"
             ],
             [
              0.7777777777777778,
              "#fb9f3a"
             ],
             [
              0.8888888888888888,
              "#fdca26"
             ],
             [
              1,
              "#f0f921"
             ]
            ],
            "type": "heatmap"
           }
          ],
          "heatmapgl": [
           {
            "colorbar": {
             "outlinewidth": 0,
             "ticks": ""
            },
            "colorscale": [
             [
              0,
              "#0d0887"
             ],
             [
              0.1111111111111111,
              "#46039f"
             ],
             [
              0.2222222222222222,
              "#7201a8"
             ],
             [
              0.3333333333333333,
              "#9c179e"
             ],
             [
              0.4444444444444444,
              "#bd3786"
             ],
             [
              0.5555555555555556,
              "#d8576b"
             ],
             [
              0.6666666666666666,
              "#ed7953"
             ],
             [
              0.7777777777777778,
              "#fb9f3a"
             ],
             [
              0.8888888888888888,
              "#fdca26"
             ],
             [
              1,
              "#f0f921"
             ]
            ],
            "type": "heatmapgl"
           }
          ],
          "histogram": [
           {
            "marker": {
             "pattern": {
              "fillmode": "overlay",
              "size": 10,
              "solidity": 0.2
             }
            },
            "type": "histogram"
           }
          ],
          "histogram2d": [
           {
            "colorbar": {
             "outlinewidth": 0,
             "ticks": ""
            },
            "colorscale": [
             [
              0,
              "#0d0887"
             ],
             [
              0.1111111111111111,
              "#46039f"
             ],
             [
              0.2222222222222222,
              "#7201a8"
             ],
             [
              0.3333333333333333,
              "#9c179e"
             ],
             [
              0.4444444444444444,
              "#bd3786"
             ],
             [
              0.5555555555555556,
              "#d8576b"
             ],
             [
              0.6666666666666666,
              "#ed7953"
             ],
             [
              0.7777777777777778,
              "#fb9f3a"
             ],
             [
              0.8888888888888888,
              "#fdca26"
             ],
             [
              1,
              "#f0f921"
             ]
            ],
            "type": "histogram2d"
           }
          ],
          "histogram2dcontour": [
           {
            "colorbar": {
             "outlinewidth": 0,
             "ticks": ""
            },
            "colorscale": [
             [
              0,
              "#0d0887"
             ],
             [
              0.1111111111111111,
              "#46039f"
             ],
             [
              0.2222222222222222,
              "#7201a8"
             ],
             [
              0.3333333333333333,
              "#9c179e"
             ],
             [
              0.4444444444444444,
              "#bd3786"
             ],
             [
              0.5555555555555556,
              "#d8576b"
             ],
             [
              0.6666666666666666,
              "#ed7953"
             ],
             [
              0.7777777777777778,
              "#fb9f3a"
             ],
             [
              0.8888888888888888,
              "#fdca26"
             ],
             [
              1,
              "#f0f921"
             ]
            ],
            "type": "histogram2dcontour"
           }
          ],
          "mesh3d": [
           {
            "colorbar": {
             "outlinewidth": 0,
             "ticks": ""
            },
            "type": "mesh3d"
           }
          ],
          "parcoords": [
           {
            "line": {
             "colorbar": {
              "outlinewidth": 0,
              "ticks": ""
             }
            },
            "type": "parcoords"
           }
          ],
          "pie": [
           {
            "automargin": true,
            "type": "pie"
           }
          ],
          "scatter": [
           {
            "fillpattern": {
             "fillmode": "overlay",
             "size": 10,
             "solidity": 0.2
            },
            "type": "scatter"
           }
          ],
          "scatter3d": [
           {
            "line": {
             "colorbar": {
              "outlinewidth": 0,
              "ticks": ""
             }
            },
            "marker": {
             "colorbar": {
              "outlinewidth": 0,
              "ticks": ""
             }
            },
            "type": "scatter3d"
           }
          ],
          "scattercarpet": [
           {
            "marker": {
             "colorbar": {
              "outlinewidth": 0,
              "ticks": ""
             }
            },
            "type": "scattercarpet"
           }
          ],
          "scattergeo": [
           {
            "marker": {
             "colorbar": {
              "outlinewidth": 0,
              "ticks": ""
             }
            },
            "type": "scattergeo"
           }
          ],
          "scattergl": [
           {
            "marker": {
             "colorbar": {
              "outlinewidth": 0,
              "ticks": ""
             }
            },
            "type": "scattergl"
           }
          ],
          "scattermapbox": [
           {
            "marker": {
             "colorbar": {
              "outlinewidth": 0,
              "ticks": ""
             }
            },
            "type": "scattermapbox"
           }
          ],
          "scatterpolar": [
           {
            "marker": {
             "colorbar": {
              "outlinewidth": 0,
              "ticks": ""
             }
            },
            "type": "scatterpolar"
           }
          ],
          "scatterpolargl": [
           {
            "marker": {
             "colorbar": {
              "outlinewidth": 0,
              "ticks": ""
             }
            },
            "type": "scatterpolargl"
           }
          ],
          "scatterternary": [
           {
            "marker": {
             "colorbar": {
              "outlinewidth": 0,
              "ticks": ""
             }
            },
            "type": "scatterternary"
           }
          ],
          "surface": [
           {
            "colorbar": {
             "outlinewidth": 0,
             "ticks": ""
            },
            "colorscale": [
             [
              0,
              "#0d0887"
             ],
             [
              0.1111111111111111,
              "#46039f"
             ],
             [
              0.2222222222222222,
              "#7201a8"
             ],
             [
              0.3333333333333333,
              "#9c179e"
             ],
             [
              0.4444444444444444,
              "#bd3786"
             ],
             [
              0.5555555555555556,
              "#d8576b"
             ],
             [
              0.6666666666666666,
              "#ed7953"
             ],
             [
              0.7777777777777778,
              "#fb9f3a"
             ],
             [
              0.8888888888888888,
              "#fdca26"
             ],
             [
              1,
              "#f0f921"
             ]
            ],
            "type": "surface"
           }
          ],
          "table": [
           {
            "cells": {
             "fill": {
              "color": "#EBF0F8"
             },
             "line": {
              "color": "white"
             }
            },
            "header": {
             "fill": {
              "color": "#C8D4E3"
             },
             "line": {
              "color": "white"
             }
            },
            "type": "table"
           }
          ]
         },
         "layout": {
          "annotationdefaults": {
           "arrowcolor": "#2a3f5f",
           "arrowhead": 0,
           "arrowwidth": 1
          },
          "autotypenumbers": "strict",
          "coloraxis": {
           "colorbar": {
            "outlinewidth": 0,
            "ticks": ""
           }
          },
          "colorscale": {
           "diverging": [
            [
             0,
             "#8e0152"
            ],
            [
             0.1,
             "#c51b7d"
            ],
            [
             0.2,
             "#de77ae"
            ],
            [
             0.3,
             "#f1b6da"
            ],
            [
             0.4,
             "#fde0ef"
            ],
            [
             0.5,
             "#f7f7f7"
            ],
            [
             0.6,
             "#e6f5d0"
            ],
            [
             0.7,
             "#b8e186"
            ],
            [
             0.8,
             "#7fbc41"
            ],
            [
             0.9,
             "#4d9221"
            ],
            [
             1,
             "#276419"
            ]
           ],
           "sequential": [
            [
             0,
             "#0d0887"
            ],
            [
             0.1111111111111111,
             "#46039f"
            ],
            [
             0.2222222222222222,
             "#7201a8"
            ],
            [
             0.3333333333333333,
             "#9c179e"
            ],
            [
             0.4444444444444444,
             "#bd3786"
            ],
            [
             0.5555555555555556,
             "#d8576b"
            ],
            [
             0.6666666666666666,
             "#ed7953"
            ],
            [
             0.7777777777777778,
             "#fb9f3a"
            ],
            [
             0.8888888888888888,
             "#fdca26"
            ],
            [
             1,
             "#f0f921"
            ]
           ],
           "sequentialminus": [
            [
             0,
             "#0d0887"
            ],
            [
             0.1111111111111111,
             "#46039f"
            ],
            [
             0.2222222222222222,
             "#7201a8"
            ],
            [
             0.3333333333333333,
             "#9c179e"
            ],
            [
             0.4444444444444444,
             "#bd3786"
            ],
            [
             0.5555555555555556,
             "#d8576b"
            ],
            [
             0.6666666666666666,
             "#ed7953"
            ],
            [
             0.7777777777777778,
             "#fb9f3a"
            ],
            [
             0.8888888888888888,
             "#fdca26"
            ],
            [
             1,
             "#f0f921"
            ]
           ]
          },
          "colorway": [
           "#636efa",
           "#EF553B",
           "#00cc96",
           "#ab63fa",
           "#FFA15A",
           "#19d3f3",
           "#FF6692",
           "#B6E880",
           "#FF97FF",
           "#FECB52"
          ],
          "font": {
           "color": "#2a3f5f"
          },
          "geo": {
           "bgcolor": "white",
           "lakecolor": "white",
           "landcolor": "#E5ECF6",
           "showlakes": true,
           "showland": true,
           "subunitcolor": "white"
          },
          "hoverlabel": {
           "align": "left"
          },
          "hovermode": "closest",
          "mapbox": {
           "style": "light"
          },
          "paper_bgcolor": "white",
          "plot_bgcolor": "#E5ECF6",
          "polar": {
           "angularaxis": {
            "gridcolor": "white",
            "linecolor": "white",
            "ticks": ""
           },
           "bgcolor": "#E5ECF6",
           "radialaxis": {
            "gridcolor": "white",
            "linecolor": "white",
            "ticks": ""
           }
          },
          "scene": {
           "xaxis": {
            "backgroundcolor": "#E5ECF6",
            "gridcolor": "white",
            "gridwidth": 2,
            "linecolor": "white",
            "showbackground": true,
            "ticks": "",
            "zerolinecolor": "white"
           },
           "yaxis": {
            "backgroundcolor": "#E5ECF6",
            "gridcolor": "white",
            "gridwidth": 2,
            "linecolor": "white",
            "showbackground": true,
            "ticks": "",
            "zerolinecolor": "white"
           },
           "zaxis": {
            "backgroundcolor": "#E5ECF6",
            "gridcolor": "white",
            "gridwidth": 2,
            "linecolor": "white",
            "showbackground": true,
            "ticks": "",
            "zerolinecolor": "white"
           }
          },
          "shapedefaults": {
           "line": {
            "color": "#2a3f5f"
           }
          },
          "ternary": {
           "aaxis": {
            "gridcolor": "white",
            "linecolor": "white",
            "ticks": ""
           },
           "baxis": {
            "gridcolor": "white",
            "linecolor": "white",
            "ticks": ""
           },
           "bgcolor": "#E5ECF6",
           "caxis": {
            "gridcolor": "white",
            "linecolor": "white",
            "ticks": ""
           }
          },
          "title": {
           "x": 0.05
          },
          "xaxis": {
           "automargin": true,
           "gridcolor": "white",
           "linecolor": "white",
           "ticks": "",
           "title": {
            "standoff": 15
           },
           "zerolinecolor": "white",
           "zerolinewidth": 2
          },
          "yaxis": {
           "automargin": true,
           "gridcolor": "white",
           "linecolor": "white",
           "ticks": "",
           "title": {
            "standoff": 15
           },
           "zerolinecolor": "white",
           "zerolinewidth": 2
          }
         }
        },
        "xaxis": {
         "anchor": "y",
         "domain": [
          0,
          1
         ],
         "title": {
          "text": "Total"
         }
        },
        "yaxis": {
         "anchor": "x",
         "domain": [
          0,
          1
         ]
        }
       }
      },
      "text/html": [
       "<div>                        <script type=\"text/javascript\">window.PlotlyConfig = {MathJaxConfig: 'local'};</script>\n",
       "        <script charset=\"utf-8\" src=\"https://cdn.plot.ly/plotly-2.29.1.min.js\"></script>                <div id=\"cb272ab5-bc8e-4dd4-9630-472940d2ef66\" class=\"plotly-graph-div\" style=\"height:100%; width:100%;\"></div>            <script type=\"text/javascript\">                                    window.PLOTLYENV=window.PLOTLYENV || {};                                    if (document.getElementById(\"cb272ab5-bc8e-4dd4-9630-472940d2ef66\")) {                    Plotly.newPlot(                        \"cb272ab5-bc8e-4dd4-9630-472940d2ef66\",                        [{\"alignmentgroup\":\"True\",\"boxpoints\":\"all\",\"customdata\":[[1,\"Bulbasaur\",\"Grass\",\"Poison\",45,49,49,65,65,45,1,false],[2,\"Ivysaur\",\"Grass\",\"Poison\",60,62,63,80,80,60,1,false],[3,\"Venusaur\",\"Grass\",\"Poison\",80,82,83,100,100,80,1,false],[3,\"VenusaurMega Venusaur\",\"Grass\",\"Poison\",80,100,123,122,120,80,1,false],[43,\"Oddish\",\"Grass\",\"Poison\",45,50,55,75,65,30,1,false],[44,\"Gloom\",\"Grass\",\"Poison\",60,65,70,85,75,40,1,false],[45,\"Vileplume\",\"Grass\",\"Poison\",75,80,85,110,90,50,1,false],[69,\"Bellsprout\",\"Grass\",\"Poison\",50,75,35,70,30,40,1,false],[70,\"Weepinbell\",\"Grass\",\"Poison\",65,90,50,85,45,55,1,false],[71,\"Victreebel\",\"Grass\",\"Poison\",80,105,65,100,70,70,1,false],[102,\"Exeggcute\",\"Grass\",\"Psychic\",60,40,80,60,45,40,1,false],[103,\"Exeggutor\",\"Grass\",\"Psychic\",95,95,85,125,65,55,1,false],[114,\"Tangela\",\"Grass\",null,65,55,115,100,40,60,1,false]],\"fillcolor\":\"rgba(255,255,255,0)\",\"hoveron\":\"points\",\"hovertemplate\":\"Type 1=%{customdata[2]}\\u003cbr\\u003eTotal=%{x}\\u003cbr\\u003e#=%{customdata[0]}\\u003cbr\\u003eName=%{customdata[1]}\\u003cbr\\u003eType 2=%{customdata[3]}\\u003cbr\\u003eHP=%{customdata[4]}\\u003cbr\\u003eAttack=%{customdata[5]}\\u003cbr\\u003eDefense=%{customdata[6]}\\u003cbr\\u003eSp. Atk=%{customdata[7]}\\u003cbr\\u003eSp. Def=%{customdata[8]}\\u003cbr\\u003eSpeed=%{customdata[9]}\\u003cbr\\u003eGeneration=%{customdata[10]}\\u003cbr\\u003eLegendary=%{customdata[11]}\\u003cextra\\u003e\\u003c\\u002fextra\\u003e\",\"legendgroup\":\"Grass\",\"line\":{\"color\":\"rgba(255,255,255,0)\"},\"marker\":{\"color\":\"#636efa\"},\"name\":\"Grass\",\"offsetgroup\":\"Grass\",\"orientation\":\"h\",\"pointpos\":0,\"showlegend\":true,\"x\":[318,405,525,625,320,395,490,300,390,490,325,520,435],\"x0\":\" \",\"xaxis\":\"x\",\"y0\":\" \",\"yaxis\":\"y\",\"type\":\"box\"},{\"alignmentgroup\":\"True\",\"boxpoints\":\"all\",\"customdata\":[[4,\"Charmander\",\"Fire\",null,39,52,43,60,50,65,1,false],[5,\"Charmeleon\",\"Fire\",null,58,64,58,80,65,80,1,false],[6,\"Charizard\",\"Fire\",\"Flying\",78,84,78,109,85,100,1,false],[6,\"CharizardMega Charizard X\",\"Fire\",\"Dragon\",78,130,111,130,85,100,1,false],[6,\"CharizardMega Charizard Y\",\"Fire\",\"Flying\",78,104,78,159,115,100,1,false],[37,\"Vulpix\",\"Fire\",null,38,41,40,50,65,65,1,false],[38,\"Ninetales\",\"Fire\",null,73,76,75,81,100,100,1,false],[58,\"Growlithe\",\"Fire\",null,55,70,45,70,50,60,1,false],[59,\"Arcanine\",\"Fire\",null,90,110,80,100,80,95,1,false],[77,\"Ponyta\",\"Fire\",null,50,85,55,65,65,90,1,false],[78,\"Rapidash\",\"Fire\",null,65,100,70,80,80,105,1,false],[126,\"Magmar\",\"Fire\",null,65,95,57,100,85,93,1,false],[136,\"Flareon\",\"Fire\",null,65,130,60,95,110,65,1,false],[146,\"Moltres\",\"Fire\",\"Flying\",90,100,90,125,85,90,1,true]],\"fillcolor\":\"rgba(255,255,255,0)\",\"hoveron\":\"points\",\"hovertemplate\":\"Type 1=%{customdata[2]}\\u003cbr\\u003eTotal=%{x}\\u003cbr\\u003e#=%{customdata[0]}\\u003cbr\\u003eName=%{customdata[1]}\\u003cbr\\u003eType 2=%{customdata[3]}\\u003cbr\\u003eHP=%{customdata[4]}\\u003cbr\\u003eAttack=%{customdata[5]}\\u003cbr\\u003eDefense=%{customdata[6]}\\u003cbr\\u003eSp. Atk=%{customdata[7]}\\u003cbr\\u003eSp. Def=%{customdata[8]}\\u003cbr\\u003eSpeed=%{customdata[9]}\\u003cbr\\u003eGeneration=%{customdata[10]}\\u003cbr\\u003eLegendary=%{customdata[11]}\\u003cextra\\u003e\\u003c\\u002fextra\\u003e\",\"legendgroup\":\"Fire\",\"line\":{\"color\":\"rgba(255,255,255,0)\"},\"marker\":{\"color\":\"#EF553B\"},\"name\":\"Fire\",\"offsetgroup\":\"Fire\",\"orientation\":\"h\",\"pointpos\":0,\"showlegend\":true,\"x\":[309,405,534,634,634,299,505,350,555,410,500,495,525,580],\"x0\":\" \",\"xaxis\":\"x\",\"y0\":\" \",\"yaxis\":\"y\",\"type\":\"box\"},{\"alignmentgroup\":\"True\",\"boxpoints\":\"all\",\"customdata\":[[7,\"Squirtle\",\"Water\",null,44,48,65,50,64,43,1,false],[8,\"Wartortle\",\"Water\",null,59,63,80,65,80,58,1,false],[9,\"Blastoise\",\"Water\",null,79,83,100,85,105,78,1,false],[9,\"BlastoiseMega Blastoise\",\"Water\",null,79,103,120,135,115,78,1,false],[54,\"Psyduck\",\"Water\",null,50,52,48,65,50,55,1,false],[55,\"Golduck\",\"Water\",null,80,82,78,95,80,85,1,false],[60,\"Poliwag\",\"Water\",null,40,50,40,40,40,90,1,false],[61,\"Poliwhirl\",\"Water\",null,65,65,65,50,50,90,1,false],[62,\"Poliwrath\",\"Water\",\"Fighting\",90,95,95,70,90,70,1,false],[72,\"Tentacool\",\"Water\",\"Poison\",40,40,35,50,100,70,1,false],[73,\"Tentacruel\",\"Water\",\"Poison\",80,70,65,80,120,100,1,false],[79,\"Slowpoke\",\"Water\",\"Psychic\",90,65,65,40,40,15,1,false],[80,\"Slowbro\",\"Water\",\"Psychic\",95,75,110,100,80,30,1,false],[80,\"SlowbroMega Slowbro\",\"Water\",\"Psychic\",95,75,180,130,80,30,1,false],[86,\"Seel\",\"Water\",null,65,45,55,45,70,45,1,false],[87,\"Dewgong\",\"Water\",\"Ice\",90,70,80,70,95,70,1,false],[90,\"Shellder\",\"Water\",null,30,65,100,45,25,40,1,false],[91,\"Cloyster\",\"Water\",\"Ice\",50,95,180,85,45,70,1,false],[98,\"Krabby\",\"Water\",null,30,105,90,25,25,50,1,false],[99,\"Kingler\",\"Water\",null,55,130,115,50,50,75,1,false],[116,\"Horsea\",\"Water\",null,30,40,70,70,25,60,1,false],[117,\"Seadra\",\"Water\",null,55,65,95,95,45,85,1,false],[118,\"Goldeen\",\"Water\",null,45,67,60,35,50,63,1,false],[119,\"Seaking\",\"Water\",null,80,92,65,65,80,68,1,false],[120,\"Staryu\",\"Water\",null,30,45,55,70,55,85,1,false],[121,\"Starmie\",\"Water\",\"Psychic\",60,75,85,100,85,115,1,false],[129,\"Magikarp\",\"Water\",null,20,10,55,15,20,80,1,false],[130,\"Gyarados\",\"Water\",\"Flying\",95,125,79,60,100,81,1,false],[130,\"GyaradosMega Gyarados\",\"Water\",\"Dark\",95,155,109,70,130,81,1,false],[131,\"Lapras\",\"Water\",\"Ice\",130,85,80,85,95,60,1,false],[134,\"Vaporeon\",\"Water\",null,130,65,60,110,95,65,1,false]],\"fillcolor\":\"rgba(255,255,255,0)\",\"hoveron\":\"points\",\"hovertemplate\":\"Type 1=%{customdata[2]}\\u003cbr\\u003eTotal=%{x}\\u003cbr\\u003e#=%{customdata[0]}\\u003cbr\\u003eName=%{customdata[1]}\\u003cbr\\u003eType 2=%{customdata[3]}\\u003cbr\\u003eHP=%{customdata[4]}\\u003cbr\\u003eAttack=%{customdata[5]}\\u003cbr\\u003eDefense=%{customdata[6]}\\u003cbr\\u003eSp. Atk=%{customdata[7]}\\u003cbr\\u003eSp. Def=%{customdata[8]}\\u003cbr\\u003eSpeed=%{customdata[9]}\\u003cbr\\u003eGeneration=%{customdata[10]}\\u003cbr\\u003eLegendary=%{customdata[11]}\\u003cextra\\u003e\\u003c\\u002fextra\\u003e\",\"legendgroup\":\"Water\",\"line\":{\"color\":\"rgba(255,255,255,0)\"},\"marker\":{\"color\":\"#00cc96\"},\"name\":\"Water\",\"offsetgroup\":\"Water\",\"orientation\":\"h\",\"pointpos\":0,\"showlegend\":true,\"x\":[314,405,530,630,320,500,300,385,510,335,515,315,490,590,325,475,305,525,325,475,295,440,320,450,340,520,200,540,640,535,525],\"x0\":\" \",\"xaxis\":\"x\",\"y0\":\" \",\"yaxis\":\"y\",\"type\":\"box\"},{\"alignmentgroup\":\"True\",\"boxpoints\":\"all\",\"customdata\":[[10,\"Caterpie\",\"Bug\",null,45,30,35,20,20,45,1,false],[11,\"Metapod\",\"Bug\",null,50,20,55,25,25,30,1,false],[12,\"Butterfree\",\"Bug\",\"Flying\",60,45,50,90,80,70,1,false],[13,\"Weedle\",\"Bug\",\"Poison\",40,35,30,20,20,50,1,false],[14,\"Kakuna\",\"Bug\",\"Poison\",45,25,50,25,25,35,1,false],[15,\"Beedrill\",\"Bug\",\"Poison\",65,90,40,45,80,75,1,false],[15,\"BeedrillMega Beedrill\",\"Bug\",\"Poison\",65,150,40,15,80,145,1,false],[46,\"Paras\",\"Bug\",\"Grass\",35,70,55,45,55,25,1,false],[47,\"Parasect\",\"Bug\",\"Grass\",60,95,80,60,80,30,1,false],[48,\"Venonat\",\"Bug\",\"Poison\",60,55,50,40,55,45,1,false],[49,\"Venomoth\",\"Bug\",\"Poison\",70,65,60,90,75,90,1,false],[123,\"Scyther\",\"Bug\",\"Flying\",70,110,80,55,80,105,1,false],[127,\"Pinsir\",\"Bug\",null,65,125,100,55,70,85,1,false],[127,\"PinsirMega Pinsir\",\"Bug\",\"Flying\",65,155,120,65,90,105,1,false]],\"fillcolor\":\"rgba(255,255,255,0)\",\"hoveron\":\"points\",\"hovertemplate\":\"Type 1=%{customdata[2]}\\u003cbr\\u003eTotal=%{x}\\u003cbr\\u003e#=%{customdata[0]}\\u003cbr\\u003eName=%{customdata[1]}\\u003cbr\\u003eType 2=%{customdata[3]}\\u003cbr\\u003eHP=%{customdata[4]}\\u003cbr\\u003eAttack=%{customdata[5]}\\u003cbr\\u003eDefense=%{customdata[6]}\\u003cbr\\u003eSp. Atk=%{customdata[7]}\\u003cbr\\u003eSp. Def=%{customdata[8]}\\u003cbr\\u003eSpeed=%{customdata[9]}\\u003cbr\\u003eGeneration=%{customdata[10]}\\u003cbr\\u003eLegendary=%{customdata[11]}\\u003cextra\\u003e\\u003c\\u002fextra\\u003e\",\"legendgroup\":\"Bug\",\"line\":{\"color\":\"rgba(255,255,255,0)\"},\"marker\":{\"color\":\"#ab63fa\"},\"name\":\"Bug\",\"offsetgroup\":\"Bug\",\"orientation\":\"h\",\"pointpos\":0,\"showlegend\":true,\"x\":[195,205,395,195,205,395,495,285,405,305,450,500,500,600],\"x0\":\" \",\"xaxis\":\"x\",\"y0\":\" \",\"yaxis\":\"y\",\"type\":\"box\"},{\"alignmentgroup\":\"True\",\"boxpoints\":\"all\",\"customdata\":[[16,\"Pidgey\",\"Normal\",\"Flying\",40,45,40,35,35,56,1,false],[17,\"Pidgeotto\",\"Normal\",\"Flying\",63,60,55,50,50,71,1,false],[18,\"Pidgeot\",\"Normal\",\"Flying\",83,80,75,70,70,101,1,false],[18,\"PidgeotMega Pidgeot\",\"Normal\",\"Flying\",83,80,80,135,80,121,1,false],[19,\"Rattata\",\"Normal\",null,30,56,35,25,35,72,1,false],[20,\"Raticate\",\"Normal\",null,55,81,60,50,70,97,1,false],[21,\"Spearow\",\"Normal\",\"Flying\",40,60,30,31,31,70,1,false],[22,\"Fearow\",\"Normal\",\"Flying\",65,90,65,61,61,100,1,false],[39,\"Jigglypuff\",\"Normal\",\"Fairy\",115,45,20,45,25,20,1,false],[40,\"Wigglytuff\",\"Normal\",\"Fairy\",140,70,45,85,50,45,1,false],[52,\"Meowth\",\"Normal\",null,40,45,35,40,40,90,1,false],[53,\"Persian\",\"Normal\",null,65,70,60,65,65,115,1,false],[83,\"Farfetch'd\",\"Normal\",\"Flying\",52,65,55,58,62,60,1,false],[84,\"Doduo\",\"Normal\",\"Flying\",35,85,45,35,35,75,1,false],[85,\"Dodrio\",\"Normal\",\"Flying\",60,110,70,60,60,100,1,false],[108,\"Lickitung\",\"Normal\",null,90,55,75,60,75,30,1,false],[113,\"Chansey\",\"Normal\",null,250,5,5,35,105,50,1,false],[115,\"Kangaskhan\",\"Normal\",null,105,95,80,40,80,90,1,false],[115,\"KangaskhanMega Kangaskhan\",\"Normal\",null,105,125,100,60,100,100,1,false],[128,\"Tauros\",\"Normal\",null,75,100,95,40,70,110,1,false],[132,\"Ditto\",\"Normal\",null,48,48,48,48,48,48,1,false],[133,\"Eevee\",\"Normal\",null,55,55,50,45,65,55,1,false],[137,\"Porygon\",\"Normal\",null,65,60,70,85,75,40,1,false],[143,\"Snorlax\",\"Normal\",null,160,110,65,65,110,30,1,false]],\"fillcolor\":\"rgba(255,255,255,0)\",\"hoveron\":\"points\",\"hovertemplate\":\"Type 1=%{customdata[2]}\\u003cbr\\u003eTotal=%{x}\\u003cbr\\u003e#=%{customdata[0]}\\u003cbr\\u003eName=%{customdata[1]}\\u003cbr\\u003eType 2=%{customdata[3]}\\u003cbr\\u003eHP=%{customdata[4]}\\u003cbr\\u003eAttack=%{customdata[5]}\\u003cbr\\u003eDefense=%{customdata[6]}\\u003cbr\\u003eSp. Atk=%{customdata[7]}\\u003cbr\\u003eSp. Def=%{customdata[8]}\\u003cbr\\u003eSpeed=%{customdata[9]}\\u003cbr\\u003eGeneration=%{customdata[10]}\\u003cbr\\u003eLegendary=%{customdata[11]}\\u003cextra\\u003e\\u003c\\u002fextra\\u003e\",\"legendgroup\":\"Normal\",\"line\":{\"color\":\"rgba(255,255,255,0)\"},\"marker\":{\"color\":\"#FFA15A\"},\"name\":\"Normal\",\"offsetgroup\":\"Normal\",\"orientation\":\"h\",\"pointpos\":0,\"showlegend\":true,\"x\":[251,349,479,579,253,413,262,442,270,435,290,440,352,310,460,385,450,490,590,490,288,325,395,540],\"x0\":\" \",\"xaxis\":\"x\",\"y0\":\" \",\"yaxis\":\"y\",\"type\":\"box\"},{\"alignmentgroup\":\"True\",\"boxpoints\":\"all\",\"customdata\":[[23,\"Ekans\",\"Poison\",null,35,60,44,40,54,55,1,false],[24,\"Arbok\",\"Poison\",null,60,85,69,65,79,80,1,false],[29,\"Nidoran\\u2640\",\"Poison\",null,55,47,52,40,40,41,1,false],[30,\"Nidorina\",\"Poison\",null,70,62,67,55,55,56,1,false],[31,\"Nidoqueen\",\"Poison\",\"Ground\",90,92,87,75,85,76,1,false],[32,\"Nidoran\\u2642\",\"Poison\",null,46,57,40,40,40,50,1,false],[33,\"Nidorino\",\"Poison\",null,61,72,57,55,55,65,1,false],[34,\"Nidoking\",\"Poison\",\"Ground\",81,102,77,85,75,85,1,false],[41,\"Zubat\",\"Poison\",\"Flying\",40,45,35,30,40,55,1,false],[42,\"Golbat\",\"Poison\",\"Flying\",75,80,70,65,75,90,1,false],[88,\"Grimer\",\"Poison\",null,80,80,50,40,50,25,1,false],[89,\"Muk\",\"Poison\",null,105,105,75,65,100,50,1,false],[109,\"Koffing\",\"Poison\",null,40,65,95,60,45,35,1,false],[110,\"Weezing\",\"Poison\",null,65,90,120,85,70,60,1,false]],\"fillcolor\":\"rgba(255,255,255,0)\",\"hoveron\":\"points\",\"hovertemplate\":\"Type 1=%{customdata[2]}\\u003cbr\\u003eTotal=%{x}\\u003cbr\\u003e#=%{customdata[0]}\\u003cbr\\u003eName=%{customdata[1]}\\u003cbr\\u003eType 2=%{customdata[3]}\\u003cbr\\u003eHP=%{customdata[4]}\\u003cbr\\u003eAttack=%{customdata[5]}\\u003cbr\\u003eDefense=%{customdata[6]}\\u003cbr\\u003eSp. Atk=%{customdata[7]}\\u003cbr\\u003eSp. Def=%{customdata[8]}\\u003cbr\\u003eSpeed=%{customdata[9]}\\u003cbr\\u003eGeneration=%{customdata[10]}\\u003cbr\\u003eLegendary=%{customdata[11]}\\u003cextra\\u003e\\u003c\\u002fextra\\u003e\",\"legendgroup\":\"Poison\",\"line\":{\"color\":\"rgba(255,255,255,0)\"},\"marker\":{\"color\":\"#19d3f3\"},\"name\":\"Poison\",\"offsetgroup\":\"Poison\",\"orientation\":\"h\",\"pointpos\":0,\"showlegend\":true,\"x\":[288,438,275,365,505,273,365,505,245,455,325,500,340,490],\"x0\":\" \",\"xaxis\":\"x\",\"y0\":\" \",\"yaxis\":\"y\",\"type\":\"box\"},{\"alignmentgroup\":\"True\",\"boxpoints\":\"all\",\"customdata\":[[25,\"Pikachu\",\"Electric\",null,35,55,40,50,50,90,1,false],[26,\"Raichu\",\"Electric\",null,60,90,55,90,80,110,1,false],[81,\"Magnemite\",\"Electric\",\"Steel\",25,35,70,95,55,45,1,false],[82,\"Magneton\",\"Electric\",\"Steel\",50,60,95,120,70,70,1,false],[100,\"Voltorb\",\"Electric\",null,40,30,50,55,55,100,1,false],[101,\"Electrode\",\"Electric\",null,60,50,70,80,80,140,1,false],[125,\"Electabuzz\",\"Electric\",null,65,83,57,95,85,105,1,false],[135,\"Jolteon\",\"Electric\",null,65,65,60,110,95,130,1,false],[145,\"Zapdos\",\"Electric\",\"Flying\",90,90,85,125,90,100,1,true]],\"fillcolor\":\"rgba(255,255,255,0)\",\"hoveron\":\"points\",\"hovertemplate\":\"Type 1=%{customdata[2]}\\u003cbr\\u003eTotal=%{x}\\u003cbr\\u003e#=%{customdata[0]}\\u003cbr\\u003eName=%{customdata[1]}\\u003cbr\\u003eType 2=%{customdata[3]}\\u003cbr\\u003eHP=%{customdata[4]}\\u003cbr\\u003eAttack=%{customdata[5]}\\u003cbr\\u003eDefense=%{customdata[6]}\\u003cbr\\u003eSp. Atk=%{customdata[7]}\\u003cbr\\u003eSp. Def=%{customdata[8]}\\u003cbr\\u003eSpeed=%{customdata[9]}\\u003cbr\\u003eGeneration=%{customdata[10]}\\u003cbr\\u003eLegendary=%{customdata[11]}\\u003cextra\\u003e\\u003c\\u002fextra\\u003e\",\"legendgroup\":\"Electric\",\"line\":{\"color\":\"rgba(255,255,255,0)\"},\"marker\":{\"color\":\"#FF6692\"},\"name\":\"Electric\",\"offsetgroup\":\"Electric\",\"orientation\":\"h\",\"pointpos\":0,\"showlegend\":true,\"x\":[320,485,325,465,330,480,490,525,580],\"x0\":\" \",\"xaxis\":\"x\",\"y0\":\" \",\"yaxis\":\"y\",\"type\":\"box\"},{\"alignmentgroup\":\"True\",\"boxpoints\":\"all\",\"customdata\":[[27,\"Sandshrew\",\"Ground\",null,50,75,85,20,30,40,1,false],[28,\"Sandslash\",\"Ground\",null,75,100,110,45,55,65,1,false],[50,\"Diglett\",\"Ground\",null,10,55,25,35,45,95,1,false],[51,\"Dugtrio\",\"Ground\",null,35,80,50,50,70,120,1,false],[104,\"Cubone\",\"Ground\",null,50,50,95,40,50,35,1,false],[105,\"Marowak\",\"Ground\",null,60,80,110,50,80,45,1,false],[111,\"Rhyhorn\",\"Ground\",\"Rock\",80,85,95,30,30,25,1,false],[112,\"Rhydon\",\"Ground\",\"Rock\",105,130,120,45,45,40,1,false]],\"fillcolor\":\"rgba(255,255,255,0)\",\"hoveron\":\"points\",\"hovertemplate\":\"Type 1=%{customdata[2]}\\u003cbr\\u003eTotal=%{x}\\u003cbr\\u003e#=%{customdata[0]}\\u003cbr\\u003eName=%{customdata[1]}\\u003cbr\\u003eType 2=%{customdata[3]}\\u003cbr\\u003eHP=%{customdata[4]}\\u003cbr\\u003eAttack=%{customdata[5]}\\u003cbr\\u003eDefense=%{customdata[6]}\\u003cbr\\u003eSp. Atk=%{customdata[7]}\\u003cbr\\u003eSp. Def=%{customdata[8]}\\u003cbr\\u003eSpeed=%{customdata[9]}\\u003cbr\\u003eGeneration=%{customdata[10]}\\u003cbr\\u003eLegendary=%{customdata[11]}\\u003cextra\\u003e\\u003c\\u002fextra\\u003e\",\"legendgroup\":\"Ground\",\"line\":{\"color\":\"rgba(255,255,255,0)\"},\"marker\":{\"color\":\"#B6E880\"},\"name\":\"Ground\",\"offsetgroup\":\"Ground\",\"orientation\":\"h\",\"pointpos\":0,\"showlegend\":true,\"x\":[300,450,265,405,320,425,345,485],\"x0\":\" \",\"xaxis\":\"x\",\"y0\":\" \",\"yaxis\":\"y\",\"type\":\"box\"},{\"alignmentgroup\":\"True\",\"boxpoints\":\"all\",\"customdata\":[[35,\"Clefairy\",\"Fairy\",null,70,45,48,60,65,35,1,false],[36,\"Clefable\",\"Fairy\",null,95,70,73,95,90,60,1,false]],\"fillcolor\":\"rgba(255,255,255,0)\",\"hoveron\":\"points\",\"hovertemplate\":\"Type 1=%{customdata[2]}\\u003cbr\\u003eTotal=%{x}\\u003cbr\\u003e#=%{customdata[0]}\\u003cbr\\u003eName=%{customdata[1]}\\u003cbr\\u003eType 2=%{customdata[3]}\\u003cbr\\u003eHP=%{customdata[4]}\\u003cbr\\u003eAttack=%{customdata[5]}\\u003cbr\\u003eDefense=%{customdata[6]}\\u003cbr\\u003eSp. Atk=%{customdata[7]}\\u003cbr\\u003eSp. Def=%{customdata[8]}\\u003cbr\\u003eSpeed=%{customdata[9]}\\u003cbr\\u003eGeneration=%{customdata[10]}\\u003cbr\\u003eLegendary=%{customdata[11]}\\u003cextra\\u003e\\u003c\\u002fextra\\u003e\",\"legendgroup\":\"Fairy\",\"line\":{\"color\":\"rgba(255,255,255,0)\"},\"marker\":{\"color\":\"#FF97FF\"},\"name\":\"Fairy\",\"offsetgroup\":\"Fairy\",\"orientation\":\"h\",\"pointpos\":0,\"showlegend\":true,\"x\":[323,483],\"x0\":\" \",\"xaxis\":\"x\",\"y0\":\" \",\"yaxis\":\"y\",\"type\":\"box\"},{\"alignmentgroup\":\"True\",\"boxpoints\":\"all\",\"customdata\":[[56,\"Mankey\",\"Fighting\",null,40,80,35,35,45,70,1,false],[57,\"Primeape\",\"Fighting\",null,65,105,60,60,70,95,1,false],[66,\"Machop\",\"Fighting\",null,70,80,50,35,35,35,1,false],[67,\"Machoke\",\"Fighting\",null,80,100,70,50,60,45,1,false],[68,\"Machamp\",\"Fighting\",null,90,130,80,65,85,55,1,false],[106,\"Hitmonlee\",\"Fighting\",null,50,120,53,35,110,87,1,false],[107,\"Hitmonchan\",\"Fighting\",null,50,105,79,35,110,76,1,false]],\"fillcolor\":\"rgba(255,255,255,0)\",\"hoveron\":\"points\",\"hovertemplate\":\"Type 1=%{customdata[2]}\\u003cbr\\u003eTotal=%{x}\\u003cbr\\u003e#=%{customdata[0]}\\u003cbr\\u003eName=%{customdata[1]}\\u003cbr\\u003eType 2=%{customdata[3]}\\u003cbr\\u003eHP=%{customdata[4]}\\u003cbr\\u003eAttack=%{customdata[5]}\\u003cbr\\u003eDefense=%{customdata[6]}\\u003cbr\\u003eSp. Atk=%{customdata[7]}\\u003cbr\\u003eSp. Def=%{customdata[8]}\\u003cbr\\u003eSpeed=%{customdata[9]}\\u003cbr\\u003eGeneration=%{customdata[10]}\\u003cbr\\u003eLegendary=%{customdata[11]}\\u003cextra\\u003e\\u003c\\u002fextra\\u003e\",\"legendgroup\":\"Fighting\",\"line\":{\"color\":\"rgba(255,255,255,0)\"},\"marker\":{\"color\":\"#FECB52\"},\"name\":\"Fighting\",\"offsetgroup\":\"Fighting\",\"orientation\":\"h\",\"pointpos\":0,\"showlegend\":true,\"x\":[305,455,305,405,505,455,455],\"x0\":\" \",\"xaxis\":\"x\",\"y0\":\" \",\"yaxis\":\"y\",\"type\":\"box\"},{\"alignmentgroup\":\"True\",\"boxpoints\":\"all\",\"customdata\":[[63,\"Abra\",\"Psychic\",null,25,20,15,105,55,90,1,false],[64,\"Kadabra\",\"Psychic\",null,40,35,30,120,70,105,1,false],[65,\"Alakazam\",\"Psychic\",null,55,50,45,135,95,120,1,false],[65,\"AlakazamMega Alakazam\",\"Psychic\",null,55,50,65,175,95,150,1,false],[96,\"Drowzee\",\"Psychic\",null,60,48,45,43,90,42,1,false],[97,\"Hypno\",\"Psychic\",null,85,73,70,73,115,67,1,false],[122,\"Mr. Mime\",\"Psychic\",\"Fairy\",40,45,65,100,120,90,1,false],[150,\"Mewtwo\",\"Psychic\",null,106,110,90,154,90,130,1,true],[150,\"MewtwoMega Mewtwo X\",\"Psychic\",\"Fighting\",106,190,100,154,100,130,1,true],[150,\"MewtwoMega Mewtwo Y\",\"Psychic\",null,106,150,70,194,120,140,1,true],[151,\"Mew\",\"Psychic\",null,100,100,100,100,100,100,1,false]],\"fillcolor\":\"rgba(255,255,255,0)\",\"hoveron\":\"points\",\"hovertemplate\":\"Type 1=%{customdata[2]}\\u003cbr\\u003eTotal=%{x}\\u003cbr\\u003e#=%{customdata[0]}\\u003cbr\\u003eName=%{customdata[1]}\\u003cbr\\u003eType 2=%{customdata[3]}\\u003cbr\\u003eHP=%{customdata[4]}\\u003cbr\\u003eAttack=%{customdata[5]}\\u003cbr\\u003eDefense=%{customdata[6]}\\u003cbr\\u003eSp. Atk=%{customdata[7]}\\u003cbr\\u003eSp. Def=%{customdata[8]}\\u003cbr\\u003eSpeed=%{customdata[9]}\\u003cbr\\u003eGeneration=%{customdata[10]}\\u003cbr\\u003eLegendary=%{customdata[11]}\\u003cextra\\u003e\\u003c\\u002fextra\\u003e\",\"legendgroup\":\"Psychic\",\"line\":{\"color\":\"rgba(255,255,255,0)\"},\"marker\":{\"color\":\"#636efa\"},\"name\":\"Psychic\",\"offsetgroup\":\"Psychic\",\"orientation\":\"h\",\"pointpos\":0,\"showlegend\":true,\"x\":[310,400,500,590,328,483,460,680,780,780,600],\"x0\":\" \",\"xaxis\":\"x\",\"y0\":\" \",\"yaxis\":\"y\",\"type\":\"box\"},{\"alignmentgroup\":\"True\",\"boxpoints\":\"all\",\"customdata\":[[74,\"Geodude\",\"Rock\",\"Ground\",40,80,100,30,30,20,1,false],[75,\"Graveler\",\"Rock\",\"Ground\",55,95,115,45,45,35,1,false],[76,\"Golem\",\"Rock\",\"Ground\",80,120,130,55,65,45,1,false],[95,\"Onix\",\"Rock\",\"Ground\",35,45,160,30,45,70,1,false],[138,\"Omanyte\",\"Rock\",\"Water\",35,40,100,90,55,35,1,false],[139,\"Omastar\",\"Rock\",\"Water\",70,60,125,115,70,55,1,false],[140,\"Kabuto\",\"Rock\",\"Water\",30,80,90,55,45,55,1,false],[141,\"Kabutops\",\"Rock\",\"Water\",60,115,105,65,70,80,1,false],[142,\"Aerodactyl\",\"Rock\",\"Flying\",80,105,65,60,75,130,1,false],[142,\"AerodactylMega Aerodactyl\",\"Rock\",\"Flying\",80,135,85,70,95,150,1,false]],\"fillcolor\":\"rgba(255,255,255,0)\",\"hoveron\":\"points\",\"hovertemplate\":\"Type 1=%{customdata[2]}\\u003cbr\\u003eTotal=%{x}\\u003cbr\\u003e#=%{customdata[0]}\\u003cbr\\u003eName=%{customdata[1]}\\u003cbr\\u003eType 2=%{customdata[3]}\\u003cbr\\u003eHP=%{customdata[4]}\\u003cbr\\u003eAttack=%{customdata[5]}\\u003cbr\\u003eDefense=%{customdata[6]}\\u003cbr\\u003eSp. Atk=%{customdata[7]}\\u003cbr\\u003eSp. Def=%{customdata[8]}\\u003cbr\\u003eSpeed=%{customdata[9]}\\u003cbr\\u003eGeneration=%{customdata[10]}\\u003cbr\\u003eLegendary=%{customdata[11]}\\u003cextra\\u003e\\u003c\\u002fextra\\u003e\",\"legendgroup\":\"Rock\",\"line\":{\"color\":\"rgba(255,255,255,0)\"},\"marker\":{\"color\":\"#EF553B\"},\"name\":\"Rock\",\"offsetgroup\":\"Rock\",\"orientation\":\"h\",\"pointpos\":0,\"showlegend\":true,\"x\":[300,390,495,385,355,495,355,495,515,615],\"x0\":\" \",\"xaxis\":\"x\",\"y0\":\" \",\"yaxis\":\"y\",\"type\":\"box\"},{\"alignmentgroup\":\"True\",\"boxpoints\":\"all\",\"customdata\":[[92,\"Gastly\",\"Ghost\",\"Poison\",30,35,30,100,35,80,1,false],[93,\"Haunter\",\"Ghost\",\"Poison\",45,50,45,115,55,95,1,false],[94,\"Gengar\",\"Ghost\",\"Poison\",60,65,60,130,75,110,1,false],[94,\"GengarMega Gengar\",\"Ghost\",\"Poison\",60,65,80,170,95,130,1,false]],\"fillcolor\":\"rgba(255,255,255,0)\",\"hoveron\":\"points\",\"hovertemplate\":\"Type 1=%{customdata[2]}\\u003cbr\\u003eTotal=%{x}\\u003cbr\\u003e#=%{customdata[0]}\\u003cbr\\u003eName=%{customdata[1]}\\u003cbr\\u003eType 2=%{customdata[3]}\\u003cbr\\u003eHP=%{customdata[4]}\\u003cbr\\u003eAttack=%{customdata[5]}\\u003cbr\\u003eDefense=%{customdata[6]}\\u003cbr\\u003eSp. Atk=%{customdata[7]}\\u003cbr\\u003eSp. Def=%{customdata[8]}\\u003cbr\\u003eSpeed=%{customdata[9]}\\u003cbr\\u003eGeneration=%{customdata[10]}\\u003cbr\\u003eLegendary=%{customdata[11]}\\u003cextra\\u003e\\u003c\\u002fextra\\u003e\",\"legendgroup\":\"Ghost\",\"line\":{\"color\":\"rgba(255,255,255,0)\"},\"marker\":{\"color\":\"#00cc96\"},\"name\":\"Ghost\",\"offsetgroup\":\"Ghost\",\"orientation\":\"h\",\"pointpos\":0,\"showlegend\":true,\"x\":[310,405,500,600],\"x0\":\" \",\"xaxis\":\"x\",\"y0\":\" \",\"yaxis\":\"y\",\"type\":\"box\"},{\"alignmentgroup\":\"True\",\"boxpoints\":\"all\",\"customdata\":[[124,\"Jynx\",\"Ice\",\"Psychic\",65,50,35,115,95,95,1,false],[144,\"Articuno\",\"Ice\",\"Flying\",90,85,100,95,125,85,1,true]],\"fillcolor\":\"rgba(255,255,255,0)\",\"hoveron\":\"points\",\"hovertemplate\":\"Type 1=%{customdata[2]}\\u003cbr\\u003eTotal=%{x}\\u003cbr\\u003e#=%{customdata[0]}\\u003cbr\\u003eName=%{customdata[1]}\\u003cbr\\u003eType 2=%{customdata[3]}\\u003cbr\\u003eHP=%{customdata[4]}\\u003cbr\\u003eAttack=%{customdata[5]}\\u003cbr\\u003eDefense=%{customdata[6]}\\u003cbr\\u003eSp. Atk=%{customdata[7]}\\u003cbr\\u003eSp. Def=%{customdata[8]}\\u003cbr\\u003eSpeed=%{customdata[9]}\\u003cbr\\u003eGeneration=%{customdata[10]}\\u003cbr\\u003eLegendary=%{customdata[11]}\\u003cextra\\u003e\\u003c\\u002fextra\\u003e\",\"legendgroup\":\"Ice\",\"line\":{\"color\":\"rgba(255,255,255,0)\"},\"marker\":{\"color\":\"#ab63fa\"},\"name\":\"Ice\",\"offsetgroup\":\"Ice\",\"orientation\":\"h\",\"pointpos\":0,\"showlegend\":true,\"x\":[455,580],\"x0\":\" \",\"xaxis\":\"x\",\"y0\":\" \",\"yaxis\":\"y\",\"type\":\"box\"},{\"alignmentgroup\":\"True\",\"boxpoints\":\"all\",\"customdata\":[[147,\"Dratini\",\"Dragon\",null,41,64,45,50,50,50,1,false],[148,\"Dragonair\",\"Dragon\",null,61,84,65,70,70,70,1,false],[149,\"Dragonite\",\"Dragon\",\"Flying\",91,134,95,100,100,80,1,false]],\"fillcolor\":\"rgba(255,255,255,0)\",\"hoveron\":\"points\",\"hovertemplate\":\"Type 1=%{customdata[2]}\\u003cbr\\u003eTotal=%{x}\\u003cbr\\u003e#=%{customdata[0]}\\u003cbr\\u003eName=%{customdata[1]}\\u003cbr\\u003eType 2=%{customdata[3]}\\u003cbr\\u003eHP=%{customdata[4]}\\u003cbr\\u003eAttack=%{customdata[5]}\\u003cbr\\u003eDefense=%{customdata[6]}\\u003cbr\\u003eSp. Atk=%{customdata[7]}\\u003cbr\\u003eSp. Def=%{customdata[8]}\\u003cbr\\u003eSpeed=%{customdata[9]}\\u003cbr\\u003eGeneration=%{customdata[10]}\\u003cbr\\u003eLegendary=%{customdata[11]}\\u003cextra\\u003e\\u003c\\u002fextra\\u003e\",\"legendgroup\":\"Dragon\",\"line\":{\"color\":\"rgba(255,255,255,0)\"},\"marker\":{\"color\":\"#FFA15A\"},\"name\":\"Dragon\",\"offsetgroup\":\"Dragon\",\"orientation\":\"h\",\"pointpos\":0,\"showlegend\":true,\"x\":[300,420,600],\"x0\":\" \",\"xaxis\":\"x\",\"y0\":\" \",\"yaxis\":\"y\",\"type\":\"box\"}],                        {\"template\":{\"data\":{\"histogram2dcontour\":[{\"type\":\"histogram2dcontour\",\"colorbar\":{\"outlinewidth\":0,\"ticks\":\"\"},\"colorscale\":[[0.0,\"#0d0887\"],[0.1111111111111111,\"#46039f\"],[0.2222222222222222,\"#7201a8\"],[0.3333333333333333,\"#9c179e\"],[0.4444444444444444,\"#bd3786\"],[0.5555555555555556,\"#d8576b\"],[0.6666666666666666,\"#ed7953\"],[0.7777777777777778,\"#fb9f3a\"],[0.8888888888888888,\"#fdca26\"],[1.0,\"#f0f921\"]]}],\"choropleth\":[{\"type\":\"choropleth\",\"colorbar\":{\"outlinewidth\":0,\"ticks\":\"\"}}],\"histogram2d\":[{\"type\":\"histogram2d\",\"colorbar\":{\"outlinewidth\":0,\"ticks\":\"\"},\"colorscale\":[[0.0,\"#0d0887\"],[0.1111111111111111,\"#46039f\"],[0.2222222222222222,\"#7201a8\"],[0.3333333333333333,\"#9c179e\"],[0.4444444444444444,\"#bd3786\"],[0.5555555555555556,\"#d8576b\"],[0.6666666666666666,\"#ed7953\"],[0.7777777777777778,\"#fb9f3a\"],[0.8888888888888888,\"#fdca26\"],[1.0,\"#f0f921\"]]}],\"heatmap\":[{\"type\":\"heatmap\",\"colorbar\":{\"outlinewidth\":0,\"ticks\":\"\"},\"colorscale\":[[0.0,\"#0d0887\"],[0.1111111111111111,\"#46039f\"],[0.2222222222222222,\"#7201a8\"],[0.3333333333333333,\"#9c179e\"],[0.4444444444444444,\"#bd3786\"],[0.5555555555555556,\"#d8576b\"],[0.6666666666666666,\"#ed7953\"],[0.7777777777777778,\"#fb9f3a\"],[0.8888888888888888,\"#fdca26\"],[1.0,\"#f0f921\"]]}],\"heatmapgl\":[{\"type\":\"heatmapgl\",\"colorbar\":{\"outlinewidth\":0,\"ticks\":\"\"},\"colorscale\":[[0.0,\"#0d0887\"],[0.1111111111111111,\"#46039f\"],[0.2222222222222222,\"#7201a8\"],[0.3333333333333333,\"#9c179e\"],[0.4444444444444444,\"#bd3786\"],[0.5555555555555556,\"#d8576b\"],[0.6666666666666666,\"#ed7953\"],[0.7777777777777778,\"#fb9f3a\"],[0.8888888888888888,\"#fdca26\"],[1.0,\"#f0f921\"]]}],\"contourcarpet\":[{\"type\":\"contourcarpet\",\"colorbar\":{\"outlinewidth\":0,\"ticks\":\"\"}}],\"contour\":[{\"type\":\"contour\",\"colorbar\":{\"outlinewidth\":0,\"ticks\":\"\"},\"colorscale\":[[0.0,\"#0d0887\"],[0.1111111111111111,\"#46039f\"],[0.2222222222222222,\"#7201a8\"],[0.3333333333333333,\"#9c179e\"],[0.4444444444444444,\"#bd3786\"],[0.5555555555555556,\"#d8576b\"],[0.6666666666666666,\"#ed7953\"],[0.7777777777777778,\"#fb9f3a\"],[0.8888888888888888,\"#fdca26\"],[1.0,\"#f0f921\"]]}],\"surface\":[{\"type\":\"surface\",\"colorbar\":{\"outlinewidth\":0,\"ticks\":\"\"},\"colorscale\":[[0.0,\"#0d0887\"],[0.1111111111111111,\"#46039f\"],[0.2222222222222222,\"#7201a8\"],[0.3333333333333333,\"#9c179e\"],[0.4444444444444444,\"#bd3786\"],[0.5555555555555556,\"#d8576b\"],[0.6666666666666666,\"#ed7953\"],[0.7777777777777778,\"#fb9f3a\"],[0.8888888888888888,\"#fdca26\"],[1.0,\"#f0f921\"]]}],\"mesh3d\":[{\"type\":\"mesh3d\",\"colorbar\":{\"outlinewidth\":0,\"ticks\":\"\"}}],\"scatter\":[{\"fillpattern\":{\"fillmode\":\"overlay\",\"size\":10,\"solidity\":0.2},\"type\":\"scatter\"}],\"parcoords\":[{\"type\":\"parcoords\",\"line\":{\"colorbar\":{\"outlinewidth\":0,\"ticks\":\"\"}}}],\"scatterpolargl\":[{\"type\":\"scatterpolargl\",\"marker\":{\"colorbar\":{\"outlinewidth\":0,\"ticks\":\"\"}}}],\"bar\":[{\"error_x\":{\"color\":\"#2a3f5f\"},\"error_y\":{\"color\":\"#2a3f5f\"},\"marker\":{\"line\":{\"color\":\"#E5ECF6\",\"width\":0.5},\"pattern\":{\"fillmode\":\"overlay\",\"size\":10,\"solidity\":0.2}},\"type\":\"bar\"}],\"scattergeo\":[{\"type\":\"scattergeo\",\"marker\":{\"colorbar\":{\"outlinewidth\":0,\"ticks\":\"\"}}}],\"scatterpolar\":[{\"type\":\"scatterpolar\",\"marker\":{\"colorbar\":{\"outlinewidth\":0,\"ticks\":\"\"}}}],\"histogram\":[{\"marker\":{\"pattern\":{\"fillmode\":\"overlay\",\"size\":10,\"solidity\":0.2}},\"type\":\"histogram\"}],\"scattergl\":[{\"type\":\"scattergl\",\"marker\":{\"colorbar\":{\"outlinewidth\":0,\"ticks\":\"\"}}}],\"scatter3d\":[{\"type\":\"scatter3d\",\"line\":{\"colorbar\":{\"outlinewidth\":0,\"ticks\":\"\"}},\"marker\":{\"colorbar\":{\"outlinewidth\":0,\"ticks\":\"\"}}}],\"scattermapbox\":[{\"type\":\"scattermapbox\",\"marker\":{\"colorbar\":{\"outlinewidth\":0,\"ticks\":\"\"}}}],\"scatterternary\":[{\"type\":\"scatterternary\",\"marker\":{\"colorbar\":{\"outlinewidth\":0,\"ticks\":\"\"}}}],\"scattercarpet\":[{\"type\":\"scattercarpet\",\"marker\":{\"colorbar\":{\"outlinewidth\":0,\"ticks\":\"\"}}}],\"carpet\":[{\"aaxis\":{\"endlinecolor\":\"#2a3f5f\",\"gridcolor\":\"white\",\"linecolor\":\"white\",\"minorgridcolor\":\"white\",\"startlinecolor\":\"#2a3f5f\"},\"baxis\":{\"endlinecolor\":\"#2a3f5f\",\"gridcolor\":\"white\",\"linecolor\":\"white\",\"minorgridcolor\":\"white\",\"startlinecolor\":\"#2a3f5f\"},\"type\":\"carpet\"}],\"table\":[{\"cells\":{\"fill\":{\"color\":\"#EBF0F8\"},\"line\":{\"color\":\"white\"}},\"header\":{\"fill\":{\"color\":\"#C8D4E3\"},\"line\":{\"color\":\"white\"}},\"type\":\"table\"}],\"barpolar\":[{\"marker\":{\"line\":{\"color\":\"#E5ECF6\",\"width\":0.5},\"pattern\":{\"fillmode\":\"overlay\",\"size\":10,\"solidity\":0.2}},\"type\":\"barpolar\"}],\"pie\":[{\"automargin\":true,\"type\":\"pie\"}]},\"layout\":{\"autotypenumbers\":\"strict\",\"colorway\":[\"#636efa\",\"#EF553B\",\"#00cc96\",\"#ab63fa\",\"#FFA15A\",\"#19d3f3\",\"#FF6692\",\"#B6E880\",\"#FF97FF\",\"#FECB52\"],\"font\":{\"color\":\"#2a3f5f\"},\"hovermode\":\"closest\",\"hoverlabel\":{\"align\":\"left\"},\"paper_bgcolor\":\"white\",\"plot_bgcolor\":\"#E5ECF6\",\"polar\":{\"bgcolor\":\"#E5ECF6\",\"angularaxis\":{\"gridcolor\":\"white\",\"linecolor\":\"white\",\"ticks\":\"\"},\"radialaxis\":{\"gridcolor\":\"white\",\"linecolor\":\"white\",\"ticks\":\"\"}},\"ternary\":{\"bgcolor\":\"#E5ECF6\",\"aaxis\":{\"gridcolor\":\"white\",\"linecolor\":\"white\",\"ticks\":\"\"},\"baxis\":{\"gridcolor\":\"white\",\"linecolor\":\"white\",\"ticks\":\"\"},\"caxis\":{\"gridcolor\":\"white\",\"linecolor\":\"white\",\"ticks\":\"\"}},\"coloraxis\":{\"colorbar\":{\"outlinewidth\":0,\"ticks\":\"\"}},\"colorscale\":{\"sequential\":[[0.0,\"#0d0887\"],[0.1111111111111111,\"#46039f\"],[0.2222222222222222,\"#7201a8\"],[0.3333333333333333,\"#9c179e\"],[0.4444444444444444,\"#bd3786\"],[0.5555555555555556,\"#d8576b\"],[0.6666666666666666,\"#ed7953\"],[0.7777777777777778,\"#fb9f3a\"],[0.8888888888888888,\"#fdca26\"],[1.0,\"#f0f921\"]],\"sequentialminus\":[[0.0,\"#0d0887\"],[0.1111111111111111,\"#46039f\"],[0.2222222222222222,\"#7201a8\"],[0.3333333333333333,\"#9c179e\"],[0.4444444444444444,\"#bd3786\"],[0.5555555555555556,\"#d8576b\"],[0.6666666666666666,\"#ed7953\"],[0.7777777777777778,\"#fb9f3a\"],[0.8888888888888888,\"#fdca26\"],[1.0,\"#f0f921\"]],\"diverging\":[[0,\"#8e0152\"],[0.1,\"#c51b7d\"],[0.2,\"#de77ae\"],[0.3,\"#f1b6da\"],[0.4,\"#fde0ef\"],[0.5,\"#f7f7f7\"],[0.6,\"#e6f5d0\"],[0.7,\"#b8e186\"],[0.8,\"#7fbc41\"],[0.9,\"#4d9221\"],[1,\"#276419\"]]},\"xaxis\":{\"gridcolor\":\"white\",\"linecolor\":\"white\",\"ticks\":\"\",\"title\":{\"standoff\":15},\"zerolinecolor\":\"white\",\"automargin\":true,\"zerolinewidth\":2},\"yaxis\":{\"gridcolor\":\"white\",\"linecolor\":\"white\",\"ticks\":\"\",\"title\":{\"standoff\":15},\"zerolinecolor\":\"white\",\"automargin\":true,\"zerolinewidth\":2},\"scene\":{\"xaxis\":{\"backgroundcolor\":\"#E5ECF6\",\"gridcolor\":\"white\",\"linecolor\":\"white\",\"showbackground\":true,\"ticks\":\"\",\"zerolinecolor\":\"white\",\"gridwidth\":2},\"yaxis\":{\"backgroundcolor\":\"#E5ECF6\",\"gridcolor\":\"white\",\"linecolor\":\"white\",\"showbackground\":true,\"ticks\":\"\",\"zerolinecolor\":\"white\",\"gridwidth\":2},\"zaxis\":{\"backgroundcolor\":\"#E5ECF6\",\"gridcolor\":\"white\",\"linecolor\":\"white\",\"showbackground\":true,\"ticks\":\"\",\"zerolinecolor\":\"white\",\"gridwidth\":2}},\"shapedefaults\":{\"line\":{\"color\":\"#2a3f5f\"}},\"annotationdefaults\":{\"arrowcolor\":\"#2a3f5f\",\"arrowhead\":0,\"arrowwidth\":1},\"geo\":{\"bgcolor\":\"white\",\"landcolor\":\"#E5ECF6\",\"subunitcolor\":\"white\",\"showland\":true,\"showlakes\":true,\"lakecolor\":\"white\"},\"title\":{\"x\":0.05},\"mapbox\":{\"style\":\"light\"}}},\"xaxis\":{\"anchor\":\"y\",\"domain\":[0.0,1.0],\"title\":{\"text\":\"Total\"}},\"yaxis\":{\"anchor\":\"x\",\"domain\":[0.0,1.0]},\"legend\":{\"title\":{\"text\":\"Type 1\"},\"tracegroupgap\":0},\"margin\":{\"t\":60},\"boxmode\":\"group\"},                        {\"responsive\": true}                    )                };                            </script>        </div>"
      ],
      "text/plain": [
       "Figure({\n",
       "    'data': [{'alignmentgroup': 'True',\n",
       "              'boxpoints': 'all',\n",
       "              'customdata': array([[1, 'Bulbasaur', 'Grass', 'Poison', 45, 49, 49, 65, 65, 45, 1, False],\n",
       "                                   [2, 'Ivysaur', 'Grass', 'Poison', 60, 62, 63, 80, 80, 60, 1, False],\n",
       "                                   [3, 'Venusaur', 'Grass', 'Poison', 80, 82, 83, 100, 100, 80, 1, False],\n",
       "                                   [3, 'VenusaurMega Venusaur', 'Grass', 'Poison', 80, 100, 123, 122, 120,\n",
       "                                    80, 1, False],\n",
       "                                   [43, 'Oddish', 'Grass', 'Poison', 45, 50, 55, 75, 65, 30, 1, False],\n",
       "                                   [44, 'Gloom', 'Grass', 'Poison', 60, 65, 70, 85, 75, 40, 1, False],\n",
       "                                   [45, 'Vileplume', 'Grass', 'Poison', 75, 80, 85, 110, 90, 50, 1, False],\n",
       "                                   [69, 'Bellsprout', 'Grass', 'Poison', 50, 75, 35, 70, 30, 40, 1, False],\n",
       "                                   [70, 'Weepinbell', 'Grass', 'Poison', 65, 90, 50, 85, 45, 55, 1, False],\n",
       "                                   [71, 'Victreebel', 'Grass', 'Poison', 80, 105, 65, 100, 70, 70, 1,\n",
       "                                    False],\n",
       "                                   [102, 'Exeggcute', 'Grass', 'Psychic', 60, 40, 80, 60, 45, 40, 1,\n",
       "                                    False],\n",
       "                                   [103, 'Exeggutor', 'Grass', 'Psychic', 95, 95, 85, 125, 65, 55, 1,\n",
       "                                    False],\n",
       "                                   [114, 'Tangela', 'Grass', nan, 65, 55, 115, 100, 40, 60, 1, False]],\n",
       "                                  dtype=object),\n",
       "              'fillcolor': 'rgba(255,255,255,0)',\n",
       "              'hoveron': 'points',\n",
       "              'hovertemplate': ('Type 1=%{customdata[2]}<br>Tot' ... 'customdata[11]}<extra></extra>'),\n",
       "              'legendgroup': 'Grass',\n",
       "              'line': {'color': 'rgba(255,255,255,0)'},\n",
       "              'marker': {'color': '#636efa'},\n",
       "              'name': 'Grass',\n",
       "              'offsetgroup': 'Grass',\n",
       "              'orientation': 'h',\n",
       "              'pointpos': 0,\n",
       "              'showlegend': True,\n",
       "              'type': 'box',\n",
       "              'x': array([318, 405, 525, 625, 320, 395, 490, 300, 390, 490, 325, 520, 435],\n",
       "                         dtype=int64),\n",
       "              'x0': ' ',\n",
       "              'xaxis': 'x',\n",
       "              'y0': ' ',\n",
       "              'yaxis': 'y'},\n",
       "             {'alignmentgroup': 'True',\n",
       "              'boxpoints': 'all',\n",
       "              'customdata': array([[4, 'Charmander', 'Fire', nan, 39, 52, 43, 60, 50, 65, 1, False],\n",
       "                                   [5, 'Charmeleon', 'Fire', nan, 58, 64, 58, 80, 65, 80, 1, False],\n",
       "                                   [6, 'Charizard', 'Fire', 'Flying', 78, 84, 78, 109, 85, 100, 1, False],\n",
       "                                   [6, 'CharizardMega Charizard X', 'Fire', 'Dragon', 78, 130, 111, 130,\n",
       "                                    85, 100, 1, False],\n",
       "                                   [6, 'CharizardMega Charizard Y', 'Fire', 'Flying', 78, 104, 78, 159,\n",
       "                                    115, 100, 1, False],\n",
       "                                   [37, 'Vulpix', 'Fire', nan, 38, 41, 40, 50, 65, 65, 1, False],\n",
       "                                   [38, 'Ninetales', 'Fire', nan, 73, 76, 75, 81, 100, 100, 1, False],\n",
       "                                   [58, 'Growlithe', 'Fire', nan, 55, 70, 45, 70, 50, 60, 1, False],\n",
       "                                   [59, 'Arcanine', 'Fire', nan, 90, 110, 80, 100, 80, 95, 1, False],\n",
       "                                   [77, 'Ponyta', 'Fire', nan, 50, 85, 55, 65, 65, 90, 1, False],\n",
       "                                   [78, 'Rapidash', 'Fire', nan, 65, 100, 70, 80, 80, 105, 1, False],\n",
       "                                   [126, 'Magmar', 'Fire', nan, 65, 95, 57, 100, 85, 93, 1, False],\n",
       "                                   [136, 'Flareon', 'Fire', nan, 65, 130, 60, 95, 110, 65, 1, False],\n",
       "                                   [146, 'Moltres', 'Fire', 'Flying', 90, 100, 90, 125, 85, 90, 1, True]],\n",
       "                                  dtype=object),\n",
       "              'fillcolor': 'rgba(255,255,255,0)',\n",
       "              'hoveron': 'points',\n",
       "              'hovertemplate': ('Type 1=%{customdata[2]}<br>Tot' ... 'customdata[11]}<extra></extra>'),\n",
       "              'legendgroup': 'Fire',\n",
       "              'line': {'color': 'rgba(255,255,255,0)'},\n",
       "              'marker': {'color': '#EF553B'},\n",
       "              'name': 'Fire',\n",
       "              'offsetgroup': 'Fire',\n",
       "              'orientation': 'h',\n",
       "              'pointpos': 0,\n",
       "              'showlegend': True,\n",
       "              'type': 'box',\n",
       "              'x': array([309, 405, 534, 634, 634, 299, 505, 350, 555, 410, 500, 495, 525, 580],\n",
       "                         dtype=int64),\n",
       "              'x0': ' ',\n",
       "              'xaxis': 'x',\n",
       "              'y0': ' ',\n",
       "              'yaxis': 'y'},\n",
       "             {'alignmentgroup': 'True',\n",
       "              'boxpoints': 'all',\n",
       "              'customdata': array([[7, 'Squirtle', 'Water', ..., 43, 1, False],\n",
       "                                   [8, 'Wartortle', 'Water', ..., 58, 1, False],\n",
       "                                   [9, 'Blastoise', 'Water', ..., 78, 1, False],\n",
       "                                   ...,\n",
       "                                   [130, 'GyaradosMega Gyarados', 'Water', ..., 81, 1, False],\n",
       "                                   [131, 'Lapras', 'Water', ..., 60, 1, False],\n",
       "                                   [134, 'Vaporeon', 'Water', ..., 65, 1, False]], dtype=object),\n",
       "              'fillcolor': 'rgba(255,255,255,0)',\n",
       "              'hoveron': 'points',\n",
       "              'hovertemplate': ('Type 1=%{customdata[2]}<br>Tot' ... 'customdata[11]}<extra></extra>'),\n",
       "              'legendgroup': 'Water',\n",
       "              'line': {'color': 'rgba(255,255,255,0)'},\n",
       "              'marker': {'color': '#00cc96'},\n",
       "              'name': 'Water',\n",
       "              'offsetgroup': 'Water',\n",
       "              'orientation': 'h',\n",
       "              'pointpos': 0,\n",
       "              'showlegend': True,\n",
       "              'type': 'box',\n",
       "              'x': array([314, 405, 530, 630, 320, 500, 300, 385, 510, 335, 515, 315, 490, 590,\n",
       "                          325, 475, 305, 525, 325, 475, 295, 440, 320, 450, 340, 520, 200, 540,\n",
       "                          640, 535, 525], dtype=int64),\n",
       "              'x0': ' ',\n",
       "              'xaxis': 'x',\n",
       "              'y0': ' ',\n",
       "              'yaxis': 'y'},\n",
       "             {'alignmentgroup': 'True',\n",
       "              'boxpoints': 'all',\n",
       "              'customdata': array([[10, 'Caterpie', 'Bug', nan, 45, 30, 35, 20, 20, 45, 1, False],\n",
       "                                   [11, 'Metapod', 'Bug', nan, 50, 20, 55, 25, 25, 30, 1, False],\n",
       "                                   [12, 'Butterfree', 'Bug', 'Flying', 60, 45, 50, 90, 80, 70, 1, False],\n",
       "                                   [13, 'Weedle', 'Bug', 'Poison', 40, 35, 30, 20, 20, 50, 1, False],\n",
       "                                   [14, 'Kakuna', 'Bug', 'Poison', 45, 25, 50, 25, 25, 35, 1, False],\n",
       "                                   [15, 'Beedrill', 'Bug', 'Poison', 65, 90, 40, 45, 80, 75, 1, False],\n",
       "                                   [15, 'BeedrillMega Beedrill', 'Bug', 'Poison', 65, 150, 40, 15, 80,\n",
       "                                    145, 1, False],\n",
       "                                   [46, 'Paras', 'Bug', 'Grass', 35, 70, 55, 45, 55, 25, 1, False],\n",
       "                                   [47, 'Parasect', 'Bug', 'Grass', 60, 95, 80, 60, 80, 30, 1, False],\n",
       "                                   [48, 'Venonat', 'Bug', 'Poison', 60, 55, 50, 40, 55, 45, 1, False],\n",
       "                                   [49, 'Venomoth', 'Bug', 'Poison', 70, 65, 60, 90, 75, 90, 1, False],\n",
       "                                   [123, 'Scyther', 'Bug', 'Flying', 70, 110, 80, 55, 80, 105, 1, False],\n",
       "                                   [127, 'Pinsir', 'Bug', nan, 65, 125, 100, 55, 70, 85, 1, False],\n",
       "                                   [127, 'PinsirMega Pinsir', 'Bug', 'Flying', 65, 155, 120, 65, 90, 105,\n",
       "                                    1, False]], dtype=object),\n",
       "              'fillcolor': 'rgba(255,255,255,0)',\n",
       "              'hoveron': 'points',\n",
       "              'hovertemplate': ('Type 1=%{customdata[2]}<br>Tot' ... 'customdata[11]}<extra></extra>'),\n",
       "              'legendgroup': 'Bug',\n",
       "              'line': {'color': 'rgba(255,255,255,0)'},\n",
       "              'marker': {'color': '#ab63fa'},\n",
       "              'name': 'Bug',\n",
       "              'offsetgroup': 'Bug',\n",
       "              'orientation': 'h',\n",
       "              'pointpos': 0,\n",
       "              'showlegend': True,\n",
       "              'type': 'box',\n",
       "              'x': array([195, 205, 395, 195, 205, 395, 495, 285, 405, 305, 450, 500, 500, 600],\n",
       "                         dtype=int64),\n",
       "              'x0': ' ',\n",
       "              'xaxis': 'x',\n",
       "              'y0': ' ',\n",
       "              'yaxis': 'y'},\n",
       "             {'alignmentgroup': 'True',\n",
       "              'boxpoints': 'all',\n",
       "              'customdata': array([[16, 'Pidgey', 'Normal', ..., 56, 1, False],\n",
       "                                   [17, 'Pidgeotto', 'Normal', ..., 71, 1, False],\n",
       "                                   [18, 'Pidgeot', 'Normal', ..., 101, 1, False],\n",
       "                                   ...,\n",
       "                                   [133, 'Eevee', 'Normal', ..., 55, 1, False],\n",
       "                                   [137, 'Porygon', 'Normal', ..., 40, 1, False],\n",
       "                                   [143, 'Snorlax', 'Normal', ..., 30, 1, False]], dtype=object),\n",
       "              'fillcolor': 'rgba(255,255,255,0)',\n",
       "              'hoveron': 'points',\n",
       "              'hovertemplate': ('Type 1=%{customdata[2]}<br>Tot' ... 'customdata[11]}<extra></extra>'),\n",
       "              'legendgroup': 'Normal',\n",
       "              'line': {'color': 'rgba(255,255,255,0)'},\n",
       "              'marker': {'color': '#FFA15A'},\n",
       "              'name': 'Normal',\n",
       "              'offsetgroup': 'Normal',\n",
       "              'orientation': 'h',\n",
       "              'pointpos': 0,\n",
       "              'showlegend': True,\n",
       "              'type': 'box',\n",
       "              'x': array([251, 349, 479, 579, 253, 413, 262, 442, 270, 435, 290, 440, 352, 310,\n",
       "                          460, 385, 450, 490, 590, 490, 288, 325, 395, 540], dtype=int64),\n",
       "              'x0': ' ',\n",
       "              'xaxis': 'x',\n",
       "              'y0': ' ',\n",
       "              'yaxis': 'y'},\n",
       "             {'alignmentgroup': 'True',\n",
       "              'boxpoints': 'all',\n",
       "              'customdata': array([[23, 'Ekans', 'Poison', nan, 35, 60, 44, 40, 54, 55, 1, False],\n",
       "                                   [24, 'Arbok', 'Poison', nan, 60, 85, 69, 65, 79, 80, 1, False],\n",
       "                                   [29, 'Nidoran♀', 'Poison', nan, 55, 47, 52, 40, 40, 41, 1, False],\n",
       "                                   [30, 'Nidorina', 'Poison', nan, 70, 62, 67, 55, 55, 56, 1, False],\n",
       "                                   [31, 'Nidoqueen', 'Poison', 'Ground', 90, 92, 87, 75, 85, 76, 1, False],\n",
       "                                   [32, 'Nidoran♂', 'Poison', nan, 46, 57, 40, 40, 40, 50, 1, False],\n",
       "                                   [33, 'Nidorino', 'Poison', nan, 61, 72, 57, 55, 55, 65, 1, False],\n",
       "                                   [34, 'Nidoking', 'Poison', 'Ground', 81, 102, 77, 85, 75, 85, 1, False],\n",
       "                                   [41, 'Zubat', 'Poison', 'Flying', 40, 45, 35, 30, 40, 55, 1, False],\n",
       "                                   [42, 'Golbat', 'Poison', 'Flying', 75, 80, 70, 65, 75, 90, 1, False],\n",
       "                                   [88, 'Grimer', 'Poison', nan, 80, 80, 50, 40, 50, 25, 1, False],\n",
       "                                   [89, 'Muk', 'Poison', nan, 105, 105, 75, 65, 100, 50, 1, False],\n",
       "                                   [109, 'Koffing', 'Poison', nan, 40, 65, 95, 60, 45, 35, 1, False],\n",
       "                                   [110, 'Weezing', 'Poison', nan, 65, 90, 120, 85, 70, 60, 1, False]],\n",
       "                                  dtype=object),\n",
       "              'fillcolor': 'rgba(255,255,255,0)',\n",
       "              'hoveron': 'points',\n",
       "              'hovertemplate': ('Type 1=%{customdata[2]}<br>Tot' ... 'customdata[11]}<extra></extra>'),\n",
       "              'legendgroup': 'Poison',\n",
       "              'line': {'color': 'rgba(255,255,255,0)'},\n",
       "              'marker': {'color': '#19d3f3'},\n",
       "              'name': 'Poison',\n",
       "              'offsetgroup': 'Poison',\n",
       "              'orientation': 'h',\n",
       "              'pointpos': 0,\n",
       "              'showlegend': True,\n",
       "              'type': 'box',\n",
       "              'x': array([288, 438, 275, 365, 505, 273, 365, 505, 245, 455, 325, 500, 340, 490],\n",
       "                         dtype=int64),\n",
       "              'x0': ' ',\n",
       "              'xaxis': 'x',\n",
       "              'y0': ' ',\n",
       "              'yaxis': 'y'},\n",
       "             {'alignmentgroup': 'True',\n",
       "              'boxpoints': 'all',\n",
       "              'customdata': array([[25, 'Pikachu', 'Electric', nan, 35, 55, 40, 50, 50, 90, 1, False],\n",
       "                                   [26, 'Raichu', 'Electric', nan, 60, 90, 55, 90, 80, 110, 1, False],\n",
       "                                   [81, 'Magnemite', 'Electric', 'Steel', 25, 35, 70, 95, 55, 45, 1,\n",
       "                                    False],\n",
       "                                   [82, 'Magneton', 'Electric', 'Steel', 50, 60, 95, 120, 70, 70, 1,\n",
       "                                    False],\n",
       "                                   [100, 'Voltorb', 'Electric', nan, 40, 30, 50, 55, 55, 100, 1, False],\n",
       "                                   [101, 'Electrode', 'Electric', nan, 60, 50, 70, 80, 80, 140, 1, False],\n",
       "                                   [125, 'Electabuzz', 'Electric', nan, 65, 83, 57, 95, 85, 105, 1, False],\n",
       "                                   [135, 'Jolteon', 'Electric', nan, 65, 65, 60, 110, 95, 130, 1, False],\n",
       "                                   [145, 'Zapdos', 'Electric', 'Flying', 90, 90, 85, 125, 90, 100, 1,\n",
       "                                    True]], dtype=object),\n",
       "              'fillcolor': 'rgba(255,255,255,0)',\n",
       "              'hoveron': 'points',\n",
       "              'hovertemplate': ('Type 1=%{customdata[2]}<br>Tot' ... 'customdata[11]}<extra></extra>'),\n",
       "              'legendgroup': 'Electric',\n",
       "              'line': {'color': 'rgba(255,255,255,0)'},\n",
       "              'marker': {'color': '#FF6692'},\n",
       "              'name': 'Electric',\n",
       "              'offsetgroup': 'Electric',\n",
       "              'orientation': 'h',\n",
       "              'pointpos': 0,\n",
       "              'showlegend': True,\n",
       "              'type': 'box',\n",
       "              'x': array([320, 485, 325, 465, 330, 480, 490, 525, 580], dtype=int64),\n",
       "              'x0': ' ',\n",
       "              'xaxis': 'x',\n",
       "              'y0': ' ',\n",
       "              'yaxis': 'y'},\n",
       "             {'alignmentgroup': 'True',\n",
       "              'boxpoints': 'all',\n",
       "              'customdata': array([[27, 'Sandshrew', 'Ground', nan, 50, 75, 85, 20, 30, 40, 1, False],\n",
       "                                   [28, 'Sandslash', 'Ground', nan, 75, 100, 110, 45, 55, 65, 1, False],\n",
       "                                   [50, 'Diglett', 'Ground', nan, 10, 55, 25, 35, 45, 95, 1, False],\n",
       "                                   [51, 'Dugtrio', 'Ground', nan, 35, 80, 50, 50, 70, 120, 1, False],\n",
       "                                   [104, 'Cubone', 'Ground', nan, 50, 50, 95, 40, 50, 35, 1, False],\n",
       "                                   [105, 'Marowak', 'Ground', nan, 60, 80, 110, 50, 80, 45, 1, False],\n",
       "                                   [111, 'Rhyhorn', 'Ground', 'Rock', 80, 85, 95, 30, 30, 25, 1, False],\n",
       "                                   [112, 'Rhydon', 'Ground', 'Rock', 105, 130, 120, 45, 45, 40, 1, False]],\n",
       "                                  dtype=object),\n",
       "              'fillcolor': 'rgba(255,255,255,0)',\n",
       "              'hoveron': 'points',\n",
       "              'hovertemplate': ('Type 1=%{customdata[2]}<br>Tot' ... 'customdata[11]}<extra></extra>'),\n",
       "              'legendgroup': 'Ground',\n",
       "              'line': {'color': 'rgba(255,255,255,0)'},\n",
       "              'marker': {'color': '#B6E880'},\n",
       "              'name': 'Ground',\n",
       "              'offsetgroup': 'Ground',\n",
       "              'orientation': 'h',\n",
       "              'pointpos': 0,\n",
       "              'showlegend': True,\n",
       "              'type': 'box',\n",
       "              'x': array([300, 450, 265, 405, 320, 425, 345, 485], dtype=int64),\n",
       "              'x0': ' ',\n",
       "              'xaxis': 'x',\n",
       "              'y0': ' ',\n",
       "              'yaxis': 'y'},\n",
       "             {'alignmentgroup': 'True',\n",
       "              'boxpoints': 'all',\n",
       "              'customdata': array([[35, 'Clefairy', 'Fairy', nan, 70, 45, 48, 60, 65, 35, 1, False],\n",
       "                                   [36, 'Clefable', 'Fairy', nan, 95, 70, 73, 95, 90, 60, 1, False]],\n",
       "                                  dtype=object),\n",
       "              'fillcolor': 'rgba(255,255,255,0)',\n",
       "              'hoveron': 'points',\n",
       "              'hovertemplate': ('Type 1=%{customdata[2]}<br>Tot' ... 'customdata[11]}<extra></extra>'),\n",
       "              'legendgroup': 'Fairy',\n",
       "              'line': {'color': 'rgba(255,255,255,0)'},\n",
       "              'marker': {'color': '#FF97FF'},\n",
       "              'name': 'Fairy',\n",
       "              'offsetgroup': 'Fairy',\n",
       "              'orientation': 'h',\n",
       "              'pointpos': 0,\n",
       "              'showlegend': True,\n",
       "              'type': 'box',\n",
       "              'x': array([323, 483], dtype=int64),\n",
       "              'x0': ' ',\n",
       "              'xaxis': 'x',\n",
       "              'y0': ' ',\n",
       "              'yaxis': 'y'},\n",
       "             {'alignmentgroup': 'True',\n",
       "              'boxpoints': 'all',\n",
       "              'customdata': array([[56, 'Mankey', 'Fighting', nan, 40, 80, 35, 35, 45, 70, 1, False],\n",
       "                                   [57, 'Primeape', 'Fighting', nan, 65, 105, 60, 60, 70, 95, 1, False],\n",
       "                                   [66, 'Machop', 'Fighting', nan, 70, 80, 50, 35, 35, 35, 1, False],\n",
       "                                   [67, 'Machoke', 'Fighting', nan, 80, 100, 70, 50, 60, 45, 1, False],\n",
       "                                   [68, 'Machamp', 'Fighting', nan, 90, 130, 80, 65, 85, 55, 1, False],\n",
       "                                   [106, 'Hitmonlee', 'Fighting', nan, 50, 120, 53, 35, 110, 87, 1, False],\n",
       "                                   [107, 'Hitmonchan', 'Fighting', nan, 50, 105, 79, 35, 110, 76, 1,\n",
       "                                    False]], dtype=object),\n",
       "              'fillcolor': 'rgba(255,255,255,0)',\n",
       "              'hoveron': 'points',\n",
       "              'hovertemplate': ('Type 1=%{customdata[2]}<br>Tot' ... 'customdata[11]}<extra></extra>'),\n",
       "              'legendgroup': 'Fighting',\n",
       "              'line': {'color': 'rgba(255,255,255,0)'},\n",
       "              'marker': {'color': '#FECB52'},\n",
       "              'name': 'Fighting',\n",
       "              'offsetgroup': 'Fighting',\n",
       "              'orientation': 'h',\n",
       "              'pointpos': 0,\n",
       "              'showlegend': True,\n",
       "              'type': 'box',\n",
       "              'x': array([305, 455, 305, 405, 505, 455, 455], dtype=int64),\n",
       "              'x0': ' ',\n",
       "              'xaxis': 'x',\n",
       "              'y0': ' ',\n",
       "              'yaxis': 'y'},\n",
       "             {'alignmentgroup': 'True',\n",
       "              'boxpoints': 'all',\n",
       "              'customdata': array([[63, 'Abra', 'Psychic', nan, 25, 20, 15, 105, 55, 90, 1, False],\n",
       "                                   [64, 'Kadabra', 'Psychic', nan, 40, 35, 30, 120, 70, 105, 1, False],\n",
       "                                   [65, 'Alakazam', 'Psychic', nan, 55, 50, 45, 135, 95, 120, 1, False],\n",
       "                                   [65, 'AlakazamMega Alakazam', 'Psychic', nan, 55, 50, 65, 175, 95, 150,\n",
       "                                    1, False],\n",
       "                                   [96, 'Drowzee', 'Psychic', nan, 60, 48, 45, 43, 90, 42, 1, False],\n",
       "                                   [97, 'Hypno', 'Psychic', nan, 85, 73, 70, 73, 115, 67, 1, False],\n",
       "                                   [122, 'Mr. Mime', 'Psychic', 'Fairy', 40, 45, 65, 100, 120, 90, 1,\n",
       "                                    False],\n",
       "                                   [150, 'Mewtwo', 'Psychic', nan, 106, 110, 90, 154, 90, 130, 1, True],\n",
       "                                   [150, 'MewtwoMega Mewtwo X', 'Psychic', 'Fighting', 106, 190, 100, 154,\n",
       "                                    100, 130, 1, True],\n",
       "                                   [150, 'MewtwoMega Mewtwo Y', 'Psychic', nan, 106, 150, 70, 194, 120,\n",
       "                                    140, 1, True],\n",
       "                                   [151, 'Mew', 'Psychic', nan, 100, 100, 100, 100, 100, 100, 1, False]],\n",
       "                                  dtype=object),\n",
       "              'fillcolor': 'rgba(255,255,255,0)',\n",
       "              'hoveron': 'points',\n",
       "              'hovertemplate': ('Type 1=%{customdata[2]}<br>Tot' ... 'customdata[11]}<extra></extra>'),\n",
       "              'legendgroup': 'Psychic',\n",
       "              'line': {'color': 'rgba(255,255,255,0)'},\n",
       "              'marker': {'color': '#636efa'},\n",
       "              'name': 'Psychic',\n",
       "              'offsetgroup': 'Psychic',\n",
       "              'orientation': 'h',\n",
       "              'pointpos': 0,\n",
       "              'showlegend': True,\n",
       "              'type': 'box',\n",
       "              'x': array([310, 400, 500, 590, 328, 483, 460, 680, 780, 780, 600], dtype=int64),\n",
       "              'x0': ' ',\n",
       "              'xaxis': 'x',\n",
       "              'y0': ' ',\n",
       "              'yaxis': 'y'},\n",
       "             {'alignmentgroup': 'True',\n",
       "              'boxpoints': 'all',\n",
       "              'customdata': array([[74, 'Geodude', 'Rock', 'Ground', 40, 80, 100, 30, 30, 20, 1, False],\n",
       "                                   [75, 'Graveler', 'Rock', 'Ground', 55, 95, 115, 45, 45, 35, 1, False],\n",
       "                                   [76, 'Golem', 'Rock', 'Ground', 80, 120, 130, 55, 65, 45, 1, False],\n",
       "                                   [95, 'Onix', 'Rock', 'Ground', 35, 45, 160, 30, 45, 70, 1, False],\n",
       "                                   [138, 'Omanyte', 'Rock', 'Water', 35, 40, 100, 90, 55, 35, 1, False],\n",
       "                                   [139, 'Omastar', 'Rock', 'Water', 70, 60, 125, 115, 70, 55, 1, False],\n",
       "                                   [140, 'Kabuto', 'Rock', 'Water', 30, 80, 90, 55, 45, 55, 1, False],\n",
       "                                   [141, 'Kabutops', 'Rock', 'Water', 60, 115, 105, 65, 70, 80, 1, False],\n",
       "                                   [142, 'Aerodactyl', 'Rock', 'Flying', 80, 105, 65, 60, 75, 130, 1,\n",
       "                                    False],\n",
       "                                   [142, 'AerodactylMega Aerodactyl', 'Rock', 'Flying', 80, 135, 85, 70,\n",
       "                                    95, 150, 1, False]], dtype=object),\n",
       "              'fillcolor': 'rgba(255,255,255,0)',\n",
       "              'hoveron': 'points',\n",
       "              'hovertemplate': ('Type 1=%{customdata[2]}<br>Tot' ... 'customdata[11]}<extra></extra>'),\n",
       "              'legendgroup': 'Rock',\n",
       "              'line': {'color': 'rgba(255,255,255,0)'},\n",
       "              'marker': {'color': '#EF553B'},\n",
       "              'name': 'Rock',\n",
       "              'offsetgroup': 'Rock',\n",
       "              'orientation': 'h',\n",
       "              'pointpos': 0,\n",
       "              'showlegend': True,\n",
       "              'type': 'box',\n",
       "              'x': array([300, 390, 495, 385, 355, 495, 355, 495, 515, 615], dtype=int64),\n",
       "              'x0': ' ',\n",
       "              'xaxis': 'x',\n",
       "              'y0': ' ',\n",
       "              'yaxis': 'y'},\n",
       "             {'alignmentgroup': 'True',\n",
       "              'boxpoints': 'all',\n",
       "              'customdata': array([[92, 'Gastly', 'Ghost', 'Poison', 30, 35, 30, 100, 35, 80, 1, False],\n",
       "                                   [93, 'Haunter', 'Ghost', 'Poison', 45, 50, 45, 115, 55, 95, 1, False],\n",
       "                                   [94, 'Gengar', 'Ghost', 'Poison', 60, 65, 60, 130, 75, 110, 1, False],\n",
       "                                   [94, 'GengarMega Gengar', 'Ghost', 'Poison', 60, 65, 80, 170, 95, 130,\n",
       "                                    1, False]], dtype=object),\n",
       "              'fillcolor': 'rgba(255,255,255,0)',\n",
       "              'hoveron': 'points',\n",
       "              'hovertemplate': ('Type 1=%{customdata[2]}<br>Tot' ... 'customdata[11]}<extra></extra>'),\n",
       "              'legendgroup': 'Ghost',\n",
       "              'line': {'color': 'rgba(255,255,255,0)'},\n",
       "              'marker': {'color': '#00cc96'},\n",
       "              'name': 'Ghost',\n",
       "              'offsetgroup': 'Ghost',\n",
       "              'orientation': 'h',\n",
       "              'pointpos': 0,\n",
       "              'showlegend': True,\n",
       "              'type': 'box',\n",
       "              'x': array([310, 405, 500, 600], dtype=int64),\n",
       "              'x0': ' ',\n",
       "              'xaxis': 'x',\n",
       "              'y0': ' ',\n",
       "              'yaxis': 'y'},\n",
       "             {'alignmentgroup': 'True',\n",
       "              'boxpoints': 'all',\n",
       "              'customdata': array([[124, 'Jynx', 'Ice', 'Psychic', 65, 50, 35, 115, 95, 95, 1, False],\n",
       "                                   [144, 'Articuno', 'Ice', 'Flying', 90, 85, 100, 95, 125, 85, 1, True]],\n",
       "                                  dtype=object),\n",
       "              'fillcolor': 'rgba(255,255,255,0)',\n",
       "              'hoveron': 'points',\n",
       "              'hovertemplate': ('Type 1=%{customdata[2]}<br>Tot' ... 'customdata[11]}<extra></extra>'),\n",
       "              'legendgroup': 'Ice',\n",
       "              'line': {'color': 'rgba(255,255,255,0)'},\n",
       "              'marker': {'color': '#ab63fa'},\n",
       "              'name': 'Ice',\n",
       "              'offsetgroup': 'Ice',\n",
       "              'orientation': 'h',\n",
       "              'pointpos': 0,\n",
       "              'showlegend': True,\n",
       "              'type': 'box',\n",
       "              'x': array([455, 580], dtype=int64),\n",
       "              'x0': ' ',\n",
       "              'xaxis': 'x',\n",
       "              'y0': ' ',\n",
       "              'yaxis': 'y'},\n",
       "             {'alignmentgroup': 'True',\n",
       "              'boxpoints': 'all',\n",
       "              'customdata': array([[147, 'Dratini', 'Dragon', nan, 41, 64, 45, 50, 50, 50, 1, False],\n",
       "                                   [148, 'Dragonair', 'Dragon', nan, 61, 84, 65, 70, 70, 70, 1, False],\n",
       "                                   [149, 'Dragonite', 'Dragon', 'Flying', 91, 134, 95, 100, 100, 80, 1,\n",
       "                                    False]], dtype=object),\n",
       "              'fillcolor': 'rgba(255,255,255,0)',\n",
       "              'hoveron': 'points',\n",
       "              'hovertemplate': ('Type 1=%{customdata[2]}<br>Tot' ... 'customdata[11]}<extra></extra>'),\n",
       "              'legendgroup': 'Dragon',\n",
       "              'line': {'color': 'rgba(255,255,255,0)'},\n",
       "              'marker': {'color': '#FFA15A'},\n",
       "              'name': 'Dragon',\n",
       "              'offsetgroup': 'Dragon',\n",
       "              'orientation': 'h',\n",
       "              'pointpos': 0,\n",
       "              'showlegend': True,\n",
       "              'type': 'box',\n",
       "              'x': array([300, 420, 600], dtype=int64),\n",
       "              'x0': ' ',\n",
       "              'xaxis': 'x',\n",
       "              'y0': ' ',\n",
       "              'yaxis': 'y'}],\n",
       "    'layout': {'boxmode': 'group',\n",
       "               'legend': {'title': {'text': 'Type 1'}, 'tracegroupgap': 0},\n",
       "               'margin': {'t': 60},\n",
       "               'template': '...',\n",
       "               'xaxis': {'anchor': 'y', 'domain': [0.0, 1.0], 'title': {'text': 'Total'}},\n",
       "               'yaxis': {'anchor': 'x', 'domain': [0.0, 1.0]}}\n",
       "})"
      ]
     },
     "execution_count": 10,
     "metadata": {},
     "output_type": "execute_result"
    }
   ],
   "source": [
    "px.strip(data_frame = df_pokemon[df_pokemon[\"Generation\"] == 1],\n",
    "         x          = \"Total\",\n",
    "         color      = \"Type 1\",\n",
    "         hover_data = df_pokemon.columns)"
   ]
  },
  {
   "cell_type": "code",
   "execution_count": 11,
   "id": "f3c1458c",
   "metadata": {},
   "outputs": [
    {
     "ename": "ValueError",
     "evalue": "Mime type rendering requires nbformat>=4.2.0 but it is not installed",
     "output_type": "error",
     "traceback": [
      "\u001b[1;31m---------------------------------------------------------------------------\u001b[0m",
      "\u001b[1;31mValueError\u001b[0m                                Traceback (most recent call last)",
      "File \u001b[1;32m~\\AppData\\Roaming\\Python\\Python312\\site-packages\\IPython\\core\\formatters.py:922\u001b[0m, in \u001b[0;36mIPythonDisplayFormatter.__call__\u001b[1;34m(self, obj)\u001b[0m\n\u001b[0;32m    920\u001b[0m method \u001b[38;5;241m=\u001b[39m get_real_method(obj, \u001b[38;5;28mself\u001b[39m\u001b[38;5;241m.\u001b[39mprint_method)\n\u001b[0;32m    921\u001b[0m \u001b[38;5;28;01mif\u001b[39;00m method \u001b[38;5;129;01mis\u001b[39;00m \u001b[38;5;129;01mnot\u001b[39;00m \u001b[38;5;28;01mNone\u001b[39;00m:\n\u001b[1;32m--> 922\u001b[0m     \u001b[43mmethod\u001b[49m\u001b[43m(\u001b[49m\u001b[43m)\u001b[49m\n\u001b[0;32m    923\u001b[0m     \u001b[38;5;28;01mreturn\u001b[39;00m \u001b[38;5;28;01mTrue\u001b[39;00m\n",
      "File \u001b[1;32mc:\\Users\\fran\\AppData\\Local\\Programs\\Python\\Python312\\Lib\\site-packages\\plotly\\basedatatypes.py:832\u001b[0m, in \u001b[0;36mBaseFigure._ipython_display_\u001b[1;34m(self)\u001b[0m\n\u001b[0;32m    829\u001b[0m \u001b[38;5;28;01mimport\u001b[39;00m \u001b[38;5;21;01mplotly\u001b[39;00m\u001b[38;5;21;01m.\u001b[39;00m\u001b[38;5;21;01mio\u001b[39;00m \u001b[38;5;28;01mas\u001b[39;00m \u001b[38;5;21;01mpio\u001b[39;00m\n\u001b[0;32m    831\u001b[0m \u001b[38;5;28;01mif\u001b[39;00m pio\u001b[38;5;241m.\u001b[39mrenderers\u001b[38;5;241m.\u001b[39mrender_on_display \u001b[38;5;129;01mand\u001b[39;00m pio\u001b[38;5;241m.\u001b[39mrenderers\u001b[38;5;241m.\u001b[39mdefault:\n\u001b[1;32m--> 832\u001b[0m     \u001b[43mpio\u001b[49m\u001b[38;5;241;43m.\u001b[39;49m\u001b[43mshow\u001b[49m\u001b[43m(\u001b[49m\u001b[38;5;28;43mself\u001b[39;49m\u001b[43m)\u001b[49m\n\u001b[0;32m    833\u001b[0m \u001b[38;5;28;01melse\u001b[39;00m:\n\u001b[0;32m    834\u001b[0m     \u001b[38;5;28mprint\u001b[39m(\u001b[38;5;28mrepr\u001b[39m(\u001b[38;5;28mself\u001b[39m))\n",
      "File \u001b[1;32mc:\\Users\\fran\\AppData\\Local\\Programs\\Python\\Python312\\Lib\\site-packages\\plotly\\io\\_renderers.py:394\u001b[0m, in \u001b[0;36mshow\u001b[1;34m(fig, renderer, validate, **kwargs)\u001b[0m\n\u001b[0;32m    389\u001b[0m         \u001b[38;5;28;01mraise\u001b[39;00m \u001b[38;5;167;01mValueError\u001b[39;00m(\n\u001b[0;32m    390\u001b[0m             \u001b[38;5;124m\"\u001b[39m\u001b[38;5;124mMime type rendering requires ipython but it is not installed\u001b[39m\u001b[38;5;124m\"\u001b[39m\n\u001b[0;32m    391\u001b[0m         )\n\u001b[0;32m    393\u001b[0m     \u001b[38;5;28;01mif\u001b[39;00m \u001b[38;5;129;01mnot\u001b[39;00m nbformat \u001b[38;5;129;01mor\u001b[39;00m Version(nbformat\u001b[38;5;241m.\u001b[39m__version__) \u001b[38;5;241m<\u001b[39m Version(\u001b[38;5;124m\"\u001b[39m\u001b[38;5;124m4.2.0\u001b[39m\u001b[38;5;124m\"\u001b[39m):\n\u001b[1;32m--> 394\u001b[0m         \u001b[38;5;28;01mraise\u001b[39;00m \u001b[38;5;167;01mValueError\u001b[39;00m(\n\u001b[0;32m    395\u001b[0m             \u001b[38;5;124m\"\u001b[39m\u001b[38;5;124mMime type rendering requires nbformat>=4.2.0 but it is not installed\u001b[39m\u001b[38;5;124m\"\u001b[39m\n\u001b[0;32m    396\u001b[0m         )\n\u001b[0;32m    398\u001b[0m     ipython_display\u001b[38;5;241m.\u001b[39mdisplay(bundle, raw\u001b[38;5;241m=\u001b[39m\u001b[38;5;28;01mTrue\u001b[39;00m)\n\u001b[0;32m    400\u001b[0m \u001b[38;5;66;03m# external renderers\u001b[39;00m\n",
      "\u001b[1;31mValueError\u001b[0m: Mime type rendering requires nbformat>=4.2.0 but it is not installed"
     ]
    },
    {
     "data": {
      "application/vnd.plotly.v1+json": {
       "config": {
        "plotlyServerURL": "https://plot.ly"
       },
       "data": [
        {
         "alignmentgroup": "True",
         "boxpoints": "all",
         "customdata": [
          [
           "Bulbasaur"
          ],
          [
           "Ivysaur"
          ],
          [
           "Venusaur"
          ],
          [
           "VenusaurMega Venusaur"
          ],
          [
           "Charmander"
          ],
          [
           "Charmeleon"
          ],
          [
           "Charizard"
          ],
          [
           "CharizardMega Charizard X"
          ],
          [
           "CharizardMega Charizard Y"
          ],
          [
           "Squirtle"
          ],
          [
           "Wartortle"
          ],
          [
           "Blastoise"
          ],
          [
           "BlastoiseMega Blastoise"
          ],
          [
           "Caterpie"
          ],
          [
           "Metapod"
          ],
          [
           "Butterfree"
          ],
          [
           "Weedle"
          ],
          [
           "Kakuna"
          ],
          [
           "Beedrill"
          ],
          [
           "BeedrillMega Beedrill"
          ],
          [
           "Pidgey"
          ],
          [
           "Pidgeotto"
          ],
          [
           "Pidgeot"
          ],
          [
           "PidgeotMega Pidgeot"
          ],
          [
           "Rattata"
          ],
          [
           "Raticate"
          ],
          [
           "Spearow"
          ],
          [
           "Fearow"
          ],
          [
           "Ekans"
          ],
          [
           "Arbok"
          ],
          [
           "Pikachu"
          ],
          [
           "Raichu"
          ],
          [
           "Sandshrew"
          ],
          [
           "Sandslash"
          ],
          [
           "Nidoran♀"
          ],
          [
           "Nidorina"
          ],
          [
           "Nidoqueen"
          ],
          [
           "Nidoran♂"
          ],
          [
           "Nidorino"
          ],
          [
           "Nidoking"
          ],
          [
           "Clefairy"
          ],
          [
           "Clefable"
          ],
          [
           "Vulpix"
          ],
          [
           "Ninetales"
          ],
          [
           "Jigglypuff"
          ],
          [
           "Wigglytuff"
          ],
          [
           "Zubat"
          ],
          [
           "Golbat"
          ],
          [
           "Oddish"
          ],
          [
           "Gloom"
          ],
          [
           "Vileplume"
          ],
          [
           "Paras"
          ],
          [
           "Parasect"
          ],
          [
           "Venonat"
          ],
          [
           "Venomoth"
          ],
          [
           "Diglett"
          ],
          [
           "Dugtrio"
          ],
          [
           "Meowth"
          ],
          [
           "Persian"
          ],
          [
           "Psyduck"
          ],
          [
           "Golduck"
          ],
          [
           "Mankey"
          ],
          [
           "Primeape"
          ],
          [
           "Growlithe"
          ],
          [
           "Arcanine"
          ],
          [
           "Poliwag"
          ],
          [
           "Poliwhirl"
          ],
          [
           "Poliwrath"
          ],
          [
           "Abra"
          ],
          [
           "Kadabra"
          ],
          [
           "Alakazam"
          ],
          [
           "AlakazamMega Alakazam"
          ],
          [
           "Machop"
          ],
          [
           "Machoke"
          ],
          [
           "Machamp"
          ],
          [
           "Bellsprout"
          ],
          [
           "Weepinbell"
          ],
          [
           "Victreebel"
          ],
          [
           "Tentacool"
          ],
          [
           "Tentacruel"
          ],
          [
           "Geodude"
          ],
          [
           "Graveler"
          ],
          [
           "Golem"
          ],
          [
           "Ponyta"
          ],
          [
           "Rapidash"
          ],
          [
           "Slowpoke"
          ],
          [
           "Slowbro"
          ],
          [
           "SlowbroMega Slowbro"
          ],
          [
           "Magnemite"
          ],
          [
           "Magneton"
          ],
          [
           "Farfetch'd"
          ],
          [
           "Doduo"
          ],
          [
           "Dodrio"
          ],
          [
           "Seel"
          ],
          [
           "Dewgong"
          ],
          [
           "Grimer"
          ],
          [
           "Muk"
          ],
          [
           "Shellder"
          ],
          [
           "Cloyster"
          ],
          [
           "Gastly"
          ],
          [
           "Haunter"
          ],
          [
           "Gengar"
          ],
          [
           "GengarMega Gengar"
          ],
          [
           "Onix"
          ],
          [
           "Drowzee"
          ],
          [
           "Hypno"
          ],
          [
           "Krabby"
          ],
          [
           "Kingler"
          ],
          [
           "Voltorb"
          ],
          [
           "Electrode"
          ],
          [
           "Exeggcute"
          ],
          [
           "Exeggutor"
          ],
          [
           "Cubone"
          ],
          [
           "Marowak"
          ],
          [
           "Hitmonlee"
          ],
          [
           "Hitmonchan"
          ],
          [
           "Lickitung"
          ],
          [
           "Koffing"
          ],
          [
           "Weezing"
          ],
          [
           "Rhyhorn"
          ],
          [
           "Rhydon"
          ],
          [
           "Chansey"
          ],
          [
           "Tangela"
          ],
          [
           "Kangaskhan"
          ],
          [
           "KangaskhanMega Kangaskhan"
          ],
          [
           "Horsea"
          ],
          [
           "Seadra"
          ],
          [
           "Goldeen"
          ],
          [
           "Seaking"
          ],
          [
           "Staryu"
          ],
          [
           "Starmie"
          ],
          [
           "Mr. Mime"
          ],
          [
           "Scyther"
          ],
          [
           "Jynx"
          ],
          [
           "Electabuzz"
          ],
          [
           "Magmar"
          ],
          [
           "Pinsir"
          ],
          [
           "PinsirMega Pinsir"
          ],
          [
           "Tauros"
          ],
          [
           "Magikarp"
          ],
          [
           "Gyarados"
          ],
          [
           "GyaradosMega Gyarados"
          ],
          [
           "Lapras"
          ],
          [
           "Ditto"
          ],
          [
           "Eevee"
          ],
          [
           "Vaporeon"
          ],
          [
           "Jolteon"
          ],
          [
           "Flareon"
          ],
          [
           "Porygon"
          ],
          [
           "Omanyte"
          ],
          [
           "Omastar"
          ],
          [
           "Kabuto"
          ],
          [
           "Kabutops"
          ],
          [
           "Aerodactyl"
          ],
          [
           "AerodactylMega Aerodactyl"
          ],
          [
           "Snorlax"
          ],
          [
           "Dratini"
          ],
          [
           "Dragonair"
          ],
          [
           "Dragonite"
          ],
          [
           "Mew"
          ]
         ],
         "fillcolor": "rgba(255,255,255,0)",
         "hoveron": "points",
         "hovertemplate": "Legendary=False<br>Attack=%{x}<br>Name=%{customdata[0]}<extra></extra>",
         "legendgroup": "False",
         "line": {
          "color": "rgba(255,255,255,0)"
         },
         "marker": {
          "color": "#636efa"
         },
         "name": "False",
         "offsetgroup": "False",
         "orientation": "h",
         "pointpos": 0,
         "showlegend": true,
         "type": "box",
         "x": [
          49,
          62,
          82,
          100,
          52,
          64,
          84,
          130,
          104,
          48,
          63,
          83,
          103,
          30,
          20,
          45,
          35,
          25,
          90,
          150,
          45,
          60,
          80,
          80,
          56,
          81,
          60,
          90,
          60,
          85,
          55,
          90,
          75,
          100,
          47,
          62,
          92,
          57,
          72,
          102,
          45,
          70,
          41,
          76,
          45,
          70,
          45,
          80,
          50,
          65,
          80,
          70,
          95,
          55,
          65,
          55,
          80,
          45,
          70,
          52,
          82,
          80,
          105,
          70,
          110,
          50,
          65,
          95,
          20,
          35,
          50,
          50,
          80,
          100,
          130,
          75,
          90,
          105,
          40,
          70,
          80,
          95,
          120,
          85,
          100,
          65,
          75,
          75,
          35,
          60,
          65,
          85,
          110,
          45,
          70,
          80,
          105,
          65,
          95,
          35,
          50,
          65,
          65,
          45,
          48,
          73,
          105,
          130,
          30,
          50,
          40,
          95,
          50,
          80,
          120,
          105,
          55,
          65,
          90,
          85,
          130,
          5,
          55,
          95,
          125,
          40,
          65,
          67,
          92,
          45,
          75,
          45,
          110,
          50,
          83,
          95,
          125,
          155,
          100,
          10,
          125,
          155,
          85,
          48,
          55,
          65,
          65,
          130,
          60,
          40,
          60,
          80,
          115,
          105,
          135,
          110,
          64,
          84,
          134,
          100
         ],
         "x0": " ",
         "xaxis": "x",
         "y0": " ",
         "yaxis": "y"
        },
        {
         "alignmentgroup": "True",
         "boxpoints": "all",
         "customdata": [
          [
           "Articuno"
          ],
          [
           "Zapdos"
          ],
          [
           "Moltres"
          ],
          [
           "Mewtwo"
          ],
          [
           "MewtwoMega Mewtwo X"
          ],
          [
           "MewtwoMega Mewtwo Y"
          ]
         ],
         "fillcolor": "rgba(255,255,255,0)",
         "hoveron": "points",
         "hovertemplate": "Legendary=True<br>Attack=%{x}<br>Name=%{customdata[0]}<extra></extra>",
         "legendgroup": "True",
         "line": {
          "color": "rgba(255,255,255,0)"
         },
         "marker": {
          "color": "#EF553B"
         },
         "name": "True",
         "offsetgroup": "True",
         "orientation": "h",
         "pointpos": 0,
         "showlegend": true,
         "type": "box",
         "x": [
          85,
          90,
          100,
          110,
          190,
          150
         ],
         "x0": " ",
         "xaxis": "x",
         "y0": " ",
         "yaxis": "y"
        }
       ],
       "layout": {
        "boxmode": "group",
        "legend": {
         "title": {
          "text": "Legendary"
         },
         "tracegroupgap": 0
        },
        "margin": {
         "t": 60
        },
        "template": {
         "data": {
          "bar": [
           {
            "error_x": {
             "color": "#2a3f5f"
            },
            "error_y": {
             "color": "#2a3f5f"
            },
            "marker": {
             "line": {
              "color": "#E5ECF6",
              "width": 0.5
             },
             "pattern": {
              "fillmode": "overlay",
              "size": 10,
              "solidity": 0.2
             }
            },
            "type": "bar"
           }
          ],
          "barpolar": [
           {
            "marker": {
             "line": {
              "color": "#E5ECF6",
              "width": 0.5
             },
             "pattern": {
              "fillmode": "overlay",
              "size": 10,
              "solidity": 0.2
             }
            },
            "type": "barpolar"
           }
          ],
          "carpet": [
           {
            "aaxis": {
             "endlinecolor": "#2a3f5f",
             "gridcolor": "white",
             "linecolor": "white",
             "minorgridcolor": "white",
             "startlinecolor": "#2a3f5f"
            },
            "baxis": {
             "endlinecolor": "#2a3f5f",
             "gridcolor": "white",
             "linecolor": "white",
             "minorgridcolor": "white",
             "startlinecolor": "#2a3f5f"
            },
            "type": "carpet"
           }
          ],
          "choropleth": [
           {
            "colorbar": {
             "outlinewidth": 0,
             "ticks": ""
            },
            "type": "choropleth"
           }
          ],
          "contour": [
           {
            "colorbar": {
             "outlinewidth": 0,
             "ticks": ""
            },
            "colorscale": [
             [
              0,
              "#0d0887"
             ],
             [
              0.1111111111111111,
              "#46039f"
             ],
             [
              0.2222222222222222,
              "#7201a8"
             ],
             [
              0.3333333333333333,
              "#9c179e"
             ],
             [
              0.4444444444444444,
              "#bd3786"
             ],
             [
              0.5555555555555556,
              "#d8576b"
             ],
             [
              0.6666666666666666,
              "#ed7953"
             ],
             [
              0.7777777777777778,
              "#fb9f3a"
             ],
             [
              0.8888888888888888,
              "#fdca26"
             ],
             [
              1,
              "#f0f921"
             ]
            ],
            "type": "contour"
           }
          ],
          "contourcarpet": [
           {
            "colorbar": {
             "outlinewidth": 0,
             "ticks": ""
            },
            "type": "contourcarpet"
           }
          ],
          "heatmap": [
           {
            "colorbar": {
             "outlinewidth": 0,
             "ticks": ""
            },
            "colorscale": [
             [
              0,
              "#0d0887"
             ],
             [
              0.1111111111111111,
              "#46039f"
             ],
             [
              0.2222222222222222,
              "#7201a8"
             ],
             [
              0.3333333333333333,
              "#9c179e"
             ],
             [
              0.4444444444444444,
              "#bd3786"
             ],
             [
              0.5555555555555556,
              "#d8576b"
             ],
             [
              0.6666666666666666,
              "#ed7953"
             ],
             [
              0.7777777777777778,
              "#fb9f3a"
             ],
             [
              0.8888888888888888,
              "#fdca26"
             ],
             [
              1,
              "#f0f921"
             ]
            ],
            "type": "heatmap"
           }
          ],
          "heatmapgl": [
           {
            "colorbar": {
             "outlinewidth": 0,
             "ticks": ""
            },
            "colorscale": [
             [
              0,
              "#0d0887"
             ],
             [
              0.1111111111111111,
              "#46039f"
             ],
             [
              0.2222222222222222,
              "#7201a8"
             ],
             [
              0.3333333333333333,
              "#9c179e"
             ],
             [
              0.4444444444444444,
              "#bd3786"
             ],
             [
              0.5555555555555556,
              "#d8576b"
             ],
             [
              0.6666666666666666,
              "#ed7953"
             ],
             [
              0.7777777777777778,
              "#fb9f3a"
             ],
             [
              0.8888888888888888,
              "#fdca26"
             ],
             [
              1,
              "#f0f921"
             ]
            ],
            "type": "heatmapgl"
           }
          ],
          "histogram": [
           {
            "marker": {
             "pattern": {
              "fillmode": "overlay",
              "size": 10,
              "solidity": 0.2
             }
            },
            "type": "histogram"
           }
          ],
          "histogram2d": [
           {
            "colorbar": {
             "outlinewidth": 0,
             "ticks": ""
            },
            "colorscale": [
             [
              0,
              "#0d0887"
             ],
             [
              0.1111111111111111,
              "#46039f"
             ],
             [
              0.2222222222222222,
              "#7201a8"
             ],
             [
              0.3333333333333333,
              "#9c179e"
             ],
             [
              0.4444444444444444,
              "#bd3786"
             ],
             [
              0.5555555555555556,
              "#d8576b"
             ],
             [
              0.6666666666666666,
              "#ed7953"
             ],
             [
              0.7777777777777778,
              "#fb9f3a"
             ],
             [
              0.8888888888888888,
              "#fdca26"
             ],
             [
              1,
              "#f0f921"
             ]
            ],
            "type": "histogram2d"
           }
          ],
          "histogram2dcontour": [
           {
            "colorbar": {
             "outlinewidth": 0,
             "ticks": ""
            },
            "colorscale": [
             [
              0,
              "#0d0887"
             ],
             [
              0.1111111111111111,
              "#46039f"
             ],
             [
              0.2222222222222222,
              "#7201a8"
             ],
             [
              0.3333333333333333,
              "#9c179e"
             ],
             [
              0.4444444444444444,
              "#bd3786"
             ],
             [
              0.5555555555555556,
              "#d8576b"
             ],
             [
              0.6666666666666666,
              "#ed7953"
             ],
             [
              0.7777777777777778,
              "#fb9f3a"
             ],
             [
              0.8888888888888888,
              "#fdca26"
             ],
             [
              1,
              "#f0f921"
             ]
            ],
            "type": "histogram2dcontour"
           }
          ],
          "mesh3d": [
           {
            "colorbar": {
             "outlinewidth": 0,
             "ticks": ""
            },
            "type": "mesh3d"
           }
          ],
          "parcoords": [
           {
            "line": {
             "colorbar": {
              "outlinewidth": 0,
              "ticks": ""
             }
            },
            "type": "parcoords"
           }
          ],
          "pie": [
           {
            "automargin": true,
            "type": "pie"
           }
          ],
          "scatter": [
           {
            "fillpattern": {
             "fillmode": "overlay",
             "size": 10,
             "solidity": 0.2
            },
            "type": "scatter"
           }
          ],
          "scatter3d": [
           {
            "line": {
             "colorbar": {
              "outlinewidth": 0,
              "ticks": ""
             }
            },
            "marker": {
             "colorbar": {
              "outlinewidth": 0,
              "ticks": ""
             }
            },
            "type": "scatter3d"
           }
          ],
          "scattercarpet": [
           {
            "marker": {
             "colorbar": {
              "outlinewidth": 0,
              "ticks": ""
             }
            },
            "type": "scattercarpet"
           }
          ],
          "scattergeo": [
           {
            "marker": {
             "colorbar": {
              "outlinewidth": 0,
              "ticks": ""
             }
            },
            "type": "scattergeo"
           }
          ],
          "scattergl": [
           {
            "marker": {
             "colorbar": {
              "outlinewidth": 0,
              "ticks": ""
             }
            },
            "type": "scattergl"
           }
          ],
          "scattermapbox": [
           {
            "marker": {
             "colorbar": {
              "outlinewidth": 0,
              "ticks": ""
             }
            },
            "type": "scattermapbox"
           }
          ],
          "scatterpolar": [
           {
            "marker": {
             "colorbar": {
              "outlinewidth": 0,
              "ticks": ""
             }
            },
            "type": "scatterpolar"
           }
          ],
          "scatterpolargl": [
           {
            "marker": {
             "colorbar": {
              "outlinewidth": 0,
              "ticks": ""
             }
            },
            "type": "scatterpolargl"
           }
          ],
          "scatterternary": [
           {
            "marker": {
             "colorbar": {
              "outlinewidth": 0,
              "ticks": ""
             }
            },
            "type": "scatterternary"
           }
          ],
          "surface": [
           {
            "colorbar": {
             "outlinewidth": 0,
             "ticks": ""
            },
            "colorscale": [
             [
              0,
              "#0d0887"
             ],
             [
              0.1111111111111111,
              "#46039f"
             ],
             [
              0.2222222222222222,
              "#7201a8"
             ],
             [
              0.3333333333333333,
              "#9c179e"
             ],
             [
              0.4444444444444444,
              "#bd3786"
             ],
             [
              0.5555555555555556,
              "#d8576b"
             ],
             [
              0.6666666666666666,
              "#ed7953"
             ],
             [
              0.7777777777777778,
              "#fb9f3a"
             ],
             [
              0.8888888888888888,
              "#fdca26"
             ],
             [
              1,
              "#f0f921"
             ]
            ],
            "type": "surface"
           }
          ],
          "table": [
           {
            "cells": {
             "fill": {
              "color": "#EBF0F8"
             },
             "line": {
              "color": "white"
             }
            },
            "header": {
             "fill": {
              "color": "#C8D4E3"
             },
             "line": {
              "color": "white"
             }
            },
            "type": "table"
           }
          ]
         },
         "layout": {
          "annotationdefaults": {
           "arrowcolor": "#2a3f5f",
           "arrowhead": 0,
           "arrowwidth": 1
          },
          "autotypenumbers": "strict",
          "coloraxis": {
           "colorbar": {
            "outlinewidth": 0,
            "ticks": ""
           }
          },
          "colorscale": {
           "diverging": [
            [
             0,
             "#8e0152"
            ],
            [
             0.1,
             "#c51b7d"
            ],
            [
             0.2,
             "#de77ae"
            ],
            [
             0.3,
             "#f1b6da"
            ],
            [
             0.4,
             "#fde0ef"
            ],
            [
             0.5,
             "#f7f7f7"
            ],
            [
             0.6,
             "#e6f5d0"
            ],
            [
             0.7,
             "#b8e186"
            ],
            [
             0.8,
             "#7fbc41"
            ],
            [
             0.9,
             "#4d9221"
            ],
            [
             1,
             "#276419"
            ]
           ],
           "sequential": [
            [
             0,
             "#0d0887"
            ],
            [
             0.1111111111111111,
             "#46039f"
            ],
            [
             0.2222222222222222,
             "#7201a8"
            ],
            [
             0.3333333333333333,
             "#9c179e"
            ],
            [
             0.4444444444444444,
             "#bd3786"
            ],
            [
             0.5555555555555556,
             "#d8576b"
            ],
            [
             0.6666666666666666,
             "#ed7953"
            ],
            [
             0.7777777777777778,
             "#fb9f3a"
            ],
            [
             0.8888888888888888,
             "#fdca26"
            ],
            [
             1,
             "#f0f921"
            ]
           ],
           "sequentialminus": [
            [
             0,
             "#0d0887"
            ],
            [
             0.1111111111111111,
             "#46039f"
            ],
            [
             0.2222222222222222,
             "#7201a8"
            ],
            [
             0.3333333333333333,
             "#9c179e"
            ],
            [
             0.4444444444444444,
             "#bd3786"
            ],
            [
             0.5555555555555556,
             "#d8576b"
            ],
            [
             0.6666666666666666,
             "#ed7953"
            ],
            [
             0.7777777777777778,
             "#fb9f3a"
            ],
            [
             0.8888888888888888,
             "#fdca26"
            ],
            [
             1,
             "#f0f921"
            ]
           ]
          },
          "colorway": [
           "#636efa",
           "#EF553B",
           "#00cc96",
           "#ab63fa",
           "#FFA15A",
           "#19d3f3",
           "#FF6692",
           "#B6E880",
           "#FF97FF",
           "#FECB52"
          ],
          "font": {
           "color": "#2a3f5f"
          },
          "geo": {
           "bgcolor": "white",
           "lakecolor": "white",
           "landcolor": "#E5ECF6",
           "showlakes": true,
           "showland": true,
           "subunitcolor": "white"
          },
          "hoverlabel": {
           "align": "left"
          },
          "hovermode": "closest",
          "mapbox": {
           "style": "light"
          },
          "paper_bgcolor": "white",
          "plot_bgcolor": "#E5ECF6",
          "polar": {
           "angularaxis": {
            "gridcolor": "white",
            "linecolor": "white",
            "ticks": ""
           },
           "bgcolor": "#E5ECF6",
           "radialaxis": {
            "gridcolor": "white",
            "linecolor": "white",
            "ticks": ""
           }
          },
          "scene": {
           "xaxis": {
            "backgroundcolor": "#E5ECF6",
            "gridcolor": "white",
            "gridwidth": 2,
            "linecolor": "white",
            "showbackground": true,
            "ticks": "",
            "zerolinecolor": "white"
           },
           "yaxis": {
            "backgroundcolor": "#E5ECF6",
            "gridcolor": "white",
            "gridwidth": 2,
            "linecolor": "white",
            "showbackground": true,
            "ticks": "",
            "zerolinecolor": "white"
           },
           "zaxis": {
            "backgroundcolor": "#E5ECF6",
            "gridcolor": "white",
            "gridwidth": 2,
            "linecolor": "white",
            "showbackground": true,
            "ticks": "",
            "zerolinecolor": "white"
           }
          },
          "shapedefaults": {
           "line": {
            "color": "#2a3f5f"
           }
          },
          "ternary": {
           "aaxis": {
            "gridcolor": "white",
            "linecolor": "white",
            "ticks": ""
           },
           "baxis": {
            "gridcolor": "white",
            "linecolor": "white",
            "ticks": ""
           },
           "bgcolor": "#E5ECF6",
           "caxis": {
            "gridcolor": "white",
            "linecolor": "white",
            "ticks": ""
           }
          },
          "title": {
           "x": 0.05
          },
          "xaxis": {
           "automargin": true,
           "gridcolor": "white",
           "linecolor": "white",
           "ticks": "",
           "title": {
            "standoff": 15
           },
           "zerolinecolor": "white",
           "zerolinewidth": 2
          },
          "yaxis": {
           "automargin": true,
           "gridcolor": "white",
           "linecolor": "white",
           "ticks": "",
           "title": {
            "standoff": 15
           },
           "zerolinecolor": "white",
           "zerolinewidth": 2
          }
         }
        },
        "xaxis": {
         "anchor": "y",
         "domain": [
          0,
          1
         ],
         "title": {
          "text": "Attack"
         }
        },
        "yaxis": {
         "anchor": "x",
         "domain": [
          0,
          1
         ]
        }
       }
      },
      "text/html": [
       "<div>                        <script type=\"text/javascript\">window.PlotlyConfig = {MathJaxConfig: 'local'};</script>\n",
       "        <script charset=\"utf-8\" src=\"https://cdn.plot.ly/plotly-2.29.1.min.js\"></script>                <div id=\"1e5007e6-2c63-4eed-a957-fb94d069693a\" class=\"plotly-graph-div\" style=\"height:100%; width:100%;\"></div>            <script type=\"text/javascript\">                                    window.PLOTLYENV=window.PLOTLYENV || {};                                    if (document.getElementById(\"1e5007e6-2c63-4eed-a957-fb94d069693a\")) {                    Plotly.newPlot(                        \"1e5007e6-2c63-4eed-a957-fb94d069693a\",                        [{\"alignmentgroup\":\"True\",\"boxpoints\":\"all\",\"customdata\":[[\"Bulbasaur\"],[\"Ivysaur\"],[\"Venusaur\"],[\"VenusaurMega Venusaur\"],[\"Charmander\"],[\"Charmeleon\"],[\"Charizard\"],[\"CharizardMega Charizard X\"],[\"CharizardMega Charizard Y\"],[\"Squirtle\"],[\"Wartortle\"],[\"Blastoise\"],[\"BlastoiseMega Blastoise\"],[\"Caterpie\"],[\"Metapod\"],[\"Butterfree\"],[\"Weedle\"],[\"Kakuna\"],[\"Beedrill\"],[\"BeedrillMega Beedrill\"],[\"Pidgey\"],[\"Pidgeotto\"],[\"Pidgeot\"],[\"PidgeotMega Pidgeot\"],[\"Rattata\"],[\"Raticate\"],[\"Spearow\"],[\"Fearow\"],[\"Ekans\"],[\"Arbok\"],[\"Pikachu\"],[\"Raichu\"],[\"Sandshrew\"],[\"Sandslash\"],[\"Nidoran\\u2640\"],[\"Nidorina\"],[\"Nidoqueen\"],[\"Nidoran\\u2642\"],[\"Nidorino\"],[\"Nidoking\"],[\"Clefairy\"],[\"Clefable\"],[\"Vulpix\"],[\"Ninetales\"],[\"Jigglypuff\"],[\"Wigglytuff\"],[\"Zubat\"],[\"Golbat\"],[\"Oddish\"],[\"Gloom\"],[\"Vileplume\"],[\"Paras\"],[\"Parasect\"],[\"Venonat\"],[\"Venomoth\"],[\"Diglett\"],[\"Dugtrio\"],[\"Meowth\"],[\"Persian\"],[\"Psyduck\"],[\"Golduck\"],[\"Mankey\"],[\"Primeape\"],[\"Growlithe\"],[\"Arcanine\"],[\"Poliwag\"],[\"Poliwhirl\"],[\"Poliwrath\"],[\"Abra\"],[\"Kadabra\"],[\"Alakazam\"],[\"AlakazamMega Alakazam\"],[\"Machop\"],[\"Machoke\"],[\"Machamp\"],[\"Bellsprout\"],[\"Weepinbell\"],[\"Victreebel\"],[\"Tentacool\"],[\"Tentacruel\"],[\"Geodude\"],[\"Graveler\"],[\"Golem\"],[\"Ponyta\"],[\"Rapidash\"],[\"Slowpoke\"],[\"Slowbro\"],[\"SlowbroMega Slowbro\"],[\"Magnemite\"],[\"Magneton\"],[\"Farfetch'd\"],[\"Doduo\"],[\"Dodrio\"],[\"Seel\"],[\"Dewgong\"],[\"Grimer\"],[\"Muk\"],[\"Shellder\"],[\"Cloyster\"],[\"Gastly\"],[\"Haunter\"],[\"Gengar\"],[\"GengarMega Gengar\"],[\"Onix\"],[\"Drowzee\"],[\"Hypno\"],[\"Krabby\"],[\"Kingler\"],[\"Voltorb\"],[\"Electrode\"],[\"Exeggcute\"],[\"Exeggutor\"],[\"Cubone\"],[\"Marowak\"],[\"Hitmonlee\"],[\"Hitmonchan\"],[\"Lickitung\"],[\"Koffing\"],[\"Weezing\"],[\"Rhyhorn\"],[\"Rhydon\"],[\"Chansey\"],[\"Tangela\"],[\"Kangaskhan\"],[\"KangaskhanMega Kangaskhan\"],[\"Horsea\"],[\"Seadra\"],[\"Goldeen\"],[\"Seaking\"],[\"Staryu\"],[\"Starmie\"],[\"Mr. Mime\"],[\"Scyther\"],[\"Jynx\"],[\"Electabuzz\"],[\"Magmar\"],[\"Pinsir\"],[\"PinsirMega Pinsir\"],[\"Tauros\"],[\"Magikarp\"],[\"Gyarados\"],[\"GyaradosMega Gyarados\"],[\"Lapras\"],[\"Ditto\"],[\"Eevee\"],[\"Vaporeon\"],[\"Jolteon\"],[\"Flareon\"],[\"Porygon\"],[\"Omanyte\"],[\"Omastar\"],[\"Kabuto\"],[\"Kabutops\"],[\"Aerodactyl\"],[\"AerodactylMega Aerodactyl\"],[\"Snorlax\"],[\"Dratini\"],[\"Dragonair\"],[\"Dragonite\"],[\"Mew\"]],\"fillcolor\":\"rgba(255,255,255,0)\",\"hoveron\":\"points\",\"hovertemplate\":\"Legendary=False\\u003cbr\\u003eAttack=%{x}\\u003cbr\\u003eName=%{customdata[0]}\\u003cextra\\u003e\\u003c\\u002fextra\\u003e\",\"legendgroup\":\"False\",\"line\":{\"color\":\"rgba(255,255,255,0)\"},\"marker\":{\"color\":\"#636efa\"},\"name\":\"False\",\"offsetgroup\":\"False\",\"orientation\":\"h\",\"pointpos\":0,\"showlegend\":true,\"x\":[49,62,82,100,52,64,84,130,104,48,63,83,103,30,20,45,35,25,90,150,45,60,80,80,56,81,60,90,60,85,55,90,75,100,47,62,92,57,72,102,45,70,41,76,45,70,45,80,50,65,80,70,95,55,65,55,80,45,70,52,82,80,105,70,110,50,65,95,20,35,50,50,80,100,130,75,90,105,40,70,80,95,120,85,100,65,75,75,35,60,65,85,110,45,70,80,105,65,95,35,50,65,65,45,48,73,105,130,30,50,40,95,50,80,120,105,55,65,90,85,130,5,55,95,125,40,65,67,92,45,75,45,110,50,83,95,125,155,100,10,125,155,85,48,55,65,65,130,60,40,60,80,115,105,135,110,64,84,134,100],\"x0\":\" \",\"xaxis\":\"x\",\"y0\":\" \",\"yaxis\":\"y\",\"type\":\"box\"},{\"alignmentgroup\":\"True\",\"boxpoints\":\"all\",\"customdata\":[[\"Articuno\"],[\"Zapdos\"],[\"Moltres\"],[\"Mewtwo\"],[\"MewtwoMega Mewtwo X\"],[\"MewtwoMega Mewtwo Y\"]],\"fillcolor\":\"rgba(255,255,255,0)\",\"hoveron\":\"points\",\"hovertemplate\":\"Legendary=True\\u003cbr\\u003eAttack=%{x}\\u003cbr\\u003eName=%{customdata[0]}\\u003cextra\\u003e\\u003c\\u002fextra\\u003e\",\"legendgroup\":\"True\",\"line\":{\"color\":\"rgba(255,255,255,0)\"},\"marker\":{\"color\":\"#EF553B\"},\"name\":\"True\",\"offsetgroup\":\"True\",\"orientation\":\"h\",\"pointpos\":0,\"showlegend\":true,\"x\":[85,90,100,110,190,150],\"x0\":\" \",\"xaxis\":\"x\",\"y0\":\" \",\"yaxis\":\"y\",\"type\":\"box\"}],                        {\"template\":{\"data\":{\"histogram2dcontour\":[{\"type\":\"histogram2dcontour\",\"colorbar\":{\"outlinewidth\":0,\"ticks\":\"\"},\"colorscale\":[[0.0,\"#0d0887\"],[0.1111111111111111,\"#46039f\"],[0.2222222222222222,\"#7201a8\"],[0.3333333333333333,\"#9c179e\"],[0.4444444444444444,\"#bd3786\"],[0.5555555555555556,\"#d8576b\"],[0.6666666666666666,\"#ed7953\"],[0.7777777777777778,\"#fb9f3a\"],[0.8888888888888888,\"#fdca26\"],[1.0,\"#f0f921\"]]}],\"choropleth\":[{\"type\":\"choropleth\",\"colorbar\":{\"outlinewidth\":0,\"ticks\":\"\"}}],\"histogram2d\":[{\"type\":\"histogram2d\",\"colorbar\":{\"outlinewidth\":0,\"ticks\":\"\"},\"colorscale\":[[0.0,\"#0d0887\"],[0.1111111111111111,\"#46039f\"],[0.2222222222222222,\"#7201a8\"],[0.3333333333333333,\"#9c179e\"],[0.4444444444444444,\"#bd3786\"],[0.5555555555555556,\"#d8576b\"],[0.6666666666666666,\"#ed7953\"],[0.7777777777777778,\"#fb9f3a\"],[0.8888888888888888,\"#fdca26\"],[1.0,\"#f0f921\"]]}],\"heatmap\":[{\"type\":\"heatmap\",\"colorbar\":{\"outlinewidth\":0,\"ticks\":\"\"},\"colorscale\":[[0.0,\"#0d0887\"],[0.1111111111111111,\"#46039f\"],[0.2222222222222222,\"#7201a8\"],[0.3333333333333333,\"#9c179e\"],[0.4444444444444444,\"#bd3786\"],[0.5555555555555556,\"#d8576b\"],[0.6666666666666666,\"#ed7953\"],[0.7777777777777778,\"#fb9f3a\"],[0.8888888888888888,\"#fdca26\"],[1.0,\"#f0f921\"]]}],\"heatmapgl\":[{\"type\":\"heatmapgl\",\"colorbar\":{\"outlinewidth\":0,\"ticks\":\"\"},\"colorscale\":[[0.0,\"#0d0887\"],[0.1111111111111111,\"#46039f\"],[0.2222222222222222,\"#7201a8\"],[0.3333333333333333,\"#9c179e\"],[0.4444444444444444,\"#bd3786\"],[0.5555555555555556,\"#d8576b\"],[0.6666666666666666,\"#ed7953\"],[0.7777777777777778,\"#fb9f3a\"],[0.8888888888888888,\"#fdca26\"],[1.0,\"#f0f921\"]]}],\"contourcarpet\":[{\"type\":\"contourcarpet\",\"colorbar\":{\"outlinewidth\":0,\"ticks\":\"\"}}],\"contour\":[{\"type\":\"contour\",\"colorbar\":{\"outlinewidth\":0,\"ticks\":\"\"},\"colorscale\":[[0.0,\"#0d0887\"],[0.1111111111111111,\"#46039f\"],[0.2222222222222222,\"#7201a8\"],[0.3333333333333333,\"#9c179e\"],[0.4444444444444444,\"#bd3786\"],[0.5555555555555556,\"#d8576b\"],[0.6666666666666666,\"#ed7953\"],[0.7777777777777778,\"#fb9f3a\"],[0.8888888888888888,\"#fdca26\"],[1.0,\"#f0f921\"]]}],\"surface\":[{\"type\":\"surface\",\"colorbar\":{\"outlinewidth\":0,\"ticks\":\"\"},\"colorscale\":[[0.0,\"#0d0887\"],[0.1111111111111111,\"#46039f\"],[0.2222222222222222,\"#7201a8\"],[0.3333333333333333,\"#9c179e\"],[0.4444444444444444,\"#bd3786\"],[0.5555555555555556,\"#d8576b\"],[0.6666666666666666,\"#ed7953\"],[0.7777777777777778,\"#fb9f3a\"],[0.8888888888888888,\"#fdca26\"],[1.0,\"#f0f921\"]]}],\"mesh3d\":[{\"type\":\"mesh3d\",\"colorbar\":{\"outlinewidth\":0,\"ticks\":\"\"}}],\"scatter\":[{\"fillpattern\":{\"fillmode\":\"overlay\",\"size\":10,\"solidity\":0.2},\"type\":\"scatter\"}],\"parcoords\":[{\"type\":\"parcoords\",\"line\":{\"colorbar\":{\"outlinewidth\":0,\"ticks\":\"\"}}}],\"scatterpolargl\":[{\"type\":\"scatterpolargl\",\"marker\":{\"colorbar\":{\"outlinewidth\":0,\"ticks\":\"\"}}}],\"bar\":[{\"error_x\":{\"color\":\"#2a3f5f\"},\"error_y\":{\"color\":\"#2a3f5f\"},\"marker\":{\"line\":{\"color\":\"#E5ECF6\",\"width\":0.5},\"pattern\":{\"fillmode\":\"overlay\",\"size\":10,\"solidity\":0.2}},\"type\":\"bar\"}],\"scattergeo\":[{\"type\":\"scattergeo\",\"marker\":{\"colorbar\":{\"outlinewidth\":0,\"ticks\":\"\"}}}],\"scatterpolar\":[{\"type\":\"scatterpolar\",\"marker\":{\"colorbar\":{\"outlinewidth\":0,\"ticks\":\"\"}}}],\"histogram\":[{\"marker\":{\"pattern\":{\"fillmode\":\"overlay\",\"size\":10,\"solidity\":0.2}},\"type\":\"histogram\"}],\"scattergl\":[{\"type\":\"scattergl\",\"marker\":{\"colorbar\":{\"outlinewidth\":0,\"ticks\":\"\"}}}],\"scatter3d\":[{\"type\":\"scatter3d\",\"line\":{\"colorbar\":{\"outlinewidth\":0,\"ticks\":\"\"}},\"marker\":{\"colorbar\":{\"outlinewidth\":0,\"ticks\":\"\"}}}],\"scattermapbox\":[{\"type\":\"scattermapbox\",\"marker\":{\"colorbar\":{\"outlinewidth\":0,\"ticks\":\"\"}}}],\"scatterternary\":[{\"type\":\"scatterternary\",\"marker\":{\"colorbar\":{\"outlinewidth\":0,\"ticks\":\"\"}}}],\"scattercarpet\":[{\"type\":\"scattercarpet\",\"marker\":{\"colorbar\":{\"outlinewidth\":0,\"ticks\":\"\"}}}],\"carpet\":[{\"aaxis\":{\"endlinecolor\":\"#2a3f5f\",\"gridcolor\":\"white\",\"linecolor\":\"white\",\"minorgridcolor\":\"white\",\"startlinecolor\":\"#2a3f5f\"},\"baxis\":{\"endlinecolor\":\"#2a3f5f\",\"gridcolor\":\"white\",\"linecolor\":\"white\",\"minorgridcolor\":\"white\",\"startlinecolor\":\"#2a3f5f\"},\"type\":\"carpet\"}],\"table\":[{\"cells\":{\"fill\":{\"color\":\"#EBF0F8\"},\"line\":{\"color\":\"white\"}},\"header\":{\"fill\":{\"color\":\"#C8D4E3\"},\"line\":{\"color\":\"white\"}},\"type\":\"table\"}],\"barpolar\":[{\"marker\":{\"line\":{\"color\":\"#E5ECF6\",\"width\":0.5},\"pattern\":{\"fillmode\":\"overlay\",\"size\":10,\"solidity\":0.2}},\"type\":\"barpolar\"}],\"pie\":[{\"automargin\":true,\"type\":\"pie\"}]},\"layout\":{\"autotypenumbers\":\"strict\",\"colorway\":[\"#636efa\",\"#EF553B\",\"#00cc96\",\"#ab63fa\",\"#FFA15A\",\"#19d3f3\",\"#FF6692\",\"#B6E880\",\"#FF97FF\",\"#FECB52\"],\"font\":{\"color\":\"#2a3f5f\"},\"hovermode\":\"closest\",\"hoverlabel\":{\"align\":\"left\"},\"paper_bgcolor\":\"white\",\"plot_bgcolor\":\"#E5ECF6\",\"polar\":{\"bgcolor\":\"#E5ECF6\",\"angularaxis\":{\"gridcolor\":\"white\",\"linecolor\":\"white\",\"ticks\":\"\"},\"radialaxis\":{\"gridcolor\":\"white\",\"linecolor\":\"white\",\"ticks\":\"\"}},\"ternary\":{\"bgcolor\":\"#E5ECF6\",\"aaxis\":{\"gridcolor\":\"white\",\"linecolor\":\"white\",\"ticks\":\"\"},\"baxis\":{\"gridcolor\":\"white\",\"linecolor\":\"white\",\"ticks\":\"\"},\"caxis\":{\"gridcolor\":\"white\",\"linecolor\":\"white\",\"ticks\":\"\"}},\"coloraxis\":{\"colorbar\":{\"outlinewidth\":0,\"ticks\":\"\"}},\"colorscale\":{\"sequential\":[[0.0,\"#0d0887\"],[0.1111111111111111,\"#46039f\"],[0.2222222222222222,\"#7201a8\"],[0.3333333333333333,\"#9c179e\"],[0.4444444444444444,\"#bd3786\"],[0.5555555555555556,\"#d8576b\"],[0.6666666666666666,\"#ed7953\"],[0.7777777777777778,\"#fb9f3a\"],[0.8888888888888888,\"#fdca26\"],[1.0,\"#f0f921\"]],\"sequentialminus\":[[0.0,\"#0d0887\"],[0.1111111111111111,\"#46039f\"],[0.2222222222222222,\"#7201a8\"],[0.3333333333333333,\"#9c179e\"],[0.4444444444444444,\"#bd3786\"],[0.5555555555555556,\"#d8576b\"],[0.6666666666666666,\"#ed7953\"],[0.7777777777777778,\"#fb9f3a\"],[0.8888888888888888,\"#fdca26\"],[1.0,\"#f0f921\"]],\"diverging\":[[0,\"#8e0152\"],[0.1,\"#c51b7d\"],[0.2,\"#de77ae\"],[0.3,\"#f1b6da\"],[0.4,\"#fde0ef\"],[0.5,\"#f7f7f7\"],[0.6,\"#e6f5d0\"],[0.7,\"#b8e186\"],[0.8,\"#7fbc41\"],[0.9,\"#4d9221\"],[1,\"#276419\"]]},\"xaxis\":{\"gridcolor\":\"white\",\"linecolor\":\"white\",\"ticks\":\"\",\"title\":{\"standoff\":15},\"zerolinecolor\":\"white\",\"automargin\":true,\"zerolinewidth\":2},\"yaxis\":{\"gridcolor\":\"white\",\"linecolor\":\"white\",\"ticks\":\"\",\"title\":{\"standoff\":15},\"zerolinecolor\":\"white\",\"automargin\":true,\"zerolinewidth\":2},\"scene\":{\"xaxis\":{\"backgroundcolor\":\"#E5ECF6\",\"gridcolor\":\"white\",\"linecolor\":\"white\",\"showbackground\":true,\"ticks\":\"\",\"zerolinecolor\":\"white\",\"gridwidth\":2},\"yaxis\":{\"backgroundcolor\":\"#E5ECF6\",\"gridcolor\":\"white\",\"linecolor\":\"white\",\"showbackground\":true,\"ticks\":\"\",\"zerolinecolor\":\"white\",\"gridwidth\":2},\"zaxis\":{\"backgroundcolor\":\"#E5ECF6\",\"gridcolor\":\"white\",\"linecolor\":\"white\",\"showbackground\":true,\"ticks\":\"\",\"zerolinecolor\":\"white\",\"gridwidth\":2}},\"shapedefaults\":{\"line\":{\"color\":\"#2a3f5f\"}},\"annotationdefaults\":{\"arrowcolor\":\"#2a3f5f\",\"arrowhead\":0,\"arrowwidth\":1},\"geo\":{\"bgcolor\":\"white\",\"landcolor\":\"#E5ECF6\",\"subunitcolor\":\"white\",\"showland\":true,\"showlakes\":true,\"lakecolor\":\"white\"},\"title\":{\"x\":0.05},\"mapbox\":{\"style\":\"light\"}}},\"xaxis\":{\"anchor\":\"y\",\"domain\":[0.0,1.0],\"title\":{\"text\":\"Attack\"}},\"yaxis\":{\"anchor\":\"x\",\"domain\":[0.0,1.0]},\"legend\":{\"title\":{\"text\":\"Legendary\"},\"tracegroupgap\":0},\"margin\":{\"t\":60},\"boxmode\":\"group\"},                        {\"responsive\": true}                    )                };                            </script>        </div>"
      ],
      "text/plain": [
       "Figure({\n",
       "    'data': [{'alignmentgroup': 'True',\n",
       "              'boxpoints': 'all',\n",
       "              'customdata': array([['Bulbasaur'],\n",
       "                                   ['Ivysaur'],\n",
       "                                   ['Venusaur'],\n",
       "                                   ['VenusaurMega Venusaur'],\n",
       "                                   ['Charmander'],\n",
       "                                   ['Charmeleon'],\n",
       "                                   ['Charizard'],\n",
       "                                   ['CharizardMega Charizard X'],\n",
       "                                   ['CharizardMega Charizard Y'],\n",
       "                                   ['Squirtle'],\n",
       "                                   ['Wartortle'],\n",
       "                                   ['Blastoise'],\n",
       "                                   ['BlastoiseMega Blastoise'],\n",
       "                                   ['Caterpie'],\n",
       "                                   ['Metapod'],\n",
       "                                   ['Butterfree'],\n",
       "                                   ['Weedle'],\n",
       "                                   ['Kakuna'],\n",
       "                                   ['Beedrill'],\n",
       "                                   ['BeedrillMega Beedrill'],\n",
       "                                   ['Pidgey'],\n",
       "                                   ['Pidgeotto'],\n",
       "                                   ['Pidgeot'],\n",
       "                                   ['PidgeotMega Pidgeot'],\n",
       "                                   ['Rattata'],\n",
       "                                   ['Raticate'],\n",
       "                                   ['Spearow'],\n",
       "                                   ['Fearow'],\n",
       "                                   ['Ekans'],\n",
       "                                   ['Arbok'],\n",
       "                                   ['Pikachu'],\n",
       "                                   ['Raichu'],\n",
       "                                   ['Sandshrew'],\n",
       "                                   ['Sandslash'],\n",
       "                                   ['Nidoran♀'],\n",
       "                                   ['Nidorina'],\n",
       "                                   ['Nidoqueen'],\n",
       "                                   ['Nidoran♂'],\n",
       "                                   ['Nidorino'],\n",
       "                                   ['Nidoking'],\n",
       "                                   ['Clefairy'],\n",
       "                                   ['Clefable'],\n",
       "                                   ['Vulpix'],\n",
       "                                   ['Ninetales'],\n",
       "                                   ['Jigglypuff'],\n",
       "                                   ['Wigglytuff'],\n",
       "                                   ['Zubat'],\n",
       "                                   ['Golbat'],\n",
       "                                   ['Oddish'],\n",
       "                                   ['Gloom'],\n",
       "                                   ['Vileplume'],\n",
       "                                   ['Paras'],\n",
       "                                   ['Parasect'],\n",
       "                                   ['Venonat'],\n",
       "                                   ['Venomoth'],\n",
       "                                   ['Diglett'],\n",
       "                                   ['Dugtrio'],\n",
       "                                   ['Meowth'],\n",
       "                                   ['Persian'],\n",
       "                                   ['Psyduck'],\n",
       "                                   ['Golduck'],\n",
       "                                   ['Mankey'],\n",
       "                                   ['Primeape'],\n",
       "                                   ['Growlithe'],\n",
       "                                   ['Arcanine'],\n",
       "                                   ['Poliwag'],\n",
       "                                   ['Poliwhirl'],\n",
       "                                   ['Poliwrath'],\n",
       "                                   ['Abra'],\n",
       "                                   ['Kadabra'],\n",
       "                                   ['Alakazam'],\n",
       "                                   ['AlakazamMega Alakazam'],\n",
       "                                   ['Machop'],\n",
       "                                   ['Machoke'],\n",
       "                                   ['Machamp'],\n",
       "                                   ['Bellsprout'],\n",
       "                                   ['Weepinbell'],\n",
       "                                   ['Victreebel'],\n",
       "                                   ['Tentacool'],\n",
       "                                   ['Tentacruel'],\n",
       "                                   ['Geodude'],\n",
       "                                   ['Graveler'],\n",
       "                                   ['Golem'],\n",
       "                                   ['Ponyta'],\n",
       "                                   ['Rapidash'],\n",
       "                                   ['Slowpoke'],\n",
       "                                   ['Slowbro'],\n",
       "                                   ['SlowbroMega Slowbro'],\n",
       "                                   ['Magnemite'],\n",
       "                                   ['Magneton'],\n",
       "                                   [\"Farfetch'd\"],\n",
       "                                   ['Doduo'],\n",
       "                                   ['Dodrio'],\n",
       "                                   ['Seel'],\n",
       "                                   ['Dewgong'],\n",
       "                                   ['Grimer'],\n",
       "                                   ['Muk'],\n",
       "                                   ['Shellder'],\n",
       "                                   ['Cloyster'],\n",
       "                                   ['Gastly'],\n",
       "                                   ['Haunter'],\n",
       "                                   ['Gengar'],\n",
       "                                   ['GengarMega Gengar'],\n",
       "                                   ['Onix'],\n",
       "                                   ['Drowzee'],\n",
       "                                   ['Hypno'],\n",
       "                                   ['Krabby'],\n",
       "                                   ['Kingler'],\n",
       "                                   ['Voltorb'],\n",
       "                                   ['Electrode'],\n",
       "                                   ['Exeggcute'],\n",
       "                                   ['Exeggutor'],\n",
       "                                   ['Cubone'],\n",
       "                                   ['Marowak'],\n",
       "                                   ['Hitmonlee'],\n",
       "                                   ['Hitmonchan'],\n",
       "                                   ['Lickitung'],\n",
       "                                   ['Koffing'],\n",
       "                                   ['Weezing'],\n",
       "                                   ['Rhyhorn'],\n",
       "                                   ['Rhydon'],\n",
       "                                   ['Chansey'],\n",
       "                                   ['Tangela'],\n",
       "                                   ['Kangaskhan'],\n",
       "                                   ['KangaskhanMega Kangaskhan'],\n",
       "                                   ['Horsea'],\n",
       "                                   ['Seadra'],\n",
       "                                   ['Goldeen'],\n",
       "                                   ['Seaking'],\n",
       "                                   ['Staryu'],\n",
       "                                   ['Starmie'],\n",
       "                                   ['Mr. Mime'],\n",
       "                                   ['Scyther'],\n",
       "                                   ['Jynx'],\n",
       "                                   ['Electabuzz'],\n",
       "                                   ['Magmar'],\n",
       "                                   ['Pinsir'],\n",
       "                                   ['PinsirMega Pinsir'],\n",
       "                                   ['Tauros'],\n",
       "                                   ['Magikarp'],\n",
       "                                   ['Gyarados'],\n",
       "                                   ['GyaradosMega Gyarados'],\n",
       "                                   ['Lapras'],\n",
       "                                   ['Ditto'],\n",
       "                                   ['Eevee'],\n",
       "                                   ['Vaporeon'],\n",
       "                                   ['Jolteon'],\n",
       "                                   ['Flareon'],\n",
       "                                   ['Porygon'],\n",
       "                                   ['Omanyte'],\n",
       "                                   ['Omastar'],\n",
       "                                   ['Kabuto'],\n",
       "                                   ['Kabutops'],\n",
       "                                   ['Aerodactyl'],\n",
       "                                   ['AerodactylMega Aerodactyl'],\n",
       "                                   ['Snorlax'],\n",
       "                                   ['Dratini'],\n",
       "                                   ['Dragonair'],\n",
       "                                   ['Dragonite'],\n",
       "                                   ['Mew']], dtype=object),\n",
       "              'fillcolor': 'rgba(255,255,255,0)',\n",
       "              'hoveron': 'points',\n",
       "              'hovertemplate': 'Legendary=False<br>Attack=%{x}<br>Name=%{customdata[0]}<extra></extra>',\n",
       "              'legendgroup': 'False',\n",
       "              'line': {'color': 'rgba(255,255,255,0)'},\n",
       "              'marker': {'color': '#636efa'},\n",
       "              'name': 'False',\n",
       "              'offsetgroup': 'False',\n",
       "              'orientation': 'h',\n",
       "              'pointpos': 0,\n",
       "              'showlegend': True,\n",
       "              'type': 'box',\n",
       "              'x': array([ 49,  62,  82, 100,  52,  64,  84, 130, 104,  48,  63,  83, 103,  30,\n",
       "                           20,  45,  35,  25,  90, 150,  45,  60,  80,  80,  56,  81,  60,  90,\n",
       "                           60,  85,  55,  90,  75, 100,  47,  62,  92,  57,  72, 102,  45,  70,\n",
       "                           41,  76,  45,  70,  45,  80,  50,  65,  80,  70,  95,  55,  65,  55,\n",
       "                           80,  45,  70,  52,  82,  80, 105,  70, 110,  50,  65,  95,  20,  35,\n",
       "                           50,  50,  80, 100, 130,  75,  90, 105,  40,  70,  80,  95, 120,  85,\n",
       "                          100,  65,  75,  75,  35,  60,  65,  85, 110,  45,  70,  80, 105,  65,\n",
       "                           95,  35,  50,  65,  65,  45,  48,  73, 105, 130,  30,  50,  40,  95,\n",
       "                           50,  80, 120, 105,  55,  65,  90,  85, 130,   5,  55,  95, 125,  40,\n",
       "                           65,  67,  92,  45,  75,  45, 110,  50,  83,  95, 125, 155, 100,  10,\n",
       "                          125, 155,  85,  48,  55,  65,  65, 130,  60,  40,  60,  80, 115, 105,\n",
       "                          135, 110,  64,  84, 134, 100], dtype=int64),\n",
       "              'x0': ' ',\n",
       "              'xaxis': 'x',\n",
       "              'y0': ' ',\n",
       "              'yaxis': 'y'},\n",
       "             {'alignmentgroup': 'True',\n",
       "              'boxpoints': 'all',\n",
       "              'customdata': array([['Articuno'],\n",
       "                                   ['Zapdos'],\n",
       "                                   ['Moltres'],\n",
       "                                   ['Mewtwo'],\n",
       "                                   ['MewtwoMega Mewtwo X'],\n",
       "                                   ['MewtwoMega Mewtwo Y']], dtype=object),\n",
       "              'fillcolor': 'rgba(255,255,255,0)',\n",
       "              'hoveron': 'points',\n",
       "              'hovertemplate': 'Legendary=True<br>Attack=%{x}<br>Name=%{customdata[0]}<extra></extra>',\n",
       "              'legendgroup': 'True',\n",
       "              'line': {'color': 'rgba(255,255,255,0)'},\n",
       "              'marker': {'color': '#EF553B'},\n",
       "              'name': 'True',\n",
       "              'offsetgroup': 'True',\n",
       "              'orientation': 'h',\n",
       "              'pointpos': 0,\n",
       "              'showlegend': True,\n",
       "              'type': 'box',\n",
       "              'x': array([ 85,  90, 100, 110, 190, 150], dtype=int64),\n",
       "              'x0': ' ',\n",
       "              'xaxis': 'x',\n",
       "              'y0': ' ',\n",
       "              'yaxis': 'y'}],\n",
       "    'layout': {'boxmode': 'group',\n",
       "               'legend': {'title': {'text': 'Legendary'}, 'tracegroupgap': 0},\n",
       "               'margin': {'t': 60},\n",
       "               'template': '...',\n",
       "               'xaxis': {'anchor': 'y', 'domain': [0.0, 1.0], 'title': {'text': 'Attack'}},\n",
       "               'yaxis': {'anchor': 'x', 'domain': [0.0, 1.0]}}\n",
       "})"
      ]
     },
     "execution_count": 11,
     "metadata": {},
     "output_type": "execute_result"
    }
   ],
   "source": [
    "# Pokemon\n",
    "\n",
    "px.strip(data_frame = df_pokemon[df_pokemon[\"Generation\"] == 1],\n",
    "         x          = \"Attack\",\n",
    "         hover_data = [\"Name\"],\n",
    "         color      = \"Legendary\")"
   ]
  },
  {
   "cell_type": "markdown",
   "id": "e7faf786",
   "metadata": {},
   "source": [
    "#### Histogram\n",
    "**`px.histogram()`**"
   ]
  },
  {
   "cell_type": "code",
   "execution_count": 12,
   "id": "ded7987b",
   "metadata": {
    "scrolled": false
   },
   "outputs": [
    {
     "ename": "ValueError",
     "evalue": "Mime type rendering requires nbformat>=4.2.0 but it is not installed",
     "output_type": "error",
     "traceback": [
      "\u001b[1;31m---------------------------------------------------------------------------\u001b[0m",
      "\u001b[1;31mValueError\u001b[0m                                Traceback (most recent call last)",
      "File \u001b[1;32m~\\AppData\\Roaming\\Python\\Python312\\site-packages\\IPython\\core\\formatters.py:922\u001b[0m, in \u001b[0;36mIPythonDisplayFormatter.__call__\u001b[1;34m(self, obj)\u001b[0m\n\u001b[0;32m    920\u001b[0m method \u001b[38;5;241m=\u001b[39m get_real_method(obj, \u001b[38;5;28mself\u001b[39m\u001b[38;5;241m.\u001b[39mprint_method)\n\u001b[0;32m    921\u001b[0m \u001b[38;5;28;01mif\u001b[39;00m method \u001b[38;5;129;01mis\u001b[39;00m \u001b[38;5;129;01mnot\u001b[39;00m \u001b[38;5;28;01mNone\u001b[39;00m:\n\u001b[1;32m--> 922\u001b[0m     \u001b[43mmethod\u001b[49m\u001b[43m(\u001b[49m\u001b[43m)\u001b[49m\n\u001b[0;32m    923\u001b[0m     \u001b[38;5;28;01mreturn\u001b[39;00m \u001b[38;5;28;01mTrue\u001b[39;00m\n",
      "File \u001b[1;32mc:\\Users\\fran\\AppData\\Local\\Programs\\Python\\Python312\\Lib\\site-packages\\plotly\\basedatatypes.py:832\u001b[0m, in \u001b[0;36mBaseFigure._ipython_display_\u001b[1;34m(self)\u001b[0m\n\u001b[0;32m    829\u001b[0m \u001b[38;5;28;01mimport\u001b[39;00m \u001b[38;5;21;01mplotly\u001b[39;00m\u001b[38;5;21;01m.\u001b[39;00m\u001b[38;5;21;01mio\u001b[39;00m \u001b[38;5;28;01mas\u001b[39;00m \u001b[38;5;21;01mpio\u001b[39;00m\n\u001b[0;32m    831\u001b[0m \u001b[38;5;28;01mif\u001b[39;00m pio\u001b[38;5;241m.\u001b[39mrenderers\u001b[38;5;241m.\u001b[39mrender_on_display \u001b[38;5;129;01mand\u001b[39;00m pio\u001b[38;5;241m.\u001b[39mrenderers\u001b[38;5;241m.\u001b[39mdefault:\n\u001b[1;32m--> 832\u001b[0m     \u001b[43mpio\u001b[49m\u001b[38;5;241;43m.\u001b[39;49m\u001b[43mshow\u001b[49m\u001b[43m(\u001b[49m\u001b[38;5;28;43mself\u001b[39;49m\u001b[43m)\u001b[49m\n\u001b[0;32m    833\u001b[0m \u001b[38;5;28;01melse\u001b[39;00m:\n\u001b[0;32m    834\u001b[0m     \u001b[38;5;28mprint\u001b[39m(\u001b[38;5;28mrepr\u001b[39m(\u001b[38;5;28mself\u001b[39m))\n",
      "File \u001b[1;32mc:\\Users\\fran\\AppData\\Local\\Programs\\Python\\Python312\\Lib\\site-packages\\plotly\\io\\_renderers.py:394\u001b[0m, in \u001b[0;36mshow\u001b[1;34m(fig, renderer, validate, **kwargs)\u001b[0m\n\u001b[0;32m    389\u001b[0m         \u001b[38;5;28;01mraise\u001b[39;00m \u001b[38;5;167;01mValueError\u001b[39;00m(\n\u001b[0;32m    390\u001b[0m             \u001b[38;5;124m\"\u001b[39m\u001b[38;5;124mMime type rendering requires ipython but it is not installed\u001b[39m\u001b[38;5;124m\"\u001b[39m\n\u001b[0;32m    391\u001b[0m         )\n\u001b[0;32m    393\u001b[0m     \u001b[38;5;28;01mif\u001b[39;00m \u001b[38;5;129;01mnot\u001b[39;00m nbformat \u001b[38;5;129;01mor\u001b[39;00m Version(nbformat\u001b[38;5;241m.\u001b[39m__version__) \u001b[38;5;241m<\u001b[39m Version(\u001b[38;5;124m\"\u001b[39m\u001b[38;5;124m4.2.0\u001b[39m\u001b[38;5;124m\"\u001b[39m):\n\u001b[1;32m--> 394\u001b[0m         \u001b[38;5;28;01mraise\u001b[39;00m \u001b[38;5;167;01mValueError\u001b[39;00m(\n\u001b[0;32m    395\u001b[0m             \u001b[38;5;124m\"\u001b[39m\u001b[38;5;124mMime type rendering requires nbformat>=4.2.0 but it is not installed\u001b[39m\u001b[38;5;124m\"\u001b[39m\n\u001b[0;32m    396\u001b[0m         )\n\u001b[0;32m    398\u001b[0m     ipython_display\u001b[38;5;241m.\u001b[39mdisplay(bundle, raw\u001b[38;5;241m=\u001b[39m\u001b[38;5;28;01mTrue\u001b[39;00m)\n\u001b[0;32m    400\u001b[0m \u001b[38;5;66;03m# external renderers\u001b[39;00m\n",
      "\u001b[1;31mValueError\u001b[0m: Mime type rendering requires nbformat>=4.2.0 but it is not installed"
     ]
    },
    {
     "data": {
      "application/vnd.plotly.v1+json": {
       "config": {
        "plotlyServerURL": "https://plot.ly"
       },
       "data": [
        {
         "alignmentgroup": "True",
         "bingroup": "x",
         "hovertemplate": "Sex=male<br>Pclass=1<br>Age=%{x}<br>count=%{y}<extra></extra>",
         "legendgroup": "male",
         "marker": {
          "color": "#636efa",
          "pattern": {
           "shape": ""
          }
         },
         "name": "male",
         "nbinsx": 100,
         "offsetgroup": "male",
         "orientation": "v",
         "showlegend": true,
         "type": "histogram",
         "x": [
          4,
          0.92,
          null,
          48,
          null,
          null,
          null,
          60,
          null,
          49,
          45,
          29,
          35,
          38,
          45.5,
          42,
          27,
          37,
          40,
          null,
          null,
          56,
          29,
          61,
          45,
          38,
          19,
          null,
          40,
          52,
          35,
          62,
          37,
          null,
          44,
          36,
          70,
          31,
          47,
          null,
          36,
          35,
          null,
          18,
          71,
          55,
          58,
          27,
          49,
          null,
          36,
          null,
          62,
          17,
          60,
          64,
          50,
          45,
          25,
          null,
          42,
          null,
          58,
          50,
          47,
          36,
          56,
          31,
          27,
          36,
          22,
          27,
          25,
          48,
          28,
          50,
          80,
          56,
          32,
          47,
          null,
          48,
          65,
          49,
          30,
          52,
          34,
          26,
          64,
          61,
          36,
          38,
          23,
          71,
          null,
          40,
          46,
          54,
          24,
          39,
          11,
          28,
          42,
          28,
          24,
          null,
          31,
          37,
          33,
          null,
          51,
          45,
          51,
          null,
          19,
          46,
          null,
          28,
          21,
          65,
          47,
          54
         ],
         "xaxis": "x",
         "yaxis": "y"
        },
        {
         "alignmentgroup": "True",
         "bingroup": "x",
         "hovertemplate": "Sex=male<br>Pclass=2<br>Age=%{x}<br>count=%{y}<extra></extra>",
         "legendgroup": "male",
         "marker": {
          "color": "#636efa",
          "pattern": {
           "shape": ""
          }
         },
         "name": "male",
         "nbinsx": 100,
         "offsetgroup": "male",
         "orientation": "v",
         "showlegend": false,
         "type": "histogram",
         "x": [
          52,
          29,
          30,
          66,
          25,
          39,
          34,
          54,
          0.83,
          1,
          2,
          43,
          28,
          36,
          25,
          26,
          23,
          null,
          null,
          24,
          30,
          48,
          21,
          3,
          31,
          31,
          34,
          16,
          0.83,
          null,
          21,
          null,
          31,
          18,
          70,
          32,
          28,
          57,
          25,
          46,
          23,
          32,
          24,
          60,
          34,
          36,
          24,
          44,
          51,
          19,
          33,
          3,
          29,
          23,
          19,
          25,
          54,
          27,
          null,
          59,
          18,
          47,
          8,
          28,
          null,
          19,
          36.5,
          18,
          42,
          39,
          30,
          18,
          42,
          30,
          32,
          27,
          34,
          19,
          0.67,
          37,
          null,
          21,
          50,
          34,
          35,
          34,
          42,
          29,
          36,
          16,
          52,
          31,
          62,
          35,
          27,
          32.5,
          23,
          1,
          23,
          null,
          54,
          23,
          39,
          null,
          36,
          25,
          30,
          28
         ],
         "xaxis": "x2",
         "yaxis": "y2"
        },
        {
         "alignmentgroup": "True",
         "bingroup": "x",
         "hovertemplate": "Sex=male<br>Pclass=3<br>Age=%{x}<br>count=%{y}<extra></extra>",
         "legendgroup": "male",
         "marker": {
          "color": "#636efa",
          "pattern": {
           "shape": ""
          }
         },
         "name": "male",
         "nbinsx": 100,
         "offsetgroup": "male",
         "orientation": "v",
         "showlegend": false,
         "type": "histogram",
         "x": [
          32,
          16,
          41,
          null,
          19,
          null,
          25,
          32,
          21,
          26,
          36,
          null,
          null,
          49,
          19,
          null,
          null,
          30,
          36,
          47,
          44,
          20,
          null,
          51,
          35,
          47,
          null,
          26,
          22,
          null,
          33,
          21,
          20,
          27,
          35,
          null,
          4,
          34,
          8,
          14,
          null,
          16,
          31,
          24,
          0.42,
          null,
          null,
          27,
          28.5,
          31,
          11,
          31,
          26,
          20,
          17,
          null,
          30.5,
          19,
          43,
          10,
          29,
          39,
          6,
          33,
          23,
          25,
          25,
          null,
          null,
          null,
          25,
          null,
          18,
          null,
          48,
          24,
          32,
          null,
          16,
          20,
          41,
          null,
          30,
          34,
          28,
          27,
          null,
          24.5,
          18,
          35,
          4,
          43,
          null,
          20,
          36,
          40,
          74,
          null,
          null,
          21,
          null,
          null,
          19,
          null,
          20,
          42,
          17,
          null,
          null,
          null,
          26,
          25,
          null,
          23,
          18,
          42,
          21,
          44,
          null,
          25,
          null,
          32,
          18,
          19,
          14,
          20,
          1,
          20,
          34.5,
          2,
          33,
          22,
          32,
          26,
          17,
          1,
          9,
          28,
          4,
          21,
          18,
          null,
          36,
          9,
          44,
          null,
          null,
          30,
          45,
          33,
          20,
          16,
          19,
          27,
          55.5,
          40.5,
          null,
          40,
          36,
          20.5,
          29,
          22,
          22,
          null,
          30,
          null,
          30,
          24,
          null,
          16,
          null,
          42,
          28,
          null,
          34,
          45.5,
          51,
          18,
          32,
          26,
          24,
          22,
          null,
          null,
          12,
          null,
          21,
          null,
          null,
          null,
          null,
          null,
          7,
          21,
          28.5,
          11,
          22,
          4,
          35,
          null,
          2,
          20,
          null,
          39,
          2,
          null,
          3,
          null,
          null,
          33,
          37,
          28,
          null,
          null,
          38,
          22,
          21,
          70.5,
          19,
          59,
          20,
          26,
          26,
          32,
          25,
          null,
          null,
          26,
          29,
          16,
          null,
          24,
          29,
          22,
          25,
          null,
          38,
          29,
          22,
          9,
          50,
          30,
          9,
          null,
          21,
          null,
          38,
          null,
          34,
          18,
          null,
          null,
          32,
          17,
          21,
          25,
          null,
          null,
          null,
          29,
          null,
          20,
          null,
          null,
          24,
          null,
          33,
          null,
          22,
          40,
          null,
          24,
          19,
          null,
          null,
          29,
          null,
          17,
          28,
          26,
          29,
          17,
          null,
          null,
          32,
          22,
          null,
          null,
          40.5,
          39,
          24,
          21,
          null,
          28,
          22,
          27,
          null,
          61,
          null,
          null,
          45,
          3,
          42,
          23,
          15,
          16,
          25,
          19,
          25,
          7,
          65,
          28,
          null,
          16,
          33,
          30,
          22,
          24,
          23.5,
          19,
          16,
          null,
          28,
          22,
          39,
          26,
          21,
          28,
          51,
          21,
          null,
          null,
          44,
          28,
          null,
          null,
          40,
          35,
          null,
          30,
          1,
          19,
          20,
          19,
          32,
          18,
          32
         ],
         "xaxis": "x3",
         "yaxis": "y3"
        },
        {
         "alignmentgroup": "True",
         "bingroup": "x",
         "hovertemplate": "Sex=female<br>Pclass=1<br>Age=%{x}<br>count=%{y}<extra></extra>",
         "legendgroup": "female",
         "marker": {
          "color": "#EF553B",
          "pattern": {
           "shape": ""
          }
         },
         "name": "female",
         "nbinsx": 100,
         "offsetgroup": "female",
         "orientation": "v",
         "showlegend": true,
         "type": "histogram",
         "x": [
          24,
          30,
          17,
          null,
          24,
          18,
          2,
          38,
          19,
          26,
          53,
          50,
          22,
          40,
          22,
          24,
          41,
          31,
          null,
          16,
          36,
          18,
          63,
          31,
          33,
          36,
          51,
          58,
          32,
          44,
          50,
          43,
          17,
          35,
          35,
          58,
          29,
          35,
          30,
          null,
          21,
          15,
          60,
          24,
          54,
          30,
          16,
          40,
          25,
          54,
          35,
          44,
          39,
          39,
          39,
          48,
          18,
          36,
          22,
          30,
          52,
          33,
          23,
          null,
          42,
          null,
          35,
          21,
          null,
          24,
          14,
          null,
          48,
          19,
          47,
          62,
          58,
          null,
          23,
          39,
          33,
          52,
          30,
          56,
          null,
          22,
          49,
          38,
          49,
          35,
          16,
          19,
          45,
          38
         ],
         "xaxis": "x",
         "yaxis": "y"
        },
        {
         "alignmentgroup": "True",
         "bingroup": "x",
         "hovertemplate": "Sex=female<br>Pclass=2<br>Age=%{x}<br>count=%{y}<extra></extra>",
         "legendgroup": "female",
         "marker": {
          "color": "#EF553B",
          "pattern": {
           "shape": ""
          }
         },
         "name": "female",
         "nbinsx": 100,
         "offsetgroup": "female",
         "orientation": "v",
         "showlegend": false,
         "type": "histogram",
         "x": [
          17,
          45,
          38,
          29,
          24,
          4,
          24,
          30,
          22,
          34,
          33,
          36,
          22,
          24,
          26,
          40,
          28,
          34,
          18,
          18,
          28,
          19,
          42,
          44,
          5,
          28,
          24,
          45,
          21,
          28,
          13,
          50,
          3,
          29,
          27,
          42,
          27,
          36,
          17,
          40,
          23,
          33,
          28,
          null,
          25,
          8,
          55,
          32,
          24,
          7,
          57,
          14,
          30,
          31,
          19,
          35,
          48,
          24,
          4,
          29,
          30,
          2,
          6,
          27,
          24,
          36,
          34,
          40,
          34,
          25,
          54,
          50,
          50,
          41,
          null,
          32.5
         ],
         "xaxis": "x2",
         "yaxis": "y2"
        },
        {
         "alignmentgroup": "True",
         "bingroup": "x",
         "hovertemplate": "Sex=female<br>Pclass=3<br>Age=%{x}<br>count=%{y}<extra></extra>",
         "legendgroup": "female",
         "marker": {
          "color": "#EF553B",
          "pattern": {
           "shape": ""
          }
         },
         "name": "female",
         "nbinsx": 100,
         "offsetgroup": "female",
         "orientation": "v",
         "showlegend": false,
         "type": "histogram",
         "x": [
          39,
          9,
          null,
          null,
          24,
          null,
          null,
          39,
          22,
          15,
          26,
          null,
          48,
          18,
          25,
          null,
          6,
          23,
          18,
          null,
          13,
          5,
          30.5,
          31,
          30,
          41,
          27,
          18,
          32,
          18,
          null,
          23,
          0.75,
          2,
          18,
          9,
          43,
          18,
          15,
          null,
          4,
          null,
          45,
          1,
          null,
          4,
          null,
          47,
          null,
          null,
          22,
          9,
          16,
          24,
          19,
          null,
          5,
          null,
          null,
          null,
          25,
          29,
          41,
          29,
          null,
          16,
          27,
          2,
          18,
          14,
          40,
          19,
          18,
          null,
          null,
          null,
          26,
          27,
          4,
          31,
          null,
          15,
          8,
          38,
          14,
          17,
          28,
          21,
          14.5,
          20,
          17,
          2,
          null,
          16,
          30,
          null,
          33,
          null,
          null,
          0.75,
          22,
          2,
          63,
          null,
          28,
          null,
          21,
          5,
          9,
          11,
          22,
          30,
          36,
          null,
          29,
          null,
          21,
          null,
          37,
          10,
          26,
          31,
          null,
          null,
          null,
          null,
          45,
          35,
          22,
          24,
          null,
          24,
          31,
          21,
          null,
          null,
          20,
          null,
          45,
          null,
          null,
          3,
          22,
          1
         ],
         "xaxis": "x3",
         "yaxis": "y3"
        }
       ],
       "layout": {
        "annotations": [
         {
          "font": {},
          "showarrow": false,
          "text": "Pclass=1",
          "x": 0.15999999999999998,
          "xanchor": "center",
          "xref": "paper",
          "y": 1,
          "yanchor": "bottom",
          "yref": "paper"
         },
         {
          "font": {},
          "showarrow": false,
          "text": "Pclass=2",
          "x": 0.49999999999999994,
          "xanchor": "center",
          "xref": "paper",
          "y": 1,
          "yanchor": "bottom",
          "yref": "paper"
         },
         {
          "font": {},
          "showarrow": false,
          "text": "Pclass=3",
          "x": 0.8399999999999999,
          "xanchor": "center",
          "xref": "paper",
          "y": 1,
          "yanchor": "bottom",
          "yref": "paper"
         }
        ],
        "barmode": "relative",
        "legend": {
         "title": {
          "text": "Sex"
         },
         "tracegroupgap": 0
        },
        "margin": {
         "t": 60
        },
        "template": {
         "data": {
          "bar": [
           {
            "error_x": {
             "color": "#2a3f5f"
            },
            "error_y": {
             "color": "#2a3f5f"
            },
            "marker": {
             "line": {
              "color": "#E5ECF6",
              "width": 0.5
             },
             "pattern": {
              "fillmode": "overlay",
              "size": 10,
              "solidity": 0.2
             }
            },
            "type": "bar"
           }
          ],
          "barpolar": [
           {
            "marker": {
             "line": {
              "color": "#E5ECF6",
              "width": 0.5
             },
             "pattern": {
              "fillmode": "overlay",
              "size": 10,
              "solidity": 0.2
             }
            },
            "type": "barpolar"
           }
          ],
          "carpet": [
           {
            "aaxis": {
             "endlinecolor": "#2a3f5f",
             "gridcolor": "white",
             "linecolor": "white",
             "minorgridcolor": "white",
             "startlinecolor": "#2a3f5f"
            },
            "baxis": {
             "endlinecolor": "#2a3f5f",
             "gridcolor": "white",
             "linecolor": "white",
             "minorgridcolor": "white",
             "startlinecolor": "#2a3f5f"
            },
            "type": "carpet"
           }
          ],
          "choropleth": [
           {
            "colorbar": {
             "outlinewidth": 0,
             "ticks": ""
            },
            "type": "choropleth"
           }
          ],
          "contour": [
           {
            "colorbar": {
             "outlinewidth": 0,
             "ticks": ""
            },
            "colorscale": [
             [
              0,
              "#0d0887"
             ],
             [
              0.1111111111111111,
              "#46039f"
             ],
             [
              0.2222222222222222,
              "#7201a8"
             ],
             [
              0.3333333333333333,
              "#9c179e"
             ],
             [
              0.4444444444444444,
              "#bd3786"
             ],
             [
              0.5555555555555556,
              "#d8576b"
             ],
             [
              0.6666666666666666,
              "#ed7953"
             ],
             [
              0.7777777777777778,
              "#fb9f3a"
             ],
             [
              0.8888888888888888,
              "#fdca26"
             ],
             [
              1,
              "#f0f921"
             ]
            ],
            "type": "contour"
           }
          ],
          "contourcarpet": [
           {
            "colorbar": {
             "outlinewidth": 0,
             "ticks": ""
            },
            "type": "contourcarpet"
           }
          ],
          "heatmap": [
           {
            "colorbar": {
             "outlinewidth": 0,
             "ticks": ""
            },
            "colorscale": [
             [
              0,
              "#0d0887"
             ],
             [
              0.1111111111111111,
              "#46039f"
             ],
             [
              0.2222222222222222,
              "#7201a8"
             ],
             [
              0.3333333333333333,
              "#9c179e"
             ],
             [
              0.4444444444444444,
              "#bd3786"
             ],
             [
              0.5555555555555556,
              "#d8576b"
             ],
             [
              0.6666666666666666,
              "#ed7953"
             ],
             [
              0.7777777777777778,
              "#fb9f3a"
             ],
             [
              0.8888888888888888,
              "#fdca26"
             ],
             [
              1,
              "#f0f921"
             ]
            ],
            "type": "heatmap"
           }
          ],
          "heatmapgl": [
           {
            "colorbar": {
             "outlinewidth": 0,
             "ticks": ""
            },
            "colorscale": [
             [
              0,
              "#0d0887"
             ],
             [
              0.1111111111111111,
              "#46039f"
             ],
             [
              0.2222222222222222,
              "#7201a8"
             ],
             [
              0.3333333333333333,
              "#9c179e"
             ],
             [
              0.4444444444444444,
              "#bd3786"
             ],
             [
              0.5555555555555556,
              "#d8576b"
             ],
             [
              0.6666666666666666,
              "#ed7953"
             ],
             [
              0.7777777777777778,
              "#fb9f3a"
             ],
             [
              0.8888888888888888,
              "#fdca26"
             ],
             [
              1,
              "#f0f921"
             ]
            ],
            "type": "heatmapgl"
           }
          ],
          "histogram": [
           {
            "marker": {
             "pattern": {
              "fillmode": "overlay",
              "size": 10,
              "solidity": 0.2
             }
            },
            "type": "histogram"
           }
          ],
          "histogram2d": [
           {
            "colorbar": {
             "outlinewidth": 0,
             "ticks": ""
            },
            "colorscale": [
             [
              0,
              "#0d0887"
             ],
             [
              0.1111111111111111,
              "#46039f"
             ],
             [
              0.2222222222222222,
              "#7201a8"
             ],
             [
              0.3333333333333333,
              "#9c179e"
             ],
             [
              0.4444444444444444,
              "#bd3786"
             ],
             [
              0.5555555555555556,
              "#d8576b"
             ],
             [
              0.6666666666666666,
              "#ed7953"
             ],
             [
              0.7777777777777778,
              "#fb9f3a"
             ],
             [
              0.8888888888888888,
              "#fdca26"
             ],
             [
              1,
              "#f0f921"
             ]
            ],
            "type": "histogram2d"
           }
          ],
          "histogram2dcontour": [
           {
            "colorbar": {
             "outlinewidth": 0,
             "ticks": ""
            },
            "colorscale": [
             [
              0,
              "#0d0887"
             ],
             [
              0.1111111111111111,
              "#46039f"
             ],
             [
              0.2222222222222222,
              "#7201a8"
             ],
             [
              0.3333333333333333,
              "#9c179e"
             ],
             [
              0.4444444444444444,
              "#bd3786"
             ],
             [
              0.5555555555555556,
              "#d8576b"
             ],
             [
              0.6666666666666666,
              "#ed7953"
             ],
             [
              0.7777777777777778,
              "#fb9f3a"
             ],
             [
              0.8888888888888888,
              "#fdca26"
             ],
             [
              1,
              "#f0f921"
             ]
            ],
            "type": "histogram2dcontour"
           }
          ],
          "mesh3d": [
           {
            "colorbar": {
             "outlinewidth": 0,
             "ticks": ""
            },
            "type": "mesh3d"
           }
          ],
          "parcoords": [
           {
            "line": {
             "colorbar": {
              "outlinewidth": 0,
              "ticks": ""
             }
            },
            "type": "parcoords"
           }
          ],
          "pie": [
           {
            "automargin": true,
            "type": "pie"
           }
          ],
          "scatter": [
           {
            "fillpattern": {
             "fillmode": "overlay",
             "size": 10,
             "solidity": 0.2
            },
            "type": "scatter"
           }
          ],
          "scatter3d": [
           {
            "line": {
             "colorbar": {
              "outlinewidth": 0,
              "ticks": ""
             }
            },
            "marker": {
             "colorbar": {
              "outlinewidth": 0,
              "ticks": ""
             }
            },
            "type": "scatter3d"
           }
          ],
          "scattercarpet": [
           {
            "marker": {
             "colorbar": {
              "outlinewidth": 0,
              "ticks": ""
             }
            },
            "type": "scattercarpet"
           }
          ],
          "scattergeo": [
           {
            "marker": {
             "colorbar": {
              "outlinewidth": 0,
              "ticks": ""
             }
            },
            "type": "scattergeo"
           }
          ],
          "scattergl": [
           {
            "marker": {
             "colorbar": {
              "outlinewidth": 0,
              "ticks": ""
             }
            },
            "type": "scattergl"
           }
          ],
          "scattermapbox": [
           {
            "marker": {
             "colorbar": {
              "outlinewidth": 0,
              "ticks": ""
             }
            },
            "type": "scattermapbox"
           }
          ],
          "scatterpolar": [
           {
            "marker": {
             "colorbar": {
              "outlinewidth": 0,
              "ticks": ""
             }
            },
            "type": "scatterpolar"
           }
          ],
          "scatterpolargl": [
           {
            "marker": {
             "colorbar": {
              "outlinewidth": 0,
              "ticks": ""
             }
            },
            "type": "scatterpolargl"
           }
          ],
          "scatterternary": [
           {
            "marker": {
             "colorbar": {
              "outlinewidth": 0,
              "ticks": ""
             }
            },
            "type": "scatterternary"
           }
          ],
          "surface": [
           {
            "colorbar": {
             "outlinewidth": 0,
             "ticks": ""
            },
            "colorscale": [
             [
              0,
              "#0d0887"
             ],
             [
              0.1111111111111111,
              "#46039f"
             ],
             [
              0.2222222222222222,
              "#7201a8"
             ],
             [
              0.3333333333333333,
              "#9c179e"
             ],
             [
              0.4444444444444444,
              "#bd3786"
             ],
             [
              0.5555555555555556,
              "#d8576b"
             ],
             [
              0.6666666666666666,
              "#ed7953"
             ],
             [
              0.7777777777777778,
              "#fb9f3a"
             ],
             [
              0.8888888888888888,
              "#fdca26"
             ],
             [
              1,
              "#f0f921"
             ]
            ],
            "type": "surface"
           }
          ],
          "table": [
           {
            "cells": {
             "fill": {
              "color": "#EBF0F8"
             },
             "line": {
              "color": "white"
             }
            },
            "header": {
             "fill": {
              "color": "#C8D4E3"
             },
             "line": {
              "color": "white"
             }
            },
            "type": "table"
           }
          ]
         },
         "layout": {
          "annotationdefaults": {
           "arrowcolor": "#2a3f5f",
           "arrowhead": 0,
           "arrowwidth": 1
          },
          "autotypenumbers": "strict",
          "coloraxis": {
           "colorbar": {
            "outlinewidth": 0,
            "ticks": ""
           }
          },
          "colorscale": {
           "diverging": [
            [
             0,
             "#8e0152"
            ],
            [
             0.1,
             "#c51b7d"
            ],
            [
             0.2,
             "#de77ae"
            ],
            [
             0.3,
             "#f1b6da"
            ],
            [
             0.4,
             "#fde0ef"
            ],
            [
             0.5,
             "#f7f7f7"
            ],
            [
             0.6,
             "#e6f5d0"
            ],
            [
             0.7,
             "#b8e186"
            ],
            [
             0.8,
             "#7fbc41"
            ],
            [
             0.9,
             "#4d9221"
            ],
            [
             1,
             "#276419"
            ]
           ],
           "sequential": [
            [
             0,
             "#0d0887"
            ],
            [
             0.1111111111111111,
             "#46039f"
            ],
            [
             0.2222222222222222,
             "#7201a8"
            ],
            [
             0.3333333333333333,
             "#9c179e"
            ],
            [
             0.4444444444444444,
             "#bd3786"
            ],
            [
             0.5555555555555556,
             "#d8576b"
            ],
            [
             0.6666666666666666,
             "#ed7953"
            ],
            [
             0.7777777777777778,
             "#fb9f3a"
            ],
            [
             0.8888888888888888,
             "#fdca26"
            ],
            [
             1,
             "#f0f921"
            ]
           ],
           "sequentialminus": [
            [
             0,
             "#0d0887"
            ],
            [
             0.1111111111111111,
             "#46039f"
            ],
            [
             0.2222222222222222,
             "#7201a8"
            ],
            [
             0.3333333333333333,
             "#9c179e"
            ],
            [
             0.4444444444444444,
             "#bd3786"
            ],
            [
             0.5555555555555556,
             "#d8576b"
            ],
            [
             0.6666666666666666,
             "#ed7953"
            ],
            [
             0.7777777777777778,
             "#fb9f3a"
            ],
            [
             0.8888888888888888,
             "#fdca26"
            ],
            [
             1,
             "#f0f921"
            ]
           ]
          },
          "colorway": [
           "#636efa",
           "#EF553B",
           "#00cc96",
           "#ab63fa",
           "#FFA15A",
           "#19d3f3",
           "#FF6692",
           "#B6E880",
           "#FF97FF",
           "#FECB52"
          ],
          "font": {
           "color": "#2a3f5f"
          },
          "geo": {
           "bgcolor": "white",
           "lakecolor": "white",
           "landcolor": "#E5ECF6",
           "showlakes": true,
           "showland": true,
           "subunitcolor": "white"
          },
          "hoverlabel": {
           "align": "left"
          },
          "hovermode": "closest",
          "mapbox": {
           "style": "light"
          },
          "paper_bgcolor": "white",
          "plot_bgcolor": "#E5ECF6",
          "polar": {
           "angularaxis": {
            "gridcolor": "white",
            "linecolor": "white",
            "ticks": ""
           },
           "bgcolor": "#E5ECF6",
           "radialaxis": {
            "gridcolor": "white",
            "linecolor": "white",
            "ticks": ""
           }
          },
          "scene": {
           "xaxis": {
            "backgroundcolor": "#E5ECF6",
            "gridcolor": "white",
            "gridwidth": 2,
            "linecolor": "white",
            "showbackground": true,
            "ticks": "",
            "zerolinecolor": "white"
           },
           "yaxis": {
            "backgroundcolor": "#E5ECF6",
            "gridcolor": "white",
            "gridwidth": 2,
            "linecolor": "white",
            "showbackground": true,
            "ticks": "",
            "zerolinecolor": "white"
           },
           "zaxis": {
            "backgroundcolor": "#E5ECF6",
            "gridcolor": "white",
            "gridwidth": 2,
            "linecolor": "white",
            "showbackground": true,
            "ticks": "",
            "zerolinecolor": "white"
           }
          },
          "shapedefaults": {
           "line": {
            "color": "#2a3f5f"
           }
          },
          "ternary": {
           "aaxis": {
            "gridcolor": "white",
            "linecolor": "white",
            "ticks": ""
           },
           "baxis": {
            "gridcolor": "white",
            "linecolor": "white",
            "ticks": ""
           },
           "bgcolor": "#E5ECF6",
           "caxis": {
            "gridcolor": "white",
            "linecolor": "white",
            "ticks": ""
           }
          },
          "title": {
           "x": 0.05
          },
          "xaxis": {
           "automargin": true,
           "gridcolor": "white",
           "linecolor": "white",
           "ticks": "",
           "title": {
            "standoff": 15
           },
           "zerolinecolor": "white",
           "zerolinewidth": 2
          },
          "yaxis": {
           "automargin": true,
           "gridcolor": "white",
           "linecolor": "white",
           "ticks": "",
           "title": {
            "standoff": 15
           },
           "zerolinecolor": "white",
           "zerolinewidth": 2
          }
         }
        },
        "xaxis": {
         "anchor": "y",
         "domain": [
          0,
          0.31999999999999995
         ],
         "title": {
          "text": "Age"
         }
        },
        "xaxis2": {
         "anchor": "y2",
         "domain": [
          0.33999999999999997,
          0.6599999999999999
         ],
         "matches": "x",
         "title": {
          "text": "Age"
         }
        },
        "xaxis3": {
         "anchor": "y3",
         "domain": [
          0.6799999999999999,
          0.9999999999999999
         ],
         "matches": "x",
         "title": {
          "text": "Age"
         }
        },
        "yaxis": {
         "anchor": "x",
         "domain": [
          0,
          1
         ],
         "title": {
          "text": "count"
         }
        },
        "yaxis2": {
         "anchor": "x2",
         "domain": [
          0,
          1
         ],
         "matches": "y",
         "showticklabels": false
        },
        "yaxis3": {
         "anchor": "x3",
         "domain": [
          0,
          1
         ],
         "matches": "y",
         "showticklabels": false
        }
       }
      },
      "text/html": [
       "<div>                        <script type=\"text/javascript\">window.PlotlyConfig = {MathJaxConfig: 'local'};</script>\n",
       "        <script charset=\"utf-8\" src=\"https://cdn.plot.ly/plotly-2.29.1.min.js\"></script>                <div id=\"b9242a3a-5738-41a2-944a-b6918aabd443\" class=\"plotly-graph-div\" style=\"height:100%; width:100%;\"></div>            <script type=\"text/javascript\">                                    window.PLOTLYENV=window.PLOTLYENV || {};                                    if (document.getElementById(\"b9242a3a-5738-41a2-944a-b6918aabd443\")) {                    Plotly.newPlot(                        \"b9242a3a-5738-41a2-944a-b6918aabd443\",                        [{\"alignmentgroup\":\"True\",\"bingroup\":\"x\",\"hovertemplate\":\"Sex=male\\u003cbr\\u003ePclass=1\\u003cbr\\u003eAge=%{x}\\u003cbr\\u003ecount=%{y}\\u003cextra\\u003e\\u003c\\u002fextra\\u003e\",\"legendgroup\":\"male\",\"marker\":{\"color\":\"#636efa\",\"pattern\":{\"shape\":\"\"}},\"name\":\"male\",\"nbinsx\":100,\"offsetgroup\":\"male\",\"orientation\":\"v\",\"showlegend\":true,\"x\":[4.0,0.92,null,48.0,null,null,null,60.0,null,49.0,45.0,29.0,35.0,38.0,45.5,42.0,27.0,37.0,40.0,null,null,56.0,29.0,61.0,45.0,38.0,19.0,null,40.0,52.0,35.0,62.0,37.0,null,44.0,36.0,70.0,31.0,47.0,null,36.0,35.0,null,18.0,71.0,55.0,58.0,27.0,49.0,null,36.0,null,62.0,17.0,60.0,64.0,50.0,45.0,25.0,null,42.0,null,58.0,50.0,47.0,36.0,56.0,31.0,27.0,36.0,22.0,27.0,25.0,48.0,28.0,50.0,80.0,56.0,32.0,47.0,null,48.0,65.0,49.0,30.0,52.0,34.0,26.0,64.0,61.0,36.0,38.0,23.0,71.0,null,40.0,46.0,54.0,24.0,39.0,11.0,28.0,42.0,28.0,24.0,null,31.0,37.0,33.0,null,51.0,45.0,51.0,null,19.0,46.0,null,28.0,21.0,65.0,47.0,54.0],\"xaxis\":\"x\",\"yaxis\":\"y\",\"type\":\"histogram\"},{\"alignmentgroup\":\"True\",\"bingroup\":\"x\",\"hovertemplate\":\"Sex=male\\u003cbr\\u003ePclass=2\\u003cbr\\u003eAge=%{x}\\u003cbr\\u003ecount=%{y}\\u003cextra\\u003e\\u003c\\u002fextra\\u003e\",\"legendgroup\":\"male\",\"marker\":{\"color\":\"#636efa\",\"pattern\":{\"shape\":\"\"}},\"name\":\"male\",\"nbinsx\":100,\"offsetgroup\":\"male\",\"orientation\":\"v\",\"showlegend\":false,\"x\":[52.0,29.0,30.0,66.0,25.0,39.0,34.0,54.0,0.83,1.0,2.0,43.0,28.0,36.0,25.0,26.0,23.0,null,null,24.0,30.0,48.0,21.0,3.0,31.0,31.0,34.0,16.0,0.83,null,21.0,null,31.0,18.0,70.0,32.0,28.0,57.0,25.0,46.0,23.0,32.0,24.0,60.0,34.0,36.0,24.0,44.0,51.0,19.0,33.0,3.0,29.0,23.0,19.0,25.0,54.0,27.0,null,59.0,18.0,47.0,8.0,28.0,null,19.0,36.5,18.0,42.0,39.0,30.0,18.0,42.0,30.0,32.0,27.0,34.0,19.0,0.67,37.0,null,21.0,50.0,34.0,35.0,34.0,42.0,29.0,36.0,16.0,52.0,31.0,62.0,35.0,27.0,32.5,23.0,1.0,23.0,null,54.0,23.0,39.0,null,36.0,25.0,30.0,28.0],\"xaxis\":\"x2\",\"yaxis\":\"y2\",\"type\":\"histogram\"},{\"alignmentgroup\":\"True\",\"bingroup\":\"x\",\"hovertemplate\":\"Sex=male\\u003cbr\\u003ePclass=3\\u003cbr\\u003eAge=%{x}\\u003cbr\\u003ecount=%{y}\\u003cextra\\u003e\\u003c\\u002fextra\\u003e\",\"legendgroup\":\"male\",\"marker\":{\"color\":\"#636efa\",\"pattern\":{\"shape\":\"\"}},\"name\":\"male\",\"nbinsx\":100,\"offsetgroup\":\"male\",\"orientation\":\"v\",\"showlegend\":false,\"x\":[32.0,16.0,41.0,null,19.0,null,25.0,32.0,21.0,26.0,36.0,null,null,49.0,19.0,null,null,30.0,36.0,47.0,44.0,20.0,null,51.0,35.0,47.0,null,26.0,22.0,null,33.0,21.0,20.0,27.0,35.0,null,4.0,34.0,8.0,14.0,null,16.0,31.0,24.0,0.42,null,null,27.0,28.5,31.0,11.0,31.0,26.0,20.0,17.0,null,30.5,19.0,43.0,10.0,29.0,39.0,6.0,33.0,23.0,25.0,25.0,null,null,null,25.0,null,18.0,null,48.0,24.0,32.0,null,16.0,20.0,41.0,null,30.0,34.0,28.0,27.0,null,24.5,18.0,35.0,4.0,43.0,null,20.0,36.0,40.0,74.0,null,null,21.0,null,null,19.0,null,20.0,42.0,17.0,null,null,null,26.0,25.0,null,23.0,18.0,42.0,21.0,44.0,null,25.0,null,32.0,18.0,19.0,14.0,20.0,1.0,20.0,34.5,2.0,33.0,22.0,32.0,26.0,17.0,1.0,9.0,28.0,4.0,21.0,18.0,null,36.0,9.0,44.0,null,null,30.0,45.0,33.0,20.0,16.0,19.0,27.0,55.5,40.5,null,40.0,36.0,20.5,29.0,22.0,22.0,null,30.0,null,30.0,24.0,null,16.0,null,42.0,28.0,null,34.0,45.5,51.0,18.0,32.0,26.0,24.0,22.0,null,null,12.0,null,21.0,null,null,null,null,null,7.0,21.0,28.5,11.0,22.0,4.0,35.0,null,2.0,20.0,null,39.0,2.0,null,3.0,null,null,33.0,37.0,28.0,null,null,38.0,22.0,21.0,70.5,19.0,59.0,20.0,26.0,26.0,32.0,25.0,null,null,26.0,29.0,16.0,null,24.0,29.0,22.0,25.0,null,38.0,29.0,22.0,9.0,50.0,30.0,9.0,null,21.0,null,38.0,null,34.0,18.0,null,null,32.0,17.0,21.0,25.0,null,null,null,29.0,null,20.0,null,null,24.0,null,33.0,null,22.0,40.0,null,24.0,19.0,null,null,29.0,null,17.0,28.0,26.0,29.0,17.0,null,null,32.0,22.0,null,null,40.5,39.0,24.0,21.0,null,28.0,22.0,27.0,null,61.0,null,null,45.0,3.0,42.0,23.0,15.0,16.0,25.0,19.0,25.0,7.0,65.0,28.0,null,16.0,33.0,30.0,22.0,24.0,23.5,19.0,16.0,null,28.0,22.0,39.0,26.0,21.0,28.0,51.0,21.0,null,null,44.0,28.0,null,null,40.0,35.0,null,30.0,1.0,19.0,20.0,19.0,32.0,18.0,32.0],\"xaxis\":\"x3\",\"yaxis\":\"y3\",\"type\":\"histogram\"},{\"alignmentgroup\":\"True\",\"bingroup\":\"x\",\"hovertemplate\":\"Sex=female\\u003cbr\\u003ePclass=1\\u003cbr\\u003eAge=%{x}\\u003cbr\\u003ecount=%{y}\\u003cextra\\u003e\\u003c\\u002fextra\\u003e\",\"legendgroup\":\"female\",\"marker\":{\"color\":\"#EF553B\",\"pattern\":{\"shape\":\"\"}},\"name\":\"female\",\"nbinsx\":100,\"offsetgroup\":\"female\",\"orientation\":\"v\",\"showlegend\":true,\"x\":[24.0,30.0,17.0,null,24.0,18.0,2.0,38.0,19.0,26.0,53.0,50.0,22.0,40.0,22.0,24.0,41.0,31.0,null,16.0,36.0,18.0,63.0,31.0,33.0,36.0,51.0,58.0,32.0,44.0,50.0,43.0,17.0,35.0,35.0,58.0,29.0,35.0,30.0,null,21.0,15.0,60.0,24.0,54.0,30.0,16.0,40.0,25.0,54.0,35.0,44.0,39.0,39.0,39.0,48.0,18.0,36.0,22.0,30.0,52.0,33.0,23.0,null,42.0,null,35.0,21.0,null,24.0,14.0,null,48.0,19.0,47.0,62.0,58.0,null,23.0,39.0,33.0,52.0,30.0,56.0,null,22.0,49.0,38.0,49.0,35.0,16.0,19.0,45.0,38.0],\"xaxis\":\"x\",\"yaxis\":\"y\",\"type\":\"histogram\"},{\"alignmentgroup\":\"True\",\"bingroup\":\"x\",\"hovertemplate\":\"Sex=female\\u003cbr\\u003ePclass=2\\u003cbr\\u003eAge=%{x}\\u003cbr\\u003ecount=%{y}\\u003cextra\\u003e\\u003c\\u002fextra\\u003e\",\"legendgroup\":\"female\",\"marker\":{\"color\":\"#EF553B\",\"pattern\":{\"shape\":\"\"}},\"name\":\"female\",\"nbinsx\":100,\"offsetgroup\":\"female\",\"orientation\":\"v\",\"showlegend\":false,\"x\":[17.0,45.0,38.0,29.0,24.0,4.0,24.0,30.0,22.0,34.0,33.0,36.0,22.0,24.0,26.0,40.0,28.0,34.0,18.0,18.0,28.0,19.0,42.0,44.0,5.0,28.0,24.0,45.0,21.0,28.0,13.0,50.0,3.0,29.0,27.0,42.0,27.0,36.0,17.0,40.0,23.0,33.0,28.0,null,25.0,8.0,55.0,32.0,24.0,7.0,57.0,14.0,30.0,31.0,19.0,35.0,48.0,24.0,4.0,29.0,30.0,2.0,6.0,27.0,24.0,36.0,34.0,40.0,34.0,25.0,54.0,50.0,50.0,41.0,null,32.5],\"xaxis\":\"x2\",\"yaxis\":\"y2\",\"type\":\"histogram\"},{\"alignmentgroup\":\"True\",\"bingroup\":\"x\",\"hovertemplate\":\"Sex=female\\u003cbr\\u003ePclass=3\\u003cbr\\u003eAge=%{x}\\u003cbr\\u003ecount=%{y}\\u003cextra\\u003e\\u003c\\u002fextra\\u003e\",\"legendgroup\":\"female\",\"marker\":{\"color\":\"#EF553B\",\"pattern\":{\"shape\":\"\"}},\"name\":\"female\",\"nbinsx\":100,\"offsetgroup\":\"female\",\"orientation\":\"v\",\"showlegend\":false,\"x\":[39.0,9.0,null,null,24.0,null,null,39.0,22.0,15.0,26.0,null,48.0,18.0,25.0,null,6.0,23.0,18.0,null,13.0,5.0,30.5,31.0,30.0,41.0,27.0,18.0,32.0,18.0,null,23.0,0.75,2.0,18.0,9.0,43.0,18.0,15.0,null,4.0,null,45.0,1.0,null,4.0,null,47.0,null,null,22.0,9.0,16.0,24.0,19.0,null,5.0,null,null,null,25.0,29.0,41.0,29.0,null,16.0,27.0,2.0,18.0,14.0,40.0,19.0,18.0,null,null,null,26.0,27.0,4.0,31.0,null,15.0,8.0,38.0,14.0,17.0,28.0,21.0,14.5,20.0,17.0,2.0,null,16.0,30.0,null,33.0,null,null,0.75,22.0,2.0,63.0,null,28.0,null,21.0,5.0,9.0,11.0,22.0,30.0,36.0,null,29.0,null,21.0,null,37.0,10.0,26.0,31.0,null,null,null,null,45.0,35.0,22.0,24.0,null,24.0,31.0,21.0,null,null,20.0,null,45.0,null,null,3.0,22.0,1.0],\"xaxis\":\"x3\",\"yaxis\":\"y3\",\"type\":\"histogram\"}],                        {\"template\":{\"data\":{\"histogram2dcontour\":[{\"type\":\"histogram2dcontour\",\"colorbar\":{\"outlinewidth\":0,\"ticks\":\"\"},\"colorscale\":[[0.0,\"#0d0887\"],[0.1111111111111111,\"#46039f\"],[0.2222222222222222,\"#7201a8\"],[0.3333333333333333,\"#9c179e\"],[0.4444444444444444,\"#bd3786\"],[0.5555555555555556,\"#d8576b\"],[0.6666666666666666,\"#ed7953\"],[0.7777777777777778,\"#fb9f3a\"],[0.8888888888888888,\"#fdca26\"],[1.0,\"#f0f921\"]]}],\"choropleth\":[{\"type\":\"choropleth\",\"colorbar\":{\"outlinewidth\":0,\"ticks\":\"\"}}],\"histogram2d\":[{\"type\":\"histogram2d\",\"colorbar\":{\"outlinewidth\":0,\"ticks\":\"\"},\"colorscale\":[[0.0,\"#0d0887\"],[0.1111111111111111,\"#46039f\"],[0.2222222222222222,\"#7201a8\"],[0.3333333333333333,\"#9c179e\"],[0.4444444444444444,\"#bd3786\"],[0.5555555555555556,\"#d8576b\"],[0.6666666666666666,\"#ed7953\"],[0.7777777777777778,\"#fb9f3a\"],[0.8888888888888888,\"#fdca26\"],[1.0,\"#f0f921\"]]}],\"heatmap\":[{\"type\":\"heatmap\",\"colorbar\":{\"outlinewidth\":0,\"ticks\":\"\"},\"colorscale\":[[0.0,\"#0d0887\"],[0.1111111111111111,\"#46039f\"],[0.2222222222222222,\"#7201a8\"],[0.3333333333333333,\"#9c179e\"],[0.4444444444444444,\"#bd3786\"],[0.5555555555555556,\"#d8576b\"],[0.6666666666666666,\"#ed7953\"],[0.7777777777777778,\"#fb9f3a\"],[0.8888888888888888,\"#fdca26\"],[1.0,\"#f0f921\"]]}],\"heatmapgl\":[{\"type\":\"heatmapgl\",\"colorbar\":{\"outlinewidth\":0,\"ticks\":\"\"},\"colorscale\":[[0.0,\"#0d0887\"],[0.1111111111111111,\"#46039f\"],[0.2222222222222222,\"#7201a8\"],[0.3333333333333333,\"#9c179e\"],[0.4444444444444444,\"#bd3786\"],[0.5555555555555556,\"#d8576b\"],[0.6666666666666666,\"#ed7953\"],[0.7777777777777778,\"#fb9f3a\"],[0.8888888888888888,\"#fdca26\"],[1.0,\"#f0f921\"]]}],\"contourcarpet\":[{\"type\":\"contourcarpet\",\"colorbar\":{\"outlinewidth\":0,\"ticks\":\"\"}}],\"contour\":[{\"type\":\"contour\",\"colorbar\":{\"outlinewidth\":0,\"ticks\":\"\"},\"colorscale\":[[0.0,\"#0d0887\"],[0.1111111111111111,\"#46039f\"],[0.2222222222222222,\"#7201a8\"],[0.3333333333333333,\"#9c179e\"],[0.4444444444444444,\"#bd3786\"],[0.5555555555555556,\"#d8576b\"],[0.6666666666666666,\"#ed7953\"],[0.7777777777777778,\"#fb9f3a\"],[0.8888888888888888,\"#fdca26\"],[1.0,\"#f0f921\"]]}],\"surface\":[{\"type\":\"surface\",\"colorbar\":{\"outlinewidth\":0,\"ticks\":\"\"},\"colorscale\":[[0.0,\"#0d0887\"],[0.1111111111111111,\"#46039f\"],[0.2222222222222222,\"#7201a8\"],[0.3333333333333333,\"#9c179e\"],[0.4444444444444444,\"#bd3786\"],[0.5555555555555556,\"#d8576b\"],[0.6666666666666666,\"#ed7953\"],[0.7777777777777778,\"#fb9f3a\"],[0.8888888888888888,\"#fdca26\"],[1.0,\"#f0f921\"]]}],\"mesh3d\":[{\"type\":\"mesh3d\",\"colorbar\":{\"outlinewidth\":0,\"ticks\":\"\"}}],\"scatter\":[{\"fillpattern\":{\"fillmode\":\"overlay\",\"size\":10,\"solidity\":0.2},\"type\":\"scatter\"}],\"parcoords\":[{\"type\":\"parcoords\",\"line\":{\"colorbar\":{\"outlinewidth\":0,\"ticks\":\"\"}}}],\"scatterpolargl\":[{\"type\":\"scatterpolargl\",\"marker\":{\"colorbar\":{\"outlinewidth\":0,\"ticks\":\"\"}}}],\"bar\":[{\"error_x\":{\"color\":\"#2a3f5f\"},\"error_y\":{\"color\":\"#2a3f5f\"},\"marker\":{\"line\":{\"color\":\"#E5ECF6\",\"width\":0.5},\"pattern\":{\"fillmode\":\"overlay\",\"size\":10,\"solidity\":0.2}},\"type\":\"bar\"}],\"scattergeo\":[{\"type\":\"scattergeo\",\"marker\":{\"colorbar\":{\"outlinewidth\":0,\"ticks\":\"\"}}}],\"scatterpolar\":[{\"type\":\"scatterpolar\",\"marker\":{\"colorbar\":{\"outlinewidth\":0,\"ticks\":\"\"}}}],\"histogram\":[{\"marker\":{\"pattern\":{\"fillmode\":\"overlay\",\"size\":10,\"solidity\":0.2}},\"type\":\"histogram\"}],\"scattergl\":[{\"type\":\"scattergl\",\"marker\":{\"colorbar\":{\"outlinewidth\":0,\"ticks\":\"\"}}}],\"scatter3d\":[{\"type\":\"scatter3d\",\"line\":{\"colorbar\":{\"outlinewidth\":0,\"ticks\":\"\"}},\"marker\":{\"colorbar\":{\"outlinewidth\":0,\"ticks\":\"\"}}}],\"scattermapbox\":[{\"type\":\"scattermapbox\",\"marker\":{\"colorbar\":{\"outlinewidth\":0,\"ticks\":\"\"}}}],\"scatterternary\":[{\"type\":\"scatterternary\",\"marker\":{\"colorbar\":{\"outlinewidth\":0,\"ticks\":\"\"}}}],\"scattercarpet\":[{\"type\":\"scattercarpet\",\"marker\":{\"colorbar\":{\"outlinewidth\":0,\"ticks\":\"\"}}}],\"carpet\":[{\"aaxis\":{\"endlinecolor\":\"#2a3f5f\",\"gridcolor\":\"white\",\"linecolor\":\"white\",\"minorgridcolor\":\"white\",\"startlinecolor\":\"#2a3f5f\"},\"baxis\":{\"endlinecolor\":\"#2a3f5f\",\"gridcolor\":\"white\",\"linecolor\":\"white\",\"minorgridcolor\":\"white\",\"startlinecolor\":\"#2a3f5f\"},\"type\":\"carpet\"}],\"table\":[{\"cells\":{\"fill\":{\"color\":\"#EBF0F8\"},\"line\":{\"color\":\"white\"}},\"header\":{\"fill\":{\"color\":\"#C8D4E3\"},\"line\":{\"color\":\"white\"}},\"type\":\"table\"}],\"barpolar\":[{\"marker\":{\"line\":{\"color\":\"#E5ECF6\",\"width\":0.5},\"pattern\":{\"fillmode\":\"overlay\",\"size\":10,\"solidity\":0.2}},\"type\":\"barpolar\"}],\"pie\":[{\"automargin\":true,\"type\":\"pie\"}]},\"layout\":{\"autotypenumbers\":\"strict\",\"colorway\":[\"#636efa\",\"#EF553B\",\"#00cc96\",\"#ab63fa\",\"#FFA15A\",\"#19d3f3\",\"#FF6692\",\"#B6E880\",\"#FF97FF\",\"#FECB52\"],\"font\":{\"color\":\"#2a3f5f\"},\"hovermode\":\"closest\",\"hoverlabel\":{\"align\":\"left\"},\"paper_bgcolor\":\"white\",\"plot_bgcolor\":\"#E5ECF6\",\"polar\":{\"bgcolor\":\"#E5ECF6\",\"angularaxis\":{\"gridcolor\":\"white\",\"linecolor\":\"white\",\"ticks\":\"\"},\"radialaxis\":{\"gridcolor\":\"white\",\"linecolor\":\"white\",\"ticks\":\"\"}},\"ternary\":{\"bgcolor\":\"#E5ECF6\",\"aaxis\":{\"gridcolor\":\"white\",\"linecolor\":\"white\",\"ticks\":\"\"},\"baxis\":{\"gridcolor\":\"white\",\"linecolor\":\"white\",\"ticks\":\"\"},\"caxis\":{\"gridcolor\":\"white\",\"linecolor\":\"white\",\"ticks\":\"\"}},\"coloraxis\":{\"colorbar\":{\"outlinewidth\":0,\"ticks\":\"\"}},\"colorscale\":{\"sequential\":[[0.0,\"#0d0887\"],[0.1111111111111111,\"#46039f\"],[0.2222222222222222,\"#7201a8\"],[0.3333333333333333,\"#9c179e\"],[0.4444444444444444,\"#bd3786\"],[0.5555555555555556,\"#d8576b\"],[0.6666666666666666,\"#ed7953\"],[0.7777777777777778,\"#fb9f3a\"],[0.8888888888888888,\"#fdca26\"],[1.0,\"#f0f921\"]],\"sequentialminus\":[[0.0,\"#0d0887\"],[0.1111111111111111,\"#46039f\"],[0.2222222222222222,\"#7201a8\"],[0.3333333333333333,\"#9c179e\"],[0.4444444444444444,\"#bd3786\"],[0.5555555555555556,\"#d8576b\"],[0.6666666666666666,\"#ed7953\"],[0.7777777777777778,\"#fb9f3a\"],[0.8888888888888888,\"#fdca26\"],[1.0,\"#f0f921\"]],\"diverging\":[[0,\"#8e0152\"],[0.1,\"#c51b7d\"],[0.2,\"#de77ae\"],[0.3,\"#f1b6da\"],[0.4,\"#fde0ef\"],[0.5,\"#f7f7f7\"],[0.6,\"#e6f5d0\"],[0.7,\"#b8e186\"],[0.8,\"#7fbc41\"],[0.9,\"#4d9221\"],[1,\"#276419\"]]},\"xaxis\":{\"gridcolor\":\"white\",\"linecolor\":\"white\",\"ticks\":\"\",\"title\":{\"standoff\":15},\"zerolinecolor\":\"white\",\"automargin\":true,\"zerolinewidth\":2},\"yaxis\":{\"gridcolor\":\"white\",\"linecolor\":\"white\",\"ticks\":\"\",\"title\":{\"standoff\":15},\"zerolinecolor\":\"white\",\"automargin\":true,\"zerolinewidth\":2},\"scene\":{\"xaxis\":{\"backgroundcolor\":\"#E5ECF6\",\"gridcolor\":\"white\",\"linecolor\":\"white\",\"showbackground\":true,\"ticks\":\"\",\"zerolinecolor\":\"white\",\"gridwidth\":2},\"yaxis\":{\"backgroundcolor\":\"#E5ECF6\",\"gridcolor\":\"white\",\"linecolor\":\"white\",\"showbackground\":true,\"ticks\":\"\",\"zerolinecolor\":\"white\",\"gridwidth\":2},\"zaxis\":{\"backgroundcolor\":\"#E5ECF6\",\"gridcolor\":\"white\",\"linecolor\":\"white\",\"showbackground\":true,\"ticks\":\"\",\"zerolinecolor\":\"white\",\"gridwidth\":2}},\"shapedefaults\":{\"line\":{\"color\":\"#2a3f5f\"}},\"annotationdefaults\":{\"arrowcolor\":\"#2a3f5f\",\"arrowhead\":0,\"arrowwidth\":1},\"geo\":{\"bgcolor\":\"white\",\"landcolor\":\"#E5ECF6\",\"subunitcolor\":\"white\",\"showland\":true,\"showlakes\":true,\"lakecolor\":\"white\"},\"title\":{\"x\":0.05},\"mapbox\":{\"style\":\"light\"}}},\"xaxis\":{\"anchor\":\"y\",\"domain\":[0.0,0.31999999999999995],\"title\":{\"text\":\"Age\"}},\"yaxis\":{\"anchor\":\"x\",\"domain\":[0.0,1.0],\"title\":{\"text\":\"count\"}},\"xaxis2\":{\"anchor\":\"y2\",\"domain\":[0.33999999999999997,0.6599999999999999],\"matches\":\"x\",\"title\":{\"text\":\"Age\"}},\"yaxis2\":{\"anchor\":\"x2\",\"domain\":[0.0,1.0],\"matches\":\"y\",\"showticklabels\":false},\"xaxis3\":{\"anchor\":\"y3\",\"domain\":[0.6799999999999999,0.9999999999999999],\"matches\":\"x\",\"title\":{\"text\":\"Age\"}},\"yaxis3\":{\"anchor\":\"x3\",\"domain\":[0.0,1.0],\"matches\":\"y\",\"showticklabels\":false},\"annotations\":[{\"font\":{},\"showarrow\":false,\"text\":\"Pclass=1\",\"x\":0.15999999999999998,\"xanchor\":\"center\",\"xref\":\"paper\",\"y\":1.0,\"yanchor\":\"bottom\",\"yref\":\"paper\"},{\"font\":{},\"showarrow\":false,\"text\":\"Pclass=2\",\"x\":0.49999999999999994,\"xanchor\":\"center\",\"xref\":\"paper\",\"y\":1.0,\"yanchor\":\"bottom\",\"yref\":\"paper\"},{\"font\":{},\"showarrow\":false,\"text\":\"Pclass=3\",\"x\":0.8399999999999999,\"xanchor\":\"center\",\"xref\":\"paper\",\"y\":1.0,\"yanchor\":\"bottom\",\"yref\":\"paper\"}],\"legend\":{\"title\":{\"text\":\"Sex\"},\"tracegroupgap\":0},\"margin\":{\"t\":60},\"barmode\":\"relative\"},                        {\"responsive\": true}                    )                };                            </script>        </div>"
      ],
      "text/plain": [
       "Figure({\n",
       "    'data': [{'alignmentgroup': 'True',\n",
       "              'bingroup': 'x',\n",
       "              'hovertemplate': 'Sex=male<br>Pclass=1<br>Age=%{x}<br>count=%{y}<extra></extra>',\n",
       "              'legendgroup': 'male',\n",
       "              'marker': {'color': '#636efa', 'pattern': {'shape': ''}},\n",
       "              'name': 'male',\n",
       "              'nbinsx': 100,\n",
       "              'offsetgroup': 'male',\n",
       "              'orientation': 'v',\n",
       "              'showlegend': True,\n",
       "              'type': 'histogram',\n",
       "              'x': array([ 4.  ,  0.92,   nan, 48.  ,   nan,   nan,   nan, 60.  ,   nan, 49.  ,\n",
       "                          45.  , 29.  , 35.  , 38.  , 45.5 , 42.  , 27.  , 37.  , 40.  ,   nan,\n",
       "                            nan, 56.  , 29.  , 61.  , 45.  , 38.  , 19.  ,   nan, 40.  , 52.  ,\n",
       "                          35.  , 62.  , 37.  ,   nan, 44.  , 36.  , 70.  , 31.  , 47.  ,   nan,\n",
       "                          36.  , 35.  ,   nan, 18.  , 71.  , 55.  , 58.  , 27.  , 49.  ,   nan,\n",
       "                          36.  ,   nan, 62.  , 17.  , 60.  , 64.  , 50.  , 45.  , 25.  ,   nan,\n",
       "                          42.  ,   nan, 58.  , 50.  , 47.  , 36.  , 56.  , 31.  , 27.  , 36.  ,\n",
       "                          22.  , 27.  , 25.  , 48.  , 28.  , 50.  , 80.  , 56.  , 32.  , 47.  ,\n",
       "                            nan, 48.  , 65.  , 49.  , 30.  , 52.  , 34.  , 26.  , 64.  , 61.  ,\n",
       "                          36.  , 38.  , 23.  , 71.  ,   nan, 40.  , 46.  , 54.  , 24.  , 39.  ,\n",
       "                          11.  , 28.  , 42.  , 28.  , 24.  ,   nan, 31.  , 37.  , 33.  ,   nan,\n",
       "                          51.  , 45.  , 51.  ,   nan, 19.  , 46.  ,   nan, 28.  , 21.  , 65.  ,\n",
       "                          47.  , 54.  ]),\n",
       "              'xaxis': 'x',\n",
       "              'yaxis': 'y'},\n",
       "             {'alignmentgroup': 'True',\n",
       "              'bingroup': 'x',\n",
       "              'hovertemplate': 'Sex=male<br>Pclass=2<br>Age=%{x}<br>count=%{y}<extra></extra>',\n",
       "              'legendgroup': 'male',\n",
       "              'marker': {'color': '#636efa', 'pattern': {'shape': ''}},\n",
       "              'name': 'male',\n",
       "              'nbinsx': 100,\n",
       "              'offsetgroup': 'male',\n",
       "              'orientation': 'v',\n",
       "              'showlegend': False,\n",
       "              'type': 'histogram',\n",
       "              'x': array([52.  , 29.  , 30.  , 66.  , 25.  , 39.  , 34.  , 54.  ,  0.83,  1.  ,\n",
       "                           2.  , 43.  , 28.  , 36.  , 25.  , 26.  , 23.  ,   nan,   nan, 24.  ,\n",
       "                          30.  , 48.  , 21.  ,  3.  , 31.  , 31.  , 34.  , 16.  ,  0.83,   nan,\n",
       "                          21.  ,   nan, 31.  , 18.  , 70.  , 32.  , 28.  , 57.  , 25.  , 46.  ,\n",
       "                          23.  , 32.  , 24.  , 60.  , 34.  , 36.  , 24.  , 44.  , 51.  , 19.  ,\n",
       "                          33.  ,  3.  , 29.  , 23.  , 19.  , 25.  , 54.  , 27.  ,   nan, 59.  ,\n",
       "                          18.  , 47.  ,  8.  , 28.  ,   nan, 19.  , 36.5 , 18.  , 42.  , 39.  ,\n",
       "                          30.  , 18.  , 42.  , 30.  , 32.  , 27.  , 34.  , 19.  ,  0.67, 37.  ,\n",
       "                            nan, 21.  , 50.  , 34.  , 35.  , 34.  , 42.  , 29.  , 36.  , 16.  ,\n",
       "                          52.  , 31.  , 62.  , 35.  , 27.  , 32.5 , 23.  ,  1.  , 23.  ,   nan,\n",
       "                          54.  , 23.  , 39.  ,   nan, 36.  , 25.  , 30.  , 28.  ]),\n",
       "              'xaxis': 'x2',\n",
       "              'yaxis': 'y2'},\n",
       "             {'alignmentgroup': 'True',\n",
       "              'bingroup': 'x',\n",
       "              'hovertemplate': 'Sex=male<br>Pclass=3<br>Age=%{x}<br>count=%{y}<extra></extra>',\n",
       "              'legendgroup': 'male',\n",
       "              'marker': {'color': '#636efa', 'pattern': {'shape': ''}},\n",
       "              'name': 'male',\n",
       "              'nbinsx': 100,\n",
       "              'offsetgroup': 'male',\n",
       "              'orientation': 'v',\n",
       "              'showlegend': False,\n",
       "              'type': 'histogram',\n",
       "              'x': array([32., 16., 41., ..., 32., 18., 32.]),\n",
       "              'xaxis': 'x3',\n",
       "              'yaxis': 'y3'},\n",
       "             {'alignmentgroup': 'True',\n",
       "              'bingroup': 'x',\n",
       "              'hovertemplate': 'Sex=female<br>Pclass=1<br>Age=%{x}<br>count=%{y}<extra></extra>',\n",
       "              'legendgroup': 'female',\n",
       "              'marker': {'color': '#EF553B', 'pattern': {'shape': ''}},\n",
       "              'name': 'female',\n",
       "              'nbinsx': 100,\n",
       "              'offsetgroup': 'female',\n",
       "              'orientation': 'v',\n",
       "              'showlegend': True,\n",
       "              'type': 'histogram',\n",
       "              'x': array([24., 30., 17., nan, 24., 18.,  2., 38., 19., 26., 53., 50., 22., 40.,\n",
       "                          22., 24., 41., 31., nan, 16., 36., 18., 63., 31., 33., 36., 51., 58.,\n",
       "                          32., 44., 50., 43., 17., 35., 35., 58., 29., 35., 30., nan, 21., 15.,\n",
       "                          60., 24., 54., 30., 16., 40., 25., 54., 35., 44., 39., 39., 39., 48.,\n",
       "                          18., 36., 22., 30., 52., 33., 23., nan, 42., nan, 35., 21., nan, 24.,\n",
       "                          14., nan, 48., 19., 47., 62., 58., nan, 23., 39., 33., 52., 30., 56.,\n",
       "                          nan, 22., 49., 38., 49., 35., 16., 19., 45., 38.]),\n",
       "              'xaxis': 'x',\n",
       "              'yaxis': 'y'},\n",
       "             {'alignmentgroup': 'True',\n",
       "              'bingroup': 'x',\n",
       "              'hovertemplate': 'Sex=female<br>Pclass=2<br>Age=%{x}<br>count=%{y}<extra></extra>',\n",
       "              'legendgroup': 'female',\n",
       "              'marker': {'color': '#EF553B', 'pattern': {'shape': ''}},\n",
       "              'name': 'female',\n",
       "              'nbinsx': 100,\n",
       "              'offsetgroup': 'female',\n",
       "              'orientation': 'v',\n",
       "              'showlegend': False,\n",
       "              'type': 'histogram',\n",
       "              'x': array([17. , 45. , 38. , 29. , 24. ,  4. , 24. , 30. , 22. , 34. , 33. , 36. ,\n",
       "                          22. , 24. , 26. , 40. , 28. , 34. , 18. , 18. , 28. , 19. , 42. , 44. ,\n",
       "                           5. , 28. , 24. , 45. , 21. , 28. , 13. , 50. ,  3. , 29. , 27. , 42. ,\n",
       "                          27. , 36. , 17. , 40. , 23. , 33. , 28. ,  nan, 25. ,  8. , 55. , 32. ,\n",
       "                          24. ,  7. , 57. , 14. , 30. , 31. , 19. , 35. , 48. , 24. ,  4. , 29. ,\n",
       "                          30. ,  2. ,  6. , 27. , 24. , 36. , 34. , 40. , 34. , 25. , 54. , 50. ,\n",
       "                          50. , 41. ,  nan, 32.5]),\n",
       "              'xaxis': 'x2',\n",
       "              'yaxis': 'y2'},\n",
       "             {'alignmentgroup': 'True',\n",
       "              'bingroup': 'x',\n",
       "              'hovertemplate': 'Sex=female<br>Pclass=3<br>Age=%{x}<br>count=%{y}<extra></extra>',\n",
       "              'legendgroup': 'female',\n",
       "              'marker': {'color': '#EF553B', 'pattern': {'shape': ''}},\n",
       "              'name': 'female',\n",
       "              'nbinsx': 100,\n",
       "              'offsetgroup': 'female',\n",
       "              'orientation': 'v',\n",
       "              'showlegend': False,\n",
       "              'type': 'histogram',\n",
       "              'x': array([39.  ,  9.  ,   nan,   nan, 24.  ,   nan,   nan, 39.  , 22.  , 15.  ,\n",
       "                          26.  ,   nan, 48.  , 18.  , 25.  ,   nan,  6.  , 23.  , 18.  ,   nan,\n",
       "                          13.  ,  5.  , 30.5 , 31.  , 30.  , 41.  , 27.  , 18.  , 32.  , 18.  ,\n",
       "                            nan, 23.  ,  0.75,  2.  , 18.  ,  9.  , 43.  , 18.  , 15.  ,   nan,\n",
       "                           4.  ,   nan, 45.  ,  1.  ,   nan,  4.  ,   nan, 47.  ,   nan,   nan,\n",
       "                          22.  ,  9.  , 16.  , 24.  , 19.  ,   nan,  5.  ,   nan,   nan,   nan,\n",
       "                          25.  , 29.  , 41.  , 29.  ,   nan, 16.  , 27.  ,  2.  , 18.  , 14.  ,\n",
       "                          40.  , 19.  , 18.  ,   nan,   nan,   nan, 26.  , 27.  ,  4.  , 31.  ,\n",
       "                            nan, 15.  ,  8.  , 38.  , 14.  , 17.  , 28.  , 21.  , 14.5 , 20.  ,\n",
       "                          17.  ,  2.  ,   nan, 16.  , 30.  ,   nan, 33.  ,   nan,   nan,  0.75,\n",
       "                          22.  ,  2.  , 63.  ,   nan, 28.  ,   nan, 21.  ,  5.  ,  9.  , 11.  ,\n",
       "                          22.  , 30.  , 36.  ,   nan, 29.  ,   nan, 21.  ,   nan, 37.  , 10.  ,\n",
       "                          26.  , 31.  ,   nan,   nan,   nan,   nan, 45.  , 35.  , 22.  , 24.  ,\n",
       "                            nan, 24.  , 31.  , 21.  ,   nan,   nan, 20.  ,   nan, 45.  ,   nan,\n",
       "                            nan,  3.  , 22.  ,  1.  ]),\n",
       "              'xaxis': 'x3',\n",
       "              'yaxis': 'y3'}],\n",
       "    'layout': {'annotations': [{'font': {},\n",
       "                                'showarrow': False,\n",
       "                                'text': 'Pclass=1',\n",
       "                                'x': 0.15999999999999998,\n",
       "                                'xanchor': 'center',\n",
       "                                'xref': 'paper',\n",
       "                                'y': 1.0,\n",
       "                                'yanchor': 'bottom',\n",
       "                                'yref': 'paper'},\n",
       "                               {'font': {},\n",
       "                                'showarrow': False,\n",
       "                                'text': 'Pclass=2',\n",
       "                                'x': 0.49999999999999994,\n",
       "                                'xanchor': 'center',\n",
       "                                'xref': 'paper',\n",
       "                                'y': 1.0,\n",
       "                                'yanchor': 'bottom',\n",
       "                                'yref': 'paper'},\n",
       "                               {'font': {},\n",
       "                                'showarrow': False,\n",
       "                                'text': 'Pclass=3',\n",
       "                                'x': 0.8399999999999999,\n",
       "                                'xanchor': 'center',\n",
       "                                'xref': 'paper',\n",
       "                                'y': 1.0,\n",
       "                                'yanchor': 'bottom',\n",
       "                                'yref': 'paper'}],\n",
       "               'barmode': 'relative',\n",
       "               'legend': {'title': {'text': 'Sex'}, 'tracegroupgap': 0},\n",
       "               'margin': {'t': 60},\n",
       "               'template': '...',\n",
       "               'xaxis': {'anchor': 'y', 'domain': [0.0, 0.31999999999999995], 'title': {'text': 'Age'}},\n",
       "               'xaxis2': {'anchor': 'y2',\n",
       "                          'domain': [0.33999999999999997, 0.6599999999999999],\n",
       "                          'matches': 'x',\n",
       "                          'title': {'text': 'Age'}},\n",
       "               'xaxis3': {'anchor': 'y3',\n",
       "                          'domain': [0.6799999999999999, 0.9999999999999999],\n",
       "                          'matches': 'x',\n",
       "                          'title': {'text': 'Age'}},\n",
       "               'yaxis': {'anchor': 'x', 'domain': [0.0, 1.0], 'title': {'text': 'count'}},\n",
       "               'yaxis2': {'anchor': 'x2', 'domain': [0.0, 1.0], 'matches': 'y', 'showticklabels': False},\n",
       "               'yaxis3': {'anchor': 'x3', 'domain': [0.0, 1.0], 'matches': 'y', 'showticklabels': False}}\n",
       "})"
      ]
     },
     "execution_count": 12,
     "metadata": {},
     "output_type": "execute_result"
    }
   ],
   "source": [
    "px.histogram(data_frame = df_titanic.sort_values(\"Pclass\"), \n",
    "             x          = \"Age\",\n",
    "             color      = \"Sex\",\n",
    "             facet_col  = \"Pclass\",\n",
    "             nbins      = 100)"
   ]
  },
  {
   "cell_type": "code",
   "execution_count": null,
   "id": "9b03becd",
   "metadata": {},
   "outputs": [],
   "source": [
    "# Titanic\n",
    "\n",
    "px.histogram(data_frame = df_titanic,\n",
    "             x          = \"Fare\",\n",
    "             hover_data = [\"Pclass\"],\n",
    "             color      = \"Pclass\",\n",
    "             nbins      = 200)"
   ]
  },
  {
   "cell_type": "code",
   "execution_count": null,
   "id": "0e799ce3",
   "metadata": {},
   "outputs": [],
   "source": [
    "# Airbnb - marginal & y\n",
    "\n",
    "px.histogram(data_frame = df_airbnb.iloc[:1000, :],\n",
    "             x          = \"price\",\n",
    "             y          = \"number_of_reviews\", \n",
    "             hover_data = [\"municipio\"],\n",
    "             color      = \"municipio\",\n",
    "             nbins      = 200,\n",
    "             marginal   = \"rug\")"
   ]
  },
  {
   "cell_type": "code",
   "execution_count": 14,
   "id": "29eb2550",
   "metadata": {},
   "outputs": [
    {
     "ename": "ValueError",
     "evalue": "Mime type rendering requires nbformat>=4.2.0 but it is not installed",
     "output_type": "error",
     "traceback": [
      "\u001b[1;31m---------------------------------------------------------------------------\u001b[0m",
      "\u001b[1;31mValueError\u001b[0m                                Traceback (most recent call last)",
      "File \u001b[1;32m~\\AppData\\Roaming\\Python\\Python312\\site-packages\\IPython\\core\\formatters.py:922\u001b[0m, in \u001b[0;36mIPythonDisplayFormatter.__call__\u001b[1;34m(self, obj)\u001b[0m\n\u001b[0;32m    920\u001b[0m method \u001b[38;5;241m=\u001b[39m get_real_method(obj, \u001b[38;5;28mself\u001b[39m\u001b[38;5;241m.\u001b[39mprint_method)\n\u001b[0;32m    921\u001b[0m \u001b[38;5;28;01mif\u001b[39;00m method \u001b[38;5;129;01mis\u001b[39;00m \u001b[38;5;129;01mnot\u001b[39;00m \u001b[38;5;28;01mNone\u001b[39;00m:\n\u001b[1;32m--> 922\u001b[0m     \u001b[43mmethod\u001b[49m\u001b[43m(\u001b[49m\u001b[43m)\u001b[49m\n\u001b[0;32m    923\u001b[0m     \u001b[38;5;28;01mreturn\u001b[39;00m \u001b[38;5;28;01mTrue\u001b[39;00m\n",
      "File \u001b[1;32mc:\\Users\\fran\\AppData\\Local\\Programs\\Python\\Python312\\Lib\\site-packages\\plotly\\basedatatypes.py:832\u001b[0m, in \u001b[0;36mBaseFigure._ipython_display_\u001b[1;34m(self)\u001b[0m\n\u001b[0;32m    829\u001b[0m \u001b[38;5;28;01mimport\u001b[39;00m \u001b[38;5;21;01mplotly\u001b[39;00m\u001b[38;5;21;01m.\u001b[39;00m\u001b[38;5;21;01mio\u001b[39;00m \u001b[38;5;28;01mas\u001b[39;00m \u001b[38;5;21;01mpio\u001b[39;00m\n\u001b[0;32m    831\u001b[0m \u001b[38;5;28;01mif\u001b[39;00m pio\u001b[38;5;241m.\u001b[39mrenderers\u001b[38;5;241m.\u001b[39mrender_on_display \u001b[38;5;129;01mand\u001b[39;00m pio\u001b[38;5;241m.\u001b[39mrenderers\u001b[38;5;241m.\u001b[39mdefault:\n\u001b[1;32m--> 832\u001b[0m     \u001b[43mpio\u001b[49m\u001b[38;5;241;43m.\u001b[39;49m\u001b[43mshow\u001b[49m\u001b[43m(\u001b[49m\u001b[38;5;28;43mself\u001b[39;49m\u001b[43m)\u001b[49m\n\u001b[0;32m    833\u001b[0m \u001b[38;5;28;01melse\u001b[39;00m:\n\u001b[0;32m    834\u001b[0m     \u001b[38;5;28mprint\u001b[39m(\u001b[38;5;28mrepr\u001b[39m(\u001b[38;5;28mself\u001b[39m))\n",
      "File \u001b[1;32mc:\\Users\\fran\\AppData\\Local\\Programs\\Python\\Python312\\Lib\\site-packages\\plotly\\io\\_renderers.py:394\u001b[0m, in \u001b[0;36mshow\u001b[1;34m(fig, renderer, validate, **kwargs)\u001b[0m\n\u001b[0;32m    389\u001b[0m         \u001b[38;5;28;01mraise\u001b[39;00m \u001b[38;5;167;01mValueError\u001b[39;00m(\n\u001b[0;32m    390\u001b[0m             \u001b[38;5;124m\"\u001b[39m\u001b[38;5;124mMime type rendering requires ipython but it is not installed\u001b[39m\u001b[38;5;124m\"\u001b[39m\n\u001b[0;32m    391\u001b[0m         )\n\u001b[0;32m    393\u001b[0m     \u001b[38;5;28;01mif\u001b[39;00m \u001b[38;5;129;01mnot\u001b[39;00m nbformat \u001b[38;5;129;01mor\u001b[39;00m Version(nbformat\u001b[38;5;241m.\u001b[39m__version__) \u001b[38;5;241m<\u001b[39m Version(\u001b[38;5;124m\"\u001b[39m\u001b[38;5;124m4.2.0\u001b[39m\u001b[38;5;124m\"\u001b[39m):\n\u001b[1;32m--> 394\u001b[0m         \u001b[38;5;28;01mraise\u001b[39;00m \u001b[38;5;167;01mValueError\u001b[39;00m(\n\u001b[0;32m    395\u001b[0m             \u001b[38;5;124m\"\u001b[39m\u001b[38;5;124mMime type rendering requires nbformat>=4.2.0 but it is not installed\u001b[39m\u001b[38;5;124m\"\u001b[39m\n\u001b[0;32m    396\u001b[0m         )\n\u001b[0;32m    398\u001b[0m     ipython_display\u001b[38;5;241m.\u001b[39mdisplay(bundle, raw\u001b[38;5;241m=\u001b[39m\u001b[38;5;28;01mTrue\u001b[39;00m)\n\u001b[0;32m    400\u001b[0m \u001b[38;5;66;03m# external renderers\u001b[39;00m\n",
      "\u001b[1;31mValueError\u001b[0m: Mime type rendering requires nbformat>=4.2.0 but it is not installed"
     ]
    },
    {
     "data": {
      "application/vnd.plotly.v1+json": {
       "config": {
        "plotlyServerURL": "https://plot.ly"
       },
       "data": [
        {
         "alignmentgroup": "True",
         "bingroup": "x",
         "histfunc": "sum",
         "hovertemplate": "municipio=Brooklyn<br>price=%{x}<br>sum of number_of_reviews=%{y}<extra></extra>",
         "legendgroup": "Brooklyn",
         "marker": {
          "color": "#636efa",
          "pattern": {
           "shape": ""
          }
         },
         "name": "Brooklyn",
         "nbinsx": 200,
         "offsetgroup": "Brooklyn",
         "orientation": "v",
         "showlegend": true,
         "type": "histogram",
         "x": [
          149,
          89,
          60,
          89,
          140,
          215,
          99,
          299,
          130,
          80,
          110,
          120,
          60,
          55,
          70,
          89,
          35,
          85,
          150,
          120,
          120,
          150,
          110,
          115,
          80,
          80,
          228,
          144,
          150,
          49,
          80,
          200,
          55,
          225,
          275,
          105,
          95,
          145,
          130,
          800,
          105,
          85,
          65,
          131,
          98,
          250,
          100,
          105,
          125,
          175,
          101,
          220,
          125,
          80,
          200,
          125,
          120,
          325,
          99,
          400,
          75,
          90,
          70,
          89,
          50,
          77,
          76,
          125,
          135,
          250,
          199,
          140,
          115,
          160,
          195,
          80,
          44,
          85,
          125,
          115,
          125,
          475,
          69,
          135,
          250,
          250,
          70,
          165,
          50,
          150,
          110,
          65,
          200,
          150,
          90,
          120,
          175,
          135,
          80,
          249,
          100,
          140,
          71,
          69,
          68,
          195,
          159,
          135,
          135,
          65,
          99,
          285,
          59,
          39,
          60,
          135,
          70,
          60,
          100,
          70,
          110,
          60,
          75,
          60,
          130,
          95,
          175,
          190,
          49,
          140,
          150,
          190,
          135,
          145,
          250,
          125,
          70,
          229,
          59,
          195,
          169,
          55,
          69,
          169,
          179,
          135,
          350,
          120,
          349,
          349,
          165,
          249,
          100,
          200,
          185,
          65,
          130,
          199,
          179,
          150,
          79,
          650,
          90,
          120,
          100,
          175,
          120,
          140,
          200,
          165,
          123,
          130,
          100,
          190,
          599,
          100,
          135,
          175,
          165,
          95,
          55,
          199,
          80,
          150,
          110,
          190,
          200,
          165,
          99,
          39,
          260,
          165,
          125,
          225,
          50,
          170,
          250,
          141,
          64,
          249,
          79,
          120,
          495,
          145,
          250,
          451,
          98,
          150,
          125,
          255,
          72,
          165,
          165,
          75,
          130,
          139,
          88,
          80,
          90,
          450,
          130,
          89,
          46,
          500,
          60,
          350,
          219,
          60,
          105,
          75,
          85,
          106,
          85,
          91,
          150,
          97,
          179,
          500,
          70,
          75,
          99,
          350,
          170,
          169,
          99,
          160,
          215,
          130,
          65,
          43,
          42,
          85,
          139,
          105,
          265,
          99,
          100,
          190,
          67,
          248,
          100,
          145,
          41,
          120,
          157,
          195,
          70,
          185,
          145,
          185,
          100,
          40,
          79,
          100,
          110,
          172,
          75,
          116,
          120,
          150,
          230,
          79,
          130,
          239,
          220,
          80,
          135,
          100,
          200,
          80,
          110,
          300,
          180,
          350,
          85,
          80,
          55,
          438,
          110,
          279,
          137,
          280,
          199,
          180,
          85,
          199,
          100,
          295,
          150,
          129,
          96,
          199,
          199,
          199,
          69,
          199,
          199,
          199,
          199,
          199,
          349,
          249,
          299,
          179,
          599,
          110,
          220,
          89,
          170,
          98,
          125,
          48,
          64,
          154,
          139,
          70,
          130,
          92,
          145,
          185,
          99,
          48,
          110,
          147,
          60,
          290,
          50,
          45,
          34,
          190,
          75,
          93,
          60,
          65,
          60,
          88,
          60,
          110,
          135,
          165,
          127,
          402,
          75,
          70,
          64,
          800,
          100,
          250,
          140,
          90,
          97,
          91,
          125,
          75,
          300,
          100,
          65,
          47,
          110,
          100,
          300,
          140,
          120,
          175,
          275,
          189,
          250,
          120,
          50,
          100,
          157,
          199,
          199,
          199,
          199,
          199,
          105,
          135,
          199,
          125,
          60,
          85,
          75,
          44,
          55,
          30,
          35,
          70,
          130,
          52,
          75,
          100,
          130,
          75,
          180,
          135,
          65,
          149,
          75,
          225,
          100,
          135,
          89,
          120,
          59,
          49,
          79,
          185,
          225,
          325,
          95,
          75,
          160,
          180,
          165,
          500,
          79,
          200,
          115,
          115,
          120,
          70,
          160,
          178,
          145,
          125,
          77,
          92,
          185,
          65,
          72,
          80,
          125,
          120,
          94,
          56,
          190,
          129,
          85,
          125,
          50,
          70,
          159,
          45,
          90,
          250,
          130,
          90,
          298,
          123
         ],
         "xaxis": "x",
         "y": [
          9,
          270,
          49,
          167,
          148,
          198,
          53,
          9,
          130,
          39,
          71,
          88,
          19,
          197,
          74,
          168,
          0,
          231,
          0,
          15,
          25,
          11,
          61,
          11,
          135,
          112,
          82,
          328,
          105,
          138,
          42,
          143,
          27,
          4,
          148,
          105,
          143,
          61,
          16,
          25,
          61,
          174,
          24,
          166,
          16,
          21,
          168,
          118,
          139,
          233,
          335,
          88,
          162,
          29,
          19,
          19,
          467,
          324,
          354,
          16,
          9,
          9,
          63,
          260,
          193,
          2,
          426,
          227,
          84,
          3,
          10,
          4,
          124,
          11,
          240,
          200,
          27,
          9,
          155,
          4,
          27,
          23,
          202,
          309,
          14,
          80,
          294,
          150,
          47,
          193,
          213,
          206,
          33,
          52,
          126,
          51,
          30,
          151,
          11,
          358,
          226,
          253,
          23,
          82,
          37,
          69,
          222,
          21,
          69,
          238,
          111,
          124,
          181,
          45,
          9,
          248,
          36,
          14,
          279,
          18,
          50,
          227,
          64,
          0,
          49,
          132,
          11,
          51,
          15,
          9,
          214,
          69,
          56,
          127,
          106,
          6,
          47,
          50,
          29,
          59,
          68,
          1,
          220,
          398,
          36,
          6,
          14,
          76,
          8,
          7,
          34,
          2,
          66,
          80,
          46,
          228,
          5,
          8,
          13,
          5,
          11,
          0,
          218,
          75,
          0,
          370,
          104,
          13,
          4,
          11,
          15,
          98,
          31,
          124,
          9,
          15,
          86,
          248,
          3,
          163,
          247,
          27,
          225,
          95,
          70,
          50,
          29,
          23,
          38,
          82,
          3,
          175,
          15,
          22,
          263,
          86,
          18,
          8,
          70,
          150,
          115,
          232,
          35,
          8,
          52,
          72,
          8,
          0,
          104,
          39,
          88,
          27,
          117,
          43,
          4,
          385,
          64,
          39,
          3,
          37,
          29,
          205,
          86,
          7,
          480,
          6,
          2,
          20,
          101,
          87,
          86,
          0,
          35,
          241,
          11,
          31,
          23,
          20,
          227,
          80,
          187,
          1,
          67,
          177,
          90,
          42,
          33,
          179,
          52,
          401,
          72,
          46,
          83,
          211,
          15,
          207,
          273,
          105,
          72,
          58,
          8,
          123,
          55,
          87,
          4,
          31,
          128,
          14,
          30,
          228,
          9,
          1,
          152,
          7,
          24,
          8,
          59,
          22,
          23,
          24,
          18,
          115,
          154,
          164,
          116,
          234,
          82,
          63,
          1,
          35,
          305,
          40,
          125,
          40,
          124,
          5,
          147,
          43,
          8,
          120,
          24,
          5,
          242,
          181,
          5,
          34,
          7,
          125,
          0,
          241,
          13,
          33,
          24,
          59,
          2,
          24,
          23,
          43,
          30,
          39,
          8,
          3,
          6,
          4,
          7,
          2,
          178,
          30,
          190,
          216,
          31,
          53,
          247,
          233,
          135,
          4,
          18,
          54,
          110,
          24,
          20,
          17,
          0,
          5,
          20,
          1,
          26,
          21,
          16,
          30,
          5,
          115,
          9,
          45,
          6,
          7,
          35,
          115,
          6,
          204,
          1,
          89,
          15,
          58,
          1,
          122,
          63,
          26,
          14,
          3,
          29,
          69,
          232,
          0,
          0,
          5,
          36,
          5,
          238,
          21,
          40,
          103,
          66,
          35,
          121,
          13,
          46,
          37,
          17,
          0,
          54,
          43,
          75,
          73,
          89,
          23,
          11,
          84,
          54,
          17,
          1,
          73,
          98,
          2,
          18,
          24,
          1,
          2,
          23,
          93,
          0,
          119,
          9,
          158,
          236,
          16,
          123,
          65,
          13,
          1,
          61,
          39,
          62,
          42,
          207,
          72,
          22,
          215,
          26,
          320,
          160,
          219,
          25,
          15,
          12,
          9,
          42,
          53,
          64,
          51,
          79,
          19,
          0,
          8,
          46,
          6,
          11,
          34,
          34,
          30,
          156,
          30,
          1,
          3,
          272,
          63,
          5,
          63,
          268,
          23,
          3,
          2,
          106,
          15,
          2,
          17,
          53,
          32,
          131,
          269
         ],
         "yaxis": "y"
        },
        {
         "alignmentgroup": "True",
         "boxpoints": "all",
         "customdata": [
          [
           "Brooklyn"
          ],
          [
           "Brooklyn"
          ],
          [
           "Brooklyn"
          ],
          [
           "Brooklyn"
          ],
          [
           "Brooklyn"
          ],
          [
           "Brooklyn"
          ],
          [
           "Brooklyn"
          ],
          [
           "Brooklyn"
          ],
          [
           "Brooklyn"
          ],
          [
           "Brooklyn"
          ],
          [
           "Brooklyn"
          ],
          [
           "Brooklyn"
          ],
          [
           "Brooklyn"
          ],
          [
           "Brooklyn"
          ],
          [
           "Brooklyn"
          ],
          [
           "Brooklyn"
          ],
          [
           "Brooklyn"
          ],
          [
           "Brooklyn"
          ],
          [
           "Brooklyn"
          ],
          [
           "Brooklyn"
          ],
          [
           "Brooklyn"
          ],
          [
           "Brooklyn"
          ],
          [
           "Brooklyn"
          ],
          [
           "Brooklyn"
          ],
          [
           "Brooklyn"
          ],
          [
           "Brooklyn"
          ],
          [
           "Brooklyn"
          ],
          [
           "Brooklyn"
          ],
          [
           "Brooklyn"
          ],
          [
           "Brooklyn"
          ],
          [
           "Brooklyn"
          ],
          [
           "Brooklyn"
          ],
          [
           "Brooklyn"
          ],
          [
           "Brooklyn"
          ],
          [
           "Brooklyn"
          ],
          [
           "Brooklyn"
          ],
          [
           "Brooklyn"
          ],
          [
           "Brooklyn"
          ],
          [
           "Brooklyn"
          ],
          [
           "Brooklyn"
          ],
          [
           "Brooklyn"
          ],
          [
           "Brooklyn"
          ],
          [
           "Brooklyn"
          ],
          [
           "Brooklyn"
          ],
          [
           "Brooklyn"
          ],
          [
           "Brooklyn"
          ],
          [
           "Brooklyn"
          ],
          [
           "Brooklyn"
          ],
          [
           "Brooklyn"
          ],
          [
           "Brooklyn"
          ],
          [
           "Brooklyn"
          ],
          [
           "Brooklyn"
          ],
          [
           "Brooklyn"
          ],
          [
           "Brooklyn"
          ],
          [
           "Brooklyn"
          ],
          [
           "Brooklyn"
          ],
          [
           "Brooklyn"
          ],
          [
           "Brooklyn"
          ],
          [
           "Brooklyn"
          ],
          [
           "Brooklyn"
          ],
          [
           "Brooklyn"
          ],
          [
           "Brooklyn"
          ],
          [
           "Brooklyn"
          ],
          [
           "Brooklyn"
          ],
          [
           "Brooklyn"
          ],
          [
           "Brooklyn"
          ],
          [
           "Brooklyn"
          ],
          [
           "Brooklyn"
          ],
          [
           "Brooklyn"
          ],
          [
           "Brooklyn"
          ],
          [
           "Brooklyn"
          ],
          [
           "Brooklyn"
          ],
          [
           "Brooklyn"
          ],
          [
           "Brooklyn"
          ],
          [
           "Brooklyn"
          ],
          [
           "Brooklyn"
          ],
          [
           "Brooklyn"
          ],
          [
           "Brooklyn"
          ],
          [
           "Brooklyn"
          ],
          [
           "Brooklyn"
          ],
          [
           "Brooklyn"
          ],
          [
           "Brooklyn"
          ],
          [
           "Brooklyn"
          ],
          [
           "Brooklyn"
          ],
          [
           "Brooklyn"
          ],
          [
           "Brooklyn"
          ],
          [
           "Brooklyn"
          ],
          [
           "Brooklyn"
          ],
          [
           "Brooklyn"
          ],
          [
           "Brooklyn"
          ],
          [
           "Brooklyn"
          ],
          [
           "Brooklyn"
          ],
          [
           "Brooklyn"
          ],
          [
           "Brooklyn"
          ],
          [
           "Brooklyn"
          ],
          [
           "Brooklyn"
          ],
          [
           "Brooklyn"
          ],
          [
           "Brooklyn"
          ],
          [
           "Brooklyn"
          ],
          [
           "Brooklyn"
          ],
          [
           "Brooklyn"
          ],
          [
           "Brooklyn"
          ],
          [
           "Brooklyn"
          ],
          [
           "Brooklyn"
          ],
          [
           "Brooklyn"
          ],
          [
           "Brooklyn"
          ],
          [
           "Brooklyn"
          ],
          [
           "Brooklyn"
          ],
          [
           "Brooklyn"
          ],
          [
           "Brooklyn"
          ],
          [
           "Brooklyn"
          ],
          [
           "Brooklyn"
          ],
          [
           "Brooklyn"
          ],
          [
           "Brooklyn"
          ],
          [
           "Brooklyn"
          ],
          [
           "Brooklyn"
          ],
          [
           "Brooklyn"
          ],
          [
           "Brooklyn"
          ],
          [
           "Brooklyn"
          ],
          [
           "Brooklyn"
          ],
          [
           "Brooklyn"
          ],
          [
           "Brooklyn"
          ],
          [
           "Brooklyn"
          ],
          [
           "Brooklyn"
          ],
          [
           "Brooklyn"
          ],
          [
           "Brooklyn"
          ],
          [
           "Brooklyn"
          ],
          [
           "Brooklyn"
          ],
          [
           "Brooklyn"
          ],
          [
           "Brooklyn"
          ],
          [
           "Brooklyn"
          ],
          [
           "Brooklyn"
          ],
          [
           "Brooklyn"
          ],
          [
           "Brooklyn"
          ],
          [
           "Brooklyn"
          ],
          [
           "Brooklyn"
          ],
          [
           "Brooklyn"
          ],
          [
           "Brooklyn"
          ],
          [
           "Brooklyn"
          ],
          [
           "Brooklyn"
          ],
          [
           "Brooklyn"
          ],
          [
           "Brooklyn"
          ],
          [
           "Brooklyn"
          ],
          [
           "Brooklyn"
          ],
          [
           "Brooklyn"
          ],
          [
           "Brooklyn"
          ],
          [
           "Brooklyn"
          ],
          [
           "Brooklyn"
          ],
          [
           "Brooklyn"
          ],
          [
           "Brooklyn"
          ],
          [
           "Brooklyn"
          ],
          [
           "Brooklyn"
          ],
          [
           "Brooklyn"
          ],
          [
           "Brooklyn"
          ],
          [
           "Brooklyn"
          ],
          [
           "Brooklyn"
          ],
          [
           "Brooklyn"
          ],
          [
           "Brooklyn"
          ],
          [
           "Brooklyn"
          ],
          [
           "Brooklyn"
          ],
          [
           "Brooklyn"
          ],
          [
           "Brooklyn"
          ],
          [
           "Brooklyn"
          ],
          [
           "Brooklyn"
          ],
          [
           "Brooklyn"
          ],
          [
           "Brooklyn"
          ],
          [
           "Brooklyn"
          ],
          [
           "Brooklyn"
          ],
          [
           "Brooklyn"
          ],
          [
           "Brooklyn"
          ],
          [
           "Brooklyn"
          ],
          [
           "Brooklyn"
          ],
          [
           "Brooklyn"
          ],
          [
           "Brooklyn"
          ],
          [
           "Brooklyn"
          ],
          [
           "Brooklyn"
          ],
          [
           "Brooklyn"
          ],
          [
           "Brooklyn"
          ],
          [
           "Brooklyn"
          ],
          [
           "Brooklyn"
          ],
          [
           "Brooklyn"
          ],
          [
           "Brooklyn"
          ],
          [
           "Brooklyn"
          ],
          [
           "Brooklyn"
          ],
          [
           "Brooklyn"
          ],
          [
           "Brooklyn"
          ],
          [
           "Brooklyn"
          ],
          [
           "Brooklyn"
          ],
          [
           "Brooklyn"
          ],
          [
           "Brooklyn"
          ],
          [
           "Brooklyn"
          ],
          [
           "Brooklyn"
          ],
          [
           "Brooklyn"
          ],
          [
           "Brooklyn"
          ],
          [
           "Brooklyn"
          ],
          [
           "Brooklyn"
          ],
          [
           "Brooklyn"
          ],
          [
           "Brooklyn"
          ],
          [
           "Brooklyn"
          ],
          [
           "Brooklyn"
          ],
          [
           "Brooklyn"
          ],
          [
           "Brooklyn"
          ],
          [
           "Brooklyn"
          ],
          [
           "Brooklyn"
          ],
          [
           "Brooklyn"
          ],
          [
           "Brooklyn"
          ],
          [
           "Brooklyn"
          ],
          [
           "Brooklyn"
          ],
          [
           "Brooklyn"
          ],
          [
           "Brooklyn"
          ],
          [
           "Brooklyn"
          ],
          [
           "Brooklyn"
          ],
          [
           "Brooklyn"
          ],
          [
           "Brooklyn"
          ],
          [
           "Brooklyn"
          ],
          [
           "Brooklyn"
          ],
          [
           "Brooklyn"
          ],
          [
           "Brooklyn"
          ],
          [
           "Brooklyn"
          ],
          [
           "Brooklyn"
          ],
          [
           "Brooklyn"
          ],
          [
           "Brooklyn"
          ],
          [
           "Brooklyn"
          ],
          [
           "Brooklyn"
          ],
          [
           "Brooklyn"
          ],
          [
           "Brooklyn"
          ],
          [
           "Brooklyn"
          ],
          [
           "Brooklyn"
          ],
          [
           "Brooklyn"
          ],
          [
           "Brooklyn"
          ],
          [
           "Brooklyn"
          ],
          [
           "Brooklyn"
          ],
          [
           "Brooklyn"
          ],
          [
           "Brooklyn"
          ],
          [
           "Brooklyn"
          ],
          [
           "Brooklyn"
          ],
          [
           "Brooklyn"
          ],
          [
           "Brooklyn"
          ],
          [
           "Brooklyn"
          ],
          [
           "Brooklyn"
          ],
          [
           "Brooklyn"
          ],
          [
           "Brooklyn"
          ],
          [
           "Brooklyn"
          ],
          [
           "Brooklyn"
          ],
          [
           "Brooklyn"
          ],
          [
           "Brooklyn"
          ],
          [
           "Brooklyn"
          ],
          [
           "Brooklyn"
          ],
          [
           "Brooklyn"
          ],
          [
           "Brooklyn"
          ],
          [
           "Brooklyn"
          ],
          [
           "Brooklyn"
          ],
          [
           "Brooklyn"
          ],
          [
           "Brooklyn"
          ],
          [
           "Brooklyn"
          ],
          [
           "Brooklyn"
          ],
          [
           "Brooklyn"
          ],
          [
           "Brooklyn"
          ],
          [
           "Brooklyn"
          ],
          [
           "Brooklyn"
          ],
          [
           "Brooklyn"
          ],
          [
           "Brooklyn"
          ],
          [
           "Brooklyn"
          ],
          [
           "Brooklyn"
          ],
          [
           "Brooklyn"
          ],
          [
           "Brooklyn"
          ],
          [
           "Brooklyn"
          ],
          [
           "Brooklyn"
          ],
          [
           "Brooklyn"
          ],
          [
           "Brooklyn"
          ],
          [
           "Brooklyn"
          ],
          [
           "Brooklyn"
          ],
          [
           "Brooklyn"
          ],
          [
           "Brooklyn"
          ],
          [
           "Brooklyn"
          ],
          [
           "Brooklyn"
          ],
          [
           "Brooklyn"
          ],
          [
           "Brooklyn"
          ],
          [
           "Brooklyn"
          ],
          [
           "Brooklyn"
          ],
          [
           "Brooklyn"
          ],
          [
           "Brooklyn"
          ],
          [
           "Brooklyn"
          ],
          [
           "Brooklyn"
          ],
          [
           "Brooklyn"
          ],
          [
           "Brooklyn"
          ],
          [
           "Brooklyn"
          ],
          [
           "Brooklyn"
          ],
          [
           "Brooklyn"
          ],
          [
           "Brooklyn"
          ],
          [
           "Brooklyn"
          ],
          [
           "Brooklyn"
          ],
          [
           "Brooklyn"
          ],
          [
           "Brooklyn"
          ],
          [
           "Brooklyn"
          ],
          [
           "Brooklyn"
          ],
          [
           "Brooklyn"
          ],
          [
           "Brooklyn"
          ],
          [
           "Brooklyn"
          ],
          [
           "Brooklyn"
          ],
          [
           "Brooklyn"
          ],
          [
           "Brooklyn"
          ],
          [
           "Brooklyn"
          ],
          [
           "Brooklyn"
          ],
          [
           "Brooklyn"
          ],
          [
           "Brooklyn"
          ],
          [
           "Brooklyn"
          ],
          [
           "Brooklyn"
          ],
          [
           "Brooklyn"
          ],
          [
           "Brooklyn"
          ],
          [
           "Brooklyn"
          ],
          [
           "Brooklyn"
          ],
          [
           "Brooklyn"
          ],
          [
           "Brooklyn"
          ],
          [
           "Brooklyn"
          ],
          [
           "Brooklyn"
          ],
          [
           "Brooklyn"
          ],
          [
           "Brooklyn"
          ],
          [
           "Brooklyn"
          ],
          [
           "Brooklyn"
          ],
          [
           "Brooklyn"
          ],
          [
           "Brooklyn"
          ],
          [
           "Brooklyn"
          ],
          [
           "Brooklyn"
          ],
          [
           "Brooklyn"
          ],
          [
           "Brooklyn"
          ],
          [
           "Brooklyn"
          ],
          [
           "Brooklyn"
          ],
          [
           "Brooklyn"
          ],
          [
           "Brooklyn"
          ],
          [
           "Brooklyn"
          ],
          [
           "Brooklyn"
          ],
          [
           "Brooklyn"
          ],
          [
           "Brooklyn"
          ],
          [
           "Brooklyn"
          ],
          [
           "Brooklyn"
          ],
          [
           "Brooklyn"
          ],
          [
           "Brooklyn"
          ],
          [
           "Brooklyn"
          ],
          [
           "Brooklyn"
          ],
          [
           "Brooklyn"
          ],
          [
           "Brooklyn"
          ],
          [
           "Brooklyn"
          ],
          [
           "Brooklyn"
          ],
          [
           "Brooklyn"
          ],
          [
           "Brooklyn"
          ],
          [
           "Brooklyn"
          ],
          [
           "Brooklyn"
          ],
          [
           "Brooklyn"
          ],
          [
           "Brooklyn"
          ],
          [
           "Brooklyn"
          ],
          [
           "Brooklyn"
          ],
          [
           "Brooklyn"
          ],
          [
           "Brooklyn"
          ],
          [
           "Brooklyn"
          ],
          [
           "Brooklyn"
          ],
          [
           "Brooklyn"
          ],
          [
           "Brooklyn"
          ],
          [
           "Brooklyn"
          ],
          [
           "Brooklyn"
          ],
          [
           "Brooklyn"
          ],
          [
           "Brooklyn"
          ],
          [
           "Brooklyn"
          ],
          [
           "Brooklyn"
          ],
          [
           "Brooklyn"
          ],
          [
           "Brooklyn"
          ],
          [
           "Brooklyn"
          ],
          [
           "Brooklyn"
          ],
          [
           "Brooklyn"
          ],
          [
           "Brooklyn"
          ],
          [
           "Brooklyn"
          ],
          [
           "Brooklyn"
          ],
          [
           "Brooklyn"
          ],
          [
           "Brooklyn"
          ],
          [
           "Brooklyn"
          ],
          [
           "Brooklyn"
          ],
          [
           "Brooklyn"
          ],
          [
           "Brooklyn"
          ],
          [
           "Brooklyn"
          ],
          [
           "Brooklyn"
          ],
          [
           "Brooklyn"
          ],
          [
           "Brooklyn"
          ],
          [
           "Brooklyn"
          ],
          [
           "Brooklyn"
          ],
          [
           "Brooklyn"
          ],
          [
           "Brooklyn"
          ],
          [
           "Brooklyn"
          ],
          [
           "Brooklyn"
          ],
          [
           "Brooklyn"
          ],
          [
           "Brooklyn"
          ],
          [
           "Brooklyn"
          ],
          [
           "Brooklyn"
          ],
          [
           "Brooklyn"
          ],
          [
           "Brooklyn"
          ],
          [
           "Brooklyn"
          ],
          [
           "Brooklyn"
          ],
          [
           "Brooklyn"
          ],
          [
           "Brooklyn"
          ],
          [
           "Brooklyn"
          ],
          [
           "Brooklyn"
          ],
          [
           "Brooklyn"
          ],
          [
           "Brooklyn"
          ],
          [
           "Brooklyn"
          ],
          [
           "Brooklyn"
          ],
          [
           "Brooklyn"
          ],
          [
           "Brooklyn"
          ],
          [
           "Brooklyn"
          ],
          [
           "Brooklyn"
          ],
          [
           "Brooklyn"
          ],
          [
           "Brooklyn"
          ],
          [
           "Brooklyn"
          ],
          [
           "Brooklyn"
          ],
          [
           "Brooklyn"
          ],
          [
           "Brooklyn"
          ],
          [
           "Brooklyn"
          ],
          [
           "Brooklyn"
          ],
          [
           "Brooklyn"
          ],
          [
           "Brooklyn"
          ],
          [
           "Brooklyn"
          ],
          [
           "Brooklyn"
          ],
          [
           "Brooklyn"
          ],
          [
           "Brooklyn"
          ],
          [
           "Brooklyn"
          ],
          [
           "Brooklyn"
          ],
          [
           "Brooklyn"
          ],
          [
           "Brooklyn"
          ],
          [
           "Brooklyn"
          ],
          [
           "Brooklyn"
          ],
          [
           "Brooklyn"
          ],
          [
           "Brooklyn"
          ],
          [
           "Brooklyn"
          ],
          [
           "Brooklyn"
          ],
          [
           "Brooklyn"
          ],
          [
           "Brooklyn"
          ],
          [
           "Brooklyn"
          ],
          [
           "Brooklyn"
          ],
          [
           "Brooklyn"
          ],
          [
           "Brooklyn"
          ],
          [
           "Brooklyn"
          ],
          [
           "Brooklyn"
          ],
          [
           "Brooklyn"
          ],
          [
           "Brooklyn"
          ],
          [
           "Brooklyn"
          ],
          [
           "Brooklyn"
          ],
          [
           "Brooklyn"
          ],
          [
           "Brooklyn"
          ],
          [
           "Brooklyn"
          ],
          [
           "Brooklyn"
          ],
          [
           "Brooklyn"
          ],
          [
           "Brooklyn"
          ],
          [
           "Brooklyn"
          ],
          [
           "Brooklyn"
          ],
          [
           "Brooklyn"
          ],
          [
           "Brooklyn"
          ],
          [
           "Brooklyn"
          ],
          [
           "Brooklyn"
          ],
          [
           "Brooklyn"
          ],
          [
           "Brooklyn"
          ],
          [
           "Brooklyn"
          ],
          [
           "Brooklyn"
          ],
          [
           "Brooklyn"
          ],
          [
           "Brooklyn"
          ],
          [
           "Brooklyn"
          ],
          [
           "Brooklyn"
          ],
          [
           "Brooklyn"
          ],
          [
           "Brooklyn"
          ],
          [
           "Brooklyn"
          ],
          [
           "Brooklyn"
          ],
          [
           "Brooklyn"
          ],
          [
           "Brooklyn"
          ]
         ],
         "fillcolor": "rgba(255,255,255,0)",
         "hoveron": "points",
         "hovertemplate": "municipio=%{customdata[0]}<br>price=%{x}<extra></extra>",
         "jitter": 0,
         "legendgroup": "Brooklyn",
         "line": {
          "color": "rgba(255,255,255,0)"
         },
         "marker": {
          "color": "#636efa",
          "symbol": "line-ns-open"
         },
         "name": "Brooklyn",
         "offsetgroup": "Brooklyn",
         "showlegend": false,
         "type": "box",
         "x": [
          149,
          89,
          60,
          89,
          140,
          215,
          99,
          299,
          130,
          80,
          110,
          120,
          60,
          55,
          70,
          89,
          35,
          85,
          150,
          120,
          120,
          150,
          110,
          115,
          80,
          80,
          228,
          144,
          150,
          49,
          80,
          200,
          55,
          225,
          275,
          105,
          95,
          145,
          130,
          800,
          105,
          85,
          65,
          131,
          98,
          250,
          100,
          105,
          125,
          175,
          101,
          220,
          125,
          80,
          200,
          125,
          120,
          325,
          99,
          400,
          75,
          90,
          70,
          89,
          50,
          77,
          76,
          125,
          135,
          250,
          199,
          140,
          115,
          160,
          195,
          80,
          44,
          85,
          125,
          115,
          125,
          475,
          69,
          135,
          250,
          250,
          70,
          165,
          50,
          150,
          110,
          65,
          200,
          150,
          90,
          120,
          175,
          135,
          80,
          249,
          100,
          140,
          71,
          69,
          68,
          195,
          159,
          135,
          135,
          65,
          99,
          285,
          59,
          39,
          60,
          135,
          70,
          60,
          100,
          70,
          110,
          60,
          75,
          60,
          130,
          95,
          175,
          190,
          49,
          140,
          150,
          190,
          135,
          145,
          250,
          125,
          70,
          229,
          59,
          195,
          169,
          55,
          69,
          169,
          179,
          135,
          350,
          120,
          349,
          349,
          165,
          249,
          100,
          200,
          185,
          65,
          130,
          199,
          179,
          150,
          79,
          650,
          90,
          120,
          100,
          175,
          120,
          140,
          200,
          165,
          123,
          130,
          100,
          190,
          599,
          100,
          135,
          175,
          165,
          95,
          55,
          199,
          80,
          150,
          110,
          190,
          200,
          165,
          99,
          39,
          260,
          165,
          125,
          225,
          50,
          170,
          250,
          141,
          64,
          249,
          79,
          120,
          495,
          145,
          250,
          451,
          98,
          150,
          125,
          255,
          72,
          165,
          165,
          75,
          130,
          139,
          88,
          80,
          90,
          450,
          130,
          89,
          46,
          500,
          60,
          350,
          219,
          60,
          105,
          75,
          85,
          106,
          85,
          91,
          150,
          97,
          179,
          500,
          70,
          75,
          99,
          350,
          170,
          169,
          99,
          160,
          215,
          130,
          65,
          43,
          42,
          85,
          139,
          105,
          265,
          99,
          100,
          190,
          67,
          248,
          100,
          145,
          41,
          120,
          157,
          195,
          70,
          185,
          145,
          185,
          100,
          40,
          79,
          100,
          110,
          172,
          75,
          116,
          120,
          150,
          230,
          79,
          130,
          239,
          220,
          80,
          135,
          100,
          200,
          80,
          110,
          300,
          180,
          350,
          85,
          80,
          55,
          438,
          110,
          279,
          137,
          280,
          199,
          180,
          85,
          199,
          100,
          295,
          150,
          129,
          96,
          199,
          199,
          199,
          69,
          199,
          199,
          199,
          199,
          199,
          349,
          249,
          299,
          179,
          599,
          110,
          220,
          89,
          170,
          98,
          125,
          48,
          64,
          154,
          139,
          70,
          130,
          92,
          145,
          185,
          99,
          48,
          110,
          147,
          60,
          290,
          50,
          45,
          34,
          190,
          75,
          93,
          60,
          65,
          60,
          88,
          60,
          110,
          135,
          165,
          127,
          402,
          75,
          70,
          64,
          800,
          100,
          250,
          140,
          90,
          97,
          91,
          125,
          75,
          300,
          100,
          65,
          47,
          110,
          100,
          300,
          140,
          120,
          175,
          275,
          189,
          250,
          120,
          50,
          100,
          157,
          199,
          199,
          199,
          199,
          199,
          105,
          135,
          199,
          125,
          60,
          85,
          75,
          44,
          55,
          30,
          35,
          70,
          130,
          52,
          75,
          100,
          130,
          75,
          180,
          135,
          65,
          149,
          75,
          225,
          100,
          135,
          89,
          120,
          59,
          49,
          79,
          185,
          225,
          325,
          95,
          75,
          160,
          180,
          165,
          500,
          79,
          200,
          115,
          115,
          120,
          70,
          160,
          178,
          145,
          125,
          77,
          92,
          185,
          65,
          72,
          80,
          125,
          120,
          94,
          56,
          190,
          129,
          85,
          125,
          50,
          70,
          159,
          45,
          90,
          250,
          130,
          90,
          298,
          123
         ],
         "xaxis": "x6",
         "yaxis": "y6"
        },
        {
         "alignmentgroup": "True",
         "bingroup": "x",
         "histfunc": "sum",
         "hovertemplate": "municipio=Manhattan<br>price=%{x}<br>sum of number_of_reviews=%{y}<extra></extra>",
         "legendgroup": "Manhattan",
         "marker": {
          "color": "#EF553B",
          "pattern": {
           "shape": ""
          }
         },
         "name": "Manhattan",
         "nbinsx": 200,
         "offsetgroup": "Manhattan",
         "orientation": "v",
         "showlegend": true,
         "type": "histogram",
         "x": [
          225,
          150,
          80,
          200,
          79,
          79,
          150,
          135,
          85,
          85,
          120,
          140,
          190,
          80,
          150,
          44,
          180,
          50,
          52,
          50,
          40,
          68,
          135,
          150,
          151,
          200,
          110,
          69,
          180,
          375,
          250,
          52,
          80,
          99,
          225,
          230,
          51,
          65,
          190,
          200,
          150,
          110,
          285,
          94,
          60,
          50,
          140,
          89,
          98,
          60,
          65,
          500,
          100,
          59,
          140,
          350,
          199,
          235,
          225,
          170,
          170,
          100,
          150,
          85,
          120,
          185,
          105,
          130,
          115,
          195,
          156,
          69,
          225,
          219,
          99,
          250,
          80,
          125,
          196,
          170,
          165,
          150,
          100,
          99,
          75,
          125,
          275,
          299,
          130,
          83,
          123,
          195,
          105,
          200,
          121,
          100,
          130,
          199,
          130,
          64,
          189,
          250,
          239,
          305,
          155,
          60,
          120,
          150,
          250,
          250,
          500,
          225,
          125,
          92,
          175,
          99,
          195,
          140,
          135,
          500,
          80,
          120,
          110,
          130,
          175,
          205,
          390,
          75,
          200,
          90,
          68,
          115,
          129,
          75,
          212,
          95,
          135,
          124,
          122,
          109,
          85,
          195,
          575,
          150,
          90,
          65,
          500,
          250,
          125,
          200,
          110,
          113,
          250,
          150,
          150,
          71,
          169,
          225,
          139,
          95,
          150,
          125,
          130,
          65,
          67,
          212,
          249,
          60,
          120,
          169,
          90,
          225,
          85,
          211,
          145,
          65,
          99,
          290,
          87,
          110,
          395,
          189,
          85,
          122,
          170,
          130,
          132,
          185,
          375,
          175,
          150,
          259,
          96,
          200,
          95,
          295,
          175,
          165,
          250,
          250,
          95,
          55,
          300,
          175,
          75,
          150,
          200,
          200,
          295,
          198,
          99,
          140,
          75,
          250,
          75,
          205,
          185,
          190,
          250,
          175,
          65,
          79,
          170,
          115,
          89,
          49,
          400,
          2000,
          100,
          429,
          189,
          120,
          300,
          199,
          120,
          199,
          100,
          250,
          165,
          99,
          255,
          169,
          110,
          150,
          149,
          89,
          50,
          149,
          68,
          75,
          90,
          160,
          190,
          95,
          150,
          250,
          80,
          230,
          200,
          300,
          80,
          199,
          199,
          100,
          55,
          146,
          250,
          150,
          199,
          69,
          300,
          125,
          288,
          225,
          110,
          130,
          89,
          135,
          90,
          270,
          145,
          179,
          110,
          325,
          130,
          190,
          200,
          160,
          195,
          241,
          300,
          100,
          399,
          200,
          71,
          226,
          135,
          154,
          700,
          246,
          125,
          119,
          125,
          400,
          850,
          140,
          115,
          200,
          185,
          81,
          495,
          760,
          325,
          195,
          58,
          189,
          145,
          101,
          95,
          375,
          153,
          80,
          300,
          88,
          155,
          225,
          85,
          200,
          485,
          310,
          109,
          167,
          220,
          195,
          199,
          65,
          99,
          130,
          350,
          250,
          125,
          300,
          150,
          56,
          299,
          1300,
          200,
          99,
          110,
          85,
          139,
          50,
          250,
          300,
          200,
          130,
          90,
          180,
          175,
          240,
          300,
          385,
          75,
          165,
          179,
          219,
          450,
          249,
          139,
          209,
          90,
          199,
          110,
          150,
          300,
          190,
          250,
          140,
          150,
          90,
          295,
          150,
          99,
          75,
          75,
          109,
          86,
          99,
          89,
          199,
          110,
          135,
          245,
          115,
          120,
          499,
          109,
          219,
          159,
          150,
          106,
          299,
          179,
          250,
          87,
          75,
          80,
          125,
          387,
          95,
          99,
          121,
          350,
          75,
          95,
          89,
          195,
          160,
          100,
          140,
          189,
          265,
          60,
          129,
          199,
          110,
          135,
          115,
          175,
          3000,
          549,
          145,
          200,
          160,
          180,
          100,
          105,
          250,
          74,
          165,
          99,
          125,
          104,
          225,
          100,
          350,
          135,
          125,
          225,
          85,
          200,
          90,
          300,
          125,
          125,
          145,
          147
         ],
         "xaxis": "x2",
         "y": [
          45,
          0,
          9,
          74,
          430,
          118,
          160,
          53,
          188,
          113,
          27,
          260,
          0,
          0,
          58,
          108,
          29,
          242,
          88,
          273,
          214,
          245,
          81,
          97,
          73,
          19,
          19,
          289,
          21,
          5,
          66,
          191,
          338,
          106,
          190,
          49,
          23,
          49,
          21,
          142,
          167,
          54,
          70,
          94,
          194,
          2,
          81,
          1,
          30,
          11,
          68,
          46,
          170,
          334,
          12,
          7,
          38,
          27,
          115,
          195,
          13,
          25,
          21,
          36,
          155,
          73,
          32,
          50,
          26,
          30,
          79,
          34,
          134,
          126,
          234,
          4,
          2,
          84,
          114,
          86,
          80,
          38,
          18,
          122,
          199,
          3,
          41,
          109,
          0,
          285,
          375,
          10,
          10,
          0,
          104,
          204,
          115,
          129,
          204,
          192,
          205,
          94,
          7,
          108,
          222,
          458,
          17,
          41,
          18,
          82,
          94,
          10,
          183,
          189,
          1,
          127,
          4,
          135,
          21,
          35,
          10,
          171,
          92,
          56,
          185,
          62,
          143,
          0,
          0,
          1,
          203,
          210,
          5,
          20,
          67,
          109,
          187,
          22,
          93,
          104,
          64,
          30,
          191,
          48,
          120,
          52,
          48,
          32,
          43,
          39,
          38,
          26,
          31,
          286,
          36,
          182,
          240,
          33,
          388,
          223,
          151,
          1,
          19,
          131,
          136,
          45,
          166,
          380,
          49,
          54,
          1,
          56,
          116,
          52,
          39,
          35,
          320,
          35,
          0,
          142,
          70,
          403,
          3,
          116,
          24,
          105,
          10,
          69,
          18,
          68,
          22,
          17,
          34,
          0,
          2,
          74,
          18,
          191,
          0,
          19,
          25,
          119,
          203,
          175,
          38,
          37,
          10,
          103,
          227,
          42,
          280,
          54,
          57,
          188,
          34,
          3,
          129,
          147,
          11,
          11,
          41,
          15,
          17,
          3,
          43,
          168,
          105,
          30,
          49,
          18,
          90,
          99,
          6,
          111,
          86,
          66,
          5,
          2,
          63,
          89,
          1,
          39,
          81,
          43,
          23,
          35,
          225,
          122,
          295,
          50,
          0,
          25,
          8,
          172,
          330,
          60,
          9,
          179,
          25,
          45,
          19,
          29,
          14,
          33,
          99,
          142,
          0,
          82,
          32,
          59,
          6,
          3,
          120,
          13,
          59,
          52,
          278,
          115,
          109,
          1,
          102,
          83,
          61,
          89,
          80,
          136,
          100,
          0,
          139,
          0,
          2,
          8,
          0,
          37,
          229,
          34,
          5,
          238,
          131,
          6,
          4,
          49,
          11,
          0,
          107,
          176,
          151,
          49,
          16,
          72,
          25,
          7,
          46,
          10,
          143,
          314,
          11,
          51,
          20,
          8,
          59,
          10,
          153,
          69,
          1,
          129,
          171,
          8,
          11,
          5,
          36,
          16,
          0,
          68,
          89,
          10,
          25,
          35,
          64,
          24,
          19,
          5,
          203,
          20,
          49,
          28,
          0,
          54,
          1,
          130,
          52,
          208,
          7,
          2,
          1,
          107,
          107,
          24,
          10,
          94,
          1,
          63,
          101,
          72,
          15,
          129,
          157,
          8,
          37,
          14,
          209,
          4,
          0,
          88,
          36,
          0,
          152,
          44,
          12,
          51,
          0,
          11,
          14,
          33,
          30,
          18,
          216,
          13,
          136,
          65,
          47,
          25,
          18,
          18,
          78,
          64,
          66,
          102,
          32,
          1,
          12,
          19,
          297,
          9,
          46,
          118,
          15,
          202,
          23,
          62,
          36,
          16,
          24,
          77,
          110,
          56,
          7,
          0,
          7,
          53,
          265,
          75,
          5,
          132,
          41,
          27,
          214,
          12,
          6,
          0,
          58,
          22,
          13,
          10,
          14,
          20,
          93,
          116,
          15,
          70,
          4,
          128,
          133,
          27,
          61,
          0,
          38,
          25,
          93,
          6,
          30,
          67,
          19,
          0,
          74,
          165,
          16
         ],
         "yaxis": "y2"
        },
        {
         "alignmentgroup": "True",
         "boxpoints": "all",
         "customdata": [
          [
           "Manhattan"
          ],
          [
           "Manhattan"
          ],
          [
           "Manhattan"
          ],
          [
           "Manhattan"
          ],
          [
           "Manhattan"
          ],
          [
           "Manhattan"
          ],
          [
           "Manhattan"
          ],
          [
           "Manhattan"
          ],
          [
           "Manhattan"
          ],
          [
           "Manhattan"
          ],
          [
           "Manhattan"
          ],
          [
           "Manhattan"
          ],
          [
           "Manhattan"
          ],
          [
           "Manhattan"
          ],
          [
           "Manhattan"
          ],
          [
           "Manhattan"
          ],
          [
           "Manhattan"
          ],
          [
           "Manhattan"
          ],
          [
           "Manhattan"
          ],
          [
           "Manhattan"
          ],
          [
           "Manhattan"
          ],
          [
           "Manhattan"
          ],
          [
           "Manhattan"
          ],
          [
           "Manhattan"
          ],
          [
           "Manhattan"
          ],
          [
           "Manhattan"
          ],
          [
           "Manhattan"
          ],
          [
           "Manhattan"
          ],
          [
           "Manhattan"
          ],
          [
           "Manhattan"
          ],
          [
           "Manhattan"
          ],
          [
           "Manhattan"
          ],
          [
           "Manhattan"
          ],
          [
           "Manhattan"
          ],
          [
           "Manhattan"
          ],
          [
           "Manhattan"
          ],
          [
           "Manhattan"
          ],
          [
           "Manhattan"
          ],
          [
           "Manhattan"
          ],
          [
           "Manhattan"
          ],
          [
           "Manhattan"
          ],
          [
           "Manhattan"
          ],
          [
           "Manhattan"
          ],
          [
           "Manhattan"
          ],
          [
           "Manhattan"
          ],
          [
           "Manhattan"
          ],
          [
           "Manhattan"
          ],
          [
           "Manhattan"
          ],
          [
           "Manhattan"
          ],
          [
           "Manhattan"
          ],
          [
           "Manhattan"
          ],
          [
           "Manhattan"
          ],
          [
           "Manhattan"
          ],
          [
           "Manhattan"
          ],
          [
           "Manhattan"
          ],
          [
           "Manhattan"
          ],
          [
           "Manhattan"
          ],
          [
           "Manhattan"
          ],
          [
           "Manhattan"
          ],
          [
           "Manhattan"
          ],
          [
           "Manhattan"
          ],
          [
           "Manhattan"
          ],
          [
           "Manhattan"
          ],
          [
           "Manhattan"
          ],
          [
           "Manhattan"
          ],
          [
           "Manhattan"
          ],
          [
           "Manhattan"
          ],
          [
           "Manhattan"
          ],
          [
           "Manhattan"
          ],
          [
           "Manhattan"
          ],
          [
           "Manhattan"
          ],
          [
           "Manhattan"
          ],
          [
           "Manhattan"
          ],
          [
           "Manhattan"
          ],
          [
           "Manhattan"
          ],
          [
           "Manhattan"
          ],
          [
           "Manhattan"
          ],
          [
           "Manhattan"
          ],
          [
           "Manhattan"
          ],
          [
           "Manhattan"
          ],
          [
           "Manhattan"
          ],
          [
           "Manhattan"
          ],
          [
           "Manhattan"
          ],
          [
           "Manhattan"
          ],
          [
           "Manhattan"
          ],
          [
           "Manhattan"
          ],
          [
           "Manhattan"
          ],
          [
           "Manhattan"
          ],
          [
           "Manhattan"
          ],
          [
           "Manhattan"
          ],
          [
           "Manhattan"
          ],
          [
           "Manhattan"
          ],
          [
           "Manhattan"
          ],
          [
           "Manhattan"
          ],
          [
           "Manhattan"
          ],
          [
           "Manhattan"
          ],
          [
           "Manhattan"
          ],
          [
           "Manhattan"
          ],
          [
           "Manhattan"
          ],
          [
           "Manhattan"
          ],
          [
           "Manhattan"
          ],
          [
           "Manhattan"
          ],
          [
           "Manhattan"
          ],
          [
           "Manhattan"
          ],
          [
           "Manhattan"
          ],
          [
           "Manhattan"
          ],
          [
           "Manhattan"
          ],
          [
           "Manhattan"
          ],
          [
           "Manhattan"
          ],
          [
           "Manhattan"
          ],
          [
           "Manhattan"
          ],
          [
           "Manhattan"
          ],
          [
           "Manhattan"
          ],
          [
           "Manhattan"
          ],
          [
           "Manhattan"
          ],
          [
           "Manhattan"
          ],
          [
           "Manhattan"
          ],
          [
           "Manhattan"
          ],
          [
           "Manhattan"
          ],
          [
           "Manhattan"
          ],
          [
           "Manhattan"
          ],
          [
           "Manhattan"
          ],
          [
           "Manhattan"
          ],
          [
           "Manhattan"
          ],
          [
           "Manhattan"
          ],
          [
           "Manhattan"
          ],
          [
           "Manhattan"
          ],
          [
           "Manhattan"
          ],
          [
           "Manhattan"
          ],
          [
           "Manhattan"
          ],
          [
           "Manhattan"
          ],
          [
           "Manhattan"
          ],
          [
           "Manhattan"
          ],
          [
           "Manhattan"
          ],
          [
           "Manhattan"
          ],
          [
           "Manhattan"
          ],
          [
           "Manhattan"
          ],
          [
           "Manhattan"
          ],
          [
           "Manhattan"
          ],
          [
           "Manhattan"
          ],
          [
           "Manhattan"
          ],
          [
           "Manhattan"
          ],
          [
           "Manhattan"
          ],
          [
           "Manhattan"
          ],
          [
           "Manhattan"
          ],
          [
           "Manhattan"
          ],
          [
           "Manhattan"
          ],
          [
           "Manhattan"
          ],
          [
           "Manhattan"
          ],
          [
           "Manhattan"
          ],
          [
           "Manhattan"
          ],
          [
           "Manhattan"
          ],
          [
           "Manhattan"
          ],
          [
           "Manhattan"
          ],
          [
           "Manhattan"
          ],
          [
           "Manhattan"
          ],
          [
           "Manhattan"
          ],
          [
           "Manhattan"
          ],
          [
           "Manhattan"
          ],
          [
           "Manhattan"
          ],
          [
           "Manhattan"
          ],
          [
           "Manhattan"
          ],
          [
           "Manhattan"
          ],
          [
           "Manhattan"
          ],
          [
           "Manhattan"
          ],
          [
           "Manhattan"
          ],
          [
           "Manhattan"
          ],
          [
           "Manhattan"
          ],
          [
           "Manhattan"
          ],
          [
           "Manhattan"
          ],
          [
           "Manhattan"
          ],
          [
           "Manhattan"
          ],
          [
           "Manhattan"
          ],
          [
           "Manhattan"
          ],
          [
           "Manhattan"
          ],
          [
           "Manhattan"
          ],
          [
           "Manhattan"
          ],
          [
           "Manhattan"
          ],
          [
           "Manhattan"
          ],
          [
           "Manhattan"
          ],
          [
           "Manhattan"
          ],
          [
           "Manhattan"
          ],
          [
           "Manhattan"
          ],
          [
           "Manhattan"
          ],
          [
           "Manhattan"
          ],
          [
           "Manhattan"
          ],
          [
           "Manhattan"
          ],
          [
           "Manhattan"
          ],
          [
           "Manhattan"
          ],
          [
           "Manhattan"
          ],
          [
           "Manhattan"
          ],
          [
           "Manhattan"
          ],
          [
           "Manhattan"
          ],
          [
           "Manhattan"
          ],
          [
           "Manhattan"
          ],
          [
           "Manhattan"
          ],
          [
           "Manhattan"
          ],
          [
           "Manhattan"
          ],
          [
           "Manhattan"
          ],
          [
           "Manhattan"
          ],
          [
           "Manhattan"
          ],
          [
           "Manhattan"
          ],
          [
           "Manhattan"
          ],
          [
           "Manhattan"
          ],
          [
           "Manhattan"
          ],
          [
           "Manhattan"
          ],
          [
           "Manhattan"
          ],
          [
           "Manhattan"
          ],
          [
           "Manhattan"
          ],
          [
           "Manhattan"
          ],
          [
           "Manhattan"
          ],
          [
           "Manhattan"
          ],
          [
           "Manhattan"
          ],
          [
           "Manhattan"
          ],
          [
           "Manhattan"
          ],
          [
           "Manhattan"
          ],
          [
           "Manhattan"
          ],
          [
           "Manhattan"
          ],
          [
           "Manhattan"
          ],
          [
           "Manhattan"
          ],
          [
           "Manhattan"
          ],
          [
           "Manhattan"
          ],
          [
           "Manhattan"
          ],
          [
           "Manhattan"
          ],
          [
           "Manhattan"
          ],
          [
           "Manhattan"
          ],
          [
           "Manhattan"
          ],
          [
           "Manhattan"
          ],
          [
           "Manhattan"
          ],
          [
           "Manhattan"
          ],
          [
           "Manhattan"
          ],
          [
           "Manhattan"
          ],
          [
           "Manhattan"
          ],
          [
           "Manhattan"
          ],
          [
           "Manhattan"
          ],
          [
           "Manhattan"
          ],
          [
           "Manhattan"
          ],
          [
           "Manhattan"
          ],
          [
           "Manhattan"
          ],
          [
           "Manhattan"
          ],
          [
           "Manhattan"
          ],
          [
           "Manhattan"
          ],
          [
           "Manhattan"
          ],
          [
           "Manhattan"
          ],
          [
           "Manhattan"
          ],
          [
           "Manhattan"
          ],
          [
           "Manhattan"
          ],
          [
           "Manhattan"
          ],
          [
           "Manhattan"
          ],
          [
           "Manhattan"
          ],
          [
           "Manhattan"
          ],
          [
           "Manhattan"
          ],
          [
           "Manhattan"
          ],
          [
           "Manhattan"
          ],
          [
           "Manhattan"
          ],
          [
           "Manhattan"
          ],
          [
           "Manhattan"
          ],
          [
           "Manhattan"
          ],
          [
           "Manhattan"
          ],
          [
           "Manhattan"
          ],
          [
           "Manhattan"
          ],
          [
           "Manhattan"
          ],
          [
           "Manhattan"
          ],
          [
           "Manhattan"
          ],
          [
           "Manhattan"
          ],
          [
           "Manhattan"
          ],
          [
           "Manhattan"
          ],
          [
           "Manhattan"
          ],
          [
           "Manhattan"
          ],
          [
           "Manhattan"
          ],
          [
           "Manhattan"
          ],
          [
           "Manhattan"
          ],
          [
           "Manhattan"
          ],
          [
           "Manhattan"
          ],
          [
           "Manhattan"
          ],
          [
           "Manhattan"
          ],
          [
           "Manhattan"
          ],
          [
           "Manhattan"
          ],
          [
           "Manhattan"
          ],
          [
           "Manhattan"
          ],
          [
           "Manhattan"
          ],
          [
           "Manhattan"
          ],
          [
           "Manhattan"
          ],
          [
           "Manhattan"
          ],
          [
           "Manhattan"
          ],
          [
           "Manhattan"
          ],
          [
           "Manhattan"
          ],
          [
           "Manhattan"
          ],
          [
           "Manhattan"
          ],
          [
           "Manhattan"
          ],
          [
           "Manhattan"
          ],
          [
           "Manhattan"
          ],
          [
           "Manhattan"
          ],
          [
           "Manhattan"
          ],
          [
           "Manhattan"
          ],
          [
           "Manhattan"
          ],
          [
           "Manhattan"
          ],
          [
           "Manhattan"
          ],
          [
           "Manhattan"
          ],
          [
           "Manhattan"
          ],
          [
           "Manhattan"
          ],
          [
           "Manhattan"
          ],
          [
           "Manhattan"
          ],
          [
           "Manhattan"
          ],
          [
           "Manhattan"
          ],
          [
           "Manhattan"
          ],
          [
           "Manhattan"
          ],
          [
           "Manhattan"
          ],
          [
           "Manhattan"
          ],
          [
           "Manhattan"
          ],
          [
           "Manhattan"
          ],
          [
           "Manhattan"
          ],
          [
           "Manhattan"
          ],
          [
           "Manhattan"
          ],
          [
           "Manhattan"
          ],
          [
           "Manhattan"
          ],
          [
           "Manhattan"
          ],
          [
           "Manhattan"
          ],
          [
           "Manhattan"
          ],
          [
           "Manhattan"
          ],
          [
           "Manhattan"
          ],
          [
           "Manhattan"
          ],
          [
           "Manhattan"
          ],
          [
           "Manhattan"
          ],
          [
           "Manhattan"
          ],
          [
           "Manhattan"
          ],
          [
           "Manhattan"
          ],
          [
           "Manhattan"
          ],
          [
           "Manhattan"
          ],
          [
           "Manhattan"
          ],
          [
           "Manhattan"
          ],
          [
           "Manhattan"
          ],
          [
           "Manhattan"
          ],
          [
           "Manhattan"
          ],
          [
           "Manhattan"
          ],
          [
           "Manhattan"
          ],
          [
           "Manhattan"
          ],
          [
           "Manhattan"
          ],
          [
           "Manhattan"
          ],
          [
           "Manhattan"
          ],
          [
           "Manhattan"
          ],
          [
           "Manhattan"
          ],
          [
           "Manhattan"
          ],
          [
           "Manhattan"
          ],
          [
           "Manhattan"
          ],
          [
           "Manhattan"
          ],
          [
           "Manhattan"
          ],
          [
           "Manhattan"
          ],
          [
           "Manhattan"
          ],
          [
           "Manhattan"
          ],
          [
           "Manhattan"
          ],
          [
           "Manhattan"
          ],
          [
           "Manhattan"
          ],
          [
           "Manhattan"
          ],
          [
           "Manhattan"
          ],
          [
           "Manhattan"
          ],
          [
           "Manhattan"
          ],
          [
           "Manhattan"
          ],
          [
           "Manhattan"
          ],
          [
           "Manhattan"
          ],
          [
           "Manhattan"
          ],
          [
           "Manhattan"
          ],
          [
           "Manhattan"
          ],
          [
           "Manhattan"
          ],
          [
           "Manhattan"
          ],
          [
           "Manhattan"
          ],
          [
           "Manhattan"
          ],
          [
           "Manhattan"
          ],
          [
           "Manhattan"
          ],
          [
           "Manhattan"
          ],
          [
           "Manhattan"
          ],
          [
           "Manhattan"
          ],
          [
           "Manhattan"
          ],
          [
           "Manhattan"
          ],
          [
           "Manhattan"
          ],
          [
           "Manhattan"
          ],
          [
           "Manhattan"
          ],
          [
           "Manhattan"
          ],
          [
           "Manhattan"
          ],
          [
           "Manhattan"
          ],
          [
           "Manhattan"
          ],
          [
           "Manhattan"
          ],
          [
           "Manhattan"
          ],
          [
           "Manhattan"
          ],
          [
           "Manhattan"
          ],
          [
           "Manhattan"
          ],
          [
           "Manhattan"
          ],
          [
           "Manhattan"
          ],
          [
           "Manhattan"
          ],
          [
           "Manhattan"
          ],
          [
           "Manhattan"
          ],
          [
           "Manhattan"
          ],
          [
           "Manhattan"
          ],
          [
           "Manhattan"
          ],
          [
           "Manhattan"
          ],
          [
           "Manhattan"
          ],
          [
           "Manhattan"
          ],
          [
           "Manhattan"
          ],
          [
           "Manhattan"
          ],
          [
           "Manhattan"
          ],
          [
           "Manhattan"
          ],
          [
           "Manhattan"
          ],
          [
           "Manhattan"
          ],
          [
           "Manhattan"
          ],
          [
           "Manhattan"
          ],
          [
           "Manhattan"
          ],
          [
           "Manhattan"
          ],
          [
           "Manhattan"
          ],
          [
           "Manhattan"
          ],
          [
           "Manhattan"
          ],
          [
           "Manhattan"
          ],
          [
           "Manhattan"
          ],
          [
           "Manhattan"
          ],
          [
           "Manhattan"
          ],
          [
           "Manhattan"
          ],
          [
           "Manhattan"
          ],
          [
           "Manhattan"
          ],
          [
           "Manhattan"
          ],
          [
           "Manhattan"
          ],
          [
           "Manhattan"
          ],
          [
           "Manhattan"
          ],
          [
           "Manhattan"
          ],
          [
           "Manhattan"
          ],
          [
           "Manhattan"
          ],
          [
           "Manhattan"
          ],
          [
           "Manhattan"
          ],
          [
           "Manhattan"
          ],
          [
           "Manhattan"
          ],
          [
           "Manhattan"
          ],
          [
           "Manhattan"
          ],
          [
           "Manhattan"
          ],
          [
           "Manhattan"
          ],
          [
           "Manhattan"
          ],
          [
           "Manhattan"
          ],
          [
           "Manhattan"
          ],
          [
           "Manhattan"
          ],
          [
           "Manhattan"
          ],
          [
           "Manhattan"
          ],
          [
           "Manhattan"
          ],
          [
           "Manhattan"
          ],
          [
           "Manhattan"
          ],
          [
           "Manhattan"
          ],
          [
           "Manhattan"
          ],
          [
           "Manhattan"
          ],
          [
           "Manhattan"
          ],
          [
           "Manhattan"
          ],
          [
           "Manhattan"
          ],
          [
           "Manhattan"
          ],
          [
           "Manhattan"
          ],
          [
           "Manhattan"
          ],
          [
           "Manhattan"
          ],
          [
           "Manhattan"
          ],
          [
           "Manhattan"
          ],
          [
           "Manhattan"
          ],
          [
           "Manhattan"
          ],
          [
           "Manhattan"
          ],
          [
           "Manhattan"
          ]
         ],
         "fillcolor": "rgba(255,255,255,0)",
         "hoveron": "points",
         "hovertemplate": "municipio=%{customdata[0]}<br>price=%{x}<extra></extra>",
         "jitter": 0,
         "legendgroup": "Manhattan",
         "line": {
          "color": "rgba(255,255,255,0)"
         },
         "marker": {
          "color": "#EF553B",
          "symbol": "line-ns-open"
         },
         "name": "Manhattan",
         "offsetgroup": "Manhattan",
         "showlegend": false,
         "type": "box",
         "x": [
          225,
          150,
          80,
          200,
          79,
          79,
          150,
          135,
          85,
          85,
          120,
          140,
          190,
          80,
          150,
          44,
          180,
          50,
          52,
          50,
          40,
          68,
          135,
          150,
          151,
          200,
          110,
          69,
          180,
          375,
          250,
          52,
          80,
          99,
          225,
          230,
          51,
          65,
          190,
          200,
          150,
          110,
          285,
          94,
          60,
          50,
          140,
          89,
          98,
          60,
          65,
          500,
          100,
          59,
          140,
          350,
          199,
          235,
          225,
          170,
          170,
          100,
          150,
          85,
          120,
          185,
          105,
          130,
          115,
          195,
          156,
          69,
          225,
          219,
          99,
          250,
          80,
          125,
          196,
          170,
          165,
          150,
          100,
          99,
          75,
          125,
          275,
          299,
          130,
          83,
          123,
          195,
          105,
          200,
          121,
          100,
          130,
          199,
          130,
          64,
          189,
          250,
          239,
          305,
          155,
          60,
          120,
          150,
          250,
          250,
          500,
          225,
          125,
          92,
          175,
          99,
          195,
          140,
          135,
          500,
          80,
          120,
          110,
          130,
          175,
          205,
          390,
          75,
          200,
          90,
          68,
          115,
          129,
          75,
          212,
          95,
          135,
          124,
          122,
          109,
          85,
          195,
          575,
          150,
          90,
          65,
          500,
          250,
          125,
          200,
          110,
          113,
          250,
          150,
          150,
          71,
          169,
          225,
          139,
          95,
          150,
          125,
          130,
          65,
          67,
          212,
          249,
          60,
          120,
          169,
          90,
          225,
          85,
          211,
          145,
          65,
          99,
          290,
          87,
          110,
          395,
          189,
          85,
          122,
          170,
          130,
          132,
          185,
          375,
          175,
          150,
          259,
          96,
          200,
          95,
          295,
          175,
          165,
          250,
          250,
          95,
          55,
          300,
          175,
          75,
          150,
          200,
          200,
          295,
          198,
          99,
          140,
          75,
          250,
          75,
          205,
          185,
          190,
          250,
          175,
          65,
          79,
          170,
          115,
          89,
          49,
          400,
          2000,
          100,
          429,
          189,
          120,
          300,
          199,
          120,
          199,
          100,
          250,
          165,
          99,
          255,
          169,
          110,
          150,
          149,
          89,
          50,
          149,
          68,
          75,
          90,
          160,
          190,
          95,
          150,
          250,
          80,
          230,
          200,
          300,
          80,
          199,
          199,
          100,
          55,
          146,
          250,
          150,
          199,
          69,
          300,
          125,
          288,
          225,
          110,
          130,
          89,
          135,
          90,
          270,
          145,
          179,
          110,
          325,
          130,
          190,
          200,
          160,
          195,
          241,
          300,
          100,
          399,
          200,
          71,
          226,
          135,
          154,
          700,
          246,
          125,
          119,
          125,
          400,
          850,
          140,
          115,
          200,
          185,
          81,
          495,
          760,
          325,
          195,
          58,
          189,
          145,
          101,
          95,
          375,
          153,
          80,
          300,
          88,
          155,
          225,
          85,
          200,
          485,
          310,
          109,
          167,
          220,
          195,
          199,
          65,
          99,
          130,
          350,
          250,
          125,
          300,
          150,
          56,
          299,
          1300,
          200,
          99,
          110,
          85,
          139,
          50,
          250,
          300,
          200,
          130,
          90,
          180,
          175,
          240,
          300,
          385,
          75,
          165,
          179,
          219,
          450,
          249,
          139,
          209,
          90,
          199,
          110,
          150,
          300,
          190,
          250,
          140,
          150,
          90,
          295,
          150,
          99,
          75,
          75,
          109,
          86,
          99,
          89,
          199,
          110,
          135,
          245,
          115,
          120,
          499,
          109,
          219,
          159,
          150,
          106,
          299,
          179,
          250,
          87,
          75,
          80,
          125,
          387,
          95,
          99,
          121,
          350,
          75,
          95,
          89,
          195,
          160,
          100,
          140,
          189,
          265,
          60,
          129,
          199,
          110,
          135,
          115,
          175,
          3000,
          549,
          145,
          200,
          160,
          180,
          100,
          105,
          250,
          74,
          165,
          99,
          125,
          104,
          225,
          100,
          350,
          135,
          125,
          225,
          85,
          200,
          90,
          300,
          125,
          125,
          145,
          147
         ],
         "xaxis": "x7",
         "yaxis": "y7"
        },
        {
         "alignmentgroup": "True",
         "bingroup": "x",
         "histfunc": "sum",
         "hovertemplate": "municipio=Queens<br>price=%{x}<br>sum of number_of_reviews=%{y}<extra></extra>",
         "legendgroup": "Queens",
         "marker": {
          "color": "#00cc96",
          "pattern": {
           "shape": ""
          }
         },
         "name": "Queens",
         "nbinsx": 200,
         "offsetgroup": "Queens",
         "orientation": "v",
         "showlegend": true,
         "type": "histogram",
         "x": [
          130,
          70,
          140,
          79,
          350,
          55,
          98,
          140,
          265,
          140,
          140,
          99,
          115,
          80,
          50,
          70,
          110,
          97,
          129,
          42,
          42,
          33,
          107,
          95,
          75,
          50,
          95,
          55,
          75,
          75,
          79,
          54,
          80,
          75,
          73,
          55,
          96,
          85,
          30,
          65,
          70,
          192,
          55,
          52,
          75,
          45,
          75
         ],
         "xaxis": "x3",
         "y": [
          248,
          25,
          1,
          28,
          10,
          52,
          33,
          6,
          38,
          17,
          1,
          441,
          198,
          42,
          43,
          13,
          30,
          28,
          414,
          53,
          41,
          31,
          21,
          24,
          160,
          258,
          24,
          19,
          65,
          49,
          60,
          56,
          81,
          20,
          95,
          38,
          244,
          270,
          3,
          5,
          1,
          7,
          63,
          98,
          59,
          8,
          16
         ],
         "yaxis": "y3"
        },
        {
         "alignmentgroup": "True",
         "boxpoints": "all",
         "customdata": [
          [
           "Queens"
          ],
          [
           "Queens"
          ],
          [
           "Queens"
          ],
          [
           "Queens"
          ],
          [
           "Queens"
          ],
          [
           "Queens"
          ],
          [
           "Queens"
          ],
          [
           "Queens"
          ],
          [
           "Queens"
          ],
          [
           "Queens"
          ],
          [
           "Queens"
          ],
          [
           "Queens"
          ],
          [
           "Queens"
          ],
          [
           "Queens"
          ],
          [
           "Queens"
          ],
          [
           "Queens"
          ],
          [
           "Queens"
          ],
          [
           "Queens"
          ],
          [
           "Queens"
          ],
          [
           "Queens"
          ],
          [
           "Queens"
          ],
          [
           "Queens"
          ],
          [
           "Queens"
          ],
          [
           "Queens"
          ],
          [
           "Queens"
          ],
          [
           "Queens"
          ],
          [
           "Queens"
          ],
          [
           "Queens"
          ],
          [
           "Queens"
          ],
          [
           "Queens"
          ],
          [
           "Queens"
          ],
          [
           "Queens"
          ],
          [
           "Queens"
          ],
          [
           "Queens"
          ],
          [
           "Queens"
          ],
          [
           "Queens"
          ],
          [
           "Queens"
          ],
          [
           "Queens"
          ],
          [
           "Queens"
          ],
          [
           "Queens"
          ],
          [
           "Queens"
          ],
          [
           "Queens"
          ],
          [
           "Queens"
          ],
          [
           "Queens"
          ],
          [
           "Queens"
          ],
          [
           "Queens"
          ],
          [
           "Queens"
          ]
         ],
         "fillcolor": "rgba(255,255,255,0)",
         "hoveron": "points",
         "hovertemplate": "municipio=%{customdata[0]}<br>price=%{x}<extra></extra>",
         "jitter": 0,
         "legendgroup": "Queens",
         "line": {
          "color": "rgba(255,255,255,0)"
         },
         "marker": {
          "color": "#00cc96",
          "symbol": "line-ns-open"
         },
         "name": "Queens",
         "offsetgroup": "Queens",
         "showlegend": false,
         "type": "box",
         "x": [
          130,
          70,
          140,
          79,
          350,
          55,
          98,
          140,
          265,
          140,
          140,
          99,
          115,
          80,
          50,
          70,
          110,
          97,
          129,
          42,
          42,
          33,
          107,
          95,
          75,
          50,
          95,
          55,
          75,
          75,
          79,
          54,
          80,
          75,
          73,
          55,
          96,
          85,
          30,
          65,
          70,
          192,
          55,
          52,
          75,
          45,
          75
         ],
         "xaxis": "x8",
         "yaxis": "y8"
        },
        {
         "alignmentgroup": "True",
         "bingroup": "x",
         "histfunc": "sum",
         "hovertemplate": "municipio=Staten Island<br>price=%{x}<br>sum of number_of_reviews=%{y}<extra></extra>",
         "legendgroup": "Staten Island",
         "marker": {
          "color": "#ab63fa",
          "pattern": {
           "shape": ""
          }
         },
         "name": "Staten Island",
         "nbinsx": 200,
         "offsetgroup": "Staten Island",
         "orientation": "v",
         "showlegend": true,
         "type": "histogram",
         "x": [
          70,
          36,
          37,
          37,
          36,
          80,
          75,
          250,
          50,
          125,
          59,
          20,
          110
         ],
         "xaxis": "x4",
         "y": [
          166,
          193,
          147,
          177,
          333,
          2,
          76,
          21,
          0,
          8,
          50,
          80,
          6
         ],
         "yaxis": "y4"
        },
        {
         "alignmentgroup": "True",
         "boxpoints": "all",
         "customdata": [
          [
           "Staten Island"
          ],
          [
           "Staten Island"
          ],
          [
           "Staten Island"
          ],
          [
           "Staten Island"
          ],
          [
           "Staten Island"
          ],
          [
           "Staten Island"
          ],
          [
           "Staten Island"
          ],
          [
           "Staten Island"
          ],
          [
           "Staten Island"
          ],
          [
           "Staten Island"
          ],
          [
           "Staten Island"
          ],
          [
           "Staten Island"
          ],
          [
           "Staten Island"
          ]
         ],
         "fillcolor": "rgba(255,255,255,0)",
         "hoveron": "points",
         "hovertemplate": "municipio=%{customdata[0]}<br>price=%{x}<extra></extra>",
         "jitter": 0,
         "legendgroup": "Staten Island",
         "line": {
          "color": "rgba(255,255,255,0)"
         },
         "marker": {
          "color": "#ab63fa",
          "symbol": "line-ns-open"
         },
         "name": "Staten Island",
         "offsetgroup": "Staten Island",
         "showlegend": false,
         "type": "box",
         "x": [
          70,
          36,
          37,
          37,
          36,
          80,
          75,
          250,
          50,
          125,
          59,
          20,
          110
         ],
         "xaxis": "x9",
         "yaxis": "y9"
        },
        {
         "alignmentgroup": "True",
         "bingroup": "x",
         "histfunc": "sum",
         "hovertemplate": "municipio=Bronx<br>price=%{x}<br>sum of number_of_reviews=%{y}<extra></extra>",
         "legendgroup": "Bronx",
         "marker": {
          "color": "#FFA15A",
          "pattern": {
           "shape": ""
          }
         },
         "name": "Bronx",
         "nbinsx": 200,
         "offsetgroup": "Bronx",
         "orientation": "v",
         "showlegend": true,
         "type": "histogram",
         "x": [
          40,
          45,
          90,
          105,
          90,
          77,
          37,
          125,
          50,
          50,
          42,
          50,
          120
         ],
         "xaxis": "x5",
         "y": [
          219,
          138,
          0,
          38,
          4,
          197,
          117,
          271,
          258,
          235,
          108,
          15,
          47
         ],
         "yaxis": "y5"
        },
        {
         "alignmentgroup": "True",
         "boxpoints": "all",
         "customdata": [
          [
           "Bronx"
          ],
          [
           "Bronx"
          ],
          [
           "Bronx"
          ],
          [
           "Bronx"
          ],
          [
           "Bronx"
          ],
          [
           "Bronx"
          ],
          [
           "Bronx"
          ],
          [
           "Bronx"
          ],
          [
           "Bronx"
          ],
          [
           "Bronx"
          ],
          [
           "Bronx"
          ],
          [
           "Bronx"
          ],
          [
           "Bronx"
          ]
         ],
         "fillcolor": "rgba(255,255,255,0)",
         "hoveron": "points",
         "hovertemplate": "municipio=%{customdata[0]}<br>price=%{x}<extra></extra>",
         "jitter": 0,
         "legendgroup": "Bronx",
         "line": {
          "color": "rgba(255,255,255,0)"
         },
         "marker": {
          "color": "#FFA15A",
          "symbol": "line-ns-open"
         },
         "name": "Bronx",
         "offsetgroup": "Bronx",
         "showlegend": false,
         "type": "box",
         "x": [
          40,
          45,
          90,
          105,
          90,
          77,
          37,
          125,
          50,
          50,
          42,
          50,
          120
         ],
         "xaxis": "x10",
         "yaxis": "y10"
        }
       ],
       "layout": {
        "annotations": [
         {
          "font": {},
          "showarrow": false,
          "text": "municipio=Brooklyn",
          "x": 0.09200000000000001,
          "xanchor": "center",
          "xref": "paper",
          "y": 1,
          "yanchor": "bottom",
          "yref": "paper"
         },
         {
          "font": {},
          "showarrow": false,
          "text": "municipio=Manhattan",
          "x": 0.29600000000000004,
          "xanchor": "center",
          "xref": "paper",
          "y": 1,
          "yanchor": "bottom",
          "yref": "paper"
         },
         {
          "font": {},
          "showarrow": false,
          "text": "municipio=Queens",
          "x": 0.5,
          "xanchor": "center",
          "xref": "paper",
          "y": 1,
          "yanchor": "bottom",
          "yref": "paper"
         },
         {
          "font": {},
          "showarrow": false,
          "text": "municipio=Staten Island",
          "x": 0.7040000000000002,
          "xanchor": "center",
          "xref": "paper",
          "y": 1,
          "yanchor": "bottom",
          "yref": "paper"
         },
         {
          "font": {},
          "showarrow": false,
          "text": "municipio=Bronx",
          "x": 0.908,
          "xanchor": "center",
          "xref": "paper",
          "y": 1,
          "yanchor": "bottom",
          "yref": "paper"
         }
        ],
        "barmode": "relative",
        "legend": {
         "title": {
          "text": "municipio"
         },
         "tracegroupgap": 0
        },
        "margin": {
         "t": 60
        },
        "template": {
         "data": {
          "bar": [
           {
            "error_x": {
             "color": "#2a3f5f"
            },
            "error_y": {
             "color": "#2a3f5f"
            },
            "marker": {
             "line": {
              "color": "#E5ECF6",
              "width": 0.5
             },
             "pattern": {
              "fillmode": "overlay",
              "size": 10,
              "solidity": 0.2
             }
            },
            "type": "bar"
           }
          ],
          "barpolar": [
           {
            "marker": {
             "line": {
              "color": "#E5ECF6",
              "width": 0.5
             },
             "pattern": {
              "fillmode": "overlay",
              "size": 10,
              "solidity": 0.2
             }
            },
            "type": "barpolar"
           }
          ],
          "carpet": [
           {
            "aaxis": {
             "endlinecolor": "#2a3f5f",
             "gridcolor": "white",
             "linecolor": "white",
             "minorgridcolor": "white",
             "startlinecolor": "#2a3f5f"
            },
            "baxis": {
             "endlinecolor": "#2a3f5f",
             "gridcolor": "white",
             "linecolor": "white",
             "minorgridcolor": "white",
             "startlinecolor": "#2a3f5f"
            },
            "type": "carpet"
           }
          ],
          "choropleth": [
           {
            "colorbar": {
             "outlinewidth": 0,
             "ticks": ""
            },
            "type": "choropleth"
           }
          ],
          "contour": [
           {
            "colorbar": {
             "outlinewidth": 0,
             "ticks": ""
            },
            "colorscale": [
             [
              0,
              "#0d0887"
             ],
             [
              0.1111111111111111,
              "#46039f"
             ],
             [
              0.2222222222222222,
              "#7201a8"
             ],
             [
              0.3333333333333333,
              "#9c179e"
             ],
             [
              0.4444444444444444,
              "#bd3786"
             ],
             [
              0.5555555555555556,
              "#d8576b"
             ],
             [
              0.6666666666666666,
              "#ed7953"
             ],
             [
              0.7777777777777778,
              "#fb9f3a"
             ],
             [
              0.8888888888888888,
              "#fdca26"
             ],
             [
              1,
              "#f0f921"
             ]
            ],
            "type": "contour"
           }
          ],
          "contourcarpet": [
           {
            "colorbar": {
             "outlinewidth": 0,
             "ticks": ""
            },
            "type": "contourcarpet"
           }
          ],
          "heatmap": [
           {
            "colorbar": {
             "outlinewidth": 0,
             "ticks": ""
            },
            "colorscale": [
             [
              0,
              "#0d0887"
             ],
             [
              0.1111111111111111,
              "#46039f"
             ],
             [
              0.2222222222222222,
              "#7201a8"
             ],
             [
              0.3333333333333333,
              "#9c179e"
             ],
             [
              0.4444444444444444,
              "#bd3786"
             ],
             [
              0.5555555555555556,
              "#d8576b"
             ],
             [
              0.6666666666666666,
              "#ed7953"
             ],
             [
              0.7777777777777778,
              "#fb9f3a"
             ],
             [
              0.8888888888888888,
              "#fdca26"
             ],
             [
              1,
              "#f0f921"
             ]
            ],
            "type": "heatmap"
           }
          ],
          "heatmapgl": [
           {
            "colorbar": {
             "outlinewidth": 0,
             "ticks": ""
            },
            "colorscale": [
             [
              0,
              "#0d0887"
             ],
             [
              0.1111111111111111,
              "#46039f"
             ],
             [
              0.2222222222222222,
              "#7201a8"
             ],
             [
              0.3333333333333333,
              "#9c179e"
             ],
             [
              0.4444444444444444,
              "#bd3786"
             ],
             [
              0.5555555555555556,
              "#d8576b"
             ],
             [
              0.6666666666666666,
              "#ed7953"
             ],
             [
              0.7777777777777778,
              "#fb9f3a"
             ],
             [
              0.8888888888888888,
              "#fdca26"
             ],
             [
              1,
              "#f0f921"
             ]
            ],
            "type": "heatmapgl"
           }
          ],
          "histogram": [
           {
            "marker": {
             "pattern": {
              "fillmode": "overlay",
              "size": 10,
              "solidity": 0.2
             }
            },
            "type": "histogram"
           }
          ],
          "histogram2d": [
           {
            "colorbar": {
             "outlinewidth": 0,
             "ticks": ""
            },
            "colorscale": [
             [
              0,
              "#0d0887"
             ],
             [
              0.1111111111111111,
              "#46039f"
             ],
             [
              0.2222222222222222,
              "#7201a8"
             ],
             [
              0.3333333333333333,
              "#9c179e"
             ],
             [
              0.4444444444444444,
              "#bd3786"
             ],
             [
              0.5555555555555556,
              "#d8576b"
             ],
             [
              0.6666666666666666,
              "#ed7953"
             ],
             [
              0.7777777777777778,
              "#fb9f3a"
             ],
             [
              0.8888888888888888,
              "#fdca26"
             ],
             [
              1,
              "#f0f921"
             ]
            ],
            "type": "histogram2d"
           }
          ],
          "histogram2dcontour": [
           {
            "colorbar": {
             "outlinewidth": 0,
             "ticks": ""
            },
            "colorscale": [
             [
              0,
              "#0d0887"
             ],
             [
              0.1111111111111111,
              "#46039f"
             ],
             [
              0.2222222222222222,
              "#7201a8"
             ],
             [
              0.3333333333333333,
              "#9c179e"
             ],
             [
              0.4444444444444444,
              "#bd3786"
             ],
             [
              0.5555555555555556,
              "#d8576b"
             ],
             [
              0.6666666666666666,
              "#ed7953"
             ],
             [
              0.7777777777777778,
              "#fb9f3a"
             ],
             [
              0.8888888888888888,
              "#fdca26"
             ],
             [
              1,
              "#f0f921"
             ]
            ],
            "type": "histogram2dcontour"
           }
          ],
          "mesh3d": [
           {
            "colorbar": {
             "outlinewidth": 0,
             "ticks": ""
            },
            "type": "mesh3d"
           }
          ],
          "parcoords": [
           {
            "line": {
             "colorbar": {
              "outlinewidth": 0,
              "ticks": ""
             }
            },
            "type": "parcoords"
           }
          ],
          "pie": [
           {
            "automargin": true,
            "type": "pie"
           }
          ],
          "scatter": [
           {
            "fillpattern": {
             "fillmode": "overlay",
             "size": 10,
             "solidity": 0.2
            },
            "type": "scatter"
           }
          ],
          "scatter3d": [
           {
            "line": {
             "colorbar": {
              "outlinewidth": 0,
              "ticks": ""
             }
            },
            "marker": {
             "colorbar": {
              "outlinewidth": 0,
              "ticks": ""
             }
            },
            "type": "scatter3d"
           }
          ],
          "scattercarpet": [
           {
            "marker": {
             "colorbar": {
              "outlinewidth": 0,
              "ticks": ""
             }
            },
            "type": "scattercarpet"
           }
          ],
          "scattergeo": [
           {
            "marker": {
             "colorbar": {
              "outlinewidth": 0,
              "ticks": ""
             }
            },
            "type": "scattergeo"
           }
          ],
          "scattergl": [
           {
            "marker": {
             "colorbar": {
              "outlinewidth": 0,
              "ticks": ""
             }
            },
            "type": "scattergl"
           }
          ],
          "scattermapbox": [
           {
            "marker": {
             "colorbar": {
              "outlinewidth": 0,
              "ticks": ""
             }
            },
            "type": "scattermapbox"
           }
          ],
          "scatterpolar": [
           {
            "marker": {
             "colorbar": {
              "outlinewidth": 0,
              "ticks": ""
             }
            },
            "type": "scatterpolar"
           }
          ],
          "scatterpolargl": [
           {
            "marker": {
             "colorbar": {
              "outlinewidth": 0,
              "ticks": ""
             }
            },
            "type": "scatterpolargl"
           }
          ],
          "scatterternary": [
           {
            "marker": {
             "colorbar": {
              "outlinewidth": 0,
              "ticks": ""
             }
            },
            "type": "scatterternary"
           }
          ],
          "surface": [
           {
            "colorbar": {
             "outlinewidth": 0,
             "ticks": ""
            },
            "colorscale": [
             [
              0,
              "#0d0887"
             ],
             [
              0.1111111111111111,
              "#46039f"
             ],
             [
              0.2222222222222222,
              "#7201a8"
             ],
             [
              0.3333333333333333,
              "#9c179e"
             ],
             [
              0.4444444444444444,
              "#bd3786"
             ],
             [
              0.5555555555555556,
              "#d8576b"
             ],
             [
              0.6666666666666666,
              "#ed7953"
             ],
             [
              0.7777777777777778,
              "#fb9f3a"
             ],
             [
              0.8888888888888888,
              "#fdca26"
             ],
             [
              1,
              "#f0f921"
             ]
            ],
            "type": "surface"
           }
          ],
          "table": [
           {
            "cells": {
             "fill": {
              "color": "#EBF0F8"
             },
             "line": {
              "color": "white"
             }
            },
            "header": {
             "fill": {
              "color": "#C8D4E3"
             },
             "line": {
              "color": "white"
             }
            },
            "type": "table"
           }
          ]
         },
         "layout": {
          "annotationdefaults": {
           "arrowcolor": "#2a3f5f",
           "arrowhead": 0,
           "arrowwidth": 1
          },
          "autotypenumbers": "strict",
          "coloraxis": {
           "colorbar": {
            "outlinewidth": 0,
            "ticks": ""
           }
          },
          "colorscale": {
           "diverging": [
            [
             0,
             "#8e0152"
            ],
            [
             0.1,
             "#c51b7d"
            ],
            [
             0.2,
             "#de77ae"
            ],
            [
             0.3,
             "#f1b6da"
            ],
            [
             0.4,
             "#fde0ef"
            ],
            [
             0.5,
             "#f7f7f7"
            ],
            [
             0.6,
             "#e6f5d0"
            ],
            [
             0.7,
             "#b8e186"
            ],
            [
             0.8,
             "#7fbc41"
            ],
            [
             0.9,
             "#4d9221"
            ],
            [
             1,
             "#276419"
            ]
           ],
           "sequential": [
            [
             0,
             "#0d0887"
            ],
            [
             0.1111111111111111,
             "#46039f"
            ],
            [
             0.2222222222222222,
             "#7201a8"
            ],
            [
             0.3333333333333333,
             "#9c179e"
            ],
            [
             0.4444444444444444,
             "#bd3786"
            ],
            [
             0.5555555555555556,
             "#d8576b"
            ],
            [
             0.6666666666666666,
             "#ed7953"
            ],
            [
             0.7777777777777778,
             "#fb9f3a"
            ],
            [
             0.8888888888888888,
             "#fdca26"
            ],
            [
             1,
             "#f0f921"
            ]
           ],
           "sequentialminus": [
            [
             0,
             "#0d0887"
            ],
            [
             0.1111111111111111,
             "#46039f"
            ],
            [
             0.2222222222222222,
             "#7201a8"
            ],
            [
             0.3333333333333333,
             "#9c179e"
            ],
            [
             0.4444444444444444,
             "#bd3786"
            ],
            [
             0.5555555555555556,
             "#d8576b"
            ],
            [
             0.6666666666666666,
             "#ed7953"
            ],
            [
             0.7777777777777778,
             "#fb9f3a"
            ],
            [
             0.8888888888888888,
             "#fdca26"
            ],
            [
             1,
             "#f0f921"
            ]
           ]
          },
          "colorway": [
           "#636efa",
           "#EF553B",
           "#00cc96",
           "#ab63fa",
           "#FFA15A",
           "#19d3f3",
           "#FF6692",
           "#B6E880",
           "#FF97FF",
           "#FECB52"
          ],
          "font": {
           "color": "#2a3f5f"
          },
          "geo": {
           "bgcolor": "white",
           "lakecolor": "white",
           "landcolor": "#E5ECF6",
           "showlakes": true,
           "showland": true,
           "subunitcolor": "white"
          },
          "hoverlabel": {
           "align": "left"
          },
          "hovermode": "closest",
          "mapbox": {
           "style": "light"
          },
          "paper_bgcolor": "white",
          "plot_bgcolor": "#E5ECF6",
          "polar": {
           "angularaxis": {
            "gridcolor": "white",
            "linecolor": "white",
            "ticks": ""
           },
           "bgcolor": "#E5ECF6",
           "radialaxis": {
            "gridcolor": "white",
            "linecolor": "white",
            "ticks": ""
           }
          },
          "scene": {
           "xaxis": {
            "backgroundcolor": "#E5ECF6",
            "gridcolor": "white",
            "gridwidth": 2,
            "linecolor": "white",
            "showbackground": true,
            "ticks": "",
            "zerolinecolor": "white"
           },
           "yaxis": {
            "backgroundcolor": "#E5ECF6",
            "gridcolor": "white",
            "gridwidth": 2,
            "linecolor": "white",
            "showbackground": true,
            "ticks": "",
            "zerolinecolor": "white"
           },
           "zaxis": {
            "backgroundcolor": "#E5ECF6",
            "gridcolor": "white",
            "gridwidth": 2,
            "linecolor": "white",
            "showbackground": true,
            "ticks": "",
            "zerolinecolor": "white"
           }
          },
          "shapedefaults": {
           "line": {
            "color": "#2a3f5f"
           }
          },
          "ternary": {
           "aaxis": {
            "gridcolor": "white",
            "linecolor": "white",
            "ticks": ""
           },
           "baxis": {
            "gridcolor": "white",
            "linecolor": "white",
            "ticks": ""
           },
           "bgcolor": "#E5ECF6",
           "caxis": {
            "gridcolor": "white",
            "linecolor": "white",
            "ticks": ""
           }
          },
          "title": {
           "x": 0.05
          },
          "xaxis": {
           "automargin": true,
           "gridcolor": "white",
           "linecolor": "white",
           "ticks": "",
           "title": {
            "standoff": 15
           },
           "zerolinecolor": "white",
           "zerolinewidth": 2
          },
          "yaxis": {
           "automargin": true,
           "gridcolor": "white",
           "linecolor": "white",
           "ticks": "",
           "title": {
            "standoff": 15
           },
           "zerolinecolor": "white",
           "zerolinewidth": 2
          }
         }
        },
        "xaxis": {
         "anchor": "y",
         "domain": [
          0,
          0.18400000000000002
         ],
         "title": {
          "text": "price"
         }
        },
        "xaxis10": {
         "anchor": "y10",
         "domain": [
          0.8160000000000001,
          1
         ],
         "matches": "x",
         "showgrid": true,
         "showticklabels": false
        },
        "xaxis2": {
         "anchor": "y2",
         "domain": [
          0.20400000000000001,
          0.388
         ],
         "matches": "x",
         "title": {
          "text": "price"
         }
        },
        "xaxis3": {
         "anchor": "y3",
         "domain": [
          0.40800000000000003,
          0.5920000000000001
         ],
         "matches": "x",
         "title": {
          "text": "price"
         }
        },
        "xaxis4": {
         "anchor": "y4",
         "domain": [
          0.6120000000000001,
          0.7960000000000002
         ],
         "matches": "x",
         "title": {
          "text": "price"
         }
        },
        "xaxis5": {
         "anchor": "y5",
         "domain": [
          0.8160000000000001,
          1
         ],
         "matches": "x",
         "title": {
          "text": "price"
         }
        },
        "xaxis6": {
         "anchor": "y6",
         "domain": [
          0,
          0.18400000000000002
         ],
         "matches": "x",
         "showgrid": true,
         "showticklabels": false
        },
        "xaxis7": {
         "anchor": "y7",
         "domain": [
          0.20400000000000001,
          0.388
         ],
         "matches": "x",
         "showgrid": true,
         "showticklabels": false
        },
        "xaxis8": {
         "anchor": "y8",
         "domain": [
          0.40800000000000003,
          0.5920000000000001
         ],
         "matches": "x",
         "showgrid": true,
         "showticklabels": false
        },
        "xaxis9": {
         "anchor": "y9",
         "domain": [
          0.6120000000000001,
          0.7960000000000002
         ],
         "matches": "x",
         "showgrid": true,
         "showticklabels": false
        },
        "yaxis": {
         "anchor": "x",
         "domain": [
          0,
          0.7326
         ],
         "title": {
          "text": "sum of number_of_reviews"
         }
        },
        "yaxis10": {
         "anchor": "x10",
         "domain": [
          0.7426,
          1
         ],
         "matches": "y6",
         "showgrid": false,
         "showline": false,
         "showticklabels": false,
         "ticks": ""
        },
        "yaxis2": {
         "anchor": "x2",
         "domain": [
          0,
          0.7326
         ],
         "matches": "y",
         "showticklabels": false
        },
        "yaxis3": {
         "anchor": "x3",
         "domain": [
          0,
          0.7326
         ],
         "matches": "y",
         "showticklabels": false
        },
        "yaxis4": {
         "anchor": "x4",
         "domain": [
          0,
          0.7326
         ],
         "matches": "y",
         "showticklabels": false
        },
        "yaxis5": {
         "anchor": "x5",
         "domain": [
          0,
          0.7326
         ],
         "matches": "y",
         "showticklabels": false
        },
        "yaxis6": {
         "anchor": "x6",
         "domain": [
          0.7426,
          1
         ],
         "matches": "y6",
         "showgrid": false,
         "showline": false,
         "showticklabels": false,
         "ticks": ""
        },
        "yaxis7": {
         "anchor": "x7",
         "domain": [
          0.7426,
          1
         ],
         "matches": "y6",
         "showgrid": false,
         "showline": false,
         "showticklabels": false,
         "ticks": ""
        },
        "yaxis8": {
         "anchor": "x8",
         "domain": [
          0.7426,
          1
         ],
         "matches": "y6",
         "showgrid": false,
         "showline": false,
         "showticklabels": false,
         "ticks": ""
        },
        "yaxis9": {
         "anchor": "x9",
         "domain": [
          0.7426,
          1
         ],
         "matches": "y6",
         "showgrid": false,
         "showline": false,
         "showticklabels": false,
         "ticks": ""
        }
       }
      },
      "text/html": [
       "<div>                        <script type=\"text/javascript\">window.PlotlyConfig = {MathJaxConfig: 'local'};</script>\n",
       "        <script charset=\"utf-8\" src=\"https://cdn.plot.ly/plotly-2.29.1.min.js\"></script>                <div id=\"17802252-aa62-47b8-b937-681f863e545f\" class=\"plotly-graph-div\" style=\"height:100%; width:100%;\"></div>            <script type=\"text/javascript\">                                    window.PLOTLYENV=window.PLOTLYENV || {};                                    if (document.getElementById(\"17802252-aa62-47b8-b937-681f863e545f\")) {                    Plotly.newPlot(                        \"17802252-aa62-47b8-b937-681f863e545f\",                        [{\"alignmentgroup\":\"True\",\"bingroup\":\"x\",\"histfunc\":\"sum\",\"hovertemplate\":\"municipio=Brooklyn\\u003cbr\\u003eprice=%{x}\\u003cbr\\u003esum of number_of_reviews=%{y}\\u003cextra\\u003e\\u003c\\u002fextra\\u003e\",\"legendgroup\":\"Brooklyn\",\"marker\":{\"color\":\"#636efa\",\"pattern\":{\"shape\":\"\"}},\"name\":\"Brooklyn\",\"nbinsx\":200,\"offsetgroup\":\"Brooklyn\",\"orientation\":\"v\",\"showlegend\":true,\"x\":[149.0,89.0,60.0,89.0,140.0,215.0,99.0,299.0,130.0,80.0,110.0,120.0,60.0,55.0,70.0,89.0,35.0,85.0,150.0,120.0,120.0,150.0,110.0,115.0,80.0,80.0,228.0,144.0,150.0,49.0,80.0,200.0,55.0,225.0,275.0,105.0,95.0,145.0,130.0,800.0,105.0,85.0,65.0,131.0,98.0,250.0,100.0,105.0,125.0,175.0,101.0,220.0,125.0,80.0,200.0,125.0,120.0,325.0,99.0,400.0,75.0,90.0,70.0,89.0,50.0,77.0,76.0,125.0,135.0,250.0,199.0,140.0,115.0,160.0,195.0,80.0,44.0,85.0,125.0,115.0,125.0,475.0,69.0,135.0,250.0,250.0,70.0,165.0,50.0,150.0,110.0,65.0,200.0,150.0,90.0,120.0,175.0,135.0,80.0,249.0,100.0,140.0,71.0,69.0,68.0,195.0,159.0,135.0,135.0,65.0,99.0,285.0,59.0,39.0,60.0,135.0,70.0,60.0,100.0,70.0,110.0,60.0,75.0,60.0,130.0,95.0,175.0,190.0,49.0,140.0,150.0,190.0,135.0,145.0,250.0,125.0,70.0,229.0,59.0,195.0,169.0,55.0,69.0,169.0,179.0,135.0,350.0,120.0,349.0,349.0,165.0,249.0,100.0,200.0,185.0,65.0,130.0,199.0,179.0,150.0,79.0,650.0,90.0,120.0,100.0,175.0,120.0,140.0,200.0,165.0,123.0,130.0,100.0,190.0,599.0,100.0,135.0,175.0,165.0,95.0,55.0,199.0,80.0,150.0,110.0,190.0,200.0,165.0,99.0,39.0,260.0,165.0,125.0,225.0,50.0,170.0,250.0,141.0,64.0,249.0,79.0,120.0,495.0,145.0,250.0,451.0,98.0,150.0,125.0,255.0,72.0,165.0,165.0,75.0,130.0,139.0,88.0,80.0,90.0,450.0,130.0,89.0,46.0,500.0,60.0,350.0,219.0,60.0,105.0,75.0,85.0,106.0,85.0,91.0,150.0,97.0,179.0,500.0,70.0,75.0,99.0,350.0,170.0,169.0,99.0,160.0,215.0,130.0,65.0,43.0,42.0,85.0,139.0,105.0,265.0,99.0,100.0,190.0,67.0,248.0,100.0,145.0,41.0,120.0,157.0,195.0,70.0,185.0,145.0,185.0,100.0,40.0,79.0,100.0,110.0,172.0,75.0,116.0,120.0,150.0,230.0,79.0,130.0,239.0,220.0,80.0,135.0,100.0,200.0,80.0,110.0,300.0,180.0,350.0,85.0,80.0,55.0,438.0,110.0,279.0,137.0,280.0,199.0,180.0,85.0,199.0,100.0,295.0,150.0,129.0,96.0,199.0,199.0,199.0,69.0,199.0,199.0,199.0,199.0,199.0,349.0,249.0,299.0,179.0,599.0,110.0,220.0,89.0,170.0,98.0,125.0,48.0,64.0,154.0,139.0,70.0,130.0,92.0,145.0,185.0,99.0,48.0,110.0,147.0,60.0,290.0,50.0,45.0,34.0,190.0,75.0,93.0,60.0,65.0,60.0,88.0,60.0,110.0,135.0,165.0,127.0,402.0,75.0,70.0,64.0,800.0,100.0,250.0,140.0,90.0,97.0,91.0,125.0,75.0,300.0,100.0,65.0,47.0,110.0,100.0,300.0,140.0,120.0,175.0,275.0,189.0,250.0,120.0,50.0,100.0,157.0,199.0,199.0,199.0,199.0,199.0,105.0,135.0,199.0,125.0,60.0,85.0,75.0,44.0,55.0,30.0,35.0,70.0,130.0,52.0,75.0,100.0,130.0,75.0,180.0,135.0,65.0,149.0,75.0,225.0,100.0,135.0,89.0,120.0,59.0,49.0,79.0,185.0,225.0,325.0,95.0,75.0,160.0,180.0,165.0,500.0,79.0,200.0,115.0,115.0,120.0,70.0,160.0,178.0,145.0,125.0,77.0,92.0,185.0,65.0,72.0,80.0,125.0,120.0,94.0,56.0,190.0,129.0,85.0,125.0,50.0,70.0,159.0,45.0,90.0,250.0,130.0,90.0,298.0,123.0],\"xaxis\":\"x\",\"y\":[9.0,270.0,49.0,167.0,148.0,198.0,53.0,9.0,130.0,39.0,71.0,88.0,19.0,197.0,74.0,168.0,0.0,231.0,0.0,15.0,25.0,11.0,61.0,11.0,135.0,112.0,82.0,328.0,105.0,138.0,42.0,143.0,27.0,4.0,148.0,105.0,143.0,61.0,16.0,25.0,61.0,174.0,24.0,166.0,16.0,21.0,168.0,118.0,139.0,233.0,335.0,88.0,162.0,29.0,19.0,19.0,467.0,324.0,354.0,16.0,9.0,9.0,63.0,260.0,193.0,2.0,426.0,227.0,84.0,3.0,10.0,4.0,124.0,11.0,240.0,200.0,27.0,9.0,155.0,4.0,27.0,23.0,202.0,309.0,14.0,80.0,294.0,150.0,47.0,193.0,213.0,206.0,33.0,52.0,126.0,51.0,30.0,151.0,11.0,358.0,226.0,253.0,23.0,82.0,37.0,69.0,222.0,21.0,69.0,238.0,111.0,124.0,181.0,45.0,9.0,248.0,36.0,14.0,279.0,18.0,50.0,227.0,64.0,0.0,49.0,132.0,11.0,51.0,15.0,9.0,214.0,69.0,56.0,127.0,106.0,6.0,47.0,50.0,29.0,59.0,68.0,1.0,220.0,398.0,36.0,6.0,14.0,76.0,8.0,7.0,34.0,2.0,66.0,80.0,46.0,228.0,5.0,8.0,13.0,5.0,11.0,0.0,218.0,75.0,0.0,370.0,104.0,13.0,4.0,11.0,15.0,98.0,31.0,124.0,9.0,15.0,86.0,248.0,3.0,163.0,247.0,27.0,225.0,95.0,70.0,50.0,29.0,23.0,38.0,82.0,3.0,175.0,15.0,22.0,263.0,86.0,18.0,8.0,70.0,150.0,115.0,232.0,35.0,8.0,52.0,72.0,8.0,0.0,104.0,39.0,88.0,27.0,117.0,43.0,4.0,385.0,64.0,39.0,3.0,37.0,29.0,205.0,86.0,7.0,480.0,6.0,2.0,20.0,101.0,87.0,86.0,0.0,35.0,241.0,11.0,31.0,23.0,20.0,227.0,80.0,187.0,1.0,67.0,177.0,90.0,42.0,33.0,179.0,52.0,401.0,72.0,46.0,83.0,211.0,15.0,207.0,273.0,105.0,72.0,58.0,8.0,123.0,55.0,87.0,4.0,31.0,128.0,14.0,30.0,228.0,9.0,1.0,152.0,7.0,24.0,8.0,59.0,22.0,23.0,24.0,18.0,115.0,154.0,164.0,116.0,234.0,82.0,63.0,1.0,35.0,305.0,40.0,125.0,40.0,124.0,5.0,147.0,43.0,8.0,120.0,24.0,5.0,242.0,181.0,5.0,34.0,7.0,125.0,0.0,241.0,13.0,33.0,24.0,59.0,2.0,24.0,23.0,43.0,30.0,39.0,8.0,3.0,6.0,4.0,7.0,2.0,178.0,30.0,190.0,216.0,31.0,53.0,247.0,233.0,135.0,4.0,18.0,54.0,110.0,24.0,20.0,17.0,0.0,5.0,20.0,1.0,26.0,21.0,16.0,30.0,5.0,115.0,9.0,45.0,6.0,7.0,35.0,115.0,6.0,204.0,1.0,89.0,15.0,58.0,1.0,122.0,63.0,26.0,14.0,3.0,29.0,69.0,232.0,0.0,0.0,5.0,36.0,5.0,238.0,21.0,40.0,103.0,66.0,35.0,121.0,13.0,46.0,37.0,17.0,0.0,54.0,43.0,75.0,73.0,89.0,23.0,11.0,84.0,54.0,17.0,1.0,73.0,98.0,2.0,18.0,24.0,1.0,2.0,23.0,93.0,0.0,119.0,9.0,158.0,236.0,16.0,123.0,65.0,13.0,1.0,61.0,39.0,62.0,42.0,207.0,72.0,22.0,215.0,26.0,320.0,160.0,219.0,25.0,15.0,12.0,9.0,42.0,53.0,64.0,51.0,79.0,19.0,0.0,8.0,46.0,6.0,11.0,34.0,34.0,30.0,156.0,30.0,1.0,3.0,272.0,63.0,5.0,63.0,268.0,23.0,3.0,2.0,106.0,15.0,2.0,17.0,53.0,32.0,131.0,269.0],\"yaxis\":\"y\",\"type\":\"histogram\"},{\"alignmentgroup\":\"True\",\"boxpoints\":\"all\",\"customdata\":[[\"Brooklyn\"],[\"Brooklyn\"],[\"Brooklyn\"],[\"Brooklyn\"],[\"Brooklyn\"],[\"Brooklyn\"],[\"Brooklyn\"],[\"Brooklyn\"],[\"Brooklyn\"],[\"Brooklyn\"],[\"Brooklyn\"],[\"Brooklyn\"],[\"Brooklyn\"],[\"Brooklyn\"],[\"Brooklyn\"],[\"Brooklyn\"],[\"Brooklyn\"],[\"Brooklyn\"],[\"Brooklyn\"],[\"Brooklyn\"],[\"Brooklyn\"],[\"Brooklyn\"],[\"Brooklyn\"],[\"Brooklyn\"],[\"Brooklyn\"],[\"Brooklyn\"],[\"Brooklyn\"],[\"Brooklyn\"],[\"Brooklyn\"],[\"Brooklyn\"],[\"Brooklyn\"],[\"Brooklyn\"],[\"Brooklyn\"],[\"Brooklyn\"],[\"Brooklyn\"],[\"Brooklyn\"],[\"Brooklyn\"],[\"Brooklyn\"],[\"Brooklyn\"],[\"Brooklyn\"],[\"Brooklyn\"],[\"Brooklyn\"],[\"Brooklyn\"],[\"Brooklyn\"],[\"Brooklyn\"],[\"Brooklyn\"],[\"Brooklyn\"],[\"Brooklyn\"],[\"Brooklyn\"],[\"Brooklyn\"],[\"Brooklyn\"],[\"Brooklyn\"],[\"Brooklyn\"],[\"Brooklyn\"],[\"Brooklyn\"],[\"Brooklyn\"],[\"Brooklyn\"],[\"Brooklyn\"],[\"Brooklyn\"],[\"Brooklyn\"],[\"Brooklyn\"],[\"Brooklyn\"],[\"Brooklyn\"],[\"Brooklyn\"],[\"Brooklyn\"],[\"Brooklyn\"],[\"Brooklyn\"],[\"Brooklyn\"],[\"Brooklyn\"],[\"Brooklyn\"],[\"Brooklyn\"],[\"Brooklyn\"],[\"Brooklyn\"],[\"Brooklyn\"],[\"Brooklyn\"],[\"Brooklyn\"],[\"Brooklyn\"],[\"Brooklyn\"],[\"Brooklyn\"],[\"Brooklyn\"],[\"Brooklyn\"],[\"Brooklyn\"],[\"Brooklyn\"],[\"Brooklyn\"],[\"Brooklyn\"],[\"Brooklyn\"],[\"Brooklyn\"],[\"Brooklyn\"],[\"Brooklyn\"],[\"Brooklyn\"],[\"Brooklyn\"],[\"Brooklyn\"],[\"Brooklyn\"],[\"Brooklyn\"],[\"Brooklyn\"],[\"Brooklyn\"],[\"Brooklyn\"],[\"Brooklyn\"],[\"Brooklyn\"],[\"Brooklyn\"],[\"Brooklyn\"],[\"Brooklyn\"],[\"Brooklyn\"],[\"Brooklyn\"],[\"Brooklyn\"],[\"Brooklyn\"],[\"Brooklyn\"],[\"Brooklyn\"],[\"Brooklyn\"],[\"Brooklyn\"],[\"Brooklyn\"],[\"Brooklyn\"],[\"Brooklyn\"],[\"Brooklyn\"],[\"Brooklyn\"],[\"Brooklyn\"],[\"Brooklyn\"],[\"Brooklyn\"],[\"Brooklyn\"],[\"Brooklyn\"],[\"Brooklyn\"],[\"Brooklyn\"],[\"Brooklyn\"],[\"Brooklyn\"],[\"Brooklyn\"],[\"Brooklyn\"],[\"Brooklyn\"],[\"Brooklyn\"],[\"Brooklyn\"],[\"Brooklyn\"],[\"Brooklyn\"],[\"Brooklyn\"],[\"Brooklyn\"],[\"Brooklyn\"],[\"Brooklyn\"],[\"Brooklyn\"],[\"Brooklyn\"],[\"Brooklyn\"],[\"Brooklyn\"],[\"Brooklyn\"],[\"Brooklyn\"],[\"Brooklyn\"],[\"Brooklyn\"],[\"Brooklyn\"],[\"Brooklyn\"],[\"Brooklyn\"],[\"Brooklyn\"],[\"Brooklyn\"],[\"Brooklyn\"],[\"Brooklyn\"],[\"Brooklyn\"],[\"Brooklyn\"],[\"Brooklyn\"],[\"Brooklyn\"],[\"Brooklyn\"],[\"Brooklyn\"],[\"Brooklyn\"],[\"Brooklyn\"],[\"Brooklyn\"],[\"Brooklyn\"],[\"Brooklyn\"],[\"Brooklyn\"],[\"Brooklyn\"],[\"Brooklyn\"],[\"Brooklyn\"],[\"Brooklyn\"],[\"Brooklyn\"],[\"Brooklyn\"],[\"Brooklyn\"],[\"Brooklyn\"],[\"Brooklyn\"],[\"Brooklyn\"],[\"Brooklyn\"],[\"Brooklyn\"],[\"Brooklyn\"],[\"Brooklyn\"],[\"Brooklyn\"],[\"Brooklyn\"],[\"Brooklyn\"],[\"Brooklyn\"],[\"Brooklyn\"],[\"Brooklyn\"],[\"Brooklyn\"],[\"Brooklyn\"],[\"Brooklyn\"],[\"Brooklyn\"],[\"Brooklyn\"],[\"Brooklyn\"],[\"Brooklyn\"],[\"Brooklyn\"],[\"Brooklyn\"],[\"Brooklyn\"],[\"Brooklyn\"],[\"Brooklyn\"],[\"Brooklyn\"],[\"Brooklyn\"],[\"Brooklyn\"],[\"Brooklyn\"],[\"Brooklyn\"],[\"Brooklyn\"],[\"Brooklyn\"],[\"Brooklyn\"],[\"Brooklyn\"],[\"Brooklyn\"],[\"Brooklyn\"],[\"Brooklyn\"],[\"Brooklyn\"],[\"Brooklyn\"],[\"Brooklyn\"],[\"Brooklyn\"],[\"Brooklyn\"],[\"Brooklyn\"],[\"Brooklyn\"],[\"Brooklyn\"],[\"Brooklyn\"],[\"Brooklyn\"],[\"Brooklyn\"],[\"Brooklyn\"],[\"Brooklyn\"],[\"Brooklyn\"],[\"Brooklyn\"],[\"Brooklyn\"],[\"Brooklyn\"],[\"Brooklyn\"],[\"Brooklyn\"],[\"Brooklyn\"],[\"Brooklyn\"],[\"Brooklyn\"],[\"Brooklyn\"],[\"Brooklyn\"],[\"Brooklyn\"],[\"Brooklyn\"],[\"Brooklyn\"],[\"Brooklyn\"],[\"Brooklyn\"],[\"Brooklyn\"],[\"Brooklyn\"],[\"Brooklyn\"],[\"Brooklyn\"],[\"Brooklyn\"],[\"Brooklyn\"],[\"Brooklyn\"],[\"Brooklyn\"],[\"Brooklyn\"],[\"Brooklyn\"],[\"Brooklyn\"],[\"Brooklyn\"],[\"Brooklyn\"],[\"Brooklyn\"],[\"Brooklyn\"],[\"Brooklyn\"],[\"Brooklyn\"],[\"Brooklyn\"],[\"Brooklyn\"],[\"Brooklyn\"],[\"Brooklyn\"],[\"Brooklyn\"],[\"Brooklyn\"],[\"Brooklyn\"],[\"Brooklyn\"],[\"Brooklyn\"],[\"Brooklyn\"],[\"Brooklyn\"],[\"Brooklyn\"],[\"Brooklyn\"],[\"Brooklyn\"],[\"Brooklyn\"],[\"Brooklyn\"],[\"Brooklyn\"],[\"Brooklyn\"],[\"Brooklyn\"],[\"Brooklyn\"],[\"Brooklyn\"],[\"Brooklyn\"],[\"Brooklyn\"],[\"Brooklyn\"],[\"Brooklyn\"],[\"Brooklyn\"],[\"Brooklyn\"],[\"Brooklyn\"],[\"Brooklyn\"],[\"Brooklyn\"],[\"Brooklyn\"],[\"Brooklyn\"],[\"Brooklyn\"],[\"Brooklyn\"],[\"Brooklyn\"],[\"Brooklyn\"],[\"Brooklyn\"],[\"Brooklyn\"],[\"Brooklyn\"],[\"Brooklyn\"],[\"Brooklyn\"],[\"Brooklyn\"],[\"Brooklyn\"],[\"Brooklyn\"],[\"Brooklyn\"],[\"Brooklyn\"],[\"Brooklyn\"],[\"Brooklyn\"],[\"Brooklyn\"],[\"Brooklyn\"],[\"Brooklyn\"],[\"Brooklyn\"],[\"Brooklyn\"],[\"Brooklyn\"],[\"Brooklyn\"],[\"Brooklyn\"],[\"Brooklyn\"],[\"Brooklyn\"],[\"Brooklyn\"],[\"Brooklyn\"],[\"Brooklyn\"],[\"Brooklyn\"],[\"Brooklyn\"],[\"Brooklyn\"],[\"Brooklyn\"],[\"Brooklyn\"],[\"Brooklyn\"],[\"Brooklyn\"],[\"Brooklyn\"],[\"Brooklyn\"],[\"Brooklyn\"],[\"Brooklyn\"],[\"Brooklyn\"],[\"Brooklyn\"],[\"Brooklyn\"],[\"Brooklyn\"],[\"Brooklyn\"],[\"Brooklyn\"],[\"Brooklyn\"],[\"Brooklyn\"],[\"Brooklyn\"],[\"Brooklyn\"],[\"Brooklyn\"],[\"Brooklyn\"],[\"Brooklyn\"],[\"Brooklyn\"],[\"Brooklyn\"],[\"Brooklyn\"],[\"Brooklyn\"],[\"Brooklyn\"],[\"Brooklyn\"],[\"Brooklyn\"],[\"Brooklyn\"],[\"Brooklyn\"],[\"Brooklyn\"],[\"Brooklyn\"],[\"Brooklyn\"],[\"Brooklyn\"],[\"Brooklyn\"],[\"Brooklyn\"],[\"Brooklyn\"],[\"Brooklyn\"],[\"Brooklyn\"],[\"Brooklyn\"],[\"Brooklyn\"],[\"Brooklyn\"],[\"Brooklyn\"],[\"Brooklyn\"],[\"Brooklyn\"],[\"Brooklyn\"],[\"Brooklyn\"],[\"Brooklyn\"],[\"Brooklyn\"],[\"Brooklyn\"],[\"Brooklyn\"],[\"Brooklyn\"],[\"Brooklyn\"],[\"Brooklyn\"],[\"Brooklyn\"],[\"Brooklyn\"],[\"Brooklyn\"],[\"Brooklyn\"],[\"Brooklyn\"],[\"Brooklyn\"],[\"Brooklyn\"],[\"Brooklyn\"],[\"Brooklyn\"],[\"Brooklyn\"],[\"Brooklyn\"],[\"Brooklyn\"],[\"Brooklyn\"],[\"Brooklyn\"],[\"Brooklyn\"],[\"Brooklyn\"],[\"Brooklyn\"],[\"Brooklyn\"],[\"Brooklyn\"],[\"Brooklyn\"],[\"Brooklyn\"],[\"Brooklyn\"],[\"Brooklyn\"],[\"Brooklyn\"],[\"Brooklyn\"],[\"Brooklyn\"],[\"Brooklyn\"],[\"Brooklyn\"],[\"Brooklyn\"],[\"Brooklyn\"],[\"Brooklyn\"],[\"Brooklyn\"],[\"Brooklyn\"],[\"Brooklyn\"],[\"Brooklyn\"],[\"Brooklyn\"],[\"Brooklyn\"],[\"Brooklyn\"],[\"Brooklyn\"],[\"Brooklyn\"],[\"Brooklyn\"],[\"Brooklyn\"],[\"Brooklyn\"],[\"Brooklyn\"],[\"Brooklyn\"],[\"Brooklyn\"],[\"Brooklyn\"],[\"Brooklyn\"],[\"Brooklyn\"],[\"Brooklyn\"],[\"Brooklyn\"],[\"Brooklyn\"],[\"Brooklyn\"],[\"Brooklyn\"],[\"Brooklyn\"],[\"Brooklyn\"],[\"Brooklyn\"],[\"Brooklyn\"],[\"Brooklyn\"],[\"Brooklyn\"],[\"Brooklyn\"],[\"Brooklyn\"],[\"Brooklyn\"],[\"Brooklyn\"],[\"Brooklyn\"],[\"Brooklyn\"],[\"Brooklyn\"],[\"Brooklyn\"],[\"Brooklyn\"],[\"Brooklyn\"],[\"Brooklyn\"],[\"Brooklyn\"],[\"Brooklyn\"],[\"Brooklyn\"],[\"Brooklyn\"],[\"Brooklyn\"],[\"Brooklyn\"],[\"Brooklyn\"],[\"Brooklyn\"],[\"Brooklyn\"],[\"Brooklyn\"],[\"Brooklyn\"],[\"Brooklyn\"],[\"Brooklyn\"],[\"Brooklyn\"],[\"Brooklyn\"],[\"Brooklyn\"],[\"Brooklyn\"],[\"Brooklyn\"],[\"Brooklyn\"],[\"Brooklyn\"],[\"Brooklyn\"],[\"Brooklyn\"],[\"Brooklyn\"],[\"Brooklyn\"],[\"Brooklyn\"],[\"Brooklyn\"],[\"Brooklyn\"],[\"Brooklyn\"],[\"Brooklyn\"]],\"fillcolor\":\"rgba(255,255,255,0)\",\"hoveron\":\"points\",\"hovertemplate\":\"municipio=%{customdata[0]}\\u003cbr\\u003eprice=%{x}\\u003cextra\\u003e\\u003c\\u002fextra\\u003e\",\"jitter\":0,\"legendgroup\":\"Brooklyn\",\"line\":{\"color\":\"rgba(255,255,255,0)\"},\"marker\":{\"color\":\"#636efa\",\"symbol\":\"line-ns-open\"},\"name\":\"Brooklyn\",\"offsetgroup\":\"Brooklyn\",\"showlegend\":false,\"x\":[149.0,89.0,60.0,89.0,140.0,215.0,99.0,299.0,130.0,80.0,110.0,120.0,60.0,55.0,70.0,89.0,35.0,85.0,150.0,120.0,120.0,150.0,110.0,115.0,80.0,80.0,228.0,144.0,150.0,49.0,80.0,200.0,55.0,225.0,275.0,105.0,95.0,145.0,130.0,800.0,105.0,85.0,65.0,131.0,98.0,250.0,100.0,105.0,125.0,175.0,101.0,220.0,125.0,80.0,200.0,125.0,120.0,325.0,99.0,400.0,75.0,90.0,70.0,89.0,50.0,77.0,76.0,125.0,135.0,250.0,199.0,140.0,115.0,160.0,195.0,80.0,44.0,85.0,125.0,115.0,125.0,475.0,69.0,135.0,250.0,250.0,70.0,165.0,50.0,150.0,110.0,65.0,200.0,150.0,90.0,120.0,175.0,135.0,80.0,249.0,100.0,140.0,71.0,69.0,68.0,195.0,159.0,135.0,135.0,65.0,99.0,285.0,59.0,39.0,60.0,135.0,70.0,60.0,100.0,70.0,110.0,60.0,75.0,60.0,130.0,95.0,175.0,190.0,49.0,140.0,150.0,190.0,135.0,145.0,250.0,125.0,70.0,229.0,59.0,195.0,169.0,55.0,69.0,169.0,179.0,135.0,350.0,120.0,349.0,349.0,165.0,249.0,100.0,200.0,185.0,65.0,130.0,199.0,179.0,150.0,79.0,650.0,90.0,120.0,100.0,175.0,120.0,140.0,200.0,165.0,123.0,130.0,100.0,190.0,599.0,100.0,135.0,175.0,165.0,95.0,55.0,199.0,80.0,150.0,110.0,190.0,200.0,165.0,99.0,39.0,260.0,165.0,125.0,225.0,50.0,170.0,250.0,141.0,64.0,249.0,79.0,120.0,495.0,145.0,250.0,451.0,98.0,150.0,125.0,255.0,72.0,165.0,165.0,75.0,130.0,139.0,88.0,80.0,90.0,450.0,130.0,89.0,46.0,500.0,60.0,350.0,219.0,60.0,105.0,75.0,85.0,106.0,85.0,91.0,150.0,97.0,179.0,500.0,70.0,75.0,99.0,350.0,170.0,169.0,99.0,160.0,215.0,130.0,65.0,43.0,42.0,85.0,139.0,105.0,265.0,99.0,100.0,190.0,67.0,248.0,100.0,145.0,41.0,120.0,157.0,195.0,70.0,185.0,145.0,185.0,100.0,40.0,79.0,100.0,110.0,172.0,75.0,116.0,120.0,150.0,230.0,79.0,130.0,239.0,220.0,80.0,135.0,100.0,200.0,80.0,110.0,300.0,180.0,350.0,85.0,80.0,55.0,438.0,110.0,279.0,137.0,280.0,199.0,180.0,85.0,199.0,100.0,295.0,150.0,129.0,96.0,199.0,199.0,199.0,69.0,199.0,199.0,199.0,199.0,199.0,349.0,249.0,299.0,179.0,599.0,110.0,220.0,89.0,170.0,98.0,125.0,48.0,64.0,154.0,139.0,70.0,130.0,92.0,145.0,185.0,99.0,48.0,110.0,147.0,60.0,290.0,50.0,45.0,34.0,190.0,75.0,93.0,60.0,65.0,60.0,88.0,60.0,110.0,135.0,165.0,127.0,402.0,75.0,70.0,64.0,800.0,100.0,250.0,140.0,90.0,97.0,91.0,125.0,75.0,300.0,100.0,65.0,47.0,110.0,100.0,300.0,140.0,120.0,175.0,275.0,189.0,250.0,120.0,50.0,100.0,157.0,199.0,199.0,199.0,199.0,199.0,105.0,135.0,199.0,125.0,60.0,85.0,75.0,44.0,55.0,30.0,35.0,70.0,130.0,52.0,75.0,100.0,130.0,75.0,180.0,135.0,65.0,149.0,75.0,225.0,100.0,135.0,89.0,120.0,59.0,49.0,79.0,185.0,225.0,325.0,95.0,75.0,160.0,180.0,165.0,500.0,79.0,200.0,115.0,115.0,120.0,70.0,160.0,178.0,145.0,125.0,77.0,92.0,185.0,65.0,72.0,80.0,125.0,120.0,94.0,56.0,190.0,129.0,85.0,125.0,50.0,70.0,159.0,45.0,90.0,250.0,130.0,90.0,298.0,123.0],\"xaxis\":\"x6\",\"yaxis\":\"y6\",\"type\":\"box\"},{\"alignmentgroup\":\"True\",\"bingroup\":\"x\",\"histfunc\":\"sum\",\"hovertemplate\":\"municipio=Manhattan\\u003cbr\\u003eprice=%{x}\\u003cbr\\u003esum of number_of_reviews=%{y}\\u003cextra\\u003e\\u003c\\u002fextra\\u003e\",\"legendgroup\":\"Manhattan\",\"marker\":{\"color\":\"#EF553B\",\"pattern\":{\"shape\":\"\"}},\"name\":\"Manhattan\",\"nbinsx\":200,\"offsetgroup\":\"Manhattan\",\"orientation\":\"v\",\"showlegend\":true,\"x\":[225.0,150.0,80.0,200.0,79.0,79.0,150.0,135.0,85.0,85.0,120.0,140.0,190.0,80.0,150.0,44.0,180.0,50.0,52.0,50.0,40.0,68.0,135.0,150.0,151.0,200.0,110.0,69.0,180.0,375.0,250.0,52.0,80.0,99.0,225.0,230.0,51.0,65.0,190.0,200.0,150.0,110.0,285.0,94.0,60.0,50.0,140.0,89.0,98.0,60.0,65.0,500.0,100.0,59.0,140.0,350.0,199.0,235.0,225.0,170.0,170.0,100.0,150.0,85.0,120.0,185.0,105.0,130.0,115.0,195.0,156.0,69.0,225.0,219.0,99.0,250.0,80.0,125.0,196.0,170.0,165.0,150.0,100.0,99.0,75.0,125.0,275.0,299.0,130.0,83.0,123.0,195.0,105.0,200.0,121.0,100.0,130.0,199.0,130.0,64.0,189.0,250.0,239.0,305.0,155.0,60.0,120.0,150.0,250.0,250.0,500.0,225.0,125.0,92.0,175.0,99.0,195.0,140.0,135.0,500.0,80.0,120.0,110.0,130.0,175.0,205.0,390.0,75.0,200.0,90.0,68.0,115.0,129.0,75.0,212.0,95.0,135.0,124.0,122.0,109.0,85.0,195.0,575.0,150.0,90.0,65.0,500.0,250.0,125.0,200.0,110.0,113.0,250.0,150.0,150.0,71.0,169.0,225.0,139.0,95.0,150.0,125.0,130.0,65.0,67.0,212.0,249.0,60.0,120.0,169.0,90.0,225.0,85.0,211.0,145.0,65.0,99.0,290.0,87.0,110.0,395.0,189.0,85.0,122.0,170.0,130.0,132.0,185.0,375.0,175.0,150.0,259.0,96.0,200.0,95.0,295.0,175.0,165.0,250.0,250.0,95.0,55.0,300.0,175.0,75.0,150.0,200.0,200.0,295.0,198.0,99.0,140.0,75.0,250.0,75.0,205.0,185.0,190.0,250.0,175.0,65.0,79.0,170.0,115.0,89.0,49.0,400.0,2000.0,100.0,429.0,189.0,120.0,300.0,199.0,120.0,199.0,100.0,250.0,165.0,99.0,255.0,169.0,110.0,150.0,149.0,89.0,50.0,149.0,68.0,75.0,90.0,160.0,190.0,95.0,150.0,250.0,80.0,230.0,200.0,300.0,80.0,199.0,199.0,100.0,55.0,146.0,250.0,150.0,199.0,69.0,300.0,125.0,288.0,225.0,110.0,130.0,89.0,135.0,90.0,270.0,145.0,179.0,110.0,325.0,130.0,190.0,200.0,160.0,195.0,241.0,300.0,100.0,399.0,200.0,71.0,226.0,135.0,154.0,700.0,246.0,125.0,119.0,125.0,400.0,850.0,140.0,115.0,200.0,185.0,81.0,495.0,760.0,325.0,195.0,58.0,189.0,145.0,101.0,95.0,375.0,153.0,80.0,300.0,88.0,155.0,225.0,85.0,200.0,485.0,310.0,109.0,167.0,220.0,195.0,199.0,65.0,99.0,130.0,350.0,250.0,125.0,300.0,150.0,56.0,299.0,1300.0,200.0,99.0,110.0,85.0,139.0,50.0,250.0,300.0,200.0,130.0,90.0,180.0,175.0,240.0,300.0,385.0,75.0,165.0,179.0,219.0,450.0,249.0,139.0,209.0,90.0,199.0,110.0,150.0,300.0,190.0,250.0,140.0,150.0,90.0,295.0,150.0,99.0,75.0,75.0,109.0,86.0,99.0,89.0,199.0,110.0,135.0,245.0,115.0,120.0,499.0,109.0,219.0,159.0,150.0,106.0,299.0,179.0,250.0,87.0,75.0,80.0,125.0,387.0,95.0,99.0,121.0,350.0,75.0,95.0,89.0,195.0,160.0,100.0,140.0,189.0,265.0,60.0,129.0,199.0,110.0,135.0,115.0,175.0,3000.0,549.0,145.0,200.0,160.0,180.0,100.0,105.0,250.0,74.0,165.0,99.0,125.0,104.0,225.0,100.0,350.0,135.0,125.0,225.0,85.0,200.0,90.0,300.0,125.0,125.0,145.0,147.0],\"xaxis\":\"x2\",\"y\":[45.0,0.0,9.0,74.0,430.0,118.0,160.0,53.0,188.0,113.0,27.0,260.0,0.0,0.0,58.0,108.0,29.0,242.0,88.0,273.0,214.0,245.0,81.0,97.0,73.0,19.0,19.0,289.0,21.0,5.0,66.0,191.0,338.0,106.0,190.0,49.0,23.0,49.0,21.0,142.0,167.0,54.0,70.0,94.0,194.0,2.0,81.0,1.0,30.0,11.0,68.0,46.0,170.0,334.0,12.0,7.0,38.0,27.0,115.0,195.0,13.0,25.0,21.0,36.0,155.0,73.0,32.0,50.0,26.0,30.0,79.0,34.0,134.0,126.0,234.0,4.0,2.0,84.0,114.0,86.0,80.0,38.0,18.0,122.0,199.0,3.0,41.0,109.0,0.0,285.0,375.0,10.0,10.0,0.0,104.0,204.0,115.0,129.0,204.0,192.0,205.0,94.0,7.0,108.0,222.0,458.0,17.0,41.0,18.0,82.0,94.0,10.0,183.0,189.0,1.0,127.0,4.0,135.0,21.0,35.0,10.0,171.0,92.0,56.0,185.0,62.0,143.0,0.0,0.0,1.0,203.0,210.0,5.0,20.0,67.0,109.0,187.0,22.0,93.0,104.0,64.0,30.0,191.0,48.0,120.0,52.0,48.0,32.0,43.0,39.0,38.0,26.0,31.0,286.0,36.0,182.0,240.0,33.0,388.0,223.0,151.0,1.0,19.0,131.0,136.0,45.0,166.0,380.0,49.0,54.0,1.0,56.0,116.0,52.0,39.0,35.0,320.0,35.0,0.0,142.0,70.0,403.0,3.0,116.0,24.0,105.0,10.0,69.0,18.0,68.0,22.0,17.0,34.0,0.0,2.0,74.0,18.0,191.0,0.0,19.0,25.0,119.0,203.0,175.0,38.0,37.0,10.0,103.0,227.0,42.0,280.0,54.0,57.0,188.0,34.0,3.0,129.0,147.0,11.0,11.0,41.0,15.0,17.0,3.0,43.0,168.0,105.0,30.0,49.0,18.0,90.0,99.0,6.0,111.0,86.0,66.0,5.0,2.0,63.0,89.0,1.0,39.0,81.0,43.0,23.0,35.0,225.0,122.0,295.0,50.0,0.0,25.0,8.0,172.0,330.0,60.0,9.0,179.0,25.0,45.0,19.0,29.0,14.0,33.0,99.0,142.0,0.0,82.0,32.0,59.0,6.0,3.0,120.0,13.0,59.0,52.0,278.0,115.0,109.0,1.0,102.0,83.0,61.0,89.0,80.0,136.0,100.0,0.0,139.0,0.0,2.0,8.0,0.0,37.0,229.0,34.0,5.0,238.0,131.0,6.0,4.0,49.0,11.0,0.0,107.0,176.0,151.0,49.0,16.0,72.0,25.0,7.0,46.0,10.0,143.0,314.0,11.0,51.0,20.0,8.0,59.0,10.0,153.0,69.0,1.0,129.0,171.0,8.0,11.0,5.0,36.0,16.0,0.0,68.0,89.0,10.0,25.0,35.0,64.0,24.0,19.0,5.0,203.0,20.0,49.0,28.0,0.0,54.0,1.0,130.0,52.0,208.0,7.0,2.0,1.0,107.0,107.0,24.0,10.0,94.0,1.0,63.0,101.0,72.0,15.0,129.0,157.0,8.0,37.0,14.0,209.0,4.0,0.0,88.0,36.0,0.0,152.0,44.0,12.0,51.0,0.0,11.0,14.0,33.0,30.0,18.0,216.0,13.0,136.0,65.0,47.0,25.0,18.0,18.0,78.0,64.0,66.0,102.0,32.0,1.0,12.0,19.0,297.0,9.0,46.0,118.0,15.0,202.0,23.0,62.0,36.0,16.0,24.0,77.0,110.0,56.0,7.0,0.0,7.0,53.0,265.0,75.0,5.0,132.0,41.0,27.0,214.0,12.0,6.0,0.0,58.0,22.0,13.0,10.0,14.0,20.0,93.0,116.0,15.0,70.0,4.0,128.0,133.0,27.0,61.0,0.0,38.0,25.0,93.0,6.0,30.0,67.0,19.0,0.0,74.0,165.0,16.0],\"yaxis\":\"y2\",\"type\":\"histogram\"},{\"alignmentgroup\":\"True\",\"boxpoints\":\"all\",\"customdata\":[[\"Manhattan\"],[\"Manhattan\"],[\"Manhattan\"],[\"Manhattan\"],[\"Manhattan\"],[\"Manhattan\"],[\"Manhattan\"],[\"Manhattan\"],[\"Manhattan\"],[\"Manhattan\"],[\"Manhattan\"],[\"Manhattan\"],[\"Manhattan\"],[\"Manhattan\"],[\"Manhattan\"],[\"Manhattan\"],[\"Manhattan\"],[\"Manhattan\"],[\"Manhattan\"],[\"Manhattan\"],[\"Manhattan\"],[\"Manhattan\"],[\"Manhattan\"],[\"Manhattan\"],[\"Manhattan\"],[\"Manhattan\"],[\"Manhattan\"],[\"Manhattan\"],[\"Manhattan\"],[\"Manhattan\"],[\"Manhattan\"],[\"Manhattan\"],[\"Manhattan\"],[\"Manhattan\"],[\"Manhattan\"],[\"Manhattan\"],[\"Manhattan\"],[\"Manhattan\"],[\"Manhattan\"],[\"Manhattan\"],[\"Manhattan\"],[\"Manhattan\"],[\"Manhattan\"],[\"Manhattan\"],[\"Manhattan\"],[\"Manhattan\"],[\"Manhattan\"],[\"Manhattan\"],[\"Manhattan\"],[\"Manhattan\"],[\"Manhattan\"],[\"Manhattan\"],[\"Manhattan\"],[\"Manhattan\"],[\"Manhattan\"],[\"Manhattan\"],[\"Manhattan\"],[\"Manhattan\"],[\"Manhattan\"],[\"Manhattan\"],[\"Manhattan\"],[\"Manhattan\"],[\"Manhattan\"],[\"Manhattan\"],[\"Manhattan\"],[\"Manhattan\"],[\"Manhattan\"],[\"Manhattan\"],[\"Manhattan\"],[\"Manhattan\"],[\"Manhattan\"],[\"Manhattan\"],[\"Manhattan\"],[\"Manhattan\"],[\"Manhattan\"],[\"Manhattan\"],[\"Manhattan\"],[\"Manhattan\"],[\"Manhattan\"],[\"Manhattan\"],[\"Manhattan\"],[\"Manhattan\"],[\"Manhattan\"],[\"Manhattan\"],[\"Manhattan\"],[\"Manhattan\"],[\"Manhattan\"],[\"Manhattan\"],[\"Manhattan\"],[\"Manhattan\"],[\"Manhattan\"],[\"Manhattan\"],[\"Manhattan\"],[\"Manhattan\"],[\"Manhattan\"],[\"Manhattan\"],[\"Manhattan\"],[\"Manhattan\"],[\"Manhattan\"],[\"Manhattan\"],[\"Manhattan\"],[\"Manhattan\"],[\"Manhattan\"],[\"Manhattan\"],[\"Manhattan\"],[\"Manhattan\"],[\"Manhattan\"],[\"Manhattan\"],[\"Manhattan\"],[\"Manhattan\"],[\"Manhattan\"],[\"Manhattan\"],[\"Manhattan\"],[\"Manhattan\"],[\"Manhattan\"],[\"Manhattan\"],[\"Manhattan\"],[\"Manhattan\"],[\"Manhattan\"],[\"Manhattan\"],[\"Manhattan\"],[\"Manhattan\"],[\"Manhattan\"],[\"Manhattan\"],[\"Manhattan\"],[\"Manhattan\"],[\"Manhattan\"],[\"Manhattan\"],[\"Manhattan\"],[\"Manhattan\"],[\"Manhattan\"],[\"Manhattan\"],[\"Manhattan\"],[\"Manhattan\"],[\"Manhattan\"],[\"Manhattan\"],[\"Manhattan\"],[\"Manhattan\"],[\"Manhattan\"],[\"Manhattan\"],[\"Manhattan\"],[\"Manhattan\"],[\"Manhattan\"],[\"Manhattan\"],[\"Manhattan\"],[\"Manhattan\"],[\"Manhattan\"],[\"Manhattan\"],[\"Manhattan\"],[\"Manhattan\"],[\"Manhattan\"],[\"Manhattan\"],[\"Manhattan\"],[\"Manhattan\"],[\"Manhattan\"],[\"Manhattan\"],[\"Manhattan\"],[\"Manhattan\"],[\"Manhattan\"],[\"Manhattan\"],[\"Manhattan\"],[\"Manhattan\"],[\"Manhattan\"],[\"Manhattan\"],[\"Manhattan\"],[\"Manhattan\"],[\"Manhattan\"],[\"Manhattan\"],[\"Manhattan\"],[\"Manhattan\"],[\"Manhattan\"],[\"Manhattan\"],[\"Manhattan\"],[\"Manhattan\"],[\"Manhattan\"],[\"Manhattan\"],[\"Manhattan\"],[\"Manhattan\"],[\"Manhattan\"],[\"Manhattan\"],[\"Manhattan\"],[\"Manhattan\"],[\"Manhattan\"],[\"Manhattan\"],[\"Manhattan\"],[\"Manhattan\"],[\"Manhattan\"],[\"Manhattan\"],[\"Manhattan\"],[\"Manhattan\"],[\"Manhattan\"],[\"Manhattan\"],[\"Manhattan\"],[\"Manhattan\"],[\"Manhattan\"],[\"Manhattan\"],[\"Manhattan\"],[\"Manhattan\"],[\"Manhattan\"],[\"Manhattan\"],[\"Manhattan\"],[\"Manhattan\"],[\"Manhattan\"],[\"Manhattan\"],[\"Manhattan\"],[\"Manhattan\"],[\"Manhattan\"],[\"Manhattan\"],[\"Manhattan\"],[\"Manhattan\"],[\"Manhattan\"],[\"Manhattan\"],[\"Manhattan\"],[\"Manhattan\"],[\"Manhattan\"],[\"Manhattan\"],[\"Manhattan\"],[\"Manhattan\"],[\"Manhattan\"],[\"Manhattan\"],[\"Manhattan\"],[\"Manhattan\"],[\"Manhattan\"],[\"Manhattan\"],[\"Manhattan\"],[\"Manhattan\"],[\"Manhattan\"],[\"Manhattan\"],[\"Manhattan\"],[\"Manhattan\"],[\"Manhattan\"],[\"Manhattan\"],[\"Manhattan\"],[\"Manhattan\"],[\"Manhattan\"],[\"Manhattan\"],[\"Manhattan\"],[\"Manhattan\"],[\"Manhattan\"],[\"Manhattan\"],[\"Manhattan\"],[\"Manhattan\"],[\"Manhattan\"],[\"Manhattan\"],[\"Manhattan\"],[\"Manhattan\"],[\"Manhattan\"],[\"Manhattan\"],[\"Manhattan\"],[\"Manhattan\"],[\"Manhattan\"],[\"Manhattan\"],[\"Manhattan\"],[\"Manhattan\"],[\"Manhattan\"],[\"Manhattan\"],[\"Manhattan\"],[\"Manhattan\"],[\"Manhattan\"],[\"Manhattan\"],[\"Manhattan\"],[\"Manhattan\"],[\"Manhattan\"],[\"Manhattan\"],[\"Manhattan\"],[\"Manhattan\"],[\"Manhattan\"],[\"Manhattan\"],[\"Manhattan\"],[\"Manhattan\"],[\"Manhattan\"],[\"Manhattan\"],[\"Manhattan\"],[\"Manhattan\"],[\"Manhattan\"],[\"Manhattan\"],[\"Manhattan\"],[\"Manhattan\"],[\"Manhattan\"],[\"Manhattan\"],[\"Manhattan\"],[\"Manhattan\"],[\"Manhattan\"],[\"Manhattan\"],[\"Manhattan\"],[\"Manhattan\"],[\"Manhattan\"],[\"Manhattan\"],[\"Manhattan\"],[\"Manhattan\"],[\"Manhattan\"],[\"Manhattan\"],[\"Manhattan\"],[\"Manhattan\"],[\"Manhattan\"],[\"Manhattan\"],[\"Manhattan\"],[\"Manhattan\"],[\"Manhattan\"],[\"Manhattan\"],[\"Manhattan\"],[\"Manhattan\"],[\"Manhattan\"],[\"Manhattan\"],[\"Manhattan\"],[\"Manhattan\"],[\"Manhattan\"],[\"Manhattan\"],[\"Manhattan\"],[\"Manhattan\"],[\"Manhattan\"],[\"Manhattan\"],[\"Manhattan\"],[\"Manhattan\"],[\"Manhattan\"],[\"Manhattan\"],[\"Manhattan\"],[\"Manhattan\"],[\"Manhattan\"],[\"Manhattan\"],[\"Manhattan\"],[\"Manhattan\"],[\"Manhattan\"],[\"Manhattan\"],[\"Manhattan\"],[\"Manhattan\"],[\"Manhattan\"],[\"Manhattan\"],[\"Manhattan\"],[\"Manhattan\"],[\"Manhattan\"],[\"Manhattan\"],[\"Manhattan\"],[\"Manhattan\"],[\"Manhattan\"],[\"Manhattan\"],[\"Manhattan\"],[\"Manhattan\"],[\"Manhattan\"],[\"Manhattan\"],[\"Manhattan\"],[\"Manhattan\"],[\"Manhattan\"],[\"Manhattan\"],[\"Manhattan\"],[\"Manhattan\"],[\"Manhattan\"],[\"Manhattan\"],[\"Manhattan\"],[\"Manhattan\"],[\"Manhattan\"],[\"Manhattan\"],[\"Manhattan\"],[\"Manhattan\"],[\"Manhattan\"],[\"Manhattan\"],[\"Manhattan\"],[\"Manhattan\"],[\"Manhattan\"],[\"Manhattan\"],[\"Manhattan\"],[\"Manhattan\"],[\"Manhattan\"],[\"Manhattan\"],[\"Manhattan\"],[\"Manhattan\"],[\"Manhattan\"],[\"Manhattan\"],[\"Manhattan\"],[\"Manhattan\"],[\"Manhattan\"],[\"Manhattan\"],[\"Manhattan\"],[\"Manhattan\"],[\"Manhattan\"],[\"Manhattan\"],[\"Manhattan\"],[\"Manhattan\"],[\"Manhattan\"],[\"Manhattan\"],[\"Manhattan\"],[\"Manhattan\"],[\"Manhattan\"],[\"Manhattan\"],[\"Manhattan\"],[\"Manhattan\"],[\"Manhattan\"],[\"Manhattan\"],[\"Manhattan\"],[\"Manhattan\"],[\"Manhattan\"],[\"Manhattan\"],[\"Manhattan\"],[\"Manhattan\"],[\"Manhattan\"],[\"Manhattan\"],[\"Manhattan\"],[\"Manhattan\"],[\"Manhattan\"],[\"Manhattan\"],[\"Manhattan\"],[\"Manhattan\"],[\"Manhattan\"],[\"Manhattan\"],[\"Manhattan\"],[\"Manhattan\"],[\"Manhattan\"],[\"Manhattan\"],[\"Manhattan\"],[\"Manhattan\"],[\"Manhattan\"],[\"Manhattan\"],[\"Manhattan\"],[\"Manhattan\"],[\"Manhattan\"],[\"Manhattan\"],[\"Manhattan\"],[\"Manhattan\"],[\"Manhattan\"],[\"Manhattan\"],[\"Manhattan\"],[\"Manhattan\"],[\"Manhattan\"],[\"Manhattan\"],[\"Manhattan\"],[\"Manhattan\"],[\"Manhattan\"],[\"Manhattan\"],[\"Manhattan\"],[\"Manhattan\"],[\"Manhattan\"],[\"Manhattan\"],[\"Manhattan\"],[\"Manhattan\"],[\"Manhattan\"],[\"Manhattan\"],[\"Manhattan\"],[\"Manhattan\"],[\"Manhattan\"],[\"Manhattan\"],[\"Manhattan\"],[\"Manhattan\"],[\"Manhattan\"],[\"Manhattan\"],[\"Manhattan\"],[\"Manhattan\"],[\"Manhattan\"],[\"Manhattan\"],[\"Manhattan\"],[\"Manhattan\"],[\"Manhattan\"],[\"Manhattan\"],[\"Manhattan\"],[\"Manhattan\"],[\"Manhattan\"],[\"Manhattan\"],[\"Manhattan\"]],\"fillcolor\":\"rgba(255,255,255,0)\",\"hoveron\":\"points\",\"hovertemplate\":\"municipio=%{customdata[0]}\\u003cbr\\u003eprice=%{x}\\u003cextra\\u003e\\u003c\\u002fextra\\u003e\",\"jitter\":0,\"legendgroup\":\"Manhattan\",\"line\":{\"color\":\"rgba(255,255,255,0)\"},\"marker\":{\"color\":\"#EF553B\",\"symbol\":\"line-ns-open\"},\"name\":\"Manhattan\",\"offsetgroup\":\"Manhattan\",\"showlegend\":false,\"x\":[225.0,150.0,80.0,200.0,79.0,79.0,150.0,135.0,85.0,85.0,120.0,140.0,190.0,80.0,150.0,44.0,180.0,50.0,52.0,50.0,40.0,68.0,135.0,150.0,151.0,200.0,110.0,69.0,180.0,375.0,250.0,52.0,80.0,99.0,225.0,230.0,51.0,65.0,190.0,200.0,150.0,110.0,285.0,94.0,60.0,50.0,140.0,89.0,98.0,60.0,65.0,500.0,100.0,59.0,140.0,350.0,199.0,235.0,225.0,170.0,170.0,100.0,150.0,85.0,120.0,185.0,105.0,130.0,115.0,195.0,156.0,69.0,225.0,219.0,99.0,250.0,80.0,125.0,196.0,170.0,165.0,150.0,100.0,99.0,75.0,125.0,275.0,299.0,130.0,83.0,123.0,195.0,105.0,200.0,121.0,100.0,130.0,199.0,130.0,64.0,189.0,250.0,239.0,305.0,155.0,60.0,120.0,150.0,250.0,250.0,500.0,225.0,125.0,92.0,175.0,99.0,195.0,140.0,135.0,500.0,80.0,120.0,110.0,130.0,175.0,205.0,390.0,75.0,200.0,90.0,68.0,115.0,129.0,75.0,212.0,95.0,135.0,124.0,122.0,109.0,85.0,195.0,575.0,150.0,90.0,65.0,500.0,250.0,125.0,200.0,110.0,113.0,250.0,150.0,150.0,71.0,169.0,225.0,139.0,95.0,150.0,125.0,130.0,65.0,67.0,212.0,249.0,60.0,120.0,169.0,90.0,225.0,85.0,211.0,145.0,65.0,99.0,290.0,87.0,110.0,395.0,189.0,85.0,122.0,170.0,130.0,132.0,185.0,375.0,175.0,150.0,259.0,96.0,200.0,95.0,295.0,175.0,165.0,250.0,250.0,95.0,55.0,300.0,175.0,75.0,150.0,200.0,200.0,295.0,198.0,99.0,140.0,75.0,250.0,75.0,205.0,185.0,190.0,250.0,175.0,65.0,79.0,170.0,115.0,89.0,49.0,400.0,2000.0,100.0,429.0,189.0,120.0,300.0,199.0,120.0,199.0,100.0,250.0,165.0,99.0,255.0,169.0,110.0,150.0,149.0,89.0,50.0,149.0,68.0,75.0,90.0,160.0,190.0,95.0,150.0,250.0,80.0,230.0,200.0,300.0,80.0,199.0,199.0,100.0,55.0,146.0,250.0,150.0,199.0,69.0,300.0,125.0,288.0,225.0,110.0,130.0,89.0,135.0,90.0,270.0,145.0,179.0,110.0,325.0,130.0,190.0,200.0,160.0,195.0,241.0,300.0,100.0,399.0,200.0,71.0,226.0,135.0,154.0,700.0,246.0,125.0,119.0,125.0,400.0,850.0,140.0,115.0,200.0,185.0,81.0,495.0,760.0,325.0,195.0,58.0,189.0,145.0,101.0,95.0,375.0,153.0,80.0,300.0,88.0,155.0,225.0,85.0,200.0,485.0,310.0,109.0,167.0,220.0,195.0,199.0,65.0,99.0,130.0,350.0,250.0,125.0,300.0,150.0,56.0,299.0,1300.0,200.0,99.0,110.0,85.0,139.0,50.0,250.0,300.0,200.0,130.0,90.0,180.0,175.0,240.0,300.0,385.0,75.0,165.0,179.0,219.0,450.0,249.0,139.0,209.0,90.0,199.0,110.0,150.0,300.0,190.0,250.0,140.0,150.0,90.0,295.0,150.0,99.0,75.0,75.0,109.0,86.0,99.0,89.0,199.0,110.0,135.0,245.0,115.0,120.0,499.0,109.0,219.0,159.0,150.0,106.0,299.0,179.0,250.0,87.0,75.0,80.0,125.0,387.0,95.0,99.0,121.0,350.0,75.0,95.0,89.0,195.0,160.0,100.0,140.0,189.0,265.0,60.0,129.0,199.0,110.0,135.0,115.0,175.0,3000.0,549.0,145.0,200.0,160.0,180.0,100.0,105.0,250.0,74.0,165.0,99.0,125.0,104.0,225.0,100.0,350.0,135.0,125.0,225.0,85.0,200.0,90.0,300.0,125.0,125.0,145.0,147.0],\"xaxis\":\"x7\",\"yaxis\":\"y7\",\"type\":\"box\"},{\"alignmentgroup\":\"True\",\"bingroup\":\"x\",\"histfunc\":\"sum\",\"hovertemplate\":\"municipio=Queens\\u003cbr\\u003eprice=%{x}\\u003cbr\\u003esum of number_of_reviews=%{y}\\u003cextra\\u003e\\u003c\\u002fextra\\u003e\",\"legendgroup\":\"Queens\",\"marker\":{\"color\":\"#00cc96\",\"pattern\":{\"shape\":\"\"}},\"name\":\"Queens\",\"nbinsx\":200,\"offsetgroup\":\"Queens\",\"orientation\":\"v\",\"showlegend\":true,\"x\":[130.0,70.0,140.0,79.0,350.0,55.0,98.0,140.0,265.0,140.0,140.0,99.0,115.0,80.0,50.0,70.0,110.0,97.0,129.0,42.0,42.0,33.0,107.0,95.0,75.0,50.0,95.0,55.0,75.0,75.0,79.0,54.0,80.0,75.0,73.0,55.0,96.0,85.0,30.0,65.0,70.0,192.0,55.0,52.0,75.0,45.0,75.0],\"xaxis\":\"x3\",\"y\":[248.0,25.0,1.0,28.0,10.0,52.0,33.0,6.0,38.0,17.0,1.0,441.0,198.0,42.0,43.0,13.0,30.0,28.0,414.0,53.0,41.0,31.0,21.0,24.0,160.0,258.0,24.0,19.0,65.0,49.0,60.0,56.0,81.0,20.0,95.0,38.0,244.0,270.0,3.0,5.0,1.0,7.0,63.0,98.0,59.0,8.0,16.0],\"yaxis\":\"y3\",\"type\":\"histogram\"},{\"alignmentgroup\":\"True\",\"boxpoints\":\"all\",\"customdata\":[[\"Queens\"],[\"Queens\"],[\"Queens\"],[\"Queens\"],[\"Queens\"],[\"Queens\"],[\"Queens\"],[\"Queens\"],[\"Queens\"],[\"Queens\"],[\"Queens\"],[\"Queens\"],[\"Queens\"],[\"Queens\"],[\"Queens\"],[\"Queens\"],[\"Queens\"],[\"Queens\"],[\"Queens\"],[\"Queens\"],[\"Queens\"],[\"Queens\"],[\"Queens\"],[\"Queens\"],[\"Queens\"],[\"Queens\"],[\"Queens\"],[\"Queens\"],[\"Queens\"],[\"Queens\"],[\"Queens\"],[\"Queens\"],[\"Queens\"],[\"Queens\"],[\"Queens\"],[\"Queens\"],[\"Queens\"],[\"Queens\"],[\"Queens\"],[\"Queens\"],[\"Queens\"],[\"Queens\"],[\"Queens\"],[\"Queens\"],[\"Queens\"],[\"Queens\"],[\"Queens\"]],\"fillcolor\":\"rgba(255,255,255,0)\",\"hoveron\":\"points\",\"hovertemplate\":\"municipio=%{customdata[0]}\\u003cbr\\u003eprice=%{x}\\u003cextra\\u003e\\u003c\\u002fextra\\u003e\",\"jitter\":0,\"legendgroup\":\"Queens\",\"line\":{\"color\":\"rgba(255,255,255,0)\"},\"marker\":{\"color\":\"#00cc96\",\"symbol\":\"line-ns-open\"},\"name\":\"Queens\",\"offsetgroup\":\"Queens\",\"showlegend\":false,\"x\":[130.0,70.0,140.0,79.0,350.0,55.0,98.0,140.0,265.0,140.0,140.0,99.0,115.0,80.0,50.0,70.0,110.0,97.0,129.0,42.0,42.0,33.0,107.0,95.0,75.0,50.0,95.0,55.0,75.0,75.0,79.0,54.0,80.0,75.0,73.0,55.0,96.0,85.0,30.0,65.0,70.0,192.0,55.0,52.0,75.0,45.0,75.0],\"xaxis\":\"x8\",\"yaxis\":\"y8\",\"type\":\"box\"},{\"alignmentgroup\":\"True\",\"bingroup\":\"x\",\"histfunc\":\"sum\",\"hovertemplate\":\"municipio=Staten Island\\u003cbr\\u003eprice=%{x}\\u003cbr\\u003esum of number_of_reviews=%{y}\\u003cextra\\u003e\\u003c\\u002fextra\\u003e\",\"legendgroup\":\"Staten Island\",\"marker\":{\"color\":\"#ab63fa\",\"pattern\":{\"shape\":\"\"}},\"name\":\"Staten Island\",\"nbinsx\":200,\"offsetgroup\":\"Staten Island\",\"orientation\":\"v\",\"showlegend\":true,\"x\":[70.0,36.0,37.0,37.0,36.0,80.0,75.0,250.0,50.0,125.0,59.0,20.0,110.0],\"xaxis\":\"x4\",\"y\":[166.0,193.0,147.0,177.0,333.0,2.0,76.0,21.0,0.0,8.0,50.0,80.0,6.0],\"yaxis\":\"y4\",\"type\":\"histogram\"},{\"alignmentgroup\":\"True\",\"boxpoints\":\"all\",\"customdata\":[[\"Staten Island\"],[\"Staten Island\"],[\"Staten Island\"],[\"Staten Island\"],[\"Staten Island\"],[\"Staten Island\"],[\"Staten Island\"],[\"Staten Island\"],[\"Staten Island\"],[\"Staten Island\"],[\"Staten Island\"],[\"Staten Island\"],[\"Staten Island\"]],\"fillcolor\":\"rgba(255,255,255,0)\",\"hoveron\":\"points\",\"hovertemplate\":\"municipio=%{customdata[0]}\\u003cbr\\u003eprice=%{x}\\u003cextra\\u003e\\u003c\\u002fextra\\u003e\",\"jitter\":0,\"legendgroup\":\"Staten Island\",\"line\":{\"color\":\"rgba(255,255,255,0)\"},\"marker\":{\"color\":\"#ab63fa\",\"symbol\":\"line-ns-open\"},\"name\":\"Staten Island\",\"offsetgroup\":\"Staten Island\",\"showlegend\":false,\"x\":[70.0,36.0,37.0,37.0,36.0,80.0,75.0,250.0,50.0,125.0,59.0,20.0,110.0],\"xaxis\":\"x9\",\"yaxis\":\"y9\",\"type\":\"box\"},{\"alignmentgroup\":\"True\",\"bingroup\":\"x\",\"histfunc\":\"sum\",\"hovertemplate\":\"municipio=Bronx\\u003cbr\\u003eprice=%{x}\\u003cbr\\u003esum of number_of_reviews=%{y}\\u003cextra\\u003e\\u003c\\u002fextra\\u003e\",\"legendgroup\":\"Bronx\",\"marker\":{\"color\":\"#FFA15A\",\"pattern\":{\"shape\":\"\"}},\"name\":\"Bronx\",\"nbinsx\":200,\"offsetgroup\":\"Bronx\",\"orientation\":\"v\",\"showlegend\":true,\"x\":[40.0,45.0,90.0,105.0,90.0,77.0,37.0,125.0,50.0,50.0,42.0,50.0,120.0],\"xaxis\":\"x5\",\"y\":[219.0,138.0,0.0,38.0,4.0,197.0,117.0,271.0,258.0,235.0,108.0,15.0,47.0],\"yaxis\":\"y5\",\"type\":\"histogram\"},{\"alignmentgroup\":\"True\",\"boxpoints\":\"all\",\"customdata\":[[\"Bronx\"],[\"Bronx\"],[\"Bronx\"],[\"Bronx\"],[\"Bronx\"],[\"Bronx\"],[\"Bronx\"],[\"Bronx\"],[\"Bronx\"],[\"Bronx\"],[\"Bronx\"],[\"Bronx\"],[\"Bronx\"]],\"fillcolor\":\"rgba(255,255,255,0)\",\"hoveron\":\"points\",\"hovertemplate\":\"municipio=%{customdata[0]}\\u003cbr\\u003eprice=%{x}\\u003cextra\\u003e\\u003c\\u002fextra\\u003e\",\"jitter\":0,\"legendgroup\":\"Bronx\",\"line\":{\"color\":\"rgba(255,255,255,0)\"},\"marker\":{\"color\":\"#FFA15A\",\"symbol\":\"line-ns-open\"},\"name\":\"Bronx\",\"offsetgroup\":\"Bronx\",\"showlegend\":false,\"x\":[40.0,45.0,90.0,105.0,90.0,77.0,37.0,125.0,50.0,50.0,42.0,50.0,120.0],\"xaxis\":\"x10\",\"yaxis\":\"y10\",\"type\":\"box\"}],                        {\"template\":{\"data\":{\"histogram2dcontour\":[{\"type\":\"histogram2dcontour\",\"colorbar\":{\"outlinewidth\":0,\"ticks\":\"\"},\"colorscale\":[[0.0,\"#0d0887\"],[0.1111111111111111,\"#46039f\"],[0.2222222222222222,\"#7201a8\"],[0.3333333333333333,\"#9c179e\"],[0.4444444444444444,\"#bd3786\"],[0.5555555555555556,\"#d8576b\"],[0.6666666666666666,\"#ed7953\"],[0.7777777777777778,\"#fb9f3a\"],[0.8888888888888888,\"#fdca26\"],[1.0,\"#f0f921\"]]}],\"choropleth\":[{\"type\":\"choropleth\",\"colorbar\":{\"outlinewidth\":0,\"ticks\":\"\"}}],\"histogram2d\":[{\"type\":\"histogram2d\",\"colorbar\":{\"outlinewidth\":0,\"ticks\":\"\"},\"colorscale\":[[0.0,\"#0d0887\"],[0.1111111111111111,\"#46039f\"],[0.2222222222222222,\"#7201a8\"],[0.3333333333333333,\"#9c179e\"],[0.4444444444444444,\"#bd3786\"],[0.5555555555555556,\"#d8576b\"],[0.6666666666666666,\"#ed7953\"],[0.7777777777777778,\"#fb9f3a\"],[0.8888888888888888,\"#fdca26\"],[1.0,\"#f0f921\"]]}],\"heatmap\":[{\"type\":\"heatmap\",\"colorbar\":{\"outlinewidth\":0,\"ticks\":\"\"},\"colorscale\":[[0.0,\"#0d0887\"],[0.1111111111111111,\"#46039f\"],[0.2222222222222222,\"#7201a8\"],[0.3333333333333333,\"#9c179e\"],[0.4444444444444444,\"#bd3786\"],[0.5555555555555556,\"#d8576b\"],[0.6666666666666666,\"#ed7953\"],[0.7777777777777778,\"#fb9f3a\"],[0.8888888888888888,\"#fdca26\"],[1.0,\"#f0f921\"]]}],\"heatmapgl\":[{\"type\":\"heatmapgl\",\"colorbar\":{\"outlinewidth\":0,\"ticks\":\"\"},\"colorscale\":[[0.0,\"#0d0887\"],[0.1111111111111111,\"#46039f\"],[0.2222222222222222,\"#7201a8\"],[0.3333333333333333,\"#9c179e\"],[0.4444444444444444,\"#bd3786\"],[0.5555555555555556,\"#d8576b\"],[0.6666666666666666,\"#ed7953\"],[0.7777777777777778,\"#fb9f3a\"],[0.8888888888888888,\"#fdca26\"],[1.0,\"#f0f921\"]]}],\"contourcarpet\":[{\"type\":\"contourcarpet\",\"colorbar\":{\"outlinewidth\":0,\"ticks\":\"\"}}],\"contour\":[{\"type\":\"contour\",\"colorbar\":{\"outlinewidth\":0,\"ticks\":\"\"},\"colorscale\":[[0.0,\"#0d0887\"],[0.1111111111111111,\"#46039f\"],[0.2222222222222222,\"#7201a8\"],[0.3333333333333333,\"#9c179e\"],[0.4444444444444444,\"#bd3786\"],[0.5555555555555556,\"#d8576b\"],[0.6666666666666666,\"#ed7953\"],[0.7777777777777778,\"#fb9f3a\"],[0.8888888888888888,\"#fdca26\"],[1.0,\"#f0f921\"]]}],\"surface\":[{\"type\":\"surface\",\"colorbar\":{\"outlinewidth\":0,\"ticks\":\"\"},\"colorscale\":[[0.0,\"#0d0887\"],[0.1111111111111111,\"#46039f\"],[0.2222222222222222,\"#7201a8\"],[0.3333333333333333,\"#9c179e\"],[0.4444444444444444,\"#bd3786\"],[0.5555555555555556,\"#d8576b\"],[0.6666666666666666,\"#ed7953\"],[0.7777777777777778,\"#fb9f3a\"],[0.8888888888888888,\"#fdca26\"],[1.0,\"#f0f921\"]]}],\"mesh3d\":[{\"type\":\"mesh3d\",\"colorbar\":{\"outlinewidth\":0,\"ticks\":\"\"}}],\"scatter\":[{\"fillpattern\":{\"fillmode\":\"overlay\",\"size\":10,\"solidity\":0.2},\"type\":\"scatter\"}],\"parcoords\":[{\"type\":\"parcoords\",\"line\":{\"colorbar\":{\"outlinewidth\":0,\"ticks\":\"\"}}}],\"scatterpolargl\":[{\"type\":\"scatterpolargl\",\"marker\":{\"colorbar\":{\"outlinewidth\":0,\"ticks\":\"\"}}}],\"bar\":[{\"error_x\":{\"color\":\"#2a3f5f\"},\"error_y\":{\"color\":\"#2a3f5f\"},\"marker\":{\"line\":{\"color\":\"#E5ECF6\",\"width\":0.5},\"pattern\":{\"fillmode\":\"overlay\",\"size\":10,\"solidity\":0.2}},\"type\":\"bar\"}],\"scattergeo\":[{\"type\":\"scattergeo\",\"marker\":{\"colorbar\":{\"outlinewidth\":0,\"ticks\":\"\"}}}],\"scatterpolar\":[{\"type\":\"scatterpolar\",\"marker\":{\"colorbar\":{\"outlinewidth\":0,\"ticks\":\"\"}}}],\"histogram\":[{\"marker\":{\"pattern\":{\"fillmode\":\"overlay\",\"size\":10,\"solidity\":0.2}},\"type\":\"histogram\"}],\"scattergl\":[{\"type\":\"scattergl\",\"marker\":{\"colorbar\":{\"outlinewidth\":0,\"ticks\":\"\"}}}],\"scatter3d\":[{\"type\":\"scatter3d\",\"line\":{\"colorbar\":{\"outlinewidth\":0,\"ticks\":\"\"}},\"marker\":{\"colorbar\":{\"outlinewidth\":0,\"ticks\":\"\"}}}],\"scattermapbox\":[{\"type\":\"scattermapbox\",\"marker\":{\"colorbar\":{\"outlinewidth\":0,\"ticks\":\"\"}}}],\"scatterternary\":[{\"type\":\"scatterternary\",\"marker\":{\"colorbar\":{\"outlinewidth\":0,\"ticks\":\"\"}}}],\"scattercarpet\":[{\"type\":\"scattercarpet\",\"marker\":{\"colorbar\":{\"outlinewidth\":0,\"ticks\":\"\"}}}],\"carpet\":[{\"aaxis\":{\"endlinecolor\":\"#2a3f5f\",\"gridcolor\":\"white\",\"linecolor\":\"white\",\"minorgridcolor\":\"white\",\"startlinecolor\":\"#2a3f5f\"},\"baxis\":{\"endlinecolor\":\"#2a3f5f\",\"gridcolor\":\"white\",\"linecolor\":\"white\",\"minorgridcolor\":\"white\",\"startlinecolor\":\"#2a3f5f\"},\"type\":\"carpet\"}],\"table\":[{\"cells\":{\"fill\":{\"color\":\"#EBF0F8\"},\"line\":{\"color\":\"white\"}},\"header\":{\"fill\":{\"color\":\"#C8D4E3\"},\"line\":{\"color\":\"white\"}},\"type\":\"table\"}],\"barpolar\":[{\"marker\":{\"line\":{\"color\":\"#E5ECF6\",\"width\":0.5},\"pattern\":{\"fillmode\":\"overlay\",\"size\":10,\"solidity\":0.2}},\"type\":\"barpolar\"}],\"pie\":[{\"automargin\":true,\"type\":\"pie\"}]},\"layout\":{\"autotypenumbers\":\"strict\",\"colorway\":[\"#636efa\",\"#EF553B\",\"#00cc96\",\"#ab63fa\",\"#FFA15A\",\"#19d3f3\",\"#FF6692\",\"#B6E880\",\"#FF97FF\",\"#FECB52\"],\"font\":{\"color\":\"#2a3f5f\"},\"hovermode\":\"closest\",\"hoverlabel\":{\"align\":\"left\"},\"paper_bgcolor\":\"white\",\"plot_bgcolor\":\"#E5ECF6\",\"polar\":{\"bgcolor\":\"#E5ECF6\",\"angularaxis\":{\"gridcolor\":\"white\",\"linecolor\":\"white\",\"ticks\":\"\"},\"radialaxis\":{\"gridcolor\":\"white\",\"linecolor\":\"white\",\"ticks\":\"\"}},\"ternary\":{\"bgcolor\":\"#E5ECF6\",\"aaxis\":{\"gridcolor\":\"white\",\"linecolor\":\"white\",\"ticks\":\"\"},\"baxis\":{\"gridcolor\":\"white\",\"linecolor\":\"white\",\"ticks\":\"\"},\"caxis\":{\"gridcolor\":\"white\",\"linecolor\":\"white\",\"ticks\":\"\"}},\"coloraxis\":{\"colorbar\":{\"outlinewidth\":0,\"ticks\":\"\"}},\"colorscale\":{\"sequential\":[[0.0,\"#0d0887\"],[0.1111111111111111,\"#46039f\"],[0.2222222222222222,\"#7201a8\"],[0.3333333333333333,\"#9c179e\"],[0.4444444444444444,\"#bd3786\"],[0.5555555555555556,\"#d8576b\"],[0.6666666666666666,\"#ed7953\"],[0.7777777777777778,\"#fb9f3a\"],[0.8888888888888888,\"#fdca26\"],[1.0,\"#f0f921\"]],\"sequentialminus\":[[0.0,\"#0d0887\"],[0.1111111111111111,\"#46039f\"],[0.2222222222222222,\"#7201a8\"],[0.3333333333333333,\"#9c179e\"],[0.4444444444444444,\"#bd3786\"],[0.5555555555555556,\"#d8576b\"],[0.6666666666666666,\"#ed7953\"],[0.7777777777777778,\"#fb9f3a\"],[0.8888888888888888,\"#fdca26\"],[1.0,\"#f0f921\"]],\"diverging\":[[0,\"#8e0152\"],[0.1,\"#c51b7d\"],[0.2,\"#de77ae\"],[0.3,\"#f1b6da\"],[0.4,\"#fde0ef\"],[0.5,\"#f7f7f7\"],[0.6,\"#e6f5d0\"],[0.7,\"#b8e186\"],[0.8,\"#7fbc41\"],[0.9,\"#4d9221\"],[1,\"#276419\"]]},\"xaxis\":{\"gridcolor\":\"white\",\"linecolor\":\"white\",\"ticks\":\"\",\"title\":{\"standoff\":15},\"zerolinecolor\":\"white\",\"automargin\":true,\"zerolinewidth\":2},\"yaxis\":{\"gridcolor\":\"white\",\"linecolor\":\"white\",\"ticks\":\"\",\"title\":{\"standoff\":15},\"zerolinecolor\":\"white\",\"automargin\":true,\"zerolinewidth\":2},\"scene\":{\"xaxis\":{\"backgroundcolor\":\"#E5ECF6\",\"gridcolor\":\"white\",\"linecolor\":\"white\",\"showbackground\":true,\"ticks\":\"\",\"zerolinecolor\":\"white\",\"gridwidth\":2},\"yaxis\":{\"backgroundcolor\":\"#E5ECF6\",\"gridcolor\":\"white\",\"linecolor\":\"white\",\"showbackground\":true,\"ticks\":\"\",\"zerolinecolor\":\"white\",\"gridwidth\":2},\"zaxis\":{\"backgroundcolor\":\"#E5ECF6\",\"gridcolor\":\"white\",\"linecolor\":\"white\",\"showbackground\":true,\"ticks\":\"\",\"zerolinecolor\":\"white\",\"gridwidth\":2}},\"shapedefaults\":{\"line\":{\"color\":\"#2a3f5f\"}},\"annotationdefaults\":{\"arrowcolor\":\"#2a3f5f\",\"arrowhead\":0,\"arrowwidth\":1},\"geo\":{\"bgcolor\":\"white\",\"landcolor\":\"#E5ECF6\",\"subunitcolor\":\"white\",\"showland\":true,\"showlakes\":true,\"lakecolor\":\"white\"},\"title\":{\"x\":0.05},\"mapbox\":{\"style\":\"light\"}}},\"xaxis\":{\"anchor\":\"y\",\"domain\":[0.0,0.18400000000000002],\"title\":{\"text\":\"price\"}},\"yaxis\":{\"anchor\":\"x\",\"domain\":[0.0,0.7326],\"title\":{\"text\":\"sum of number_of_reviews\"}},\"xaxis2\":{\"anchor\":\"y2\",\"domain\":[0.20400000000000001,0.388],\"matches\":\"x\",\"title\":{\"text\":\"price\"}},\"yaxis2\":{\"anchor\":\"x2\",\"domain\":[0.0,0.7326],\"matches\":\"y\",\"showticklabels\":false},\"xaxis3\":{\"anchor\":\"y3\",\"domain\":[0.40800000000000003,0.5920000000000001],\"matches\":\"x\",\"title\":{\"text\":\"price\"}},\"yaxis3\":{\"anchor\":\"x3\",\"domain\":[0.0,0.7326],\"matches\":\"y\",\"showticklabels\":false},\"xaxis4\":{\"anchor\":\"y4\",\"domain\":[0.6120000000000001,0.7960000000000002],\"matches\":\"x\",\"title\":{\"text\":\"price\"}},\"yaxis4\":{\"anchor\":\"x4\",\"domain\":[0.0,0.7326],\"matches\":\"y\",\"showticklabels\":false},\"xaxis5\":{\"anchor\":\"y5\",\"domain\":[0.8160000000000001,1.0],\"matches\":\"x\",\"title\":{\"text\":\"price\"}},\"yaxis5\":{\"anchor\":\"x5\",\"domain\":[0.0,0.7326],\"matches\":\"y\",\"showticklabels\":false},\"xaxis6\":{\"anchor\":\"y6\",\"domain\":[0.0,0.18400000000000002],\"matches\":\"x\",\"showticklabels\":false,\"showgrid\":true},\"yaxis6\":{\"anchor\":\"x6\",\"domain\":[0.7426,1.0],\"matches\":\"y6\",\"showticklabels\":false,\"showline\":false,\"ticks\":\"\",\"showgrid\":false},\"xaxis7\":{\"anchor\":\"y7\",\"domain\":[0.20400000000000001,0.388],\"matches\":\"x\",\"showticklabels\":false,\"showgrid\":true},\"yaxis7\":{\"anchor\":\"x7\",\"domain\":[0.7426,1.0],\"matches\":\"y6\",\"showticklabels\":false,\"showline\":false,\"ticks\":\"\",\"showgrid\":false},\"xaxis8\":{\"anchor\":\"y8\",\"domain\":[0.40800000000000003,0.5920000000000001],\"matches\":\"x\",\"showticklabels\":false,\"showgrid\":true},\"yaxis8\":{\"anchor\":\"x8\",\"domain\":[0.7426,1.0],\"matches\":\"y6\",\"showticklabels\":false,\"showline\":false,\"ticks\":\"\",\"showgrid\":false},\"xaxis9\":{\"anchor\":\"y9\",\"domain\":[0.6120000000000001,0.7960000000000002],\"matches\":\"x\",\"showticklabels\":false,\"showgrid\":true},\"yaxis9\":{\"anchor\":\"x9\",\"domain\":[0.7426,1.0],\"matches\":\"y6\",\"showticklabels\":false,\"showline\":false,\"ticks\":\"\",\"showgrid\":false},\"xaxis10\":{\"anchor\":\"y10\",\"domain\":[0.8160000000000001,1.0],\"matches\":\"x\",\"showticklabels\":false,\"showgrid\":true},\"yaxis10\":{\"anchor\":\"x10\",\"domain\":[0.7426,1.0],\"matches\":\"y6\",\"showticklabels\":false,\"showline\":false,\"ticks\":\"\",\"showgrid\":false},\"annotations\":[{\"font\":{},\"showarrow\":false,\"text\":\"municipio=Brooklyn\",\"x\":0.09200000000000001,\"xanchor\":\"center\",\"xref\":\"paper\",\"y\":1.0,\"yanchor\":\"bottom\",\"yref\":\"paper\"},{\"font\":{},\"showarrow\":false,\"text\":\"municipio=Manhattan\",\"x\":0.29600000000000004,\"xanchor\":\"center\",\"xref\":\"paper\",\"y\":1.0,\"yanchor\":\"bottom\",\"yref\":\"paper\"},{\"font\":{},\"showarrow\":false,\"text\":\"municipio=Queens\",\"x\":0.5,\"xanchor\":\"center\",\"xref\":\"paper\",\"y\":1.0,\"yanchor\":\"bottom\",\"yref\":\"paper\"},{\"font\":{},\"showarrow\":false,\"text\":\"municipio=Staten Island\",\"x\":0.7040000000000002,\"xanchor\":\"center\",\"xref\":\"paper\",\"y\":1.0,\"yanchor\":\"bottom\",\"yref\":\"paper\"},{\"font\":{},\"showarrow\":false,\"text\":\"municipio=Bronx\",\"x\":0.908,\"xanchor\":\"center\",\"xref\":\"paper\",\"y\":1.0,\"yanchor\":\"bottom\",\"yref\":\"paper\"}],\"legend\":{\"title\":{\"text\":\"municipio\"},\"tracegroupgap\":0},\"margin\":{\"t\":60},\"barmode\":\"relative\"},                        {\"responsive\": true}                    )                };                            </script>        </div>"
      ],
      "text/plain": [
       "Figure({\n",
       "    'data': [{'alignmentgroup': 'True',\n",
       "              'bingroup': 'x',\n",
       "              'histfunc': 'sum',\n",
       "              'hovertemplate': 'municipio=Brooklyn<br>price=%{x}<br>sum of number_of_reviews=%{y}<extra></extra>',\n",
       "              'legendgroup': 'Brooklyn',\n",
       "              'marker': {'color': '#636efa', 'pattern': {'shape': ''}},\n",
       "              'name': 'Brooklyn',\n",
       "              'nbinsx': 200,\n",
       "              'offsetgroup': 'Brooklyn',\n",
       "              'orientation': 'v',\n",
       "              'showlegend': True,\n",
       "              'type': 'histogram',\n",
       "              'x': array([149.,  89.,  60., ...,  90., 298., 123.]),\n",
       "              'xaxis': 'x',\n",
       "              'y': array([  9., 270.,  49., ...,  32., 131., 269.]),\n",
       "              'yaxis': 'y'},\n",
       "             {'alignmentgroup': 'True',\n",
       "              'boxpoints': 'all',\n",
       "              'customdata': array([['Brooklyn'],\n",
       "                                   ['Brooklyn'],\n",
       "                                   ['Brooklyn'],\n",
       "                                   ...,\n",
       "                                   ['Brooklyn'],\n",
       "                                   ['Brooklyn'],\n",
       "                                   ['Brooklyn']], dtype=object),\n",
       "              'fillcolor': 'rgba(255,255,255,0)',\n",
       "              'hoveron': 'points',\n",
       "              'hovertemplate': 'municipio=%{customdata[0]}<br>price=%{x}<extra></extra>',\n",
       "              'jitter': 0,\n",
       "              'legendgroup': 'Brooklyn',\n",
       "              'line': {'color': 'rgba(255,255,255,0)'},\n",
       "              'marker': {'color': '#636efa', 'symbol': 'line-ns-open'},\n",
       "              'name': 'Brooklyn',\n",
       "              'offsetgroup': 'Brooklyn',\n",
       "              'showlegend': False,\n",
       "              'type': 'box',\n",
       "              'x': array([149.,  89.,  60., ...,  90., 298., 123.]),\n",
       "              'xaxis': 'x6',\n",
       "              'yaxis': 'y6'},\n",
       "             {'alignmentgroup': 'True',\n",
       "              'bingroup': 'x',\n",
       "              'histfunc': 'sum',\n",
       "              'hovertemplate': ('municipio=Manhattan<br>price=%' ... 'of_reviews=%{y}<extra></extra>'),\n",
       "              'legendgroup': 'Manhattan',\n",
       "              'marker': {'color': '#EF553B', 'pattern': {'shape': ''}},\n",
       "              'name': 'Manhattan',\n",
       "              'nbinsx': 200,\n",
       "              'offsetgroup': 'Manhattan',\n",
       "              'orientation': 'v',\n",
       "              'showlegend': True,\n",
       "              'type': 'histogram',\n",
       "              'x': array([225., 150.,  80., ..., 125., 145., 147.]),\n",
       "              'xaxis': 'x2',\n",
       "              'y': array([ 45.,   0.,   9., ...,  74., 165.,  16.]),\n",
       "              'yaxis': 'y2'},\n",
       "             {'alignmentgroup': 'True',\n",
       "              'boxpoints': 'all',\n",
       "              'customdata': array([['Manhattan'],\n",
       "                                   ['Manhattan'],\n",
       "                                   ['Manhattan'],\n",
       "                                   ...,\n",
       "                                   ['Manhattan'],\n",
       "                                   ['Manhattan'],\n",
       "                                   ['Manhattan']], dtype=object),\n",
       "              'fillcolor': 'rgba(255,255,255,0)',\n",
       "              'hoveron': 'points',\n",
       "              'hovertemplate': 'municipio=%{customdata[0]}<br>price=%{x}<extra></extra>',\n",
       "              'jitter': 0,\n",
       "              'legendgroup': 'Manhattan',\n",
       "              'line': {'color': 'rgba(255,255,255,0)'},\n",
       "              'marker': {'color': '#EF553B', 'symbol': 'line-ns-open'},\n",
       "              'name': 'Manhattan',\n",
       "              'offsetgroup': 'Manhattan',\n",
       "              'showlegend': False,\n",
       "              'type': 'box',\n",
       "              'x': array([225., 150.,  80., ..., 125., 145., 147.]),\n",
       "              'xaxis': 'x7',\n",
       "              'yaxis': 'y7'},\n",
       "             {'alignmentgroup': 'True',\n",
       "              'bingroup': 'x',\n",
       "              'histfunc': 'sum',\n",
       "              'hovertemplate': 'municipio=Queens<br>price=%{x}<br>sum of number_of_reviews=%{y}<extra></extra>',\n",
       "              'legendgroup': 'Queens',\n",
       "              'marker': {'color': '#00cc96', 'pattern': {'shape': ''}},\n",
       "              'name': 'Queens',\n",
       "              'nbinsx': 200,\n",
       "              'offsetgroup': 'Queens',\n",
       "              'orientation': 'v',\n",
       "              'showlegend': True,\n",
       "              'type': 'histogram',\n",
       "              'x': array([130.,  70., 140.,  79., 350.,  55.,  98., 140., 265., 140., 140.,  99.,\n",
       "                          115.,  80.,  50.,  70., 110.,  97., 129.,  42.,  42.,  33., 107.,  95.,\n",
       "                           75.,  50.,  95.,  55.,  75.,  75.,  79.,  54.,  80.,  75.,  73.,  55.,\n",
       "                           96.,  85.,  30.,  65.,  70., 192.,  55.,  52.,  75.,  45.,  75.]),\n",
       "              'xaxis': 'x3',\n",
       "              'y': array([248.,  25.,   1.,  28.,  10.,  52.,  33.,   6.,  38.,  17.,   1., 441.,\n",
       "                          198.,  42.,  43.,  13.,  30.,  28., 414.,  53.,  41.,  31.,  21.,  24.,\n",
       "                          160., 258.,  24.,  19.,  65.,  49.,  60.,  56.,  81.,  20.,  95.,  38.,\n",
       "                          244., 270.,   3.,   5.,   1.,   7.,  63.,  98.,  59.,   8.,  16.]),\n",
       "              'yaxis': 'y3'},\n",
       "             {'alignmentgroup': 'True',\n",
       "              'boxpoints': 'all',\n",
       "              'customdata': array([['Queens'],\n",
       "                                   ['Queens'],\n",
       "                                   ['Queens'],\n",
       "                                   ['Queens'],\n",
       "                                   ['Queens'],\n",
       "                                   ['Queens'],\n",
       "                                   ['Queens'],\n",
       "                                   ['Queens'],\n",
       "                                   ['Queens'],\n",
       "                                   ['Queens'],\n",
       "                                   ['Queens'],\n",
       "                                   ['Queens'],\n",
       "                                   ['Queens'],\n",
       "                                   ['Queens'],\n",
       "                                   ['Queens'],\n",
       "                                   ['Queens'],\n",
       "                                   ['Queens'],\n",
       "                                   ['Queens'],\n",
       "                                   ['Queens'],\n",
       "                                   ['Queens'],\n",
       "                                   ['Queens'],\n",
       "                                   ['Queens'],\n",
       "                                   ['Queens'],\n",
       "                                   ['Queens'],\n",
       "                                   ['Queens'],\n",
       "                                   ['Queens'],\n",
       "                                   ['Queens'],\n",
       "                                   ['Queens'],\n",
       "                                   ['Queens'],\n",
       "                                   ['Queens'],\n",
       "                                   ['Queens'],\n",
       "                                   ['Queens'],\n",
       "                                   ['Queens'],\n",
       "                                   ['Queens'],\n",
       "                                   ['Queens'],\n",
       "                                   ['Queens'],\n",
       "                                   ['Queens'],\n",
       "                                   ['Queens'],\n",
       "                                   ['Queens'],\n",
       "                                   ['Queens'],\n",
       "                                   ['Queens'],\n",
       "                                   ['Queens'],\n",
       "                                   ['Queens'],\n",
       "                                   ['Queens'],\n",
       "                                   ['Queens'],\n",
       "                                   ['Queens'],\n",
       "                                   ['Queens']], dtype=object),\n",
       "              'fillcolor': 'rgba(255,255,255,0)',\n",
       "              'hoveron': 'points',\n",
       "              'hovertemplate': 'municipio=%{customdata[0]}<br>price=%{x}<extra></extra>',\n",
       "              'jitter': 0,\n",
       "              'legendgroup': 'Queens',\n",
       "              'line': {'color': 'rgba(255,255,255,0)'},\n",
       "              'marker': {'color': '#00cc96', 'symbol': 'line-ns-open'},\n",
       "              'name': 'Queens',\n",
       "              'offsetgroup': 'Queens',\n",
       "              'showlegend': False,\n",
       "              'type': 'box',\n",
       "              'x': array([130.,  70., 140.,  79., 350.,  55.,  98., 140., 265., 140., 140.,  99.,\n",
       "                          115.,  80.,  50.,  70., 110.,  97., 129.,  42.,  42.,  33., 107.,  95.,\n",
       "                           75.,  50.,  95.,  55.,  75.,  75.,  79.,  54.,  80.,  75.,  73.,  55.,\n",
       "                           96.,  85.,  30.,  65.,  70., 192.,  55.,  52.,  75.,  45.,  75.]),\n",
       "              'xaxis': 'x8',\n",
       "              'yaxis': 'y8'},\n",
       "             {'alignmentgroup': 'True',\n",
       "              'bingroup': 'x',\n",
       "              'histfunc': 'sum',\n",
       "              'hovertemplate': ('municipio=Staten Island<br>pri' ... 'of_reviews=%{y}<extra></extra>'),\n",
       "              'legendgroup': 'Staten Island',\n",
       "              'marker': {'color': '#ab63fa', 'pattern': {'shape': ''}},\n",
       "              'name': 'Staten Island',\n",
       "              'nbinsx': 200,\n",
       "              'offsetgroup': 'Staten Island',\n",
       "              'orientation': 'v',\n",
       "              'showlegend': True,\n",
       "              'type': 'histogram',\n",
       "              'x': array([ 70.,  36.,  37.,  37.,  36.,  80.,  75., 250.,  50., 125.,  59.,  20.,\n",
       "                          110.]),\n",
       "              'xaxis': 'x4',\n",
       "              'y': array([166., 193., 147., 177., 333.,   2.,  76.,  21.,   0.,   8.,  50.,  80.,\n",
       "                            6.]),\n",
       "              'yaxis': 'y4'},\n",
       "             {'alignmentgroup': 'True',\n",
       "              'boxpoints': 'all',\n",
       "              'customdata': array([['Staten Island'],\n",
       "                                   ['Staten Island'],\n",
       "                                   ['Staten Island'],\n",
       "                                   ['Staten Island'],\n",
       "                                   ['Staten Island'],\n",
       "                                   ['Staten Island'],\n",
       "                                   ['Staten Island'],\n",
       "                                   ['Staten Island'],\n",
       "                                   ['Staten Island'],\n",
       "                                   ['Staten Island'],\n",
       "                                   ['Staten Island'],\n",
       "                                   ['Staten Island'],\n",
       "                                   ['Staten Island']], dtype=object),\n",
       "              'fillcolor': 'rgba(255,255,255,0)',\n",
       "              'hoveron': 'points',\n",
       "              'hovertemplate': 'municipio=%{customdata[0]}<br>price=%{x}<extra></extra>',\n",
       "              'jitter': 0,\n",
       "              'legendgroup': 'Staten Island',\n",
       "              'line': {'color': 'rgba(255,255,255,0)'},\n",
       "              'marker': {'color': '#ab63fa', 'symbol': 'line-ns-open'},\n",
       "              'name': 'Staten Island',\n",
       "              'offsetgroup': 'Staten Island',\n",
       "              'showlegend': False,\n",
       "              'type': 'box',\n",
       "              'x': array([ 70.,  36.,  37.,  37.,  36.,  80.,  75., 250.,  50., 125.,  59.,  20.,\n",
       "                          110.]),\n",
       "              'xaxis': 'x9',\n",
       "              'yaxis': 'y9'},\n",
       "             {'alignmentgroup': 'True',\n",
       "              'bingroup': 'x',\n",
       "              'histfunc': 'sum',\n",
       "              'hovertemplate': 'municipio=Bronx<br>price=%{x}<br>sum of number_of_reviews=%{y}<extra></extra>',\n",
       "              'legendgroup': 'Bronx',\n",
       "              'marker': {'color': '#FFA15A', 'pattern': {'shape': ''}},\n",
       "              'name': 'Bronx',\n",
       "              'nbinsx': 200,\n",
       "              'offsetgroup': 'Bronx',\n",
       "              'orientation': 'v',\n",
       "              'showlegend': True,\n",
       "              'type': 'histogram',\n",
       "              'x': array([ 40.,  45.,  90., 105.,  90.,  77.,  37., 125.,  50.,  50.,  42.,  50.,\n",
       "                          120.]),\n",
       "              'xaxis': 'x5',\n",
       "              'y': array([219., 138.,   0.,  38.,   4., 197., 117., 271., 258., 235., 108.,  15.,\n",
       "                           47.]),\n",
       "              'yaxis': 'y5'},\n",
       "             {'alignmentgroup': 'True',\n",
       "              'boxpoints': 'all',\n",
       "              'customdata': array([['Bronx'],\n",
       "                                   ['Bronx'],\n",
       "                                   ['Bronx'],\n",
       "                                   ['Bronx'],\n",
       "                                   ['Bronx'],\n",
       "                                   ['Bronx'],\n",
       "                                   ['Bronx'],\n",
       "                                   ['Bronx'],\n",
       "                                   ['Bronx'],\n",
       "                                   ['Bronx'],\n",
       "                                   ['Bronx'],\n",
       "                                   ['Bronx'],\n",
       "                                   ['Bronx']], dtype=object),\n",
       "              'fillcolor': 'rgba(255,255,255,0)',\n",
       "              'hoveron': 'points',\n",
       "              'hovertemplate': 'municipio=%{customdata[0]}<br>price=%{x}<extra></extra>',\n",
       "              'jitter': 0,\n",
       "              'legendgroup': 'Bronx',\n",
       "              'line': {'color': 'rgba(255,255,255,0)'},\n",
       "              'marker': {'color': '#FFA15A', 'symbol': 'line-ns-open'},\n",
       "              'name': 'Bronx',\n",
       "              'offsetgroup': 'Bronx',\n",
       "              'showlegend': False,\n",
       "              'type': 'box',\n",
       "              'x': array([ 40.,  45.,  90., 105.,  90.,  77.,  37., 125.,  50.,  50.,  42.,  50.,\n",
       "                          120.]),\n",
       "              'xaxis': 'x10',\n",
       "              'yaxis': 'y10'}],\n",
       "    'layout': {'annotations': [{'font': {},\n",
       "                                'showarrow': False,\n",
       "                                'text': 'municipio=Brooklyn',\n",
       "                                'x': 0.09200000000000001,\n",
       "                                'xanchor': 'center',\n",
       "                                'xref': 'paper',\n",
       "                                'y': 1.0,\n",
       "                                'yanchor': 'bottom',\n",
       "                                'yref': 'paper'},\n",
       "                               {'font': {},\n",
       "                                'showarrow': False,\n",
       "                                'text': 'municipio=Manhattan',\n",
       "                                'x': 0.29600000000000004,\n",
       "                                'xanchor': 'center',\n",
       "                                'xref': 'paper',\n",
       "                                'y': 1.0,\n",
       "                                'yanchor': 'bottom',\n",
       "                                'yref': 'paper'},\n",
       "                               {'font': {},\n",
       "                                'showarrow': False,\n",
       "                                'text': 'municipio=Queens',\n",
       "                                'x': 0.5,\n",
       "                                'xanchor': 'center',\n",
       "                                'xref': 'paper',\n",
       "                                'y': 1.0,\n",
       "                                'yanchor': 'bottom',\n",
       "                                'yref': 'paper'},\n",
       "                               {'font': {},\n",
       "                                'showarrow': False,\n",
       "                                'text': 'municipio=Staten Island',\n",
       "                                'x': 0.7040000000000002,\n",
       "                                'xanchor': 'center',\n",
       "                                'xref': 'paper',\n",
       "                                'y': 1.0,\n",
       "                                'yanchor': 'bottom',\n",
       "                                'yref': 'paper'},\n",
       "                               {'font': {},\n",
       "                                'showarrow': False,\n",
       "                                'text': 'municipio=Bronx',\n",
       "                                'x': 0.908,\n",
       "                                'xanchor': 'center',\n",
       "                                'xref': 'paper',\n",
       "                                'y': 1.0,\n",
       "                                'yanchor': 'bottom',\n",
       "                                'yref': 'paper'}],\n",
       "               'barmode': 'relative',\n",
       "               'legend': {'title': {'text': 'municipio'}, 'tracegroupgap': 0},\n",
       "               'margin': {'t': 60},\n",
       "               'template': '...',\n",
       "               'xaxis': {'anchor': 'y', 'domain': [0.0, 0.18400000000000002], 'title': {'text': 'price'}},\n",
       "               'xaxis10': {'anchor': 'y10',\n",
       "                           'domain': [0.8160000000000001, 1.0],\n",
       "                           'matches': 'x',\n",
       "                           'showgrid': True,\n",
       "                           'showticklabels': False},\n",
       "               'xaxis2': {'anchor': 'y2',\n",
       "                          'domain': [0.20400000000000001, 0.388],\n",
       "                          'matches': 'x',\n",
       "                          'title': {'text': 'price'}},\n",
       "               'xaxis3': {'anchor': 'y3',\n",
       "                          'domain': [0.40800000000000003, 0.5920000000000001],\n",
       "                          'matches': 'x',\n",
       "                          'title': {'text': 'price'}},\n",
       "               'xaxis4': {'anchor': 'y4',\n",
       "                          'domain': [0.6120000000000001, 0.7960000000000002],\n",
       "                          'matches': 'x',\n",
       "                          'title': {'text': 'price'}},\n",
       "               'xaxis5': {'anchor': 'y5', 'domain': [0.8160000000000001, 1.0], 'matches': 'x', 'title': {'text': 'price'}},\n",
       "               'xaxis6': {'anchor': 'y6',\n",
       "                          'domain': [0.0, 0.18400000000000002],\n",
       "                          'matches': 'x',\n",
       "                          'showgrid': True,\n",
       "                          'showticklabels': False},\n",
       "               'xaxis7': {'anchor': 'y7',\n",
       "                          'domain': [0.20400000000000001, 0.388],\n",
       "                          'matches': 'x',\n",
       "                          'showgrid': True,\n",
       "                          'showticklabels': False},\n",
       "               'xaxis8': {'anchor': 'y8',\n",
       "                          'domain': [0.40800000000000003, 0.5920000000000001],\n",
       "                          'matches': 'x',\n",
       "                          'showgrid': True,\n",
       "                          'showticklabels': False},\n",
       "               'xaxis9': {'anchor': 'y9',\n",
       "                          'domain': [0.6120000000000001, 0.7960000000000002],\n",
       "                          'matches': 'x',\n",
       "                          'showgrid': True,\n",
       "                          'showticklabels': False},\n",
       "               'yaxis': {'anchor': 'x', 'domain': [0.0, 0.7326], 'title': {'text': 'sum of number_of_reviews'}},\n",
       "               'yaxis10': {'anchor': 'x10',\n",
       "                           'domain': [0.7426, 1.0],\n",
       "                           'matches': 'y6',\n",
       "                           'showgrid': False,\n",
       "                           'showline': False,\n",
       "                           'showticklabels': False,\n",
       "                           'ticks': ''},\n",
       "               'yaxis2': {'anchor': 'x2', 'domain': [0.0, 0.7326], 'matches': 'y', 'showticklabels': False},\n",
       "               'yaxis3': {'anchor': 'x3', 'domain': [0.0, 0.7326], 'matches': 'y', 'showticklabels': False},\n",
       "               'yaxis4': {'anchor': 'x4', 'domain': [0.0, 0.7326], 'matches': 'y', 'showticklabels': False},\n",
       "               'yaxis5': {'anchor': 'x5', 'domain': [0.0, 0.7326], 'matches': 'y', 'showticklabels': False},\n",
       "               'yaxis6': {'anchor': 'x6',\n",
       "                          'domain': [0.7426, 1.0],\n",
       "                          'matches': 'y6',\n",
       "                          'showgrid': False,\n",
       "                          'showline': False,\n",
       "                          'showticklabels': False,\n",
       "                          'ticks': ''},\n",
       "               'yaxis7': {'anchor': 'x7',\n",
       "                          'domain': [0.7426, 1.0],\n",
       "                          'matches': 'y6',\n",
       "                          'showgrid': False,\n",
       "                          'showline': False,\n",
       "                          'showticklabels': False,\n",
       "                          'ticks': ''},\n",
       "               'yaxis8': {'anchor': 'x8',\n",
       "                          'domain': [0.7426, 1.0],\n",
       "                          'matches': 'y6',\n",
       "                          'showgrid': False,\n",
       "                          'showline': False,\n",
       "                          'showticklabels': False,\n",
       "                          'ticks': ''},\n",
       "               'yaxis9': {'anchor': 'x9',\n",
       "                          'domain': [0.7426, 1.0],\n",
       "                          'matches': 'y6',\n",
       "                          'showgrid': False,\n",
       "                          'showline': False,\n",
       "                          'showticklabels': False,\n",
       "                          'ticks': ''}}\n",
       "})"
      ]
     },
     "execution_count": 14,
     "metadata": {},
     "output_type": "execute_result"
    }
   ],
   "source": [
    "# Airbnb - facet_col\n",
    "px.histogram(data_frame = df_airbnb.iloc[:1000, :],\n",
    "             x          = \"price\",\n",
    "             y          = \"number_of_reviews\", \n",
    "             hover_data = [\"municipio\"],\n",
    "             color      = \"municipio\",\n",
    "             nbins      = 200,\n",
    "             marginal   = \"rug\",\n",
    "             facet_col = \"municipio\")"
   ]
  },
  {
   "cell_type": "code",
   "execution_count": null,
   "id": "2567ff6a",
   "metadata": {},
   "outputs": [],
   "source": [
    "# Airbnb - facet_row\n",
    "px.histogram(data_frame = df_airbnb.iloc[:1000, :],\n",
    "             x          = \"price\",\n",
    "             y          = \"number_of_reviews\", \n",
    "             hover_data = [\"municipio\"],\n",
    "             color      = \"municipio\",\n",
    "             nbins      = 200,\n",
    "             marginal   = \"rug\",\n",
    "             facet_row = \"municipio\")"
   ]
  },
  {
   "cell_type": "markdown",
   "id": "fd079177",
   "metadata": {},
   "source": [
    "#### Bar plot\n",
    "**`px.bar()`**"
   ]
  },
  {
   "cell_type": "code",
   "execution_count": 17,
   "id": "5c0491d8",
   "metadata": {},
   "outputs": [
    {
     "data": {
      "text/html": [
       "<div>\n",
       "<style scoped>\n",
       "    .dataframe tbody tr th:only-of-type {\n",
       "        vertical-align: middle;\n",
       "    }\n",
       "\n",
       "    .dataframe tbody tr th {\n",
       "        vertical-align: top;\n",
       "    }\n",
       "\n",
       "    .dataframe thead th {\n",
       "        text-align: right;\n",
       "    }\n",
       "</style>\n",
       "<table border=\"1\" class=\"dataframe\">\n",
       "  <thead>\n",
       "    <tr style=\"text-align: right;\">\n",
       "      <th></th>\n",
       "      <th>Largo Sepalo</th>\n",
       "      <th>Ancho Sepalo</th>\n",
       "      <th>Largo Petalo</th>\n",
       "      <th>Ancho Petalo</th>\n",
       "      <th>Clase</th>\n",
       "    </tr>\n",
       "  </thead>\n",
       "  <tbody>\n",
       "    <tr>\n",
       "      <th>0</th>\n",
       "      <td>5.1</td>\n",
       "      <td>3.5</td>\n",
       "      <td>1.4</td>\n",
       "      <td>0.2</td>\n",
       "      <td>Iris-setosa</td>\n",
       "    </tr>\n",
       "    <tr>\n",
       "      <th>1</th>\n",
       "      <td>4.9</td>\n",
       "      <td>3.0</td>\n",
       "      <td>1.4</td>\n",
       "      <td>0.2</td>\n",
       "      <td>Iris-setosa</td>\n",
       "    </tr>\n",
       "    <tr>\n",
       "      <th>2</th>\n",
       "      <td>4.7</td>\n",
       "      <td>3.2</td>\n",
       "      <td>1.3</td>\n",
       "      <td>0.2</td>\n",
       "      <td>Iris-setosa</td>\n",
       "    </tr>\n",
       "    <tr>\n",
       "      <th>3</th>\n",
       "      <td>4.6</td>\n",
       "      <td>3.1</td>\n",
       "      <td>1.5</td>\n",
       "      <td>0.2</td>\n",
       "      <td>Iris-setosa</td>\n",
       "    </tr>\n",
       "    <tr>\n",
       "      <th>4</th>\n",
       "      <td>5.0</td>\n",
       "      <td>3.6</td>\n",
       "      <td>1.4</td>\n",
       "      <td>0.2</td>\n",
       "      <td>Iris-setosa</td>\n",
       "    </tr>\n",
       "    <tr>\n",
       "      <th>...</th>\n",
       "      <td>...</td>\n",
       "      <td>...</td>\n",
       "      <td>...</td>\n",
       "      <td>...</td>\n",
       "      <td>...</td>\n",
       "    </tr>\n",
       "    <tr>\n",
       "      <th>145</th>\n",
       "      <td>6.7</td>\n",
       "      <td>3.0</td>\n",
       "      <td>5.2</td>\n",
       "      <td>2.3</td>\n",
       "      <td>Iris-virginica</td>\n",
       "    </tr>\n",
       "    <tr>\n",
       "      <th>146</th>\n",
       "      <td>6.3</td>\n",
       "      <td>2.5</td>\n",
       "      <td>5.0</td>\n",
       "      <td>1.9</td>\n",
       "      <td>Iris-virginica</td>\n",
       "    </tr>\n",
       "    <tr>\n",
       "      <th>147</th>\n",
       "      <td>6.5</td>\n",
       "      <td>3.0</td>\n",
       "      <td>5.2</td>\n",
       "      <td>2.0</td>\n",
       "      <td>Iris-virginica</td>\n",
       "    </tr>\n",
       "    <tr>\n",
       "      <th>148</th>\n",
       "      <td>6.2</td>\n",
       "      <td>3.4</td>\n",
       "      <td>5.4</td>\n",
       "      <td>2.3</td>\n",
       "      <td>Iris-virginica</td>\n",
       "    </tr>\n",
       "    <tr>\n",
       "      <th>149</th>\n",
       "      <td>5.9</td>\n",
       "      <td>3.0</td>\n",
       "      <td>5.1</td>\n",
       "      <td>1.8</td>\n",
       "      <td>Iris-virginica</td>\n",
       "    </tr>\n",
       "  </tbody>\n",
       "</table>\n",
       "<p>150 rows × 5 columns</p>\n",
       "</div>"
      ],
      "text/plain": [
       "     Largo Sepalo  Ancho Sepalo  Largo Petalo  Ancho Petalo           Clase\n",
       "0             5.1           3.5           1.4           0.2     Iris-setosa\n",
       "1             4.9           3.0           1.4           0.2     Iris-setosa\n",
       "2             4.7           3.2           1.3           0.2     Iris-setosa\n",
       "3             4.6           3.1           1.5           0.2     Iris-setosa\n",
       "4             5.0           3.6           1.4           0.2     Iris-setosa\n",
       "..            ...           ...           ...           ...             ...\n",
       "145           6.7           3.0           5.2           2.3  Iris-virginica\n",
       "146           6.3           2.5           5.0           1.9  Iris-virginica\n",
       "147           6.5           3.0           5.2           2.0  Iris-virginica\n",
       "148           6.2           3.4           5.4           2.3  Iris-virginica\n",
       "149           5.9           3.0           5.1           1.8  Iris-virginica\n",
       "\n",
       "[150 rows x 5 columns]"
      ]
     },
     "execution_count": 17,
     "metadata": {},
     "output_type": "execute_result"
    }
   ],
   "source": [
    "df_iris"
   ]
  },
  {
   "cell_type": "code",
   "execution_count": 19,
   "id": "bd2ce41f",
   "metadata": {},
   "outputs": [
    {
     "ename": "ValueError",
     "evalue": "Mime type rendering requires nbformat>=4.2.0 but it is not installed",
     "output_type": "error",
     "traceback": [
      "\u001b[1;31m---------------------------------------------------------------------------\u001b[0m",
      "\u001b[1;31mValueError\u001b[0m                                Traceback (most recent call last)",
      "File \u001b[1;32m~\\AppData\\Roaming\\Python\\Python312\\site-packages\\IPython\\core\\formatters.py:922\u001b[0m, in \u001b[0;36mIPythonDisplayFormatter.__call__\u001b[1;34m(self, obj)\u001b[0m\n\u001b[0;32m    920\u001b[0m method \u001b[38;5;241m=\u001b[39m get_real_method(obj, \u001b[38;5;28mself\u001b[39m\u001b[38;5;241m.\u001b[39mprint_method)\n\u001b[0;32m    921\u001b[0m \u001b[38;5;28;01mif\u001b[39;00m method \u001b[38;5;129;01mis\u001b[39;00m \u001b[38;5;129;01mnot\u001b[39;00m \u001b[38;5;28;01mNone\u001b[39;00m:\n\u001b[1;32m--> 922\u001b[0m     \u001b[43mmethod\u001b[49m\u001b[43m(\u001b[49m\u001b[43m)\u001b[49m\n\u001b[0;32m    923\u001b[0m     \u001b[38;5;28;01mreturn\u001b[39;00m \u001b[38;5;28;01mTrue\u001b[39;00m\n",
      "File \u001b[1;32mc:\\Users\\fran\\AppData\\Local\\Programs\\Python\\Python312\\Lib\\site-packages\\plotly\\basedatatypes.py:832\u001b[0m, in \u001b[0;36mBaseFigure._ipython_display_\u001b[1;34m(self)\u001b[0m\n\u001b[0;32m    829\u001b[0m \u001b[38;5;28;01mimport\u001b[39;00m \u001b[38;5;21;01mplotly\u001b[39;00m\u001b[38;5;21;01m.\u001b[39;00m\u001b[38;5;21;01mio\u001b[39;00m \u001b[38;5;28;01mas\u001b[39;00m \u001b[38;5;21;01mpio\u001b[39;00m\n\u001b[0;32m    831\u001b[0m \u001b[38;5;28;01mif\u001b[39;00m pio\u001b[38;5;241m.\u001b[39mrenderers\u001b[38;5;241m.\u001b[39mrender_on_display \u001b[38;5;129;01mand\u001b[39;00m pio\u001b[38;5;241m.\u001b[39mrenderers\u001b[38;5;241m.\u001b[39mdefault:\n\u001b[1;32m--> 832\u001b[0m     \u001b[43mpio\u001b[49m\u001b[38;5;241;43m.\u001b[39;49m\u001b[43mshow\u001b[49m\u001b[43m(\u001b[49m\u001b[38;5;28;43mself\u001b[39;49m\u001b[43m)\u001b[49m\n\u001b[0;32m    833\u001b[0m \u001b[38;5;28;01melse\u001b[39;00m:\n\u001b[0;32m    834\u001b[0m     \u001b[38;5;28mprint\u001b[39m(\u001b[38;5;28mrepr\u001b[39m(\u001b[38;5;28mself\u001b[39m))\n",
      "File \u001b[1;32mc:\\Users\\fran\\AppData\\Local\\Programs\\Python\\Python312\\Lib\\site-packages\\plotly\\io\\_renderers.py:394\u001b[0m, in \u001b[0;36mshow\u001b[1;34m(fig, renderer, validate, **kwargs)\u001b[0m\n\u001b[0;32m    389\u001b[0m         \u001b[38;5;28;01mraise\u001b[39;00m \u001b[38;5;167;01mValueError\u001b[39;00m(\n\u001b[0;32m    390\u001b[0m             \u001b[38;5;124m\"\u001b[39m\u001b[38;5;124mMime type rendering requires ipython but it is not installed\u001b[39m\u001b[38;5;124m\"\u001b[39m\n\u001b[0;32m    391\u001b[0m         )\n\u001b[0;32m    393\u001b[0m     \u001b[38;5;28;01mif\u001b[39;00m \u001b[38;5;129;01mnot\u001b[39;00m nbformat \u001b[38;5;129;01mor\u001b[39;00m Version(nbformat\u001b[38;5;241m.\u001b[39m__version__) \u001b[38;5;241m<\u001b[39m Version(\u001b[38;5;124m\"\u001b[39m\u001b[38;5;124m4.2.0\u001b[39m\u001b[38;5;124m\"\u001b[39m):\n\u001b[1;32m--> 394\u001b[0m         \u001b[38;5;28;01mraise\u001b[39;00m \u001b[38;5;167;01mValueError\u001b[39;00m(\n\u001b[0;32m    395\u001b[0m             \u001b[38;5;124m\"\u001b[39m\u001b[38;5;124mMime type rendering requires nbformat>=4.2.0 but it is not installed\u001b[39m\u001b[38;5;124m\"\u001b[39m\n\u001b[0;32m    396\u001b[0m         )\n\u001b[0;32m    398\u001b[0m     ipython_display\u001b[38;5;241m.\u001b[39mdisplay(bundle, raw\u001b[38;5;241m=\u001b[39m\u001b[38;5;28;01mTrue\u001b[39;00m)\n\u001b[0;32m    400\u001b[0m \u001b[38;5;66;03m# external renderers\u001b[39;00m\n",
      "\u001b[1;31mValueError\u001b[0m: Mime type rendering requires nbformat>=4.2.0 but it is not installed"
     ]
    },
    {
     "data": {
      "application/vnd.plotly.v1+json": {
       "config": {
        "plotlyServerURL": "https://plot.ly"
       },
       "data": [
        {
         "alignmentgroup": "True",
         "hovertemplate": "Clase=%{x}<br>Largo Sepalo=%{y}<extra></extra>",
         "legendgroup": "",
         "marker": {
          "color": "#636efa",
          "pattern": {
           "shape": ""
          }
         },
         "name": "",
         "offsetgroup": "",
         "orientation": "v",
         "showlegend": false,
         "textposition": "auto",
         "type": "bar",
         "x": [
          "Iris-setosa",
          "Iris-setosa",
          "Iris-setosa",
          "Iris-setosa",
          "Iris-setosa",
          "Iris-setosa",
          "Iris-setosa",
          "Iris-setosa",
          "Iris-setosa",
          "Iris-setosa",
          "Iris-setosa",
          "Iris-setosa",
          "Iris-setosa",
          "Iris-setosa",
          "Iris-setosa",
          "Iris-setosa",
          "Iris-setosa",
          "Iris-setosa",
          "Iris-setosa",
          "Iris-setosa",
          "Iris-setosa",
          "Iris-setosa",
          "Iris-setosa",
          "Iris-setosa",
          "Iris-setosa",
          "Iris-setosa",
          "Iris-setosa",
          "Iris-setosa",
          "Iris-setosa",
          "Iris-setosa",
          "Iris-setosa",
          "Iris-setosa",
          "Iris-setosa",
          "Iris-setosa",
          "Iris-setosa",
          "Iris-setosa",
          "Iris-setosa",
          "Iris-setosa",
          "Iris-setosa",
          "Iris-setosa",
          "Iris-setosa",
          "Iris-setosa",
          "Iris-setosa",
          "Iris-setosa",
          "Iris-setosa",
          "Iris-setosa",
          "Iris-setosa",
          "Iris-setosa",
          "Iris-setosa",
          "Iris-setosa",
          "Iris-versicolor",
          "Iris-versicolor",
          "Iris-versicolor",
          "Iris-versicolor",
          "Iris-versicolor",
          "Iris-versicolor",
          "Iris-versicolor",
          "Iris-versicolor",
          "Iris-versicolor",
          "Iris-versicolor",
          "Iris-versicolor",
          "Iris-versicolor",
          "Iris-versicolor",
          "Iris-versicolor",
          "Iris-versicolor",
          "Iris-versicolor",
          "Iris-versicolor",
          "Iris-versicolor",
          "Iris-versicolor",
          "Iris-versicolor",
          "Iris-versicolor",
          "Iris-versicolor",
          "Iris-versicolor",
          "Iris-versicolor",
          "Iris-versicolor",
          "Iris-versicolor",
          "Iris-versicolor",
          "Iris-versicolor",
          "Iris-versicolor",
          "Iris-versicolor",
          "Iris-versicolor",
          "Iris-versicolor",
          "Iris-versicolor",
          "Iris-versicolor",
          "Iris-versicolor",
          "Iris-versicolor",
          "Iris-versicolor",
          "Iris-versicolor",
          "Iris-versicolor",
          "Iris-versicolor",
          "Iris-versicolor",
          "Iris-versicolor",
          "Iris-versicolor",
          "Iris-versicolor",
          "Iris-versicolor",
          "Iris-versicolor",
          "Iris-versicolor",
          "Iris-versicolor",
          "Iris-versicolor",
          "Iris-versicolor",
          "Iris-virginica",
          "Iris-virginica",
          "Iris-virginica",
          "Iris-virginica",
          "Iris-virginica",
          "Iris-virginica",
          "Iris-virginica",
          "Iris-virginica",
          "Iris-virginica",
          "Iris-virginica",
          "Iris-virginica",
          "Iris-virginica",
          "Iris-virginica",
          "Iris-virginica",
          "Iris-virginica",
          "Iris-virginica",
          "Iris-virginica",
          "Iris-virginica",
          "Iris-virginica",
          "Iris-virginica",
          "Iris-virginica",
          "Iris-virginica",
          "Iris-virginica",
          "Iris-virginica",
          "Iris-virginica",
          "Iris-virginica",
          "Iris-virginica",
          "Iris-virginica",
          "Iris-virginica",
          "Iris-virginica",
          "Iris-virginica",
          "Iris-virginica",
          "Iris-virginica",
          "Iris-virginica",
          "Iris-virginica",
          "Iris-virginica",
          "Iris-virginica",
          "Iris-virginica",
          "Iris-virginica",
          "Iris-virginica",
          "Iris-virginica",
          "Iris-virginica",
          "Iris-virginica",
          "Iris-virginica",
          "Iris-virginica",
          "Iris-virginica",
          "Iris-virginica",
          "Iris-virginica",
          "Iris-virginica",
          "Iris-virginica"
         ],
         "xaxis": "x",
         "y": [
          5.1,
          4.9,
          4.7,
          4.6,
          5,
          5.4,
          4.6,
          5,
          4.4,
          4.9,
          5.4,
          4.8,
          4.8,
          4.3,
          5.8,
          5.7,
          5.4,
          5.1,
          5.7,
          5.1,
          5.4,
          5.1,
          4.6,
          5.1,
          4.8,
          5,
          5,
          5.2,
          5.2,
          4.7,
          4.8,
          5.4,
          5.2,
          5.5,
          4.9,
          5,
          5.5,
          4.9,
          4.4,
          5.1,
          5,
          4.5,
          4.4,
          5,
          5.1,
          4.8,
          5.1,
          4.6,
          5.3,
          5,
          7,
          6.4,
          6.9,
          5.5,
          6.5,
          5.7,
          6.3,
          4.9,
          6.6,
          5.2,
          5,
          5.9,
          6,
          6.1,
          5.6,
          6.7,
          5.6,
          5.8,
          6.2,
          5.6,
          5.9,
          6.1,
          6.3,
          6.1,
          6.4,
          6.6,
          6.8,
          6.7,
          6,
          5.7,
          5.5,
          5.5,
          5.8,
          6,
          5.4,
          6,
          6.7,
          6.3,
          5.6,
          5.5,
          5.5,
          6.1,
          5.8,
          5,
          5.6,
          5.7,
          5.7,
          6.2,
          5.1,
          5.7,
          6.3,
          5.8,
          7.1,
          6.3,
          6.5,
          7.6,
          4.9,
          7.3,
          6.7,
          7.2,
          6.5,
          6.4,
          6.8,
          5.7,
          5.8,
          6.4,
          6.5,
          7.7,
          7.7,
          6,
          6.9,
          5.6,
          7.7,
          6.3,
          6.7,
          7.2,
          6.2,
          6.1,
          6.4,
          7.2,
          7.4,
          7.9,
          6.4,
          6.3,
          6.1,
          7.7,
          6.3,
          6.4,
          6,
          6.9,
          6.7,
          6.9,
          5.8,
          6.8,
          6.7,
          6.7,
          6.3,
          6.5,
          6.2,
          5.9
         ],
         "yaxis": "y"
        }
       ],
       "layout": {
        "barmode": "relative",
        "legend": {
         "tracegroupgap": 0
        },
        "margin": {
         "t": 60
        },
        "template": {
         "data": {
          "bar": [
           {
            "error_x": {
             "color": "#2a3f5f"
            },
            "error_y": {
             "color": "#2a3f5f"
            },
            "marker": {
             "line": {
              "color": "#E5ECF6",
              "width": 0.5
             },
             "pattern": {
              "fillmode": "overlay",
              "size": 10,
              "solidity": 0.2
             }
            },
            "type": "bar"
           }
          ],
          "barpolar": [
           {
            "marker": {
             "line": {
              "color": "#E5ECF6",
              "width": 0.5
             },
             "pattern": {
              "fillmode": "overlay",
              "size": 10,
              "solidity": 0.2
             }
            },
            "type": "barpolar"
           }
          ],
          "carpet": [
           {
            "aaxis": {
             "endlinecolor": "#2a3f5f",
             "gridcolor": "white",
             "linecolor": "white",
             "minorgridcolor": "white",
             "startlinecolor": "#2a3f5f"
            },
            "baxis": {
             "endlinecolor": "#2a3f5f",
             "gridcolor": "white",
             "linecolor": "white",
             "minorgridcolor": "white",
             "startlinecolor": "#2a3f5f"
            },
            "type": "carpet"
           }
          ],
          "choropleth": [
           {
            "colorbar": {
             "outlinewidth": 0,
             "ticks": ""
            },
            "type": "choropleth"
           }
          ],
          "contour": [
           {
            "colorbar": {
             "outlinewidth": 0,
             "ticks": ""
            },
            "colorscale": [
             [
              0,
              "#0d0887"
             ],
             [
              0.1111111111111111,
              "#46039f"
             ],
             [
              0.2222222222222222,
              "#7201a8"
             ],
             [
              0.3333333333333333,
              "#9c179e"
             ],
             [
              0.4444444444444444,
              "#bd3786"
             ],
             [
              0.5555555555555556,
              "#d8576b"
             ],
             [
              0.6666666666666666,
              "#ed7953"
             ],
             [
              0.7777777777777778,
              "#fb9f3a"
             ],
             [
              0.8888888888888888,
              "#fdca26"
             ],
             [
              1,
              "#f0f921"
             ]
            ],
            "type": "contour"
           }
          ],
          "contourcarpet": [
           {
            "colorbar": {
             "outlinewidth": 0,
             "ticks": ""
            },
            "type": "contourcarpet"
           }
          ],
          "heatmap": [
           {
            "colorbar": {
             "outlinewidth": 0,
             "ticks": ""
            },
            "colorscale": [
             [
              0,
              "#0d0887"
             ],
             [
              0.1111111111111111,
              "#46039f"
             ],
             [
              0.2222222222222222,
              "#7201a8"
             ],
             [
              0.3333333333333333,
              "#9c179e"
             ],
             [
              0.4444444444444444,
              "#bd3786"
             ],
             [
              0.5555555555555556,
              "#d8576b"
             ],
             [
              0.6666666666666666,
              "#ed7953"
             ],
             [
              0.7777777777777778,
              "#fb9f3a"
             ],
             [
              0.8888888888888888,
              "#fdca26"
             ],
             [
              1,
              "#f0f921"
             ]
            ],
            "type": "heatmap"
           }
          ],
          "heatmapgl": [
           {
            "colorbar": {
             "outlinewidth": 0,
             "ticks": ""
            },
            "colorscale": [
             [
              0,
              "#0d0887"
             ],
             [
              0.1111111111111111,
              "#46039f"
             ],
             [
              0.2222222222222222,
              "#7201a8"
             ],
             [
              0.3333333333333333,
              "#9c179e"
             ],
             [
              0.4444444444444444,
              "#bd3786"
             ],
             [
              0.5555555555555556,
              "#d8576b"
             ],
             [
              0.6666666666666666,
              "#ed7953"
             ],
             [
              0.7777777777777778,
              "#fb9f3a"
             ],
             [
              0.8888888888888888,
              "#fdca26"
             ],
             [
              1,
              "#f0f921"
             ]
            ],
            "type": "heatmapgl"
           }
          ],
          "histogram": [
           {
            "marker": {
             "pattern": {
              "fillmode": "overlay",
              "size": 10,
              "solidity": 0.2
             }
            },
            "type": "histogram"
           }
          ],
          "histogram2d": [
           {
            "colorbar": {
             "outlinewidth": 0,
             "ticks": ""
            },
            "colorscale": [
             [
              0,
              "#0d0887"
             ],
             [
              0.1111111111111111,
              "#46039f"
             ],
             [
              0.2222222222222222,
              "#7201a8"
             ],
             [
              0.3333333333333333,
              "#9c179e"
             ],
             [
              0.4444444444444444,
              "#bd3786"
             ],
             [
              0.5555555555555556,
              "#d8576b"
             ],
             [
              0.6666666666666666,
              "#ed7953"
             ],
             [
              0.7777777777777778,
              "#fb9f3a"
             ],
             [
              0.8888888888888888,
              "#fdca26"
             ],
             [
              1,
              "#f0f921"
             ]
            ],
            "type": "histogram2d"
           }
          ],
          "histogram2dcontour": [
           {
            "colorbar": {
             "outlinewidth": 0,
             "ticks": ""
            },
            "colorscale": [
             [
              0,
              "#0d0887"
             ],
             [
              0.1111111111111111,
              "#46039f"
             ],
             [
              0.2222222222222222,
              "#7201a8"
             ],
             [
              0.3333333333333333,
              "#9c179e"
             ],
             [
              0.4444444444444444,
              "#bd3786"
             ],
             [
              0.5555555555555556,
              "#d8576b"
             ],
             [
              0.6666666666666666,
              "#ed7953"
             ],
             [
              0.7777777777777778,
              "#fb9f3a"
             ],
             [
              0.8888888888888888,
              "#fdca26"
             ],
             [
              1,
              "#f0f921"
             ]
            ],
            "type": "histogram2dcontour"
           }
          ],
          "mesh3d": [
           {
            "colorbar": {
             "outlinewidth": 0,
             "ticks": ""
            },
            "type": "mesh3d"
           }
          ],
          "parcoords": [
           {
            "line": {
             "colorbar": {
              "outlinewidth": 0,
              "ticks": ""
             }
            },
            "type": "parcoords"
           }
          ],
          "pie": [
           {
            "automargin": true,
            "type": "pie"
           }
          ],
          "scatter": [
           {
            "fillpattern": {
             "fillmode": "overlay",
             "size": 10,
             "solidity": 0.2
            },
            "type": "scatter"
           }
          ],
          "scatter3d": [
           {
            "line": {
             "colorbar": {
              "outlinewidth": 0,
              "ticks": ""
             }
            },
            "marker": {
             "colorbar": {
              "outlinewidth": 0,
              "ticks": ""
             }
            },
            "type": "scatter3d"
           }
          ],
          "scattercarpet": [
           {
            "marker": {
             "colorbar": {
              "outlinewidth": 0,
              "ticks": ""
             }
            },
            "type": "scattercarpet"
           }
          ],
          "scattergeo": [
           {
            "marker": {
             "colorbar": {
              "outlinewidth": 0,
              "ticks": ""
             }
            },
            "type": "scattergeo"
           }
          ],
          "scattergl": [
           {
            "marker": {
             "colorbar": {
              "outlinewidth": 0,
              "ticks": ""
             }
            },
            "type": "scattergl"
           }
          ],
          "scattermapbox": [
           {
            "marker": {
             "colorbar": {
              "outlinewidth": 0,
              "ticks": ""
             }
            },
            "type": "scattermapbox"
           }
          ],
          "scatterpolar": [
           {
            "marker": {
             "colorbar": {
              "outlinewidth": 0,
              "ticks": ""
             }
            },
            "type": "scatterpolar"
           }
          ],
          "scatterpolargl": [
           {
            "marker": {
             "colorbar": {
              "outlinewidth": 0,
              "ticks": ""
             }
            },
            "type": "scatterpolargl"
           }
          ],
          "scatterternary": [
           {
            "marker": {
             "colorbar": {
              "outlinewidth": 0,
              "ticks": ""
             }
            },
            "type": "scatterternary"
           }
          ],
          "surface": [
           {
            "colorbar": {
             "outlinewidth": 0,
             "ticks": ""
            },
            "colorscale": [
             [
              0,
              "#0d0887"
             ],
             [
              0.1111111111111111,
              "#46039f"
             ],
             [
              0.2222222222222222,
              "#7201a8"
             ],
             [
              0.3333333333333333,
              "#9c179e"
             ],
             [
              0.4444444444444444,
              "#bd3786"
             ],
             [
              0.5555555555555556,
              "#d8576b"
             ],
             [
              0.6666666666666666,
              "#ed7953"
             ],
             [
              0.7777777777777778,
              "#fb9f3a"
             ],
             [
              0.8888888888888888,
              "#fdca26"
             ],
             [
              1,
              "#f0f921"
             ]
            ],
            "type": "surface"
           }
          ],
          "table": [
           {
            "cells": {
             "fill": {
              "color": "#EBF0F8"
             },
             "line": {
              "color": "white"
             }
            },
            "header": {
             "fill": {
              "color": "#C8D4E3"
             },
             "line": {
              "color": "white"
             }
            },
            "type": "table"
           }
          ]
         },
         "layout": {
          "annotationdefaults": {
           "arrowcolor": "#2a3f5f",
           "arrowhead": 0,
           "arrowwidth": 1
          },
          "autotypenumbers": "strict",
          "coloraxis": {
           "colorbar": {
            "outlinewidth": 0,
            "ticks": ""
           }
          },
          "colorscale": {
           "diverging": [
            [
             0,
             "#8e0152"
            ],
            [
             0.1,
             "#c51b7d"
            ],
            [
             0.2,
             "#de77ae"
            ],
            [
             0.3,
             "#f1b6da"
            ],
            [
             0.4,
             "#fde0ef"
            ],
            [
             0.5,
             "#f7f7f7"
            ],
            [
             0.6,
             "#e6f5d0"
            ],
            [
             0.7,
             "#b8e186"
            ],
            [
             0.8,
             "#7fbc41"
            ],
            [
             0.9,
             "#4d9221"
            ],
            [
             1,
             "#276419"
            ]
           ],
           "sequential": [
            [
             0,
             "#0d0887"
            ],
            [
             0.1111111111111111,
             "#46039f"
            ],
            [
             0.2222222222222222,
             "#7201a8"
            ],
            [
             0.3333333333333333,
             "#9c179e"
            ],
            [
             0.4444444444444444,
             "#bd3786"
            ],
            [
             0.5555555555555556,
             "#d8576b"
            ],
            [
             0.6666666666666666,
             "#ed7953"
            ],
            [
             0.7777777777777778,
             "#fb9f3a"
            ],
            [
             0.8888888888888888,
             "#fdca26"
            ],
            [
             1,
             "#f0f921"
            ]
           ],
           "sequentialminus": [
            [
             0,
             "#0d0887"
            ],
            [
             0.1111111111111111,
             "#46039f"
            ],
            [
             0.2222222222222222,
             "#7201a8"
            ],
            [
             0.3333333333333333,
             "#9c179e"
            ],
            [
             0.4444444444444444,
             "#bd3786"
            ],
            [
             0.5555555555555556,
             "#d8576b"
            ],
            [
             0.6666666666666666,
             "#ed7953"
            ],
            [
             0.7777777777777778,
             "#fb9f3a"
            ],
            [
             0.8888888888888888,
             "#fdca26"
            ],
            [
             1,
             "#f0f921"
            ]
           ]
          },
          "colorway": [
           "#636efa",
           "#EF553B",
           "#00cc96",
           "#ab63fa",
           "#FFA15A",
           "#19d3f3",
           "#FF6692",
           "#B6E880",
           "#FF97FF",
           "#FECB52"
          ],
          "font": {
           "color": "#2a3f5f"
          },
          "geo": {
           "bgcolor": "white",
           "lakecolor": "white",
           "landcolor": "#E5ECF6",
           "showlakes": true,
           "showland": true,
           "subunitcolor": "white"
          },
          "hoverlabel": {
           "align": "left"
          },
          "hovermode": "closest",
          "mapbox": {
           "style": "light"
          },
          "paper_bgcolor": "white",
          "plot_bgcolor": "#E5ECF6",
          "polar": {
           "angularaxis": {
            "gridcolor": "white",
            "linecolor": "white",
            "ticks": ""
           },
           "bgcolor": "#E5ECF6",
           "radialaxis": {
            "gridcolor": "white",
            "linecolor": "white",
            "ticks": ""
           }
          },
          "scene": {
           "xaxis": {
            "backgroundcolor": "#E5ECF6",
            "gridcolor": "white",
            "gridwidth": 2,
            "linecolor": "white",
            "showbackground": true,
            "ticks": "",
            "zerolinecolor": "white"
           },
           "yaxis": {
            "backgroundcolor": "#E5ECF6",
            "gridcolor": "white",
            "gridwidth": 2,
            "linecolor": "white",
            "showbackground": true,
            "ticks": "",
            "zerolinecolor": "white"
           },
           "zaxis": {
            "backgroundcolor": "#E5ECF6",
            "gridcolor": "white",
            "gridwidth": 2,
            "linecolor": "white",
            "showbackground": true,
            "ticks": "",
            "zerolinecolor": "white"
           }
          },
          "shapedefaults": {
           "line": {
            "color": "#2a3f5f"
           }
          },
          "ternary": {
           "aaxis": {
            "gridcolor": "white",
            "linecolor": "white",
            "ticks": ""
           },
           "baxis": {
            "gridcolor": "white",
            "linecolor": "white",
            "ticks": ""
           },
           "bgcolor": "#E5ECF6",
           "caxis": {
            "gridcolor": "white",
            "linecolor": "white",
            "ticks": ""
           }
          },
          "title": {
           "x": 0.05
          },
          "xaxis": {
           "automargin": true,
           "gridcolor": "white",
           "linecolor": "white",
           "ticks": "",
           "title": {
            "standoff": 15
           },
           "zerolinecolor": "white",
           "zerolinewidth": 2
          },
          "yaxis": {
           "automargin": true,
           "gridcolor": "white",
           "linecolor": "white",
           "ticks": "",
           "title": {
            "standoff": 15
           },
           "zerolinecolor": "white",
           "zerolinewidth": 2
          }
         }
        },
        "xaxis": {
         "anchor": "y",
         "domain": [
          0,
          1
         ],
         "title": {
          "text": "Clase"
         }
        },
        "yaxis": {
         "anchor": "x",
         "domain": [
          0,
          1
         ],
         "title": {
          "text": "Largo Sepalo"
         }
        }
       }
      },
      "text/html": [
       "<div>                        <script type=\"text/javascript\">window.PlotlyConfig = {MathJaxConfig: 'local'};</script>\n",
       "        <script charset=\"utf-8\" src=\"https://cdn.plot.ly/plotly-2.29.1.min.js\"></script>                <div id=\"30310f1a-bd6e-4e1d-8b6c-93bce3c3f63e\" class=\"plotly-graph-div\" style=\"height:100%; width:100%;\"></div>            <script type=\"text/javascript\">                                    window.PLOTLYENV=window.PLOTLYENV || {};                                    if (document.getElementById(\"30310f1a-bd6e-4e1d-8b6c-93bce3c3f63e\")) {                    Plotly.newPlot(                        \"30310f1a-bd6e-4e1d-8b6c-93bce3c3f63e\",                        [{\"alignmentgroup\":\"True\",\"hovertemplate\":\"Clase=%{x}\\u003cbr\\u003eLargo Sepalo=%{y}\\u003cextra\\u003e\\u003c\\u002fextra\\u003e\",\"legendgroup\":\"\",\"marker\":{\"color\":\"#636efa\",\"pattern\":{\"shape\":\"\"}},\"name\":\"\",\"offsetgroup\":\"\",\"orientation\":\"v\",\"showlegend\":false,\"textposition\":\"auto\",\"x\":[\"Iris-setosa\",\"Iris-setosa\",\"Iris-setosa\",\"Iris-setosa\",\"Iris-setosa\",\"Iris-setosa\",\"Iris-setosa\",\"Iris-setosa\",\"Iris-setosa\",\"Iris-setosa\",\"Iris-setosa\",\"Iris-setosa\",\"Iris-setosa\",\"Iris-setosa\",\"Iris-setosa\",\"Iris-setosa\",\"Iris-setosa\",\"Iris-setosa\",\"Iris-setosa\",\"Iris-setosa\",\"Iris-setosa\",\"Iris-setosa\",\"Iris-setosa\",\"Iris-setosa\",\"Iris-setosa\",\"Iris-setosa\",\"Iris-setosa\",\"Iris-setosa\",\"Iris-setosa\",\"Iris-setosa\",\"Iris-setosa\",\"Iris-setosa\",\"Iris-setosa\",\"Iris-setosa\",\"Iris-setosa\",\"Iris-setosa\",\"Iris-setosa\",\"Iris-setosa\",\"Iris-setosa\",\"Iris-setosa\",\"Iris-setosa\",\"Iris-setosa\",\"Iris-setosa\",\"Iris-setosa\",\"Iris-setosa\",\"Iris-setosa\",\"Iris-setosa\",\"Iris-setosa\",\"Iris-setosa\",\"Iris-setosa\",\"Iris-versicolor\",\"Iris-versicolor\",\"Iris-versicolor\",\"Iris-versicolor\",\"Iris-versicolor\",\"Iris-versicolor\",\"Iris-versicolor\",\"Iris-versicolor\",\"Iris-versicolor\",\"Iris-versicolor\",\"Iris-versicolor\",\"Iris-versicolor\",\"Iris-versicolor\",\"Iris-versicolor\",\"Iris-versicolor\",\"Iris-versicolor\",\"Iris-versicolor\",\"Iris-versicolor\",\"Iris-versicolor\",\"Iris-versicolor\",\"Iris-versicolor\",\"Iris-versicolor\",\"Iris-versicolor\",\"Iris-versicolor\",\"Iris-versicolor\",\"Iris-versicolor\",\"Iris-versicolor\",\"Iris-versicolor\",\"Iris-versicolor\",\"Iris-versicolor\",\"Iris-versicolor\",\"Iris-versicolor\",\"Iris-versicolor\",\"Iris-versicolor\",\"Iris-versicolor\",\"Iris-versicolor\",\"Iris-versicolor\",\"Iris-versicolor\",\"Iris-versicolor\",\"Iris-versicolor\",\"Iris-versicolor\",\"Iris-versicolor\",\"Iris-versicolor\",\"Iris-versicolor\",\"Iris-versicolor\",\"Iris-versicolor\",\"Iris-versicolor\",\"Iris-versicolor\",\"Iris-versicolor\",\"Iris-versicolor\",\"Iris-virginica\",\"Iris-virginica\",\"Iris-virginica\",\"Iris-virginica\",\"Iris-virginica\",\"Iris-virginica\",\"Iris-virginica\",\"Iris-virginica\",\"Iris-virginica\",\"Iris-virginica\",\"Iris-virginica\",\"Iris-virginica\",\"Iris-virginica\",\"Iris-virginica\",\"Iris-virginica\",\"Iris-virginica\",\"Iris-virginica\",\"Iris-virginica\",\"Iris-virginica\",\"Iris-virginica\",\"Iris-virginica\",\"Iris-virginica\",\"Iris-virginica\",\"Iris-virginica\",\"Iris-virginica\",\"Iris-virginica\",\"Iris-virginica\",\"Iris-virginica\",\"Iris-virginica\",\"Iris-virginica\",\"Iris-virginica\",\"Iris-virginica\",\"Iris-virginica\",\"Iris-virginica\",\"Iris-virginica\",\"Iris-virginica\",\"Iris-virginica\",\"Iris-virginica\",\"Iris-virginica\",\"Iris-virginica\",\"Iris-virginica\",\"Iris-virginica\",\"Iris-virginica\",\"Iris-virginica\",\"Iris-virginica\",\"Iris-virginica\",\"Iris-virginica\",\"Iris-virginica\",\"Iris-virginica\",\"Iris-virginica\"],\"xaxis\":\"x\",\"y\":[5.1,4.9,4.7,4.6,5.0,5.4,4.6,5.0,4.4,4.9,5.4,4.8,4.8,4.3,5.8,5.7,5.4,5.1,5.7,5.1,5.4,5.1,4.6,5.1,4.8,5.0,5.0,5.2,5.2,4.7,4.8,5.4,5.2,5.5,4.9,5.0,5.5,4.9,4.4,5.1,5.0,4.5,4.4,5.0,5.1,4.8,5.1,4.6,5.3,5.0,7.0,6.4,6.9,5.5,6.5,5.7,6.3,4.9,6.6,5.2,5.0,5.9,6.0,6.1,5.6,6.7,5.6,5.8,6.2,5.6,5.9,6.1,6.3,6.1,6.4,6.6,6.8,6.7,6.0,5.7,5.5,5.5,5.8,6.0,5.4,6.0,6.7,6.3,5.6,5.5,5.5,6.1,5.8,5.0,5.6,5.7,5.7,6.2,5.1,5.7,6.3,5.8,7.1,6.3,6.5,7.6,4.9,7.3,6.7,7.2,6.5,6.4,6.8,5.7,5.8,6.4,6.5,7.7,7.7,6.0,6.9,5.6,7.7,6.3,6.7,7.2,6.2,6.1,6.4,7.2,7.4,7.9,6.4,6.3,6.1,7.7,6.3,6.4,6.0,6.9,6.7,6.9,5.8,6.8,6.7,6.7,6.3,6.5,6.2,5.9],\"yaxis\":\"y\",\"type\":\"bar\"}],                        {\"template\":{\"data\":{\"histogram2dcontour\":[{\"type\":\"histogram2dcontour\",\"colorbar\":{\"outlinewidth\":0,\"ticks\":\"\"},\"colorscale\":[[0.0,\"#0d0887\"],[0.1111111111111111,\"#46039f\"],[0.2222222222222222,\"#7201a8\"],[0.3333333333333333,\"#9c179e\"],[0.4444444444444444,\"#bd3786\"],[0.5555555555555556,\"#d8576b\"],[0.6666666666666666,\"#ed7953\"],[0.7777777777777778,\"#fb9f3a\"],[0.8888888888888888,\"#fdca26\"],[1.0,\"#f0f921\"]]}],\"choropleth\":[{\"type\":\"choropleth\",\"colorbar\":{\"outlinewidth\":0,\"ticks\":\"\"}}],\"histogram2d\":[{\"type\":\"histogram2d\",\"colorbar\":{\"outlinewidth\":0,\"ticks\":\"\"},\"colorscale\":[[0.0,\"#0d0887\"],[0.1111111111111111,\"#46039f\"],[0.2222222222222222,\"#7201a8\"],[0.3333333333333333,\"#9c179e\"],[0.4444444444444444,\"#bd3786\"],[0.5555555555555556,\"#d8576b\"],[0.6666666666666666,\"#ed7953\"],[0.7777777777777778,\"#fb9f3a\"],[0.8888888888888888,\"#fdca26\"],[1.0,\"#f0f921\"]]}],\"heatmap\":[{\"type\":\"heatmap\",\"colorbar\":{\"outlinewidth\":0,\"ticks\":\"\"},\"colorscale\":[[0.0,\"#0d0887\"],[0.1111111111111111,\"#46039f\"],[0.2222222222222222,\"#7201a8\"],[0.3333333333333333,\"#9c179e\"],[0.4444444444444444,\"#bd3786\"],[0.5555555555555556,\"#d8576b\"],[0.6666666666666666,\"#ed7953\"],[0.7777777777777778,\"#fb9f3a\"],[0.8888888888888888,\"#fdca26\"],[1.0,\"#f0f921\"]]}],\"heatmapgl\":[{\"type\":\"heatmapgl\",\"colorbar\":{\"outlinewidth\":0,\"ticks\":\"\"},\"colorscale\":[[0.0,\"#0d0887\"],[0.1111111111111111,\"#46039f\"],[0.2222222222222222,\"#7201a8\"],[0.3333333333333333,\"#9c179e\"],[0.4444444444444444,\"#bd3786\"],[0.5555555555555556,\"#d8576b\"],[0.6666666666666666,\"#ed7953\"],[0.7777777777777778,\"#fb9f3a\"],[0.8888888888888888,\"#fdca26\"],[1.0,\"#f0f921\"]]}],\"contourcarpet\":[{\"type\":\"contourcarpet\",\"colorbar\":{\"outlinewidth\":0,\"ticks\":\"\"}}],\"contour\":[{\"type\":\"contour\",\"colorbar\":{\"outlinewidth\":0,\"ticks\":\"\"},\"colorscale\":[[0.0,\"#0d0887\"],[0.1111111111111111,\"#46039f\"],[0.2222222222222222,\"#7201a8\"],[0.3333333333333333,\"#9c179e\"],[0.4444444444444444,\"#bd3786\"],[0.5555555555555556,\"#d8576b\"],[0.6666666666666666,\"#ed7953\"],[0.7777777777777778,\"#fb9f3a\"],[0.8888888888888888,\"#fdca26\"],[1.0,\"#f0f921\"]]}],\"surface\":[{\"type\":\"surface\",\"colorbar\":{\"outlinewidth\":0,\"ticks\":\"\"},\"colorscale\":[[0.0,\"#0d0887\"],[0.1111111111111111,\"#46039f\"],[0.2222222222222222,\"#7201a8\"],[0.3333333333333333,\"#9c179e\"],[0.4444444444444444,\"#bd3786\"],[0.5555555555555556,\"#d8576b\"],[0.6666666666666666,\"#ed7953\"],[0.7777777777777778,\"#fb9f3a\"],[0.8888888888888888,\"#fdca26\"],[1.0,\"#f0f921\"]]}],\"mesh3d\":[{\"type\":\"mesh3d\",\"colorbar\":{\"outlinewidth\":0,\"ticks\":\"\"}}],\"scatter\":[{\"fillpattern\":{\"fillmode\":\"overlay\",\"size\":10,\"solidity\":0.2},\"type\":\"scatter\"}],\"parcoords\":[{\"type\":\"parcoords\",\"line\":{\"colorbar\":{\"outlinewidth\":0,\"ticks\":\"\"}}}],\"scatterpolargl\":[{\"type\":\"scatterpolargl\",\"marker\":{\"colorbar\":{\"outlinewidth\":0,\"ticks\":\"\"}}}],\"bar\":[{\"error_x\":{\"color\":\"#2a3f5f\"},\"error_y\":{\"color\":\"#2a3f5f\"},\"marker\":{\"line\":{\"color\":\"#E5ECF6\",\"width\":0.5},\"pattern\":{\"fillmode\":\"overlay\",\"size\":10,\"solidity\":0.2}},\"type\":\"bar\"}],\"scattergeo\":[{\"type\":\"scattergeo\",\"marker\":{\"colorbar\":{\"outlinewidth\":0,\"ticks\":\"\"}}}],\"scatterpolar\":[{\"type\":\"scatterpolar\",\"marker\":{\"colorbar\":{\"outlinewidth\":0,\"ticks\":\"\"}}}],\"histogram\":[{\"marker\":{\"pattern\":{\"fillmode\":\"overlay\",\"size\":10,\"solidity\":0.2}},\"type\":\"histogram\"}],\"scattergl\":[{\"type\":\"scattergl\",\"marker\":{\"colorbar\":{\"outlinewidth\":0,\"ticks\":\"\"}}}],\"scatter3d\":[{\"type\":\"scatter3d\",\"line\":{\"colorbar\":{\"outlinewidth\":0,\"ticks\":\"\"}},\"marker\":{\"colorbar\":{\"outlinewidth\":0,\"ticks\":\"\"}}}],\"scattermapbox\":[{\"type\":\"scattermapbox\",\"marker\":{\"colorbar\":{\"outlinewidth\":0,\"ticks\":\"\"}}}],\"scatterternary\":[{\"type\":\"scatterternary\",\"marker\":{\"colorbar\":{\"outlinewidth\":0,\"ticks\":\"\"}}}],\"scattercarpet\":[{\"type\":\"scattercarpet\",\"marker\":{\"colorbar\":{\"outlinewidth\":0,\"ticks\":\"\"}}}],\"carpet\":[{\"aaxis\":{\"endlinecolor\":\"#2a3f5f\",\"gridcolor\":\"white\",\"linecolor\":\"white\",\"minorgridcolor\":\"white\",\"startlinecolor\":\"#2a3f5f\"},\"baxis\":{\"endlinecolor\":\"#2a3f5f\",\"gridcolor\":\"white\",\"linecolor\":\"white\",\"minorgridcolor\":\"white\",\"startlinecolor\":\"#2a3f5f\"},\"type\":\"carpet\"}],\"table\":[{\"cells\":{\"fill\":{\"color\":\"#EBF0F8\"},\"line\":{\"color\":\"white\"}},\"header\":{\"fill\":{\"color\":\"#C8D4E3\"},\"line\":{\"color\":\"white\"}},\"type\":\"table\"}],\"barpolar\":[{\"marker\":{\"line\":{\"color\":\"#E5ECF6\",\"width\":0.5},\"pattern\":{\"fillmode\":\"overlay\",\"size\":10,\"solidity\":0.2}},\"type\":\"barpolar\"}],\"pie\":[{\"automargin\":true,\"type\":\"pie\"}]},\"layout\":{\"autotypenumbers\":\"strict\",\"colorway\":[\"#636efa\",\"#EF553B\",\"#00cc96\",\"#ab63fa\",\"#FFA15A\",\"#19d3f3\",\"#FF6692\",\"#B6E880\",\"#FF97FF\",\"#FECB52\"],\"font\":{\"color\":\"#2a3f5f\"},\"hovermode\":\"closest\",\"hoverlabel\":{\"align\":\"left\"},\"paper_bgcolor\":\"white\",\"plot_bgcolor\":\"#E5ECF6\",\"polar\":{\"bgcolor\":\"#E5ECF6\",\"angularaxis\":{\"gridcolor\":\"white\",\"linecolor\":\"white\",\"ticks\":\"\"},\"radialaxis\":{\"gridcolor\":\"white\",\"linecolor\":\"white\",\"ticks\":\"\"}},\"ternary\":{\"bgcolor\":\"#E5ECF6\",\"aaxis\":{\"gridcolor\":\"white\",\"linecolor\":\"white\",\"ticks\":\"\"},\"baxis\":{\"gridcolor\":\"white\",\"linecolor\":\"white\",\"ticks\":\"\"},\"caxis\":{\"gridcolor\":\"white\",\"linecolor\":\"white\",\"ticks\":\"\"}},\"coloraxis\":{\"colorbar\":{\"outlinewidth\":0,\"ticks\":\"\"}},\"colorscale\":{\"sequential\":[[0.0,\"#0d0887\"],[0.1111111111111111,\"#46039f\"],[0.2222222222222222,\"#7201a8\"],[0.3333333333333333,\"#9c179e\"],[0.4444444444444444,\"#bd3786\"],[0.5555555555555556,\"#d8576b\"],[0.6666666666666666,\"#ed7953\"],[0.7777777777777778,\"#fb9f3a\"],[0.8888888888888888,\"#fdca26\"],[1.0,\"#f0f921\"]],\"sequentialminus\":[[0.0,\"#0d0887\"],[0.1111111111111111,\"#46039f\"],[0.2222222222222222,\"#7201a8\"],[0.3333333333333333,\"#9c179e\"],[0.4444444444444444,\"#bd3786\"],[0.5555555555555556,\"#d8576b\"],[0.6666666666666666,\"#ed7953\"],[0.7777777777777778,\"#fb9f3a\"],[0.8888888888888888,\"#fdca26\"],[1.0,\"#f0f921\"]],\"diverging\":[[0,\"#8e0152\"],[0.1,\"#c51b7d\"],[0.2,\"#de77ae\"],[0.3,\"#f1b6da\"],[0.4,\"#fde0ef\"],[0.5,\"#f7f7f7\"],[0.6,\"#e6f5d0\"],[0.7,\"#b8e186\"],[0.8,\"#7fbc41\"],[0.9,\"#4d9221\"],[1,\"#276419\"]]},\"xaxis\":{\"gridcolor\":\"white\",\"linecolor\":\"white\",\"ticks\":\"\",\"title\":{\"standoff\":15},\"zerolinecolor\":\"white\",\"automargin\":true,\"zerolinewidth\":2},\"yaxis\":{\"gridcolor\":\"white\",\"linecolor\":\"white\",\"ticks\":\"\",\"title\":{\"standoff\":15},\"zerolinecolor\":\"white\",\"automargin\":true,\"zerolinewidth\":2},\"scene\":{\"xaxis\":{\"backgroundcolor\":\"#E5ECF6\",\"gridcolor\":\"white\",\"linecolor\":\"white\",\"showbackground\":true,\"ticks\":\"\",\"zerolinecolor\":\"white\",\"gridwidth\":2},\"yaxis\":{\"backgroundcolor\":\"#E5ECF6\",\"gridcolor\":\"white\",\"linecolor\":\"white\",\"showbackground\":true,\"ticks\":\"\",\"zerolinecolor\":\"white\",\"gridwidth\":2},\"zaxis\":{\"backgroundcolor\":\"#E5ECF6\",\"gridcolor\":\"white\",\"linecolor\":\"white\",\"showbackground\":true,\"ticks\":\"\",\"zerolinecolor\":\"white\",\"gridwidth\":2}},\"shapedefaults\":{\"line\":{\"color\":\"#2a3f5f\"}},\"annotationdefaults\":{\"arrowcolor\":\"#2a3f5f\",\"arrowhead\":0,\"arrowwidth\":1},\"geo\":{\"bgcolor\":\"white\",\"landcolor\":\"#E5ECF6\",\"subunitcolor\":\"white\",\"showland\":true,\"showlakes\":true,\"lakecolor\":\"white\"},\"title\":{\"x\":0.05},\"mapbox\":{\"style\":\"light\"}}},\"xaxis\":{\"anchor\":\"y\",\"domain\":[0.0,1.0],\"title\":{\"text\":\"Clase\"}},\"yaxis\":{\"anchor\":\"x\",\"domain\":[0.0,1.0],\"title\":{\"text\":\"Largo Sepalo\"}},\"legend\":{\"tracegroupgap\":0},\"margin\":{\"t\":60},\"barmode\":\"relative\"},                        {\"responsive\": true}                    )                };                            </script>        </div>"
      ],
      "text/plain": [
       "Figure({\n",
       "    'data': [{'alignmentgroup': 'True',\n",
       "              'hovertemplate': 'Clase=%{x}<br>Largo Sepalo=%{y}<extra></extra>',\n",
       "              'legendgroup': '',\n",
       "              'marker': {'color': '#636efa', 'pattern': {'shape': ''}},\n",
       "              'name': '',\n",
       "              'offsetgroup': '',\n",
       "              'orientation': 'v',\n",
       "              'showlegend': False,\n",
       "              'textposition': 'auto',\n",
       "              'type': 'bar',\n",
       "              'x': array(['Iris-setosa', 'Iris-setosa', 'Iris-setosa', 'Iris-setosa',\n",
       "                          'Iris-setosa', 'Iris-setosa', 'Iris-setosa', 'Iris-setosa',\n",
       "                          'Iris-setosa', 'Iris-setosa', 'Iris-setosa', 'Iris-setosa',\n",
       "                          'Iris-setosa', 'Iris-setosa', 'Iris-setosa', 'Iris-setosa',\n",
       "                          'Iris-setosa', 'Iris-setosa', 'Iris-setosa', 'Iris-setosa',\n",
       "                          'Iris-setosa', 'Iris-setosa', 'Iris-setosa', 'Iris-setosa',\n",
       "                          'Iris-setosa', 'Iris-setosa', 'Iris-setosa', 'Iris-setosa',\n",
       "                          'Iris-setosa', 'Iris-setosa', 'Iris-setosa', 'Iris-setosa',\n",
       "                          'Iris-setosa', 'Iris-setosa', 'Iris-setosa', 'Iris-setosa',\n",
       "                          'Iris-setosa', 'Iris-setosa', 'Iris-setosa', 'Iris-setosa',\n",
       "                          'Iris-setosa', 'Iris-setosa', 'Iris-setosa', 'Iris-setosa',\n",
       "                          'Iris-setosa', 'Iris-setosa', 'Iris-setosa', 'Iris-setosa',\n",
       "                          'Iris-setosa', 'Iris-setosa', 'Iris-versicolor', 'Iris-versicolor',\n",
       "                          'Iris-versicolor', 'Iris-versicolor', 'Iris-versicolor',\n",
       "                          'Iris-versicolor', 'Iris-versicolor', 'Iris-versicolor',\n",
       "                          'Iris-versicolor', 'Iris-versicolor', 'Iris-versicolor',\n",
       "                          'Iris-versicolor', 'Iris-versicolor', 'Iris-versicolor',\n",
       "                          'Iris-versicolor', 'Iris-versicolor', 'Iris-versicolor',\n",
       "                          'Iris-versicolor', 'Iris-versicolor', 'Iris-versicolor',\n",
       "                          'Iris-versicolor', 'Iris-versicolor', 'Iris-versicolor',\n",
       "                          'Iris-versicolor', 'Iris-versicolor', 'Iris-versicolor',\n",
       "                          'Iris-versicolor', 'Iris-versicolor', 'Iris-versicolor',\n",
       "                          'Iris-versicolor', 'Iris-versicolor', 'Iris-versicolor',\n",
       "                          'Iris-versicolor', 'Iris-versicolor', 'Iris-versicolor',\n",
       "                          'Iris-versicolor', 'Iris-versicolor', 'Iris-versicolor',\n",
       "                          'Iris-versicolor', 'Iris-versicolor', 'Iris-versicolor',\n",
       "                          'Iris-versicolor', 'Iris-versicolor', 'Iris-versicolor',\n",
       "                          'Iris-versicolor', 'Iris-versicolor', 'Iris-versicolor',\n",
       "                          'Iris-versicolor', 'Iris-versicolor', 'Iris-versicolor',\n",
       "                          'Iris-virginica', 'Iris-virginica', 'Iris-virginica', 'Iris-virginica',\n",
       "                          'Iris-virginica', 'Iris-virginica', 'Iris-virginica', 'Iris-virginica',\n",
       "                          'Iris-virginica', 'Iris-virginica', 'Iris-virginica', 'Iris-virginica',\n",
       "                          'Iris-virginica', 'Iris-virginica', 'Iris-virginica', 'Iris-virginica',\n",
       "                          'Iris-virginica', 'Iris-virginica', 'Iris-virginica', 'Iris-virginica',\n",
       "                          'Iris-virginica', 'Iris-virginica', 'Iris-virginica', 'Iris-virginica',\n",
       "                          'Iris-virginica', 'Iris-virginica', 'Iris-virginica', 'Iris-virginica',\n",
       "                          'Iris-virginica', 'Iris-virginica', 'Iris-virginica', 'Iris-virginica',\n",
       "                          'Iris-virginica', 'Iris-virginica', 'Iris-virginica', 'Iris-virginica',\n",
       "                          'Iris-virginica', 'Iris-virginica', 'Iris-virginica', 'Iris-virginica',\n",
       "                          'Iris-virginica', 'Iris-virginica', 'Iris-virginica', 'Iris-virginica',\n",
       "                          'Iris-virginica', 'Iris-virginica', 'Iris-virginica', 'Iris-virginica',\n",
       "                          'Iris-virginica', 'Iris-virginica'], dtype=object),\n",
       "              'xaxis': 'x',\n",
       "              'y': array([5.1, 4.9, 4.7, 4.6, 5. , 5.4, 4.6, 5. , 4.4, 4.9, 5.4, 4.8, 4.8, 4.3,\n",
       "                          5.8, 5.7, 5.4, 5.1, 5.7, 5.1, 5.4, 5.1, 4.6, 5.1, 4.8, 5. , 5. , 5.2,\n",
       "                          5.2, 4.7, 4.8, 5.4, 5.2, 5.5, 4.9, 5. , 5.5, 4.9, 4.4, 5.1, 5. , 4.5,\n",
       "                          4.4, 5. , 5.1, 4.8, 5.1, 4.6, 5.3, 5. , 7. , 6.4, 6.9, 5.5, 6.5, 5.7,\n",
       "                          6.3, 4.9, 6.6, 5.2, 5. , 5.9, 6. , 6.1, 5.6, 6.7, 5.6, 5.8, 6.2, 5.6,\n",
       "                          5.9, 6.1, 6.3, 6.1, 6.4, 6.6, 6.8, 6.7, 6. , 5.7, 5.5, 5.5, 5.8, 6. ,\n",
       "                          5.4, 6. , 6.7, 6.3, 5.6, 5.5, 5.5, 6.1, 5.8, 5. , 5.6, 5.7, 5.7, 6.2,\n",
       "                          5.1, 5.7, 6.3, 5.8, 7.1, 6.3, 6.5, 7.6, 4.9, 7.3, 6.7, 7.2, 6.5, 6.4,\n",
       "                          6.8, 5.7, 5.8, 6.4, 6.5, 7.7, 7.7, 6. , 6.9, 5.6, 7.7, 6.3, 6.7, 7.2,\n",
       "                          6.2, 6.1, 6.4, 7.2, 7.4, 7.9, 6.4, 6.3, 6.1, 7.7, 6.3, 6.4, 6. , 6.9,\n",
       "                          6.7, 6.9, 5.8, 6.8, 6.7, 6.7, 6.3, 6.5, 6.2, 5.9]),\n",
       "              'yaxis': 'y'}],\n",
       "    'layout': {'barmode': 'relative',\n",
       "               'legend': {'tracegroupgap': 0},\n",
       "               'margin': {'t': 60},\n",
       "               'template': '...',\n",
       "               'xaxis': {'anchor': 'y', 'domain': [0.0, 1.0], 'title': {'text': 'Clase'}},\n",
       "               'yaxis': {'anchor': 'x', 'domain': [0.0, 1.0], 'title': {'text': 'Largo Sepalo'}}}\n",
       "})"
      ]
     },
     "execution_count": 19,
     "metadata": {},
     "output_type": "execute_result"
    }
   ],
   "source": [
    "px.bar(data_frame = df_iris,\n",
    "       x          = \"Clase\",\n",
    "       y          = \"Largo Sepalo\",\n",
    "       )"
   ]
  },
  {
   "cell_type": "code",
   "execution_count": null,
   "id": "21aa7205",
   "metadata": {},
   "outputs": [],
   "source": [
    "px.bar(data_frame = df_pokemon[df_pokemon[\"Generation\"] == 1],\n",
    "       x          = \"Attack\",\n",
    "       y          = \"Defense\",\n",
    "       hover_data = [\"Name\", \"Sp. Atk\"],\n",
    "       color      = \"Type 1\"\n",
    "      )"
   ]
  },
  {
   "cell_type": "markdown",
   "id": "5551d260",
   "metadata": {},
   "source": [
    "#### Sunburst Chart\n",
    "**`px.sunburst()`**"
   ]
  },
  {
   "cell_type": "code",
   "execution_count": 16,
   "id": "85c4a5d8",
   "metadata": {},
   "outputs": [
    {
     "ename": "ValueError",
     "evalue": "Mime type rendering requires nbformat>=4.2.0 but it is not installed",
     "output_type": "error",
     "traceback": [
      "\u001b[1;31m---------------------------------------------------------------------------\u001b[0m",
      "\u001b[1;31mValueError\u001b[0m                                Traceback (most recent call last)",
      "File \u001b[1;32m~\\AppData\\Roaming\\Python\\Python312\\site-packages\\IPython\\core\\formatters.py:922\u001b[0m, in \u001b[0;36mIPythonDisplayFormatter.__call__\u001b[1;34m(self, obj)\u001b[0m\n\u001b[0;32m    920\u001b[0m method \u001b[38;5;241m=\u001b[39m get_real_method(obj, \u001b[38;5;28mself\u001b[39m\u001b[38;5;241m.\u001b[39mprint_method)\n\u001b[0;32m    921\u001b[0m \u001b[38;5;28;01mif\u001b[39;00m method \u001b[38;5;129;01mis\u001b[39;00m \u001b[38;5;129;01mnot\u001b[39;00m \u001b[38;5;28;01mNone\u001b[39;00m:\n\u001b[1;32m--> 922\u001b[0m     \u001b[43mmethod\u001b[49m\u001b[43m(\u001b[49m\u001b[43m)\u001b[49m\n\u001b[0;32m    923\u001b[0m     \u001b[38;5;28;01mreturn\u001b[39;00m \u001b[38;5;28;01mTrue\u001b[39;00m\n",
      "File \u001b[1;32mc:\\Users\\fran\\AppData\\Local\\Programs\\Python\\Python312\\Lib\\site-packages\\plotly\\basedatatypes.py:832\u001b[0m, in \u001b[0;36mBaseFigure._ipython_display_\u001b[1;34m(self)\u001b[0m\n\u001b[0;32m    829\u001b[0m \u001b[38;5;28;01mimport\u001b[39;00m \u001b[38;5;21;01mplotly\u001b[39;00m\u001b[38;5;21;01m.\u001b[39;00m\u001b[38;5;21;01mio\u001b[39;00m \u001b[38;5;28;01mas\u001b[39;00m \u001b[38;5;21;01mpio\u001b[39;00m\n\u001b[0;32m    831\u001b[0m \u001b[38;5;28;01mif\u001b[39;00m pio\u001b[38;5;241m.\u001b[39mrenderers\u001b[38;5;241m.\u001b[39mrender_on_display \u001b[38;5;129;01mand\u001b[39;00m pio\u001b[38;5;241m.\u001b[39mrenderers\u001b[38;5;241m.\u001b[39mdefault:\n\u001b[1;32m--> 832\u001b[0m     \u001b[43mpio\u001b[49m\u001b[38;5;241;43m.\u001b[39;49m\u001b[43mshow\u001b[49m\u001b[43m(\u001b[49m\u001b[38;5;28;43mself\u001b[39;49m\u001b[43m)\u001b[49m\n\u001b[0;32m    833\u001b[0m \u001b[38;5;28;01melse\u001b[39;00m:\n\u001b[0;32m    834\u001b[0m     \u001b[38;5;28mprint\u001b[39m(\u001b[38;5;28mrepr\u001b[39m(\u001b[38;5;28mself\u001b[39m))\n",
      "File \u001b[1;32mc:\\Users\\fran\\AppData\\Local\\Programs\\Python\\Python312\\Lib\\site-packages\\plotly\\io\\_renderers.py:394\u001b[0m, in \u001b[0;36mshow\u001b[1;34m(fig, renderer, validate, **kwargs)\u001b[0m\n\u001b[0;32m    389\u001b[0m         \u001b[38;5;28;01mraise\u001b[39;00m \u001b[38;5;167;01mValueError\u001b[39;00m(\n\u001b[0;32m    390\u001b[0m             \u001b[38;5;124m\"\u001b[39m\u001b[38;5;124mMime type rendering requires ipython but it is not installed\u001b[39m\u001b[38;5;124m\"\u001b[39m\n\u001b[0;32m    391\u001b[0m         )\n\u001b[0;32m    393\u001b[0m     \u001b[38;5;28;01mif\u001b[39;00m \u001b[38;5;129;01mnot\u001b[39;00m nbformat \u001b[38;5;129;01mor\u001b[39;00m Version(nbformat\u001b[38;5;241m.\u001b[39m__version__) \u001b[38;5;241m<\u001b[39m Version(\u001b[38;5;124m\"\u001b[39m\u001b[38;5;124m4.2.0\u001b[39m\u001b[38;5;124m\"\u001b[39m):\n\u001b[1;32m--> 394\u001b[0m         \u001b[38;5;28;01mraise\u001b[39;00m \u001b[38;5;167;01mValueError\u001b[39;00m(\n\u001b[0;32m    395\u001b[0m             \u001b[38;5;124m\"\u001b[39m\u001b[38;5;124mMime type rendering requires nbformat>=4.2.0 but it is not installed\u001b[39m\u001b[38;5;124m\"\u001b[39m\n\u001b[0;32m    396\u001b[0m         )\n\u001b[0;32m    398\u001b[0m     ipython_display\u001b[38;5;241m.\u001b[39mdisplay(bundle, raw\u001b[38;5;241m=\u001b[39m\u001b[38;5;28;01mTrue\u001b[39;00m)\n\u001b[0;32m    400\u001b[0m \u001b[38;5;66;03m# external renderers\u001b[39;00m\n",
      "\u001b[1;31mValueError\u001b[0m: Mime type rendering requires nbformat>=4.2.0 but it is not installed"
     ]
    },
    {
     "data": {
      "application/vnd.plotly.v1+json": {
       "config": {
        "plotlyServerURL": "https://plot.ly"
       },
       "data": [
        {
         "alignmentgroup": "True",
         "bingroup": "x",
         "hovertemplate": "Legendary=False<br>Total=%{x}<br>count=%{y}<extra></extra>",
         "legendgroup": "False",
         "marker": {
          "color": "#636efa",
          "pattern": {
           "shape": ""
          }
         },
         "name": "False",
         "offsetgroup": "False",
         "orientation": "v",
         "showlegend": true,
         "type": "histogram",
         "x": [
          318,
          405,
          525,
          625,
          309,
          405,
          534,
          634,
          634,
          314,
          405,
          530,
          630,
          195,
          205,
          395,
          195,
          205,
          395,
          495,
          251,
          349,
          479,
          579,
          253,
          413,
          262,
          442,
          288,
          438,
          320,
          485,
          300,
          450,
          275,
          365,
          505,
          273,
          365,
          505,
          323,
          483,
          299,
          505,
          270,
          435,
          245,
          455,
          320,
          395,
          490,
          285,
          405,
          305,
          450,
          265,
          405,
          290,
          440,
          320,
          500,
          305,
          455,
          350,
          555,
          300,
          385,
          510,
          310,
          400,
          500,
          590,
          305,
          405,
          505,
          300,
          390,
          490,
          335,
          515,
          300,
          390,
          495,
          410,
          500,
          315,
          490,
          590,
          325,
          465,
          352,
          310,
          460,
          325,
          475,
          325,
          500,
          305,
          525,
          310,
          405,
          500,
          600,
          385,
          328,
          483,
          325,
          475,
          330,
          480,
          325,
          520,
          320,
          425,
          455,
          455,
          385,
          340,
          490,
          345,
          485,
          450,
          435,
          490,
          590,
          295,
          440,
          320,
          450,
          340,
          520,
          460,
          500,
          455,
          490,
          495,
          500,
          600,
          490,
          200,
          540,
          640,
          535,
          288,
          325,
          525,
          525,
          525,
          395,
          355,
          495,
          355,
          495,
          515,
          615,
          540,
          300,
          420,
          600,
          600,
          318,
          405,
          525,
          309,
          405,
          534,
          314,
          405,
          530,
          215,
          415,
          262,
          442,
          265,
          390,
          250,
          390,
          535,
          330,
          460,
          205,
          218,
          210,
          245,
          405,
          320,
          470,
          280,
          365,
          510,
          610,
          490,
          250,
          420,
          410,
          500,
          250,
          340,
          460,
          360,
          180,
          425,
          390,
          210,
          430,
          525,
          525,
          405,
          490,
          435,
          336,
          405,
          455,
          290,
          465,
          415,
          430,
          510,
          610,
          300,
          450,
          430,
          500,
          600,
          505,
          500,
          600,
          430,
          330,
          500,
          250,
          410,
          250,
          450,
          380,
          300,
          480,
          330,
          465,
          465,
          330,
          500,
          600,
          540,
          330,
          500,
          515,
          465,
          250,
          210,
          455,
          305,
          360,
          365,
          490,
          540,
          300,
          410,
          600,
          700,
          600,
          310,
          405,
          530,
          630,
          310,
          405,
          530,
          630,
          310,
          405,
          535,
          635,
          220,
          420,
          240,
          420,
          195,
          205,
          395,
          205,
          385,
          220,
          340,
          480,
          220,
          340,
          480,
          270,
          430,
          270,
          430,
          198,
          278,
          518,
          618,
          269,
          414,
          295,
          460,
          280,
          440,
          670,
          266,
          456,
          236,
          240,
          360,
          490,
          237,
          474,
          190,
          375,
          260,
          380,
          380,
          480,
          380,
          480,
          330,
          430,
          530,
          630,
          280,
          410,
          510,
          295,
          475,
          575,
          405,
          405,
          400,
          400,
          400,
          302,
          467,
          305,
          460,
          560,
          400,
          500,
          305,
          460,
          560,
          470,
          330,
          470,
          360,
          290,
          340,
          520,
          335,
          475,
          310,
          490,
          590,
          458,
          458,
          440,
          440,
          288,
          468,
          308,
          468,
          300,
          500,
          355,
          495,
          355,
          495,
          200,
          540,
          420,
          440,
          295,
          455,
          555,
          295,
          455,
          460,
          425,
          465,
          565,
          260,
          300,
          480,
          580,
          290,
          410,
          530,
          345,
          485,
          485,
          485,
          330,
          300,
          420,
          600,
          700,
          300,
          420,
          600,
          700,
          318,
          405,
          525,
          309,
          405,
          534,
          314,
          405,
          530,
          245,
          340,
          485,
          250,
          410,
          194,
          384,
          263,
          363,
          523,
          280,
          515,
          350,
          495,
          350,
          495,
          224,
          424,
          424,
          424,
          424,
          244,
          474,
          405,
          330,
          495,
          275,
          450,
          325,
          475,
          482,
          348,
          498,
          350,
          480,
          580,
          495,
          505,
          310,
          452,
          285,
          329,
          479,
          300,
          500,
          290,
          310,
          220,
          411,
          485,
          300,
          410,
          600,
          700,
          390,
          285,
          525,
          625,
          330,
          525,
          330,
          500,
          300,
          490,
          454,
          330,
          460,
          345,
          334,
          494,
          594,
          510,
          535,
          515,
          535,
          535,
          540,
          540,
          545,
          515,
          525,
          525,
          510,
          530,
          535,
          518,
          618,
          525,
          525,
          480,
          440,
          520,
          520,
          520,
          520,
          520,
          600,
          480,
          600,
          308,
          413,
          528,
          308,
          418,
          528,
          308,
          413,
          528,
          255,
          420,
          275,
          370,
          500,
          281,
          446,
          316,
          498,
          316,
          498,
          316,
          498,
          292,
          487,
          264,
          358,
          488,
          295,
          497,
          280,
          390,
          515,
          313,
          425,
          328,
          508,
          445,
          545,
          305,
          405,
          505,
          294,
          384,
          509,
          465,
          465,
          310,
          380,
          500,
          260,
          360,
          485,
          280,
          480,
          280,
          480,
          460,
          292,
          351,
          519,
          315,
          480,
          540,
          461,
          325,
          475,
          348,
          488,
          490,
          303,
          483,
          355,
          495,
          401,
          567,
          329,
          474,
          330,
          510,
          300,
          470,
          290,
          390,
          490,
          290,
          370,
          490,
          305,
          473,
          305,
          395,
          535,
          335,
          475,
          428,
          315,
          495,
          294,
          464,
          335,
          480,
          470,
          319,
          472,
          305,
          489,
          300,
          440,
          520,
          275,
          405,
          515,
          335,
          485,
          275,
          370,
          520,
          320,
          410,
          540,
          305,
          485,
          485,
          305,
          495,
          471,
          350,
          510,
          485,
          303,
          483,
          340,
          490,
          490,
          350,
          510,
          370,
          510,
          484,
          484,
          300,
          420,
          600,
          360,
          550,
          580,
          580,
          600,
          600,
          600,
          313,
          405,
          530,
          307,
          409,
          534,
          314,
          405,
          530,
          237,
          423,
          278,
          382,
          499,
          200,
          213,
          411,
          369,
          507,
          303,
          371,
          552,
          350,
          531,
          348,
          495,
          472,
          355,
          466,
          466,
          325,
          448,
          520,
          520,
          341,
          462,
          341,
          480,
          288,
          482,
          306,
          500,
          320,
          494,
          330,
          500,
          289,
          481,
          362,
          521,
          362,
          521,
          525,
          500,
          431,
          500,
          300,
          452,
          600,
          470,
          309,
          474,
          335,
          335,
          335,
          335,
          494,
          494,
          494,
          494,
          304,
          514,
          245,
          535
         ],
         "xaxis": "x",
         "yaxis": "y"
        },
        {
         "alignmentgroup": "True",
         "bingroup": "x",
         "hovertemplate": "Legendary=True<br>Total=%{x}<br>count=%{y}<extra></extra>",
         "legendgroup": "True",
         "marker": {
          "color": "#EF553B",
          "pattern": {
           "shape": ""
          }
         },
         "name": "True",
         "offsetgroup": "True",
         "orientation": "v",
         "showlegend": true,
         "type": "histogram",
         "x": [
          580,
          580,
          580,
          680,
          780,
          780,
          580,
          580,
          580,
          680,
          680,
          580,
          580,
          580,
          600,
          700,
          600,
          700,
          670,
          770,
          670,
          770,
          680,
          780,
          600,
          600,
          600,
          600,
          600,
          580,
          580,
          580,
          680,
          680,
          600,
          670,
          680,
          680,
          600,
          600,
          600,
          720,
          600,
          580,
          580,
          580,
          580,
          580,
          580,
          580,
          680,
          680,
          600,
          600,
          660,
          700,
          700,
          680,
          680,
          600,
          600,
          700,
          600,
          680,
          600
         ],
         "xaxis": "x",
         "yaxis": "y"
        }
       ],
       "layout": {
        "barmode": "relative",
        "legend": {
         "title": {
          "text": "Legendary"
         },
         "tracegroupgap": 0
        },
        "margin": {
         "t": 60
        },
        "template": {
         "data": {
          "bar": [
           {
            "error_x": {
             "color": "#2a3f5f"
            },
            "error_y": {
             "color": "#2a3f5f"
            },
            "marker": {
             "line": {
              "color": "#E5ECF6",
              "width": 0.5
             },
             "pattern": {
              "fillmode": "overlay",
              "size": 10,
              "solidity": 0.2
             }
            },
            "type": "bar"
           }
          ],
          "barpolar": [
           {
            "marker": {
             "line": {
              "color": "#E5ECF6",
              "width": 0.5
             },
             "pattern": {
              "fillmode": "overlay",
              "size": 10,
              "solidity": 0.2
             }
            },
            "type": "barpolar"
           }
          ],
          "carpet": [
           {
            "aaxis": {
             "endlinecolor": "#2a3f5f",
             "gridcolor": "white",
             "linecolor": "white",
             "minorgridcolor": "white",
             "startlinecolor": "#2a3f5f"
            },
            "baxis": {
             "endlinecolor": "#2a3f5f",
             "gridcolor": "white",
             "linecolor": "white",
             "minorgridcolor": "white",
             "startlinecolor": "#2a3f5f"
            },
            "type": "carpet"
           }
          ],
          "choropleth": [
           {
            "colorbar": {
             "outlinewidth": 0,
             "ticks": ""
            },
            "type": "choropleth"
           }
          ],
          "contour": [
           {
            "colorbar": {
             "outlinewidth": 0,
             "ticks": ""
            },
            "colorscale": [
             [
              0,
              "#0d0887"
             ],
             [
              0.1111111111111111,
              "#46039f"
             ],
             [
              0.2222222222222222,
              "#7201a8"
             ],
             [
              0.3333333333333333,
              "#9c179e"
             ],
             [
              0.4444444444444444,
              "#bd3786"
             ],
             [
              0.5555555555555556,
              "#d8576b"
             ],
             [
              0.6666666666666666,
              "#ed7953"
             ],
             [
              0.7777777777777778,
              "#fb9f3a"
             ],
             [
              0.8888888888888888,
              "#fdca26"
             ],
             [
              1,
              "#f0f921"
             ]
            ],
            "type": "contour"
           }
          ],
          "contourcarpet": [
           {
            "colorbar": {
             "outlinewidth": 0,
             "ticks": ""
            },
            "type": "contourcarpet"
           }
          ],
          "heatmap": [
           {
            "colorbar": {
             "outlinewidth": 0,
             "ticks": ""
            },
            "colorscale": [
             [
              0,
              "#0d0887"
             ],
             [
              0.1111111111111111,
              "#46039f"
             ],
             [
              0.2222222222222222,
              "#7201a8"
             ],
             [
              0.3333333333333333,
              "#9c179e"
             ],
             [
              0.4444444444444444,
              "#bd3786"
             ],
             [
              0.5555555555555556,
              "#d8576b"
             ],
             [
              0.6666666666666666,
              "#ed7953"
             ],
             [
              0.7777777777777778,
              "#fb9f3a"
             ],
             [
              0.8888888888888888,
              "#fdca26"
             ],
             [
              1,
              "#f0f921"
             ]
            ],
            "type": "heatmap"
           }
          ],
          "heatmapgl": [
           {
            "colorbar": {
             "outlinewidth": 0,
             "ticks": ""
            },
            "colorscale": [
             [
              0,
              "#0d0887"
             ],
             [
              0.1111111111111111,
              "#46039f"
             ],
             [
              0.2222222222222222,
              "#7201a8"
             ],
             [
              0.3333333333333333,
              "#9c179e"
             ],
             [
              0.4444444444444444,
              "#bd3786"
             ],
             [
              0.5555555555555556,
              "#d8576b"
             ],
             [
              0.6666666666666666,
              "#ed7953"
             ],
             [
              0.7777777777777778,
              "#fb9f3a"
             ],
             [
              0.8888888888888888,
              "#fdca26"
             ],
             [
              1,
              "#f0f921"
             ]
            ],
            "type": "heatmapgl"
           }
          ],
          "histogram": [
           {
            "marker": {
             "pattern": {
              "fillmode": "overlay",
              "size": 10,
              "solidity": 0.2
             }
            },
            "type": "histogram"
           }
          ],
          "histogram2d": [
           {
            "colorbar": {
             "outlinewidth": 0,
             "ticks": ""
            },
            "colorscale": [
             [
              0,
              "#0d0887"
             ],
             [
              0.1111111111111111,
              "#46039f"
             ],
             [
              0.2222222222222222,
              "#7201a8"
             ],
             [
              0.3333333333333333,
              "#9c179e"
             ],
             [
              0.4444444444444444,
              "#bd3786"
             ],
             [
              0.5555555555555556,
              "#d8576b"
             ],
             [
              0.6666666666666666,
              "#ed7953"
             ],
             [
              0.7777777777777778,
              "#fb9f3a"
             ],
             [
              0.8888888888888888,
              "#fdca26"
             ],
             [
              1,
              "#f0f921"
             ]
            ],
            "type": "histogram2d"
           }
          ],
          "histogram2dcontour": [
           {
            "colorbar": {
             "outlinewidth": 0,
             "ticks": ""
            },
            "colorscale": [
             [
              0,
              "#0d0887"
             ],
             [
              0.1111111111111111,
              "#46039f"
             ],
             [
              0.2222222222222222,
              "#7201a8"
             ],
             [
              0.3333333333333333,
              "#9c179e"
             ],
             [
              0.4444444444444444,
              "#bd3786"
             ],
             [
              0.5555555555555556,
              "#d8576b"
             ],
             [
              0.6666666666666666,
              "#ed7953"
             ],
             [
              0.7777777777777778,
              "#fb9f3a"
             ],
             [
              0.8888888888888888,
              "#fdca26"
             ],
             [
              1,
              "#f0f921"
             ]
            ],
            "type": "histogram2dcontour"
           }
          ],
          "mesh3d": [
           {
            "colorbar": {
             "outlinewidth": 0,
             "ticks": ""
            },
            "type": "mesh3d"
           }
          ],
          "parcoords": [
           {
            "line": {
             "colorbar": {
              "outlinewidth": 0,
              "ticks": ""
             }
            },
            "type": "parcoords"
           }
          ],
          "pie": [
           {
            "automargin": true,
            "type": "pie"
           }
          ],
          "scatter": [
           {
            "fillpattern": {
             "fillmode": "overlay",
             "size": 10,
             "solidity": 0.2
            },
            "type": "scatter"
           }
          ],
          "scatter3d": [
           {
            "line": {
             "colorbar": {
              "outlinewidth": 0,
              "ticks": ""
             }
            },
            "marker": {
             "colorbar": {
              "outlinewidth": 0,
              "ticks": ""
             }
            },
            "type": "scatter3d"
           }
          ],
          "scattercarpet": [
           {
            "marker": {
             "colorbar": {
              "outlinewidth": 0,
              "ticks": ""
             }
            },
            "type": "scattercarpet"
           }
          ],
          "scattergeo": [
           {
            "marker": {
             "colorbar": {
              "outlinewidth": 0,
              "ticks": ""
             }
            },
            "type": "scattergeo"
           }
          ],
          "scattergl": [
           {
            "marker": {
             "colorbar": {
              "outlinewidth": 0,
              "ticks": ""
             }
            },
            "type": "scattergl"
           }
          ],
          "scattermapbox": [
           {
            "marker": {
             "colorbar": {
              "outlinewidth": 0,
              "ticks": ""
             }
            },
            "type": "scattermapbox"
           }
          ],
          "scatterpolar": [
           {
            "marker": {
             "colorbar": {
              "outlinewidth": 0,
              "ticks": ""
             }
            },
            "type": "scatterpolar"
           }
          ],
          "scatterpolargl": [
           {
            "marker": {
             "colorbar": {
              "outlinewidth": 0,
              "ticks": ""
             }
            },
            "type": "scatterpolargl"
           }
          ],
          "scatterternary": [
           {
            "marker": {
             "colorbar": {
              "outlinewidth": 0,
              "ticks": ""
             }
            },
            "type": "scatterternary"
           }
          ],
          "surface": [
           {
            "colorbar": {
             "outlinewidth": 0,
             "ticks": ""
            },
            "colorscale": [
             [
              0,
              "#0d0887"
             ],
             [
              0.1111111111111111,
              "#46039f"
             ],
             [
              0.2222222222222222,
              "#7201a8"
             ],
             [
              0.3333333333333333,
              "#9c179e"
             ],
             [
              0.4444444444444444,
              "#bd3786"
             ],
             [
              0.5555555555555556,
              "#d8576b"
             ],
             [
              0.6666666666666666,
              "#ed7953"
             ],
             [
              0.7777777777777778,
              "#fb9f3a"
             ],
             [
              0.8888888888888888,
              "#fdca26"
             ],
             [
              1,
              "#f0f921"
             ]
            ],
            "type": "surface"
           }
          ],
          "table": [
           {
            "cells": {
             "fill": {
              "color": "#EBF0F8"
             },
             "line": {
              "color": "white"
             }
            },
            "header": {
             "fill": {
              "color": "#C8D4E3"
             },
             "line": {
              "color": "white"
             }
            },
            "type": "table"
           }
          ]
         },
         "layout": {
          "annotationdefaults": {
           "arrowcolor": "#2a3f5f",
           "arrowhead": 0,
           "arrowwidth": 1
          },
          "autotypenumbers": "strict",
          "coloraxis": {
           "colorbar": {
            "outlinewidth": 0,
            "ticks": ""
           }
          },
          "colorscale": {
           "diverging": [
            [
             0,
             "#8e0152"
            ],
            [
             0.1,
             "#c51b7d"
            ],
            [
             0.2,
             "#de77ae"
            ],
            [
             0.3,
             "#f1b6da"
            ],
            [
             0.4,
             "#fde0ef"
            ],
            [
             0.5,
             "#f7f7f7"
            ],
            [
             0.6,
             "#e6f5d0"
            ],
            [
             0.7,
             "#b8e186"
            ],
            [
             0.8,
             "#7fbc41"
            ],
            [
             0.9,
             "#4d9221"
            ],
            [
             1,
             "#276419"
            ]
           ],
           "sequential": [
            [
             0,
             "#0d0887"
            ],
            [
             0.1111111111111111,
             "#46039f"
            ],
            [
             0.2222222222222222,
             "#7201a8"
            ],
            [
             0.3333333333333333,
             "#9c179e"
            ],
            [
             0.4444444444444444,
             "#bd3786"
            ],
            [
             0.5555555555555556,
             "#d8576b"
            ],
            [
             0.6666666666666666,
             "#ed7953"
            ],
            [
             0.7777777777777778,
             "#fb9f3a"
            ],
            [
             0.8888888888888888,
             "#fdca26"
            ],
            [
             1,
             "#f0f921"
            ]
           ],
           "sequentialminus": [
            [
             0,
             "#0d0887"
            ],
            [
             0.1111111111111111,
             "#46039f"
            ],
            [
             0.2222222222222222,
             "#7201a8"
            ],
            [
             0.3333333333333333,
             "#9c179e"
            ],
            [
             0.4444444444444444,
             "#bd3786"
            ],
            [
             0.5555555555555556,
             "#d8576b"
            ],
            [
             0.6666666666666666,
             "#ed7953"
            ],
            [
             0.7777777777777778,
             "#fb9f3a"
            ],
            [
             0.8888888888888888,
             "#fdca26"
            ],
            [
             1,
             "#f0f921"
            ]
           ]
          },
          "colorway": [
           "#636efa",
           "#EF553B",
           "#00cc96",
           "#ab63fa",
           "#FFA15A",
           "#19d3f3",
           "#FF6692",
           "#B6E880",
           "#FF97FF",
           "#FECB52"
          ],
          "font": {
           "color": "#2a3f5f"
          },
          "geo": {
           "bgcolor": "white",
           "lakecolor": "white",
           "landcolor": "#E5ECF6",
           "showlakes": true,
           "showland": true,
           "subunitcolor": "white"
          },
          "hoverlabel": {
           "align": "left"
          },
          "hovermode": "closest",
          "mapbox": {
           "style": "light"
          },
          "paper_bgcolor": "white",
          "plot_bgcolor": "#E5ECF6",
          "polar": {
           "angularaxis": {
            "gridcolor": "white",
            "linecolor": "white",
            "ticks": ""
           },
           "bgcolor": "#E5ECF6",
           "radialaxis": {
            "gridcolor": "white",
            "linecolor": "white",
            "ticks": ""
           }
          },
          "scene": {
           "xaxis": {
            "backgroundcolor": "#E5ECF6",
            "gridcolor": "white",
            "gridwidth": 2,
            "linecolor": "white",
            "showbackground": true,
            "ticks": "",
            "zerolinecolor": "white"
           },
           "yaxis": {
            "backgroundcolor": "#E5ECF6",
            "gridcolor": "white",
            "gridwidth": 2,
            "linecolor": "white",
            "showbackground": true,
            "ticks": "",
            "zerolinecolor": "white"
           },
           "zaxis": {
            "backgroundcolor": "#E5ECF6",
            "gridcolor": "white",
            "gridwidth": 2,
            "linecolor": "white",
            "showbackground": true,
            "ticks": "",
            "zerolinecolor": "white"
           }
          },
          "shapedefaults": {
           "line": {
            "color": "#2a3f5f"
           }
          },
          "ternary": {
           "aaxis": {
            "gridcolor": "white",
            "linecolor": "white",
            "ticks": ""
           },
           "baxis": {
            "gridcolor": "white",
            "linecolor": "white",
            "ticks": ""
           },
           "bgcolor": "#E5ECF6",
           "caxis": {
            "gridcolor": "white",
            "linecolor": "white",
            "ticks": ""
           }
          },
          "title": {
           "x": 0.05
          },
          "xaxis": {
           "automargin": true,
           "gridcolor": "white",
           "linecolor": "white",
           "ticks": "",
           "title": {
            "standoff": 15
           },
           "zerolinecolor": "white",
           "zerolinewidth": 2
          },
          "yaxis": {
           "automargin": true,
           "gridcolor": "white",
           "linecolor": "white",
           "ticks": "",
           "title": {
            "standoff": 15
           },
           "zerolinecolor": "white",
           "zerolinewidth": 2
          }
         }
        },
        "xaxis": {
         "anchor": "y",
         "domain": [
          0,
          1
         ],
         "title": {
          "text": "Total"
         }
        },
        "yaxis": {
         "anchor": "x",
         "domain": [
          0,
          1
         ],
         "title": {
          "text": "count"
         }
        }
       }
      },
      "text/html": [
       "<div>                        <script type=\"text/javascript\">window.PlotlyConfig = {MathJaxConfig: 'local'};</script>\n",
       "        <script charset=\"utf-8\" src=\"https://cdn.plot.ly/plotly-2.29.1.min.js\"></script>                <div id=\"320235f6-c310-4daf-a711-24c2af4b1bee\" class=\"plotly-graph-div\" style=\"height:100%; width:100%;\"></div>            <script type=\"text/javascript\">                                    window.PLOTLYENV=window.PLOTLYENV || {};                                    if (document.getElementById(\"320235f6-c310-4daf-a711-24c2af4b1bee\")) {                    Plotly.newPlot(                        \"320235f6-c310-4daf-a711-24c2af4b1bee\",                        [{\"alignmentgroup\":\"True\",\"bingroup\":\"x\",\"hovertemplate\":\"Legendary=False\\u003cbr\\u003eTotal=%{x}\\u003cbr\\u003ecount=%{y}\\u003cextra\\u003e\\u003c\\u002fextra\\u003e\",\"legendgroup\":\"False\",\"marker\":{\"color\":\"#636efa\",\"pattern\":{\"shape\":\"\"}},\"name\":\"False\",\"offsetgroup\":\"False\",\"orientation\":\"v\",\"showlegend\":true,\"x\":[318,405,525,625,309,405,534,634,634,314,405,530,630,195,205,395,195,205,395,495,251,349,479,579,253,413,262,442,288,438,320,485,300,450,275,365,505,273,365,505,323,483,299,505,270,435,245,455,320,395,490,285,405,305,450,265,405,290,440,320,500,305,455,350,555,300,385,510,310,400,500,590,305,405,505,300,390,490,335,515,300,390,495,410,500,315,490,590,325,465,352,310,460,325,475,325,500,305,525,310,405,500,600,385,328,483,325,475,330,480,325,520,320,425,455,455,385,340,490,345,485,450,435,490,590,295,440,320,450,340,520,460,500,455,490,495,500,600,490,200,540,640,535,288,325,525,525,525,395,355,495,355,495,515,615,540,300,420,600,600,318,405,525,309,405,534,314,405,530,215,415,262,442,265,390,250,390,535,330,460,205,218,210,245,405,320,470,280,365,510,610,490,250,420,410,500,250,340,460,360,180,425,390,210,430,525,525,405,490,435,336,405,455,290,465,415,430,510,610,300,450,430,500,600,505,500,600,430,330,500,250,410,250,450,380,300,480,330,465,465,330,500,600,540,330,500,515,465,250,210,455,305,360,365,490,540,300,410,600,700,600,310,405,530,630,310,405,530,630,310,405,535,635,220,420,240,420,195,205,395,205,385,220,340,480,220,340,480,270,430,270,430,198,278,518,618,269,414,295,460,280,440,670,266,456,236,240,360,490,237,474,190,375,260,380,380,480,380,480,330,430,530,630,280,410,510,295,475,575,405,405,400,400,400,302,467,305,460,560,400,500,305,460,560,470,330,470,360,290,340,520,335,475,310,490,590,458,458,440,440,288,468,308,468,300,500,355,495,355,495,200,540,420,440,295,455,555,295,455,460,425,465,565,260,300,480,580,290,410,530,345,485,485,485,330,300,420,600,700,300,420,600,700,318,405,525,309,405,534,314,405,530,245,340,485,250,410,194,384,263,363,523,280,515,350,495,350,495,224,424,424,424,424,244,474,405,330,495,275,450,325,475,482,348,498,350,480,580,495,505,310,452,285,329,479,300,500,290,310,220,411,485,300,410,600,700,390,285,525,625,330,525,330,500,300,490,454,330,460,345,334,494,594,510,535,515,535,535,540,540,545,515,525,525,510,530,535,518,618,525,525,480,440,520,520,520,520,520,600,480,600,308,413,528,308,418,528,308,413,528,255,420,275,370,500,281,446,316,498,316,498,316,498,292,487,264,358,488,295,497,280,390,515,313,425,328,508,445,545,305,405,505,294,384,509,465,465,310,380,500,260,360,485,280,480,280,480,460,292,351,519,315,480,540,461,325,475,348,488,490,303,483,355,495,401,567,329,474,330,510,300,470,290,390,490,290,370,490,305,473,305,395,535,335,475,428,315,495,294,464,335,480,470,319,472,305,489,300,440,520,275,405,515,335,485,275,370,520,320,410,540,305,485,485,305,495,471,350,510,485,303,483,340,490,490,350,510,370,510,484,484,300,420,600,360,550,580,580,600,600,600,313,405,530,307,409,534,314,405,530,237,423,278,382,499,200,213,411,369,507,303,371,552,350,531,348,495,472,355,466,466,325,448,520,520,341,462,341,480,288,482,306,500,320,494,330,500,289,481,362,521,362,521,525,500,431,500,300,452,600,470,309,474,335,335,335,335,494,494,494,494,304,514,245,535],\"xaxis\":\"x\",\"yaxis\":\"y\",\"type\":\"histogram\"},{\"alignmentgroup\":\"True\",\"bingroup\":\"x\",\"hovertemplate\":\"Legendary=True\\u003cbr\\u003eTotal=%{x}\\u003cbr\\u003ecount=%{y}\\u003cextra\\u003e\\u003c\\u002fextra\\u003e\",\"legendgroup\":\"True\",\"marker\":{\"color\":\"#EF553B\",\"pattern\":{\"shape\":\"\"}},\"name\":\"True\",\"offsetgroup\":\"True\",\"orientation\":\"v\",\"showlegend\":true,\"x\":[580,580,580,680,780,780,580,580,580,680,680,580,580,580,600,700,600,700,670,770,670,770,680,780,600,600,600,600,600,580,580,580,680,680,600,670,680,680,600,600,600,720,600,580,580,580,580,580,580,580,680,680,600,600,660,700,700,680,680,600,600,700,600,680,600],\"xaxis\":\"x\",\"yaxis\":\"y\",\"type\":\"histogram\"}],                        {\"template\":{\"data\":{\"histogram2dcontour\":[{\"type\":\"histogram2dcontour\",\"colorbar\":{\"outlinewidth\":0,\"ticks\":\"\"},\"colorscale\":[[0.0,\"#0d0887\"],[0.1111111111111111,\"#46039f\"],[0.2222222222222222,\"#7201a8\"],[0.3333333333333333,\"#9c179e\"],[0.4444444444444444,\"#bd3786\"],[0.5555555555555556,\"#d8576b\"],[0.6666666666666666,\"#ed7953\"],[0.7777777777777778,\"#fb9f3a\"],[0.8888888888888888,\"#fdca26\"],[1.0,\"#f0f921\"]]}],\"choropleth\":[{\"type\":\"choropleth\",\"colorbar\":{\"outlinewidth\":0,\"ticks\":\"\"}}],\"histogram2d\":[{\"type\":\"histogram2d\",\"colorbar\":{\"outlinewidth\":0,\"ticks\":\"\"},\"colorscale\":[[0.0,\"#0d0887\"],[0.1111111111111111,\"#46039f\"],[0.2222222222222222,\"#7201a8\"],[0.3333333333333333,\"#9c179e\"],[0.4444444444444444,\"#bd3786\"],[0.5555555555555556,\"#d8576b\"],[0.6666666666666666,\"#ed7953\"],[0.7777777777777778,\"#fb9f3a\"],[0.8888888888888888,\"#fdca26\"],[1.0,\"#f0f921\"]]}],\"heatmap\":[{\"type\":\"heatmap\",\"colorbar\":{\"outlinewidth\":0,\"ticks\":\"\"},\"colorscale\":[[0.0,\"#0d0887\"],[0.1111111111111111,\"#46039f\"],[0.2222222222222222,\"#7201a8\"],[0.3333333333333333,\"#9c179e\"],[0.4444444444444444,\"#bd3786\"],[0.5555555555555556,\"#d8576b\"],[0.6666666666666666,\"#ed7953\"],[0.7777777777777778,\"#fb9f3a\"],[0.8888888888888888,\"#fdca26\"],[1.0,\"#f0f921\"]]}],\"heatmapgl\":[{\"type\":\"heatmapgl\",\"colorbar\":{\"outlinewidth\":0,\"ticks\":\"\"},\"colorscale\":[[0.0,\"#0d0887\"],[0.1111111111111111,\"#46039f\"],[0.2222222222222222,\"#7201a8\"],[0.3333333333333333,\"#9c179e\"],[0.4444444444444444,\"#bd3786\"],[0.5555555555555556,\"#d8576b\"],[0.6666666666666666,\"#ed7953\"],[0.7777777777777778,\"#fb9f3a\"],[0.8888888888888888,\"#fdca26\"],[1.0,\"#f0f921\"]]}],\"contourcarpet\":[{\"type\":\"contourcarpet\",\"colorbar\":{\"outlinewidth\":0,\"ticks\":\"\"}}],\"contour\":[{\"type\":\"contour\",\"colorbar\":{\"outlinewidth\":0,\"ticks\":\"\"},\"colorscale\":[[0.0,\"#0d0887\"],[0.1111111111111111,\"#46039f\"],[0.2222222222222222,\"#7201a8\"],[0.3333333333333333,\"#9c179e\"],[0.4444444444444444,\"#bd3786\"],[0.5555555555555556,\"#d8576b\"],[0.6666666666666666,\"#ed7953\"],[0.7777777777777778,\"#fb9f3a\"],[0.8888888888888888,\"#fdca26\"],[1.0,\"#f0f921\"]]}],\"surface\":[{\"type\":\"surface\",\"colorbar\":{\"outlinewidth\":0,\"ticks\":\"\"},\"colorscale\":[[0.0,\"#0d0887\"],[0.1111111111111111,\"#46039f\"],[0.2222222222222222,\"#7201a8\"],[0.3333333333333333,\"#9c179e\"],[0.4444444444444444,\"#bd3786\"],[0.5555555555555556,\"#d8576b\"],[0.6666666666666666,\"#ed7953\"],[0.7777777777777778,\"#fb9f3a\"],[0.8888888888888888,\"#fdca26\"],[1.0,\"#f0f921\"]]}],\"mesh3d\":[{\"type\":\"mesh3d\",\"colorbar\":{\"outlinewidth\":0,\"ticks\":\"\"}}],\"scatter\":[{\"fillpattern\":{\"fillmode\":\"overlay\",\"size\":10,\"solidity\":0.2},\"type\":\"scatter\"}],\"parcoords\":[{\"type\":\"parcoords\",\"line\":{\"colorbar\":{\"outlinewidth\":0,\"ticks\":\"\"}}}],\"scatterpolargl\":[{\"type\":\"scatterpolargl\",\"marker\":{\"colorbar\":{\"outlinewidth\":0,\"ticks\":\"\"}}}],\"bar\":[{\"error_x\":{\"color\":\"#2a3f5f\"},\"error_y\":{\"color\":\"#2a3f5f\"},\"marker\":{\"line\":{\"color\":\"#E5ECF6\",\"width\":0.5},\"pattern\":{\"fillmode\":\"overlay\",\"size\":10,\"solidity\":0.2}},\"type\":\"bar\"}],\"scattergeo\":[{\"type\":\"scattergeo\",\"marker\":{\"colorbar\":{\"outlinewidth\":0,\"ticks\":\"\"}}}],\"scatterpolar\":[{\"type\":\"scatterpolar\",\"marker\":{\"colorbar\":{\"outlinewidth\":0,\"ticks\":\"\"}}}],\"histogram\":[{\"marker\":{\"pattern\":{\"fillmode\":\"overlay\",\"size\":10,\"solidity\":0.2}},\"type\":\"histogram\"}],\"scattergl\":[{\"type\":\"scattergl\",\"marker\":{\"colorbar\":{\"outlinewidth\":0,\"ticks\":\"\"}}}],\"scatter3d\":[{\"type\":\"scatter3d\",\"line\":{\"colorbar\":{\"outlinewidth\":0,\"ticks\":\"\"}},\"marker\":{\"colorbar\":{\"outlinewidth\":0,\"ticks\":\"\"}}}],\"scattermapbox\":[{\"type\":\"scattermapbox\",\"marker\":{\"colorbar\":{\"outlinewidth\":0,\"ticks\":\"\"}}}],\"scatterternary\":[{\"type\":\"scatterternary\",\"marker\":{\"colorbar\":{\"outlinewidth\":0,\"ticks\":\"\"}}}],\"scattercarpet\":[{\"type\":\"scattercarpet\",\"marker\":{\"colorbar\":{\"outlinewidth\":0,\"ticks\":\"\"}}}],\"carpet\":[{\"aaxis\":{\"endlinecolor\":\"#2a3f5f\",\"gridcolor\":\"white\",\"linecolor\":\"white\",\"minorgridcolor\":\"white\",\"startlinecolor\":\"#2a3f5f\"},\"baxis\":{\"endlinecolor\":\"#2a3f5f\",\"gridcolor\":\"white\",\"linecolor\":\"white\",\"minorgridcolor\":\"white\",\"startlinecolor\":\"#2a3f5f\"},\"type\":\"carpet\"}],\"table\":[{\"cells\":{\"fill\":{\"color\":\"#EBF0F8\"},\"line\":{\"color\":\"white\"}},\"header\":{\"fill\":{\"color\":\"#C8D4E3\"},\"line\":{\"color\":\"white\"}},\"type\":\"table\"}],\"barpolar\":[{\"marker\":{\"line\":{\"color\":\"#E5ECF6\",\"width\":0.5},\"pattern\":{\"fillmode\":\"overlay\",\"size\":10,\"solidity\":0.2}},\"type\":\"barpolar\"}],\"pie\":[{\"automargin\":true,\"type\":\"pie\"}]},\"layout\":{\"autotypenumbers\":\"strict\",\"colorway\":[\"#636efa\",\"#EF553B\",\"#00cc96\",\"#ab63fa\",\"#FFA15A\",\"#19d3f3\",\"#FF6692\",\"#B6E880\",\"#FF97FF\",\"#FECB52\"],\"font\":{\"color\":\"#2a3f5f\"},\"hovermode\":\"closest\",\"hoverlabel\":{\"align\":\"left\"},\"paper_bgcolor\":\"white\",\"plot_bgcolor\":\"#E5ECF6\",\"polar\":{\"bgcolor\":\"#E5ECF6\",\"angularaxis\":{\"gridcolor\":\"white\",\"linecolor\":\"white\",\"ticks\":\"\"},\"radialaxis\":{\"gridcolor\":\"white\",\"linecolor\":\"white\",\"ticks\":\"\"}},\"ternary\":{\"bgcolor\":\"#E5ECF6\",\"aaxis\":{\"gridcolor\":\"white\",\"linecolor\":\"white\",\"ticks\":\"\"},\"baxis\":{\"gridcolor\":\"white\",\"linecolor\":\"white\",\"ticks\":\"\"},\"caxis\":{\"gridcolor\":\"white\",\"linecolor\":\"white\",\"ticks\":\"\"}},\"coloraxis\":{\"colorbar\":{\"outlinewidth\":0,\"ticks\":\"\"}},\"colorscale\":{\"sequential\":[[0.0,\"#0d0887\"],[0.1111111111111111,\"#46039f\"],[0.2222222222222222,\"#7201a8\"],[0.3333333333333333,\"#9c179e\"],[0.4444444444444444,\"#bd3786\"],[0.5555555555555556,\"#d8576b\"],[0.6666666666666666,\"#ed7953\"],[0.7777777777777778,\"#fb9f3a\"],[0.8888888888888888,\"#fdca26\"],[1.0,\"#f0f921\"]],\"sequentialminus\":[[0.0,\"#0d0887\"],[0.1111111111111111,\"#46039f\"],[0.2222222222222222,\"#7201a8\"],[0.3333333333333333,\"#9c179e\"],[0.4444444444444444,\"#bd3786\"],[0.5555555555555556,\"#d8576b\"],[0.6666666666666666,\"#ed7953\"],[0.7777777777777778,\"#fb9f3a\"],[0.8888888888888888,\"#fdca26\"],[1.0,\"#f0f921\"]],\"diverging\":[[0,\"#8e0152\"],[0.1,\"#c51b7d\"],[0.2,\"#de77ae\"],[0.3,\"#f1b6da\"],[0.4,\"#fde0ef\"],[0.5,\"#f7f7f7\"],[0.6,\"#e6f5d0\"],[0.7,\"#b8e186\"],[0.8,\"#7fbc41\"],[0.9,\"#4d9221\"],[1,\"#276419\"]]},\"xaxis\":{\"gridcolor\":\"white\",\"linecolor\":\"white\",\"ticks\":\"\",\"title\":{\"standoff\":15},\"zerolinecolor\":\"white\",\"automargin\":true,\"zerolinewidth\":2},\"yaxis\":{\"gridcolor\":\"white\",\"linecolor\":\"white\",\"ticks\":\"\",\"title\":{\"standoff\":15},\"zerolinecolor\":\"white\",\"automargin\":true,\"zerolinewidth\":2},\"scene\":{\"xaxis\":{\"backgroundcolor\":\"#E5ECF6\",\"gridcolor\":\"white\",\"linecolor\":\"white\",\"showbackground\":true,\"ticks\":\"\",\"zerolinecolor\":\"white\",\"gridwidth\":2},\"yaxis\":{\"backgroundcolor\":\"#E5ECF6\",\"gridcolor\":\"white\",\"linecolor\":\"white\",\"showbackground\":true,\"ticks\":\"\",\"zerolinecolor\":\"white\",\"gridwidth\":2},\"zaxis\":{\"backgroundcolor\":\"#E5ECF6\",\"gridcolor\":\"white\",\"linecolor\":\"white\",\"showbackground\":true,\"ticks\":\"\",\"zerolinecolor\":\"white\",\"gridwidth\":2}},\"shapedefaults\":{\"line\":{\"color\":\"#2a3f5f\"}},\"annotationdefaults\":{\"arrowcolor\":\"#2a3f5f\",\"arrowhead\":0,\"arrowwidth\":1},\"geo\":{\"bgcolor\":\"white\",\"landcolor\":\"#E5ECF6\",\"subunitcolor\":\"white\",\"showland\":true,\"showlakes\":true,\"lakecolor\":\"white\"},\"title\":{\"x\":0.05},\"mapbox\":{\"style\":\"light\"}}},\"xaxis\":{\"anchor\":\"y\",\"domain\":[0.0,1.0],\"title\":{\"text\":\"Total\"}},\"yaxis\":{\"anchor\":\"x\",\"domain\":[0.0,1.0],\"title\":{\"text\":\"count\"}},\"legend\":{\"title\":{\"text\":\"Legendary\"},\"tracegroupgap\":0},\"margin\":{\"t\":60},\"barmode\":\"relative\"},                        {\"responsive\": true}                    )                };                            </script>        </div>"
      ],
      "text/plain": [
       "Figure({\n",
       "    'data': [{'alignmentgroup': 'True',\n",
       "              'bingroup': 'x',\n",
       "              'hovertemplate': 'Legendary=False<br>Total=%{x}<br>count=%{y}<extra></extra>',\n",
       "              'legendgroup': 'False',\n",
       "              'marker': {'color': '#636efa', 'pattern': {'shape': ''}},\n",
       "              'name': 'False',\n",
       "              'offsetgroup': 'False',\n",
       "              'orientation': 'v',\n",
       "              'showlegend': True,\n",
       "              'type': 'histogram',\n",
       "              'x': array([318, 405, 525, ..., 514, 245, 535], dtype=int64),\n",
       "              'xaxis': 'x',\n",
       "              'yaxis': 'y'},\n",
       "             {'alignmentgroup': 'True',\n",
       "              'bingroup': 'x',\n",
       "              'hovertemplate': 'Legendary=True<br>Total=%{x}<br>count=%{y}<extra></extra>',\n",
       "              'legendgroup': 'True',\n",
       "              'marker': {'color': '#EF553B', 'pattern': {'shape': ''}},\n",
       "              'name': 'True',\n",
       "              'offsetgroup': 'True',\n",
       "              'orientation': 'v',\n",
       "              'showlegend': True,\n",
       "              'type': 'histogram',\n",
       "              'x': array([580, 580, 580, 680, 780, 780, 580, 580, 580, 680, 680, 580, 580, 580,\n",
       "                          600, 700, 600, 700, 670, 770, 670, 770, 680, 780, 600, 600, 600, 600,\n",
       "                          600, 580, 580, 580, 680, 680, 600, 670, 680, 680, 600, 600, 600, 720,\n",
       "                          600, 580, 580, 580, 580, 580, 580, 580, 680, 680, 600, 600, 660, 700,\n",
       "                          700, 680, 680, 600, 600, 700, 600, 680, 600], dtype=int64),\n",
       "              'xaxis': 'x',\n",
       "              'yaxis': 'y'}],\n",
       "    'layout': {'barmode': 'relative',\n",
       "               'legend': {'title': {'text': 'Legendary'}, 'tracegroupgap': 0},\n",
       "               'margin': {'t': 60},\n",
       "               'template': '...',\n",
       "               'xaxis': {'anchor': 'y', 'domain': [0.0, 1.0], 'title': {'text': 'Total'}},\n",
       "               'yaxis': {'anchor': 'x', 'domain': [0.0, 1.0], 'title': {'text': 'count'}}}\n",
       "})"
      ]
     },
     "execution_count": 16,
     "metadata": {},
     "output_type": "execute_result"
    }
   ],
   "source": [
    "px.histogram(data_frame = df_pokemon,\n",
    "             x=\"Total\",\n",
    "             color=\"Legendary\",\n",
    "             \n",
    "             )"
   ]
  },
  {
   "cell_type": "code",
   "execution_count": 15,
   "id": "812b4e67",
   "metadata": {},
   "outputs": [
    {
     "data": {
      "text/html": [
       "<div>\n",
       "<style scoped>\n",
       "    .dataframe tbody tr th:only-of-type {\n",
       "        vertical-align: middle;\n",
       "    }\n",
       "\n",
       "    .dataframe tbody tr th {\n",
       "        vertical-align: top;\n",
       "    }\n",
       "\n",
       "    .dataframe thead th {\n",
       "        text-align: right;\n",
       "    }\n",
       "</style>\n",
       "<table border=\"1\" class=\"dataframe\">\n",
       "  <thead>\n",
       "    <tr style=\"text-align: right;\">\n",
       "      <th></th>\n",
       "      <th>#</th>\n",
       "      <th>Name</th>\n",
       "      <th>Type 1</th>\n",
       "      <th>Type 2</th>\n",
       "      <th>Total</th>\n",
       "      <th>HP</th>\n",
       "      <th>Attack</th>\n",
       "      <th>Defense</th>\n",
       "      <th>Sp. Atk</th>\n",
       "      <th>Sp. Def</th>\n",
       "      <th>Speed</th>\n",
       "      <th>Generation</th>\n",
       "      <th>Legendary</th>\n",
       "    </tr>\n",
       "  </thead>\n",
       "  <tbody>\n",
       "    <tr>\n",
       "      <th>0</th>\n",
       "      <td>1</td>\n",
       "      <td>Bulbasaur</td>\n",
       "      <td>Grass</td>\n",
       "      <td>Poison</td>\n",
       "      <td>318</td>\n",
       "      <td>45</td>\n",
       "      <td>49</td>\n",
       "      <td>49</td>\n",
       "      <td>65</td>\n",
       "      <td>65</td>\n",
       "      <td>45</td>\n",
       "      <td>1</td>\n",
       "      <td>False</td>\n",
       "    </tr>\n",
       "    <tr>\n",
       "      <th>1</th>\n",
       "      <td>2</td>\n",
       "      <td>Ivysaur</td>\n",
       "      <td>Grass</td>\n",
       "      <td>Poison</td>\n",
       "      <td>405</td>\n",
       "      <td>60</td>\n",
       "      <td>62</td>\n",
       "      <td>63</td>\n",
       "      <td>80</td>\n",
       "      <td>80</td>\n",
       "      <td>60</td>\n",
       "      <td>1</td>\n",
       "      <td>False</td>\n",
       "    </tr>\n",
       "    <tr>\n",
       "      <th>2</th>\n",
       "      <td>3</td>\n",
       "      <td>Venusaur</td>\n",
       "      <td>Grass</td>\n",
       "      <td>Poison</td>\n",
       "      <td>525</td>\n",
       "      <td>80</td>\n",
       "      <td>82</td>\n",
       "      <td>83</td>\n",
       "      <td>100</td>\n",
       "      <td>100</td>\n",
       "      <td>80</td>\n",
       "      <td>1</td>\n",
       "      <td>False</td>\n",
       "    </tr>\n",
       "    <tr>\n",
       "      <th>3</th>\n",
       "      <td>3</td>\n",
       "      <td>VenusaurMega Venusaur</td>\n",
       "      <td>Grass</td>\n",
       "      <td>Poison</td>\n",
       "      <td>625</td>\n",
       "      <td>80</td>\n",
       "      <td>100</td>\n",
       "      <td>123</td>\n",
       "      <td>122</td>\n",
       "      <td>120</td>\n",
       "      <td>80</td>\n",
       "      <td>1</td>\n",
       "      <td>False</td>\n",
       "    </tr>\n",
       "    <tr>\n",
       "      <th>4</th>\n",
       "      <td>4</td>\n",
       "      <td>Charmander</td>\n",
       "      <td>Fire</td>\n",
       "      <td>NaN</td>\n",
       "      <td>309</td>\n",
       "      <td>39</td>\n",
       "      <td>52</td>\n",
       "      <td>43</td>\n",
       "      <td>60</td>\n",
       "      <td>50</td>\n",
       "      <td>65</td>\n",
       "      <td>1</td>\n",
       "      <td>False</td>\n",
       "    </tr>\n",
       "    <tr>\n",
       "      <th>...</th>\n",
       "      <td>...</td>\n",
       "      <td>...</td>\n",
       "      <td>...</td>\n",
       "      <td>...</td>\n",
       "      <td>...</td>\n",
       "      <td>...</td>\n",
       "      <td>...</td>\n",
       "      <td>...</td>\n",
       "      <td>...</td>\n",
       "      <td>...</td>\n",
       "      <td>...</td>\n",
       "      <td>...</td>\n",
       "      <td>...</td>\n",
       "    </tr>\n",
       "    <tr>\n",
       "      <th>795</th>\n",
       "      <td>719</td>\n",
       "      <td>Diancie</td>\n",
       "      <td>Rock</td>\n",
       "      <td>Fairy</td>\n",
       "      <td>600</td>\n",
       "      <td>50</td>\n",
       "      <td>100</td>\n",
       "      <td>150</td>\n",
       "      <td>100</td>\n",
       "      <td>150</td>\n",
       "      <td>50</td>\n",
       "      <td>6</td>\n",
       "      <td>True</td>\n",
       "    </tr>\n",
       "    <tr>\n",
       "      <th>796</th>\n",
       "      <td>719</td>\n",
       "      <td>DiancieMega Diancie</td>\n",
       "      <td>Rock</td>\n",
       "      <td>Fairy</td>\n",
       "      <td>700</td>\n",
       "      <td>50</td>\n",
       "      <td>160</td>\n",
       "      <td>110</td>\n",
       "      <td>160</td>\n",
       "      <td>110</td>\n",
       "      <td>110</td>\n",
       "      <td>6</td>\n",
       "      <td>True</td>\n",
       "    </tr>\n",
       "    <tr>\n",
       "      <th>797</th>\n",
       "      <td>720</td>\n",
       "      <td>HoopaHoopa Confined</td>\n",
       "      <td>Psychic</td>\n",
       "      <td>Ghost</td>\n",
       "      <td>600</td>\n",
       "      <td>80</td>\n",
       "      <td>110</td>\n",
       "      <td>60</td>\n",
       "      <td>150</td>\n",
       "      <td>130</td>\n",
       "      <td>70</td>\n",
       "      <td>6</td>\n",
       "      <td>True</td>\n",
       "    </tr>\n",
       "    <tr>\n",
       "      <th>798</th>\n",
       "      <td>720</td>\n",
       "      <td>HoopaHoopa Unbound</td>\n",
       "      <td>Psychic</td>\n",
       "      <td>Dark</td>\n",
       "      <td>680</td>\n",
       "      <td>80</td>\n",
       "      <td>160</td>\n",
       "      <td>60</td>\n",
       "      <td>170</td>\n",
       "      <td>130</td>\n",
       "      <td>80</td>\n",
       "      <td>6</td>\n",
       "      <td>True</td>\n",
       "    </tr>\n",
       "    <tr>\n",
       "      <th>799</th>\n",
       "      <td>721</td>\n",
       "      <td>Volcanion</td>\n",
       "      <td>Fire</td>\n",
       "      <td>Water</td>\n",
       "      <td>600</td>\n",
       "      <td>80</td>\n",
       "      <td>110</td>\n",
       "      <td>120</td>\n",
       "      <td>130</td>\n",
       "      <td>90</td>\n",
       "      <td>70</td>\n",
       "      <td>6</td>\n",
       "      <td>True</td>\n",
       "    </tr>\n",
       "  </tbody>\n",
       "</table>\n",
       "<p>800 rows × 13 columns</p>\n",
       "</div>"
      ],
      "text/plain": [
       "       #                   Name   Type 1  Type 2  Total  HP  Attack  Defense  \\\n",
       "0      1              Bulbasaur    Grass  Poison    318  45      49       49   \n",
       "1      2                Ivysaur    Grass  Poison    405  60      62       63   \n",
       "2      3               Venusaur    Grass  Poison    525  80      82       83   \n",
       "3      3  VenusaurMega Venusaur    Grass  Poison    625  80     100      123   \n",
       "4      4             Charmander     Fire     NaN    309  39      52       43   \n",
       "..   ...                    ...      ...     ...    ...  ..     ...      ...   \n",
       "795  719                Diancie     Rock   Fairy    600  50     100      150   \n",
       "796  719    DiancieMega Diancie     Rock   Fairy    700  50     160      110   \n",
       "797  720    HoopaHoopa Confined  Psychic   Ghost    600  80     110       60   \n",
       "798  720     HoopaHoopa Unbound  Psychic    Dark    680  80     160       60   \n",
       "799  721              Volcanion     Fire   Water    600  80     110      120   \n",
       "\n",
       "     Sp. Atk  Sp. Def  Speed  Generation  Legendary  \n",
       "0         65       65     45           1      False  \n",
       "1         80       80     60           1      False  \n",
       "2        100      100     80           1      False  \n",
       "3        122      120     80           1      False  \n",
       "4         60       50     65           1      False  \n",
       "..       ...      ...    ...         ...        ...  \n",
       "795      100      150     50           6       True  \n",
       "796      160      110    110           6       True  \n",
       "797      150      130     70           6       True  \n",
       "798      170      130     80           6       True  \n",
       "799      130       90     70           6       True  \n",
       "\n",
       "[800 rows x 13 columns]"
      ]
     },
     "execution_count": 15,
     "metadata": {},
     "output_type": "execute_result"
    }
   ],
   "source": [
    "df_pokemon"
   ]
  },
  {
   "cell_type": "code",
   "execution_count": null,
   "id": "e89c211d",
   "metadata": {},
   "outputs": [],
   "source": [
    "# Pokemon\n",
    "\n",
    "fig = px.sunburst(data_frame = df_pokemon,\n",
    "                  values     = \"Total\",\n",
    "                  path       = [\"Legendary\", \"Type 1\"],\n",
    "                  hover_name = \"Name\",\n",
    "                  color      = \"Generation\")\n",
    "\n",
    "fig.update_traces(textinfo = \"label+percent parent\")\n",
    "\n",
    "fig"
   ]
  },
  {
   "cell_type": "markdown",
   "id": "8bd67fe6",
   "metadata": {},
   "source": [
    "#### Treemap plot\n",
    "**`px.treemap()`**"
   ]
  },
  {
   "cell_type": "code",
   "execution_count": 13,
   "id": "6539c923",
   "metadata": {},
   "outputs": [
    {
     "data": {
      "text/html": [
       "<div>\n",
       "<style scoped>\n",
       "    .dataframe tbody tr th:only-of-type {\n",
       "        vertical-align: middle;\n",
       "    }\n",
       "\n",
       "    .dataframe tbody tr th {\n",
       "        vertical-align: top;\n",
       "    }\n",
       "\n",
       "    .dataframe thead th {\n",
       "        text-align: right;\n",
       "    }\n",
       "</style>\n",
       "<table border=\"1\" class=\"dataframe\">\n",
       "  <thead>\n",
       "    <tr style=\"text-align: right;\">\n",
       "      <th></th>\n",
       "      <th>id</th>\n",
       "      <th>name</th>\n",
       "      <th>host_id</th>\n",
       "      <th>host_name</th>\n",
       "      <th>municipio</th>\n",
       "      <th>barrio</th>\n",
       "      <th>latitude</th>\n",
       "      <th>longitude</th>\n",
       "      <th>room_type</th>\n",
       "      <th>price</th>\n",
       "      <th>minimum_nights</th>\n",
       "      <th>number_of_reviews</th>\n",
       "      <th>last_review</th>\n",
       "      <th>reviews_per_month</th>\n",
       "      <th>calculated_host_listings_count</th>\n",
       "      <th>availability_365</th>\n",
       "    </tr>\n",
       "  </thead>\n",
       "  <tbody>\n",
       "    <tr>\n",
       "      <th>0</th>\n",
       "      <td>2539</td>\n",
       "      <td>Clean &amp; quiet apt home by the park</td>\n",
       "      <td>2787</td>\n",
       "      <td>John</td>\n",
       "      <td>Brooklyn</td>\n",
       "      <td>Kensington</td>\n",
       "      <td>40.64749</td>\n",
       "      <td>-73.97237</td>\n",
       "      <td>Private room</td>\n",
       "      <td>149.0</td>\n",
       "      <td>1.0</td>\n",
       "      <td>9.0</td>\n",
       "      <td>2018-10-19</td>\n",
       "      <td>0.21</td>\n",
       "      <td>6.0</td>\n",
       "      <td>365.0</td>\n",
       "    </tr>\n",
       "    <tr>\n",
       "      <th>1</th>\n",
       "      <td>2595</td>\n",
       "      <td>Skylit Midtown Castle</td>\n",
       "      <td>2845</td>\n",
       "      <td>Jennifer</td>\n",
       "      <td>Manhattan</td>\n",
       "      <td>Midtown</td>\n",
       "      <td>40.75362</td>\n",
       "      <td>-73.98377</td>\n",
       "      <td>Entire home/apt</td>\n",
       "      <td>225.0</td>\n",
       "      <td>1.0</td>\n",
       "      <td>45.0</td>\n",
       "      <td>2019-05-21</td>\n",
       "      <td>0.38</td>\n",
       "      <td>2.0</td>\n",
       "      <td>355.0</td>\n",
       "    </tr>\n",
       "    <tr>\n",
       "      <th>2</th>\n",
       "      <td>3647</td>\n",
       "      <td>THE VILLAGE OF HARLEM....NEW YORK !</td>\n",
       "      <td>4632</td>\n",
       "      <td>Elisabeth</td>\n",
       "      <td>Manhattan</td>\n",
       "      <td>Harlem</td>\n",
       "      <td>40.80902</td>\n",
       "      <td>-73.94190</td>\n",
       "      <td>Private room</td>\n",
       "      <td>150.0</td>\n",
       "      <td>3.0</td>\n",
       "      <td>0.0</td>\n",
       "      <td>NaT</td>\n",
       "      <td>NaN</td>\n",
       "      <td>1.0</td>\n",
       "      <td>365.0</td>\n",
       "    </tr>\n",
       "    <tr>\n",
       "      <th>3</th>\n",
       "      <td>3831</td>\n",
       "      <td>Cozy Entire Floor of Brownstone</td>\n",
       "      <td>4869</td>\n",
       "      <td>LisaRoxanne</td>\n",
       "      <td>Brooklyn</td>\n",
       "      <td>Clinton Hill</td>\n",
       "      <td>40.68514</td>\n",
       "      <td>-73.95976</td>\n",
       "      <td>Entire home/apt</td>\n",
       "      <td>89.0</td>\n",
       "      <td>1.0</td>\n",
       "      <td>270.0</td>\n",
       "      <td>2019-07-05</td>\n",
       "      <td>4.64</td>\n",
       "      <td>1.0</td>\n",
       "      <td>194.0</td>\n",
       "    </tr>\n",
       "    <tr>\n",
       "      <th>4</th>\n",
       "      <td>5022</td>\n",
       "      <td>Entire Apt: Spacious Studio/Loft by central park</td>\n",
       "      <td>7192</td>\n",
       "      <td>Laura</td>\n",
       "      <td>Manhattan</td>\n",
       "      <td>East Harlem</td>\n",
       "      <td>40.79851</td>\n",
       "      <td>-73.94399</td>\n",
       "      <td>Entire home/apt</td>\n",
       "      <td>80.0</td>\n",
       "      <td>10.0</td>\n",
       "      <td>9.0</td>\n",
       "      <td>2018-11-19</td>\n",
       "      <td>0.10</td>\n",
       "      <td>1.0</td>\n",
       "      <td>0.0</td>\n",
       "    </tr>\n",
       "    <tr>\n",
       "      <th>...</th>\n",
       "      <td>...</td>\n",
       "      <td>...</td>\n",
       "      <td>...</td>\n",
       "      <td>...</td>\n",
       "      <td>...</td>\n",
       "      <td>...</td>\n",
       "      <td>...</td>\n",
       "      <td>...</td>\n",
       "      <td>...</td>\n",
       "      <td>...</td>\n",
       "      <td>...</td>\n",
       "      <td>...</td>\n",
       "      <td>...</td>\n",
       "      <td>...</td>\n",
       "      <td>...</td>\n",
       "      <td>...</td>\n",
       "    </tr>\n",
       "    <tr>\n",
       "      <th>48890</th>\n",
       "      <td>36484665</td>\n",
       "      <td>Charming one bedroom - newly renovated rowhouse</td>\n",
       "      <td>8232441</td>\n",
       "      <td>Sabrina</td>\n",
       "      <td>Brooklyn</td>\n",
       "      <td>Bedford-Stuyvesant</td>\n",
       "      <td>40.67853</td>\n",
       "      <td>-73.94995</td>\n",
       "      <td>Private room</td>\n",
       "      <td>70.0</td>\n",
       "      <td>2.0</td>\n",
       "      <td>0.0</td>\n",
       "      <td>NaT</td>\n",
       "      <td>NaN</td>\n",
       "      <td>2.0</td>\n",
       "      <td>9.0</td>\n",
       "    </tr>\n",
       "    <tr>\n",
       "      <th>48891</th>\n",
       "      <td>36485057</td>\n",
       "      <td>Affordable room in Bushwick/East Williamsburg</td>\n",
       "      <td>6570630</td>\n",
       "      <td>Marisol</td>\n",
       "      <td>Brooklyn</td>\n",
       "      <td>Bushwick</td>\n",
       "      <td>40.70184</td>\n",
       "      <td>-73.93317</td>\n",
       "      <td>Private room</td>\n",
       "      <td>40.0</td>\n",
       "      <td>4.0</td>\n",
       "      <td>0.0</td>\n",
       "      <td>NaT</td>\n",
       "      <td>NaN</td>\n",
       "      <td>2.0</td>\n",
       "      <td>36.0</td>\n",
       "    </tr>\n",
       "    <tr>\n",
       "      <th>48892</th>\n",
       "      <td>36485431</td>\n",
       "      <td>Sunny Studio at Historical Neighborhood</td>\n",
       "      <td>23492952</td>\n",
       "      <td>Ilgar &amp; Aysel</td>\n",
       "      <td>Manhattan</td>\n",
       "      <td>Harlem</td>\n",
       "      <td>40.81475</td>\n",
       "      <td>-73.94867</td>\n",
       "      <td>Entire home/apt</td>\n",
       "      <td>115.0</td>\n",
       "      <td>10.0</td>\n",
       "      <td>0.0</td>\n",
       "      <td>NaT</td>\n",
       "      <td>NaN</td>\n",
       "      <td>1.0</td>\n",
       "      <td>27.0</td>\n",
       "    </tr>\n",
       "    <tr>\n",
       "      <th>48893</th>\n",
       "      <td>36485609</td>\n",
       "      <td>43rd St. Time Square-cozy single bed</td>\n",
       "      <td>30985759</td>\n",
       "      <td>Taz</td>\n",
       "      <td>Manhattan</td>\n",
       "      <td>Hell's Kitchen</td>\n",
       "      <td>40.75751</td>\n",
       "      <td>-73.99112</td>\n",
       "      <td>Shared room</td>\n",
       "      <td>55.0</td>\n",
       "      <td>1.0</td>\n",
       "      <td>0.0</td>\n",
       "      <td>NaT</td>\n",
       "      <td>NaN</td>\n",
       "      <td>6.0</td>\n",
       "      <td>2.0</td>\n",
       "    </tr>\n",
       "    <tr>\n",
       "      <th>48894</th>\n",
       "      <td>36487245</td>\n",
       "      <td>Trendy duplex in the very heart of Hell's Kitchen</td>\n",
       "      <td>68119814</td>\n",
       "      <td>Christophe</td>\n",
       "      <td>Manhattan</td>\n",
       "      <td>Hell's Kitchen</td>\n",
       "      <td>40.76404</td>\n",
       "      <td>-73.98933</td>\n",
       "      <td>Private room</td>\n",
       "      <td>90.0</td>\n",
       "      <td>7.0</td>\n",
       "      <td>0.0</td>\n",
       "      <td>NaT</td>\n",
       "      <td>NaN</td>\n",
       "      <td>1.0</td>\n",
       "      <td>23.0</td>\n",
       "    </tr>\n",
       "  </tbody>\n",
       "</table>\n",
       "<p>48895 rows × 16 columns</p>\n",
       "</div>"
      ],
      "text/plain": [
       "             id                                               name   host_id  \\\n",
       "0          2539                 Clean & quiet apt home by the park      2787   \n",
       "1          2595                              Skylit Midtown Castle      2845   \n",
       "2          3647                THE VILLAGE OF HARLEM....NEW YORK !      4632   \n",
       "3          3831                    Cozy Entire Floor of Brownstone      4869   \n",
       "4          5022   Entire Apt: Spacious Studio/Loft by central park      7192   \n",
       "...         ...                                                ...       ...   \n",
       "48890  36484665    Charming one bedroom - newly renovated rowhouse   8232441   \n",
       "48891  36485057      Affordable room in Bushwick/East Williamsburg   6570630   \n",
       "48892  36485431            Sunny Studio at Historical Neighborhood  23492952   \n",
       "48893  36485609               43rd St. Time Square-cozy single bed  30985759   \n",
       "48894  36487245  Trendy duplex in the very heart of Hell's Kitchen  68119814   \n",
       "\n",
       "           host_name  municipio              barrio  latitude  longitude  \\\n",
       "0               John   Brooklyn          Kensington  40.64749  -73.97237   \n",
       "1           Jennifer  Manhattan             Midtown  40.75362  -73.98377   \n",
       "2          Elisabeth  Manhattan              Harlem  40.80902  -73.94190   \n",
       "3        LisaRoxanne   Brooklyn        Clinton Hill  40.68514  -73.95976   \n",
       "4              Laura  Manhattan         East Harlem  40.79851  -73.94399   \n",
       "...              ...        ...                 ...       ...        ...   \n",
       "48890        Sabrina   Brooklyn  Bedford-Stuyvesant  40.67853  -73.94995   \n",
       "48891        Marisol   Brooklyn            Bushwick  40.70184  -73.93317   \n",
       "48892  Ilgar & Aysel  Manhattan              Harlem  40.81475  -73.94867   \n",
       "48893            Taz  Manhattan      Hell's Kitchen  40.75751  -73.99112   \n",
       "48894     Christophe  Manhattan      Hell's Kitchen  40.76404  -73.98933   \n",
       "\n",
       "             room_type  price  minimum_nights  number_of_reviews last_review  \\\n",
       "0         Private room  149.0             1.0                9.0  2018-10-19   \n",
       "1      Entire home/apt  225.0             1.0               45.0  2019-05-21   \n",
       "2         Private room  150.0             3.0                0.0         NaT   \n",
       "3      Entire home/apt   89.0             1.0              270.0  2019-07-05   \n",
       "4      Entire home/apt   80.0            10.0                9.0  2018-11-19   \n",
       "...                ...    ...             ...                ...         ...   \n",
       "48890     Private room   70.0             2.0                0.0         NaT   \n",
       "48891     Private room   40.0             4.0                0.0         NaT   \n",
       "48892  Entire home/apt  115.0            10.0                0.0         NaT   \n",
       "48893      Shared room   55.0             1.0                0.0         NaT   \n",
       "48894     Private room   90.0             7.0                0.0         NaT   \n",
       "\n",
       "       reviews_per_month  calculated_host_listings_count  availability_365  \n",
       "0                   0.21                             6.0             365.0  \n",
       "1                   0.38                             2.0             355.0  \n",
       "2                    NaN                             1.0             365.0  \n",
       "3                   4.64                             1.0             194.0  \n",
       "4                   0.10                             1.0               0.0  \n",
       "...                  ...                             ...               ...  \n",
       "48890                NaN                             2.0               9.0  \n",
       "48891                NaN                             2.0              36.0  \n",
       "48892                NaN                             1.0              27.0  \n",
       "48893                NaN                             6.0               2.0  \n",
       "48894                NaN                             1.0              23.0  \n",
       "\n",
       "[48895 rows x 16 columns]"
      ]
     },
     "execution_count": 13,
     "metadata": {},
     "output_type": "execute_result"
    }
   ],
   "source": [
    "df_airbnb"
   ]
  },
  {
   "cell_type": "code",
   "execution_count": null,
   "id": "2a8119a4",
   "metadata": {},
   "outputs": [],
   "source": [
    "# Airbnb - Mismos parámetros de sunburst\n",
    "\n",
    "px.treemap(data_frame = df_airbnb,\n",
    "           values     = \"price\",\n",
    "           path       = [\"municipio\", \"barrio\"],\n",
    "           hover_name = \"name\",\n",
    "           color      = \"municipio\")"
   ]
  },
  {
   "cell_type": "markdown",
   "id": "4482d354",
   "metadata": {},
   "source": [
    "#### Line Plot\n",
    "**`px.line()`**"
   ]
  },
  {
   "cell_type": "code",
   "execution_count": 21,
   "id": "6152d4de",
   "metadata": {},
   "outputs": [
    {
     "data": {
      "text/html": [
       "<div>\n",
       "<style scoped>\n",
       "    .dataframe tbody tr th:only-of-type {\n",
       "        vertical-align: middle;\n",
       "    }\n",
       "\n",
       "    .dataframe tbody tr th {\n",
       "        vertical-align: top;\n",
       "    }\n",
       "\n",
       "    .dataframe thead th {\n",
       "        text-align: right;\n",
       "    }\n",
       "</style>\n",
       "<table border=\"1\" class=\"dataframe\">\n",
       "  <thead>\n",
       "    <tr style=\"text-align: right;\">\n",
       "      <th></th>\n",
       "      <th>Largo Sepalo</th>\n",
       "      <th>Ancho Sepalo</th>\n",
       "      <th>Largo Petalo</th>\n",
       "      <th>Ancho Petalo</th>\n",
       "      <th>Clase</th>\n",
       "    </tr>\n",
       "  </thead>\n",
       "  <tbody>\n",
       "    <tr>\n",
       "      <th>0</th>\n",
       "      <td>5.1</td>\n",
       "      <td>3.5</td>\n",
       "      <td>1.4</td>\n",
       "      <td>0.2</td>\n",
       "      <td>Iris-setosa</td>\n",
       "    </tr>\n",
       "    <tr>\n",
       "      <th>1</th>\n",
       "      <td>4.9</td>\n",
       "      <td>3.0</td>\n",
       "      <td>1.4</td>\n",
       "      <td>0.2</td>\n",
       "      <td>Iris-setosa</td>\n",
       "    </tr>\n",
       "    <tr>\n",
       "      <th>2</th>\n",
       "      <td>4.7</td>\n",
       "      <td>3.2</td>\n",
       "      <td>1.3</td>\n",
       "      <td>0.2</td>\n",
       "      <td>Iris-setosa</td>\n",
       "    </tr>\n",
       "    <tr>\n",
       "      <th>3</th>\n",
       "      <td>4.6</td>\n",
       "      <td>3.1</td>\n",
       "      <td>1.5</td>\n",
       "      <td>0.2</td>\n",
       "      <td>Iris-setosa</td>\n",
       "    </tr>\n",
       "    <tr>\n",
       "      <th>4</th>\n",
       "      <td>5.0</td>\n",
       "      <td>3.6</td>\n",
       "      <td>1.4</td>\n",
       "      <td>0.2</td>\n",
       "      <td>Iris-setosa</td>\n",
       "    </tr>\n",
       "    <tr>\n",
       "      <th>...</th>\n",
       "      <td>...</td>\n",
       "      <td>...</td>\n",
       "      <td>...</td>\n",
       "      <td>...</td>\n",
       "      <td>...</td>\n",
       "    </tr>\n",
       "    <tr>\n",
       "      <th>145</th>\n",
       "      <td>6.7</td>\n",
       "      <td>3.0</td>\n",
       "      <td>5.2</td>\n",
       "      <td>2.3</td>\n",
       "      <td>Iris-virginica</td>\n",
       "    </tr>\n",
       "    <tr>\n",
       "      <th>146</th>\n",
       "      <td>6.3</td>\n",
       "      <td>2.5</td>\n",
       "      <td>5.0</td>\n",
       "      <td>1.9</td>\n",
       "      <td>Iris-virginica</td>\n",
       "    </tr>\n",
       "    <tr>\n",
       "      <th>147</th>\n",
       "      <td>6.5</td>\n",
       "      <td>3.0</td>\n",
       "      <td>5.2</td>\n",
       "      <td>2.0</td>\n",
       "      <td>Iris-virginica</td>\n",
       "    </tr>\n",
       "    <tr>\n",
       "      <th>148</th>\n",
       "      <td>6.2</td>\n",
       "      <td>3.4</td>\n",
       "      <td>5.4</td>\n",
       "      <td>2.3</td>\n",
       "      <td>Iris-virginica</td>\n",
       "    </tr>\n",
       "    <tr>\n",
       "      <th>149</th>\n",
       "      <td>5.9</td>\n",
       "      <td>3.0</td>\n",
       "      <td>5.1</td>\n",
       "      <td>1.8</td>\n",
       "      <td>Iris-virginica</td>\n",
       "    </tr>\n",
       "  </tbody>\n",
       "</table>\n",
       "<p>150 rows × 5 columns</p>\n",
       "</div>"
      ],
      "text/plain": [
       "     Largo Sepalo  Ancho Sepalo  Largo Petalo  Ancho Petalo           Clase\n",
       "0             5.1           3.5           1.4           0.2     Iris-setosa\n",
       "1             4.9           3.0           1.4           0.2     Iris-setosa\n",
       "2             4.7           3.2           1.3           0.2     Iris-setosa\n",
       "3             4.6           3.1           1.5           0.2     Iris-setosa\n",
       "4             5.0           3.6           1.4           0.2     Iris-setosa\n",
       "..            ...           ...           ...           ...             ...\n",
       "145           6.7           3.0           5.2           2.3  Iris-virginica\n",
       "146           6.3           2.5           5.0           1.9  Iris-virginica\n",
       "147           6.5           3.0           5.2           2.0  Iris-virginica\n",
       "148           6.2           3.4           5.4           2.3  Iris-virginica\n",
       "149           5.9           3.0           5.1           1.8  Iris-virginica\n",
       "\n",
       "[150 rows x 5 columns]"
      ]
     },
     "execution_count": 21,
     "metadata": {},
     "output_type": "execute_result"
    }
   ],
   "source": [
    "df_iris"
   ]
  },
  {
   "cell_type": "code",
   "execution_count": null,
   "id": "14318ba9",
   "metadata": {},
   "outputs": [],
   "source": [
    "px.line(data_frame = df_iris.sort_values([\"Largo Sepalo\", \"Largo Petalo\"]),\n",
    "        x = \"Largo Sepalo\",\n",
    "        y = \"Largo Petalo\",\n",
    "        hover_data = [\"Clase\"])"
   ]
  },
  {
   "cell_type": "code",
   "execution_count": null,
   "id": "0b54ef7f",
   "metadata": {},
   "outputs": [],
   "source": [
    "px.line(data_frame = df_iris.sort_values([\"Largo Sepalo\", \"Largo Petalo\"]),\n",
    "        x = \"Largo Sepalo\",\n",
    "        y = \"Largo Petalo\",\n",
    "        color = \"Clase\")"
   ]
  },
  {
   "cell_type": "markdown",
   "id": "e2bcdcf6",
   "metadata": {},
   "source": [
    "#### Scatter Plot\n",
    "**`px.scatter()`**"
   ]
  },
  {
   "cell_type": "code",
   "execution_count": 20,
   "id": "ef61c57f",
   "metadata": {},
   "outputs": [
    {
     "ename": "ValueError",
     "evalue": "Mime type rendering requires nbformat>=4.2.0 but it is not installed",
     "output_type": "error",
     "traceback": [
      "\u001b[1;31m---------------------------------------------------------------------------\u001b[0m",
      "\u001b[1;31mValueError\u001b[0m                                Traceback (most recent call last)",
      "File \u001b[1;32m~\\AppData\\Roaming\\Python\\Python312\\site-packages\\IPython\\core\\formatters.py:922\u001b[0m, in \u001b[0;36mIPythonDisplayFormatter.__call__\u001b[1;34m(self, obj)\u001b[0m\n\u001b[0;32m    920\u001b[0m method \u001b[38;5;241m=\u001b[39m get_real_method(obj, \u001b[38;5;28mself\u001b[39m\u001b[38;5;241m.\u001b[39mprint_method)\n\u001b[0;32m    921\u001b[0m \u001b[38;5;28;01mif\u001b[39;00m method \u001b[38;5;129;01mis\u001b[39;00m \u001b[38;5;129;01mnot\u001b[39;00m \u001b[38;5;28;01mNone\u001b[39;00m:\n\u001b[1;32m--> 922\u001b[0m     \u001b[43mmethod\u001b[49m\u001b[43m(\u001b[49m\u001b[43m)\u001b[49m\n\u001b[0;32m    923\u001b[0m     \u001b[38;5;28;01mreturn\u001b[39;00m \u001b[38;5;28;01mTrue\u001b[39;00m\n",
      "File \u001b[1;32mc:\\Users\\fran\\AppData\\Local\\Programs\\Python\\Python312\\Lib\\site-packages\\plotly\\basedatatypes.py:832\u001b[0m, in \u001b[0;36mBaseFigure._ipython_display_\u001b[1;34m(self)\u001b[0m\n\u001b[0;32m    829\u001b[0m \u001b[38;5;28;01mimport\u001b[39;00m \u001b[38;5;21;01mplotly\u001b[39;00m\u001b[38;5;21;01m.\u001b[39;00m\u001b[38;5;21;01mio\u001b[39;00m \u001b[38;5;28;01mas\u001b[39;00m \u001b[38;5;21;01mpio\u001b[39;00m\n\u001b[0;32m    831\u001b[0m \u001b[38;5;28;01mif\u001b[39;00m pio\u001b[38;5;241m.\u001b[39mrenderers\u001b[38;5;241m.\u001b[39mrender_on_display \u001b[38;5;129;01mand\u001b[39;00m pio\u001b[38;5;241m.\u001b[39mrenderers\u001b[38;5;241m.\u001b[39mdefault:\n\u001b[1;32m--> 832\u001b[0m     \u001b[43mpio\u001b[49m\u001b[38;5;241;43m.\u001b[39;49m\u001b[43mshow\u001b[49m\u001b[43m(\u001b[49m\u001b[38;5;28;43mself\u001b[39;49m\u001b[43m)\u001b[49m\n\u001b[0;32m    833\u001b[0m \u001b[38;5;28;01melse\u001b[39;00m:\n\u001b[0;32m    834\u001b[0m     \u001b[38;5;28mprint\u001b[39m(\u001b[38;5;28mrepr\u001b[39m(\u001b[38;5;28mself\u001b[39m))\n",
      "File \u001b[1;32mc:\\Users\\fran\\AppData\\Local\\Programs\\Python\\Python312\\Lib\\site-packages\\plotly\\io\\_renderers.py:394\u001b[0m, in \u001b[0;36mshow\u001b[1;34m(fig, renderer, validate, **kwargs)\u001b[0m\n\u001b[0;32m    389\u001b[0m         \u001b[38;5;28;01mraise\u001b[39;00m \u001b[38;5;167;01mValueError\u001b[39;00m(\n\u001b[0;32m    390\u001b[0m             \u001b[38;5;124m\"\u001b[39m\u001b[38;5;124mMime type rendering requires ipython but it is not installed\u001b[39m\u001b[38;5;124m\"\u001b[39m\n\u001b[0;32m    391\u001b[0m         )\n\u001b[0;32m    393\u001b[0m     \u001b[38;5;28;01mif\u001b[39;00m \u001b[38;5;129;01mnot\u001b[39;00m nbformat \u001b[38;5;129;01mor\u001b[39;00m Version(nbformat\u001b[38;5;241m.\u001b[39m__version__) \u001b[38;5;241m<\u001b[39m Version(\u001b[38;5;124m\"\u001b[39m\u001b[38;5;124m4.2.0\u001b[39m\u001b[38;5;124m\"\u001b[39m):\n\u001b[1;32m--> 394\u001b[0m         \u001b[38;5;28;01mraise\u001b[39;00m \u001b[38;5;167;01mValueError\u001b[39;00m(\n\u001b[0;32m    395\u001b[0m             \u001b[38;5;124m\"\u001b[39m\u001b[38;5;124mMime type rendering requires nbformat>=4.2.0 but it is not installed\u001b[39m\u001b[38;5;124m\"\u001b[39m\n\u001b[0;32m    396\u001b[0m         )\n\u001b[0;32m    398\u001b[0m     ipython_display\u001b[38;5;241m.\u001b[39mdisplay(bundle, raw\u001b[38;5;241m=\u001b[39m\u001b[38;5;28;01mTrue\u001b[39;00m)\n\u001b[0;32m    400\u001b[0m \u001b[38;5;66;03m# external renderers\u001b[39;00m\n",
      "\u001b[1;31mValueError\u001b[0m: Mime type rendering requires nbformat>=4.2.0 but it is not installed"
     ]
    },
    {
     "data": {
      "application/vnd.plotly.v1+json": {
       "config": {
        "plotlyServerURL": "https://plot.ly"
       },
       "data": [
        {
         "hovertemplate": "<b>%{hovertext}</b><br><br>municipio=Brooklyn<br>price=%{x}<br>number_of_reviews=%{y}<extra></extra>",
         "hovertext": [
          "Clean & quiet apt home by the park",
          "Cozy Entire Floor of Brownstone",
          "BlissArtsSpace!",
          "Lovely Room 1, Garden, Best Area, Legal rental",
          "Only 2 stops to Manhattan studio",
          "Perfect for Your Parents + Garden",
          "Hip Historic Brownstone Apartment with Backyard",
          "Sweet and Spacious Brooklyn Loft",
          "CBG CtyBGd HelpsHaiti rm#1:1-4",
          "CBG Helps Haiti Room#2.5",
          "CBG Helps Haiti Rm #2",
          "MAISON DES SIRENES1,bohemian apartment",
          "Sunny Bedroom Across Prospect Park",
          "Loft in Williamsburg Area w/ Roof",
          "Large B&B Style rooms",
          "Lovely room 2 & garden; Best area, Legal rental",
          "Clean and Quiet in Brooklyn",
          "Cute apt in artist's home",
          "Country space in the city",
          "Beautiful Sunny Park Slope Brooklyn",
          "1bdr w private bath. in lofty apt",
          "Entire apartment in central Brooklyn neighborhood.",
          "Charming Brownstone 3 - Near PRATT",
          "bright and stylish duplex",
          "Fort Greene brownstone ",
          "Blue Room for 2 in Brownstone for $1350 monthly",
          "* ORIGINAL BROOKLYN LOFT *",
          "Greenpoint Place...Has It All! ",
          "Williamsburg 1 bedroom Apartment",
          "Room in Greenpoint Loft w/ Roof",
          "Very, very cozy place",
          "Comfortable 4-bedroom apt in family house.",
          "Double Room w Private Deck Clinton Hill Best Area",
          "Light-filled 2B duplex in the heart of Park Slope!",
          "*HAVEN LOFT - Entire Floor - Six Windows - Bricks*",
          "BLUE TRIM GUEST HOUSE",
          "Fort Greene Retreat on the Park",
          "Cozy 2 BR in Williamsburg ",
          "Sunny, Spacious Top Floor Haven",
          "perfect for a family or small group",
          "2 bedroom Williamsburg Apt - Bedford L stop",
          "Cozy Bedroom in Williamsburg 3 BR",
          "Sunny room+Pvte office in huge loft",
          "Spacious Prospect Heights Apartment",
          "Large Parlor Room, Landmark Home 1 block to PRATT",
          "2-bed brownstone duplex + garden",
          "Charming 1 bed GR8 WBurg LOCATION!",
          "Sunny Apartment in Artist Home",
          "The Stuydio Modern and Light Filled",
          "House On Henry (3rd FLR Suite)",
          "Williamsburgâ€”Steps To Subway, Private Bath&Balcony",
          "Beautiful Duplex Apartment",
          "Large 2 Bedroom Great for Groups!",
          "Modern Brooklyn Apt., August sublet",
          "Sunny 2-story Brooklyn townhouse w deck and garden",
          "Cozy Room #3, Landmark Home 1 Block to PRATT",
          "Park Slope Green Guest House",
          "2 story family home in Williamsburg",
          "Eveland Private Bed & Living Room w/ Own Entrance",
          "3 Story Town House in Park Slope",
          "Large 1  BR in a 3 BR Brooklyn apt. next to Q Trn.",
          "Modern Apt with Spectacular Views",
          "B & B Room 1",
          "Sunny Room in New Condo",
          "NYC artistsâ€™ loft with roof deck",
          "Sanctuary in East Flatbush",
          "Room with En Suite Bathroom & Deck",
          "FLAT MACDONOUGH",
          "Huge Private  Floor at The Waverly",
          "Modern Greenpoint, Brooklyn Apt",
          "Sun-drenched, artsy modernist 1 BDRM duplex",
          "Sunny, Cobble Hill Apartment",
          "FLAT MACDONOUGH GARDEN",
          "Light filled Williamsburg Apartment",
          "Retreat in Williamsburg",
          "Cozy BR in Wiliamsburg 3 Bedroom",
          "Sunny Room in Old Historical Brooklyn Townhouse",
          "Lg Rm in Historic Prospect Heights",
          "Classic Artist Loft Williamsburg",
          "Great location. Spacious on PROSPECT PARK",
          "Great location in Williamsburg",
          "Luxury Brownstone in Boerum Hill",
          "Indie-Chic Share In Williamsburg",
          "Private, Large & Sunny 1BR w/W&D",
          "Luxurious Condo in DUBMO with View",
          "* Spacious GARDEN Park Slope Duplex* 6 people max",
          "Parlor Room In Victorian Townhouse",
          "House On Henry (2nd FLR Suite)",
          "Sunny cozy room in Brklyn townhouse",
          "Light+Open+Airy+Rustic+Modern Loft",
          "BROOKLYN VICTORIAN STYLE SUITE.....",
          "Fort Greene, Brooklyn: Center Bedroom",
          "Bright Spacious Luxury Condo",
          "Park Slope haven 15 mins from Soho",
          "SAFE  AND BEAUTIFUL ACCOMODATION",
          "Large Room in private Brownstone in Park Slope",
          "LARGE, COMFY 1BDR W/CHARACTER!!!",
          "Lovely Apt & Garden;  Legal;  Best Area; Amenities",
          "Big Room/Washer-Dryer/Wifi/AC/JMZ",
          "The Instituteâ€”Heart of Williamsburg",
          "Sml Rm in pr Brst  Park Sl great for Med/students",
          "Private Garden Apt â€¢ New Renovation",
          "Modern comfort in art infused landmark Brownstone",
          "Spacious Williamsburg Share w/ LOFT BED",
          "Cozy 2 br in sunny Fort Greene apt",
          "1 Bedroom Loft w/ Private Roof Deck",
          "Clean & bright 1BR in Cobble Hill, GREAT location!",
          "South Slope Green",
          "Franklin St Flat in Trendy Greenpoint Brooklyn",
          "BK Sweet Suite w/Kitchen&FullBath",
          "BROWNSTONE SUNDRENCHED BEAUTY",
          "Beautiful Landmarked Duplex",
          "BROOKLYN > Guest Room w/ Queen Bed in Williamsburg",
          "Large and Cozy Private Bedroom",
          "Small tidy bedroom in duplex",
          "Private, Large & Sunny Top Floor Apt  w/W&D",
          "BEDROOM1 FOR RENT 10min from Manhan",
          "Williamsburg near soho. / loftbed",
          "BROOKLYN  STUDIO APARTMENT",
          "BEDROOM2 FOR RENT  10min from Manh",
          "cozy bedroom in lovely garden apt",
          "Crown Heights Garden Apt.",
          "Share a HOME - $75 for 1 bdrm/++ for 2 - Brooklyn",
          "Room in S3rd/Bedford, Williamsburg",
          "Farmhouse Apartment in Williamsburg",
          "Bright+Spacious Williamsburg Abode!",
          "Beautiful 1 Bedroom Apt Park Slope",
          "CHARMING CARROLL GARDENS APT.",
          "Private Bedroom Brownstone Brooklyn",
          "**Fantastic Williamsburg Apt**",
          "Charming Garden Apt in Park Slope",
          "Lovely, Modern, Garden Apartment",
          "Cozy Garden Apartment  in Williamsburg",
          "The Cozy Brownstone Inn (discount)!",
          "Designer 2.5 BR Loft in Carroll Gardens by Subway",
          "Bright Beautiful Brooklyn",
          "Brooklyn Writer's Nook",
          "Gigantic Private Brooklyn Loft!",
          "Private room in cozy Greenpoint",
          "Food & Music Dream Apartment in Williamsburg",
          "French Garden cottage off Bedford",
          "Sunlit and Cozy Williamsburg/Greenpoint, Brooklyn",
          "BROOKLYN > Guest Room w/ King Bed in Williamsburg",
          "Eveland the Place to Stay & Enjoy a 5-â­ï¸ 2bdrm",
          "Superior @ Box House",
          "Historic House Boerum Hill, BK, NYC",
          "Lovely 3 bedroom in Italianate Brownstone w/garden",
          "Williamsburg HUGE, PRIVATE BATH - Next to Train!",
          "Duplex w/ Terrace @ Box House Hotel",
          "Loft w/ Terrace @ Box House Hotel",
          "Spacious 3 Bedroom Duplex in Park Slope",
          "Loft w/ Terrace @ Box House Hotel",
          "Columbia Castle in Brooklyn Heights",
          "Columbia Castle 2 BR",
          "BEAUTIFUL 2 BEDROOM APARTMENT",
          "Brooklyn Cove Studio Apt w/ Garden!!",
          "Ft. Greene garden gem, large and convenient",
          "Williamsburg penthouse with private roof cabana",
          "Superior @ Box House",
          "So Much Room in Brooklyn",
          "Garden 1BR/1BA Brownstone Apt - 2 blocks to subway",
          "The Brooklyn Waverly",
          "WONDERFUL, COMFORTABLE STUDIO",
          "MAISON DES SIRENES 2",
          "LARGE 1BR (CONV 2BR) CROWN HEIGHTS",
          "The Vernon On Greene",
          "Beautiful, Brightâ€™s, Warm & Spacious 1.5BR Apt",
          "Lovely 1BR in Tree-lined WBurg",
          "Spacious Loft in Clinton Hill",
          "The Brooklyn Waverly, One Bedroom",
          "Sunny Bklyn Jewel  Fort Greene JULY  - AUG 2019",
          "Large Brand New Park Slope 1BR",
          "Colorful Artistic Williamsburg Apt",
          "Artsy TopFloor Apt in PRIME BEDFORD Williamsburg",
          "2 BR w/ Terrace @ Box House Hotel",
          "Private 1-Bedroom Apt in Townhouse",
          "Tree lined block modern apartment",
          "Sweet Historic Greenpoint Duplex",
          "Sunny 3BR Apt Ideal for Family  ",
          "ALL ABOUT A VERY COMFORTABLE ROOM..",
          "Brooklyn- Crown Heights Garden Apt.",
          "Large Park Slope Townhouse Duplex",
          "ROOM WITH A  KITCHENETTE",
          "Conveniently Located, Sunny Brooklyn Heights!",
          "Style in Stuyvesant Heights",
          "Williamsburg apartment right by the subway",
          "Spacious Brooklyn Loft - 2 Bedroom",
          "Park Slope Apt:, Spacious 2 bedroom",
          "Authentic New York City Living ",
          "SUPER BIG AND COZY PRIVATE BEDROOM",
          "Luxe, Spacious 2BR 2BA Nr Trains",
          "Cozy and Bright One Bedroom in BK",
          "Perfect Williamsburg Summer Haven",
          "Prime Williamsburg Apartment",
          "Private, spacious room in Brooklyn",
          "Garden apartment close to Manhattan",
          "Stunning arty 3200sf 3FLR+3BR townhome w/terrace",
          "Sunny and Spacious Designer's Home",
          "Spacious,Sunny, private one bedroom",
          "Truly Amazing Oasis In The City",
          "Holiday Time in NY - Oh My!!",
          "Affordable Furnished Apartment",
          "Architect's Brownstone",
          "The Heart of Prime Williamsburg",
          "Three-bedroom house in a quiet neighborhood",
          "Garage Designer Loft",
          "BIG, COMFY , PRIV. ROOM, BIG APT, YARD, GREAT LOC.",
          "Park Slope Apartment",
          "Greenpoint Spacious Loft",
          "Incredible Prime Williamsburg Loft!",
          "Large  Loft Style  Studio  Space",
          "Hancock Town House!-Stuyvesant Mews",
          "Entire Apt in Heart of Williamsburg",
          "Clinton Hill + Free Coffee = #smile",
          "Nice, cozy, neat apt Greenpoint,BK",
          "PRIVATE and SUNNY Williamsburg Apt!",
          "Purple Room for 2/3 in brownstone $1450 per month",
          "Red Room for two in Brownstone for $1355/mo",
          "Surfer room 15mins to downtown NYC!",
          "Prime Williamsburg 3 BR with Deck",
          "Beautiful Brooklyn Oasis ",
          "Blue Room in Awesome Artist's Apartment!",
          "Greenpoint Loft / Le Chez Andrea",
          "Amazing Brownstone in Best Brooklyn",
          "LG Private Room/Family Friendly",
          "3 BR, Beautiful Brooklyn Duplex",
          "Gorgeous Duplex + Garden",
          "CBG# 4Tiny room w/ huge window/AC",
          "Sunny, quiet, legal homelike suite-Pk Slope South",
          "Warehouse Loft with Garden view",
          "Creative Vintage Loft in S. Williamsburg",
          "Very close to Downtown Awesome Private Apartment",
          "Fort Greene, Brooklyn: Front Bedroom",
          "spacious studio",
          "Cozy private family home in Bushwick",
          "Cosy Sunny 1brm in Prospect Heights",
          "Williamsburg Home Away From Home!",
          "Brand New Beautiful Duplex Apartment with Garden",
          "Williamsburg bedroom by Bedford Ave",
          "Clean and bright with a comfortable atmosphere",
          "Historic Brooklyn Studio Apartment",
          "\"The Oasis\" on Bedford Williamsburg",
          "Large, sunny garden apartment.",
          "Family & Friends in New York City",
          "Spacious & Comfy BK Brownstone",
          "Chateau Style Brooklyn Loft for Singles or Couples",
          "Lovely Brooklyn Brownstone 1BR!",
          "Beautiful Grdn. Apt. in Park Slope",
          "Bright Private Bedroom in Williamsburg (Bedford L)",
          "Hospitality on Propsect Pk-12 yrs Hosting Legally!",
          "Prospect Pk*NYC in 5 stops* Cozy,Clean & Legal!",
          "Loft Style Apt in Williamsburg",
          "2 Beds over Bed-Stuy",
          "Sunny, Large, Park Slope Bedroom",
          "Huge Bklyn Loft w Private Roofdeck",
          "Comfy, Cozy, Brooklyn close to Manhattan",
          "Sunny Space in Williamsburg",
          "Serene Park Slope Garden Apartment",
          "Cozy and spacious - rare for NYC!",
          "St. James Pl Garden Studio 1block to PRATT &Gtrain",
          "Great, spacious apt in Williamsburg",
          "Ideal Brooklyn Brownstone Apartment",
          "A Cozy Oasis in Bushwick, NY",
          "Private Entrance - Private Parking",
          "Sunny, Spacious Studio in Ft.Greene",
          "Williamsburg Exposed Brick Loft",
          "Bright Modern Charming Housebarge",
          "Central Bedford Avenue Apartment",
          "Welcome to Brooklyn! Bed-Stuy",
          "Greenpoint Waterfront Loft",
          "Quiet One Bedroom in Park Slope",
          "CreaTive Live-In Artspace/Birdsnest",
          "Sunny, calm room in Victorian home",
          "Luxury Furnished 1 bedro, Bay Ridge",
          "Wonderful Studio In Brooklyn, NY!!!",
          "A Cozy Brooklyn Hideaway",
          "Lovely HUGE Master Bed + Study",
          "Large Artist Floorthru- Greenpoint",
          "CBG Helps Haiti Rm #3",
          "Lovely Apartment",
          "BEAUTIFUL APARTMENT, GREAT LOCATION",
          "Charming room in Victorian home",
          "Brooklyn B & B close to Manhattan",
          "The Notorious B.N.B. { The Erhart }",
          "Sunny 2 bedroom Williamsburg Duplex w/ 3 beds",
          "ROOM WITH KITCHENETTE #2",
          "Your Haven Awaits At \"Emma's Place\"",
          "Beautiful Brownstone",
          "Oversized Studio in Park Slope",
          "Apt with EmpireState view-Subway around the corner",
          "Lovely pied-Ã -terre, in an historic building",
          "HUGE Sunny Duplex Loft with Garden",
          "Williamsburg Garden Home, 5 minutes from Manhattan",
          "HUGE, modern 2-LEVEL Brooklyn apt",
          "Private Room in Fort Green BK close to city",
          "Spacious & Charming by Prospect Pk",
          "Private Room Near Brooklyn Museum ",
          "The Notorious B.N.B. { The Wallace }",
          "Clinton Hill 1 Bed Bright Loft Apartment",
          "The Notorious B.N.B. { The Swoon }",
          "BIG 1br, SLEEPS 4, dishwashr, TV",
          "2BR  Apt - 20min to Soho",
          "Williamsburg  - Quiet and Comfy stay",
          "Brooklyn Brownstone apartment",
          "Lovely, Large Room in Crown Heights",
          "Loft Suite @ Box House Hotel",
          "HANCOCK VERY SMALL ROOM",
          "Pre-War Williamsburg Loft",
          "1 Bedroom Available In My Two Bedroom Flat",
          "Prime Williamsburg Loft off Bedford",
          "Spacious, modern loft in awesome neighborhood",
          "Loft Suite @ The Box House Hotel",
          "Loft Suite @ The Box House Hotel",
          "Loft Suite @ The Box House Hotel",
          "Well Kept  Private Room around  Brighton  Beach",
          "Loft Suite @ Box House Hotel",
          "Loft Suite @ The Box House Hotel",
          "Loft Suite @ The Box House Hotel",
          "Loft Suite @ The Box House Hotel",
          "Loft Suite @ The Box House Hotel",
          "Duplex w/ Terrace @ Box House Hotel",
          "Loft w/ Terrace @ Box House Hotel",
          "1 BR w/ Terrace @ Box House Hotel",
          "Superior @ Box House",
          "2 BR Duplex @ Box House Hotel",
          "Husband & Wife Art-Filled Apartment",
          "3BR, 2 bathroom condo in Bushwick",
          "The BLUE OWL:\nVEGETARIAN WBURG W PATIO & BACKYARD!",
          "Cozy 2 Bedroom 20 Min from City",
          "Alchemy BnB - room in artist loft",
          "Sunny! 2br Steps to train/restaurants - 15 to NYC",
          "Zen Den (Airport Pickup: JFK & LGA)",
          "Heart of Williamsburg. Brand New.",
          "Fresh, Clean Brooklyn Garden Apt.",
          "Guest Apartment in Owner Occupied Home",
          "Fort Greene brownstone 1BR- SUBLET",
          "Cozy Artist Duplex **Bedstuy Charm**",
          "Spacious Townhome Apt in Brooklyn",
          "2 bedroom apt in charming brick townhouse",
          "Prime Williamsburg 1/BD New Condo",
          "Private room w/ queen bed + rooftop",
          "Zen Eyrie â€“Airport Pick-Up: JFK/LGA",
          "Spacious  2 bed Loft apartment Bedford L",
          "SUNNY 1 Bedroom APT in Fort Greene - BROOKLYN",
          "Private clean pleasant spacious room.",
          "Resort-like living in Williamsburg",
          "Brooklyn: A Huge Bedroom + Good Vibes",
          "Private Room Very Near L train, Bushwick",
          "Bed-stuy Royal Room",
          "GREAP STUDIO / 4PPL IN MIDTOWN",
          "BEDFORD AV.  ROOM IN WILLIAMSBURG..",
          "Sleep & Wake near Botanical Gardens",
          "Tranquil in the heart of Brooklyn 2",
          "Tranquil in the heart of Brooklyn 1",
          "Spacious room on charming block in Greenpoint!",
          "SUNNY, SPACIOUS APT. in  FT. GREENE",
          "Guest Room in Authentic Williamsburg Factory Loft",
          "Fantastic 1-bedroom basement apt.",
          "Private Clinton Hill, Brooklyn Apt",
          "Lovely 2 bedroom apartment with backyard access",
          "Nights in White Satin in the Slope",
          "The Carlton, Brooklyn brownstone Duplex w/ garden",
          "Beautiful lrg 1800's syle apt share",
          "Sunny Entire Apt with Romantic Bedroom",
          "Large, furnished room in a 2 bedroom!",
          "#1 Yellow Block BnB/see at Net Flix Show Stay Here",
          "Cozy Brownstone Inn I(studio)",
          "Crown Height's Brooklyn Cozy Apt",
          "Authentic NY Charming Artist Loft",
          "Kensington/Ditmas Park pied-a-terre",
          "Own Room & Bath, Sunny Town House, 18\" to Wall St",
          "Cozy & Charming Boerum Hill Flat",
          "Park Slope Brooklyn!  Sunny Bedroom.",
          "One bedroom sharing Bathroom",
          "Huge Williamsburg Loft..Perfect for Big Groups!",
          "Stylish Garden House - Trendy area",
          "Pre War Park Slope on Prospect Park",
          "Great spacious room by the L train!",
          "Charming Brooklyn Studio",
          "Bed Stuy Pride! Welcome to Brooklyn",
          "HOT SPOT FOR 20 AND 30 SOMETHING'S",
          "Cozy, Clean Cobble Hill Brownstone",
          "Bright Loft Apt w Skylight in Wburg",
          "Cozy, beautiful doormen studio-",
          "Carroll Gardens Gem-2BD with Garden",
          "2BR in Cobble Hill, Brooklyn, NY",
          "Zen Minimalist w/Garden- Bedford L Stop",
          "Brooklyn Beauty - Large 2 bedroom Apartment",
          "Sunny and spacious bedroom",
          "Beautiful Spacious One Bedroom",
          "Big Apt for Funky Art /Music Lovers, Outdoor Patio",
          "Loft Suite @ The Box House Hotel",
          "Loft Suite @ The Box House Hotel",
          "Loft Suite @ Box House Hotel",
          "Loft Suite @ The Box House Hotel",
          "Loft Suite @ The Box House Hotel",
          "Lovely apt in Williamsburg, BK",
          "Williamsburg HUGE SUNNY next2train!",
          "Loft Suite @ Box House Hotel",
          "Modern apartment w/ gorgeous view",
          "Sunny, clean br available",
          "Have Whole Apt! Prime Williamsburg!",
          "E Williamsburg Apartment with Yard",
          "Sublet in Brooklyn/Lefferts Gardens",
          "Cozy Corner, Bedford Ave  Brooklyn!",
          "HISTORIC WILLIAMSBURG, BKLYN #1",
          "Inexpensive apartment in exchange for cat-care",
          "Private room in 2 br Apt, Wburg, BK",
          "Bright, Airy Williamsburg Apt",
          "Large Double Room  Queenbed Wifi",
          "Low$pacious in Williamsburg, Bklyn",
          "Feel like you never leave your home",
          "Sunny apartment  in Greenpoint",
          "Sunny private room featured in film",
          "Your Own 2 Br Apt Bedford and Grand",
          "Spacious + Sunny Studio in Ft. Greene Brooklyn!",
          "2 rooms; private entrance & bath!",
          "Prime location! Backyard & outdoor shower! Unique!",
          "Clinton Hill Duplex near Pratt w/Balcony!",
          "2 BD / 2BA WITH GARDEN, SLEEPS 6",
          "Comfortable, well-appointed room",
          "Historic Brooklyn 2-Bedroom Apt",
          "Come and go as  you please in BKLN!",
          "Huge, Sunny, Open Loft in Brooklyn",
          "Cozy Nook in Heart of Williamsburg",
          "Peaceful Room...",
          "Cute Room in Historic Loft!",
          "Amazing Park Slope Duplex with Deck",
          "Entire 2 Bedroom Apartment in Williamsburg",
          "Luxury Williamsburg, Brooklyn LOFT",
          "Artist Loft-McCarren Park-Williamsburg-BrooklynNYC",
          "Large Master Bedroom - Williamsburg",
          "Real Williamsburg Artist Loft",
          "Large Cozy Room #2, Landmark Home 1 Block to PRATT",
          "Entire Apt: Sunny 2bd! 15min to NYC",
          "Your Historic House in Brooklyn",
          "Charming private room in New-York",
          "Artist's Flat in Historic Building #10263",
          "Bklyn 6 Beds 1 Bathroom Rental 2",
          "Bklyn 4 Beds 1 Bathroom Rental 3",
          "4 Beds 2 Bathrooms Rental 1",
          "Heavy Sun, Quiet, Arty 1 Bedroom",
          "Williamsburg Loft: Amazing Sublet",
          "Artist 2BR in Park Slope w/backyard",
          "Spacious 2BR near Botanic Garden",
          "Gorgeous brownstone next to park!",
          "COMFORTABLE LARGE ROOM",
          "Big room near Prospect Park! NY!",
          "It's so easy to get to EVERYthing!",
          "Sunny private room right off L train",
          "Den of Zen at The Denizen Bushwick",
          "Sunny large private room in Park Slope",
          "Eastern Parkway Brooklyn 1BR Flat",
          "1400sf Manhattan View Artistic Loft",
          "ingefÃ¤ra hus! Private room Williamsburg, Brooklyn",
          "Private MasterBR w/ View of Museum",
          "Comfy Brooklyn 2BD, W/ Backyard",
          "Authentic designer loft/roof deck best Williamsbrg",
          "Sunny Retreat with Roof Garden",
          "Park Slope Sunny Studio",
          "Luxury L-Shape Studio + 3 cats",
          "Beautiful Loft/10 min to Manhattan!",
          "Charming brownstone apartment",
          "Williamsburg near soho .support artist living",
          "ArtistLoft-MccarenPark-Williamsburg",
          "PARK SLOPE: SWEET, LARGE 2BR DUPLEX",
          "Big Beautiful Railroad in Brooklyn",
          "Bright Brooklyn Flat w/Park Views, 30 day minimum",
          "ECO-APT, free YOGA, 2 new bedrooms. Best location!",
          "ARTIST LOFT+OFFICE in PRIME WILLIAMSBURG!"
         ],
         "legendgroup": "Brooklyn",
         "marker": {
          "color": "#636efa",
          "opacity": 0.5,
          "symbol": "circle"
         },
         "mode": "markers",
         "name": "Brooklyn",
         "orientation": "v",
         "showlegend": true,
         "type": "scatter",
         "x": [
          149,
          89,
          60,
          89,
          140,
          215,
          99,
          299,
          130,
          80,
          110,
          120,
          60,
          55,
          70,
          89,
          35,
          85,
          150,
          120,
          120,
          150,
          110,
          115,
          80,
          80,
          228,
          144,
          150,
          49,
          80,
          200,
          55,
          225,
          275,
          105,
          95,
          145,
          130,
          800,
          105,
          85,
          65,
          131,
          98,
          250,
          100,
          105,
          125,
          175,
          101,
          220,
          125,
          80,
          200,
          125,
          120,
          325,
          99,
          400,
          75,
          90,
          70,
          89,
          50,
          77,
          76,
          125,
          135,
          250,
          199,
          140,
          115,
          160,
          195,
          80,
          44,
          85,
          125,
          115,
          125,
          475,
          69,
          135,
          250,
          250,
          70,
          165,
          50,
          150,
          110,
          65,
          200,
          150,
          90,
          120,
          175,
          135,
          80,
          249,
          100,
          140,
          71,
          69,
          68,
          195,
          159,
          135,
          135,
          65,
          99,
          285,
          59,
          39,
          60,
          135,
          70,
          60,
          100,
          70,
          110,
          60,
          75,
          60,
          130,
          95,
          175,
          190,
          49,
          140,
          150,
          190,
          135,
          145,
          250,
          125,
          70,
          229,
          59,
          195,
          169,
          55,
          69,
          169,
          179,
          135,
          350,
          120,
          349,
          349,
          165,
          249,
          100,
          200,
          185,
          65,
          130,
          199,
          179,
          150,
          79,
          650,
          90,
          120,
          100,
          175,
          120,
          140,
          200,
          165,
          123,
          130,
          100,
          190,
          599,
          100,
          135,
          175,
          165,
          95,
          55,
          199,
          80,
          150,
          110,
          190,
          200,
          165,
          99,
          39,
          260,
          165,
          125,
          225,
          50,
          170,
          250,
          141,
          64,
          249,
          79,
          120,
          495,
          145,
          250,
          451,
          98,
          150,
          125,
          255,
          72,
          165,
          165,
          75,
          130,
          139,
          88,
          80,
          90,
          450,
          130,
          89,
          46,
          500,
          60,
          350,
          219,
          60,
          105,
          75,
          85,
          106,
          85,
          91,
          150,
          97,
          179,
          500,
          70,
          75,
          99,
          350,
          170,
          169,
          99,
          160,
          215,
          130,
          65,
          43,
          42,
          85,
          139,
          105,
          265,
          99,
          100,
          190,
          67,
          248,
          100,
          145,
          41,
          120,
          157,
          195,
          70,
          185,
          145,
          185,
          100,
          40,
          79,
          100,
          110,
          172,
          75,
          116,
          120,
          150,
          230,
          79,
          130,
          239,
          220,
          80,
          135,
          100,
          200,
          80,
          110,
          300,
          180,
          350,
          85,
          80,
          55,
          438,
          110,
          279,
          137,
          280,
          199,
          180,
          85,
          199,
          100,
          295,
          150,
          129,
          96,
          199,
          199,
          199,
          69,
          199,
          199,
          199,
          199,
          199,
          349,
          249,
          299,
          179,
          599,
          110,
          220,
          89,
          170,
          98,
          125,
          48,
          64,
          154,
          139,
          70,
          130,
          92,
          145,
          185,
          99,
          48,
          110,
          147,
          60,
          290,
          50,
          45,
          34,
          190,
          75,
          93,
          60,
          65,
          60,
          88,
          60,
          110,
          135,
          165,
          127,
          402,
          75,
          70,
          64,
          800,
          100,
          250,
          140,
          90,
          97,
          91,
          125,
          75,
          300,
          100,
          65,
          47,
          110,
          100,
          300,
          140,
          120,
          175,
          275,
          189,
          250,
          120,
          50,
          100,
          157,
          199,
          199,
          199,
          199,
          199,
          105,
          135,
          199,
          125,
          60,
          85,
          75,
          44,
          55,
          30,
          35,
          70,
          130,
          52,
          75,
          100,
          130,
          75,
          180,
          135,
          65,
          149,
          75,
          225,
          100,
          135,
          89,
          120,
          59,
          49,
          79,
          185,
          225,
          325,
          95,
          75,
          160,
          180,
          165,
          500,
          79,
          200,
          115,
          115,
          120,
          70,
          160,
          178,
          145,
          125,
          77,
          92,
          185,
          65,
          72,
          80,
          125,
          120,
          94,
          56,
          190,
          129,
          85,
          125,
          50,
          70,
          159,
          45,
          90,
          250,
          130,
          90,
          298,
          123
         ],
         "xaxis": "x",
         "y": [
          9,
          270,
          49,
          167,
          148,
          198,
          53,
          9,
          130,
          39,
          71,
          88,
          19,
          197,
          74,
          168,
          0,
          231,
          0,
          15,
          25,
          11,
          61,
          11,
          135,
          112,
          82,
          328,
          105,
          138,
          42,
          143,
          27,
          4,
          148,
          105,
          143,
          61,
          16,
          25,
          61,
          174,
          24,
          166,
          16,
          21,
          168,
          118,
          139,
          233,
          335,
          88,
          162,
          29,
          19,
          19,
          467,
          324,
          354,
          16,
          9,
          9,
          63,
          260,
          193,
          2,
          426,
          227,
          84,
          3,
          10,
          4,
          124,
          11,
          240,
          200,
          27,
          9,
          155,
          4,
          27,
          23,
          202,
          309,
          14,
          80,
          294,
          150,
          47,
          193,
          213,
          206,
          33,
          52,
          126,
          51,
          30,
          151,
          11,
          358,
          226,
          253,
          23,
          82,
          37,
          69,
          222,
          21,
          69,
          238,
          111,
          124,
          181,
          45,
          9,
          248,
          36,
          14,
          279,
          18,
          50,
          227,
          64,
          0,
          49,
          132,
          11,
          51,
          15,
          9,
          214,
          69,
          56,
          127,
          106,
          6,
          47,
          50,
          29,
          59,
          68,
          1,
          220,
          398,
          36,
          6,
          14,
          76,
          8,
          7,
          34,
          2,
          66,
          80,
          46,
          228,
          5,
          8,
          13,
          5,
          11,
          0,
          218,
          75,
          0,
          370,
          104,
          13,
          4,
          11,
          15,
          98,
          31,
          124,
          9,
          15,
          86,
          248,
          3,
          163,
          247,
          27,
          225,
          95,
          70,
          50,
          29,
          23,
          38,
          82,
          3,
          175,
          15,
          22,
          263,
          86,
          18,
          8,
          70,
          150,
          115,
          232,
          35,
          8,
          52,
          72,
          8,
          0,
          104,
          39,
          88,
          27,
          117,
          43,
          4,
          385,
          64,
          39,
          3,
          37,
          29,
          205,
          86,
          7,
          480,
          6,
          2,
          20,
          101,
          87,
          86,
          0,
          35,
          241,
          11,
          31,
          23,
          20,
          227,
          80,
          187,
          1,
          67,
          177,
          90,
          42,
          33,
          179,
          52,
          401,
          72,
          46,
          83,
          211,
          15,
          207,
          273,
          105,
          72,
          58,
          8,
          123,
          55,
          87,
          4,
          31,
          128,
          14,
          30,
          228,
          9,
          1,
          152,
          7,
          24,
          8,
          59,
          22,
          23,
          24,
          18,
          115,
          154,
          164,
          116,
          234,
          82,
          63,
          1,
          35,
          305,
          40,
          125,
          40,
          124,
          5,
          147,
          43,
          8,
          120,
          24,
          5,
          242,
          181,
          5,
          34,
          7,
          125,
          0,
          241,
          13,
          33,
          24,
          59,
          2,
          24,
          23,
          43,
          30,
          39,
          8,
          3,
          6,
          4,
          7,
          2,
          178,
          30,
          190,
          216,
          31,
          53,
          247,
          233,
          135,
          4,
          18,
          54,
          110,
          24,
          20,
          17,
          0,
          5,
          20,
          1,
          26,
          21,
          16,
          30,
          5,
          115,
          9,
          45,
          6,
          7,
          35,
          115,
          6,
          204,
          1,
          89,
          15,
          58,
          1,
          122,
          63,
          26,
          14,
          3,
          29,
          69,
          232,
          0,
          0,
          5,
          36,
          5,
          238,
          21,
          40,
          103,
          66,
          35,
          121,
          13,
          46,
          37,
          17,
          0,
          54,
          43,
          75,
          73,
          89,
          23,
          11,
          84,
          54,
          17,
          1,
          73,
          98,
          2,
          18,
          24,
          1,
          2,
          23,
          93,
          0,
          119,
          9,
          158,
          236,
          16,
          123,
          65,
          13,
          1,
          61,
          39,
          62,
          42,
          207,
          72,
          22,
          215,
          26,
          320,
          160,
          219,
          25,
          15,
          12,
          9,
          42,
          53,
          64,
          51,
          79,
          19,
          0,
          8,
          46,
          6,
          11,
          34,
          34,
          30,
          156,
          30,
          1,
          3,
          272,
          63,
          5,
          63,
          268,
          23,
          3,
          2,
          106,
          15,
          2,
          17,
          53,
          32,
          131,
          269
         ],
         "yaxis": "y"
        },
        {
         "hovertemplate": "<b>%{hovertext}</b><br><br>municipio=Manhattan<br>price=%{x}<br>number_of_reviews=%{y}<extra></extra>",
         "hovertext": [
          "Skylit Midtown Castle",
          "THE VILLAGE OF HARLEM....NEW YORK !",
          "Entire Apt: Spacious Studio/Loft by central park",
          "Large Cozy 1 BR Apartment In Midtown East",
          "Large Furnished Room Near B'way ",
          "Cozy Clean Guest Room - Family Apt",
          "Cute & Cozy Lower East Side 1 bdrm",
          "Beautiful 1br on Upper West Side",
          "Central Manhattan/near Broadway",
          "Wonderful Guest Bedroom in Manhattan for SINGLES",
          "West Village Nest - Superhost",
          "Chelsea Perfect",
          "Huge 2 BR Upper East  Cental Park",
          "Magnifique Suite au N de Manhattan - vue Cloitres",
          "Midtown Pied-a-terre",
          "SPACIOUS, LOVELY FURNISHED MANHATTAN BEDROOM",
          "Modern 1 BR / NYC / EAST VILLAGE",
          "front room/double bed",
          "Spacious 1 bedroom in luxe building",
          "back room/bunk beds",
          "LowerEastSide apt share shortterm 1",
          "ENJOY Downtown NYC!",
          "West Side Retreat",
          "BEST BET IN HARLEM",
          "Cozy 1BD on Central Park West in New York City",
          "Beautiful Apartment in Manhattan!!!",
          "Great Location, Manhattan Bedroom!",
          "Best Location in NYC! TIMES SQUARE!",
          "**Bright Nolita Apt w Doorman/Elevators/Gym**",
          "Sunny & Spacious Chelsea Apartment",
          "2 bedroom - Upper East Side-great for kids",
          "Your Heaven in Hells Kitchen",
          "Sunny, Modern room in East Village!",
          "Large Room in Amazing East Village Apt",
          "SpaHa Loft: Enormous and Bright",
          "Lovely EV Artist's Home",
          "Cool Room in Hell's Kitchen",
          "HARLEM, NEW YORK WELCOMES YOU!!",
          "Charming East Village One Bedroom Flat",
          "Manhattan Room",
          "Beautiful Meatpacking District Loft",
          "Spacious luminous apt Upper West NYC",
          "Entire 2 Bedroom - Large & Sunny",
          "Private room Great Deal at Lower East Side",
          "Oh glorious spring!",
          "Great Location for NYC",
          "Light-filled classic Central Park ",
          "Upper Manhattan, New York",
          "COZY QUIET room 4 DOOGLERS!",
          "loft bed - near transportation-15min to times sq",
          "Monkey Retreat Manhattan",
          "2000 SF 3br 2bath West Village private  townhouse",
          "1,800 sq foot in luxury building",
          "Times Square, Safe, Clean and Cozy!",
          "Beautiful Apartment East Village",
          "2 BR / 2 Bath Duplex Apt with patio! East Village",
          "NYC fabulous views Manhattan's eye",
          "Comfortable UWS 2-BD Family-Friendly Brownstone",
          "Great Large 1 BR apt  in East Village!",
          "Sugar Hill Rest Stop ",
          "apartment next to Central park",
          "East Village Sanctuary",
          "Garden studio in the Upper East Sid",
          "Secluded Master Bedroom in Beautiful Huge Apt",
          "ACCOMMODATIONS GALORE #1",
          "Stylish & Sleek Apartment Near SoHo!",
          "Unique & Charming small 1br Apt. LES",
          "Most Central Location!",
          "Luminous Beautiful West Village Studio",
          "NYC Zen",
          "Sun Filled Classic West Village Apt",
          "Private Bdrm/Bathrm. New! Elevator!",
          "Sunny, clean 1 bdrm in W. Village",
          "Light and Airy Upper East Side 1 BDR apartment",
          "CENTRAL PARK LOFT all for YOU",
          "Charming & Cozy midtown loft any WEEK ENDS  !!!",
          "Convenient cozy cheap apt Manhattan",
          "West Inn 2 - East Village",
          "Financial District Luxury Loft",
          "Your own Lovely West Village Studio",
          "ACCOMMODATIONS GALORE#3. 1-5 GUESTS",
          "Greenwich Village Stylish Apartment",
          "Clean and Cozy Harlem Apartment",
          "Couldn't Be Closer To Columbia Uni",
          "NEW YORK CITY, 1 BDRM.(NEAR CENTRAL PARK & METRO)",
          "Chelsea Studio sublet 1 - 2 months",
          "LUX APT IN TIMES SQUARE NEW BUILDING",
          "Designer 1 BR Duplex w/ Terrace- Spectacular Views",
          "1 Bedroom in 2 Bdrm Apt- Upper East",
          "Lower East Side $57~/night",
          "Prime Location in Manhattan",
          "Quiet, sunny Midtown Manhattan apt.",
          "MIDTOWN WEST - Large alcove studio",
          "Beautiful Uptown Manhattan apartmnt",
          "City Room - Private Penthouse Apt.",
          "Great apartment with private bathroom and entrance",
          "NOHO/EAST VILLAGE, PRIVATE 1/2 BATH",
          "Sleek & Comfortable Soho Apt",
          "Cozy East Village Railroad 1 Bed!",
          "City Room - Private & Comfy Bedroom",
          "Modern, Large East Village Loft",
          "Great new apt, close to everything",
          "Quiet & Clean Retreat in the City",
          "Stylish Large Gramercy Loft!",
          "The Brownstone-Luxury 1 Bd Apt/NYC",
          "PRIVATE Room on Historic Sugar Hill",
          "17 Flr. Manhattan Views, Nr. Subway",
          "Spacious 1BR, Adorable Clean Quiet",
          "Artistic, Cozy, and Spacious w/ Patio! Sleeps 5",
          "One bedroom Apt. in NYC",
          "Beautiful, elegant 3 bed SOHO loft",
          "Spacious Greenwich Village Apt",
          "SpaHa Studio Monthly Rental",
          "City Room - Private Luxury Suite",
          "Private Room/bath Luxurious Harlem",
          "The gem of the East Village",
          "Bright and spacious, garden below!",
          "ACCOMMODATIONS GALORE #2",
          "Colorful Private One Bedroom Apt",
          "Huge Chelsea Loft",
          "Great room in great location",
          "Exclusive Room with Private Bath in  LES",
          "Quiet, clean midtown apt w. elevato",
          "Great East Village Apartment Rental",
          "Smallest House In The Village",
          "Beautiful modern studio apartment in heart of NYC",
          "Cottage in the Village",
          "HOSTING YOUR  SUNNY, SPACIOUS NYC ROOM",
          "Prime East Village 1 Bedroom",
          "Amazing  Sunny & Breezy Home In the Heart of  NYC",
          "ENJOY Downtown NYC!!",
          "Charming UWS Treehouse Apt",
          "CHARMING EAST VILLAGE 2 (or 1) BR",
          "Suite Sugar Hill, Harlem, Private Rm in Hosted Apt",
          "East Village Loft with Piano & Patio",
          "Lower East Side Magic Room",
          "West Harlem Home Base - Eco-Apt.",
          "Central Park 1BR sunny condo",
          "SoHa comfort-by NW Central Park!",
          "Cozy room in Upper West Side",
          "Cozy Private Room in Apartment",
          "Prewar Penthouse w Private Terrace",
          "Unique spacious loft on the Bowery",
          "Nice renovated apt, prime location!",
          "Private Bedroom in Large NYC Apartment",
          "Large, Sunny Room East Village NYC",
          "Great Large 3 BR/2 Bath Duplex with Private Patio!",
          "All That Jazz. Uptown style on Sugar Hill.",
          "Bright and lovely 1 bdrm apt in LES",
          "Beautiful One Bed West Village - 4 Month Special",
          "1BR: See Central Park from Terrace!",
          "Alcove Studio w/ outdoor Patio Deck",
          "Luxury 3 bed/ 2 bath apt in Harlem w/ terrace",
          "Bright Cozy Chinatown Studio Apt.",
          "Hells Kitchen Garden of Eden",
          "Cozy room in East Village with AC",
          "Charming Artist's Flat, East Village",
          "East Village Designer's 1-BR APT",
          "Large Studio--Heart of East Village",
          "Huge.Bright.Clean.Safe. Private Room",
          "MODERN SPACIOUS 2 BR APT DOWNTOWN MANHATTAN",
          "LOVELY APARTMENT IN THE HEART OF NY",
          "Groovy NYC Chelsea Pad",
          "Comfortable Cozy Space in El Barrio",
          "MANHATTAN Neat, Nice, Bright ROOM",
          "UWS Brownstone Near Central Park",
          "BOHEMIAN EAST VILLAGE 2 BED HAVEN",
          "Bright Room With A Great River View",
          "Riverside Charm with Fire Place",
          "Very Central, Nomad/Chelsea Loft Studio",
          "Cozy Private Room in West Harlem!",
          "UES Quiet & Spacious 1 bdrm for 4",
          "Cozy room in Time Square!",
          "Lower East Side 2 Bedroom Apt",
          "Manhattan Studio, Perfect Location",
          "Sun-Drenched Hamilton Hts Jewel   ",
          "Your Stunning Vacation Apartment!",
          "Heart of Meatpacking & Chelsea",
          "Spacious East Village apt near it all",
          "NYC Studio for Rent in Townhouse",
          "âš¡Quiet Gem w/roof deck on NY's Hottest Streetâš¡",
          "â˜†Massive DUPLEXâ˜† 2BR & 2BTH East Village 9+ Guests",
          "Gorgeous Upper West Side Apartment",
          "City Room - Street View Apt",
          "Spacious West Village 1 b/room King",
          "Midtown cozy convenient",
          "The Ground Studio - West Side",
          "East Village, King-Sized, Charmer",
          "LUXURY SOHO 2 Bedroom Apt ",
          "Charming Nolita Apartment!!",
          "EAST VILLAGE STUDIO, sunny & quiet",
          "LUXURY OF THE HORIZON",
          "1 Bdrm in 4 Bdrm dupelx/roof deck",
          "Parisian apartment in Chelsea",
          "Cozy 2 Bedroom with Private Garden",
          "Beautiful Duplex w/Private Garden",
          "NYC - Sunny Greenwich Village 1br",
          "Best City Area Columbia U Upper West Side C Park",
          "Your own apartment off Park Avenue",
          "Lower East Side 2 Bed Apt.",
          "CHARMING PRIVATE BEDROOM EAST VILLAGE",
          "City Room - Semi Private Bedroom",
          "Cozy apartment in a brownstone",
          "Private E. Village Townhouse Stay",
          "Harlem/Hamilton Heights Cozy Room",
          "Chelsea living, 2BR best location",
          "LOCATION LOCATION LOCATION UWS 60's",
          "In the heart of East Village",
          "Manhattan Penthouse-Max.12 guests",
          "Cool & Spacious Harlem Artist Flat",
          "â˜† STUDIO East Village â˜† Own bath! â˜† Sleeps 4 â˜†",
          "*SoHo: Clean, Safe, Private, Peaceful Bedroom (A)*",
          "Couldn't Be Closer To Columbia Uni2",
          "Nice Manhattan Apt Near Central Park and Subway",
          "Spacious Quiet rm - 20mins to Midtown",
          "Spacious modern studio apartment in Manhattan",
          "Charming upper west side apartment",
          "Light-filled East Village Delight",
          "Spacious Duplex in Brownstone!",
          "Lovely Vintage Havenâ€”Heart of UWS",
          "Modern Space in Charming Pre-war",
          "The Happy home!",
          "Gorgeous 1 bdrm in huge duplex!",
          "Sunny, cozy room in Lower East Side",
          "Large Quiet Bedroom Near Columbia U",
          "Cozy Pre-War Harlem Apartment",
          "Elegant 2-BR duplex, Union Square",
          "Luxury 2Bed/2.5Bath Central Park View",
          "East Village bedroom w rooftop",
          "PRIME, Luxury, Spacious 2 Bedroom Apt in Chelsea",
          "SPACIOUS ALCOVE STUDIO/ JUNIOR ONE",
          "High-end doorman bldg in the LES",
          "Spring & Mulberry 2 Bedroom Apartment",
          "Gorgeous Entire Manhattan Townhouse",
          "Cozy studio Apartment in Upper East",
          "Historic classic central cozy Village clean NYU",
          "WEST VILLAGE LRG CLEAN SUNNY PRIVATE BDRM",
          "Comfort at Crossroads of Downtown",
          "UNION SQUARE/ E. VILL 1BR BEAUTIFUL",
          "Hell's Kitchen Funky 80's Hideaway!",
          "Room in Chic Modern High Line Luxury- New!",
          "Large Luxury Upper East Side Studio",
          "Sun-drenched East Village Penthouse",
          "Columbus Circle Luxury Bldg - Private Room&Bath",
          "Quiet Chelsea Studio w/Charm",
          "Large Room Overlooking Central Park",
          "Cheerful, comfortable room",
          "Quiet Jr Alcove Near Times Square!",
          "Large room in elevator drman bldg",
          "Modern Bedroom in Hamilton Heights",
          "Best Manhattan Studio Deal!   ",
          "STYLISH EAST VILLAGE FLAT",
          "Beautiful UES apartment",
          "Comfortable. Spacious. Private Room.",
          "Modern Condo in Midtown",
          "East Village House -- Unique!",
          "2-bedroom share in heart of Greenwich Village!",
          "1 Bedroom Pre War apt",
          "RARE Penthouse Oasis featured on DesignSponge",
          "2 Bed, 2 Bath Apartment on Central Park West",
          "Your Haven in the Upper West Side",
          "âœ¿âœ¿âœ¿ COUNTRY COTTAGE IN THE CITYâœ¿âœ¿âœ¿",
          "âœ¿âœ¿âœ¿ COUNTRY COTTAGE IN THE CITYâœ¿âœ¿âœ¿",
          "Lovely Bdr in Harlem, Manhattan",
          "THE BEST DEAL ON THE HUDSON RIVER!!",
          "Newly Renoâ€™d Chic Quiet Exec 1BR",
          "1 Bedroom in prime Flatiron",
          "Gorgeous PermaGO Private Room in FiDi - 1/2",
          "BEST DEAL IN CHELSEA 1 bdrm NYC",
          "Artsy Loft-like Harlem Apartment",
          "Harlem/Manhattan Classic Apartment",
          "Quiet sunny studio Midtown",
          "Alpha-Bet City entire floor large cool 2br -L.E.S",
          "Spacious, Kid-Friendly 2 BR in West Village",
          "Great Bedroom in Downtown Manhattan",
          "1BDR - Hell's Kitchen Hideaway",
          "COMFY ROOM/COFFEE AND BAGEL/WEEKLY DISCOUNT",
          "Monthly Apartment Rental",
          "Wonderfully inviting East Village",
          "TURQUOISE: One-Bedroom Apt. in Soho",
          "Spacious, well furnished, high fl. beautiful views",
          "NYC Studio in Heart of Times Square",
          "Large Sunny Luxe Prvt Room/Midtown",
          "Spacious Stunning Harlem Townhouse",
          "LARGE ARTSY Room w/ Loft Bed 4 DOOGLERS!",
          "Stylish Studio with exclusive Terrace",
          "LES private apt, 1 bedroom & more",
          "charming 2bdrm apt in East Village",
          "LOCATION LOCATION LOCATION Liz's",
          "Manhattan Loft in Prime East Village Location",
          "Nolita Penthouse_Private Deck_Elev_",
          "Lower East Side/Chinatown 1 Bedroom",
          "Amazing 1 bed, live like a Newyorkr",
          "Great Studio in W. Village - NYC!",
          "One Fabulous Private Room",
          "big 1 bedroom apt very central",
          "Sweet Apt, Steps From Gramercy Park",
          "Scandinavian-apt for up to 5. LES",
          "4 BEDROOM -2BATHRM WEST VILLAGE DUPLEX  TOWNHOUSE",
          "Large & bright 900ftÂ² 1br in WV",
          "At a very nice area in the WestSide",
          "SPACIOUS PRIVATE LITTLE ITALY FLAT",
          "The Lenox in Harlem",
          "The Lenox in Harlem",
          " Heart & Soul of Greenwich Village ",
          "Private Bdrm /Bath 1 block Ctrl Prk",
          "+Highly Satisfactory LES dwelling++",
          "Whole apartment / 2 bedroom in NYC",
          "Large 1 Bedroom furnished on UWS",
          "Chez Carine - Privacy in Manhattan",
          "NOLITA! LOCATION! LOCATION! VIEWS! FREE GYM!",
          "Luxury Chelsea Townhouse at the High Line",
          "Spacious & Stylish Chelsea One Bedroom Apartment",
          "CHELSEA 1 Bdrm Plus Sleeping Loft!!",
          "Spacious room in beautiful apt! ",
          "NewYork Modern Pre-War LoftStudio ",
          "Apartment in Best location in NYC",
          "Inspired in Historic Downtown NYC!",
          "Chelsea/West Village - 2bdrm apt",
          "1500+ sq ft 2BR West Village Loft",
          "Cozy & Clean Lower East Side Apt.",
          "Chic + Stylish room in heart of LowerEastSide NYC!",
          "Landmark 2 Bedroom West Village NYC",
          "Room in East Village with Private Entrance",
          "Cozy&Clean in a great neighborhood",
          "Contemporary & Classic Sanctuary on the Hudson",
          "Comfortable Manhattanville",
          "Studio sublet in Hell's kitchen",
          "Luxury NYC 2 Bedroom with Terrace",
          "Bright unique designer loft in Soho",
          "Beautiful studio by Central Park",
          "One bed suite with private garden",
          "West Village cozy 2 bedroom  NYC ",
          "2 Bedroom Gem - Prime LES Location",
          "REAL 2BR-HEART OF SOHO-LITTLE ITALY",
          "BIG ROOM / DOWNTOWN  LOFT /",
          "Charming Hotel Alternative\nMount Sinai",
          "SUNNY 2-bdrm CHILD-friendly Uptwn by Centrl Park!",
          "Hudson Yards with views of The Highline Park",
          "SUPER CUTE EAST VILLAGE APARTMENT",
          "Easy, comfortable studio in Midtown",
          "Huge luxury 1BR apt near Central Park South(4 ppl)",
          "Beautiful brownstone apartment",
          "1 Bd. MANHATTAN NY Entire Apt. 1 yr-6 months min.",
          "Luxury Designer Downtown Apartment",
          "6 Bedroom Landmark West Village Townhouse",
          "Beautiful bed and bath - Manhattan",
          "Beautiful Room Near Central Park!",
          "Charming furnished Studio-Loft",
          "Comfortable Manhattanville.",
          "Location wins for East Village Apt",
          "Furnished room for rent - Manhattan",
          "West Village NYC Sun-filled Studio!",
          "Huge Apartment!  Amazing View!",
          "Amazing West Village 2br",
          "Beautiful Private Bedroom - Downstairs",
          "QT STUDIO FOR ROMANTIC COUPLES",
          "Spacious East Village Apartment",
          "Hells Kitchen Ground Fl 1-bedroom",
          "Charming Apt in the Best Location!",
          "Huge room with private balcony",
          "Amazing 1 bedroom apt with NYC View",
          "Private Room in Brownstone",
          "Lovely Hell's Kitchen Studio...",
          "Sunny 1BR Center of East Village!",
          "Perfect East Village Apartment",
          "Decorators 5-Star Flat West Village",
          "Beautiful SoHo Luxury Apartment",
          "Between Two Bridges 2BD -Whole Apt!",
          "BIG LUXURY LINCOLN CENTER AREA STUDIO + !!",
          "Gorgeous pvt room in West Village",
          "1 bedroom apt in Midtown West",
          "Room next to Columbia Uni.",
          "Beautiful New Garden Apartment ",
          "Panoramic View Central Park & NYC",
          "1 Bdrm in 2 Bdrm Apt in Upper East Lux Drmn Bldng",
          "Charming 1BD in SoHo",
          "Furnished Bedroom with private half bath",
          "Sunny 1BR East Harlem Apartment",
          "The best studio in town",
          "Fully Furnished 1B/1BTH UWS GEM  1 YR Sublease",
          "Penthouse Studio by Central Park",
          "Giant Sunny Bedroom & Private Bath in my Apartment",
          "Large Sunny Bedroom with Bay Window",
          "Harlem/Hamilton Heights Sunny Room",
          "Sunny 1 BR, West 80s & Central Park",
          "COMFORTABLE ROOM",
          "2ND AVENUE OFF HOUSTON/LOFTLIKE STU",
          "Share in NYC's trendy East Village",
          "APT W/ OUTDOOR SPACE!! LONG TERM RENTAL PREFERRED!",
          "Room in Huge 1200sf W Harlem Suite",
          "Harlem on the Range",
          "Big Bright E Village 2BR (Baby Nursery)",
          "Private Manhattan Studio on Harlem/Heights Border",
          "Chelsea/Meat Packing  Artist Space!",
          "Elegant Spacious Family Townhouse",
          "Central Park Fifth Av MET Museum",
          "Lovely Upper East Yorkville 1 BDRM",
          "Cozy Upper East Side Studio",
          "Lovely studio in East Village, NY",
          "NYC Summer Discount  1 BR Gramercy Apt",
          "Awesome views, Central location",
          "Spacious Manhattan Apartment near Central Park",
          "Creative Director's Chinatown Loft",
          "HOSTING YOUR COZY,  ECLECTIC MILIEU FOR NYC VISIT",
          "Cozy bedroom near Times Square",
          "Queen size sofa bed in Harlem",
          "Stylish & Quiet NYC Retreat!",
          "Bright, new luxury apartment in doorman building",
          "TIMES SQUARE MASTER BEDROOM!",
          "Lincoln Center Studio, Clean&Sunny!",
          "Serenity amidst the busy city",
          "Super Clean Apt by Columbus Circle",
          "Unique private room and bathroom in Brownstone",
          "TIMES SQUARE HOUSE!",
          "Beautiful Room in a Beautiful New NYC Apartment",
          "Best West Village/Meatpacking Space",
          "21 day Chelsea Apartment rental",
          "Cosy apartment in West Village",
          "Spacious Lower East Side Apt in NYC",
          "ARTY 2 BED EAST VILLAGE GEM",
          "Exquisite Spacious Studio in Midtown",
          "Cute Private room in Upper East Side #14",
          "Lower East Side 1bedroom apt in NYC",
          "Large Beautiful East Village 1-Bdrm",
          "Manhattan -  Best Location in Midtown",
          "Beautiful Room in Manhattan Loft",
          "Luxury, Adorable Studio Apartment",
          "HOME AWAY FROM HOME",
          "Beautiful 3 bedroom in Manhattan",
          "LUXURY 2BD/2BTH - HUGE PATIO",
          "Great apt on the UWS - A RARE FIND!",
          "Cozy 2 BD in Midtown West",
          "A cozy Red Room with private bathroom",
          "Cozy room with private bathroom & outside garden",
          "Beautiful 1 bdrm, Inwood Manhattan",
          "Great room priv/bathrm Eastside location 70's ST",
          "Midtown NYC - 1 Bedroom Apartment",
          "Cozy Room in Sunny Apartment (Long/Short Term)",
          "THERE'S NO PLACE LIKE HOME.........",
          "Cozy home in vibrant Manhattan",
          "LOCATION LOCATION LOCATION Sara's",
          "Your Times Square Sanctuary",
          "Designer studio in Luxury Building",
          "Private cozy bedroom in Nolita",
          "Flatiron-Designer's loft",
          "Stylish Designer Studio with Piano",
          "New York City for All Seasons!",
          "STUNNING E Vill Penthouse",
          "New York Host who knows The Most",
          "One Block From Central Park!",
          "Light Superhosted Chill LES Apt",
          "Sunny UES 1.5 Bedroom, Sleeps 6",
          "Stay with a Jazz Singer in Harlem!",
          "Large Private Room Near Central Park & Mount Sinai",
          "Luxury room in Manhattan Duplex Apt",
          "Gorgeous Sunny, Spacious 1 bdrm in East Village"
         ],
         "legendgroup": "Manhattan",
         "marker": {
          "color": "#EF553B",
          "opacity": 0.5,
          "symbol": "circle"
         },
         "mode": "markers",
         "name": "Manhattan",
         "orientation": "v",
         "showlegend": true,
         "type": "scatter",
         "x": [
          225,
          150,
          80,
          200,
          79,
          79,
          150,
          135,
          85,
          85,
          120,
          140,
          190,
          80,
          150,
          44,
          180,
          50,
          52,
          50,
          40,
          68,
          135,
          150,
          151,
          200,
          110,
          69,
          180,
          375,
          250,
          52,
          80,
          99,
          225,
          230,
          51,
          65,
          190,
          200,
          150,
          110,
          285,
          94,
          60,
          50,
          140,
          89,
          98,
          60,
          65,
          500,
          100,
          59,
          140,
          350,
          199,
          235,
          225,
          170,
          170,
          100,
          150,
          85,
          120,
          185,
          105,
          130,
          115,
          195,
          156,
          69,
          225,
          219,
          99,
          250,
          80,
          125,
          196,
          170,
          165,
          150,
          100,
          99,
          75,
          125,
          275,
          299,
          130,
          83,
          123,
          195,
          105,
          200,
          121,
          100,
          130,
          199,
          130,
          64,
          189,
          250,
          239,
          305,
          155,
          60,
          120,
          150,
          250,
          250,
          500,
          225,
          125,
          92,
          175,
          99,
          195,
          140,
          135,
          500,
          80,
          120,
          110,
          130,
          175,
          205,
          390,
          75,
          200,
          90,
          68,
          115,
          129,
          75,
          212,
          95,
          135,
          124,
          122,
          109,
          85,
          195,
          575,
          150,
          90,
          65,
          500,
          250,
          125,
          200,
          110,
          113,
          250,
          150,
          150,
          71,
          169,
          225,
          139,
          95,
          150,
          125,
          130,
          65,
          67,
          212,
          249,
          60,
          120,
          169,
          90,
          225,
          85,
          211,
          145,
          65,
          99,
          290,
          87,
          110,
          395,
          189,
          85,
          122,
          170,
          130,
          132,
          185,
          375,
          175,
          150,
          259,
          96,
          200,
          95,
          295,
          175,
          165,
          250,
          250,
          95,
          55,
          300,
          175,
          75,
          150,
          200,
          200,
          295,
          198,
          99,
          140,
          75,
          250,
          75,
          205,
          185,
          190,
          250,
          175,
          65,
          79,
          170,
          115,
          89,
          49,
          400,
          2000,
          100,
          429,
          189,
          120,
          300,
          199,
          120,
          199,
          100,
          250,
          165,
          99,
          255,
          169,
          110,
          150,
          149,
          89,
          50,
          149,
          68,
          75,
          90,
          160,
          190,
          95,
          150,
          250,
          80,
          230,
          200,
          300,
          80,
          199,
          199,
          100,
          55,
          146,
          250,
          150,
          199,
          69,
          300,
          125,
          288,
          225,
          110,
          130,
          89,
          135,
          90,
          270,
          145,
          179,
          110,
          325,
          130,
          190,
          200,
          160,
          195,
          241,
          300,
          100,
          399,
          200,
          71,
          226,
          135,
          154,
          700,
          246,
          125,
          119,
          125,
          400,
          850,
          140,
          115,
          200,
          185,
          81,
          495,
          760,
          325,
          195,
          58,
          189,
          145,
          101,
          95,
          375,
          153,
          80,
          300,
          88,
          155,
          225,
          85,
          200,
          485,
          310,
          109,
          167,
          220,
          195,
          199,
          65,
          99,
          130,
          350,
          250,
          125,
          300,
          150,
          56,
          299,
          1300,
          200,
          99,
          110,
          85,
          139,
          50,
          250,
          300,
          200,
          130,
          90,
          180,
          175,
          240,
          300,
          385,
          75,
          165,
          179,
          219,
          450,
          249,
          139,
          209,
          90,
          199,
          110,
          150,
          300,
          190,
          250,
          140,
          150,
          90,
          295,
          150,
          99,
          75,
          75,
          109,
          86,
          99,
          89,
          199,
          110,
          135,
          245,
          115,
          120,
          499,
          109,
          219,
          159,
          150,
          106,
          299,
          179,
          250,
          87,
          75,
          80,
          125,
          387,
          95,
          99,
          121,
          350,
          75,
          95,
          89,
          195,
          160,
          100,
          140,
          189,
          265,
          60,
          129,
          199,
          110,
          135,
          115,
          175,
          3000,
          549,
          145,
          200,
          160,
          180,
          100,
          105,
          250,
          74,
          165,
          99,
          125,
          104,
          225,
          100,
          350,
          135,
          125,
          225,
          85,
          200,
          90,
          300,
          125,
          125,
          145,
          147
         ],
         "xaxis": "x",
         "y": [
          45,
          0,
          9,
          74,
          430,
          118,
          160,
          53,
          188,
          113,
          27,
          260,
          0,
          0,
          58,
          108,
          29,
          242,
          88,
          273,
          214,
          245,
          81,
          97,
          73,
          19,
          19,
          289,
          21,
          5,
          66,
          191,
          338,
          106,
          190,
          49,
          23,
          49,
          21,
          142,
          167,
          54,
          70,
          94,
          194,
          2,
          81,
          1,
          30,
          11,
          68,
          46,
          170,
          334,
          12,
          7,
          38,
          27,
          115,
          195,
          13,
          25,
          21,
          36,
          155,
          73,
          32,
          50,
          26,
          30,
          79,
          34,
          134,
          126,
          234,
          4,
          2,
          84,
          114,
          86,
          80,
          38,
          18,
          122,
          199,
          3,
          41,
          109,
          0,
          285,
          375,
          10,
          10,
          0,
          104,
          204,
          115,
          129,
          204,
          192,
          205,
          94,
          7,
          108,
          222,
          458,
          17,
          41,
          18,
          82,
          94,
          10,
          183,
          189,
          1,
          127,
          4,
          135,
          21,
          35,
          10,
          171,
          92,
          56,
          185,
          62,
          143,
          0,
          0,
          1,
          203,
          210,
          5,
          20,
          67,
          109,
          187,
          22,
          93,
          104,
          64,
          30,
          191,
          48,
          120,
          52,
          48,
          32,
          43,
          39,
          38,
          26,
          31,
          286,
          36,
          182,
          240,
          33,
          388,
          223,
          151,
          1,
          19,
          131,
          136,
          45,
          166,
          380,
          49,
          54,
          1,
          56,
          116,
          52,
          39,
          35,
          320,
          35,
          0,
          142,
          70,
          403,
          3,
          116,
          24,
          105,
          10,
          69,
          18,
          68,
          22,
          17,
          34,
          0,
          2,
          74,
          18,
          191,
          0,
          19,
          25,
          119,
          203,
          175,
          38,
          37,
          10,
          103,
          227,
          42,
          280,
          54,
          57,
          188,
          34,
          3,
          129,
          147,
          11,
          11,
          41,
          15,
          17,
          3,
          43,
          168,
          105,
          30,
          49,
          18,
          90,
          99,
          6,
          111,
          86,
          66,
          5,
          2,
          63,
          89,
          1,
          39,
          81,
          43,
          23,
          35,
          225,
          122,
          295,
          50,
          0,
          25,
          8,
          172,
          330,
          60,
          9,
          179,
          25,
          45,
          19,
          29,
          14,
          33,
          99,
          142,
          0,
          82,
          32,
          59,
          6,
          3,
          120,
          13,
          59,
          52,
          278,
          115,
          109,
          1,
          102,
          83,
          61,
          89,
          80,
          136,
          100,
          0,
          139,
          0,
          2,
          8,
          0,
          37,
          229,
          34,
          5,
          238,
          131,
          6,
          4,
          49,
          11,
          0,
          107,
          176,
          151,
          49,
          16,
          72,
          25,
          7,
          46,
          10,
          143,
          314,
          11,
          51,
          20,
          8,
          59,
          10,
          153,
          69,
          1,
          129,
          171,
          8,
          11,
          5,
          36,
          16,
          0,
          68,
          89,
          10,
          25,
          35,
          64,
          24,
          19,
          5,
          203,
          20,
          49,
          28,
          0,
          54,
          1,
          130,
          52,
          208,
          7,
          2,
          1,
          107,
          107,
          24,
          10,
          94,
          1,
          63,
          101,
          72,
          15,
          129,
          157,
          8,
          37,
          14,
          209,
          4,
          0,
          88,
          36,
          0,
          152,
          44,
          12,
          51,
          0,
          11,
          14,
          33,
          30,
          18,
          216,
          13,
          136,
          65,
          47,
          25,
          18,
          18,
          78,
          64,
          66,
          102,
          32,
          1,
          12,
          19,
          297,
          9,
          46,
          118,
          15,
          202,
          23,
          62,
          36,
          16,
          24,
          77,
          110,
          56,
          7,
          0,
          7,
          53,
          265,
          75,
          5,
          132,
          41,
          27,
          214,
          12,
          6,
          0,
          58,
          22,
          13,
          10,
          14,
          20,
          93,
          116,
          15,
          70,
          4,
          128,
          133,
          27,
          61,
          0,
          38,
          25,
          93,
          6,
          30,
          67,
          19,
          0,
          74,
          165,
          16
         ],
         "yaxis": "y"
        },
        {
         "hovertemplate": "<b>%{hovertext}</b><br><br>municipio=Queens<br>price=%{x}<br>number_of_reviews=%{y}<extra></extra>",
         "hovertext": [
          "1 Stop fr. Manhattan! Private Suite,Landmark Block",
          "Little King of Queens",
          "Fully Furnished Basement Apartment",
          "A room w/ a Manhattan view, longer stay",
          "Beautiful Queens Brownstone! - 5BR",
          "( F) Excellent/Pvt Rm",
          "cozy studio with parking spot",
          "Clean and convenient 2BR apartment",
          "3 floors of luxury!",
          "Elegant NYC Pad",
          "Nice, clean, safe, convenient 3BR",
          "Safe cute near subway& Manhattan NY NY retro style",
          "One Bedroom Mini studio - Free WIFI",
          "Modern, Safe, Clean, Bright Room in Astoria for 2",
          "Bienvenue",
          "Oceanfront Apartment in Rockaway",
          "1 BDRM Apt-Weekend Sublease",
          "Forest Hills Apt minutes to midtown Manhattan",
          "Astoria-Private Home NYC-",
          "Female Only Clean15min to Manhattan",
          "Sunny 15min to Manhattan LADY only",
          "Lady only Curtain-divided room",
          "Ultra Modern NYC Garden Apartment",
          "Modern Garden Apartment in NYC",
          "Spacious, Kid-Friendly, and 15-20 Mins. to Midtown",
          "Sunnyside NYC/ AC room/ city views/ near Midtown",
          "Modern Unique Studio in NYC",
          "rooms for rent in Queens with piano",
          "Private Room With GREAT Location",
          "Astoria Garden Suite",
          "Quality Cozy Studio Next to Subway",
          "Read it 1st, A seprat fur BR, low $",
          "Entire apt NYC, Queens. 15 min from Times Square.",
          "My Home Is Your Home",
          "City Skyline Views from every room!",
          "Large Sunny Bedroom in QNS NYC",
          "One stop from Midtown Manhattan!",
          "Cozy New York  City private room",
          "Large Room in a Huge NY apartment.",
          "2 Rooms in Cottage NYC",
          "Entire Apartment in Astoria, 15mins from Manhattan",
          "NYC Summer Getaway | Full Home 2BR",
          "Nice Private Room Beauty in Queens",
          "Charming Ridgewood Soulful  Walk-Up",
          "Quaint & Quiet in Queens",
          "Single Room",
          "Beautiful Bedrooms in Briarwood, NY"
         ],
         "legendgroup": "Queens",
         "marker": {
          "color": "#00cc96",
          "opacity": 0.5,
          "symbol": "circle"
         },
         "mode": "markers",
         "name": "Queens",
         "orientation": "v",
         "showlegend": true,
         "type": "scatter",
         "x": [
          130,
          70,
          140,
          79,
          350,
          55,
          98,
          140,
          265,
          140,
          140,
          99,
          115,
          80,
          50,
          70,
          110,
          97,
          129,
          42,
          42,
          33,
          107,
          95,
          75,
          50,
          95,
          55,
          75,
          75,
          79,
          54,
          80,
          75,
          73,
          55,
          96,
          85,
          30,
          65,
          70,
          192,
          55,
          52,
          75,
          45,
          75
         ],
         "xaxis": "x",
         "y": [
          248,
          25,
          1,
          28,
          10,
          52,
          33,
          6,
          38,
          17,
          1,
          441,
          198,
          42,
          43,
          13,
          30,
          28,
          414,
          53,
          41,
          31,
          21,
          24,
          160,
          258,
          24,
          19,
          65,
          49,
          60,
          56,
          81,
          20,
          95,
          38,
          244,
          270,
          3,
          5,
          1,
          7,
          63,
          98,
          59,
          8,
          16
         ],
         "yaxis": "y"
        },
        {
         "hovertemplate": "<b>%{hovertext}</b><br><br>municipio=Staten Island<br>price=%{x}<br>number_of_reviews=%{y}<extra></extra>",
         "hovertext": [
          "New York room with a view",
          "A SpeciaL!! Private Room in NY",
          "B NYC Staten Alternative...",
          "C Private Room By The Ferry",
          "D Private Che@p Room 2 Explore NYC",
          "New Clean Spacious Bed & Breakfast",
          "Sunny cozy multileveled apartment!",
          "Oceanview,close to Manhattan",
          "Affordable rooms,all transportation",
          "Budget stay, near transportation",
          "Private Room in Artist's Home, Stapleton, SI",
          "Enjoy Staten Island Hospitality",
          "A PLACE TO STAY CLOSE TO MANHATTAN"
         ],
         "legendgroup": "Staten Island",
         "marker": {
          "color": "#ab63fa",
          "opacity": 0.5,
          "symbol": "circle"
         },
         "mode": "markers",
         "name": "Staten Island",
         "orientation": "v",
         "showlegend": true,
         "type": "scatter",
         "x": [
          70,
          36,
          37,
          37,
          36,
          80,
          75,
          250,
          50,
          125,
          59,
          20,
          110
         ],
         "xaxis": "x",
         "y": [
          166,
          193,
          147,
          177,
          333,
          2,
          76,
          21,
          0,
          8,
          50,
          80,
          6
         ],
         "yaxis": "y"
        },
        {
         "hovertemplate": "<b>%{hovertext}</b><br><br>municipio=Bronx<br>price=%{x}<br>number_of_reviews=%{y}<extra></extra>",
         "hovertext": [
          "Room with a View",
          "Cozy bedroom by Yankee Stadium",
          "LL3",
          "DOMINIQUE'S NY mini efficiency* wifi*metro*quiet",
          "Condo Apartment with laundry in unit",
          "Artsy 1 bedroom Apt. 20 min to 42nd Grand Central!",
          " Affordable & Cozy ",
          "A PRIVATE FLAT / APARTMENT- $SPECIAL$",
          "Yankee Stadium Oasis 2 stops to Manhattan!",
          "Zen Yankee Stadium Pad 5 Minutes To Manhattan!",
          "NY/ Big Room for 2 near Manhattan",
          "Home Away From Home-Room in Bronx",
          "New York City- Riverdale Modern two bedrooms unit"
         ],
         "legendgroup": "Bronx",
         "marker": {
          "color": "#FFA15A",
          "opacity": 0.5,
          "symbol": "circle"
         },
         "mode": "markers",
         "name": "Bronx",
         "orientation": "v",
         "showlegend": true,
         "type": "scatter",
         "x": [
          40,
          45,
          90,
          105,
          90,
          77,
          37,
          125,
          50,
          50,
          42,
          50,
          120
         ],
         "xaxis": "x",
         "y": [
          219,
          138,
          0,
          38,
          4,
          197,
          117,
          271,
          258,
          235,
          108,
          15,
          47
         ],
         "yaxis": "y"
        }
       ],
       "layout": {
        "legend": {
         "title": {
          "text": "municipio"
         },
         "tracegroupgap": 0
        },
        "margin": {
         "t": 60
        },
        "template": {
         "data": {
          "bar": [
           {
            "error_x": {
             "color": "#2a3f5f"
            },
            "error_y": {
             "color": "#2a3f5f"
            },
            "marker": {
             "line": {
              "color": "#E5ECF6",
              "width": 0.5
             },
             "pattern": {
              "fillmode": "overlay",
              "size": 10,
              "solidity": 0.2
             }
            },
            "type": "bar"
           }
          ],
          "barpolar": [
           {
            "marker": {
             "line": {
              "color": "#E5ECF6",
              "width": 0.5
             },
             "pattern": {
              "fillmode": "overlay",
              "size": 10,
              "solidity": 0.2
             }
            },
            "type": "barpolar"
           }
          ],
          "carpet": [
           {
            "aaxis": {
             "endlinecolor": "#2a3f5f",
             "gridcolor": "white",
             "linecolor": "white",
             "minorgridcolor": "white",
             "startlinecolor": "#2a3f5f"
            },
            "baxis": {
             "endlinecolor": "#2a3f5f",
             "gridcolor": "white",
             "linecolor": "white",
             "minorgridcolor": "white",
             "startlinecolor": "#2a3f5f"
            },
            "type": "carpet"
           }
          ],
          "choropleth": [
           {
            "colorbar": {
             "outlinewidth": 0,
             "ticks": ""
            },
            "type": "choropleth"
           }
          ],
          "contour": [
           {
            "colorbar": {
             "outlinewidth": 0,
             "ticks": ""
            },
            "colorscale": [
             [
              0,
              "#0d0887"
             ],
             [
              0.1111111111111111,
              "#46039f"
             ],
             [
              0.2222222222222222,
              "#7201a8"
             ],
             [
              0.3333333333333333,
              "#9c179e"
             ],
             [
              0.4444444444444444,
              "#bd3786"
             ],
             [
              0.5555555555555556,
              "#d8576b"
             ],
             [
              0.6666666666666666,
              "#ed7953"
             ],
             [
              0.7777777777777778,
              "#fb9f3a"
             ],
             [
              0.8888888888888888,
              "#fdca26"
             ],
             [
              1,
              "#f0f921"
             ]
            ],
            "type": "contour"
           }
          ],
          "contourcarpet": [
           {
            "colorbar": {
             "outlinewidth": 0,
             "ticks": ""
            },
            "type": "contourcarpet"
           }
          ],
          "heatmap": [
           {
            "colorbar": {
             "outlinewidth": 0,
             "ticks": ""
            },
            "colorscale": [
             [
              0,
              "#0d0887"
             ],
             [
              0.1111111111111111,
              "#46039f"
             ],
             [
              0.2222222222222222,
              "#7201a8"
             ],
             [
              0.3333333333333333,
              "#9c179e"
             ],
             [
              0.4444444444444444,
              "#bd3786"
             ],
             [
              0.5555555555555556,
              "#d8576b"
             ],
             [
              0.6666666666666666,
              "#ed7953"
             ],
             [
              0.7777777777777778,
              "#fb9f3a"
             ],
             [
              0.8888888888888888,
              "#fdca26"
             ],
             [
              1,
              "#f0f921"
             ]
            ],
            "type": "heatmap"
           }
          ],
          "heatmapgl": [
           {
            "colorbar": {
             "outlinewidth": 0,
             "ticks": ""
            },
            "colorscale": [
             [
              0,
              "#0d0887"
             ],
             [
              0.1111111111111111,
              "#46039f"
             ],
             [
              0.2222222222222222,
              "#7201a8"
             ],
             [
              0.3333333333333333,
              "#9c179e"
             ],
             [
              0.4444444444444444,
              "#bd3786"
             ],
             [
              0.5555555555555556,
              "#d8576b"
             ],
             [
              0.6666666666666666,
              "#ed7953"
             ],
             [
              0.7777777777777778,
              "#fb9f3a"
             ],
             [
              0.8888888888888888,
              "#fdca26"
             ],
             [
              1,
              "#f0f921"
             ]
            ],
            "type": "heatmapgl"
           }
          ],
          "histogram": [
           {
            "marker": {
             "pattern": {
              "fillmode": "overlay",
              "size": 10,
              "solidity": 0.2
             }
            },
            "type": "histogram"
           }
          ],
          "histogram2d": [
           {
            "colorbar": {
             "outlinewidth": 0,
             "ticks": ""
            },
            "colorscale": [
             [
              0,
              "#0d0887"
             ],
             [
              0.1111111111111111,
              "#46039f"
             ],
             [
              0.2222222222222222,
              "#7201a8"
             ],
             [
              0.3333333333333333,
              "#9c179e"
             ],
             [
              0.4444444444444444,
              "#bd3786"
             ],
             [
              0.5555555555555556,
              "#d8576b"
             ],
             [
              0.6666666666666666,
              "#ed7953"
             ],
             [
              0.7777777777777778,
              "#fb9f3a"
             ],
             [
              0.8888888888888888,
              "#fdca26"
             ],
             [
              1,
              "#f0f921"
             ]
            ],
            "type": "histogram2d"
           }
          ],
          "histogram2dcontour": [
           {
            "colorbar": {
             "outlinewidth": 0,
             "ticks": ""
            },
            "colorscale": [
             [
              0,
              "#0d0887"
             ],
             [
              0.1111111111111111,
              "#46039f"
             ],
             [
              0.2222222222222222,
              "#7201a8"
             ],
             [
              0.3333333333333333,
              "#9c179e"
             ],
             [
              0.4444444444444444,
              "#bd3786"
             ],
             [
              0.5555555555555556,
              "#d8576b"
             ],
             [
              0.6666666666666666,
              "#ed7953"
             ],
             [
              0.7777777777777778,
              "#fb9f3a"
             ],
             [
              0.8888888888888888,
              "#fdca26"
             ],
             [
              1,
              "#f0f921"
             ]
            ],
            "type": "histogram2dcontour"
           }
          ],
          "mesh3d": [
           {
            "colorbar": {
             "outlinewidth": 0,
             "ticks": ""
            },
            "type": "mesh3d"
           }
          ],
          "parcoords": [
           {
            "line": {
             "colorbar": {
              "outlinewidth": 0,
              "ticks": ""
             }
            },
            "type": "parcoords"
           }
          ],
          "pie": [
           {
            "automargin": true,
            "type": "pie"
           }
          ],
          "scatter": [
           {
            "fillpattern": {
             "fillmode": "overlay",
             "size": 10,
             "solidity": 0.2
            },
            "type": "scatter"
           }
          ],
          "scatter3d": [
           {
            "line": {
             "colorbar": {
              "outlinewidth": 0,
              "ticks": ""
             }
            },
            "marker": {
             "colorbar": {
              "outlinewidth": 0,
              "ticks": ""
             }
            },
            "type": "scatter3d"
           }
          ],
          "scattercarpet": [
           {
            "marker": {
             "colorbar": {
              "outlinewidth": 0,
              "ticks": ""
             }
            },
            "type": "scattercarpet"
           }
          ],
          "scattergeo": [
           {
            "marker": {
             "colorbar": {
              "outlinewidth": 0,
              "ticks": ""
             }
            },
            "type": "scattergeo"
           }
          ],
          "scattergl": [
           {
            "marker": {
             "colorbar": {
              "outlinewidth": 0,
              "ticks": ""
             }
            },
            "type": "scattergl"
           }
          ],
          "scattermapbox": [
           {
            "marker": {
             "colorbar": {
              "outlinewidth": 0,
              "ticks": ""
             }
            },
            "type": "scattermapbox"
           }
          ],
          "scatterpolar": [
           {
            "marker": {
             "colorbar": {
              "outlinewidth": 0,
              "ticks": ""
             }
            },
            "type": "scatterpolar"
           }
          ],
          "scatterpolargl": [
           {
            "marker": {
             "colorbar": {
              "outlinewidth": 0,
              "ticks": ""
             }
            },
            "type": "scatterpolargl"
           }
          ],
          "scatterternary": [
           {
            "marker": {
             "colorbar": {
              "outlinewidth": 0,
              "ticks": ""
             }
            },
            "type": "scatterternary"
           }
          ],
          "surface": [
           {
            "colorbar": {
             "outlinewidth": 0,
             "ticks": ""
            },
            "colorscale": [
             [
              0,
              "#0d0887"
             ],
             [
              0.1111111111111111,
              "#46039f"
             ],
             [
              0.2222222222222222,
              "#7201a8"
             ],
             [
              0.3333333333333333,
              "#9c179e"
             ],
             [
              0.4444444444444444,
              "#bd3786"
             ],
             [
              0.5555555555555556,
              "#d8576b"
             ],
             [
              0.6666666666666666,
              "#ed7953"
             ],
             [
              0.7777777777777778,
              "#fb9f3a"
             ],
             [
              0.8888888888888888,
              "#fdca26"
             ],
             [
              1,
              "#f0f921"
             ]
            ],
            "type": "surface"
           }
          ],
          "table": [
           {
            "cells": {
             "fill": {
              "color": "#EBF0F8"
             },
             "line": {
              "color": "white"
             }
            },
            "header": {
             "fill": {
              "color": "#C8D4E3"
             },
             "line": {
              "color": "white"
             }
            },
            "type": "table"
           }
          ]
         },
         "layout": {
          "annotationdefaults": {
           "arrowcolor": "#2a3f5f",
           "arrowhead": 0,
           "arrowwidth": 1
          },
          "autotypenumbers": "strict",
          "coloraxis": {
           "colorbar": {
            "outlinewidth": 0,
            "ticks": ""
           }
          },
          "colorscale": {
           "diverging": [
            [
             0,
             "#8e0152"
            ],
            [
             0.1,
             "#c51b7d"
            ],
            [
             0.2,
             "#de77ae"
            ],
            [
             0.3,
             "#f1b6da"
            ],
            [
             0.4,
             "#fde0ef"
            ],
            [
             0.5,
             "#f7f7f7"
            ],
            [
             0.6,
             "#e6f5d0"
            ],
            [
             0.7,
             "#b8e186"
            ],
            [
             0.8,
             "#7fbc41"
            ],
            [
             0.9,
             "#4d9221"
            ],
            [
             1,
             "#276419"
            ]
           ],
           "sequential": [
            [
             0,
             "#0d0887"
            ],
            [
             0.1111111111111111,
             "#46039f"
            ],
            [
             0.2222222222222222,
             "#7201a8"
            ],
            [
             0.3333333333333333,
             "#9c179e"
            ],
            [
             0.4444444444444444,
             "#bd3786"
            ],
            [
             0.5555555555555556,
             "#d8576b"
            ],
            [
             0.6666666666666666,
             "#ed7953"
            ],
            [
             0.7777777777777778,
             "#fb9f3a"
            ],
            [
             0.8888888888888888,
             "#fdca26"
            ],
            [
             1,
             "#f0f921"
            ]
           ],
           "sequentialminus": [
            [
             0,
             "#0d0887"
            ],
            [
             0.1111111111111111,
             "#46039f"
            ],
            [
             0.2222222222222222,
             "#7201a8"
            ],
            [
             0.3333333333333333,
             "#9c179e"
            ],
            [
             0.4444444444444444,
             "#bd3786"
            ],
            [
             0.5555555555555556,
             "#d8576b"
            ],
            [
             0.6666666666666666,
             "#ed7953"
            ],
            [
             0.7777777777777778,
             "#fb9f3a"
            ],
            [
             0.8888888888888888,
             "#fdca26"
            ],
            [
             1,
             "#f0f921"
            ]
           ]
          },
          "colorway": [
           "#636efa",
           "#EF553B",
           "#00cc96",
           "#ab63fa",
           "#FFA15A",
           "#19d3f3",
           "#FF6692",
           "#B6E880",
           "#FF97FF",
           "#FECB52"
          ],
          "font": {
           "color": "#2a3f5f"
          },
          "geo": {
           "bgcolor": "white",
           "lakecolor": "white",
           "landcolor": "#E5ECF6",
           "showlakes": true,
           "showland": true,
           "subunitcolor": "white"
          },
          "hoverlabel": {
           "align": "left"
          },
          "hovermode": "closest",
          "mapbox": {
           "style": "light"
          },
          "paper_bgcolor": "white",
          "plot_bgcolor": "#E5ECF6",
          "polar": {
           "angularaxis": {
            "gridcolor": "white",
            "linecolor": "white",
            "ticks": ""
           },
           "bgcolor": "#E5ECF6",
           "radialaxis": {
            "gridcolor": "white",
            "linecolor": "white",
            "ticks": ""
           }
          },
          "scene": {
           "xaxis": {
            "backgroundcolor": "#E5ECF6",
            "gridcolor": "white",
            "gridwidth": 2,
            "linecolor": "white",
            "showbackground": true,
            "ticks": "",
            "zerolinecolor": "white"
           },
           "yaxis": {
            "backgroundcolor": "#E5ECF6",
            "gridcolor": "white",
            "gridwidth": 2,
            "linecolor": "white",
            "showbackground": true,
            "ticks": "",
            "zerolinecolor": "white"
           },
           "zaxis": {
            "backgroundcolor": "#E5ECF6",
            "gridcolor": "white",
            "gridwidth": 2,
            "linecolor": "white",
            "showbackground": true,
            "ticks": "",
            "zerolinecolor": "white"
           }
          },
          "shapedefaults": {
           "line": {
            "color": "#2a3f5f"
           }
          },
          "ternary": {
           "aaxis": {
            "gridcolor": "white",
            "linecolor": "white",
            "ticks": ""
           },
           "baxis": {
            "gridcolor": "white",
            "linecolor": "white",
            "ticks": ""
           },
           "bgcolor": "#E5ECF6",
           "caxis": {
            "gridcolor": "white",
            "linecolor": "white",
            "ticks": ""
           }
          },
          "title": {
           "x": 0.05
          },
          "xaxis": {
           "automargin": true,
           "gridcolor": "white",
           "linecolor": "white",
           "ticks": "",
           "title": {
            "standoff": 15
           },
           "zerolinecolor": "white",
           "zerolinewidth": 2
          },
          "yaxis": {
           "automargin": true,
           "gridcolor": "white",
           "linecolor": "white",
           "ticks": "",
           "title": {
            "standoff": 15
           },
           "zerolinecolor": "white",
           "zerolinewidth": 2
          }
         }
        },
        "xaxis": {
         "anchor": "y",
         "domain": [
          0,
          1
         ],
         "title": {
          "text": "price"
         }
        },
        "yaxis": {
         "anchor": "x",
         "domain": [
          0,
          1
         ],
         "title": {
          "text": "number_of_reviews"
         }
        }
       }
      },
      "text/html": [
       "<div>                        <script type=\"text/javascript\">window.PlotlyConfig = {MathJaxConfig: 'local'};</script>\n",
       "        <script charset=\"utf-8\" src=\"https://cdn.plot.ly/plotly-2.29.1.min.js\"></script>                <div id=\"edf512c6-9385-4823-aa93-c9cc2c9a20cd\" class=\"plotly-graph-div\" style=\"height:100%; width:100%;\"></div>            <script type=\"text/javascript\">                                    window.PLOTLYENV=window.PLOTLYENV || {};                                    if (document.getElementById(\"edf512c6-9385-4823-aa93-c9cc2c9a20cd\")) {                    Plotly.newPlot(                        \"edf512c6-9385-4823-aa93-c9cc2c9a20cd\",                        [{\"hovertemplate\":\"\\u003cb\\u003e%{hovertext}\\u003c\\u002fb\\u003e\\u003cbr\\u003e\\u003cbr\\u003emunicipio=Brooklyn\\u003cbr\\u003eprice=%{x}\\u003cbr\\u003enumber_of_reviews=%{y}\\u003cextra\\u003e\\u003c\\u002fextra\\u003e\",\"hovertext\":[\"Clean & quiet apt home by the park\",\"Cozy Entire Floor of Brownstone\",\"BlissArtsSpace!\",\"Lovely Room 1, Garden, Best Area, Legal rental\",\"Only 2 stops to Manhattan studio\",\"Perfect for Your Parents + Garden\",\"Hip Historic Brownstone Apartment with Backyard\",\"Sweet and Spacious Brooklyn Loft\",\"CBG CtyBGd HelpsHaiti rm#1:1-4\",\"CBG Helps Haiti Room#2.5\",\"CBG Helps Haiti Rm #2\",\"MAISON DES SIRENES1,bohemian apartment\",\"Sunny Bedroom Across Prospect Park\",\"Loft in Williamsburg Area w\\u002f Roof\",\"Large B&B Style rooms\",\"Lovely room 2 & garden; Best area, Legal rental\",\"Clean and Quiet in Brooklyn\",\"Cute apt in artist's home\",\"Country space in the city\",\"Beautiful Sunny Park Slope Brooklyn\",\"1bdr w private bath. in lofty apt\",\"Entire apartment in central Brooklyn neighborhood.\",\"Charming Brownstone 3 - Near PRATT\",\"bright and stylish duplex\",\"Fort Greene brownstone \",\"Blue Room for 2 in Brownstone for $1350 monthly\",\"* ORIGINAL BROOKLYN LOFT *\",\"Greenpoint Place...Has It All! \",\"Williamsburg 1 bedroom Apartment\",\"Room in Greenpoint Loft w\\u002f Roof\",\"Very, very cozy place\",\"Comfortable 4-bedroom apt in family house.\",\"Double Room w Private Deck Clinton Hill Best Area\",\"Light-filled 2B duplex in the heart of Park Slope!\",\"*HAVEN LOFT - Entire Floor - Six Windows - Bricks*\",\"BLUE TRIM GUEST HOUSE\",\"Fort Greene Retreat on the Park\",\"Cozy 2 BR in Williamsburg \",\"Sunny, Spacious Top Floor Haven\",\"perfect for a family or small group\",\"2 bedroom Williamsburg Apt - Bedford L stop\",\"Cozy Bedroom in Williamsburg 3 BR\",\"Sunny room+Pvte office in huge loft\",\"Spacious Prospect Heights Apartment\",\"Large Parlor Room, Landmark Home 1 block to PRATT\",\"2-bed brownstone duplex + garden\",\"Charming 1 bed GR8 WBurg LOCATION!\",\"Sunny Apartment in Artist Home\",\"The Stuydio Modern and Light Filled\",\"House On Henry (3rd FLR Suite)\",\"Williamsburg\\u00e2\\u20ac\\u201dSteps To Subway, Private Bath&Balcony\",\"Beautiful Duplex Apartment\",\"Large 2 Bedroom Great for Groups!\",\"Modern Brooklyn Apt., August sublet\",\"Sunny 2-story Brooklyn townhouse w deck and garden\",\"Cozy Room #3, Landmark Home 1 Block to PRATT\",\"Park Slope Green Guest House\",\"2 story family home in Williamsburg\",\"Eveland Private Bed & Living Room w\\u002f Own Entrance\",\"3 Story Town House in Park Slope\",\"Large 1  BR in a 3 BR Brooklyn apt. next to Q Trn.\",\"Modern Apt with Spectacular Views\",\"B & B Room 1\",\"Sunny Room in New Condo\",\"NYC artists\\u00e2\\u20ac\\u2122 loft with roof deck\",\"Sanctuary in East Flatbush\",\"Room with En Suite Bathroom & Deck\",\"FLAT MACDONOUGH\",\"Huge Private  Floor at The Waverly\",\"Modern Greenpoint, Brooklyn Apt\",\"Sun-drenched, artsy modernist 1 BDRM duplex\",\"Sunny, Cobble Hill Apartment\",\"FLAT MACDONOUGH GARDEN\",\"Light filled Williamsburg Apartment\",\"Retreat in Williamsburg\",\"Cozy BR in Wiliamsburg 3 Bedroom\",\"Sunny Room in Old Historical Brooklyn Townhouse\",\"Lg Rm in Historic Prospect Heights\",\"Classic Artist Loft Williamsburg\",\"Great location. Spacious on PROSPECT PARK\",\"Great location in Williamsburg\",\"Luxury Brownstone in Boerum Hill\",\"Indie-Chic Share In Williamsburg\",\"Private, Large & Sunny 1BR w\\u002fW&D\",\"Luxurious Condo in DUBMO with View\",\"* Spacious GARDEN Park Slope Duplex* 6 people max\",\"Parlor Room In Victorian Townhouse\",\"House On Henry (2nd FLR Suite)\",\"Sunny cozy room in Brklyn townhouse\",\"Light+Open+Airy+Rustic+Modern Loft\",\"BROOKLYN VICTORIAN STYLE SUITE.....\",\"Fort Greene, Brooklyn: Center Bedroom\",\"Bright Spacious Luxury Condo\",\"Park Slope haven 15 mins from Soho\",\"SAFE  AND BEAUTIFUL ACCOMODATION\",\"Large Room in private Brownstone in Park Slope\",\"LARGE, COMFY 1BDR W\\u002fCHARACTER!!!\",\"Lovely Apt & Garden;  Legal;  Best Area; Amenities\",\"Big Room\\u002fWasher-Dryer\\u002fWifi\\u002fAC\\u002fJMZ\",\"The Institute\\u00e2\\u20ac\\u201dHeart of Williamsburg\",\"Sml Rm in pr Brst  Park Sl great for Med\\u002fstudents\",\"Private Garden Apt \\u00e2\\u20ac\\u00a2 New Renovation\",\"Modern comfort in art infused landmark Brownstone\",\"Spacious Williamsburg Share w\\u002f LOFT BED\",\"Cozy 2 br in sunny Fort Greene apt\",\"1 Bedroom Loft w\\u002f Private Roof Deck\",\"Clean & bright 1BR in Cobble Hill, GREAT location!\",\"South Slope Green\",\"Franklin St Flat in Trendy Greenpoint Brooklyn\",\"BK Sweet Suite w\\u002fKitchen&FullBath\",\"BROWNSTONE SUNDRENCHED BEAUTY\",\"Beautiful Landmarked Duplex\",\"BROOKLYN \\u003e Guest Room w\\u002f Queen Bed in Williamsburg\",\"Large and Cozy Private Bedroom\",\"Small tidy bedroom in duplex\",\"Private, Large & Sunny Top Floor Apt  w\\u002fW&D\",\"BEDROOM1 FOR RENT 10min from Manhan\",\"Williamsburg near soho. \\u002f loftbed\",\"BROOKLYN  STUDIO APARTMENT\",\"BEDROOM2 FOR RENT  10min from Manh\",\"cozy bedroom in lovely garden apt\",\"Crown Heights Garden Apt.\",\"Share a HOME - $75 for 1 bdrm\\u002f++ for 2 - Brooklyn\",\"Room in S3rd\\u002fBedford, Williamsburg\",\"Farmhouse Apartment in Williamsburg\",\"Bright+Spacious Williamsburg Abode!\",\"Beautiful 1 Bedroom Apt Park Slope\",\"CHARMING CARROLL GARDENS APT.\",\"Private Bedroom Brownstone Brooklyn\",\"**Fantastic Williamsburg Apt**\",\"Charming Garden Apt in Park Slope\",\"Lovely, Modern, Garden Apartment\",\"Cozy Garden Apartment  in Williamsburg\",\"The Cozy Brownstone Inn (discount)!\",\"Designer 2.5 BR Loft in Carroll Gardens by Subway\",\"Bright Beautiful Brooklyn\",\"Brooklyn Writer's Nook\",\"Gigantic Private Brooklyn Loft!\",\"Private room in cozy Greenpoint\",\"Food & Music Dream Apartment in Williamsburg\",\"French Garden cottage off Bedford\",\"Sunlit and Cozy Williamsburg\\u002fGreenpoint, Brooklyn\",\"BROOKLYN \\u003e Guest Room w\\u002f King Bed in Williamsburg\",\"Eveland the Place to Stay & Enjoy a 5-\\u00e2\\u00ad\\u0090\\u00ef\\u00b8\\u008f 2bdrm\",\"Superior @ Box House\",\"Historic House Boerum Hill, BK, NYC\",\"Lovely 3 bedroom in Italianate Brownstone w\\u002fgarden\",\"Williamsburg HUGE, PRIVATE BATH - Next to Train!\",\"Duplex w\\u002f Terrace @ Box House Hotel\",\"Loft w\\u002f Terrace @ Box House Hotel\",\"Spacious 3 Bedroom Duplex in Park Slope\",\"Loft w\\u002f Terrace @ Box House Hotel\",\"Columbia Castle in Brooklyn Heights\",\"Columbia Castle 2 BR\",\"BEAUTIFUL 2 BEDROOM APARTMENT\",\"Brooklyn Cove Studio Apt w\\u002f Garden!!\",\"Ft. Greene garden gem, large and convenient\",\"Williamsburg penthouse with private roof cabana\",\"Superior @ Box House\",\"So Much Room in Brooklyn\",\"Garden 1BR\\u002f1BA Brownstone Apt - 2 blocks to subway\",\"The Brooklyn Waverly\",\"WONDERFUL, COMFORTABLE STUDIO\",\"MAISON DES SIRENES 2\",\"LARGE 1BR (CONV 2BR) CROWN HEIGHTS\",\"The Vernon On Greene\",\"Beautiful, Bright\\u00e2\\u20ac\\u2122s, Warm & Spacious 1.5BR Apt\",\"Lovely 1BR in Tree-lined WBurg\",\"Spacious Loft in Clinton Hill\",\"The Brooklyn Waverly, One Bedroom\",\"Sunny Bklyn Jewel  Fort Greene JULY  - AUG 2019\",\"Large Brand New Park Slope 1BR\",\"Colorful Artistic Williamsburg Apt\",\"Artsy TopFloor Apt in PRIME BEDFORD Williamsburg\",\"2 BR w\\u002f Terrace @ Box House Hotel\",\"Private 1-Bedroom Apt in Townhouse\",\"Tree lined block modern apartment\",\"Sweet Historic Greenpoint Duplex\",\"Sunny 3BR Apt Ideal for Family  \",\"ALL ABOUT A VERY COMFORTABLE ROOM..\",\"Brooklyn- Crown Heights Garden Apt.\",\"Large Park Slope Townhouse Duplex\",\"ROOM WITH A  KITCHENETTE\",\"Conveniently Located, Sunny Brooklyn Heights!\",\"Style in Stuyvesant Heights\",\"Williamsburg apartment right by the subway\",\"Spacious Brooklyn Loft - 2 Bedroom\",\"Park Slope Apt:, Spacious 2 bedroom\",\"Authentic New York City Living \",\"SUPER BIG AND COZY PRIVATE BEDROOM\",\"Luxe, Spacious 2BR 2BA Nr Trains\",\"Cozy and Bright One Bedroom in BK\",\"Perfect Williamsburg Summer Haven\",\"Prime Williamsburg Apartment\",\"Private, spacious room in Brooklyn\",\"Garden apartment close to Manhattan\",\"Stunning arty 3200sf 3FLR+3BR townhome w\\u002fterrace\",\"Sunny and Spacious Designer's Home\",\"Spacious,Sunny, private one bedroom\",\"Truly Amazing Oasis In The City\",\"Holiday Time in NY - Oh My!!\",\"Affordable Furnished Apartment\",\"Architect's Brownstone\",\"The Heart of Prime Williamsburg\",\"Three-bedroom house in a quiet neighborhood\",\"Garage Designer Loft\",\"BIG, COMFY , PRIV. ROOM, BIG APT, YARD, GREAT LOC.\",\"Park Slope Apartment\",\"Greenpoint Spacious Loft\",\"Incredible Prime Williamsburg Loft!\",\"Large  Loft Style  Studio  Space\",\"Hancock Town House!-Stuyvesant Mews\",\"Entire Apt in Heart of Williamsburg\",\"Clinton Hill + Free Coffee = #smile\",\"Nice, cozy, neat apt Greenpoint,BK\",\"PRIVATE and SUNNY Williamsburg Apt!\",\"Purple Room for 2\\u002f3 in brownstone $1450 per month\",\"Red Room for two in Brownstone for $1355\\u002fmo\",\"Surfer room 15mins to downtown NYC!\",\"Prime Williamsburg 3 BR with Deck\",\"Beautiful Brooklyn Oasis \",\"Blue Room in Awesome Artist's Apartment!\",\"Greenpoint Loft \\u002f Le Chez Andrea\",\"Amazing Brownstone in Best Brooklyn\",\"LG Private Room\\u002fFamily Friendly\",\"3 BR, Beautiful Brooklyn Duplex\",\"Gorgeous Duplex + Garden\",\"CBG# 4Tiny room w\\u002f huge window\\u002fAC\",\"Sunny, quiet, legal homelike suite-Pk Slope South\",\"Warehouse Loft with Garden view\",\"Creative Vintage Loft in S. Williamsburg\",\"Very close to Downtown Awesome Private Apartment\",\"Fort Greene, Brooklyn: Front Bedroom\",\"spacious studio\",\"Cozy private family home in Bushwick\",\"Cosy Sunny 1brm in Prospect Heights\",\"Williamsburg Home Away From Home!\",\"Brand New Beautiful Duplex Apartment with Garden\",\"Williamsburg bedroom by Bedford Ave\",\"Clean and bright with a comfortable atmosphere\",\"Historic Brooklyn Studio Apartment\",\"\\\"The Oasis\\\" on Bedford Williamsburg\",\"Large, sunny garden apartment.\",\"Family & Friends in New York City\",\"Spacious & Comfy BK Brownstone\",\"Chateau Style Brooklyn Loft for Singles or Couples\",\"Lovely Brooklyn Brownstone 1BR!\",\"Beautiful Grdn. Apt. in Park Slope\",\"Bright Private Bedroom in Williamsburg (Bedford L)\",\"Hospitality on Propsect Pk-12 yrs Hosting Legally!\",\"Prospect Pk*NYC in 5 stops* Cozy,Clean & Legal!\",\"Loft Style Apt in Williamsburg\",\"2 Beds over Bed-Stuy\",\"Sunny, Large, Park Slope Bedroom\",\"Huge Bklyn Loft w Private Roofdeck\",\"Comfy, Cozy, Brooklyn close to Manhattan\",\"Sunny Space in Williamsburg\",\"Serene Park Slope Garden Apartment\",\"Cozy and spacious - rare for NYC!\",\"St. James Pl Garden Studio 1block to PRATT &Gtrain\",\"Great, spacious apt in Williamsburg\",\"Ideal Brooklyn Brownstone Apartment\",\"A Cozy Oasis in Bushwick, NY\",\"Private Entrance - Private Parking\",\"Sunny, Spacious Studio in Ft.Greene\",\"Williamsburg Exposed Brick Loft\",\"Bright Modern Charming Housebarge\",\"Central Bedford Avenue Apartment\",\"Welcome to Brooklyn! Bed-Stuy\",\"Greenpoint Waterfront Loft\",\"Quiet One Bedroom in Park Slope\",\"CreaTive Live-In Artspace\\u002fBirdsnest\",\"Sunny, calm room in Victorian home\",\"Luxury Furnished 1 bedro, Bay Ridge\",\"Wonderful Studio In Brooklyn, NY!!!\",\"A Cozy Brooklyn Hideaway\",\"Lovely HUGE Master Bed + Study\",\"Large Artist Floorthru- Greenpoint\",\"CBG Helps Haiti Rm #3\",\"Lovely Apartment\",\"BEAUTIFUL APARTMENT, GREAT LOCATION\",\"Charming room in Victorian home\",\"Brooklyn B & B close to Manhattan\",\"The Notorious B.N.B. { The Erhart }\",\"Sunny 2 bedroom Williamsburg Duplex w\\u002f 3 beds\",\"ROOM WITH KITCHENETTE #2\",\"Your Haven Awaits At \\\"Emma's Place\\\"\",\"Beautiful Brownstone\",\"Oversized Studio in Park Slope\",\"Apt with EmpireState view-Subway around the corner\",\"Lovely pied-\\u00c3\\u00a0-terre, in an historic building\",\"HUGE Sunny Duplex Loft with Garden\",\"Williamsburg Garden Home, 5 minutes from Manhattan\",\"HUGE, modern 2-LEVEL Brooklyn apt\",\"Private Room in Fort Green BK close to city\",\"Spacious & Charming by Prospect Pk\",\"Private Room Near Brooklyn Museum \",\"The Notorious B.N.B. { The Wallace }\",\"Clinton Hill 1 Bed Bright Loft Apartment\",\"The Notorious B.N.B. { The Swoon }\",\"BIG 1br, SLEEPS 4, dishwashr, TV\",\"2BR  Apt - 20min to Soho\",\"Williamsburg  - Quiet and Comfy stay\",\"Brooklyn Brownstone apartment\",\"Lovely, Large Room in Crown Heights\",\"Loft Suite @ Box House Hotel\",\"HANCOCK VERY SMALL ROOM\",\"Pre-War Williamsburg Loft\",\"1 Bedroom Available In My Two Bedroom Flat\",\"Prime Williamsburg Loft off Bedford\",\"Spacious, modern loft in awesome neighborhood\",\"Loft Suite @ The Box House Hotel\",\"Loft Suite @ The Box House Hotel\",\"Loft Suite @ The Box House Hotel\",\"Well Kept  Private Room around  Brighton  Beach\",\"Loft Suite @ Box House Hotel\",\"Loft Suite @ The Box House Hotel\",\"Loft Suite @ The Box House Hotel\",\"Loft Suite @ The Box House Hotel\",\"Loft Suite @ The Box House Hotel\",\"Duplex w\\u002f Terrace @ Box House Hotel\",\"Loft w\\u002f Terrace @ Box House Hotel\",\"1 BR w\\u002f Terrace @ Box House Hotel\",\"Superior @ Box House\",\"2 BR Duplex @ Box House Hotel\",\"Husband & Wife Art-Filled Apartment\",\"3BR, 2 bathroom condo in Bushwick\",\"The BLUE OWL:\\nVEGETARIAN WBURG W PATIO & BACKYARD!\",\"Cozy 2 Bedroom 20 Min from City\",\"Alchemy BnB - room in artist loft\",\"Sunny! 2br Steps to train\\u002frestaurants - 15 to NYC\",\"Zen Den (Airport Pickup: JFK & LGA)\",\"Heart of Williamsburg. Brand New.\",\"Fresh, Clean Brooklyn Garden Apt.\",\"Guest Apartment in Owner Occupied Home\",\"Fort Greene brownstone 1BR- SUBLET\",\"Cozy Artist Duplex **Bedstuy Charm**\",\"Spacious Townhome Apt in Brooklyn\",\"2 bedroom apt in charming brick townhouse\",\"Prime Williamsburg 1\\u002fBD New Condo\",\"Private room w\\u002f queen bed + rooftop\",\"Zen Eyrie \\u00e2\\u20ac\\u201cAirport Pick-Up: JFK\\u002fLGA\",\"Spacious  2 bed Loft apartment Bedford L\",\"SUNNY 1 Bedroom APT in Fort Greene - BROOKLYN\",\"Private clean pleasant spacious room.\",\"Resort-like living in Williamsburg\",\"Brooklyn: A Huge Bedroom + Good Vibes\",\"Private Room Very Near L train, Bushwick\",\"Bed-stuy Royal Room\",\"GREAP STUDIO \\u002f 4PPL IN MIDTOWN\",\"BEDFORD AV.  ROOM IN WILLIAMSBURG..\",\"Sleep & Wake near Botanical Gardens\",\"Tranquil in the heart of Brooklyn 2\",\"Tranquil in the heart of Brooklyn 1\",\"Spacious room on charming block in Greenpoint!\",\"SUNNY, SPACIOUS APT. in  FT. GREENE\",\"Guest Room in Authentic Williamsburg Factory Loft\",\"Fantastic 1-bedroom basement apt.\",\"Private Clinton Hill, Brooklyn Apt\",\"Lovely 2 bedroom apartment with backyard access\",\"Nights in White Satin in the Slope\",\"The Carlton, Brooklyn brownstone Duplex w\\u002f garden\",\"Beautiful lrg 1800's syle apt share\",\"Sunny Entire Apt with Romantic Bedroom\",\"Large, furnished room in a 2 bedroom!\",\"#1 Yellow Block BnB\\u002fsee at Net Flix Show Stay Here\",\"Cozy Brownstone Inn I(studio)\",\"Crown Height's Brooklyn Cozy Apt\",\"Authentic NY Charming Artist Loft\",\"Kensington\\u002fDitmas Park pied-a-terre\",\"Own Room & Bath, Sunny Town House, 18\\\" to Wall St\",\"Cozy & Charming Boerum Hill Flat\",\"Park Slope Brooklyn!  Sunny Bedroom.\",\"One bedroom sharing Bathroom\",\"Huge Williamsburg Loft..Perfect for Big Groups!\",\"Stylish Garden House - Trendy area\",\"Pre War Park Slope on Prospect Park\",\"Great spacious room by the L train!\",\"Charming Brooklyn Studio\",\"Bed Stuy Pride! Welcome to Brooklyn\",\"HOT SPOT FOR 20 AND 30 SOMETHING'S\",\"Cozy, Clean Cobble Hill Brownstone\",\"Bright Loft Apt w Skylight in Wburg\",\"Cozy, beautiful doormen studio-\",\"Carroll Gardens Gem-2BD with Garden\",\"2BR in Cobble Hill, Brooklyn, NY\",\"Zen Minimalist w\\u002fGarden- Bedford L Stop\",\"Brooklyn Beauty - Large 2 bedroom Apartment\",\"Sunny and spacious bedroom\",\"Beautiful Spacious One Bedroom\",\"Big Apt for Funky Art \\u002fMusic Lovers, Outdoor Patio\",\"Loft Suite @ The Box House Hotel\",\"Loft Suite @ The Box House Hotel\",\"Loft Suite @ Box House Hotel\",\"Loft Suite @ The Box House Hotel\",\"Loft Suite @ The Box House Hotel\",\"Lovely apt in Williamsburg, BK\",\"Williamsburg HUGE SUNNY next2train!\",\"Loft Suite @ Box House Hotel\",\"Modern apartment w\\u002f gorgeous view\",\"Sunny, clean br available\",\"Have Whole Apt! Prime Williamsburg!\",\"E Williamsburg Apartment with Yard\",\"Sublet in Brooklyn\\u002fLefferts Gardens\",\"Cozy Corner, Bedford Ave  Brooklyn!\",\"HISTORIC WILLIAMSBURG, BKLYN #1\",\"Inexpensive apartment in exchange for cat-care\",\"Private room in 2 br Apt, Wburg, BK\",\"Bright, Airy Williamsburg Apt\",\"Large Double Room  Queenbed Wifi\",\"Low$pacious in Williamsburg, Bklyn\",\"Feel like you never leave your home\",\"Sunny apartment  in Greenpoint\",\"Sunny private room featured in film\",\"Your Own 2 Br Apt Bedford and Grand\",\"Spacious + Sunny Studio in Ft. Greene Brooklyn!\",\"2 rooms; private entrance & bath!\",\"Prime location! Backyard & outdoor shower! Unique!\",\"Clinton Hill Duplex near Pratt w\\u002fBalcony!\",\"2 BD \\u002f 2BA WITH GARDEN, SLEEPS 6\",\"Comfortable, well-appointed room\",\"Historic Brooklyn 2-Bedroom Apt\",\"Come and go as  you please in BKLN!\",\"Huge, Sunny, Open Loft in Brooklyn\",\"Cozy Nook in Heart of Williamsburg\",\"Peaceful Room...\",\"Cute Room in Historic Loft!\",\"Amazing Park Slope Duplex with Deck\",\"Entire 2 Bedroom Apartment in Williamsburg\",\"Luxury Williamsburg, Brooklyn LOFT\",\"Artist Loft-McCarren Park-Williamsburg-BrooklynNYC\",\"Large Master Bedroom - Williamsburg\",\"Real Williamsburg Artist Loft\",\"Large Cozy Room #2, Landmark Home 1 Block to PRATT\",\"Entire Apt: Sunny 2bd! 15min to NYC\",\"Your Historic House in Brooklyn\",\"Charming private room in New-York\",\"Artist's Flat in Historic Building #10263\",\"Bklyn 6 Beds 1 Bathroom Rental 2\",\"Bklyn 4 Beds 1 Bathroom Rental 3\",\"4 Beds 2 Bathrooms Rental 1\",\"Heavy Sun, Quiet, Arty 1 Bedroom\",\"Williamsburg Loft: Amazing Sublet\",\"Artist 2BR in Park Slope w\\u002fbackyard\",\"Spacious 2BR near Botanic Garden\",\"Gorgeous brownstone next to park!\",\"COMFORTABLE LARGE ROOM\",\"Big room near Prospect Park! NY!\",\"It's so easy to get to EVERYthing!\",\"Sunny private room right off L train\",\"Den of Zen at The Denizen Bushwick\",\"Sunny large private room in Park Slope\",\"Eastern Parkway Brooklyn 1BR Flat\",\"1400sf Manhattan View Artistic Loft\",\"ingef\\u00c3\\u00a4ra hus! Private room Williamsburg, Brooklyn\",\"Private MasterBR w\\u002f View of Museum\",\"Comfy Brooklyn 2BD, W\\u002f Backyard\",\"Authentic designer loft\\u002froof deck best Williamsbrg\",\"Sunny Retreat with Roof Garden\",\"Park Slope Sunny Studio\",\"Luxury L-Shape Studio + 3 cats\",\"Beautiful Loft\\u002f10 min to Manhattan!\",\"Charming brownstone apartment\",\"Williamsburg near soho .support artist living\",\"ArtistLoft-MccarenPark-Williamsburg\",\"PARK SLOPE: SWEET, LARGE 2BR DUPLEX\",\"Big Beautiful Railroad in Brooklyn\",\"Bright Brooklyn Flat w\\u002fPark Views, 30 day minimum\",\"ECO-APT, free YOGA, 2 new bedrooms. Best location!\",\"ARTIST LOFT+OFFICE in PRIME WILLIAMSBURG!\"],\"legendgroup\":\"Brooklyn\",\"marker\":{\"color\":\"#636efa\",\"opacity\":0.5,\"symbol\":\"circle\"},\"mode\":\"markers\",\"name\":\"Brooklyn\",\"orientation\":\"v\",\"showlegend\":true,\"x\":[149.0,89.0,60.0,89.0,140.0,215.0,99.0,299.0,130.0,80.0,110.0,120.0,60.0,55.0,70.0,89.0,35.0,85.0,150.0,120.0,120.0,150.0,110.0,115.0,80.0,80.0,228.0,144.0,150.0,49.0,80.0,200.0,55.0,225.0,275.0,105.0,95.0,145.0,130.0,800.0,105.0,85.0,65.0,131.0,98.0,250.0,100.0,105.0,125.0,175.0,101.0,220.0,125.0,80.0,200.0,125.0,120.0,325.0,99.0,400.0,75.0,90.0,70.0,89.0,50.0,77.0,76.0,125.0,135.0,250.0,199.0,140.0,115.0,160.0,195.0,80.0,44.0,85.0,125.0,115.0,125.0,475.0,69.0,135.0,250.0,250.0,70.0,165.0,50.0,150.0,110.0,65.0,200.0,150.0,90.0,120.0,175.0,135.0,80.0,249.0,100.0,140.0,71.0,69.0,68.0,195.0,159.0,135.0,135.0,65.0,99.0,285.0,59.0,39.0,60.0,135.0,70.0,60.0,100.0,70.0,110.0,60.0,75.0,60.0,130.0,95.0,175.0,190.0,49.0,140.0,150.0,190.0,135.0,145.0,250.0,125.0,70.0,229.0,59.0,195.0,169.0,55.0,69.0,169.0,179.0,135.0,350.0,120.0,349.0,349.0,165.0,249.0,100.0,200.0,185.0,65.0,130.0,199.0,179.0,150.0,79.0,650.0,90.0,120.0,100.0,175.0,120.0,140.0,200.0,165.0,123.0,130.0,100.0,190.0,599.0,100.0,135.0,175.0,165.0,95.0,55.0,199.0,80.0,150.0,110.0,190.0,200.0,165.0,99.0,39.0,260.0,165.0,125.0,225.0,50.0,170.0,250.0,141.0,64.0,249.0,79.0,120.0,495.0,145.0,250.0,451.0,98.0,150.0,125.0,255.0,72.0,165.0,165.0,75.0,130.0,139.0,88.0,80.0,90.0,450.0,130.0,89.0,46.0,500.0,60.0,350.0,219.0,60.0,105.0,75.0,85.0,106.0,85.0,91.0,150.0,97.0,179.0,500.0,70.0,75.0,99.0,350.0,170.0,169.0,99.0,160.0,215.0,130.0,65.0,43.0,42.0,85.0,139.0,105.0,265.0,99.0,100.0,190.0,67.0,248.0,100.0,145.0,41.0,120.0,157.0,195.0,70.0,185.0,145.0,185.0,100.0,40.0,79.0,100.0,110.0,172.0,75.0,116.0,120.0,150.0,230.0,79.0,130.0,239.0,220.0,80.0,135.0,100.0,200.0,80.0,110.0,300.0,180.0,350.0,85.0,80.0,55.0,438.0,110.0,279.0,137.0,280.0,199.0,180.0,85.0,199.0,100.0,295.0,150.0,129.0,96.0,199.0,199.0,199.0,69.0,199.0,199.0,199.0,199.0,199.0,349.0,249.0,299.0,179.0,599.0,110.0,220.0,89.0,170.0,98.0,125.0,48.0,64.0,154.0,139.0,70.0,130.0,92.0,145.0,185.0,99.0,48.0,110.0,147.0,60.0,290.0,50.0,45.0,34.0,190.0,75.0,93.0,60.0,65.0,60.0,88.0,60.0,110.0,135.0,165.0,127.0,402.0,75.0,70.0,64.0,800.0,100.0,250.0,140.0,90.0,97.0,91.0,125.0,75.0,300.0,100.0,65.0,47.0,110.0,100.0,300.0,140.0,120.0,175.0,275.0,189.0,250.0,120.0,50.0,100.0,157.0,199.0,199.0,199.0,199.0,199.0,105.0,135.0,199.0,125.0,60.0,85.0,75.0,44.0,55.0,30.0,35.0,70.0,130.0,52.0,75.0,100.0,130.0,75.0,180.0,135.0,65.0,149.0,75.0,225.0,100.0,135.0,89.0,120.0,59.0,49.0,79.0,185.0,225.0,325.0,95.0,75.0,160.0,180.0,165.0,500.0,79.0,200.0,115.0,115.0,120.0,70.0,160.0,178.0,145.0,125.0,77.0,92.0,185.0,65.0,72.0,80.0,125.0,120.0,94.0,56.0,190.0,129.0,85.0,125.0,50.0,70.0,159.0,45.0,90.0,250.0,130.0,90.0,298.0,123.0],\"xaxis\":\"x\",\"y\":[9.0,270.0,49.0,167.0,148.0,198.0,53.0,9.0,130.0,39.0,71.0,88.0,19.0,197.0,74.0,168.0,0.0,231.0,0.0,15.0,25.0,11.0,61.0,11.0,135.0,112.0,82.0,328.0,105.0,138.0,42.0,143.0,27.0,4.0,148.0,105.0,143.0,61.0,16.0,25.0,61.0,174.0,24.0,166.0,16.0,21.0,168.0,118.0,139.0,233.0,335.0,88.0,162.0,29.0,19.0,19.0,467.0,324.0,354.0,16.0,9.0,9.0,63.0,260.0,193.0,2.0,426.0,227.0,84.0,3.0,10.0,4.0,124.0,11.0,240.0,200.0,27.0,9.0,155.0,4.0,27.0,23.0,202.0,309.0,14.0,80.0,294.0,150.0,47.0,193.0,213.0,206.0,33.0,52.0,126.0,51.0,30.0,151.0,11.0,358.0,226.0,253.0,23.0,82.0,37.0,69.0,222.0,21.0,69.0,238.0,111.0,124.0,181.0,45.0,9.0,248.0,36.0,14.0,279.0,18.0,50.0,227.0,64.0,0.0,49.0,132.0,11.0,51.0,15.0,9.0,214.0,69.0,56.0,127.0,106.0,6.0,47.0,50.0,29.0,59.0,68.0,1.0,220.0,398.0,36.0,6.0,14.0,76.0,8.0,7.0,34.0,2.0,66.0,80.0,46.0,228.0,5.0,8.0,13.0,5.0,11.0,0.0,218.0,75.0,0.0,370.0,104.0,13.0,4.0,11.0,15.0,98.0,31.0,124.0,9.0,15.0,86.0,248.0,3.0,163.0,247.0,27.0,225.0,95.0,70.0,50.0,29.0,23.0,38.0,82.0,3.0,175.0,15.0,22.0,263.0,86.0,18.0,8.0,70.0,150.0,115.0,232.0,35.0,8.0,52.0,72.0,8.0,0.0,104.0,39.0,88.0,27.0,117.0,43.0,4.0,385.0,64.0,39.0,3.0,37.0,29.0,205.0,86.0,7.0,480.0,6.0,2.0,20.0,101.0,87.0,86.0,0.0,35.0,241.0,11.0,31.0,23.0,20.0,227.0,80.0,187.0,1.0,67.0,177.0,90.0,42.0,33.0,179.0,52.0,401.0,72.0,46.0,83.0,211.0,15.0,207.0,273.0,105.0,72.0,58.0,8.0,123.0,55.0,87.0,4.0,31.0,128.0,14.0,30.0,228.0,9.0,1.0,152.0,7.0,24.0,8.0,59.0,22.0,23.0,24.0,18.0,115.0,154.0,164.0,116.0,234.0,82.0,63.0,1.0,35.0,305.0,40.0,125.0,40.0,124.0,5.0,147.0,43.0,8.0,120.0,24.0,5.0,242.0,181.0,5.0,34.0,7.0,125.0,0.0,241.0,13.0,33.0,24.0,59.0,2.0,24.0,23.0,43.0,30.0,39.0,8.0,3.0,6.0,4.0,7.0,2.0,178.0,30.0,190.0,216.0,31.0,53.0,247.0,233.0,135.0,4.0,18.0,54.0,110.0,24.0,20.0,17.0,0.0,5.0,20.0,1.0,26.0,21.0,16.0,30.0,5.0,115.0,9.0,45.0,6.0,7.0,35.0,115.0,6.0,204.0,1.0,89.0,15.0,58.0,1.0,122.0,63.0,26.0,14.0,3.0,29.0,69.0,232.0,0.0,0.0,5.0,36.0,5.0,238.0,21.0,40.0,103.0,66.0,35.0,121.0,13.0,46.0,37.0,17.0,0.0,54.0,43.0,75.0,73.0,89.0,23.0,11.0,84.0,54.0,17.0,1.0,73.0,98.0,2.0,18.0,24.0,1.0,2.0,23.0,93.0,0.0,119.0,9.0,158.0,236.0,16.0,123.0,65.0,13.0,1.0,61.0,39.0,62.0,42.0,207.0,72.0,22.0,215.0,26.0,320.0,160.0,219.0,25.0,15.0,12.0,9.0,42.0,53.0,64.0,51.0,79.0,19.0,0.0,8.0,46.0,6.0,11.0,34.0,34.0,30.0,156.0,30.0,1.0,3.0,272.0,63.0,5.0,63.0,268.0,23.0,3.0,2.0,106.0,15.0,2.0,17.0,53.0,32.0,131.0,269.0],\"yaxis\":\"y\",\"type\":\"scatter\"},{\"hovertemplate\":\"\\u003cb\\u003e%{hovertext}\\u003c\\u002fb\\u003e\\u003cbr\\u003e\\u003cbr\\u003emunicipio=Manhattan\\u003cbr\\u003eprice=%{x}\\u003cbr\\u003enumber_of_reviews=%{y}\\u003cextra\\u003e\\u003c\\u002fextra\\u003e\",\"hovertext\":[\"Skylit Midtown Castle\",\"THE VILLAGE OF HARLEM....NEW YORK !\",\"Entire Apt: Spacious Studio\\u002fLoft by central park\",\"Large Cozy 1 BR Apartment In Midtown East\",\"Large Furnished Room Near B'way \",\"Cozy Clean Guest Room - Family Apt\",\"Cute & Cozy Lower East Side 1 bdrm\",\"Beautiful 1br on Upper West Side\",\"Central Manhattan\\u002fnear Broadway\",\"Wonderful Guest Bedroom in Manhattan for SINGLES\",\"West Village Nest - Superhost\",\"Chelsea Perfect\",\"Huge 2 BR Upper East  Cental Park\",\"Magnifique Suite au N de Manhattan - vue Cloitres\",\"Midtown Pied-a-terre\",\"SPACIOUS, LOVELY FURNISHED MANHATTAN BEDROOM\",\"Modern 1 BR \\u002f NYC \\u002f EAST VILLAGE\",\"front room\\u002fdouble bed\",\"Spacious 1 bedroom in luxe building\",\"back room\\u002fbunk beds\",\"LowerEastSide apt share shortterm 1\",\"ENJOY Downtown NYC!\",\"West Side Retreat\",\"BEST BET IN HARLEM\",\"Cozy 1BD on Central Park West in New York City\",\"Beautiful Apartment in Manhattan!!!\",\"Great Location, Manhattan Bedroom!\",\"Best Location in NYC! TIMES SQUARE!\",\"**Bright Nolita Apt w Doorman\\u002fElevators\\u002fGym**\",\"Sunny & Spacious Chelsea Apartment\",\"2 bedroom - Upper East Side-great for kids\",\"Your Heaven in Hells Kitchen\",\"Sunny, Modern room in East Village!\",\"Large Room in Amazing East Village Apt\",\"SpaHa Loft: Enormous and Bright\",\"Lovely EV Artist's Home\",\"Cool Room in Hell's Kitchen\",\"HARLEM, NEW YORK WELCOMES YOU!!\",\"Charming East Village One Bedroom Flat\",\"Manhattan Room\",\"Beautiful Meatpacking District Loft\",\"Spacious luminous apt Upper West NYC\",\"Entire 2 Bedroom - Large & Sunny\",\"Private room Great Deal at Lower East Side\",\"Oh glorious spring!\",\"Great Location for NYC\",\"Light-filled classic Central Park \",\"Upper Manhattan, New York\",\"COZY QUIET room 4 DOOGLERS!\",\"loft bed - near transportation-15min to times sq\",\"Monkey Retreat Manhattan\",\"2000 SF 3br 2bath West Village private  townhouse\",\"1,800 sq foot in luxury building\",\"Times Square, Safe, Clean and Cozy!\",\"Beautiful Apartment East Village\",\"2 BR \\u002f 2 Bath Duplex Apt with patio! East Village\",\"NYC fabulous views Manhattan's eye\",\"Comfortable UWS 2-BD Family-Friendly Brownstone\",\"Great Large 1 BR apt  in East Village!\",\"Sugar Hill Rest Stop \",\"apartment next to Central park\",\"East Village Sanctuary\",\"Garden studio in the Upper East Sid\",\"Secluded Master Bedroom in Beautiful Huge Apt\",\"ACCOMMODATIONS GALORE #1\",\"Stylish & Sleek Apartment Near SoHo!\",\"Unique & Charming small 1br Apt. LES\",\"Most Central Location!\",\"Luminous Beautiful West Village Studio\",\"NYC Zen\",\"Sun Filled Classic West Village Apt\",\"Private Bdrm\\u002fBathrm. New! Elevator!\",\"Sunny, clean 1 bdrm in W. Village\",\"Light and Airy Upper East Side 1 BDR apartment\",\"CENTRAL PARK LOFT all for YOU\",\"Charming & Cozy midtown loft any WEEK ENDS  !!!\",\"Convenient cozy cheap apt Manhattan\",\"West Inn 2 - East Village\",\"Financial District Luxury Loft\",\"Your own Lovely West Village Studio\",\"ACCOMMODATIONS GALORE#3. 1-5 GUESTS\",\"Greenwich Village Stylish Apartment\",\"Clean and Cozy Harlem Apartment\",\"Couldn't Be Closer To Columbia Uni\",\"NEW YORK CITY, 1 BDRM.(NEAR CENTRAL PARK & METRO)\",\"Chelsea Studio sublet 1 - 2 months\",\"LUX APT IN TIMES SQUARE NEW BUILDING\",\"Designer 1 BR Duplex w\\u002f Terrace- Spectacular Views\",\"1 Bedroom in 2 Bdrm Apt- Upper East\",\"Lower East Side $57~\\u002fnight\",\"Prime Location in Manhattan\",\"Quiet, sunny Midtown Manhattan apt.\",\"MIDTOWN WEST - Large alcove studio\",\"Beautiful Uptown Manhattan apartmnt\",\"City Room - Private Penthouse Apt.\",\"Great apartment with private bathroom and entrance\",\"NOHO\\u002fEAST VILLAGE, PRIVATE 1\\u002f2 BATH\",\"Sleek & Comfortable Soho Apt\",\"Cozy East Village Railroad 1 Bed!\",\"City Room - Private & Comfy Bedroom\",\"Modern, Large East Village Loft\",\"Great new apt, close to everything\",\"Quiet & Clean Retreat in the City\",\"Stylish Large Gramercy Loft!\",\"The Brownstone-Luxury 1 Bd Apt\\u002fNYC\",\"PRIVATE Room on Historic Sugar Hill\",\"17 Flr. Manhattan Views, Nr. Subway\",\"Spacious 1BR, Adorable Clean Quiet\",\"Artistic, Cozy, and Spacious w\\u002f Patio! Sleeps 5\",\"One bedroom Apt. in NYC\",\"Beautiful, elegant 3 bed SOHO loft\",\"Spacious Greenwich Village Apt\",\"SpaHa Studio Monthly Rental\",\"City Room - Private Luxury Suite\",\"Private Room\\u002fbath Luxurious Harlem\",\"The gem of the East Village\",\"Bright and spacious, garden below!\",\"ACCOMMODATIONS GALORE #2\",\"Colorful Private One Bedroom Apt\",\"Huge Chelsea Loft\",\"Great room in great location\",\"Exclusive Room with Private Bath in  LES\",\"Quiet, clean midtown apt w. elevato\",\"Great East Village Apartment Rental\",\"Smallest House In The Village\",\"Beautiful modern studio apartment in heart of NYC\",\"Cottage in the Village\",\"HOSTING YOUR  SUNNY, SPACIOUS NYC ROOM\",\"Prime East Village 1 Bedroom\",\"Amazing  Sunny & Breezy Home In the Heart of  NYC\",\"ENJOY Downtown NYC!!\",\"Charming UWS Treehouse Apt\",\"CHARMING EAST VILLAGE 2 (or 1) BR\",\"Suite Sugar Hill, Harlem, Private Rm in Hosted Apt\",\"East Village Loft with Piano & Patio\",\"Lower East Side Magic Room\",\"West Harlem Home Base - Eco-Apt.\",\"Central Park 1BR sunny condo\",\"SoHa comfort-by NW Central Park!\",\"Cozy room in Upper West Side\",\"Cozy Private Room in Apartment\",\"Prewar Penthouse w Private Terrace\",\"Unique spacious loft on the Bowery\",\"Nice renovated apt, prime location!\",\"Private Bedroom in Large NYC Apartment\",\"Large, Sunny Room East Village NYC\",\"Great Large 3 BR\\u002f2 Bath Duplex with Private Patio!\",\"All That Jazz. Uptown style on Sugar Hill.\",\"Bright and lovely 1 bdrm apt in LES\",\"Beautiful One Bed West Village - 4 Month Special\",\"1BR: See Central Park from Terrace!\",\"Alcove Studio w\\u002f outdoor Patio Deck\",\"Luxury 3 bed\\u002f 2 bath apt in Harlem w\\u002f terrace\",\"Bright Cozy Chinatown Studio Apt.\",\"Hells Kitchen Garden of Eden\",\"Cozy room in East Village with AC\",\"Charming Artist's Flat, East Village\",\"East Village Designer's 1-BR APT\",\"Large Studio--Heart of East Village\",\"Huge.Bright.Clean.Safe. Private Room\",\"MODERN SPACIOUS 2 BR APT DOWNTOWN MANHATTAN\",\"LOVELY APARTMENT IN THE HEART OF NY\",\"Groovy NYC Chelsea Pad\",\"Comfortable Cozy Space in El Barrio\",\"MANHATTAN Neat, Nice, Bright ROOM\",\"UWS Brownstone Near Central Park\",\"BOHEMIAN EAST VILLAGE 2 BED HAVEN\",\"Bright Room With A Great River View\",\"Riverside Charm with Fire Place\",\"Very Central, Nomad\\u002fChelsea Loft Studio\",\"Cozy Private Room in West Harlem!\",\"UES Quiet & Spacious 1 bdrm for 4\",\"Cozy room in Time Square!\",\"Lower East Side 2 Bedroom Apt\",\"Manhattan Studio, Perfect Location\",\"Sun-Drenched Hamilton Hts Jewel   \",\"Your Stunning Vacation Apartment!\",\"Heart of Meatpacking & Chelsea\",\"Spacious East Village apt near it all\",\"NYC Studio for Rent in Townhouse\",\"\\u00e2\\u0161\\u00a1Quiet Gem w\\u002froof deck on NY's Hottest Street\\u00e2\\u0161\\u00a1\",\"\\u00e2\\u02dc\\u2020Massive DUPLEX\\u00e2\\u02dc\\u2020 2BR & 2BTH East Village 9+ Guests\",\"Gorgeous Upper West Side Apartment\",\"City Room - Street View Apt\",\"Spacious West Village 1 b\\u002froom King\",\"Midtown cozy convenient\",\"The Ground Studio - West Side\",\"East Village, King-Sized, Charmer\",\"LUXURY SOHO 2 Bedroom Apt \",\"Charming Nolita Apartment!!\",\"EAST VILLAGE STUDIO, sunny & quiet\",\"LUXURY OF THE HORIZON\",\"1 Bdrm in 4 Bdrm dupelx\\u002froof deck\",\"Parisian apartment in Chelsea\",\"Cozy 2 Bedroom with Private Garden\",\"Beautiful Duplex w\\u002fPrivate Garden\",\"NYC - Sunny Greenwich Village 1br\",\"Best City Area Columbia U Upper West Side C Park\",\"Your own apartment off Park Avenue\",\"Lower East Side 2 Bed Apt.\",\"CHARMING PRIVATE BEDROOM EAST VILLAGE\",\"City Room - Semi Private Bedroom\",\"Cozy apartment in a brownstone\",\"Private E. Village Townhouse Stay\",\"Harlem\\u002fHamilton Heights Cozy Room\",\"Chelsea living, 2BR best location\",\"LOCATION LOCATION LOCATION UWS 60's\",\"In the heart of East Village\",\"Manhattan Penthouse-Max.12 guests\",\"Cool & Spacious Harlem Artist Flat\",\"\\u00e2\\u02dc\\u2020 STUDIO East Village \\u00e2\\u02dc\\u2020 Own bath! \\u00e2\\u02dc\\u2020 Sleeps 4 \\u00e2\\u02dc\\u2020\",\"*SoHo: Clean, Safe, Private, Peaceful Bedroom (A)*\",\"Couldn't Be Closer To Columbia Uni2\",\"Nice Manhattan Apt Near Central Park and Subway\",\"Spacious Quiet rm - 20mins to Midtown\",\"Spacious modern studio apartment in Manhattan\",\"Charming upper west side apartment\",\"Light-filled East Village Delight\",\"Spacious Duplex in Brownstone!\",\"Lovely Vintage Haven\\u00e2\\u20ac\\u201dHeart of UWS\",\"Modern Space in Charming Pre-war\",\"The Happy home!\",\"Gorgeous 1 bdrm in huge duplex!\",\"Sunny, cozy room in Lower East Side\",\"Large Quiet Bedroom Near Columbia U\",\"Cozy Pre-War Harlem Apartment\",\"Elegant 2-BR duplex, Union Square\",\"Luxury 2Bed\\u002f2.5Bath Central Park View\",\"East Village bedroom w rooftop\",\"PRIME, Luxury, Spacious 2 Bedroom Apt in Chelsea\",\"SPACIOUS ALCOVE STUDIO\\u002f JUNIOR ONE\",\"High-end doorman bldg in the LES\",\"Spring & Mulberry 2 Bedroom Apartment\",\"Gorgeous Entire Manhattan Townhouse\",\"Cozy studio Apartment in Upper East\",\"Historic classic central cozy Village clean NYU\",\"WEST VILLAGE LRG CLEAN SUNNY PRIVATE BDRM\",\"Comfort at Crossroads of Downtown\",\"UNION SQUARE\\u002f E. VILL 1BR BEAUTIFUL\",\"Hell's Kitchen Funky 80's Hideaway!\",\"Room in Chic Modern High Line Luxury- New!\",\"Large Luxury Upper East Side Studio\",\"Sun-drenched East Village Penthouse\",\"Columbus Circle Luxury Bldg - Private Room&Bath\",\"Quiet Chelsea Studio w\\u002fCharm\",\"Large Room Overlooking Central Park\",\"Cheerful, comfortable room\",\"Quiet Jr Alcove Near Times Square!\",\"Large room in elevator drman bldg\",\"Modern Bedroom in Hamilton Heights\",\"Best Manhattan Studio Deal!   \",\"STYLISH EAST VILLAGE FLAT\",\"Beautiful UES apartment\",\"Comfortable. Spacious. Private Room.\",\"Modern Condo in Midtown\",\"East Village House -- Unique!\",\"2-bedroom share in heart of Greenwich Village!\",\"1 Bedroom Pre War apt\",\"RARE Penthouse Oasis featured on DesignSponge\",\"2 Bed, 2 Bath Apartment on Central Park West\",\"Your Haven in the Upper West Side\",\"\\u00e2\\u0153\\u00bf\\u00e2\\u0153\\u00bf\\u00e2\\u0153\\u00bf COUNTRY COTTAGE IN THE CITY\\u00e2\\u0153\\u00bf\\u00e2\\u0153\\u00bf\\u00e2\\u0153\\u00bf\",\"\\u00e2\\u0153\\u00bf\\u00e2\\u0153\\u00bf\\u00e2\\u0153\\u00bf COUNTRY COTTAGE IN THE CITY\\u00e2\\u0153\\u00bf\\u00e2\\u0153\\u00bf\\u00e2\\u0153\\u00bf\",\"Lovely Bdr in Harlem, Manhattan\",\"THE BEST DEAL ON THE HUDSON RIVER!!\",\"Newly Reno\\u00e2\\u20ac\\u2122d Chic Quiet Exec 1BR\",\"1 Bedroom in prime Flatiron\",\"Gorgeous PermaGO Private Room in FiDi - 1\\u002f2\",\"BEST DEAL IN CHELSEA 1 bdrm NYC\",\"Artsy Loft-like Harlem Apartment\",\"Harlem\\u002fManhattan Classic Apartment\",\"Quiet sunny studio Midtown\",\"Alpha-Bet City entire floor large cool 2br -L.E.S\",\"Spacious, Kid-Friendly 2 BR in West Village\",\"Great Bedroom in Downtown Manhattan\",\"1BDR - Hell's Kitchen Hideaway\",\"COMFY ROOM\\u002fCOFFEE AND BAGEL\\u002fWEEKLY DISCOUNT\",\"Monthly Apartment Rental\",\"Wonderfully inviting East Village\",\"TURQUOISE: One-Bedroom Apt. in Soho\",\"Spacious, well furnished, high fl. beautiful views\",\"NYC Studio in Heart of Times Square\",\"Large Sunny Luxe Prvt Room\\u002fMidtown\",\"Spacious Stunning Harlem Townhouse\",\"LARGE ARTSY Room w\\u002f Loft Bed 4 DOOGLERS!\",\"Stylish Studio with exclusive Terrace\",\"LES private apt, 1 bedroom & more\",\"charming 2bdrm apt in East Village\",\"LOCATION LOCATION LOCATION Liz's\",\"Manhattan Loft in Prime East Village Location\",\"Nolita Penthouse_Private Deck_Elev_\",\"Lower East Side\\u002fChinatown 1 Bedroom\",\"Amazing 1 bed, live like a Newyorkr\",\"Great Studio in W. Village - NYC!\",\"One Fabulous Private Room\",\"big 1 bedroom apt very central\",\"Sweet Apt, Steps From Gramercy Park\",\"Scandinavian-apt for up to 5. LES\",\"4 BEDROOM -2BATHRM WEST VILLAGE DUPLEX  TOWNHOUSE\",\"Large & bright 900ft\\u00c2\\u00b2 1br in WV\",\"At a very nice area in the WestSide\",\"SPACIOUS PRIVATE LITTLE ITALY FLAT\",\"The Lenox in Harlem\",\"The Lenox in Harlem\",\" Heart & Soul of Greenwich Village \",\"Private Bdrm \\u002fBath 1 block Ctrl Prk\",\"+Highly Satisfactory LES dwelling++\",\"Whole apartment \\u002f 2 bedroom in NYC\",\"Large 1 Bedroom furnished on UWS\",\"Chez Carine - Privacy in Manhattan\",\"NOLITA! LOCATION! LOCATION! VIEWS! FREE GYM!\",\"Luxury Chelsea Townhouse at the High Line\",\"Spacious & Stylish Chelsea One Bedroom Apartment\",\"CHELSEA 1 Bdrm Plus Sleeping Loft!!\",\"Spacious room in beautiful apt! \",\"NewYork Modern Pre-War LoftStudio \",\"Apartment in Best location in NYC\",\"Inspired in Historic Downtown NYC!\",\"Chelsea\\u002fWest Village - 2bdrm apt\",\"1500+ sq ft 2BR West Village Loft\",\"Cozy & Clean Lower East Side Apt.\",\"Chic + Stylish room in heart of LowerEastSide NYC!\",\"Landmark 2 Bedroom West Village NYC\",\"Room in East Village with Private Entrance\",\"Cozy&Clean in a great neighborhood\",\"Contemporary & Classic Sanctuary on the Hudson\",\"Comfortable Manhattanville\",\"Studio sublet in Hell's kitchen\",\"Luxury NYC 2 Bedroom with Terrace\",\"Bright unique designer loft in Soho\",\"Beautiful studio by Central Park\",\"One bed suite with private garden\",\"West Village cozy 2 bedroom  NYC \",\"2 Bedroom Gem - Prime LES Location\",\"REAL 2BR-HEART OF SOHO-LITTLE ITALY\",\"BIG ROOM \\u002f DOWNTOWN  LOFT \\u002f\",\"Charming Hotel Alternative\\nMount Sinai\",\"SUNNY 2-bdrm CHILD-friendly Uptwn by Centrl Park!\",\"Hudson Yards with views of The Highline Park\",\"SUPER CUTE EAST VILLAGE APARTMENT\",\"Easy, comfortable studio in Midtown\",\"Huge luxury 1BR apt near Central Park South(4 ppl)\",\"Beautiful brownstone apartment\",\"1 Bd. MANHATTAN NY Entire Apt. 1 yr-6 months min.\",\"Luxury Designer Downtown Apartment\",\"6 Bedroom Landmark West Village Townhouse\",\"Beautiful bed and bath - Manhattan\",\"Beautiful Room Near Central Park!\",\"Charming furnished Studio-Loft\",\"Comfortable Manhattanville.\",\"Location wins for East Village Apt\",\"Furnished room for rent - Manhattan\",\"West Village NYC Sun-filled Studio!\",\"Huge Apartment!  Amazing View!\",\"Amazing West Village 2br\",\"Beautiful Private Bedroom - Downstairs\",\"QT STUDIO FOR ROMANTIC COUPLES\",\"Spacious East Village Apartment\",\"Hells Kitchen Ground Fl 1-bedroom\",\"Charming Apt in the Best Location!\",\"Huge room with private balcony\",\"Amazing 1 bedroom apt with NYC View\",\"Private Room in Brownstone\",\"Lovely Hell's Kitchen Studio...\",\"Sunny 1BR Center of East Village!\",\"Perfect East Village Apartment\",\"Decorators 5-Star Flat West Village\",\"Beautiful SoHo Luxury Apartment\",\"Between Two Bridges 2BD -Whole Apt!\",\"BIG LUXURY LINCOLN CENTER AREA STUDIO + !!\",\"Gorgeous pvt room in West Village\",\"1 bedroom apt in Midtown West\",\"Room next to Columbia Uni.\",\"Beautiful New Garden Apartment \",\"Panoramic View Central Park & NYC\",\"1 Bdrm in 2 Bdrm Apt in Upper East Lux Drmn Bldng\",\"Charming 1BD in SoHo\",\"Furnished Bedroom with private half bath\",\"Sunny 1BR East Harlem Apartment\",\"The best studio in town\",\"Fully Furnished 1B\\u002f1BTH UWS GEM  1 YR Sublease\",\"Penthouse Studio by Central Park\",\"Giant Sunny Bedroom & Private Bath in my Apartment\",\"Large Sunny Bedroom with Bay Window\",\"Harlem\\u002fHamilton Heights Sunny Room\",\"Sunny 1 BR, West 80s & Central Park\",\"COMFORTABLE ROOM\",\"2ND AVENUE OFF HOUSTON\\u002fLOFTLIKE STU\",\"Share in NYC's trendy East Village\",\"APT W\\u002f OUTDOOR SPACE!! LONG TERM RENTAL PREFERRED!\",\"Room in Huge 1200sf W Harlem Suite\",\"Harlem on the Range\",\"Big Bright E Village 2BR (Baby Nursery)\",\"Private Manhattan Studio on Harlem\\u002fHeights Border\",\"Chelsea\\u002fMeat Packing  Artist Space!\",\"Elegant Spacious Family Townhouse\",\"Central Park Fifth Av MET Museum\",\"Lovely Upper East Yorkville 1 BDRM\",\"Cozy Upper East Side Studio\",\"Lovely studio in East Village, NY\",\"NYC Summer Discount  1 BR Gramercy Apt\",\"Awesome views, Central location\",\"Spacious Manhattan Apartment near Central Park\",\"Creative Director's Chinatown Loft\",\"HOSTING YOUR COZY,  ECLECTIC MILIEU FOR NYC VISIT\",\"Cozy bedroom near Times Square\",\"Queen size sofa bed in Harlem\",\"Stylish & Quiet NYC Retreat!\",\"Bright, new luxury apartment in doorman building\",\"TIMES SQUARE MASTER BEDROOM!\",\"Lincoln Center Studio, Clean&Sunny!\",\"Serenity amidst the busy city\",\"Super Clean Apt by Columbus Circle\",\"Unique private room and bathroom in Brownstone\",\"TIMES SQUARE HOUSE!\",\"Beautiful Room in a Beautiful New NYC Apartment\",\"Best West Village\\u002fMeatpacking Space\",\"21 day Chelsea Apartment rental\",\"Cosy apartment in West Village\",\"Spacious Lower East Side Apt in NYC\",\"ARTY 2 BED EAST VILLAGE GEM\",\"Exquisite Spacious Studio in Midtown\",\"Cute Private room in Upper East Side #14\",\"Lower East Side 1bedroom apt in NYC\",\"Large Beautiful East Village 1-Bdrm\",\"Manhattan -  Best Location in Midtown\",\"Beautiful Room in Manhattan Loft\",\"Luxury, Adorable Studio Apartment\",\"HOME AWAY FROM HOME\",\"Beautiful 3 bedroom in Manhattan\",\"LUXURY 2BD\\u002f2BTH - HUGE PATIO\",\"Great apt on the UWS - A RARE FIND!\",\"Cozy 2 BD in Midtown West\",\"A cozy Red Room with private bathroom\",\"Cozy room with private bathroom & outside garden\",\"Beautiful 1 bdrm, Inwood Manhattan\",\"Great room priv\\u002fbathrm Eastside location 70's ST\",\"Midtown NYC - 1 Bedroom Apartment\",\"Cozy Room in Sunny Apartment (Long\\u002fShort Term)\",\"THERE'S NO PLACE LIKE HOME.........\",\"Cozy home in vibrant Manhattan\",\"LOCATION LOCATION LOCATION Sara's\",\"Your Times Square Sanctuary\",\"Designer studio in Luxury Building\",\"Private cozy bedroom in Nolita\",\"Flatiron-Designer's loft\",\"Stylish Designer Studio with Piano\",\"New York City for All Seasons!\",\"STUNNING E Vill Penthouse\",\"New York Host who knows The Most\",\"One Block From Central Park!\",\"Light Superhosted Chill LES Apt\",\"Sunny UES 1.5 Bedroom, Sleeps 6\",\"Stay with a Jazz Singer in Harlem!\",\"Large Private Room Near Central Park & Mount Sinai\",\"Luxury room in Manhattan Duplex Apt\",\"Gorgeous Sunny, Spacious 1 bdrm in East Village\"],\"legendgroup\":\"Manhattan\",\"marker\":{\"color\":\"#EF553B\",\"opacity\":0.5,\"symbol\":\"circle\"},\"mode\":\"markers\",\"name\":\"Manhattan\",\"orientation\":\"v\",\"showlegend\":true,\"x\":[225.0,150.0,80.0,200.0,79.0,79.0,150.0,135.0,85.0,85.0,120.0,140.0,190.0,80.0,150.0,44.0,180.0,50.0,52.0,50.0,40.0,68.0,135.0,150.0,151.0,200.0,110.0,69.0,180.0,375.0,250.0,52.0,80.0,99.0,225.0,230.0,51.0,65.0,190.0,200.0,150.0,110.0,285.0,94.0,60.0,50.0,140.0,89.0,98.0,60.0,65.0,500.0,100.0,59.0,140.0,350.0,199.0,235.0,225.0,170.0,170.0,100.0,150.0,85.0,120.0,185.0,105.0,130.0,115.0,195.0,156.0,69.0,225.0,219.0,99.0,250.0,80.0,125.0,196.0,170.0,165.0,150.0,100.0,99.0,75.0,125.0,275.0,299.0,130.0,83.0,123.0,195.0,105.0,200.0,121.0,100.0,130.0,199.0,130.0,64.0,189.0,250.0,239.0,305.0,155.0,60.0,120.0,150.0,250.0,250.0,500.0,225.0,125.0,92.0,175.0,99.0,195.0,140.0,135.0,500.0,80.0,120.0,110.0,130.0,175.0,205.0,390.0,75.0,200.0,90.0,68.0,115.0,129.0,75.0,212.0,95.0,135.0,124.0,122.0,109.0,85.0,195.0,575.0,150.0,90.0,65.0,500.0,250.0,125.0,200.0,110.0,113.0,250.0,150.0,150.0,71.0,169.0,225.0,139.0,95.0,150.0,125.0,130.0,65.0,67.0,212.0,249.0,60.0,120.0,169.0,90.0,225.0,85.0,211.0,145.0,65.0,99.0,290.0,87.0,110.0,395.0,189.0,85.0,122.0,170.0,130.0,132.0,185.0,375.0,175.0,150.0,259.0,96.0,200.0,95.0,295.0,175.0,165.0,250.0,250.0,95.0,55.0,300.0,175.0,75.0,150.0,200.0,200.0,295.0,198.0,99.0,140.0,75.0,250.0,75.0,205.0,185.0,190.0,250.0,175.0,65.0,79.0,170.0,115.0,89.0,49.0,400.0,2000.0,100.0,429.0,189.0,120.0,300.0,199.0,120.0,199.0,100.0,250.0,165.0,99.0,255.0,169.0,110.0,150.0,149.0,89.0,50.0,149.0,68.0,75.0,90.0,160.0,190.0,95.0,150.0,250.0,80.0,230.0,200.0,300.0,80.0,199.0,199.0,100.0,55.0,146.0,250.0,150.0,199.0,69.0,300.0,125.0,288.0,225.0,110.0,130.0,89.0,135.0,90.0,270.0,145.0,179.0,110.0,325.0,130.0,190.0,200.0,160.0,195.0,241.0,300.0,100.0,399.0,200.0,71.0,226.0,135.0,154.0,700.0,246.0,125.0,119.0,125.0,400.0,850.0,140.0,115.0,200.0,185.0,81.0,495.0,760.0,325.0,195.0,58.0,189.0,145.0,101.0,95.0,375.0,153.0,80.0,300.0,88.0,155.0,225.0,85.0,200.0,485.0,310.0,109.0,167.0,220.0,195.0,199.0,65.0,99.0,130.0,350.0,250.0,125.0,300.0,150.0,56.0,299.0,1300.0,200.0,99.0,110.0,85.0,139.0,50.0,250.0,300.0,200.0,130.0,90.0,180.0,175.0,240.0,300.0,385.0,75.0,165.0,179.0,219.0,450.0,249.0,139.0,209.0,90.0,199.0,110.0,150.0,300.0,190.0,250.0,140.0,150.0,90.0,295.0,150.0,99.0,75.0,75.0,109.0,86.0,99.0,89.0,199.0,110.0,135.0,245.0,115.0,120.0,499.0,109.0,219.0,159.0,150.0,106.0,299.0,179.0,250.0,87.0,75.0,80.0,125.0,387.0,95.0,99.0,121.0,350.0,75.0,95.0,89.0,195.0,160.0,100.0,140.0,189.0,265.0,60.0,129.0,199.0,110.0,135.0,115.0,175.0,3000.0,549.0,145.0,200.0,160.0,180.0,100.0,105.0,250.0,74.0,165.0,99.0,125.0,104.0,225.0,100.0,350.0,135.0,125.0,225.0,85.0,200.0,90.0,300.0,125.0,125.0,145.0,147.0],\"xaxis\":\"x\",\"y\":[45.0,0.0,9.0,74.0,430.0,118.0,160.0,53.0,188.0,113.0,27.0,260.0,0.0,0.0,58.0,108.0,29.0,242.0,88.0,273.0,214.0,245.0,81.0,97.0,73.0,19.0,19.0,289.0,21.0,5.0,66.0,191.0,338.0,106.0,190.0,49.0,23.0,49.0,21.0,142.0,167.0,54.0,70.0,94.0,194.0,2.0,81.0,1.0,30.0,11.0,68.0,46.0,170.0,334.0,12.0,7.0,38.0,27.0,115.0,195.0,13.0,25.0,21.0,36.0,155.0,73.0,32.0,50.0,26.0,30.0,79.0,34.0,134.0,126.0,234.0,4.0,2.0,84.0,114.0,86.0,80.0,38.0,18.0,122.0,199.0,3.0,41.0,109.0,0.0,285.0,375.0,10.0,10.0,0.0,104.0,204.0,115.0,129.0,204.0,192.0,205.0,94.0,7.0,108.0,222.0,458.0,17.0,41.0,18.0,82.0,94.0,10.0,183.0,189.0,1.0,127.0,4.0,135.0,21.0,35.0,10.0,171.0,92.0,56.0,185.0,62.0,143.0,0.0,0.0,1.0,203.0,210.0,5.0,20.0,67.0,109.0,187.0,22.0,93.0,104.0,64.0,30.0,191.0,48.0,120.0,52.0,48.0,32.0,43.0,39.0,38.0,26.0,31.0,286.0,36.0,182.0,240.0,33.0,388.0,223.0,151.0,1.0,19.0,131.0,136.0,45.0,166.0,380.0,49.0,54.0,1.0,56.0,116.0,52.0,39.0,35.0,320.0,35.0,0.0,142.0,70.0,403.0,3.0,116.0,24.0,105.0,10.0,69.0,18.0,68.0,22.0,17.0,34.0,0.0,2.0,74.0,18.0,191.0,0.0,19.0,25.0,119.0,203.0,175.0,38.0,37.0,10.0,103.0,227.0,42.0,280.0,54.0,57.0,188.0,34.0,3.0,129.0,147.0,11.0,11.0,41.0,15.0,17.0,3.0,43.0,168.0,105.0,30.0,49.0,18.0,90.0,99.0,6.0,111.0,86.0,66.0,5.0,2.0,63.0,89.0,1.0,39.0,81.0,43.0,23.0,35.0,225.0,122.0,295.0,50.0,0.0,25.0,8.0,172.0,330.0,60.0,9.0,179.0,25.0,45.0,19.0,29.0,14.0,33.0,99.0,142.0,0.0,82.0,32.0,59.0,6.0,3.0,120.0,13.0,59.0,52.0,278.0,115.0,109.0,1.0,102.0,83.0,61.0,89.0,80.0,136.0,100.0,0.0,139.0,0.0,2.0,8.0,0.0,37.0,229.0,34.0,5.0,238.0,131.0,6.0,4.0,49.0,11.0,0.0,107.0,176.0,151.0,49.0,16.0,72.0,25.0,7.0,46.0,10.0,143.0,314.0,11.0,51.0,20.0,8.0,59.0,10.0,153.0,69.0,1.0,129.0,171.0,8.0,11.0,5.0,36.0,16.0,0.0,68.0,89.0,10.0,25.0,35.0,64.0,24.0,19.0,5.0,203.0,20.0,49.0,28.0,0.0,54.0,1.0,130.0,52.0,208.0,7.0,2.0,1.0,107.0,107.0,24.0,10.0,94.0,1.0,63.0,101.0,72.0,15.0,129.0,157.0,8.0,37.0,14.0,209.0,4.0,0.0,88.0,36.0,0.0,152.0,44.0,12.0,51.0,0.0,11.0,14.0,33.0,30.0,18.0,216.0,13.0,136.0,65.0,47.0,25.0,18.0,18.0,78.0,64.0,66.0,102.0,32.0,1.0,12.0,19.0,297.0,9.0,46.0,118.0,15.0,202.0,23.0,62.0,36.0,16.0,24.0,77.0,110.0,56.0,7.0,0.0,7.0,53.0,265.0,75.0,5.0,132.0,41.0,27.0,214.0,12.0,6.0,0.0,58.0,22.0,13.0,10.0,14.0,20.0,93.0,116.0,15.0,70.0,4.0,128.0,133.0,27.0,61.0,0.0,38.0,25.0,93.0,6.0,30.0,67.0,19.0,0.0,74.0,165.0,16.0],\"yaxis\":\"y\",\"type\":\"scatter\"},{\"hovertemplate\":\"\\u003cb\\u003e%{hovertext}\\u003c\\u002fb\\u003e\\u003cbr\\u003e\\u003cbr\\u003emunicipio=Queens\\u003cbr\\u003eprice=%{x}\\u003cbr\\u003enumber_of_reviews=%{y}\\u003cextra\\u003e\\u003c\\u002fextra\\u003e\",\"hovertext\":[\"1 Stop fr. Manhattan! Private Suite,Landmark Block\",\"Little King of Queens\",\"Fully Furnished Basement Apartment\",\"A room w\\u002f a Manhattan view, longer stay\",\"Beautiful Queens Brownstone! - 5BR\",\"( F) Excellent\\u002fPvt Rm\",\"cozy studio with parking spot\",\"Clean and convenient 2BR apartment\",\"3 floors of luxury!\",\"Elegant NYC Pad\",\"Nice, clean, safe, convenient 3BR\",\"Safe cute near subway& Manhattan NY NY retro style\",\"One Bedroom Mini studio - Free WIFI\",\"Modern, Safe, Clean, Bright Room in Astoria for 2\",\"Bienvenue\",\"Oceanfront Apartment in Rockaway\",\"1 BDRM Apt-Weekend Sublease\",\"Forest Hills Apt minutes to midtown Manhattan\",\"Astoria-Private Home NYC-\",\"Female Only Clean15min to Manhattan\",\"Sunny 15min to Manhattan LADY only\",\"Lady only Curtain-divided room\",\"Ultra Modern NYC Garden Apartment\",\"Modern Garden Apartment in NYC\",\"Spacious, Kid-Friendly, and 15-20 Mins. to Midtown\",\"Sunnyside NYC\\u002f AC room\\u002f city views\\u002f near Midtown\",\"Modern Unique Studio in NYC\",\"rooms for rent in Queens with piano\",\"Private Room With GREAT Location\",\"Astoria Garden Suite\",\"Quality Cozy Studio Next to Subway\",\"Read it 1st, A seprat fur BR, low $\",\"Entire apt NYC, Queens. 15 min from Times Square.\",\"My Home Is Your Home\",\"City Skyline Views from every room!\",\"Large Sunny Bedroom in QNS NYC\",\"One stop from Midtown Manhattan!\",\"Cozy New York  City private room\",\"Large Room in a Huge NY apartment.\",\"2 Rooms in Cottage NYC\",\"Entire Apartment in Astoria, 15mins from Manhattan\",\"NYC Summer Getaway | Full Home 2BR\",\"Nice Private Room Beauty in Queens\",\"Charming Ridgewood Soulful  Walk-Up\",\"Quaint & Quiet in Queens\",\"Single Room\",\"Beautiful Bedrooms in Briarwood, NY\"],\"legendgroup\":\"Queens\",\"marker\":{\"color\":\"#00cc96\",\"opacity\":0.5,\"symbol\":\"circle\"},\"mode\":\"markers\",\"name\":\"Queens\",\"orientation\":\"v\",\"showlegend\":true,\"x\":[130.0,70.0,140.0,79.0,350.0,55.0,98.0,140.0,265.0,140.0,140.0,99.0,115.0,80.0,50.0,70.0,110.0,97.0,129.0,42.0,42.0,33.0,107.0,95.0,75.0,50.0,95.0,55.0,75.0,75.0,79.0,54.0,80.0,75.0,73.0,55.0,96.0,85.0,30.0,65.0,70.0,192.0,55.0,52.0,75.0,45.0,75.0],\"xaxis\":\"x\",\"y\":[248.0,25.0,1.0,28.0,10.0,52.0,33.0,6.0,38.0,17.0,1.0,441.0,198.0,42.0,43.0,13.0,30.0,28.0,414.0,53.0,41.0,31.0,21.0,24.0,160.0,258.0,24.0,19.0,65.0,49.0,60.0,56.0,81.0,20.0,95.0,38.0,244.0,270.0,3.0,5.0,1.0,7.0,63.0,98.0,59.0,8.0,16.0],\"yaxis\":\"y\",\"type\":\"scatter\"},{\"hovertemplate\":\"\\u003cb\\u003e%{hovertext}\\u003c\\u002fb\\u003e\\u003cbr\\u003e\\u003cbr\\u003emunicipio=Staten Island\\u003cbr\\u003eprice=%{x}\\u003cbr\\u003enumber_of_reviews=%{y}\\u003cextra\\u003e\\u003c\\u002fextra\\u003e\",\"hovertext\":[\"New York room with a view\",\"A SpeciaL!! Private Room in NY\",\"B NYC Staten Alternative...\",\"C Private Room By The Ferry\",\"D Private Che@p Room 2 Explore NYC\",\"New Clean Spacious Bed & Breakfast\",\"Sunny cozy multileveled apartment!\",\"Oceanview,close to Manhattan\",\"Affordable rooms,all transportation\",\"Budget stay, near transportation\",\"Private Room in Artist's Home, Stapleton, SI\",\"Enjoy Staten Island Hospitality\",\"A PLACE TO STAY CLOSE TO MANHATTAN\"],\"legendgroup\":\"Staten Island\",\"marker\":{\"color\":\"#ab63fa\",\"opacity\":0.5,\"symbol\":\"circle\"},\"mode\":\"markers\",\"name\":\"Staten Island\",\"orientation\":\"v\",\"showlegend\":true,\"x\":[70.0,36.0,37.0,37.0,36.0,80.0,75.0,250.0,50.0,125.0,59.0,20.0,110.0],\"xaxis\":\"x\",\"y\":[166.0,193.0,147.0,177.0,333.0,2.0,76.0,21.0,0.0,8.0,50.0,80.0,6.0],\"yaxis\":\"y\",\"type\":\"scatter\"},{\"hovertemplate\":\"\\u003cb\\u003e%{hovertext}\\u003c\\u002fb\\u003e\\u003cbr\\u003e\\u003cbr\\u003emunicipio=Bronx\\u003cbr\\u003eprice=%{x}\\u003cbr\\u003enumber_of_reviews=%{y}\\u003cextra\\u003e\\u003c\\u002fextra\\u003e\",\"hovertext\":[\"Room with a View\",\"Cozy bedroom by Yankee Stadium\",\"LL3\",\"DOMINIQUE'S NY mini efficiency* wifi*metro*quiet\",\"Condo Apartment with laundry in unit\",\"Artsy 1 bedroom Apt. 20 min to 42nd Grand Central!\",\" Affordable & Cozy \",\"A PRIVATE FLAT \\u002f APARTMENT- $SPECIAL$\",\"Yankee Stadium Oasis 2 stops to Manhattan!\",\"Zen Yankee Stadium Pad 5 Minutes To Manhattan!\",\"NY\\u002f Big Room for 2 near Manhattan\",\"Home Away From Home-Room in Bronx\",\"New York City- Riverdale Modern two bedrooms unit\"],\"legendgroup\":\"Bronx\",\"marker\":{\"color\":\"#FFA15A\",\"opacity\":0.5,\"symbol\":\"circle\"},\"mode\":\"markers\",\"name\":\"Bronx\",\"orientation\":\"v\",\"showlegend\":true,\"x\":[40.0,45.0,90.0,105.0,90.0,77.0,37.0,125.0,50.0,50.0,42.0,50.0,120.0],\"xaxis\":\"x\",\"y\":[219.0,138.0,0.0,38.0,4.0,197.0,117.0,271.0,258.0,235.0,108.0,15.0,47.0],\"yaxis\":\"y\",\"type\":\"scatter\"}],                        {\"template\":{\"data\":{\"histogram2dcontour\":[{\"type\":\"histogram2dcontour\",\"colorbar\":{\"outlinewidth\":0,\"ticks\":\"\"},\"colorscale\":[[0.0,\"#0d0887\"],[0.1111111111111111,\"#46039f\"],[0.2222222222222222,\"#7201a8\"],[0.3333333333333333,\"#9c179e\"],[0.4444444444444444,\"#bd3786\"],[0.5555555555555556,\"#d8576b\"],[0.6666666666666666,\"#ed7953\"],[0.7777777777777778,\"#fb9f3a\"],[0.8888888888888888,\"#fdca26\"],[1.0,\"#f0f921\"]]}],\"choropleth\":[{\"type\":\"choropleth\",\"colorbar\":{\"outlinewidth\":0,\"ticks\":\"\"}}],\"histogram2d\":[{\"type\":\"histogram2d\",\"colorbar\":{\"outlinewidth\":0,\"ticks\":\"\"},\"colorscale\":[[0.0,\"#0d0887\"],[0.1111111111111111,\"#46039f\"],[0.2222222222222222,\"#7201a8\"],[0.3333333333333333,\"#9c179e\"],[0.4444444444444444,\"#bd3786\"],[0.5555555555555556,\"#d8576b\"],[0.6666666666666666,\"#ed7953\"],[0.7777777777777778,\"#fb9f3a\"],[0.8888888888888888,\"#fdca26\"],[1.0,\"#f0f921\"]]}],\"heatmap\":[{\"type\":\"heatmap\",\"colorbar\":{\"outlinewidth\":0,\"ticks\":\"\"},\"colorscale\":[[0.0,\"#0d0887\"],[0.1111111111111111,\"#46039f\"],[0.2222222222222222,\"#7201a8\"],[0.3333333333333333,\"#9c179e\"],[0.4444444444444444,\"#bd3786\"],[0.5555555555555556,\"#d8576b\"],[0.6666666666666666,\"#ed7953\"],[0.7777777777777778,\"#fb9f3a\"],[0.8888888888888888,\"#fdca26\"],[1.0,\"#f0f921\"]]}],\"heatmapgl\":[{\"type\":\"heatmapgl\",\"colorbar\":{\"outlinewidth\":0,\"ticks\":\"\"},\"colorscale\":[[0.0,\"#0d0887\"],[0.1111111111111111,\"#46039f\"],[0.2222222222222222,\"#7201a8\"],[0.3333333333333333,\"#9c179e\"],[0.4444444444444444,\"#bd3786\"],[0.5555555555555556,\"#d8576b\"],[0.6666666666666666,\"#ed7953\"],[0.7777777777777778,\"#fb9f3a\"],[0.8888888888888888,\"#fdca26\"],[1.0,\"#f0f921\"]]}],\"contourcarpet\":[{\"type\":\"contourcarpet\",\"colorbar\":{\"outlinewidth\":0,\"ticks\":\"\"}}],\"contour\":[{\"type\":\"contour\",\"colorbar\":{\"outlinewidth\":0,\"ticks\":\"\"},\"colorscale\":[[0.0,\"#0d0887\"],[0.1111111111111111,\"#46039f\"],[0.2222222222222222,\"#7201a8\"],[0.3333333333333333,\"#9c179e\"],[0.4444444444444444,\"#bd3786\"],[0.5555555555555556,\"#d8576b\"],[0.6666666666666666,\"#ed7953\"],[0.7777777777777778,\"#fb9f3a\"],[0.8888888888888888,\"#fdca26\"],[1.0,\"#f0f921\"]]}],\"surface\":[{\"type\":\"surface\",\"colorbar\":{\"outlinewidth\":0,\"ticks\":\"\"},\"colorscale\":[[0.0,\"#0d0887\"],[0.1111111111111111,\"#46039f\"],[0.2222222222222222,\"#7201a8\"],[0.3333333333333333,\"#9c179e\"],[0.4444444444444444,\"#bd3786\"],[0.5555555555555556,\"#d8576b\"],[0.6666666666666666,\"#ed7953\"],[0.7777777777777778,\"#fb9f3a\"],[0.8888888888888888,\"#fdca26\"],[1.0,\"#f0f921\"]]}],\"mesh3d\":[{\"type\":\"mesh3d\",\"colorbar\":{\"outlinewidth\":0,\"ticks\":\"\"}}],\"scatter\":[{\"fillpattern\":{\"fillmode\":\"overlay\",\"size\":10,\"solidity\":0.2},\"type\":\"scatter\"}],\"parcoords\":[{\"type\":\"parcoords\",\"line\":{\"colorbar\":{\"outlinewidth\":0,\"ticks\":\"\"}}}],\"scatterpolargl\":[{\"type\":\"scatterpolargl\",\"marker\":{\"colorbar\":{\"outlinewidth\":0,\"ticks\":\"\"}}}],\"bar\":[{\"error_x\":{\"color\":\"#2a3f5f\"},\"error_y\":{\"color\":\"#2a3f5f\"},\"marker\":{\"line\":{\"color\":\"#E5ECF6\",\"width\":0.5},\"pattern\":{\"fillmode\":\"overlay\",\"size\":10,\"solidity\":0.2}},\"type\":\"bar\"}],\"scattergeo\":[{\"type\":\"scattergeo\",\"marker\":{\"colorbar\":{\"outlinewidth\":0,\"ticks\":\"\"}}}],\"scatterpolar\":[{\"type\":\"scatterpolar\",\"marker\":{\"colorbar\":{\"outlinewidth\":0,\"ticks\":\"\"}}}],\"histogram\":[{\"marker\":{\"pattern\":{\"fillmode\":\"overlay\",\"size\":10,\"solidity\":0.2}},\"type\":\"histogram\"}],\"scattergl\":[{\"type\":\"scattergl\",\"marker\":{\"colorbar\":{\"outlinewidth\":0,\"ticks\":\"\"}}}],\"scatter3d\":[{\"type\":\"scatter3d\",\"line\":{\"colorbar\":{\"outlinewidth\":0,\"ticks\":\"\"}},\"marker\":{\"colorbar\":{\"outlinewidth\":0,\"ticks\":\"\"}}}],\"scattermapbox\":[{\"type\":\"scattermapbox\",\"marker\":{\"colorbar\":{\"outlinewidth\":0,\"ticks\":\"\"}}}],\"scatterternary\":[{\"type\":\"scatterternary\",\"marker\":{\"colorbar\":{\"outlinewidth\":0,\"ticks\":\"\"}}}],\"scattercarpet\":[{\"type\":\"scattercarpet\",\"marker\":{\"colorbar\":{\"outlinewidth\":0,\"ticks\":\"\"}}}],\"carpet\":[{\"aaxis\":{\"endlinecolor\":\"#2a3f5f\",\"gridcolor\":\"white\",\"linecolor\":\"white\",\"minorgridcolor\":\"white\",\"startlinecolor\":\"#2a3f5f\"},\"baxis\":{\"endlinecolor\":\"#2a3f5f\",\"gridcolor\":\"white\",\"linecolor\":\"white\",\"minorgridcolor\":\"white\",\"startlinecolor\":\"#2a3f5f\"},\"type\":\"carpet\"}],\"table\":[{\"cells\":{\"fill\":{\"color\":\"#EBF0F8\"},\"line\":{\"color\":\"white\"}},\"header\":{\"fill\":{\"color\":\"#C8D4E3\"},\"line\":{\"color\":\"white\"}},\"type\":\"table\"}],\"barpolar\":[{\"marker\":{\"line\":{\"color\":\"#E5ECF6\",\"width\":0.5},\"pattern\":{\"fillmode\":\"overlay\",\"size\":10,\"solidity\":0.2}},\"type\":\"barpolar\"}],\"pie\":[{\"automargin\":true,\"type\":\"pie\"}]},\"layout\":{\"autotypenumbers\":\"strict\",\"colorway\":[\"#636efa\",\"#EF553B\",\"#00cc96\",\"#ab63fa\",\"#FFA15A\",\"#19d3f3\",\"#FF6692\",\"#B6E880\",\"#FF97FF\",\"#FECB52\"],\"font\":{\"color\":\"#2a3f5f\"},\"hovermode\":\"closest\",\"hoverlabel\":{\"align\":\"left\"},\"paper_bgcolor\":\"white\",\"plot_bgcolor\":\"#E5ECF6\",\"polar\":{\"bgcolor\":\"#E5ECF6\",\"angularaxis\":{\"gridcolor\":\"white\",\"linecolor\":\"white\",\"ticks\":\"\"},\"radialaxis\":{\"gridcolor\":\"white\",\"linecolor\":\"white\",\"ticks\":\"\"}},\"ternary\":{\"bgcolor\":\"#E5ECF6\",\"aaxis\":{\"gridcolor\":\"white\",\"linecolor\":\"white\",\"ticks\":\"\"},\"baxis\":{\"gridcolor\":\"white\",\"linecolor\":\"white\",\"ticks\":\"\"},\"caxis\":{\"gridcolor\":\"white\",\"linecolor\":\"white\",\"ticks\":\"\"}},\"coloraxis\":{\"colorbar\":{\"outlinewidth\":0,\"ticks\":\"\"}},\"colorscale\":{\"sequential\":[[0.0,\"#0d0887\"],[0.1111111111111111,\"#46039f\"],[0.2222222222222222,\"#7201a8\"],[0.3333333333333333,\"#9c179e\"],[0.4444444444444444,\"#bd3786\"],[0.5555555555555556,\"#d8576b\"],[0.6666666666666666,\"#ed7953\"],[0.7777777777777778,\"#fb9f3a\"],[0.8888888888888888,\"#fdca26\"],[1.0,\"#f0f921\"]],\"sequentialminus\":[[0.0,\"#0d0887\"],[0.1111111111111111,\"#46039f\"],[0.2222222222222222,\"#7201a8\"],[0.3333333333333333,\"#9c179e\"],[0.4444444444444444,\"#bd3786\"],[0.5555555555555556,\"#d8576b\"],[0.6666666666666666,\"#ed7953\"],[0.7777777777777778,\"#fb9f3a\"],[0.8888888888888888,\"#fdca26\"],[1.0,\"#f0f921\"]],\"diverging\":[[0,\"#8e0152\"],[0.1,\"#c51b7d\"],[0.2,\"#de77ae\"],[0.3,\"#f1b6da\"],[0.4,\"#fde0ef\"],[0.5,\"#f7f7f7\"],[0.6,\"#e6f5d0\"],[0.7,\"#b8e186\"],[0.8,\"#7fbc41\"],[0.9,\"#4d9221\"],[1,\"#276419\"]]},\"xaxis\":{\"gridcolor\":\"white\",\"linecolor\":\"white\",\"ticks\":\"\",\"title\":{\"standoff\":15},\"zerolinecolor\":\"white\",\"automargin\":true,\"zerolinewidth\":2},\"yaxis\":{\"gridcolor\":\"white\",\"linecolor\":\"white\",\"ticks\":\"\",\"title\":{\"standoff\":15},\"zerolinecolor\":\"white\",\"automargin\":true,\"zerolinewidth\":2},\"scene\":{\"xaxis\":{\"backgroundcolor\":\"#E5ECF6\",\"gridcolor\":\"white\",\"linecolor\":\"white\",\"showbackground\":true,\"ticks\":\"\",\"zerolinecolor\":\"white\",\"gridwidth\":2},\"yaxis\":{\"backgroundcolor\":\"#E5ECF6\",\"gridcolor\":\"white\",\"linecolor\":\"white\",\"showbackground\":true,\"ticks\":\"\",\"zerolinecolor\":\"white\",\"gridwidth\":2},\"zaxis\":{\"backgroundcolor\":\"#E5ECF6\",\"gridcolor\":\"white\",\"linecolor\":\"white\",\"showbackground\":true,\"ticks\":\"\",\"zerolinecolor\":\"white\",\"gridwidth\":2}},\"shapedefaults\":{\"line\":{\"color\":\"#2a3f5f\"}},\"annotationdefaults\":{\"arrowcolor\":\"#2a3f5f\",\"arrowhead\":0,\"arrowwidth\":1},\"geo\":{\"bgcolor\":\"white\",\"landcolor\":\"#E5ECF6\",\"subunitcolor\":\"white\",\"showland\":true,\"showlakes\":true,\"lakecolor\":\"white\"},\"title\":{\"x\":0.05},\"mapbox\":{\"style\":\"light\"}}},\"xaxis\":{\"anchor\":\"y\",\"domain\":[0.0,1.0],\"title\":{\"text\":\"price\"}},\"yaxis\":{\"anchor\":\"x\",\"domain\":[0.0,1.0],\"title\":{\"text\":\"number_of_reviews\"}},\"legend\":{\"title\":{\"text\":\"municipio\"},\"tracegroupgap\":0},\"margin\":{\"t\":60}},                        {\"responsive\": true}                    )                };                            </script>        </div>"
      ],
      "text/plain": [
       "Figure({\n",
       "    'data': [{'hovertemplate': ('<b>%{hovertext}</b><br><br>mun' ... 'of_reviews=%{y}<extra></extra>'),\n",
       "              'hovertext': array(['Clean & quiet apt home by the park', 'Cozy Entire Floor of Brownstone',\n",
       "                                  'BlissArtsSpace!', ...,\n",
       "                                  'Bright Brooklyn Flat w/Park Views, 30 day minimum',\n",
       "                                  'ECO-APT, free YOGA, 2 new bedrooms. Best location!',\n",
       "                                  'ARTIST LOFT+OFFICE in PRIME WILLIAMSBURG!'], dtype=object),\n",
       "              'legendgroup': 'Brooklyn',\n",
       "              'marker': {'color': '#636efa', 'opacity': 0.5, 'symbol': 'circle'},\n",
       "              'mode': 'markers',\n",
       "              'name': 'Brooklyn',\n",
       "              'orientation': 'v',\n",
       "              'showlegend': True,\n",
       "              'type': 'scatter',\n",
       "              'x': array([149.,  89.,  60., ...,  90., 298., 123.]),\n",
       "              'xaxis': 'x',\n",
       "              'y': array([  9., 270.,  49., ...,  32., 131., 269.]),\n",
       "              'yaxis': 'y'},\n",
       "             {'hovertemplate': ('<b>%{hovertext}</b><br><br>mun' ... 'of_reviews=%{y}<extra></extra>'),\n",
       "              'hovertext': array(['Skylit Midtown Castle', 'THE VILLAGE OF HARLEM....NEW YORK !',\n",
       "                                  'Entire Apt: Spacious Studio/Loft by central park', ...,\n",
       "                                  'Large Private Room Near Central Park & Mount Sinai',\n",
       "                                  'Luxury room in Manhattan Duplex Apt',\n",
       "                                  'Gorgeous Sunny, Spacious 1 bdrm in East Village'], dtype=object),\n",
       "              'legendgroup': 'Manhattan',\n",
       "              'marker': {'color': '#EF553B', 'opacity': 0.5, 'symbol': 'circle'},\n",
       "              'mode': 'markers',\n",
       "              'name': 'Manhattan',\n",
       "              'orientation': 'v',\n",
       "              'showlegend': True,\n",
       "              'type': 'scatter',\n",
       "              'x': array([225., 150.,  80., ..., 125., 145., 147.]),\n",
       "              'xaxis': 'x',\n",
       "              'y': array([ 45.,   0.,   9., ...,  74., 165.,  16.]),\n",
       "              'yaxis': 'y'},\n",
       "             {'hovertemplate': ('<b>%{hovertext}</b><br><br>mun' ... 'of_reviews=%{y}<extra></extra>'),\n",
       "              'hovertext': array(['1 Stop fr. Manhattan! Private Suite,Landmark Block',\n",
       "                                  'Little King of Queens', 'Fully Furnished Basement Apartment',\n",
       "                                  'A room w/ a Manhattan view, longer stay',\n",
       "                                  'Beautiful Queens Brownstone! - 5BR', '( F) Excellent/Pvt Rm',\n",
       "                                  'cozy studio with parking spot', 'Clean and convenient 2BR apartment',\n",
       "                                  '3 floors of luxury!', 'Elegant NYC Pad',\n",
       "                                  'Nice, clean, safe, convenient 3BR',\n",
       "                                  'Safe cute near subway& Manhattan NY NY retro style',\n",
       "                                  'One Bedroom Mini studio - Free WIFI',\n",
       "                                  'Modern, Safe, Clean, Bright Room in Astoria for 2', 'Bienvenue',\n",
       "                                  'Oceanfront Apartment in Rockaway', '1 BDRM Apt-Weekend Sublease',\n",
       "                                  'Forest Hills Apt minutes to midtown Manhattan',\n",
       "                                  'Astoria-Private Home NYC-', 'Female Only Clean15min to Manhattan',\n",
       "                                  'Sunny 15min to Manhattan LADY only', 'Lady only Curtain-divided room',\n",
       "                                  'Ultra Modern NYC Garden Apartment', 'Modern Garden Apartment in NYC',\n",
       "                                  'Spacious, Kid-Friendly, and 15-20 Mins. to Midtown',\n",
       "                                  'Sunnyside NYC/ AC room/ city views/ near Midtown',\n",
       "                                  'Modern Unique Studio in NYC', 'rooms for rent in Queens with piano',\n",
       "                                  'Private Room With GREAT Location', 'Astoria Garden Suite',\n",
       "                                  'Quality Cozy Studio Next to Subway',\n",
       "                                  'Read it 1st, A seprat fur BR, low $',\n",
       "                                  'Entire apt NYC, Queens. 15 min from Times Square.',\n",
       "                                  'My Home Is Your Home', 'City Skyline Views from every room!',\n",
       "                                  'Large Sunny Bedroom in QNS NYC', 'One stop from Midtown Manhattan!',\n",
       "                                  'Cozy New York  City private room',\n",
       "                                  'Large Room in a Huge NY apartment.', '2 Rooms in Cottage NYC',\n",
       "                                  'Entire Apartment in Astoria, 15mins from Manhattan',\n",
       "                                  'NYC Summer Getaway | Full Home 2BR',\n",
       "                                  'Nice Private Room Beauty in Queens',\n",
       "                                  'Charming Ridgewood Soulful  Walk-Up', 'Quaint & Quiet in Queens',\n",
       "                                  'Single Room', 'Beautiful Bedrooms in Briarwood, NY'], dtype=object),\n",
       "              'legendgroup': 'Queens',\n",
       "              'marker': {'color': '#00cc96', 'opacity': 0.5, 'symbol': 'circle'},\n",
       "              'mode': 'markers',\n",
       "              'name': 'Queens',\n",
       "              'orientation': 'v',\n",
       "              'showlegend': True,\n",
       "              'type': 'scatter',\n",
       "              'x': array([130.,  70., 140.,  79., 350.,  55.,  98., 140., 265., 140., 140.,  99.,\n",
       "                          115.,  80.,  50.,  70., 110.,  97., 129.,  42.,  42.,  33., 107.,  95.,\n",
       "                           75.,  50.,  95.,  55.,  75.,  75.,  79.,  54.,  80.,  75.,  73.,  55.,\n",
       "                           96.,  85.,  30.,  65.,  70., 192.,  55.,  52.,  75.,  45.,  75.]),\n",
       "              'xaxis': 'x',\n",
       "              'y': array([248.,  25.,   1.,  28.,  10.,  52.,  33.,   6.,  38.,  17.,   1., 441.,\n",
       "                          198.,  42.,  43.,  13.,  30.,  28., 414.,  53.,  41.,  31.,  21.,  24.,\n",
       "                          160., 258.,  24.,  19.,  65.,  49.,  60.,  56.,  81.,  20.,  95.,  38.,\n",
       "                          244., 270.,   3.,   5.,   1.,   7.,  63.,  98.,  59.,   8.,  16.]),\n",
       "              'yaxis': 'y'},\n",
       "             {'hovertemplate': ('<b>%{hovertext}</b><br><br>mun' ... 'of_reviews=%{y}<extra></extra>'),\n",
       "              'hovertext': array(['New York room with a view', 'A SpeciaL!! Private Room in NY',\n",
       "                                  'B NYC Staten Alternative...', 'C Private Room By The Ferry',\n",
       "                                  'D Private Che@p Room 2 Explore NYC',\n",
       "                                  'New Clean Spacious Bed & Breakfast',\n",
       "                                  'Sunny cozy multileveled apartment!', 'Oceanview,close to Manhattan',\n",
       "                                  'Affordable rooms,all transportation',\n",
       "                                  'Budget stay, near transportation',\n",
       "                                  \"Private Room in Artist's Home, Stapleton, SI\",\n",
       "                                  'Enjoy Staten Island Hospitality', 'A PLACE TO STAY CLOSE TO MANHATTAN'],\n",
       "                                 dtype=object),\n",
       "              'legendgroup': 'Staten Island',\n",
       "              'marker': {'color': '#ab63fa', 'opacity': 0.5, 'symbol': 'circle'},\n",
       "              'mode': 'markers',\n",
       "              'name': 'Staten Island',\n",
       "              'orientation': 'v',\n",
       "              'showlegend': True,\n",
       "              'type': 'scatter',\n",
       "              'x': array([ 70.,  36.,  37.,  37.,  36.,  80.,  75., 250.,  50., 125.,  59.,  20.,\n",
       "                          110.]),\n",
       "              'xaxis': 'x',\n",
       "              'y': array([166., 193., 147., 177., 333.,   2.,  76.,  21.,   0.,   8.,  50.,  80.,\n",
       "                            6.]),\n",
       "              'yaxis': 'y'},\n",
       "             {'hovertemplate': ('<b>%{hovertext}</b><br><br>mun' ... 'of_reviews=%{y}<extra></extra>'),\n",
       "              'hovertext': array(['Room with a View', 'Cozy bedroom by Yankee Stadium', 'LL3',\n",
       "                                  \"DOMINIQUE'S NY mini efficiency* wifi*metro*quiet\",\n",
       "                                  'Condo Apartment with laundry in unit',\n",
       "                                  'Artsy 1 bedroom Apt. 20 min to 42nd Grand Central!',\n",
       "                                  ' Affordable & Cozy ', 'A PRIVATE FLAT / APARTMENT- $SPECIAL$',\n",
       "                                  'Yankee Stadium Oasis 2 stops to Manhattan!',\n",
       "                                  'Zen Yankee Stadium Pad 5 Minutes To Manhattan!',\n",
       "                                  'NY/ Big Room for 2 near Manhattan',\n",
       "                                  'Home Away From Home-Room in Bronx',\n",
       "                                  'New York City- Riverdale Modern two bedrooms unit'], dtype=object),\n",
       "              'legendgroup': 'Bronx',\n",
       "              'marker': {'color': '#FFA15A', 'opacity': 0.5, 'symbol': 'circle'},\n",
       "              'mode': 'markers',\n",
       "              'name': 'Bronx',\n",
       "              'orientation': 'v',\n",
       "              'showlegend': True,\n",
       "              'type': 'scatter',\n",
       "              'x': array([ 40.,  45.,  90., 105.,  90.,  77.,  37., 125.,  50.,  50.,  42.,  50.,\n",
       "                          120.]),\n",
       "              'xaxis': 'x',\n",
       "              'y': array([219., 138.,   0.,  38.,   4., 197., 117., 271., 258., 235., 108.,  15.,\n",
       "                           47.]),\n",
       "              'yaxis': 'y'}],\n",
       "    'layout': {'legend': {'title': {'text': 'municipio'}, 'tracegroupgap': 0},\n",
       "               'margin': {'t': 60},\n",
       "               'template': '...',\n",
       "               'xaxis': {'anchor': 'y', 'domain': [0.0, 1.0], 'title': {'text': 'price'}},\n",
       "               'yaxis': {'anchor': 'x', 'domain': [0.0, 1.0], 'title': {'text': 'number_of_reviews'}}}\n",
       "})"
      ]
     },
     "execution_count": 20,
     "metadata": {},
     "output_type": "execute_result"
    }
   ],
   "source": [
    "# Airbnb\n",
    "\n",
    "px.scatter(data_frame  = df_airbnb.iloc[:1000, :],\n",
    "           x           = \"price\",\n",
    "           y           = \"number_of_reviews\",\n",
    "           color       = \"municipio\",\n",
    "           hover_name  = \"name\",\n",
    "           width       = None,\n",
    "           height      = None,\n",
    "           opacity     = 0.5)"
   ]
  },
  {
   "cell_type": "code",
   "execution_count": null,
   "id": "a0c767ec",
   "metadata": {},
   "outputs": [],
   "source": [
    "# Airbnb - Bubble chart\n",
    "\n",
    "px.scatter(data_frame  = df_airbnb.iloc[:100, :],\n",
    "           x           = \"price\",\n",
    "           y           = \"availability_365\",\n",
    "           color       = \"municipio\",\n",
    "           hover_name  = \"name\",\n",
    "           opacity     = 0.5,\n",
    "           size        = \"number_of_reviews\")"
   ]
  },
  {
   "cell_type": "code",
   "execution_count": null,
   "id": "f1ed4976",
   "metadata": {},
   "outputs": [],
   "source": [
    "# Titanic - Bubble Chart\n",
    "\n",
    "df_titanic[\"Survived_2\"] = df_titanic[\"Survived\"].apply(lambda x : \"Yes\" if x == 1 else \"No\")\n",
    "\n",
    "px.scatter(data_frame  = df_titanic,\n",
    "           x           = \"Fare\",\n",
    "           y           = \"Age\",\n",
    "           hover_name  = \"Name\",\n",
    "#            color       = \"Survived\",\n",
    "           color       = \"Survived_2\",\n",
    "           size        = \"Fare\",\n",
    "           size_max    = 20)"
   ]
  },
  {
   "cell_type": "code",
   "execution_count": null,
   "id": "f8cdf209",
   "metadata": {},
   "outputs": [],
   "source": [
    "# Iris\n",
    "\n",
    "px.scatter(data_frame = df_iris,\n",
    "           x          = \"Largo Sepalo\",\n",
    "           y          = \"Largo Petalo\",\n",
    "           color      = \"Clase\",\n",
    "           hover_name = \"Clase\",\n",
    "           opacity    = 0.5,\n",
    "           template = \"plotly_dark\")"
   ]
  },
  {
   "cell_type": "code",
   "execution_count": null,
   "id": "feea65dc",
   "metadata": {},
   "outputs": [],
   "source": [
    "# Airbnb\n",
    "\n",
    "px.scatter(data_frame = df_airbnb.iloc[:100, :],\n",
    "           x          = \"price\",\n",
    "           y          = \"reviews_per_month\",\n",
    "           color      = \"municipio\",\n",
    "           symbol     = \"room_type\",\n",
    "           opacity    = 0.5,\n",
    "           hover_name = \"name\",\n",
    "           title      = \"price vs. reviews_per_month\")"
   ]
  },
  {
   "cell_type": "markdown",
   "id": "d03a7f3b",
   "metadata": {},
   "source": [
    "#### Box Plot\n",
    "**`px.box()`**"
   ]
  },
  {
   "cell_type": "code",
   "execution_count": null,
   "id": "1200e754",
   "metadata": {},
   "outputs": [],
   "source": [
    "# Pokemon\n",
    "px.box(data_frame = df_pokemon,\n",
    "       x          = \"Legendary\",\n",
    "       y          = \"Attack\",\n",
    "#        color      = \"Type 1\",\n",
    "#        facet_col  = \"Generation\",\n",
    "       points     = \"suspectedoutliers\",\n",
    "       hover_name = \"Name\"\n",
    "      )\n",
    "\n",
    "# points : 'outliers', 'suspectedoutliers', 'all', False"
   ]
  },
  {
   "cell_type": "markdown",
   "id": "a9d8c0eb",
   "metadata": {},
   "source": [
    "#### Violin Plot\n",
    "**`px.violin()`**"
   ]
  },
  {
   "cell_type": "code",
   "execution_count": null,
   "id": "7cb645d7",
   "metadata": {
    "scrolled": false
   },
   "outputs": [],
   "source": [
    "# Pokemon\n",
    "\n",
    "px.violin(data_frame = df_pokemon,\n",
    "          x          = \"Legendary\",\n",
    "          y          = \"Attack\",\n",
    "#           color      = \"Type 1\",\n",
    "#           facet_col  = \"Generation\",\n",
    "          hover_name = \"Name\")"
   ]
  },
  {
   "cell_type": "markdown",
   "id": "cc7edb28",
   "metadata": {},
   "source": [
    "#### Pie Plot\n",
    "**`px.pie()`**"
   ]
  },
  {
   "cell_type": "code",
   "execution_count": null,
   "id": "3ab7c515",
   "metadata": {},
   "outputs": [],
   "source": [
    "# Pokemon\n",
    "\n",
    "px.pie(data_frame = df_pokemon,\n",
    "       names      = \"Type 1\",\n",
    "       values     = \"Total\")"
   ]
  },
  {
   "cell_type": "code",
   "execution_count": null,
   "id": "6077ae18",
   "metadata": {},
   "outputs": [],
   "source": [
    "# Pokemon\n",
    "\n",
    "px.pie(data_frame = df_pokemon,\n",
    "       names      = \"Type 2\",\n",
    "       values     = \"Total\",\n",
    "       hole       = 0.5)"
   ]
  },
  {
   "cell_type": "markdown",
   "id": "81f30ab9",
   "metadata": {},
   "source": [
    "#### Heatmap Plot\n",
    "**`px.imshow()`**"
   ]
  },
  {
   "cell_type": "code",
   "execution_count": 22,
   "id": "fe1163ad",
   "metadata": {},
   "outputs": [
    {
     "ename": "ValueError",
     "evalue": "Mime type rendering requires nbformat>=4.2.0 but it is not installed",
     "output_type": "error",
     "traceback": [
      "\u001b[1;31m---------------------------------------------------------------------------\u001b[0m",
      "\u001b[1;31mValueError\u001b[0m                                Traceback (most recent call last)",
      "File \u001b[1;32m~\\AppData\\Roaming\\Python\\Python312\\site-packages\\IPython\\core\\formatters.py:922\u001b[0m, in \u001b[0;36mIPythonDisplayFormatter.__call__\u001b[1;34m(self, obj)\u001b[0m\n\u001b[0;32m    920\u001b[0m method \u001b[38;5;241m=\u001b[39m get_real_method(obj, \u001b[38;5;28mself\u001b[39m\u001b[38;5;241m.\u001b[39mprint_method)\n\u001b[0;32m    921\u001b[0m \u001b[38;5;28;01mif\u001b[39;00m method \u001b[38;5;129;01mis\u001b[39;00m \u001b[38;5;129;01mnot\u001b[39;00m \u001b[38;5;28;01mNone\u001b[39;00m:\n\u001b[1;32m--> 922\u001b[0m     \u001b[43mmethod\u001b[49m\u001b[43m(\u001b[49m\u001b[43m)\u001b[49m\n\u001b[0;32m    923\u001b[0m     \u001b[38;5;28;01mreturn\u001b[39;00m \u001b[38;5;28;01mTrue\u001b[39;00m\n",
      "File \u001b[1;32mc:\\Users\\fran\\AppData\\Local\\Programs\\Python\\Python312\\Lib\\site-packages\\plotly\\basedatatypes.py:832\u001b[0m, in \u001b[0;36mBaseFigure._ipython_display_\u001b[1;34m(self)\u001b[0m\n\u001b[0;32m    829\u001b[0m \u001b[38;5;28;01mimport\u001b[39;00m \u001b[38;5;21;01mplotly\u001b[39;00m\u001b[38;5;21;01m.\u001b[39;00m\u001b[38;5;21;01mio\u001b[39;00m \u001b[38;5;28;01mas\u001b[39;00m \u001b[38;5;21;01mpio\u001b[39;00m\n\u001b[0;32m    831\u001b[0m \u001b[38;5;28;01mif\u001b[39;00m pio\u001b[38;5;241m.\u001b[39mrenderers\u001b[38;5;241m.\u001b[39mrender_on_display \u001b[38;5;129;01mand\u001b[39;00m pio\u001b[38;5;241m.\u001b[39mrenderers\u001b[38;5;241m.\u001b[39mdefault:\n\u001b[1;32m--> 832\u001b[0m     \u001b[43mpio\u001b[49m\u001b[38;5;241;43m.\u001b[39;49m\u001b[43mshow\u001b[49m\u001b[43m(\u001b[49m\u001b[38;5;28;43mself\u001b[39;49m\u001b[43m)\u001b[49m\n\u001b[0;32m    833\u001b[0m \u001b[38;5;28;01melse\u001b[39;00m:\n\u001b[0;32m    834\u001b[0m     \u001b[38;5;28mprint\u001b[39m(\u001b[38;5;28mrepr\u001b[39m(\u001b[38;5;28mself\u001b[39m))\n",
      "File \u001b[1;32mc:\\Users\\fran\\AppData\\Local\\Programs\\Python\\Python312\\Lib\\site-packages\\plotly\\io\\_renderers.py:394\u001b[0m, in \u001b[0;36mshow\u001b[1;34m(fig, renderer, validate, **kwargs)\u001b[0m\n\u001b[0;32m    389\u001b[0m         \u001b[38;5;28;01mraise\u001b[39;00m \u001b[38;5;167;01mValueError\u001b[39;00m(\n\u001b[0;32m    390\u001b[0m             \u001b[38;5;124m\"\u001b[39m\u001b[38;5;124mMime type rendering requires ipython but it is not installed\u001b[39m\u001b[38;5;124m\"\u001b[39m\n\u001b[0;32m    391\u001b[0m         )\n\u001b[0;32m    393\u001b[0m     \u001b[38;5;28;01mif\u001b[39;00m \u001b[38;5;129;01mnot\u001b[39;00m nbformat \u001b[38;5;129;01mor\u001b[39;00m Version(nbformat\u001b[38;5;241m.\u001b[39m__version__) \u001b[38;5;241m<\u001b[39m Version(\u001b[38;5;124m\"\u001b[39m\u001b[38;5;124m4.2.0\u001b[39m\u001b[38;5;124m\"\u001b[39m):\n\u001b[1;32m--> 394\u001b[0m         \u001b[38;5;28;01mraise\u001b[39;00m \u001b[38;5;167;01mValueError\u001b[39;00m(\n\u001b[0;32m    395\u001b[0m             \u001b[38;5;124m\"\u001b[39m\u001b[38;5;124mMime type rendering requires nbformat>=4.2.0 but it is not installed\u001b[39m\u001b[38;5;124m\"\u001b[39m\n\u001b[0;32m    396\u001b[0m         )\n\u001b[0;32m    398\u001b[0m     ipython_display\u001b[38;5;241m.\u001b[39mdisplay(bundle, raw\u001b[38;5;241m=\u001b[39m\u001b[38;5;28;01mTrue\u001b[39;00m)\n\u001b[0;32m    400\u001b[0m \u001b[38;5;66;03m# external renderers\u001b[39;00m\n",
      "\u001b[1;31mValueError\u001b[0m: Mime type rendering requires nbformat>=4.2.0 but it is not installed"
     ]
    },
    {
     "data": {
      "application/vnd.plotly.v1+json": {
       "config": {
        "plotlyServerURL": "https://plot.ly"
       },
       "data": [
        {
         "coloraxis": "coloraxis",
         "hovertemplate": "x: %{x}<br>y: %{y}<br>color: %{z}<extra></extra>",
         "name": "0",
         "texttemplate": "%{z}",
         "type": "heatmap",
         "x": [
          "HP",
          "Attack",
          "Defense",
          "Sp. Atk",
          "Sp. Def",
          "Speed"
         ],
         "xaxis": "x",
         "y": [
          "HP",
          "Attack",
          "Defense",
          "Sp. Atk",
          "Sp. Def",
          "Speed"
         ],
         "yaxis": "y",
         "z": [
          [
           1,
           0.4223860287762229,
           0.23962231884672594,
           0.36237985740715567,
           0.3787180686125631,
           0.17595206187898577
          ],
          [
           0.4223860287762229,
           1,
           0.4386870551184902,
           0.3963617553492322,
           0.26398955110108824,
           0.3812397392410898
          ],
          [
           0.23962231884672594,
           0.4386870551184902,
           1,
           0.22354860947242255,
           0.5107465890885571,
           0.01522659808859742
          ],
          [
           0.36237985740715567,
           0.3963617553492322,
           0.22354860947242255,
           1,
           0.5061214206155485,
           0.47301788366869885
          ],
          [
           0.3787180686125631,
           0.26398955110108824,
           0.5107465890885571,
           0.5061214206155485,
           1,
           0.25913311391680766
          ],
          [
           0.17595206187898577,
           0.3812397392410898,
           0.01522659808859742,
           0.47301788366869885,
           0.25913311391680766,
           1
          ]
         ]
        }
       ],
       "layout": {
        "coloraxis": {
         "colorscale": [
          [
           0,
           "#0d0887"
          ],
          [
           0.1111111111111111,
           "#46039f"
          ],
          [
           0.2222222222222222,
           "#7201a8"
          ],
          [
           0.3333333333333333,
           "#9c179e"
          ],
          [
           0.4444444444444444,
           "#bd3786"
          ],
          [
           0.5555555555555556,
           "#d8576b"
          ],
          [
           0.6666666666666666,
           "#ed7953"
          ],
          [
           0.7777777777777778,
           "#fb9f3a"
          ],
          [
           0.8888888888888888,
           "#fdca26"
          ],
          [
           1,
           "#f0f921"
          ]
         ]
        },
        "margin": {
         "t": 60
        },
        "template": {
         "data": {
          "bar": [
           {
            "error_x": {
             "color": "#2a3f5f"
            },
            "error_y": {
             "color": "#2a3f5f"
            },
            "marker": {
             "line": {
              "color": "#E5ECF6",
              "width": 0.5
             },
             "pattern": {
              "fillmode": "overlay",
              "size": 10,
              "solidity": 0.2
             }
            },
            "type": "bar"
           }
          ],
          "barpolar": [
           {
            "marker": {
             "line": {
              "color": "#E5ECF6",
              "width": 0.5
             },
             "pattern": {
              "fillmode": "overlay",
              "size": 10,
              "solidity": 0.2
             }
            },
            "type": "barpolar"
           }
          ],
          "carpet": [
           {
            "aaxis": {
             "endlinecolor": "#2a3f5f",
             "gridcolor": "white",
             "linecolor": "white",
             "minorgridcolor": "white",
             "startlinecolor": "#2a3f5f"
            },
            "baxis": {
             "endlinecolor": "#2a3f5f",
             "gridcolor": "white",
             "linecolor": "white",
             "minorgridcolor": "white",
             "startlinecolor": "#2a3f5f"
            },
            "type": "carpet"
           }
          ],
          "choropleth": [
           {
            "colorbar": {
             "outlinewidth": 0,
             "ticks": ""
            },
            "type": "choropleth"
           }
          ],
          "contour": [
           {
            "colorbar": {
             "outlinewidth": 0,
             "ticks": ""
            },
            "colorscale": [
             [
              0,
              "#0d0887"
             ],
             [
              0.1111111111111111,
              "#46039f"
             ],
             [
              0.2222222222222222,
              "#7201a8"
             ],
             [
              0.3333333333333333,
              "#9c179e"
             ],
             [
              0.4444444444444444,
              "#bd3786"
             ],
             [
              0.5555555555555556,
              "#d8576b"
             ],
             [
              0.6666666666666666,
              "#ed7953"
             ],
             [
              0.7777777777777778,
              "#fb9f3a"
             ],
             [
              0.8888888888888888,
              "#fdca26"
             ],
             [
              1,
              "#f0f921"
             ]
            ],
            "type": "contour"
           }
          ],
          "contourcarpet": [
           {
            "colorbar": {
             "outlinewidth": 0,
             "ticks": ""
            },
            "type": "contourcarpet"
           }
          ],
          "heatmap": [
           {
            "colorbar": {
             "outlinewidth": 0,
             "ticks": ""
            },
            "colorscale": [
             [
              0,
              "#0d0887"
             ],
             [
              0.1111111111111111,
              "#46039f"
             ],
             [
              0.2222222222222222,
              "#7201a8"
             ],
             [
              0.3333333333333333,
              "#9c179e"
             ],
             [
              0.4444444444444444,
              "#bd3786"
             ],
             [
              0.5555555555555556,
              "#d8576b"
             ],
             [
              0.6666666666666666,
              "#ed7953"
             ],
             [
              0.7777777777777778,
              "#fb9f3a"
             ],
             [
              0.8888888888888888,
              "#fdca26"
             ],
             [
              1,
              "#f0f921"
             ]
            ],
            "type": "heatmap"
           }
          ],
          "heatmapgl": [
           {
            "colorbar": {
             "outlinewidth": 0,
             "ticks": ""
            },
            "colorscale": [
             [
              0,
              "#0d0887"
             ],
             [
              0.1111111111111111,
              "#46039f"
             ],
             [
              0.2222222222222222,
              "#7201a8"
             ],
             [
              0.3333333333333333,
              "#9c179e"
             ],
             [
              0.4444444444444444,
              "#bd3786"
             ],
             [
              0.5555555555555556,
              "#d8576b"
             ],
             [
              0.6666666666666666,
              "#ed7953"
             ],
             [
              0.7777777777777778,
              "#fb9f3a"
             ],
             [
              0.8888888888888888,
              "#fdca26"
             ],
             [
              1,
              "#f0f921"
             ]
            ],
            "type": "heatmapgl"
           }
          ],
          "histogram": [
           {
            "marker": {
             "pattern": {
              "fillmode": "overlay",
              "size": 10,
              "solidity": 0.2
             }
            },
            "type": "histogram"
           }
          ],
          "histogram2d": [
           {
            "colorbar": {
             "outlinewidth": 0,
             "ticks": ""
            },
            "colorscale": [
             [
              0,
              "#0d0887"
             ],
             [
              0.1111111111111111,
              "#46039f"
             ],
             [
              0.2222222222222222,
              "#7201a8"
             ],
             [
              0.3333333333333333,
              "#9c179e"
             ],
             [
              0.4444444444444444,
              "#bd3786"
             ],
             [
              0.5555555555555556,
              "#d8576b"
             ],
             [
              0.6666666666666666,
              "#ed7953"
             ],
             [
              0.7777777777777778,
              "#fb9f3a"
             ],
             [
              0.8888888888888888,
              "#fdca26"
             ],
             [
              1,
              "#f0f921"
             ]
            ],
            "type": "histogram2d"
           }
          ],
          "histogram2dcontour": [
           {
            "colorbar": {
             "outlinewidth": 0,
             "ticks": ""
            },
            "colorscale": [
             [
              0,
              "#0d0887"
             ],
             [
              0.1111111111111111,
              "#46039f"
             ],
             [
              0.2222222222222222,
              "#7201a8"
             ],
             [
              0.3333333333333333,
              "#9c179e"
             ],
             [
              0.4444444444444444,
              "#bd3786"
             ],
             [
              0.5555555555555556,
              "#d8576b"
             ],
             [
              0.6666666666666666,
              "#ed7953"
             ],
             [
              0.7777777777777778,
              "#fb9f3a"
             ],
             [
              0.8888888888888888,
              "#fdca26"
             ],
             [
              1,
              "#f0f921"
             ]
            ],
            "type": "histogram2dcontour"
           }
          ],
          "mesh3d": [
           {
            "colorbar": {
             "outlinewidth": 0,
             "ticks": ""
            },
            "type": "mesh3d"
           }
          ],
          "parcoords": [
           {
            "line": {
             "colorbar": {
              "outlinewidth": 0,
              "ticks": ""
             }
            },
            "type": "parcoords"
           }
          ],
          "pie": [
           {
            "automargin": true,
            "type": "pie"
           }
          ],
          "scatter": [
           {
            "fillpattern": {
             "fillmode": "overlay",
             "size": 10,
             "solidity": 0.2
            },
            "type": "scatter"
           }
          ],
          "scatter3d": [
           {
            "line": {
             "colorbar": {
              "outlinewidth": 0,
              "ticks": ""
             }
            },
            "marker": {
             "colorbar": {
              "outlinewidth": 0,
              "ticks": ""
             }
            },
            "type": "scatter3d"
           }
          ],
          "scattercarpet": [
           {
            "marker": {
             "colorbar": {
              "outlinewidth": 0,
              "ticks": ""
             }
            },
            "type": "scattercarpet"
           }
          ],
          "scattergeo": [
           {
            "marker": {
             "colorbar": {
              "outlinewidth": 0,
              "ticks": ""
             }
            },
            "type": "scattergeo"
           }
          ],
          "scattergl": [
           {
            "marker": {
             "colorbar": {
              "outlinewidth": 0,
              "ticks": ""
             }
            },
            "type": "scattergl"
           }
          ],
          "scattermapbox": [
           {
            "marker": {
             "colorbar": {
              "outlinewidth": 0,
              "ticks": ""
             }
            },
            "type": "scattermapbox"
           }
          ],
          "scatterpolar": [
           {
            "marker": {
             "colorbar": {
              "outlinewidth": 0,
              "ticks": ""
             }
            },
            "type": "scatterpolar"
           }
          ],
          "scatterpolargl": [
           {
            "marker": {
             "colorbar": {
              "outlinewidth": 0,
              "ticks": ""
             }
            },
            "type": "scatterpolargl"
           }
          ],
          "scatterternary": [
           {
            "marker": {
             "colorbar": {
              "outlinewidth": 0,
              "ticks": ""
             }
            },
            "type": "scatterternary"
           }
          ],
          "surface": [
           {
            "colorbar": {
             "outlinewidth": 0,
             "ticks": ""
            },
            "colorscale": [
             [
              0,
              "#0d0887"
             ],
             [
              0.1111111111111111,
              "#46039f"
             ],
             [
              0.2222222222222222,
              "#7201a8"
             ],
             [
              0.3333333333333333,
              "#9c179e"
             ],
             [
              0.4444444444444444,
              "#bd3786"
             ],
             [
              0.5555555555555556,
              "#d8576b"
             ],
             [
              0.6666666666666666,
              "#ed7953"
             ],
             [
              0.7777777777777778,
              "#fb9f3a"
             ],
             [
              0.8888888888888888,
              "#fdca26"
             ],
             [
              1,
              "#f0f921"
             ]
            ],
            "type": "surface"
           }
          ],
          "table": [
           {
            "cells": {
             "fill": {
              "color": "#EBF0F8"
             },
             "line": {
              "color": "white"
             }
            },
            "header": {
             "fill": {
              "color": "#C8D4E3"
             },
             "line": {
              "color": "white"
             }
            },
            "type": "table"
           }
          ]
         },
         "layout": {
          "annotationdefaults": {
           "arrowcolor": "#2a3f5f",
           "arrowhead": 0,
           "arrowwidth": 1
          },
          "autotypenumbers": "strict",
          "coloraxis": {
           "colorbar": {
            "outlinewidth": 0,
            "ticks": ""
           }
          },
          "colorscale": {
           "diverging": [
            [
             0,
             "#8e0152"
            ],
            [
             0.1,
             "#c51b7d"
            ],
            [
             0.2,
             "#de77ae"
            ],
            [
             0.3,
             "#f1b6da"
            ],
            [
             0.4,
             "#fde0ef"
            ],
            [
             0.5,
             "#f7f7f7"
            ],
            [
             0.6,
             "#e6f5d0"
            ],
            [
             0.7,
             "#b8e186"
            ],
            [
             0.8,
             "#7fbc41"
            ],
            [
             0.9,
             "#4d9221"
            ],
            [
             1,
             "#276419"
            ]
           ],
           "sequential": [
            [
             0,
             "#0d0887"
            ],
            [
             0.1111111111111111,
             "#46039f"
            ],
            [
             0.2222222222222222,
             "#7201a8"
            ],
            [
             0.3333333333333333,
             "#9c179e"
            ],
            [
             0.4444444444444444,
             "#bd3786"
            ],
            [
             0.5555555555555556,
             "#d8576b"
            ],
            [
             0.6666666666666666,
             "#ed7953"
            ],
            [
             0.7777777777777778,
             "#fb9f3a"
            ],
            [
             0.8888888888888888,
             "#fdca26"
            ],
            [
             1,
             "#f0f921"
            ]
           ],
           "sequentialminus": [
            [
             0,
             "#0d0887"
            ],
            [
             0.1111111111111111,
             "#46039f"
            ],
            [
             0.2222222222222222,
             "#7201a8"
            ],
            [
             0.3333333333333333,
             "#9c179e"
            ],
            [
             0.4444444444444444,
             "#bd3786"
            ],
            [
             0.5555555555555556,
             "#d8576b"
            ],
            [
             0.6666666666666666,
             "#ed7953"
            ],
            [
             0.7777777777777778,
             "#fb9f3a"
            ],
            [
             0.8888888888888888,
             "#fdca26"
            ],
            [
             1,
             "#f0f921"
            ]
           ]
          },
          "colorway": [
           "#636efa",
           "#EF553B",
           "#00cc96",
           "#ab63fa",
           "#FFA15A",
           "#19d3f3",
           "#FF6692",
           "#B6E880",
           "#FF97FF",
           "#FECB52"
          ],
          "font": {
           "color": "#2a3f5f"
          },
          "geo": {
           "bgcolor": "white",
           "lakecolor": "white",
           "landcolor": "#E5ECF6",
           "showlakes": true,
           "showland": true,
           "subunitcolor": "white"
          },
          "hoverlabel": {
           "align": "left"
          },
          "hovermode": "closest",
          "mapbox": {
           "style": "light"
          },
          "paper_bgcolor": "white",
          "plot_bgcolor": "#E5ECF6",
          "polar": {
           "angularaxis": {
            "gridcolor": "white",
            "linecolor": "white",
            "ticks": ""
           },
           "bgcolor": "#E5ECF6",
           "radialaxis": {
            "gridcolor": "white",
            "linecolor": "white",
            "ticks": ""
           }
          },
          "scene": {
           "xaxis": {
            "backgroundcolor": "#E5ECF6",
            "gridcolor": "white",
            "gridwidth": 2,
            "linecolor": "white",
            "showbackground": true,
            "ticks": "",
            "zerolinecolor": "white"
           },
           "yaxis": {
            "backgroundcolor": "#E5ECF6",
            "gridcolor": "white",
            "gridwidth": 2,
            "linecolor": "white",
            "showbackground": true,
            "ticks": "",
            "zerolinecolor": "white"
           },
           "zaxis": {
            "backgroundcolor": "#E5ECF6",
            "gridcolor": "white",
            "gridwidth": 2,
            "linecolor": "white",
            "showbackground": true,
            "ticks": "",
            "zerolinecolor": "white"
           }
          },
          "shapedefaults": {
           "line": {
            "color": "#2a3f5f"
           }
          },
          "ternary": {
           "aaxis": {
            "gridcolor": "white",
            "linecolor": "white",
            "ticks": ""
           },
           "baxis": {
            "gridcolor": "white",
            "linecolor": "white",
            "ticks": ""
           },
           "bgcolor": "#E5ECF6",
           "caxis": {
            "gridcolor": "white",
            "linecolor": "white",
            "ticks": ""
           }
          },
          "title": {
           "x": 0.05
          },
          "xaxis": {
           "automargin": true,
           "gridcolor": "white",
           "linecolor": "white",
           "ticks": "",
           "title": {
            "standoff": 15
           },
           "zerolinecolor": "white",
           "zerolinewidth": 2
          },
          "yaxis": {
           "automargin": true,
           "gridcolor": "white",
           "linecolor": "white",
           "ticks": "",
           "title": {
            "standoff": 15
           },
           "zerolinecolor": "white",
           "zerolinewidth": 2
          }
         }
        },
        "xaxis": {
         "anchor": "y",
         "constrain": "domain",
         "domain": [
          0,
          1
         ],
         "scaleanchor": "y"
        },
        "yaxis": {
         "anchor": "x",
         "autorange": "reversed",
         "constrain": "domain",
         "domain": [
          0,
          1
         ]
        }
       }
      },
      "text/html": [
       "<div>                        <script type=\"text/javascript\">window.PlotlyConfig = {MathJaxConfig: 'local'};</script>\n",
       "        <script charset=\"utf-8\" src=\"https://cdn.plot.ly/plotly-2.29.1.min.js\"></script>                <div id=\"7eab7ed8-d32e-49d5-bce2-f853a6bee01e\" class=\"plotly-graph-div\" style=\"height:100%; width:100%;\"></div>            <script type=\"text/javascript\">                                    window.PLOTLYENV=window.PLOTLYENV || {};                                    if (document.getElementById(\"7eab7ed8-d32e-49d5-bce2-f853a6bee01e\")) {                    Plotly.newPlot(                        \"7eab7ed8-d32e-49d5-bce2-f853a6bee01e\",                        [{\"coloraxis\":\"coloraxis\",\"name\":\"0\",\"texttemplate\":\"%{z}\",\"x\":[\"HP\",\"Attack\",\"Defense\",\"Sp. Atk\",\"Sp. Def\",\"Speed\"],\"y\":[\"HP\",\"Attack\",\"Defense\",\"Sp. Atk\",\"Sp. Def\",\"Speed\"],\"z\":[[1.0,0.4223860287762229,0.23962231884672594,0.36237985740715567,0.3787180686125631,0.17595206187898577],[0.4223860287762229,1.0,0.4386870551184902,0.3963617553492322,0.26398955110108824,0.3812397392410898],[0.23962231884672594,0.4386870551184902,1.0,0.22354860947242255,0.5107465890885571,0.01522659808859742],[0.36237985740715567,0.3963617553492322,0.22354860947242255,1.0,0.5061214206155485,0.47301788366869885],[0.3787180686125631,0.26398955110108824,0.5107465890885571,0.5061214206155485,1.0,0.25913311391680766],[0.17595206187898577,0.3812397392410898,0.01522659808859742,0.47301788366869885,0.25913311391680766,1.0]],\"type\":\"heatmap\",\"xaxis\":\"x\",\"yaxis\":\"y\",\"hovertemplate\":\"x: %{x}\\u003cbr\\u003ey: %{y}\\u003cbr\\u003ecolor: %{z}\\u003cextra\\u003e\\u003c\\u002fextra\\u003e\"}],                        {\"template\":{\"data\":{\"histogram2dcontour\":[{\"type\":\"histogram2dcontour\",\"colorbar\":{\"outlinewidth\":0,\"ticks\":\"\"},\"colorscale\":[[0.0,\"#0d0887\"],[0.1111111111111111,\"#46039f\"],[0.2222222222222222,\"#7201a8\"],[0.3333333333333333,\"#9c179e\"],[0.4444444444444444,\"#bd3786\"],[0.5555555555555556,\"#d8576b\"],[0.6666666666666666,\"#ed7953\"],[0.7777777777777778,\"#fb9f3a\"],[0.8888888888888888,\"#fdca26\"],[1.0,\"#f0f921\"]]}],\"choropleth\":[{\"type\":\"choropleth\",\"colorbar\":{\"outlinewidth\":0,\"ticks\":\"\"}}],\"histogram2d\":[{\"type\":\"histogram2d\",\"colorbar\":{\"outlinewidth\":0,\"ticks\":\"\"},\"colorscale\":[[0.0,\"#0d0887\"],[0.1111111111111111,\"#46039f\"],[0.2222222222222222,\"#7201a8\"],[0.3333333333333333,\"#9c179e\"],[0.4444444444444444,\"#bd3786\"],[0.5555555555555556,\"#d8576b\"],[0.6666666666666666,\"#ed7953\"],[0.7777777777777778,\"#fb9f3a\"],[0.8888888888888888,\"#fdca26\"],[1.0,\"#f0f921\"]]}],\"heatmap\":[{\"type\":\"heatmap\",\"colorbar\":{\"outlinewidth\":0,\"ticks\":\"\"},\"colorscale\":[[0.0,\"#0d0887\"],[0.1111111111111111,\"#46039f\"],[0.2222222222222222,\"#7201a8\"],[0.3333333333333333,\"#9c179e\"],[0.4444444444444444,\"#bd3786\"],[0.5555555555555556,\"#d8576b\"],[0.6666666666666666,\"#ed7953\"],[0.7777777777777778,\"#fb9f3a\"],[0.8888888888888888,\"#fdca26\"],[1.0,\"#f0f921\"]]}],\"heatmapgl\":[{\"type\":\"heatmapgl\",\"colorbar\":{\"outlinewidth\":0,\"ticks\":\"\"},\"colorscale\":[[0.0,\"#0d0887\"],[0.1111111111111111,\"#46039f\"],[0.2222222222222222,\"#7201a8\"],[0.3333333333333333,\"#9c179e\"],[0.4444444444444444,\"#bd3786\"],[0.5555555555555556,\"#d8576b\"],[0.6666666666666666,\"#ed7953\"],[0.7777777777777778,\"#fb9f3a\"],[0.8888888888888888,\"#fdca26\"],[1.0,\"#f0f921\"]]}],\"contourcarpet\":[{\"type\":\"contourcarpet\",\"colorbar\":{\"outlinewidth\":0,\"ticks\":\"\"}}],\"contour\":[{\"type\":\"contour\",\"colorbar\":{\"outlinewidth\":0,\"ticks\":\"\"},\"colorscale\":[[0.0,\"#0d0887\"],[0.1111111111111111,\"#46039f\"],[0.2222222222222222,\"#7201a8\"],[0.3333333333333333,\"#9c179e\"],[0.4444444444444444,\"#bd3786\"],[0.5555555555555556,\"#d8576b\"],[0.6666666666666666,\"#ed7953\"],[0.7777777777777778,\"#fb9f3a\"],[0.8888888888888888,\"#fdca26\"],[1.0,\"#f0f921\"]]}],\"surface\":[{\"type\":\"surface\",\"colorbar\":{\"outlinewidth\":0,\"ticks\":\"\"},\"colorscale\":[[0.0,\"#0d0887\"],[0.1111111111111111,\"#46039f\"],[0.2222222222222222,\"#7201a8\"],[0.3333333333333333,\"#9c179e\"],[0.4444444444444444,\"#bd3786\"],[0.5555555555555556,\"#d8576b\"],[0.6666666666666666,\"#ed7953\"],[0.7777777777777778,\"#fb9f3a\"],[0.8888888888888888,\"#fdca26\"],[1.0,\"#f0f921\"]]}],\"mesh3d\":[{\"type\":\"mesh3d\",\"colorbar\":{\"outlinewidth\":0,\"ticks\":\"\"}}],\"scatter\":[{\"fillpattern\":{\"fillmode\":\"overlay\",\"size\":10,\"solidity\":0.2},\"type\":\"scatter\"}],\"parcoords\":[{\"type\":\"parcoords\",\"line\":{\"colorbar\":{\"outlinewidth\":0,\"ticks\":\"\"}}}],\"scatterpolargl\":[{\"type\":\"scatterpolargl\",\"marker\":{\"colorbar\":{\"outlinewidth\":0,\"ticks\":\"\"}}}],\"bar\":[{\"error_x\":{\"color\":\"#2a3f5f\"},\"error_y\":{\"color\":\"#2a3f5f\"},\"marker\":{\"line\":{\"color\":\"#E5ECF6\",\"width\":0.5},\"pattern\":{\"fillmode\":\"overlay\",\"size\":10,\"solidity\":0.2}},\"type\":\"bar\"}],\"scattergeo\":[{\"type\":\"scattergeo\",\"marker\":{\"colorbar\":{\"outlinewidth\":0,\"ticks\":\"\"}}}],\"scatterpolar\":[{\"type\":\"scatterpolar\",\"marker\":{\"colorbar\":{\"outlinewidth\":0,\"ticks\":\"\"}}}],\"histogram\":[{\"marker\":{\"pattern\":{\"fillmode\":\"overlay\",\"size\":10,\"solidity\":0.2}},\"type\":\"histogram\"}],\"scattergl\":[{\"type\":\"scattergl\",\"marker\":{\"colorbar\":{\"outlinewidth\":0,\"ticks\":\"\"}}}],\"scatter3d\":[{\"type\":\"scatter3d\",\"line\":{\"colorbar\":{\"outlinewidth\":0,\"ticks\":\"\"}},\"marker\":{\"colorbar\":{\"outlinewidth\":0,\"ticks\":\"\"}}}],\"scattermapbox\":[{\"type\":\"scattermapbox\",\"marker\":{\"colorbar\":{\"outlinewidth\":0,\"ticks\":\"\"}}}],\"scatterternary\":[{\"type\":\"scatterternary\",\"marker\":{\"colorbar\":{\"outlinewidth\":0,\"ticks\":\"\"}}}],\"scattercarpet\":[{\"type\":\"scattercarpet\",\"marker\":{\"colorbar\":{\"outlinewidth\":0,\"ticks\":\"\"}}}],\"carpet\":[{\"aaxis\":{\"endlinecolor\":\"#2a3f5f\",\"gridcolor\":\"white\",\"linecolor\":\"white\",\"minorgridcolor\":\"white\",\"startlinecolor\":\"#2a3f5f\"},\"baxis\":{\"endlinecolor\":\"#2a3f5f\",\"gridcolor\":\"white\",\"linecolor\":\"white\",\"minorgridcolor\":\"white\",\"startlinecolor\":\"#2a3f5f\"},\"type\":\"carpet\"}],\"table\":[{\"cells\":{\"fill\":{\"color\":\"#EBF0F8\"},\"line\":{\"color\":\"white\"}},\"header\":{\"fill\":{\"color\":\"#C8D4E3\"},\"line\":{\"color\":\"white\"}},\"type\":\"table\"}],\"barpolar\":[{\"marker\":{\"line\":{\"color\":\"#E5ECF6\",\"width\":0.5},\"pattern\":{\"fillmode\":\"overlay\",\"size\":10,\"solidity\":0.2}},\"type\":\"barpolar\"}],\"pie\":[{\"automargin\":true,\"type\":\"pie\"}]},\"layout\":{\"autotypenumbers\":\"strict\",\"colorway\":[\"#636efa\",\"#EF553B\",\"#00cc96\",\"#ab63fa\",\"#FFA15A\",\"#19d3f3\",\"#FF6692\",\"#B6E880\",\"#FF97FF\",\"#FECB52\"],\"font\":{\"color\":\"#2a3f5f\"},\"hovermode\":\"closest\",\"hoverlabel\":{\"align\":\"left\"},\"paper_bgcolor\":\"white\",\"plot_bgcolor\":\"#E5ECF6\",\"polar\":{\"bgcolor\":\"#E5ECF6\",\"angularaxis\":{\"gridcolor\":\"white\",\"linecolor\":\"white\",\"ticks\":\"\"},\"radialaxis\":{\"gridcolor\":\"white\",\"linecolor\":\"white\",\"ticks\":\"\"}},\"ternary\":{\"bgcolor\":\"#E5ECF6\",\"aaxis\":{\"gridcolor\":\"white\",\"linecolor\":\"white\",\"ticks\":\"\"},\"baxis\":{\"gridcolor\":\"white\",\"linecolor\":\"white\",\"ticks\":\"\"},\"caxis\":{\"gridcolor\":\"white\",\"linecolor\":\"white\",\"ticks\":\"\"}},\"coloraxis\":{\"colorbar\":{\"outlinewidth\":0,\"ticks\":\"\"}},\"colorscale\":{\"sequential\":[[0.0,\"#0d0887\"],[0.1111111111111111,\"#46039f\"],[0.2222222222222222,\"#7201a8\"],[0.3333333333333333,\"#9c179e\"],[0.4444444444444444,\"#bd3786\"],[0.5555555555555556,\"#d8576b\"],[0.6666666666666666,\"#ed7953\"],[0.7777777777777778,\"#fb9f3a\"],[0.8888888888888888,\"#fdca26\"],[1.0,\"#f0f921\"]],\"sequentialminus\":[[0.0,\"#0d0887\"],[0.1111111111111111,\"#46039f\"],[0.2222222222222222,\"#7201a8\"],[0.3333333333333333,\"#9c179e\"],[0.4444444444444444,\"#bd3786\"],[0.5555555555555556,\"#d8576b\"],[0.6666666666666666,\"#ed7953\"],[0.7777777777777778,\"#fb9f3a\"],[0.8888888888888888,\"#fdca26\"],[1.0,\"#f0f921\"]],\"diverging\":[[0,\"#8e0152\"],[0.1,\"#c51b7d\"],[0.2,\"#de77ae\"],[0.3,\"#f1b6da\"],[0.4,\"#fde0ef\"],[0.5,\"#f7f7f7\"],[0.6,\"#e6f5d0\"],[0.7,\"#b8e186\"],[0.8,\"#7fbc41\"],[0.9,\"#4d9221\"],[1,\"#276419\"]]},\"xaxis\":{\"gridcolor\":\"white\",\"linecolor\":\"white\",\"ticks\":\"\",\"title\":{\"standoff\":15},\"zerolinecolor\":\"white\",\"automargin\":true,\"zerolinewidth\":2},\"yaxis\":{\"gridcolor\":\"white\",\"linecolor\":\"white\",\"ticks\":\"\",\"title\":{\"standoff\":15},\"zerolinecolor\":\"white\",\"automargin\":true,\"zerolinewidth\":2},\"scene\":{\"xaxis\":{\"backgroundcolor\":\"#E5ECF6\",\"gridcolor\":\"white\",\"linecolor\":\"white\",\"showbackground\":true,\"ticks\":\"\",\"zerolinecolor\":\"white\",\"gridwidth\":2},\"yaxis\":{\"backgroundcolor\":\"#E5ECF6\",\"gridcolor\":\"white\",\"linecolor\":\"white\",\"showbackground\":true,\"ticks\":\"\",\"zerolinecolor\":\"white\",\"gridwidth\":2},\"zaxis\":{\"backgroundcolor\":\"#E5ECF6\",\"gridcolor\":\"white\",\"linecolor\":\"white\",\"showbackground\":true,\"ticks\":\"\",\"zerolinecolor\":\"white\",\"gridwidth\":2}},\"shapedefaults\":{\"line\":{\"color\":\"#2a3f5f\"}},\"annotationdefaults\":{\"arrowcolor\":\"#2a3f5f\",\"arrowhead\":0,\"arrowwidth\":1},\"geo\":{\"bgcolor\":\"white\",\"landcolor\":\"#E5ECF6\",\"subunitcolor\":\"white\",\"showland\":true,\"showlakes\":true,\"lakecolor\":\"white\"},\"title\":{\"x\":0.05},\"mapbox\":{\"style\":\"light\"}}},\"xaxis\":{\"anchor\":\"y\",\"domain\":[0.0,1.0],\"scaleanchor\":\"y\",\"constrain\":\"domain\"},\"yaxis\":{\"anchor\":\"x\",\"domain\":[0.0,1.0],\"autorange\":\"reversed\",\"constrain\":\"domain\"},\"coloraxis\":{\"colorscale\":[[0.0,\"#0d0887\"],[0.1111111111111111,\"#46039f\"],[0.2222222222222222,\"#7201a8\"],[0.3333333333333333,\"#9c179e\"],[0.4444444444444444,\"#bd3786\"],[0.5555555555555556,\"#d8576b\"],[0.6666666666666666,\"#ed7953\"],[0.7777777777777778,\"#fb9f3a\"],[0.8888888888888888,\"#fdca26\"],[1.0,\"#f0f921\"]]},\"margin\":{\"t\":60}},                        {\"responsive\": true}                    )                };                            </script>        </div>"
      ],
      "text/plain": [
       "Figure({\n",
       "    'data': [{'coloraxis': 'coloraxis',\n",
       "              'hovertemplate': 'x: %{x}<br>y: %{y}<br>color: %{z}<extra></extra>',\n",
       "              'name': '0',\n",
       "              'texttemplate': '%{z}',\n",
       "              'type': 'heatmap',\n",
       "              'x': array(['HP', 'Attack', 'Defense', 'Sp. Atk', 'Sp. Def', 'Speed'], dtype=object),\n",
       "              'xaxis': 'x',\n",
       "              'y': array(['HP', 'Attack', 'Defense', 'Sp. Atk', 'Sp. Def', 'Speed'], dtype=object),\n",
       "              'yaxis': 'y',\n",
       "              'z': array([[1.        , 0.42238603, 0.23962232, 0.36237986, 0.37871807,\n",
       "                           0.17595206],\n",
       "                          [0.42238603, 1.        , 0.43868706, 0.39636176, 0.26398955,\n",
       "                           0.38123974],\n",
       "                          [0.23962232, 0.43868706, 1.        , 0.22354861, 0.51074659,\n",
       "                           0.0152266 ],\n",
       "                          [0.36237986, 0.39636176, 0.22354861, 1.        , 0.50612142,\n",
       "                           0.47301788],\n",
       "                          [0.37871807, 0.26398955, 0.51074659, 0.50612142, 1.        ,\n",
       "                           0.25913311],\n",
       "                          [0.17595206, 0.38123974, 0.0152266 , 0.47301788, 0.25913311,\n",
       "                           1.        ]])}],\n",
       "    'layout': {'coloraxis': {'colorscale': [[0.0, '#0d0887'], [0.1111111111111111,\n",
       "                                            '#46039f'], [0.2222222222222222,\n",
       "                                            '#7201a8'], [0.3333333333333333,\n",
       "                                            '#9c179e'], [0.4444444444444444,\n",
       "                                            '#bd3786'], [0.5555555555555556,\n",
       "                                            '#d8576b'], [0.6666666666666666,\n",
       "                                            '#ed7953'], [0.7777777777777778,\n",
       "                                            '#fb9f3a'], [0.8888888888888888,\n",
       "                                            '#fdca26'], [1.0, '#f0f921']]},\n",
       "               'margin': {'t': 60},\n",
       "               'template': '...',\n",
       "               'xaxis': {'anchor': 'y', 'constrain': 'domain', 'domain': [0.0, 1.0], 'scaleanchor': 'y'},\n",
       "               'yaxis': {'anchor': 'x', 'autorange': 'reversed', 'constrain': 'domain', 'domain': [0.0, 1.0]}}\n",
       "})"
      ]
     },
     "execution_count": 22,
     "metadata": {},
     "output_type": "execute_result"
    }
   ],
   "source": [
    "px.imshow(img       = df_pokemon[[\"HP\", \"Attack\", \"Defense\", \"Sp. Atk\", \"Sp. Def\", \"Speed\"]].corr(),\n",
    "          text_auto = True)"
   ]
  },
  {
   "cell_type": "markdown",
   "id": "96d3379e",
   "metadata": {},
   "source": [
    "#### Guardar Figura\n",
    "\n",
    "**`fig.write_image()`**\n",
    "\n",
    "**`fig.write_html()`**\n",
    "\n",
    "**`fig.write_json()`**\n",
    "\n",
    "\n",
    "**Nota**: Para poder usar estos métodos debemos tener instalado la librería **`kaleido`**.\n",
    "\n",
    "```html\n",
    "pip install kaleido\n",
    "```"
   ]
  },
  {
   "cell_type": "code",
   "execution_count": null,
   "id": "75c5fdf5",
   "metadata": {},
   "outputs": [],
   "source": [
    "fig = px.scatter(data_frame  = df_airbnb.iloc[:1000, :],\n",
    "                 x           = \"price\",\n",
    "                 y           = \"availability_365\",\n",
    "                 color       = \"municipio\",\n",
    "                 hover_name  = \"name\",\n",
    "                 opacity     = 0.5,\n",
    "                 size        = \"price\")\n",
    "\n",
    "fig\n",
    "\n",
    "# fig.write_image(\"airbnb_bubble_chart.svg\") # imagen estática\n",
    "fig.write_html(\"airbnb_bubble_chart.html\") # html interactivo\n",
    "fig.write_json(\"airbnb_bubble_chart.json\") # archivo json"
   ]
  },
  {
   "cell_type": "code",
   "execution_count": null,
   "id": "0a7ecce4",
   "metadata": {
    "scrolled": true
   },
   "outputs": [],
   "source": [
    "import json\n",
    "from pprint import pprint\n",
    "\n",
    "with open(\"airbnb_bubble_chart.json\", \"r\") as file:\n",
    "    data = json.load(file)\n",
    "    \n",
    "pprint(data)"
   ]
  },
  {
   "cell_type": "markdown",
   "id": "a9d809fd",
   "metadata": {},
   "source": [
    "#### Scatter Ternary\n",
    "**`px.scatter_ternary()`**"
   ]
  },
  {
   "cell_type": "code",
   "execution_count": null,
   "id": "988ce634",
   "metadata": {},
   "outputs": [],
   "source": [
    "columns = [\"municipio\", \"barrio\", \"calculated_host_listings_count\", \"minimum_nights\", \"number_of_reviews\", \"availability_365\"]\n",
    "\n",
    "df_airbnb2 = df_airbnb[columns].groupby([\"municipio\", \"barrio\"], as_index = False).mean()\n",
    "\n",
    "df_airbnb2"
   ]
  },
  {
   "cell_type": "code",
   "execution_count": null,
   "id": "9efc22dc",
   "metadata": {},
   "outputs": [],
   "source": [
    "# Airbnb\n",
    "\n",
    "px.scatter_ternary(data_frame = df_airbnb2,\n",
    "                   a          = \"calculated_host_listings_count\",\n",
    "                   b          = \"minimum_nights\",\n",
    "                   c          = \"number_of_reviews\",\n",
    "                   size       = \"availability_365\",\n",
    "                   hover_name = \"municipio\",\n",
    "                   color      = \"municipio\")"
   ]
  },
  {
   "cell_type": "markdown",
   "id": "97cfe004",
   "metadata": {},
   "source": [
    "#### Scatter 3D\n",
    "**`px.scatter_3d`**"
   ]
  },
  {
   "cell_type": "code",
   "execution_count": null,
   "id": "5269c678",
   "metadata": {},
   "outputs": [],
   "source": [
    "# Airbnb\n",
    "px.scatter_3d(data_frame = df_airbnb2,\n",
    "              x          = \"calculated_host_listings_count\",\n",
    "              y          = \"minimum_nights\",\n",
    "              z          = \"number_of_reviews\",\n",
    "              size       = \"availability_365\",\n",
    "              hover_name = \"municipio\",\n",
    "              color      = \"municipio\")"
   ]
  },
  {
   "cell_type": "code",
   "execution_count": null,
   "id": "18218d76",
   "metadata": {},
   "outputs": [],
   "source": [
    "################################################################################################################################"
   ]
  }
 ],
 "metadata": {
  "kernelspec": {
   "display_name": "Python 3 (ipykernel)",
   "language": "python",
   "name": "python3"
  },
  "language_info": {
   "codemirror_mode": {
    "name": "ipython",
    "version": 3
   },
   "file_extension": ".py",
   "mimetype": "text/x-python",
   "name": "python",
   "nbconvert_exporter": "python",
   "pygments_lexer": "ipython3",
   "version": "3.12.1"
  }
 },
 "nbformat": 4,
 "nbformat_minor": 5
}
