{
 "cells": [
  {
   "cell_type": "markdown",
   "id": "dc998db4",
   "metadata": {},
   "source": [
    "## Ejercicio Web Scraping bs4/Selenium\n",
    "\n",
    "_**url** = https://www.20minutos.es/_\n",
    "\n",
    "Vamos a hacer Web Scraping de las primeras 3 páginas de una de las siguientes categorias de noticias: **Ciencia**, **Deporte**, **Gente**, **Economía**, **Grastronomía** y **Opinión**.\n",
    "\n",
    "Y de cada noticia/articulo vamos a obtener:\n",
    "\n",
    "- **Titulo**\n",
    "- **Hora**\n",
    "- **Fecha**\n",
    "- **Autor**\n",
    "- **Texto completo**\n",
    "- **Categoria de la noticia**\n",
    "\n",
    "Genera un DataFrame con esta información y guardalo en el archivo **`20minutos_1.csv`**."
   ]
  },
  {
   "cell_type": "code",
   "execution_count": 88,
   "id": "73fd7efb",
   "metadata": {},
   "outputs": [],
   "source": [
    "import requests\n",
    "import pandas as pd\n",
    "\n",
    "from bs4 import BeautifulSoup\n",
    "\n",
    "from selenium import webdriver\n",
    "from selenium.webdriver.common.by import By\n",
    "\n",
    "from time import sleep"
   ]
  },
  {
   "cell_type": "code",
   "execution_count": 2,
   "id": "d8d78b70",
   "metadata": {},
   "outputs": [
    {
     "data": {
      "text/plain": [
       "'4.18.1'"
      ]
     },
     "execution_count": 2,
     "metadata": {},
     "output_type": "execute_result"
    }
   ],
   "source": [
    "import selenium\n",
    "\n",
    "selenium.__version__"
   ]
  },
  {
   "cell_type": "code",
   "execution_count": 71,
   "id": "e91085ff-a6e3-4450-86d9-de28d8e5c358",
   "metadata": {},
   "outputs": [],
   "source": [
    "from selenium import webdriver\n",
    "from selenium.webdriver.chrome.service import Service as ChromeService\n",
    "from webdriver_manager.chrome import ChromeDriverManager\n",
    "\n",
    "browser = webdriver.Chrome(service=ChromeService(ChromeDriverManager().install()))"
   ]
  },
  {
   "cell_type": "code",
   "execution_count": 72,
   "id": "0ee42b78",
   "metadata": {},
   "outputs": [],
   "source": [
    "browser.get(\"https://www.20minutos.es/\")\n",
    "\n",
    "browser.maximize_window()"
   ]
  },
  {
   "cell_type": "code",
   "execution_count": 73,
   "id": "0aec3658-d90c-44bd-91fe-0a1a2b2f3cd8",
   "metadata": {},
   "outputs": [],
   "source": [
    "browser.find_element(by = By.CLASS_NAME, value = \"mrf-button.accept\").click()"
   ]
  },
  {
   "cell_type": "code",
   "execution_count": 74,
   "id": "b7d23c53-2db0-4682-be0c-7e50ad5a90c7",
   "metadata": {},
   "outputs": [],
   "source": [
    "browser.find_element(by = By.ID, value = \"ui-toggle-menu\").click()"
   ]
  },
  {
   "cell_type": "code",
   "execution_count": 75,
   "id": "75b1d362",
   "metadata": {},
   "outputs": [],
   "source": [
    "browser.find_element(by = By.PARTIAL_LINK_TEXT, value = \"Deportes\").click()"
   ]
  },
  {
   "cell_type": "code",
   "execution_count": 76,
   "id": "2734a653-e15f-48f8-af18-f1ed12ac3c13",
   "metadata": {},
   "outputs": [],
   "source": [
    "# Sacar las urls..."
   ]
  },
  {
   "cell_type": "code",
   "execution_count": 77,
   "id": "791bf150-8ec6-449a-8398-8cbbaf10fdb1",
   "metadata": {},
   "outputs": [],
   "source": [
    "soup = BeautifulSoup(browser.page_source, \"html.parser\")"
   ]
  },
  {
   "cell_type": "code",
   "execution_count": 78,
   "id": "1cf2164f-13e6-4f9c-a81f-a7d8a16a1fde",
   "metadata": {},
   "outputs": [],
   "source": [
    "articulos = soup.find_all(\"article\")"
   ]
  },
  {
   "cell_type": "code",
   "execution_count": 79,
   "id": "981faf6c-d658-4a9d-91d4-cde566fab01f",
   "metadata": {},
   "outputs": [],
   "source": [
    "urls = [x.find(\"a\")['href'] for x in articulos]"
   ]
  },
  {
   "cell_type": "code",
   "execution_count": 80,
   "id": "53e1e583-acff-45f4-9109-9e184de78529",
   "metadata": {},
   "outputs": [
    {
     "data": {
      "text/plain": [
       "'https://www.20minutos.es/deportes/noticia/5222417/0/pedro-sanchez-ilia-topuria-dni-espanol-deseo/'"
      ]
     },
     "execution_count": 80,
     "metadata": {},
     "output_type": "execute_result"
    }
   ],
   "source": [
    "urls[0]"
   ]
  },
  {
   "cell_type": "code",
   "execution_count": 84,
   "id": "51f76547-95eb-4142-bd62-b3f71a382ccf",
   "metadata": {},
   "outputs": [],
   "source": [
    "def obtener_info_noticia(noticia):\n",
    "    informacion = {}\n",
    "\n",
    "    informacion[\"titulo\"] = noticia.find(\"h1\", class_ = \"article-title\").text\n",
    "    informacion[\"fecha\"] = noticia.find(\"span\", class_ = \"article-date\").text\n",
    "    informacion[\"autor\"] = noticia.find(\"span\", class_ = \"article-author\").find(\"strong\").text\n",
    "    informacion[\"categoria\"] = noticia.find(\"div\", class_ = \"category-title\").find(\"a\").text\n",
    "    informacion[\"texto\"] = noticia.find(\"div\", class_ = \"article-text\").text\n",
    "    return informacion"
   ]
  },
  {
   "cell_type": "code",
   "execution_count": 85,
   "id": "997770bc-198c-435f-98f2-17ee47676f43",
   "metadata": {},
   "outputs": [],
   "source": [
    "data = []\n",
    "for url in urls[:5]:\n",
    "    browser.get(url)\n",
    "    sleep(2)\n",
    "    soup = BeautifulSoup(browser.page_source, \"html.parser\")\n",
    "    info_noticia = obtener_info_noticia(soup)\n",
    "    data.append(info_noticia)"
   ]
  },
  {
   "cell_type": "code",
   "execution_count": 89,
   "id": "e4646b7d-72f1-4a10-a201-490c01bdc411",
   "metadata": {},
   "outputs": [
    {
     "data": {
      "text/html": [
       "<div>\n",
       "<style scoped>\n",
       "    .dataframe tbody tr th:only-of-type {\n",
       "        vertical-align: middle;\n",
       "    }\n",
       "\n",
       "    .dataframe tbody tr th {\n",
       "        vertical-align: top;\n",
       "    }\n",
       "\n",
       "    .dataframe thead th {\n",
       "        text-align: right;\n",
       "    }\n",
       "</style>\n",
       "<table border=\"1\" class=\"dataframe\">\n",
       "  <thead>\n",
       "    <tr style=\"text-align: right;\">\n",
       "      <th></th>\n",
       "      <th>titulo</th>\n",
       "      <th>fecha</th>\n",
       "      <th>autor</th>\n",
       "      <th>categoria</th>\n",
       "      <th>texto</th>\n",
       "    </tr>\n",
       "  </thead>\n",
       "  <tbody>\n",
       "    <tr>\n",
       "      <th>0</th>\n",
       "      <td>Pedro Sánchez le concede a Ilia Topuria su gra...</td>\n",
       "      <td>27.02.2024 - 13:31h</td>\n",
       "      <td>R. R. Z.</td>\n",
       "      <td>Deportes</td>\n",
       "      <td>\\nPedro Sánchez recibió este martes a Ilia Top...</td>\n",
       "    </tr>\n",
       "    <tr>\n",
       "      <th>1</th>\n",
       "      <td>Qué necesita Ilia Topuria para obtener el DNI ...</td>\n",
       "      <td>27.02.2024 - 13:59h</td>\n",
       "      <td>Desirée Redondo</td>\n",
       "      <td>Deportes</td>\n",
       "      <td>\\n\"Mi sueño sería conseguir mi DNI español, ma...</td>\n",
       "    </tr>\n",
       "    <tr>\n",
       "      <th>2</th>\n",
       "      <td>Pedro Sánchez mantiene un cordial encuentro co...</td>\n",
       "      <td>27.02.2024 - 13:42h</td>\n",
       "      <td>20minutos</td>\n",
       "      <td>Deportes</td>\n",
       "      <td>\\nPedro Sánchez ha recibido este martes al luc...</td>\n",
       "    </tr>\n",
       "    <tr>\n",
       "      <th>3</th>\n",
       "      <td>El otro objetivo del Emir de Qatar en la cena ...</td>\n",
       "      <td>27.02.2024 - 09:48h</td>\n",
       "      <td>20minutos</td>\n",
       "      <td>Fútbol</td>\n",
       "      <td>\\nEl futuro de Kylian Mbappé parece ir definié...</td>\n",
       "    </tr>\n",
       "    <tr>\n",
       "      <th>4</th>\n",
       "      <td>Zidane... ¿a la espera de una buena oferta?: \"...</td>\n",
       "      <td>27.02.2024 - 10:27h</td>\n",
       "      <td>20minutos</td>\n",
       "      <td>Fútbol</td>\n",
       "      <td>\\nHan pasado ya casi tres años desde que Zined...</td>\n",
       "    </tr>\n",
       "  </tbody>\n",
       "</table>\n",
       "</div>"
      ],
      "text/plain": [
       "                                              titulo                fecha  \\\n",
       "0  Pedro Sánchez le concede a Ilia Topuria su gra...  27.02.2024 - 13:31h   \n",
       "1  Qué necesita Ilia Topuria para obtener el DNI ...  27.02.2024 - 13:59h   \n",
       "2  Pedro Sánchez mantiene un cordial encuentro co...  27.02.2024 - 13:42h   \n",
       "3  El otro objetivo del Emir de Qatar en la cena ...  27.02.2024 - 09:48h   \n",
       "4  Zidane... ¿a la espera de una buena oferta?: \"...  27.02.2024 - 10:27h   \n",
       "\n",
       "             autor categoria  \\\n",
       "0         R. R. Z.  Deportes   \n",
       "1  Desirée Redondo  Deportes   \n",
       "2        20minutos  Deportes   \n",
       "3        20minutos    Fútbol   \n",
       "4        20minutos    Fútbol   \n",
       "\n",
       "                                               texto  \n",
       "0  \\nPedro Sánchez recibió este martes a Ilia Top...  \n",
       "1  \\n\"Mi sueño sería conseguir mi DNI español, ma...  \n",
       "2  \\nPedro Sánchez ha recibido este martes al luc...  \n",
       "3  \\nEl futuro de Kylian Mbappé parece ir definié...  \n",
       "4  \\nHan pasado ya casi tres años desde que Zined...  "
      ]
     },
     "execution_count": 89,
     "metadata": {},
     "output_type": "execute_result"
    }
   ],
   "source": [
    "pd.DataFrame(data)"
   ]
  },
  {
   "cell_type": "markdown",
   "id": "b90547ae",
   "metadata": {},
   "source": [
    "- **Escribe el código para sacar la información de las primeras 5 páginas de las 6 categorias anteriores. Guarda esta información en el archivo `20minutos_2.csv`**"
   ]
  },
  {
   "cell_type": "code",
   "execution_count": 93,
   "id": "7901f0e3-67bf-4d12-ba7a-4b3184041791",
   "metadata": {},
   "outputs": [],
   "source": [
    "browser = webdriver.Chrome(service=ChromeService(ChromeDriverManager().install()))"
   ]
  },
  {
   "cell_type": "code",
   "execution_count": 94,
   "id": "ab5d4479-8927-4009-8f2b-185c824b045e",
   "metadata": {},
   "outputs": [],
   "source": [
    "url = \"https://www.kayak.es/\""
   ]
  },
  {
   "cell_type": "code",
   "execution_count": 95,
   "id": "a5a7b514",
   "metadata": {},
   "outputs": [],
   "source": [
    "browser.get(url)"
   ]
  },
  {
   "cell_type": "code",
   "execution_count": 97,
   "id": "cf4c7713",
   "metadata": {},
   "outputs": [],
   "source": [
    "browser.find_element(by = By.CLASS_NAME, value = \"RxNS\").click()"
   ]
  },
  {
   "cell_type": "code",
   "execution_count": 107,
   "id": "31fd1f5a-51bb-4493-926b-b69348e85b06",
   "metadata": {},
   "outputs": [],
   "source": [
    "browser.find_element(by = By.CLASS_NAME, value = \"yWJT-new-nav-ux\").click()"
   ]
  },
  {
   "cell_type": "code",
   "execution_count": 108,
   "id": "94b802c7",
   "metadata": {},
   "outputs": [],
   "source": [
    "browser.find_element(by = By.PARTIAL_LINK_TEXT, value = \"Coches\").click()"
   ]
  },
  {
   "cell_type": "code",
   "execution_count": 109,
   "id": "7358a572",
   "metadata": {},
   "outputs": [],
   "source": [
    "browser.find_element(by = By.CLASS_NAME, value = \"NhpT-mod-theme-search\").click()"
   ]
  },
  {
   "cell_type": "code",
   "execution_count": 116,
   "id": "2edc3495",
   "metadata": {},
   "outputs": [],
   "source": [
    "buscador = browser.find_element(by = By.CLASS_NAME, value = \"NhpT-mod-theme-search\")"
   ]
  },
  {
   "cell_type": "code",
   "execution_count": 117,
   "id": "8d27d08b",
   "metadata": {},
   "outputs": [],
   "source": [
    "buscador.send_keys(\"Madrid\")"
   ]
  },
  {
   "cell_type": "code",
   "execution_count": 118,
   "id": "450b9590-811d-4fb7-bea3-7e30ad558905",
   "metadata": {},
   "outputs": [],
   "source": [
    "browser.find_element(by = By.CLASS_NAME, value = \"A_8a-icon\").click()"
   ]
  },
  {
   "cell_type": "code",
   "execution_count": 135,
   "id": "6f10a7db-7c79-447e-9590-d88452286b08",
   "metadata": {},
   "outputs": [],
   "source": [
    "browser.switch_to.window(browser.window_handles[1])"
   ]
  },
  {
   "cell_type": "code",
   "execution_count": 137,
   "id": "c3b545a2-5956-403d-bbdf-aa31f5c120e2",
   "metadata": {},
   "outputs": [],
   "source": [
    "soup = BeautifulSoup(browser.page_source, \"html.parser\")"
   ]
  },
  {
   "cell_type": "code",
   "execution_count": 138,
   "id": "86033c4d-1594-4165-8594-b9476126f868",
   "metadata": {},
   "outputs": [],
   "source": [
    "coches = soup.find_all(\"div\", class_ = \"jo6g\")"
   ]
  },
  {
   "cell_type": "code",
   "execution_count": 142,
   "id": "cdb46572-bae7-4c1a-aea8-75562e2d0ecb",
   "metadata": {},
   "outputs": [
    {
     "data": {
      "text/plain": [
       "'Ford Fiesta'"
      ]
     },
     "execution_count": 142,
     "metadata": {},
     "output_type": "execute_result"
    }
   ],
   "source": [
    "coches[0].find(\"div\", class_ = \"MseY-title js-title\").text"
   ]
  },
  {
   "cell_type": "code",
   "execution_count": 145,
   "id": "9a4221e6-7056-4769-8433-366a3da7a945",
   "metadata": {},
   "outputs": [
    {
     "data": {
      "text/plain": [
       "['4911EE495E310883E2A90FAA77033F3A',\n",
       " 'A9C2224D94690E91E50EE838C1CD8FD9',\n",
       " 'CF18E4F7CB1944623EE3A621D253F4E6',\n",
       " 'E7A8C016B842E3A846FD66166B9C48C4',\n",
       " '139791889F9E6FF851C9B13AD587F409']"
      ]
     },
     "execution_count": 145,
     "metadata": {},
     "output_type": "execute_result"
    }
   ],
   "source": [
    "browser.window_handles"
   ]
  },
  {
   "cell_type": "markdown",
   "id": "fb4c37f0-7399-45dd-b105-b8d947d27608",
   "metadata": {},
   "source": [
    "### Youtube"
   ]
  },
  {
   "cell_type": "code",
   "execution_count": 154,
   "id": "519ce42c-51f3-4cec-af3e-32a04bef2ee4",
   "metadata": {},
   "outputs": [],
   "source": [
    "browser = webdriver.Chrome(service=ChromeService(ChromeDriverManager().install()))"
   ]
  },
  {
   "cell_type": "code",
   "execution_count": 155,
   "id": "448656e4-4c17-4749-8e44-4e69f79dfff6",
   "metadata": {},
   "outputs": [],
   "source": [
    "browser.get(\"https://www.youtube.com/\")"
   ]
  },
  {
   "cell_type": "code",
   "execution_count": 157,
   "id": "24e1ead5-87e9-4f8c-8733-80425b14b2dc",
   "metadata": {},
   "outputs": [],
   "source": [
    "browser.find_element(by = By.XPATH, value = \"/html/body/ytd-app/ytd-consent-bump-v2-lightbox/tp-yt-paper-dialog/div[4]/div[2]/div[6]/div[1]/ytd-button-renderer[2]/yt-button-shape/button/yt-touch-feedback-shape/div/div[2]\").click()"
   ]
  },
  {
   "cell_type": "code",
   "execution_count": 158,
   "id": "7fda6a82-471a-418d-8629-90ae5e786a0b",
   "metadata": {},
   "outputs": [],
   "source": [
    "buscador = browser.find_element(by = By.NAME, value = \"search_query\")"
   ]
  },
  {
   "cell_type": "code",
   "execution_count": 159,
   "id": "98ff129d-17a4-4163-8bdb-8b1c7aed4d80",
   "metadata": {},
   "outputs": [],
   "source": [
    "buscador.send_keys(\"tennis\")"
   ]
  },
  {
   "cell_type": "code",
   "execution_count": 160,
   "id": "6f230831-5ded-43a2-97c2-dbc4330e9cb1",
   "metadata": {},
   "outputs": [],
   "source": [
    "buscador.submit()"
   ]
  },
  {
   "cell_type": "code",
   "execution_count": 161,
   "id": "ef347d7d-51ef-4787-b318-d45a85ec5066",
   "metadata": {},
   "outputs": [],
   "source": [
    "soup = BeautifulSoup(browser.page_source, \"html.parser\")"
   ]
  },
  {
   "cell_type": "code",
   "execution_count": 163,
   "id": "10aab1b1-7b56-46f4-b2bf-141c561dca37",
   "metadata": {},
   "outputs": [],
   "source": [
    "attrs = {\"id\": \"video-title\", \"class\" : \"ytd-video-renderer\"}"
   ]
  },
  {
   "cell_type": "code",
   "execution_count": 165,
   "id": "b7e3d3ed-bf88-45bf-8956-e0e203d0258e",
   "metadata": {},
   "outputs": [],
   "source": [
    "videos = soup.find_all(\"a\", attrs = attrs)"
   ]
  },
  {
   "cell_type": "code",
   "execution_count": 167,
   "id": "eba5eaf4-a3a4-4def-a0e6-ab502b1e0299",
   "metadata": {},
   "outputs": [
    {
     "data": {
      "text/plain": [
       "'/watch?v=ZfHd7DL2vxA&pp=ygUGdGVubmlz'"
      ]
     },
     "execution_count": 167,
     "metadata": {},
     "output_type": "execute_result"
    }
   ],
   "source": [
    "videos[0]['href']"
   ]
  },
  {
   "cell_type": "code",
   "execution_count": 172,
   "id": "3efbec28-7512-4462-9069-4c84d393ade6",
   "metadata": {},
   "outputs": [],
   "source": [
    "video_urls = [\"https://www.youtube.com\" + video['href'] for video in videos]"
   ]
  },
  {
   "cell_type": "code",
   "execution_count": 175,
   "id": "5d789211-5c15-4392-8b26-8f2d1c041417",
   "metadata": {},
   "outputs": [],
   "source": [
    "video_urls = [video_url for video_url in video_urls if \"short\" not in video_url]"
   ]
  },
  {
   "cell_type": "code",
   "execution_count": 198,
   "id": "ce944102-5c3f-40ba-a105-643c78fdb7a1",
   "metadata": {},
   "outputs": [
    {
     "name": "stdout",
     "output_type": "stream",
     "text": [
      "Analizando página https://www.youtube.com/watch?v=ZfHd7DL2vxA&pp=ygUGdGVubmlz\n",
      "Analizando página https://www.youtube.com/watch?v=mkOwGS3zjnE&pp=ygUGdGVubmlz\n",
      "Analizando página https://www.youtube.com/watch?v=-CgtDxipLkY&pp=ygUGdGVubmlz\n",
      "Analizando página https://www.youtube.com/watch?v=rF83nYVOFKo&pp=ygUGdGVubmlz\n",
      "Analizando página https://www.youtube.com/watch?v=1cbGeafJIXY&pp=ygUGdGVubmlz\n"
     ]
    }
   ],
   "source": [
    "data = []\n",
    "for video_url in video_urls[:5]:\n",
    "    print(f\"Analizando página {video_url}\")\n",
    "    browser.get(url=video_url)\n",
    "    sleep(2)\n",
    "    browser.find_element(by = By.ID, value = \"expand\").click()\n",
    "    sleep(2)\n",
    "    soup = BeautifulSoup(browser.page_source, \"html.parser\")\n",
    "\n",
    "    titulo = soup.find(\"h1\", class_ = \"style-scope ytd-watch-metadata\").find(\"yt-formatted-string\").text\n",
    "\n",
    "    info = [x.text for x in soup.find(\"div\", id = \"info-container\").find_all(\"span\")]\n",
    "    info = [x for x in info if len(x) > 1]\n",
    "    views, fecha = info\n",
    "\n",
    "    nombre_canal = soup.find(\"ytd-channel-name\").find(\"a\").text\n",
    "    subscribers = soup.find(\"yt-formatted-string\", id = \"owner-sub-count\")\n",
    "    subscribers = subscribers.text if subscribers else None\n",
    "\n",
    "    data.append([titulo, views, fecha, nombre_canal, subscribers])"
   ]
  },
  {
   "cell_type": "code",
   "execution_count": 201,
   "id": "62fb81d2-ee73-4ec9-b018-dd3ce9410da9",
   "metadata": {},
   "outputs": [
    {
     "data": {
      "text/html": [
       "<div>\n",
       "<style scoped>\n",
       "    .dataframe tbody tr th:only-of-type {\n",
       "        vertical-align: middle;\n",
       "    }\n",
       "\n",
       "    .dataframe tbody tr th {\n",
       "        vertical-align: top;\n",
       "    }\n",
       "\n",
       "    .dataframe thead th {\n",
       "        text-align: right;\n",
       "    }\n",
       "</style>\n",
       "<table border=\"1\" class=\"dataframe\">\n",
       "  <thead>\n",
       "    <tr style=\"text-align: right;\">\n",
       "      <th></th>\n",
       "      <th>Titulo</th>\n",
       "      <th>Views</th>\n",
       "      <th>Fecha</th>\n",
       "      <th>Nombre_canal</th>\n",
       "      <th>Subscribers</th>\n",
       "    </tr>\n",
       "  </thead>\n",
       "  <tbody>\n",
       "    <tr>\n",
       "      <th>0</th>\n",
       "      <td>Shelton Takes On Evans; Fritz, De Minaur &amp; Mor...</td>\n",
       "      <td>134,363 views</td>\n",
       "      <td>Feb 27, 2024</td>\n",
       "      <td>Tennis TV</td>\n",
       "      <td>1.43M subscribers</td>\n",
       "    </tr>\n",
       "    <tr>\n",
       "      <th>1</th>\n",
       "      <td>Medvedev Returns To Tour; Khachanov, Mensik &amp; ...</td>\n",
       "      <td>14,648 views</td>\n",
       "      <td>Feb 27, 2024</td>\n",
       "      <td>Tennis TV</td>\n",
       "      <td>1.43M subscribers</td>\n",
       "    </tr>\n",
       "    <tr>\n",
       "      <th>2</th>\n",
       "      <td>Daniil Medvedev First Match Since Australian O...</td>\n",
       "      <td>21,761 views</td>\n",
       "      <td>Feb 27, 2024</td>\n",
       "      <td>Tennis TV</td>\n",
       "      <td>1.43M subscribers</td>\n",
       "    </tr>\n",
       "    <tr>\n",
       "      <th>3</th>\n",
       "      <td>Diaz Acosta faces Cachin; Moutet, Coria &amp; More...</td>\n",
       "      <td>35,935 views</td>\n",
       "      <td>Feb 27, 2024</td>\n",
       "      <td>Tennis TV</td>\n",
       "      <td>1.43M subscribers</td>\n",
       "    </tr>\n",
       "    <tr>\n",
       "      <th>4</th>\n",
       "      <td>Elena Rybakina Vs Elina Svitolina - EPIC Unsto...</td>\n",
       "      <td>7,548 views</td>\n",
       "      <td>7 hours ago</td>\n",
       "      <td>Tennis Fedose</td>\n",
       "      <td>1.54K subscribers</td>\n",
       "    </tr>\n",
       "  </tbody>\n",
       "</table>\n",
       "</div>"
      ],
      "text/plain": [
       "                                              Titulo          Views  \\\n",
       "0  Shelton Takes On Evans; Fritz, De Minaur & Mor...  134,363 views   \n",
       "1  Medvedev Returns To Tour; Khachanov, Mensik & ...   14,648 views   \n",
       "2  Daniil Medvedev First Match Since Australian O...   21,761 views   \n",
       "3  Diaz Acosta faces Cachin; Moutet, Coria & More...   35,935 views   \n",
       "4  Elena Rybakina Vs Elina Svitolina - EPIC Unsto...    7,548 views   \n",
       "\n",
       "          Fecha    Nombre_canal        Subscribers  \n",
       "0  Feb 27, 2024       Tennis TV  1.43M subscribers  \n",
       "1  Feb 27, 2024       Tennis TV  1.43M subscribers  \n",
       "2  Feb 27, 2024       Tennis TV  1.43M subscribers  \n",
       "3  Feb 27, 2024       Tennis TV  1.43M subscribers  \n",
       "4   7 hours ago  Tennis Fedose   1.54K subscribers  "
      ]
     },
     "execution_count": 201,
     "metadata": {},
     "output_type": "execute_result"
    }
   ],
   "source": [
    "pd.DataFrame(data, columns = [\"Titulo\", \"Views\", \"Fecha\", \"Nombre_canal\", \"Subscribers\"])"
   ]
  },
  {
   "cell_type": "code",
   "execution_count": 208,
   "id": "9aa6e4b5-133e-43e0-977c-fd728b059115",
   "metadata": {},
   "outputs": [],
   "source": [
    "from typing import Dict, List, Any"
   ]
  },
  {
   "cell_type": "code",
   "execution_count": 222,
   "id": "5382f977-94d4-490f-9222-001bacb2a989",
   "metadata": {},
   "outputs": [],
   "source": [
    "class Mensajes:\n",
    "    def process_message(self, data: Dict[str, Any]) -> None:\n",
    "        \"\"\"\n",
    "        Processes messages received from the WebSocket connection.\n",
    "\n",
    "        :param ws: The WebSocket connection.\n",
    "        :param data: The data received in the message.\n",
    "        \"\"\"\n",
    "        action_handlers = {\n",
    "            \"add-provider\": self.handle_add_provider,\n",
    "            \"clear-providers\": self.handle_clear_providers,\n",
    "            \"clear-prices\": self.handle_clear_prices\n",
    "        }\n",
    "\n",
    "        \n",
    "\n",
    "        action = data.get(\"action\")\n",
    "\n",
    "        a = getattr(self, f\"handle_{action.replace('-','_')}\")\n",
    "        print(a)\n",
    "        \n",
    "        handler = action_handlers.get(action)\n",
    "\n",
    "        if handler:\n",
    "            handler(data)\n",
    "        else:\n",
    "            print(\"fail\")\n",
    "\n",
    "    def handle_add_provider(self, data: Dict[str, Any]) -> None:\n",
    "        \"\"\"\n",
    "        Adds a new data provider.\n",
    "\n",
    "        :param ws: The WebSocket connection.\n",
    "        :param data: The data specifying the provider to add.\n",
    "        \"\"\"\n",
    "        print(\"new provider\")\n",
    "\n",
    "    def handle_clear_providers(self, data: Dict[str, Any]) -> None:\n",
    "        \"\"\"\n",
    "        Clears all registered data providers.\n",
    "        \"\"\"\n",
    "        print(\"clear provider\")\n",
    "\n",
    "    def handle_clear_prices(self, data: Dict[str, Any]) -> None:\n",
    "        \"\"\"\n",
    "        Clears all price data from the storage.\"\"\"\n",
    "        print(\"clear prices\")"
   ]
  },
  {
   "cell_type": "code",
   "execution_count": 223,
   "id": "74ccfa4a-db3e-475f-82a5-a4b857918b40",
   "metadata": {},
   "outputs": [],
   "source": [
    "m = Mensajes()"
   ]
  },
  {
   "cell_type": "code",
   "execution_count": 224,
   "id": "c7ddefbf-efaf-40b7-9879-bb7bcebefe85",
   "metadata": {},
   "outputs": [
    {
     "name": "stdout",
     "output_type": "stream",
     "text": [
      "<bound method Mensajes.handle_add_provider of <__main__.Mensajes object at 0x7efbb8798ee0>>\n",
      "new provider\n"
     ]
    }
   ],
   "source": [
    "m.process_message(data = {\"action\": \"add-provider\"})"
   ]
  },
  {
   "cell_type": "code",
   "execution_count": 225,
   "id": "d0236b2d-fc02-4bd5-8d99-97bc3e3a448a",
   "metadata": {},
   "outputs": [],
   "source": [
    "a = [1,2,7]"
   ]
  },
  {
   "cell_type": "code",
   "execution_count": 226,
   "id": "8bc264c6-dd14-4003-ad0c-ad8f6727aaf8",
   "metadata": {},
   "outputs": [],
   "source": [
    "a.remove(7)"
   ]
  },
  {
   "cell_type": "code",
   "execution_count": 227,
   "id": "21115663-3fcc-4b90-92b7-46f180dd7bc9",
   "metadata": {},
   "outputs": [
    {
     "data": {
      "text/plain": [
       "[1, 2]"
      ]
     },
     "execution_count": 227,
     "metadata": {},
     "output_type": "execute_result"
    }
   ],
   "source": [
    "a"
   ]
  },
  {
   "cell_type": "code",
   "execution_count": null,
   "id": "d31b8111-e9dc-4ac2-ab15-8c6b95d61285",
   "metadata": {},
   "outputs": [],
   "source": []
  }
 ],
 "metadata": {
  "kernelspec": {
   "display_name": "Python 3 (ipykernel)",
   "language": "python",
   "name": "python3"
  },
  "language_info": {
   "codemirror_mode": {
    "name": "ipython",
    "version": 3
   },
   "file_extension": ".py",
   "mimetype": "text/x-python",
   "name": "python",
   "nbconvert_exporter": "python",
   "pygments_lexer": "ipython3",
   "version": "3.10.12"
  }
 },
 "nbformat": 4,
 "nbformat_minor": 5
}
