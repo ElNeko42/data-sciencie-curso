{
 "cells": [
  {
   "cell_type": "markdown",
   "id": "0c7690cd",
   "metadata": {},
   "source": [
    "## Web Scraping con bs4 (BeautifulSoup)\n",
    "\n",
    "**`BeautifulSoup`** es una biblioteca de python para extraer contenido de ficheros **`HTML`** y **`XML`**.\n",
    "\n",
    "**`requests`** es una libreria que maneja los **requests** (o peticiones) de **HTTP** de una forma sencilla.\n",
    "\n",
    "```html\n",
    "pip install beautifulsoup4\n",
    "\n",
    "pip install requests\n",
    "```\n",
    "\n",
    "Primero usamos **`requests`** para tener \"acceso\" a las páginas web, luego usamos **`BeautifulSoup`** para extraer la información del **`HTML`**."
   ]
  },
  {
   "cell_type": "code",
   "execution_count": 1,
   "id": "a2cf30de",
   "metadata": {},
   "outputs": [],
   "source": [
    "import requests\n",
    "from bs4 import BeautifulSoup"
   ]
  },
  {
   "cell_type": "markdown",
   "id": "cb539d32",
   "metadata": {},
   "source": [
    "### requests\n",
    "\n",
    "**`requests.get()`** toma un **`url`** (o enlace) y retorna la **\"respuesta\"** del servidor. Este nuevo objeto también extrae el código **`HTML`** del **`url`**."
   ]
  },
  {
   "cell_type": "markdown",
   "id": "0600e80b",
   "metadata": {},
   "source": [
    "Cada **\"request\"** toma un tiempo de respuesta, por lo que si intentamos hacer muchos **\"request\"** en un plazo corto de tiempo nuestro I.P. será baneado de la página web para evitar que colapse por el gran número de **\"requests\"**. En el peor de los casos la página recibirá tantos **\"requests\"** que colapsará y la dejaremos fuera de servicio.\n",
    "\n",
    "El **`CAPTCHA`** es una herramienta que utilizan las páginas web para evitar el **web scraping** o evitar que un mismo usuario usando bots colapse la página.\n",
    "\n",
    "_**\"Completely Automated Public Turing test to tell Computers and Humans Apart\"**_"
   ]
  },
  {
   "cell_type": "code",
   "execution_count": 2,
   "id": "a1e3e36a",
   "metadata": {},
   "outputs": [
    {
     "name": "stdout",
     "output_type": "stream",
     "text": [
      "<Response [200]>\n",
      "True\n"
     ]
    }
   ],
   "source": [
    "url = \"https://google.com/\"\n",
    "\n",
    "response = requests.get(url)\n",
    "\n",
    "print(response)\n",
    "\n",
    "print(bool(response))"
   ]
  },
  {
   "cell_type": "code",
   "execution_count": 3,
   "id": "278dcb75",
   "metadata": {
    "scrolled": true
   },
   "outputs": [
    {
     "name": "stdout",
     "output_type": "stream",
     "text": [
      "<!doctype html><html itemscope=\"\" itemtype=\"http://schema.org/WebPage\" lang=\"es\"><head><meta content=\"Google.es permite acceder a la información mundial en castellano, catalán, gallego, euskara e inglés.\" name=\"description\"><meta content=\"noodp\" name=\"robots\"><meta content=\"text/html; charset=UTF-8\" http-equiv=\"Content-Type\"><meta content=\"/images/branding/googleg/1x/googleg_standard_color_128dp.png\" itemprop=\"image\"><title>Google</title><script nonce=\"TLZepq1AzEn1uhRoYiLWeQ\">(function(){var _g={kEI:'VcbcZeq6G5qAvr0P9cmI2A8',kEXPI:'0,18168,1347300,206,2415,2389,1132070,1962,1195795,380734,44798,23792,12316,17583,4998,17075,38444,2872,2891,3926,213,7615,606,63304,13491,230,20583,4,59617,27050,6624,7596,1,42154,2,39761,6700,31122,4567,6256,24670,59704,8155,23351,22435,9779,42459,3141,17058,68055,4135,988,3030,15816,1804,22837,12432,960,10853,1635,51054,5214733,711,2,1390,716,105,76,5992678,412,2806254,32265,9,7443186,20540009,16673,43886,3,1603,3,2121778,2585,22636437,392914,12799,8408,10755,5910,13024,3607,820,2957,6,896,6717,1745,4133,30992,1923,660,4329,2,3311,2656,6407,13845,2624,2897,7432,2212,149,2070,1604,4,3320,1034,1350,3377,3190,218,3,362,4745,672,3829,5,583,6885,1897,1586,291,2340,463,879,11834,4,159,2,502,142,745,371,949,253,3523,304,1181,3122,2536,1213,9129,1503,655,292,3,55,435,777,3,77,461,72,220,203,863,1226,411,328,322,912,391,122,2,32,204,202,547,909,4,617,7,231,184,388,2016,18,2,2,2,928,326,232,24,41,587,50,464,4,839,211,1474,243,16,280,379,683,422,218,2298,62,10,725,49,89,177,85,168,576,1405,1061,503,541,1637,454,804,325,320,14,404,2,162,3178,608,232,5,266,1137,186,67,488,550,53,57,136,157,4,12,107,323,1639,567,90,80,43,76,179,716,262,403,68,222,903,356,301,929,183,4,1,6,781,267,98,640,1,5,21688310,3,3770,1802,540,272',kBL:'03ek',kOPI:89978449};(function(){var a;(null==(a=window.google)?0:a.stvsc)?google.kEI=_g.kEI:window.google=_g;}).call(this);})();(function(){google.sn='webhp';google.kHL='es';})();(function(){\n",
      "var h=this||self;function l(){return void 0!==window.google&&void 0!==window.google.kOPI&&0!==window.google.kOPI?window.google.kOPI:null};var m,n=[];function p(a){for(var b;a&&(!a.getAttribute||!(b=a.getAttribute(\"eid\")));)a=a.parentNode;return b||m}function q(a){for(var b=null;a&&(!a.getAttribute||!(b=a.getAttribute(\"leid\")));)a=a.parentNode;return b}function r(a){/^http:/i.test(a)&&\"https:\"===window.location.protocol&&(google.ml&&google.ml(Error(\"a\"),!1,{src:a,glmm:1}),a=\"\");return a}\n",
      "function t(a,b,c,d,k){var e=\"\";-1===b.search(\"&ei=\")&&(e=\"&ei=\"+p(d),-1===b.search(\"&lei=\")&&(d=q(d))&&(e+=\"&lei=\"+d));d=\"\";var g=-1===b.search(\"&cshid=\")&&\"slh\"!==a,f=[];f.push([\"zx\",Date.now().toString()]);h._cshid&&g&&f.push([\"cshid\",h._cshid]);c=c();null!=c&&f.push([\"opi\",c.toString()]);for(c=0;c<f.length;c++){if(0===c||0<c)d+=\"&\";d+=f[c][0]+\"=\"+f[c][1]}return\"/\"+(k||\"gen_204\")+\"?atyp=i&ct=\"+String(a)+\"&cad=\"+(b+e+d)};m=google.kEI;google.getEI=p;google.getLEI=q;google.ml=function(){return null};google.log=function(a,b,c,d,k,e){e=void 0===e?l:e;c||(c=t(a,b,e,d,k));if(c=r(c)){a=new Image;var g=n.length;n[g]=a;a.onerror=a.onload=a.onabort=function(){delete n[g]};a.src=c}};google.logUrl=function(a,b){b=void 0===b?l:b;return t(\"\",a,b)};}).call(this);(function(){google.y={};google.sy=[];google.x=function(a,b){if(a)var c=a.id;else{do c=Math.random();while(google.y[c])}google.y[c]=[a,b];return!1};google.sx=function(a){google.sy.push(a)};google.lm=[];google.plm=function(a){google.lm.push.apply(google.lm,a)};google.lq=[];google.load=function(a,b,c){google.lq.push([[a],b,c])};google.loadAll=function(a,b){google.lq.push([a,b])};google.bx=!1;google.lx=function(){};var d=[];google.fce=function(a,b,c,e){d.push([a,b,c,e])};google.qce=d;}).call(this);google.f={};(function(){\n",
      "document.documentElement.addEventListener(\"submit\",function(b){var a;if(a=b.target){var c=a.getAttribute(\"data-submitfalse\");a=\"1\"===c||\"q\"===c&&!a.elements.q.value?!0:!1}else a=!1;a&&(b.preventDefault(),b.stopPropagation())},!0);document.documentElement.addEventListener(\"click\",function(b){var a;a:{for(a=b.target;a&&a!==document.documentElement;a=a.parentElement)if(\"A\"===a.tagName){a=\"1\"===a.getAttribute(\"data-nohref\");break a}a=!1}a&&b.preventDefault()},!0);}).call(this);</script><style>#gbar,#guser{font-size:13px;padding-top:1px !important;}#gbar{height:22px}#guser{padding-bottom:7px !important;text-align:right}.gbh,.gbd{border-top:1px solid #c9d7f1;font-size:1px}.gbh{height:0;position:absolute;top:24px;width:100%}@media all{.gb1{height:22px;margin-right:.5em;vertical-align:top}#gbar{float:left}}a.gb1,a.gb4{text-decoration:underline !important}a.gb1,a.gb4{color:#00c !important}.gbi .gb4{color:#dd8e27 !important}.gbf .gb4{color:#900 !important}\n",
      "</style><style>body,td,a,p,.h{font-family:arial,sans-serif}body{margin:0;overflow-y:scroll}#gog{padding:3px 8px 0}td{line-height:.8em}.gac_m td{line-height:17px}form{margin-bottom:20px}.h{color:#1967d2}em{font-weight:bold;font-style:normal}.lst{height:25px;width:496px}.gsfi,.lst{font:18px arial,sans-serif}.gsfs{font:17px arial,sans-serif}.ds{display:inline-box;display:inline-block;margin:3px 0 4px;margin-left:4px}input{font-family:inherit}body{background:#fff;color:#000}a{color:#681da8;text-decoration:none}a:hover,a:active{text-decoration:underline}.fl a{color:#1967d2}a:visited{color:#681da8}.sblc{padding-top:5px}.sblc a{display:block;margin:2px 0;margin-left:13px;font-size:11px}.lsbb{background:#f8f9fa;border:solid 1px;border-color:#dadce0 #70757a #70757a #dadce0;height:30px}.lsbb{display:block}#WqQANb a{display:inline-block;margin:0 12px}.lsb{background:url(/images/nav_logo229.png) 0 -261px repeat-x;color:#000;border:none;cursor:pointer;height:30px;margin:0;outline:0;font:15px arial,sans-serif;vertical-align:top}.lsb:active{background:#dadce0}.lst:focus{outline:none}</style><script nonce=\"TLZepq1AzEn1uhRoYiLWeQ\">(function(){window.google.erd={jsr:1,bv:1961,de:true};\n",
      "var h=this||self;var k,l=null!=(k=h.mei)?k:1,n,p=null!=(n=h.sdo)?n:!0,q=0,r,t=google.erd,v=t.jsr;google.ml=function(a,b,d,m,e){e=void 0===e?2:e;b&&(r=a&&a.message);void 0===d&&(d={});d.cad=\"ple_\"+google.ple+\".aple_\"+google.aple;if(google.dl)return google.dl(a,e,d),null;b=d;if(0>v){window.console&&console.error(a,b);if(-2===v)throw a;b=!1}else b=!a||!a.message||\"Error loading script\"===a.message||q>=l&&!m?!1:!0;if(!b)return null;q++;d=d||{};b=encodeURIComponent;var c=\"/gen_204?atyp=i&ei=\"+b(google.kEI);google.kEXPI&&(c+=\"&jexpid=\"+b(google.kEXPI));c+=\"&srcpg=\"+b(google.sn)+\"&jsr=\"+b(t.jsr)+\"&bver=\"+\n",
      "b(t.bv);var f=a.lineNumber;void 0!==f&&(c+=\"&line=\"+f);var g=a.fileName;g&&(0<g.indexOf(\"-extension:/\")&&(e=3),c+=\"&script=\"+b(g),f&&g===window.location.href&&(f=document.documentElement.outerHTML.split(\"\\n\")[f],c+=\"&cad=\"+b(f?f.substring(0,300):\"No script found.\")));google.ple&&1===google.ple&&(e=2);c+=\"&jsel=\"+e;for(var u in d)c+=\"&\",c+=b(u),c+=\"=\",c+=b(d[u]);c=c+\"&emsg=\"+b(a.name+\": \"+a.message);c=c+\"&jsst=\"+b(a.stack||\"N/A\");12288<=c.length&&(c=c.substr(0,12288));a=c;m||google.log(0,\"\",a);return a};window.onerror=function(a,b,d,m,e){r!==a&&(a=e instanceof Error?e:Error(a),void 0===d||\"lineNumber\"in a||(a.lineNumber=d),void 0===b||\"fileName\"in a||(a.fileName=b),google.ml(a,!1,void 0,!1,\"SyntaxError\"===a.name||\"SyntaxError\"===a.message.substring(0,11)||-1!==a.message.indexOf(\"Script error\")?3:0));r=null;p&&q>=l&&(window.onerror=null)};})();</script></head><body bgcolor=\"#fff\"><script nonce=\"TLZepq1AzEn1uhRoYiLWeQ\">(function(){var src='/images/nav_logo229.png';var iesg=false;document.body.onload = function(){window.n && window.n();if (document.images){new Image().src=src;}\n",
      "if (!iesg){document.f&&document.f.q.focus();document.gbqf&&document.gbqf.q.focus();}\n",
      "}\n",
      "})();</script><div id=\"mngb\"><div id=gbar><nobr><b class=gb1>Búsqueda</b> <a class=gb1 href=\"https://www.google.com/imghp?hl=es&tab=wi\">Imágenes</a> <a class=gb1 href=\"https://maps.google.es/maps?hl=es&tab=wl\">Maps</a> <a class=gb1 href=\"https://play.google.com/?hl=es&tab=w8\">Play</a> <a class=gb1 href=\"https://www.youtube.com/?tab=w1\">YouTube</a> <a class=gb1 href=\"https://news.google.com/?tab=wn\">Noticias</a> <a class=gb1 href=\"https://mail.google.com/mail/?tab=wm\">Gmail</a> <a class=gb1 href=\"https://drive.google.com/?tab=wo\">Drive</a> <a class=gb1 style=\"text-decoration:none\" href=\"https://www.google.es/intl/es/about/products?tab=wh\"><u>Más</u> &raquo;</a></nobr></div><div id=guser width=100%><nobr><span id=gbn class=gbi></span><span id=gbf class=gbf></span><span id=gbe></span><a href=\"http://www.google.es/history/optout?hl=es\" class=gb4>Historial web</a> | <a  href=\"/preferences?hl=es\" class=gb4>Ajustes</a> | <a target=_top id=gb_70 href=\"https://accounts.google.com/ServiceLogin?hl=es&passive=true&continue=https://www.google.com/&ec=GAZAAQ\" class=gb4>Iniciar sesión</a></nobr></div><div class=gbh style=left:0></div><div class=gbh style=right:0></div></div><center><br clear=\"all\" id=\"lgpd\"><div id=\"lga\"><img alt=\"Google\" height=\"92\" src=\"/images/branding/googlelogo/1x/googlelogo_white_background_color_272x92dp.png\" style=\"padding:28px 0 14px\" width=\"272\" id=\"hplogo\"><br><br></div><form action=\"/search\" name=\"f\"><table cellpadding=\"0\" cellspacing=\"0\"><tr valign=\"top\"><td width=\"25%\">&nbsp;</td><td align=\"center\" nowrap=\"\"><input name=\"ie\" value=\"ISO-8859-1\" type=\"hidden\"><input value=\"es\" name=\"hl\" type=\"hidden\"><input name=\"source\" type=\"hidden\" value=\"hp\"><input name=\"biw\" type=\"hidden\"><input name=\"bih\" type=\"hidden\"><div class=\"ds\" style=\"height:32px;margin:4px 0\"><input class=\"lst\" style=\"margin:0;padding:5px 8px 0 6px;vertical-align:top;color:#000\" autocomplete=\"off\" value=\"\" title=\"Buscar con Google\" maxlength=\"2048\" name=\"q\" size=\"57\"></div><br style=\"line-height:0\"><span class=\"ds\"><span class=\"lsbb\"><input class=\"lsb\" value=\"Buscar con Google\" name=\"btnG\" type=\"submit\"></span></span><span class=\"ds\"><span class=\"lsbb\"><input class=\"lsb\" id=\"tsuid_1\" value=\"Voy a tener suerte\" name=\"btnI\" type=\"submit\"><script nonce=\"TLZepq1AzEn1uhRoYiLWeQ\">(function(){var id='tsuid_1';document.getElementById(id).onclick = function(){if (this.form.q.value){this.checked = 1;if (this.form.iflsig)this.form.iflsig.disabled = false;}\n",
      "else top.location='/doodles/';};})();</script><input value=\"ANes7DEAAAAAZdzUZRBJdkuK0okmWLdm0nG3RMY44G3g\" name=\"iflsig\" type=\"hidden\"></span></span></td><td class=\"fl sblc\" align=\"left\" nowrap=\"\" width=\"25%\"><a href=\"/advanced_search?hl=es&amp;authuser=0\">Búsqueda avanzada</a></td></tr></table><input id=\"gbv\" name=\"gbv\" type=\"hidden\" value=\"1\"><script nonce=\"TLZepq1AzEn1uhRoYiLWeQ\">(function(){var a,b=\"1\";if(document&&document.getElementById)if(\"undefined\"!=typeof XMLHttpRequest)b=\"2\";else if(\"undefined\"!=typeof ActiveXObject){var c,d,e=[\"MSXML2.XMLHTTP.6.0\",\"MSXML2.XMLHTTP.3.0\",\"MSXML2.XMLHTTP\",\"Microsoft.XMLHTTP\"];for(c=0;d=e[c++];)try{new ActiveXObject(d),b=\"2\"}catch(h){}}a=b;if(\"2\"==a&&-1==location.search.indexOf(\"&gbv=2\")){var f=google.gbvu,g=document.getElementById(\"gbv\");g&&(g.value=a);f&&window.setTimeout(function(){location.href=f},0)};}).call(this);</script></form><div id=\"gac_scont\"></div><div style=\"font-size:83%;min-height:3.5em\"><br><div id=\"gws-output-pages-elements-homepage_additional_languages__als\"><style>#gws-output-pages-elements-homepage_additional_languages__als{font-size:small;margin-bottom:24px}#SIvCob{color:#3c4043;display:inline-block;line-height:28px;}#SIvCob a{padding:0 3px;}.H6sW5{display:inline-block;margin:0 2px;white-space:nowrap}.z4hgWe{display:inline-block;margin:0 2px}</style><div id=\"SIvCob\">Ofrecido por Google en:  <a href=\"https://www.google.com/setprefs?sig=0_wAyDWoDiRZMPKIPbGSd9O-9ZmQU%3D&amp;hl=ca&amp;source=homepage&amp;sa=X&amp;ved=0ahUKEwiqudWKwMmEAxUagK8BHfUkAvsQ2ZgBCAU\">català</a>    <a href=\"https://www.google.com/setprefs?sig=0_wAyDWoDiRZMPKIPbGSd9O-9ZmQU%3D&amp;hl=gl&amp;source=homepage&amp;sa=X&amp;ved=0ahUKEwiqudWKwMmEAxUagK8BHfUkAvsQ2ZgBCAY\">galego</a>    <a href=\"https://www.google.com/setprefs?sig=0_wAyDWoDiRZMPKIPbGSd9O-9ZmQU%3D&amp;hl=eu&amp;source=homepage&amp;sa=X&amp;ved=0ahUKEwiqudWKwMmEAxUagK8BHfUkAvsQ2ZgBCAc\">euskara</a>  </div></div></div><span id=\"footer\"><div style=\"font-size:10pt\"><div style=\"margin:19px auto;text-align:center\" id=\"WqQANb\"><a href=\"/intl/es/ads/\">Publicidad</a><a href=\"http://www.google.es/intl/es/services/\">Soluciones Empresariales</a><a href=\"/intl/es/about.html\">Todo acerca de Google</a><a href=\"https://www.google.com/setprefdomain?prefdom=ES&amp;prev=https://www.google.es/&amp;sig=K_UayNL7YKQs9drVWv2yZBbvV_aK0%3D\">Google.es</a></div></div><p style=\"font-size:8pt;color:#70757a\">&copy; 2024 - <a href=\"/intl/es/policies/privacy/\">Privacidad</a> - <a href=\"/intl/es/policies/terms/\">Términos</a></p></span></center><script nonce=\"TLZepq1AzEn1uhRoYiLWeQ\">(function(){window.google.cdo={height:757,width:1440};(function(){var a=window.innerWidth,b=window.innerHeight;if(!a||!b){var c=window.document,d=\"CSS1Compat\"==c.compatMode?c.documentElement:c.body;a=d.clientWidth;b=d.clientHeight}\n",
      "if(a&&b&&(a!=google.cdo.width||b!=google.cdo.height)){var e=google,f=e.log,g=\"/client_204?&atyp=i&biw=\"+a+\"&bih=\"+b+\"&ei=\"+google.kEI,h=\"\",k=[],l=void 0!==window.google&&void 0!==window.google.kOPI&&0!==window.google.kOPI?window.google.kOPI:null;null!=l&&k.push([\"opi\",l.toString()]);for(var m=0;m<k.length;m++){if(0===m||0<m)h+=\"&\";h+=k[m][0]+\"=\"+k[m][1]}f.call(e,\"\",\"\",g+h)};}).call(this);})();</script> <script nonce=\"TLZepq1AzEn1uhRoYiLWeQ\">(function(){google.xjs={ck:'xjs.hp.wbOBFWnEId4.L.X.O',combam:'AAAAAAAAAAAAAAAAAAAAAAAAAIAAAAAAAAAOAAAgAAgAAAAwAAAAAAAAABAAHERHADAARwAA8AI',cs:'ACT90oGBZQ2C6FIu18BJYjen1n2TOFVTkw',cssam:'AAAAAAAAAAAAAAAAAAAAAAAAAAAAAAAAAAAAAAAgAAgAAAAAAAAAAAAAABA',cssopt:true,csss:'ACT90oFLh1ADDneiR4VRIBvu0io-lXySQw',excm:[],jsam:'AAAAAAAAAAAAAAAAAAAAAAAAAIAAAAAAAAAOAAAAAAAAAAAwAAAAAAAAAAAAHERHADAARwAA8AI',jss:'ACT90oFt3g0eCpku2GdNQBL8-NHtnMU22w',noinlinecss:false,sepam:true,sepcss:true};})();</script>     <script nonce=\"TLZepq1AzEn1uhRoYiLWeQ\">(function(){var u='/xjs/_/js/k\\x3dxjs.hp.en.nUL_jPOf-18.O/am\\x3dAAAAAAAAAAAAAAAAAAAAAAAAAIAAAAAAAAAOAAAgAAgAAAAwAAAAAAAAABAAHERHADAARwAA8AI/d\\x3d1/ed\\x3d1/rs\\x3dACT90oGxV25pRcgYOXtVwCmnYmHc35UfuA/m\\x3dsb_he,d';var amd=0;\n",
      "var e=this||self,f=function(a){return a};var g;var h=function(a){this.g=a};h.prototype.toString=function(){return this.g+\"\"};var k={};var l=function(){var a=document;var b=\"SCRIPT\";\"application/xhtml+xml\"===a.contentType&&(b=b.toLowerCase());return a.createElement(b)};\n",
      "function m(a,b){a.src=b instanceof h&&b.constructor===h?b.g:\"type_error:TrustedResourceUrl\";var c,d;(c=(b=null==(d=(c=(a.ownerDocument&&a.ownerDocument.defaultView||window).document).querySelector)?void 0:d.call(c,\"script[nonce]\"))?b.nonce||b.getAttribute(\"nonce\")||\"\":\"\")&&a.setAttribute(\"nonce\",c)};function n(a){a=null===a?\"null\":void 0===a?\"undefined\":a;if(void 0===g){var b=null;var c=e.trustedTypes;if(c&&c.createPolicy){try{b=c.createPolicy(\"goog#html\",{createHTML:f,createScript:f,createScriptURL:f})}catch(d){e.console&&e.console.error(d.message)}g=b}else g=b}a=(b=g)?b.createScriptURL(a):a;return new h(a,k)};void 0===google.ps&&(google.ps=[]);function p(){var a=u,b=function(){};google.lx=google.stvsc?b:function(){q(a);google.lx=b};google.bx||google.lx()}function r(a,b){b&&m(a,n(b));var c=a.onload;a.onload=function(d){c&&c(d);google.ps=google.ps.filter(function(t){return a!==t})};google.ps.push(a);document.body.appendChild(a)}google.as=r;function q(a){google.timers&&google.timers.load&&google.tick&&google.tick(\"load\",\"xjsls\");var b=l();b.onerror=function(){google.ple=1};b.onload=function(){google.ple=0};google.xjsus=void 0;r(b,a);google.aple=-1;google.psa=!0};google.xjsu=u;e._F_jsUrl=u;setTimeout(function(){0<amd?google.caft(function(){return p()},amd):p()},0);})();window._ = window._ || {};window._DumpException = _._DumpException = function(e){throw e;};window._s = window._s || {};_s._DumpException = _._DumpException;window._qs = window._qs || {};_qs._DumpException = _._DumpException;(function(){var t=[1,2,0,0,0,640,536870912,134218243,264192,16826368,8388608,327680,4670492,18628800,3080192];window._F_toggles = window._xjs_toggles = t;})();function _F_installCss(c){}\n",
      "(function(){google.jl={bfl:0,blt:'none',chnk:0,dw:false,dwu:true,emtn:0,end:0,ico:false,ikb:0,ine:false,injs:'none',injt:0,injth:0,injv2:false,lls:'default',pdt:0,rep:0,snet:true,strt:0,ubm:false,uwp:true};})();(function(){var pmc='{\\x22d\\x22:{},\\x22sb_he\\x22:{\\x22agen\\x22:false,\\x22cgen\\x22:false,\\x22client\\x22:\\x22heirloom-hp\\x22,\\x22dh\\x22:true,\\x22ds\\x22:\\x22\\x22,\\x22fl\\x22:true,\\x22host\\x22:\\x22google.com\\x22,\\x22jsonp\\x22:true,\\x22lm\\x22:true,\\x22msgs\\x22:{\\x22cibl\\x22:\\x22Borrar b\\\\u00fasqueda\\x22,\\x22dym\\x22:\\x22Quiz\\\\u00e1s quisiste decir:\\x22,\\x22lcky\\x22:\\x22Voy a tener suerte\\x22,\\x22lml\\x22:\\x22M\\\\u00e1s informaci\\\\u00f3n\\x22,\\x22psrc\\x22:\\x22Esta b\\\\u00fasqueda se ha eliminado de tu \\\\u003Ca href\\x3d\\\\\\x22/history\\\\\\x22\\\\u003Ehistorial web\\\\u003C/a\\\\u003E.\\x22,\\x22psrl\\x22:\\x22Eliminar\\x22,\\x22sbit\\x22:\\x22Buscar por imagen\\x22,\\x22srch\\x22:\\x22Buscar con Google\\x22},\\x22ovr\\x22:{},\\x22pq\\x22:\\x22\\x22,\\x22rfs\\x22:[],\\x22sbas\\x22:\\x220 3px 8px 0 rgba(0,0,0,0.2),0 0 0 1px rgba(0,0,0,0.08)\\x22,\\x22stok\\x22:\\x22Ah7xmJHQki-2ERgOIm8tDGAwCwY\\x22}}';google.pmc=JSON.parse(pmc);})();(function(){var b=function(a){var c=0;return function(){return c<a.length?{done:!1,value:a[c++]}:{done:!0}}};\n",
      "var e=this||self;var g,h;a:{for(var k=[\"CLOSURE_FLAGS\"],l=e,n=0;n<k.length;n++)if(l=l[k[n]],null==l){h=null;break a}h=l}var p=h&&h[610401301];g=null!=p?p:!1;var q,r=e.navigator;q=r?r.userAgentData||null:null;function t(a){return g?q?q.brands.some(function(c){return(c=c.brand)&&-1!=c.indexOf(a)}):!1:!1}function u(a){var c;a:{if(c=e.navigator)if(c=c.userAgent)break a;c=\"\"}return-1!=c.indexOf(a)};function v(){return g?!!q&&0<q.brands.length:!1}function w(){return u(\"Safari\")&&!(x()||(v()?0:u(\"Coast\"))||(v()?0:u(\"Opera\"))||(v()?0:u(\"Edge\"))||(v()?t(\"Microsoft Edge\"):u(\"Edg/\"))||(v()?t(\"Opera\"):u(\"OPR\"))||u(\"Firefox\")||u(\"FxiOS\")||u(\"Silk\")||u(\"Android\"))}function x(){return v()?t(\"Chromium\"):(u(\"Chrome\")||u(\"CriOS\"))&&!(v()?0:u(\"Edge\"))||u(\"Silk\")}function y(){return u(\"Android\")&&!(x()||u(\"Firefox\")||u(\"FxiOS\")||(v()?0:u(\"Opera\"))||u(\"Silk\"))};var z=v()?!1:u(\"Trident\")||u(\"MSIE\");y();x();w();Object.freeze(new function(){});Object.freeze(new function(){});var A=!z&&!w(),D=function(a){if(/-[a-z]/.test(\"ved\"))return null;if(A&&a.dataset){if(y()&&!(\"ved\"in a.dataset))return null;a=a.dataset.ved;return void 0===a?null:a}return a.getAttribute(\"data-\"+\"ved\".replace(/([A-Z])/g,\"-$1\").toLowerCase())};var E=[],F=null;function G(a){a=a.target;var c=performance.now(),f=[],H=f.concat,d=E;if(!(d instanceof Array)){var m=\"undefined\"!=typeof Symbol&&Symbol.iterator&&d[Symbol.iterator];if(m)d=m.call(d);else if(\"number\"==typeof d.length)d={next:b(d)};else throw Error(\"a`\"+String(d));for(var B=[];!(m=d.next()).done;)B.push(m.value);d=B}E=H.call(f,d,[c]);if(a&&a instanceof HTMLElement)if(a===F){if(c=4<=E.length)c=5>(E[E.length-1]-E[E.length-4])/1E3;if(c){c=google.getEI(a);a.hasAttribute(\"data-ved\")?f=a?D(a)||\"\":\"\":f=(f=\n",
      "a.closest(\"[data-ved]\"))?D(f)||\"\":\"\";f=f||\"\";if(a.hasAttribute(\"jsname\"))a=a.getAttribute(\"jsname\");else{var C;a=null==(C=a.closest(\"[jsname]\"))?void 0:C.getAttribute(\"jsname\")}google.log(\"rcm\",\"&ei=\"+c+\"&ved=\"+f+\"&jsname=\"+(a||\"\"))}}else F=a,E=[c]}window.document.addEventListener(\"DOMContentLoaded\",function(){document.body.addEventListener(\"click\",G)});}).call(this);</script></body></html>\n"
     ]
    }
   ],
   "source": [
    "# El atributo .text retorna el HTML de la página \n",
    "\n",
    "print(response.text)"
   ]
  },
  {
   "cell_type": "code",
   "execution_count": 4,
   "id": "efd9ed28",
   "metadata": {},
   "outputs": [
    {
     "data": {
      "text/plain": [
       "str"
      ]
     },
     "execution_count": 4,
     "metadata": {},
     "output_type": "execute_result"
    }
   ],
   "source": [
    "type(response.text)"
   ]
  },
  {
   "cell_type": "markdown",
   "id": "a8c7cb4c",
   "metadata": {},
   "source": [
    "### BeautifulSoup\n",
    "\n",
    "Si la respuesta del **`requests`** es positiva podemos pasar este objeto **`requests.get()`** a **`BeautifulSoup`** para que nos ayude a filtrar la información y extraerla más fácil. \n",
    "\n",
    "Los métodos más comunes de **`BeautifulSoup`** son:\n",
    "\n",
    "|Método           |Descripción                                                                                        |\n",
    "|-----------------|---------------------------------------------------------------------------------------------------|\n",
    "|**`.body`**      | Retorna el contenido dentro de la etiqueta **`body`**.                                            |\n",
    "|**`.title`**     | Retorna el titulo del **HTML**.                                                                   |\n",
    "|**`.find()`**    | Busca en el **HTML** y retorna la primera ocurrencia del filtro en un objeto **`bs4`**.           |\n",
    "|**`.find_all()`**| Busca en el **HTML** y retorna todas las ocurrencias del filtro en una lista de objetos **`bs4`**.|\n",
    "|**`.text`**      | Retorna el contenido de un objeto **`bs4`** en un **`str`**.                                          |"
   ]
  },
  {
   "cell_type": "code",
   "execution_count": 5,
   "id": "0da58052",
   "metadata": {},
   "outputs": [],
   "source": [
    "soup = BeautifulSoup(response.text, \"html.parser\")"
   ]
  },
  {
   "cell_type": "code",
   "execution_count": null,
   "id": "78f9b238",
   "metadata": {},
   "outputs": [],
   "source": [
    "soup"
   ]
  },
  {
   "cell_type": "code",
   "execution_count": 7,
   "id": "77030637",
   "metadata": {},
   "outputs": [
    {
     "data": {
      "text/plain": [
       "bs4.BeautifulSoup"
      ]
     },
     "execution_count": 7,
     "metadata": {},
     "output_type": "execute_result"
    }
   ],
   "source": [
    "type(soup)"
   ]
  },
  {
   "cell_type": "code",
   "execution_count": 8,
   "id": "620410a1",
   "metadata": {},
   "outputs": [],
   "source": [
    "# sensacine\n",
    "\n",
    "url = \"https://www.sensacine.com/peliculas/en-cartelera/cines/\"\n",
    "\n",
    "response = requests.get(url)\n",
    "soup = BeautifulSoup(response.text, \"html.parser\")"
   ]
  },
  {
   "cell_type": "code",
   "execution_count": 9,
   "id": "02b0f2f7",
   "metadata": {},
   "outputs": [
    {
     "data": {
      "text/plain": [
       "200"
      ]
     },
     "execution_count": 9,
     "metadata": {},
     "output_type": "execute_result"
    }
   ],
   "source": [
    "response.status_code"
   ]
  },
  {
   "cell_type": "code",
   "execution_count": null,
   "id": "3a0bc1fa",
   "metadata": {},
   "outputs": [],
   "source": [
    "soup.body"
   ]
  },
  {
   "cell_type": "code",
   "execution_count": 12,
   "id": "896d26c6",
   "metadata": {},
   "outputs": [
    {
     "data": {
      "text/plain": [
       "<title>Películas en cartelera - SensaCine.com</title>"
      ]
     },
     "execution_count": 12,
     "metadata": {},
     "output_type": "execute_result"
    }
   ],
   "source": [
    "# Esto retorna un objeto bs4\n",
    "soup.title"
   ]
  },
  {
   "cell_type": "code",
   "execution_count": 13,
   "id": "9ef9358b",
   "metadata": {},
   "outputs": [
    {
     "data": {
      "text/plain": [
       "'Películas en cartelera - SensaCine.com'"
      ]
     },
     "execution_count": 13,
     "metadata": {},
     "output_type": "execute_result"
    }
   ],
   "source": [
    "# Con .text lo convertimos a str\n",
    "\n",
    "soup.title.text"
   ]
  },
  {
   "cell_type": "markdown",
   "id": "3e311dae",
   "metadata": {},
   "source": [
    "### Filtros con bs4"
   ]
  },
  {
   "cell_type": "code",
   "execution_count": 14,
   "id": "caaa6027",
   "metadata": {},
   "outputs": [
    {
     "data": {
      "text/plain": [
       "<h2 class=\"meta-title\">\n",
       "<a class=\"meta-title-link\" href=\"/peliculas/pelicula-277610/\">Madame Web</a>\n",
       "</h2>"
      ]
     },
     "execution_count": 14,
     "metadata": {},
     "output_type": "execute_result"
    }
   ],
   "source": [
    "# Encontrar la primera etiqueta h2\n",
    "\n",
    "soup.find(\"h2\")"
   ]
  },
  {
   "cell_type": "code",
   "execution_count": 18,
   "id": "8ad3c397-6ee0-45f2-9013-fa4a012b2089",
   "metadata": {},
   "outputs": [
    {
     "data": {
      "text/plain": [
       "'Madame Web'"
      ]
     },
     "execution_count": 18,
     "metadata": {},
     "output_type": "execute_result"
    }
   ],
   "source": [
    "soup.find(\"h2\").find(\"a\").text"
   ]
  },
  {
   "cell_type": "code",
   "execution_count": 20,
   "id": "91f0ddaa",
   "metadata": {
    "scrolled": true
   },
   "outputs": [],
   "source": [
    "# Con .find_all() encontramos todas las etiquetas y nos retorna una lista con objetos bs4\n",
    "\n",
    "h2s = soup.find_all(\"h2\")"
   ]
  },
  {
   "cell_type": "code",
   "execution_count": 26,
   "id": "6374ef46-10ba-4071-9f8a-49840465ee0e",
   "metadata": {},
   "outputs": [
    {
     "data": {
      "text/plain": [
       "['Madame Web',\n",
       " 'Bob Marley: One Love',\n",
       " 'Políticamente incorrectos',\n",
       " 'Ferrari',\n",
       " 'Cualquiera menos tú',\n",
       " 'Pobres criaturas',\n",
       " 'La Piscina',\n",
       " 'Guardianes de la Noche (Kimetsu no Yaiba): Rumbo al entrenamiento de los Pilares',\n",
       " 'Priscilla',\n",
       " 'Migración. Un viaje patas arriba',\n",
       " 'Guardianes del museo',\n",
       " 'Wonka']"
      ]
     },
     "execution_count": 26,
     "metadata": {},
     "output_type": "execute_result"
    }
   ],
   "source": [
    "[h2.find(\"a\").text for h2 in h2s]"
   ]
  },
  {
   "cell_type": "code",
   "execution_count": 29,
   "id": "3a6535a9",
   "metadata": {},
   "outputs": [
    {
     "data": {
      "text/plain": [
       "<a href=\"/peliculas/pelicula-196675/\">Agente X Última misión</a>"
      ]
     },
     "execution_count": 29,
     "metadata": {},
     "output_type": "execute_result"
    }
   ],
   "source": [
    "# Encuentra la primera etiqueta a\n",
    "\n",
    "soup.find(\"a\")"
   ]
  },
  {
   "cell_type": "code",
   "execution_count": 30,
   "id": "a0464c52",
   "metadata": {},
   "outputs": [
    {
     "data": {
      "text/plain": [
       "[<a href=\"/peliculas/pelicula-196675/\">Agente X Última misión</a>,\n",
       " <a href=\"/peliculas/pelicula-288401/\">Milady Los tres mosqueteros</a>,\n",
       " <a class=\"item\" href=\"/\">Portada</a>,\n",
       " <a class=\"item\" href=\"/peliculas/\">Cine</a>,\n",
       " <a class=\"item\" href=\"/peliculas/todas-peliculas/\">Películas recomendadas</a>,\n",
       " <a class=\"item\" href=\"/peliculas/en-cartelera/mejores/nota-espectadores/\">Mejores películas en cartelera</a>,\n",
       " <a class=\"item js-item-mq-medium\" href=\"/peliculas/estrenos/\">Estrenos de la semana</a>,\n",
       " <a class=\"item js-item-mq-medium\" href=\"/peliculas/en-cartelera/infantil/\">Películas para niños en cartelera</a>,\n",
       " <a class=\"item js-item-mq-medium\" href=\"/peliculas/estrenos/es/\">Próximos estrenos España</a>,\n",
       " <a class=\"meta-title-link\" href=\"/peliculas/pelicula-277610/\">Madame Web</a>,\n",
       " <a class=\"rating-title\" href=\"#\">Mis amigos </a>,\n",
       " <a class=\"button button-sm button-inverse-full\" href=\"/peliculas/pelicula-277610/sesiones/\">\n",
       " <span class=\"txt\">Cartelera y Entrada (327)</span>\n",
       " </a>,\n",
       " <a class=\"meta-title-link\" href=\"/peliculas/pelicula-290882/\">Bob Marley: One Love</a>,\n",
       " <a class=\"rating-title\" href=\"#\">Mis amigos </a>,\n",
       " <a class=\"button button-sm button-inverse-full\" href=\"/peliculas/pelicula-290882/sesiones/\">\n",
       " <span class=\"txt\">Cartelera y Entrada (324)</span>\n",
       " </a>,\n",
       " <a class=\"meta-title-link\" href=\"/peliculas/pelicula-318272/\">Políticamente incorrectos</a>,\n",
       " <a class=\"rating-title\" href=\"#\">Mis amigos </a>,\n",
       " <a class=\"button button-sm button-inverse-full\" href=\"/peliculas/pelicula-318272/sesiones/\">\n",
       " <span class=\"txt\">Cartelera y Entrada (315)</span>\n",
       " </a>,\n",
       " <a class=\"meta-title-link\" href=\"/peliculas/pelicula-237130/\">Ferrari</a>,\n",
       " <a class=\"rating-title\" href=\"#\">Mis amigos </a>,\n",
       " <a class=\"button button-sm button-inverse-full\" href=\"/peliculas/pelicula-237130/sesiones/\">\n",
       " <span class=\"txt\">Cartelera y Entrada (285)</span>\n",
       " </a>,\n",
       " <a class=\"meta-title-link\" href=\"/peliculas/pelicula-187945/\">Cualquiera menos tú</a>,\n",
       " <a class=\"rating-title\" href=\"#\">Mis amigos </a>,\n",
       " <a class=\"button button-sm button-inverse-full\" href=\"/peliculas/pelicula-187945/sesiones/\">\n",
       " <span class=\"txt\">Cartelera y Entrada (280)</span>\n",
       " </a>,\n",
       " <a class=\"meta-title-link\" href=\"/peliculas/pelicula-290065/\">Pobres criaturas</a>,\n",
       " <a class=\"rating-title\" href=\"#\">Mis amigos </a>,\n",
       " <a class=\"button button-sm button-inverse-full\" href=\"/peliculas/pelicula-290065/sesiones/\">\n",
       " <span class=\"txt\">Cartelera y Entrada (262)</span>\n",
       " </a>,\n",
       " <a class=\"meta-title-link\" href=\"/peliculas/pelicula-312090/\">La Piscina</a>,\n",
       " <a class=\"rating-title\" href=\"#\">Mis amigos </a>,\n",
       " <a class=\"button button-sm button-inverse-full\" href=\"/peliculas/pelicula-312090/sesiones/\">\n",
       " <span class=\"txt\">Cartelera y Entrada (248)</span>\n",
       " </a>,\n",
       " <a class=\"meta-title-link\" href=\"/peliculas/pelicula-325052/\">Guardianes de la Noche (Kimetsu no Yaiba): Rumbo al entrenamiento de los Pilares</a>,\n",
       " <a class=\"rating-title\" href=\"#\">Mis amigos </a>,\n",
       " <a class=\"button button-sm button-inverse-full\" href=\"/peliculas/pelicula-325052/sesiones/\">\n",
       " <span class=\"txt\">Cartelera y Entrada (234)</span>\n",
       " </a>,\n",
       " <a class=\"meta-title-link\" href=\"/peliculas/pelicula-308042/\">Priscilla</a>,\n",
       " <a class=\"rating-title\" href=\"#\">Mis amigos </a>,\n",
       " <a class=\"button button-sm button-inverse-full\" href=\"/peliculas/pelicula-308042/sesiones/\">\n",
       " <span class=\"txt\">Cartelera y Entrada (216)</span>\n",
       " </a>,\n",
       " <a class=\"meta-title-link\" href=\"/peliculas/pelicula-253760/\">Migración. Un viaje patas arriba</a>,\n",
       " <a class=\"rating-title\" href=\"#\">Mis amigos </a>,\n",
       " <a class=\"button button-sm button-inverse-full\" href=\"/peliculas/pelicula-253760/sesiones/\">\n",
       " <span class=\"txt\">Cartelera y Entrada (189)</span>\n",
       " </a>,\n",
       " <a class=\"meta-title-link\" href=\"/peliculas/pelicula-313092/\">Guardianes del museo</a>,\n",
       " <a class=\"rating-title\" href=\"#\">Mis amigos </a>,\n",
       " <a class=\"button button-sm button-inverse-full\" href=\"/peliculas/pelicula-313092/sesiones/\">\n",
       " <span class=\"txt\">Cartelera y Entrada (176)</span>\n",
       " </a>,\n",
       " <a class=\"meta-title-link\" href=\"/peliculas/pelicula-251105/\">Wonka</a>,\n",
       " <a class=\"rating-title\" href=\"#\">Mis amigos </a>,\n",
       " <a class=\"button button-sm button-inverse-full\" href=\"/peliculas/pelicula-251105/sesiones/\">\n",
       " <span class=\"txt\">Cartelera y Entrada (167)</span>\n",
       " </a>,\n",
       " <a class=\"button button-md item\" href=\"/peliculas/en-cartelera/cines/?page=2\">2</a>,\n",
       " <a class=\"button button-md item\" href=\"/peliculas/en-cartelera/cines/?page=3\">3</a>,\n",
       " <a class=\"button button-md item\" href=\"/peliculas/en-cartelera/cines/?page=4\">4</a>,\n",
       " <a class=\"button button-md item\" href=\"/peliculas/en-cartelera/cines/?page=5\">5</a>,\n",
       " <a class=\"button button-md item\" href=\"/peliculas/en-cartelera/cines/?page=6\">6</a>,\n",
       " <a class=\"button button-md item\" href=\"/peliculas/en-cartelera/cines/?page=7\">7</a>,\n",
       " <a class=\"button button-md item\" href=\"/peliculas/en-cartelera/cines/?page=8\">8</a>,\n",
       " <a class=\"button button-md item\" href=\"/peliculas/en-cartelera/cines/?page=9\">9</a>,\n",
       " <a class=\"button button-md item\" href=\"/peliculas/en-cartelera/cines/?page=10\">10</a>,\n",
       " <a class=\"button button-md item\" href=\"/peliculas/en-cartelera/cines/?page=15\">15</a>,\n",
       " <a class=\"list-entity-title-link\" href=\"/peliculas/pelicula-318573/\"> Culpa tuya </a>,\n",
       " <a class=\"top-item-link\" href=\"/peliculas/pelicula-278742/\"> Dune: Parte dos </a>,\n",
       " <a class=\"top-item-link\" href=\"/peliculas/pelicula-304500/\"> Godzilla y Kong: El nuevo imperio </a>,\n",
       " <a class=\"top-item-link\" href=\"/peliculas/pelicula-306226/\"> Kung Fu Panda 4 </a>,\n",
       " <a class=\"top-item-link\" href=\"/peliculas/pelicula-251633/\"> Deadpool y Lobezno </a>,\n",
       " <a class=\"top-item-link\" href=\"/peliculas/pelicula-225486/\"> Road House. De profesión: duro </a>,\n",
       " <a class=\"top-item-link\" href=\"/peliculas/pelicula-276289/\"> El reino del planeta de los simios </a>,\n",
       " <a class=\"top-item-link\" href=\"/peliculas/pelicula-240604/\"> Borderlands </a>,\n",
       " <a class=\"top-item-link\" href=\"/peliculas/pelicula-266665/\"> Kraven The Hunter </a>,\n",
       " <a class=\"top-item-link\" href=\"/peliculas/pelicula-287892/\"> Un lugar tranquilo: Día uno </a>,\n",
       " <a class=\"theater-network-meta\" href=\"/cines/circuitos/81045/\">\n",
       " Yelmo Cines\n",
       " </a>,\n",
       " <a class=\"theater-network-meta\" href=\"/cines/circuitos/81043/\">\n",
       " Cinesa\n",
       " </a>,\n",
       " <a class=\"theater-network-meta\" href=\"/cines/circuitos/81040/\">\n",
       " Ocine\n",
       " </a>,\n",
       " <a class=\"theater-network-meta\" href=\"/cines/circuitos/81156/\">\n",
       " Odeon Multicines\n",
       " </a>,\n",
       " <a class=\"cookie-preferencies\" href=\"#\">Preferencias de cookies</a>,\n",
       " <a aria-label=\"Back to top\" class=\"back-top icon icon-arrow-top\" href=\"#sensacine__movies_playing_now_no_prefix\" id=\"back-top\">\n",
       " <span class=\"no-icon\">Back to Top</span>\n",
       " </a>]"
      ]
     },
     "execution_count": 30,
     "metadata": {},
     "output_type": "execute_result"
    }
   ],
   "source": [
    "# Encuentra todas las etiquetas a\n",
    "\n",
    "soup.find_all(\"a\")"
   ]
  },
  {
   "cell_type": "code",
   "execution_count": 31,
   "id": "6e4ea01e",
   "metadata": {},
   "outputs": [
    {
     "data": {
      "text/plain": [
       "71"
      ]
     },
     "execution_count": 31,
     "metadata": {},
     "output_type": "execute_result"
    }
   ],
   "source": [
    "len(soup.find_all(\"a\"))"
   ]
  },
  {
   "cell_type": "code",
   "execution_count": 32,
   "id": "628eaf0c",
   "metadata": {},
   "outputs": [
    {
     "data": {
      "text/plain": [
       "<h2 class=\"meta-title\">\n",
       "<a class=\"meta-title-link\" href=\"/peliculas/pelicula-277610/\">Madame Web</a>\n",
       "</h2>"
      ]
     },
     "execution_count": 32,
     "metadata": {},
     "output_type": "execute_result"
    }
   ],
   "source": [
    "# Podemos encadenar filtros siempre que nos retorne un objeto bs4\n",
    "\n",
    "soup.find(\"h2\")"
   ]
  },
  {
   "cell_type": "code",
   "execution_count": 33,
   "id": "14c582e2",
   "metadata": {},
   "outputs": [
    {
     "data": {
      "text/plain": [
       "<a class=\"meta-title-link\" href=\"/peliculas/pelicula-277610/\">Madame Web</a>"
      ]
     },
     "execution_count": 33,
     "metadata": {},
     "output_type": "execute_result"
    }
   ],
   "source": [
    "soup.find(\"h2\").find(\"a\")"
   ]
  },
  {
   "cell_type": "code",
   "execution_count": 34,
   "id": "b9abb9c6",
   "metadata": {},
   "outputs": [
    {
     "data": {
      "text/plain": [
       "'/peliculas/pelicula-277610/'"
      ]
     },
     "execution_count": 34,
     "metadata": {},
     "output_type": "execute_result"
    }
   ],
   "source": [
    "soup.find(\"h2\").find(\"a\")[\"href\"]"
   ]
  },
  {
   "cell_type": "markdown",
   "id": "30a8e9f6",
   "metadata": {},
   "source": [
    "Cuando veamos una etiqueta con **class** en ella podemos usarla para hacer un filtro más específico.\n",
    "```html\n",
    "<li class=\"mdl\">\n",
    "```\n",
    "\n",
    "Como en Python **`class`** es una palabra reservada, debemos usar **`class_`**."
   ]
  },
  {
   "cell_type": "code",
   "execution_count": 35,
   "id": "ea74eda2",
   "metadata": {
    "scrolled": true
   },
   "outputs": [
    {
     "data": {
      "text/plain": [
       "<li class=\"mdl\">\n",
       "<div class=\"card entity-card entity-card-list cf\">\n",
       "<figure class=\"thumbnail\">\n",
       "<span class=\"ACrL3BACrlbGljdWxhcy9wZWxpY3VsYS0yNzc2MTAvdHJhaWxlci0xOTU3NDAzOC8= thumbnail-container thumbnail-link\" title=\" Madame Web\">\n",
       "<img alt=\" Madame Web\" class=\"thumbnail-img\" height=\"420\" src=\"https://es.web.img3.acsta.net/c_310_420/pictures/23/12/13/12/59/0317379.jpg\" width=\"310\"/>\n",
       "<span class=\"ico-play-wrapper\">\n",
       "<span class=\"icon icon-play-arrow\"></span>\n",
       "</span>\n",
       "</span>\n",
       "</figure>\n",
       "<div class=\"meta\">\n",
       "<h2 class=\"meta-title\">\n",
       "<a class=\"meta-title-link\" href=\"/peliculas/pelicula-277610/\">Madame Web</a>\n",
       "</h2>\n",
       "<div class=\"meta-body\">\n",
       "<div class=\"meta-body-item meta-body-info\">\n",
       "<span class=\"date\">14 de febrero de 2024</span>\n",
       "<span class=\"spacer\">|</span>\n",
       "1h 57min\n",
       "<span class=\"spacer\">|</span>\n",
       "<span clas=\"dark-grey-link\" class=\"ACrL3BACrlbGljdWxhcy90b2Rhcy1wZWxpY3VsYXMvZ2VuZXJvLTEzMDI1Lw==\">Acción</span>,\n",
       "<span clas=\"dark-grey-link\" class=\"ACrL3BACrlbGljdWxhcy90b2Rhcy1wZWxpY3VsYXMvZ2VuZXJvLTEzMDEyLw==\">Fantasía</span>\n",
       "</div>\n",
       "<div class=\"meta-body-item meta-body-direction\">\n",
       "<span class=\"light\">Dirigida por</span>\n",
       "<span class=\"ACrL2FACrjdG9yZXMvYWN0b3ItMjQxMzkwLw== dark-grey-link\">S.J. Clarkson</span>\n",
       "</div>\n",
       "<div class=\"meta-body-item meta-body-actor\">\n",
       "<span class=\"light\">Reparto</span>\n",
       "<span class=\"ACrL2FACrjdG9yZXMvYWN0b3ItNDEyNjk5Lw== dark-grey-link\">Dakota Johnson</span>,\n",
       "<span class=\"ACrL2FACrjdG9yZXMvYWN0b3ItNDQxMjc3Lw== dark-grey-link\">Sydney Sweeney</span>,\n",
       "<span class=\"ACrL2FACrjdG9yZXMvYWN0b3ItNjcyNzE4Lw== dark-grey-link\">Isabela Merced</span>\n",
       "</div>\n",
       "</div>\n",
       "</div>\n",
       "<div class=\"rating-holder rating-holder-4\">\n",
       "<div class=\"rating-item\">\n",
       "<div class=\"rating-item-content\">\n",
       "<span class=\"ACrL3BACrlbGljdWxhcy9wZWxpY3VsYS0yNzc2MTAvY3JpdGljYXMtcHJlbnNhLw== rating-title\"> Medios </span>\n",
       "<div class=\"stareval stareval-small stareval-theme-default\"><div class=\"rating-mdl n20 stareval-stars\"><div class=\"star icon\"></div><div class=\"star icon\"></div><div class=\"star icon\"></div><div class=\"star icon\"></div><div class=\"star icon\"></div></div><span class=\"stareval-note\">2,1</span></div>\n",
       "</div>\n",
       "</div>\n",
       "<div class=\"rating-item\">\n",
       "<div class=\"rating-item-content\">\n",
       "<span class=\"ACrL3BACrlbGljdWxhcy9wZWxpY3VsYS0yNzc2MTAvY3JpdGljYXMtZXNwZWN0YWRvcmVzLw== rating-title\"> Usuarios </span>\n",
       "<div class=\"stareval stareval-small stareval-theme-default\"><div class=\"rating-mdl n25 stareval-stars\"><div class=\"star icon\"></div><div class=\"star icon\"></div><div class=\"star icon\"></div><div class=\"star icon\"></div><div class=\"star icon\"></div></div><span class=\"stareval-note\">2,4</span></div>\n",
       "</div>\n",
       "</div>\n",
       "<div class=\"rating-item\">\n",
       "<div class=\"rating-item-content\">\n",
       "<span class=\"ACrL3BACrlbGljdWxhcy9wZWxpY3VsYS0yNzc2MTAvc2Vuc2FjaW5lLw== rating-title\">Sensacine</span>\n",
       "<div class=\"stareval stareval-small stareval-theme-default\"><div class=\"rating-mdl n25 stareval-stars\"><div class=\"star icon\"></div><div class=\"star icon\"></div><div class=\"star icon\"></div><div class=\"star icon\"></div><div class=\"star icon\"></div></div><span class=\"stareval-note\">2,5</span></div>\n",
       "</div>\n",
       "</div>\n",
       "<div class=\"rating-item\">\n",
       "<div class=\"rating-item-content js-user-friends-rating\" data-entity-id=\"TW92aWU6Mjc3NjEw\" data-size=\"small\" data-title=\"Mis amigos \">\n",
       "<a class=\"rating-title\" href=\"#\">Mis amigos </a>\n",
       "<div class=\"stareval stareval-small stareval-theme-default\"><div class=\"rating-mdl n00 stareval-stars\"><div class=\"star icon\"></div><div class=\"star icon\"></div><div class=\"star icon\"></div><div class=\"star icon\"></div><div class=\"star icon\"></div></div><span class=\"stareval-note no-rating\">--</span></div>\n",
       "</div>\n",
       "</div>\n",
       "</div>\n",
       "<div class=\"synopsis\">\n",
       "<div class=\"content-txt\">\n",
       "Inspirada en el personaje de Marvel, el filme narra la historia de Cassandra Webb, una mujer que nació ciega y sufría de una extraña condición neurológica. Sin embargo, esto acaba teniendo un efecto secundario y desarrolla poderosas habilidades psíquicas que usa para convertirse en médium.\n",
       "</div>\n",
       "</div>\n",
       "<div class=\"buttons-holder\">\n",
       "<a class=\"button button-sm button-inverse-full\" href=\"/peliculas/pelicula-277610/sesiones/\">\n",
       "<span class=\"txt\">Cartelera y Entrada (327)</span>\n",
       "</a>\n",
       "</div>\n",
       "<div class=\"bam-container card-bam\"><div class=\"bam-cell bam-rating-user\"><span class=\"user-rating-title\">puntuar :</span><div class=\"js-user-rating\" data-entity-id=\"TW92aWU6Mjc3NjEw\" data-show-suggestion=\"true\" data-size=\"large\" data-social-action-placement=\"actions_section\" data-title=\"\"><span class=\"user-rating stareval user-rating-large\"><div class=\"rating-star tooltip-parent\"><span class=\"tooltip tooltip-dark tooltip-child\">0.5</span></div><div class=\"rating-star tooltip-parent\"><span class=\"tooltip tooltip-dark tooltip-child\">1</span></div><div class=\"rating-star tooltip-parent\"><span class=\"tooltip tooltip-dark tooltip-child\">1.5</span></div><div class=\"rating-star tooltip-parent\"><span class=\"tooltip tooltip-dark tooltip-child\">2</span></div><div class=\"rating-star tooltip-parent\"><span class=\"tooltip tooltip-dark tooltip-child\">2.5</span></div><div class=\"rating-star tooltip-parent\"><span class=\"tooltip tooltip-dark tooltip-child\">3</span></div><div class=\"rating-star tooltip-parent\"><span class=\"tooltip tooltip-dark tooltip-child\">3.5</span></div><div class=\"rating-star tooltip-parent\"><span class=\"tooltip tooltip-dark tooltip-child\">4</span></div><div class=\"rating-star tooltip-parent\"><span class=\"tooltip tooltip-dark tooltip-child\">4.5</span></div><div class=\"rating-star tooltip-parent\"><span class=\"tooltip tooltip-dark tooltip-child\">5</span></div></span></div></div><div class=\"bam-cell bam-want-to-see js-user-want-to-see\" data-classes=\"button icon icon-wish-full\" data-content=\"¡Quiero verla!\" data-entity-id=\"TW92aWU6Mjc3NjEw\" data-social-action-placement=\"actions_section\"><span class=\"button icon icon-wish-full\">¡Quiero verla!</span></div></div>\n",
       "<div class=\"js-affinity-suggestions suggestions-under-short-bam\" data-entity-id=\"TW92aWU6Mjc3NjEw\"></div>\n",
       "</div>\n",
       "</li>"
      ]
     },
     "execution_count": 35,
     "metadata": {},
     "output_type": "execute_result"
    }
   ],
   "source": [
    "soup.find(\"li\", class_ = \"mdl\")"
   ]
  },
  {
   "cell_type": "code",
   "execution_count": null,
   "id": "ddf00a53",
   "metadata": {},
   "outputs": [],
   "source": [
    "soup.find_all(\"li\", class_ = \"mdl\")"
   ]
  },
  {
   "cell_type": "code",
   "execution_count": null,
   "id": "f24f3397",
   "metadata": {},
   "outputs": [],
   "source": [
    "soup.find(\"span\", class_ = \"stareval-note\")"
   ]
  },
  {
   "cell_type": "code",
   "execution_count": null,
   "id": "59a1fe6f",
   "metadata": {},
   "outputs": [],
   "source": [
    "soup.find_all(\"span\", class_ = \"stareval-note\")"
   ]
  },
  {
   "cell_type": "code",
   "execution_count": null,
   "id": "18cec68d-583c-4083-841f-e655218d3c98",
   "metadata": {},
   "outputs": [],
   "source": []
  },
  {
   "cell_type": "code",
   "execution_count": 38,
   "id": "4b1d5c59-04ac-4efe-8324-eb10679cf680",
   "metadata": {},
   "outputs": [
    {
     "data": {
      "text/plain": [
       "['Madame Web',\n",
       " 'Bob Marley: One Love',\n",
       " 'Políticamente incorrectos',\n",
       " 'Ferrari',\n",
       " 'Cualquiera menos tú',\n",
       " 'Pobres criaturas',\n",
       " 'La Piscina',\n",
       " 'Guardianes de la Noche (Kimetsu no Yaiba): Rumbo al entrenamiento de los Pilares',\n",
       " 'Priscilla',\n",
       " 'Migración. Un viaje patas arriba',\n",
       " 'Guardianes del museo',\n",
       " 'Wonka']"
      ]
     },
     "execution_count": 38,
     "metadata": {},
     "output_type": "execute_result"
    }
   ],
   "source": [
    "resultados = soup.find_all(\"a\", class_ = \"meta-title-link\")\n",
    "[resultado.text for resultado in resultados]"
   ]
  },
  {
   "cell_type": "code",
   "execution_count": null,
   "id": "37263eef-4608-45ae-b037-f346a151591e",
   "metadata": {},
   "outputs": [],
   "source": []
  },
  {
   "cell_type": "markdown",
   "id": "5a133304",
   "metadata": {},
   "source": [
    "Otra forma de usar estos filtros de **`bs4`** es atraves del parametro **`attrs`** de un diccionario.\n",
    "\n",
    "Este diccionario tendrá como llave el nombre de las etiquetas y como valor el valor asociado a esa etiqueta:"
   ]
  },
  {
   "cell_type": "code",
   "execution_count": 39,
   "id": "f3437d83",
   "metadata": {},
   "outputs": [
    {
     "data": {
      "text/plain": [
       "<span class=\"stareval-note\">2,1</span>"
      ]
     },
     "execution_count": 39,
     "metadata": {},
     "output_type": "execute_result"
    }
   ],
   "source": [
    "dicc_bs4 = {\"class\" : \"stareval-note\"}\n",
    "\n",
    "soup.find(\"span\", attrs = dicc_bs4)"
   ]
  },
  {
   "cell_type": "code",
   "execution_count": 40,
   "id": "4f6ce966",
   "metadata": {},
   "outputs": [
    {
     "data": {
      "text/plain": [
       "'2,1'"
      ]
     },
     "execution_count": 40,
     "metadata": {},
     "output_type": "execute_result"
    }
   ],
   "source": [
    "soup.find(\"span\", attrs = dicc_bs4).text"
   ]
  },
  {
   "cell_type": "markdown",
   "id": "93b3d14b",
   "metadata": {},
   "source": [
    "Utilizando bucles podemos iterar sobre los **`.find_all()`** y sacar información de forma automatizada."
   ]
  },
  {
   "cell_type": "code",
   "execution_count": null,
   "id": "8381dd96",
   "metadata": {
    "scrolled": true
   },
   "outputs": [],
   "source": [
    "# En la etiqueta h3 tenemos el url y el titulo de la pelicula\n",
    "\n",
    "soup.find_all(\"h2\")"
   ]
  },
  {
   "cell_type": "code",
   "execution_count": 43,
   "id": "32aef7e1",
   "metadata": {},
   "outputs": [
    {
     "data": {
      "text/plain": [
       "'/peliculas/pelicula-277610/'"
      ]
     },
     "execution_count": 43,
     "metadata": {},
     "output_type": "execute_result"
    }
   ],
   "source": [
    "soup.find(\"h2\").find(\"a\")['href']"
   ]
  },
  {
   "cell_type": "code",
   "execution_count": 45,
   "id": "6e55366f",
   "metadata": {},
   "outputs": [],
   "source": [
    "titulos = []\n",
    "urls = []\n",
    "\n",
    "for bs in soup.find_all(\"h2\"):\n",
    "    \n",
    "    titulo = bs.find(\"a\").text\n",
    "    url = bs.find(\"a\")[\"href\"]\n",
    "    titulos.append(titulo)\n",
    "    urls.append(url)"
   ]
  },
  {
   "cell_type": "markdown",
   "id": "3699a764",
   "metadata": {},
   "source": [
    "Toda esta información se puede agrupar en un DataFrame y convertir a **`.csv`**"
   ]
  },
  {
   "cell_type": "code",
   "execution_count": 46,
   "id": "e1c9a6c3",
   "metadata": {},
   "outputs": [],
   "source": [
    "import numpy as np\n",
    "import pandas as pd"
   ]
  },
  {
   "cell_type": "code",
   "execution_count": 47,
   "id": "c39f0062",
   "metadata": {},
   "outputs": [],
   "source": [
    "df = pd.DataFrame()\n",
    "\n",
    "df[\"titulo\"] = titulos\n",
    "\n",
    "df[\"url\"] = urls"
   ]
  },
  {
   "cell_type": "code",
   "execution_count": 48,
   "id": "e53c54bd",
   "metadata": {},
   "outputs": [
    {
     "data": {
      "text/html": [
       "<div>\n",
       "<style scoped>\n",
       "    .dataframe tbody tr th:only-of-type {\n",
       "        vertical-align: middle;\n",
       "    }\n",
       "\n",
       "    .dataframe tbody tr th {\n",
       "        vertical-align: top;\n",
       "    }\n",
       "\n",
       "    .dataframe thead th {\n",
       "        text-align: right;\n",
       "    }\n",
       "</style>\n",
       "<table border=\"1\" class=\"dataframe\">\n",
       "  <thead>\n",
       "    <tr style=\"text-align: right;\">\n",
       "      <th></th>\n",
       "      <th>titulo</th>\n",
       "      <th>url</th>\n",
       "    </tr>\n",
       "  </thead>\n",
       "  <tbody>\n",
       "    <tr>\n",
       "      <th>0</th>\n",
       "      <td>Madame Web</td>\n",
       "      <td>/peliculas/pelicula-277610/</td>\n",
       "    </tr>\n",
       "    <tr>\n",
       "      <th>1</th>\n",
       "      <td>Bob Marley: One Love</td>\n",
       "      <td>/peliculas/pelicula-290882/</td>\n",
       "    </tr>\n",
       "    <tr>\n",
       "      <th>2</th>\n",
       "      <td>Políticamente incorrectos</td>\n",
       "      <td>/peliculas/pelicula-318272/</td>\n",
       "    </tr>\n",
       "    <tr>\n",
       "      <th>3</th>\n",
       "      <td>Ferrari</td>\n",
       "      <td>/peliculas/pelicula-237130/</td>\n",
       "    </tr>\n",
       "    <tr>\n",
       "      <th>4</th>\n",
       "      <td>Cualquiera menos tú</td>\n",
       "      <td>/peliculas/pelicula-187945/</td>\n",
       "    </tr>\n",
       "    <tr>\n",
       "      <th>5</th>\n",
       "      <td>Pobres criaturas</td>\n",
       "      <td>/peliculas/pelicula-290065/</td>\n",
       "    </tr>\n",
       "    <tr>\n",
       "      <th>6</th>\n",
       "      <td>La Piscina</td>\n",
       "      <td>/peliculas/pelicula-312090/</td>\n",
       "    </tr>\n",
       "    <tr>\n",
       "      <th>7</th>\n",
       "      <td>Guardianes de la Noche (Kimetsu no Yaiba): Rum...</td>\n",
       "      <td>/peliculas/pelicula-325052/</td>\n",
       "    </tr>\n",
       "    <tr>\n",
       "      <th>8</th>\n",
       "      <td>Priscilla</td>\n",
       "      <td>/peliculas/pelicula-308042/</td>\n",
       "    </tr>\n",
       "    <tr>\n",
       "      <th>9</th>\n",
       "      <td>Migración. Un viaje patas arriba</td>\n",
       "      <td>/peliculas/pelicula-253760/</td>\n",
       "    </tr>\n",
       "    <tr>\n",
       "      <th>10</th>\n",
       "      <td>Guardianes del museo</td>\n",
       "      <td>/peliculas/pelicula-313092/</td>\n",
       "    </tr>\n",
       "    <tr>\n",
       "      <th>11</th>\n",
       "      <td>Wonka</td>\n",
       "      <td>/peliculas/pelicula-251105/</td>\n",
       "    </tr>\n",
       "  </tbody>\n",
       "</table>\n",
       "</div>"
      ],
      "text/plain": [
       "                                               titulo  \\\n",
       "0                                          Madame Web   \n",
       "1                                Bob Marley: One Love   \n",
       "2                           Políticamente incorrectos   \n",
       "3                                             Ferrari   \n",
       "4                                 Cualquiera menos tú   \n",
       "5                                    Pobres criaturas   \n",
       "6                                          La Piscina   \n",
       "7   Guardianes de la Noche (Kimetsu no Yaiba): Rum...   \n",
       "8                                           Priscilla   \n",
       "9                    Migración. Un viaje patas arriba   \n",
       "10                               Guardianes del museo   \n",
       "11                                              Wonka   \n",
       "\n",
       "                            url  \n",
       "0   /peliculas/pelicula-277610/  \n",
       "1   /peliculas/pelicula-290882/  \n",
       "2   /peliculas/pelicula-318272/  \n",
       "3   /peliculas/pelicula-237130/  \n",
       "4   /peliculas/pelicula-187945/  \n",
       "5   /peliculas/pelicula-290065/  \n",
       "6   /peliculas/pelicula-312090/  \n",
       "7   /peliculas/pelicula-325052/  \n",
       "8   /peliculas/pelicula-308042/  \n",
       "9   /peliculas/pelicula-253760/  \n",
       "10  /peliculas/pelicula-313092/  \n",
       "11  /peliculas/pelicula-251105/  "
      ]
     },
     "execution_count": 48,
     "metadata": {},
     "output_type": "execute_result"
    }
   ],
   "source": [
    "df"
   ]
  },
  {
   "cell_type": "code",
   "execution_count": 49,
   "id": "3d6c8703",
   "metadata": {},
   "outputs": [],
   "source": [
    "df[\"url\"] = df[\"url\"].apply(lambda x : f\"https://www.sensacine.com{x}\")"
   ]
  },
  {
   "cell_type": "code",
   "execution_count": 50,
   "id": "949c1eda",
   "metadata": {},
   "outputs": [
    {
     "data": {
      "text/html": [
       "<div>\n",
       "<style scoped>\n",
       "    .dataframe tbody tr th:only-of-type {\n",
       "        vertical-align: middle;\n",
       "    }\n",
       "\n",
       "    .dataframe tbody tr th {\n",
       "        vertical-align: top;\n",
       "    }\n",
       "\n",
       "    .dataframe thead th {\n",
       "        text-align: right;\n",
       "    }\n",
       "</style>\n",
       "<table border=\"1\" class=\"dataframe\">\n",
       "  <thead>\n",
       "    <tr style=\"text-align: right;\">\n",
       "      <th></th>\n",
       "      <th>titulo</th>\n",
       "      <th>url</th>\n",
       "    </tr>\n",
       "  </thead>\n",
       "  <tbody>\n",
       "    <tr>\n",
       "      <th>0</th>\n",
       "      <td>Madame Web</td>\n",
       "      <td>https://www.sensacine.com/peliculas/pelicula-2...</td>\n",
       "    </tr>\n",
       "    <tr>\n",
       "      <th>1</th>\n",
       "      <td>Bob Marley: One Love</td>\n",
       "      <td>https://www.sensacine.com/peliculas/pelicula-2...</td>\n",
       "    </tr>\n",
       "    <tr>\n",
       "      <th>2</th>\n",
       "      <td>Políticamente incorrectos</td>\n",
       "      <td>https://www.sensacine.com/peliculas/pelicula-3...</td>\n",
       "    </tr>\n",
       "    <tr>\n",
       "      <th>3</th>\n",
       "      <td>Ferrari</td>\n",
       "      <td>https://www.sensacine.com/peliculas/pelicula-2...</td>\n",
       "    </tr>\n",
       "    <tr>\n",
       "      <th>4</th>\n",
       "      <td>Cualquiera menos tú</td>\n",
       "      <td>https://www.sensacine.com/peliculas/pelicula-1...</td>\n",
       "    </tr>\n",
       "    <tr>\n",
       "      <th>5</th>\n",
       "      <td>Pobres criaturas</td>\n",
       "      <td>https://www.sensacine.com/peliculas/pelicula-2...</td>\n",
       "    </tr>\n",
       "    <tr>\n",
       "      <th>6</th>\n",
       "      <td>La Piscina</td>\n",
       "      <td>https://www.sensacine.com/peliculas/pelicula-3...</td>\n",
       "    </tr>\n",
       "    <tr>\n",
       "      <th>7</th>\n",
       "      <td>Guardianes de la Noche (Kimetsu no Yaiba): Rum...</td>\n",
       "      <td>https://www.sensacine.com/peliculas/pelicula-3...</td>\n",
       "    </tr>\n",
       "    <tr>\n",
       "      <th>8</th>\n",
       "      <td>Priscilla</td>\n",
       "      <td>https://www.sensacine.com/peliculas/pelicula-3...</td>\n",
       "    </tr>\n",
       "    <tr>\n",
       "      <th>9</th>\n",
       "      <td>Migración. Un viaje patas arriba</td>\n",
       "      <td>https://www.sensacine.com/peliculas/pelicula-2...</td>\n",
       "    </tr>\n",
       "    <tr>\n",
       "      <th>10</th>\n",
       "      <td>Guardianes del museo</td>\n",
       "      <td>https://www.sensacine.com/peliculas/pelicula-3...</td>\n",
       "    </tr>\n",
       "    <tr>\n",
       "      <th>11</th>\n",
       "      <td>Wonka</td>\n",
       "      <td>https://www.sensacine.com/peliculas/pelicula-2...</td>\n",
       "    </tr>\n",
       "  </tbody>\n",
       "</table>\n",
       "</div>"
      ],
      "text/plain": [
       "                                               titulo  \\\n",
       "0                                          Madame Web   \n",
       "1                                Bob Marley: One Love   \n",
       "2                           Políticamente incorrectos   \n",
       "3                                             Ferrari   \n",
       "4                                 Cualquiera menos tú   \n",
       "5                                    Pobres criaturas   \n",
       "6                                          La Piscina   \n",
       "7   Guardianes de la Noche (Kimetsu no Yaiba): Rum...   \n",
       "8                                           Priscilla   \n",
       "9                    Migración. Un viaje patas arriba   \n",
       "10                               Guardianes del museo   \n",
       "11                                              Wonka   \n",
       "\n",
       "                                                  url  \n",
       "0   https://www.sensacine.com/peliculas/pelicula-2...  \n",
       "1   https://www.sensacine.com/peliculas/pelicula-2...  \n",
       "2   https://www.sensacine.com/peliculas/pelicula-3...  \n",
       "3   https://www.sensacine.com/peliculas/pelicula-2...  \n",
       "4   https://www.sensacine.com/peliculas/pelicula-1...  \n",
       "5   https://www.sensacine.com/peliculas/pelicula-2...  \n",
       "6   https://www.sensacine.com/peliculas/pelicula-3...  \n",
       "7   https://www.sensacine.com/peliculas/pelicula-3...  \n",
       "8   https://www.sensacine.com/peliculas/pelicula-3...  \n",
       "9   https://www.sensacine.com/peliculas/pelicula-2...  \n",
       "10  https://www.sensacine.com/peliculas/pelicula-3...  \n",
       "11  https://www.sensacine.com/peliculas/pelicula-2...  "
      ]
     },
     "execution_count": 50,
     "metadata": {},
     "output_type": "execute_result"
    }
   ],
   "source": [
    "df"
   ]
  },
  {
   "cell_type": "code",
   "execution_count": null,
   "id": "4704af72",
   "metadata": {},
   "outputs": [],
   "source": [
    "# path_or_buf = Nombre del archivo terminado en .csv\n",
    "# index = False para que no se guarde el indice como nueva columna en el csv\n",
    "# sep = \",\" para que el separador sea \",\", se puede cambiar por cualquier otro separador.\n",
    "\n",
    "df.to_csv(\"sensacine.csv\", index = False, sep = \",\")"
   ]
  },
  {
   "cell_type": "code",
   "execution_count": null,
   "id": "fa457f24",
   "metadata": {},
   "outputs": [],
   "source": [
    "df.to_pickle(\"sensacine.pkl\")"
   ]
  },
  {
   "cell_type": "code",
   "execution_count": 51,
   "id": "049acc3d-999f-442a-884b-7a04386ef831",
   "metadata": {},
   "outputs": [],
   "source": [
    "url = \"https://www.scrapethissite.com/pages/simple/\"\n",
    "response = requests.get(url)\n",
    "soup = BeautifulSoup(response.text, \"html.parser\")"
   ]
  },
  {
   "cell_type": "code",
   "execution_count": 75,
   "id": "1881c512-f874-4396-8e03-479efbe7db19",
   "metadata": {},
   "outputs": [],
   "source": [
    "data = []\n",
    "countries = soup.find_all(\"div\", class_ = \"col-md-4 country\")\n",
    "for country in countries:\n",
    "    country_name = country.find(\"h3\", class_ = \"country-name\").text.strip()\n",
    "    capital = country.find(\"span\", class_ = \"country-capital\").text\n",
    "    country_population = int(country.find(\"span\", class_ = \"country-population\").text)\n",
    "    country_area = float(country.find(\"span\", class_ = \"country-area\").text)\n",
    "\n",
    "    data.append([country_name, capital, country_population, country_area])"
   ]
  },
  {
   "cell_type": "code",
   "execution_count": null,
   "id": "843037de-1abe-4bba-be6e-06a5e69d6e58",
   "metadata": {},
   "outputs": [],
   "source": [
    "pd.DataFrame(data, columns = [\"country_name\", \"capital\", \"population\", \"area\"])"
   ]
  },
  {
   "cell_type": "code",
   "execution_count": 69,
   "id": "8ae5cdab-d5eb-4672-89ae-82a887a80224",
   "metadata": {},
   "outputs": [
    {
     "data": {
      "text/plain": [
       "'Andorra'"
      ]
     },
     "execution_count": 69,
     "metadata": {},
     "output_type": "execute_result"
    }
   ],
   "source": [
    "country.find(\"h3\", class_ = \"country-name\").text.strip()"
   ]
  },
  {
   "cell_type": "code",
   "execution_count": 73,
   "id": "b1463c18-1479-4df6-b357-8645466b4435",
   "metadata": {},
   "outputs": [
    {
     "data": {
      "text/plain": [
       "int"
      ]
     },
     "execution_count": 73,
     "metadata": {},
     "output_type": "execute_result"
    }
   ],
   "source": [
    "int"
   ]
  },
  {
   "cell_type": "markdown",
   "id": "e9881539",
   "metadata": {},
   "source": [
    "### Agregar al DataFrame la duración de cada pelicula y su puntaje:"
   ]
  },
  {
   "cell_type": "code",
   "execution_count": 79,
   "id": "96876555-0db1-4c21-991a-5b0c45355e7a",
   "metadata": {},
   "outputs": [],
   "source": [
    "# sensacine\n",
    "\n",
    "url = \"https://www.sensacine.com/peliculas/en-cartelera/cines/\"\n",
    "\n",
    "response = requests.get(url)\n",
    "soup = BeautifulSoup(response.text, \"html.parser\")"
   ]
  },
  {
   "cell_type": "code",
   "execution_count": 86,
   "id": "0d4c7e65",
   "metadata": {},
   "outputs": [
    {
     "data": {
      "text/plain": [
       "'1h 57min'"
      ]
     },
     "execution_count": 86,
     "metadata": {},
     "output_type": "execute_result"
    }
   ],
   "source": [
    "soup.find(\"div\", class_ = \"meta-body-item meta-body-info\").text.split(\"|\")[1].replace(\"\\n\", \"\")"
   ]
  },
  {
   "cell_type": "code",
   "execution_count": null,
   "id": "9e9131c9",
   "metadata": {},
   "outputs": [],
   "source": [
    "# [np.nan if len(x.text.replace(\"\\n\", \"\").split(\"/\")) < 3 else x.text.replace(\"\\n\", \"\").split(\"/\")[1] for x in soup.find_all(\"div\", class_ = \"meta-body-item meta-body-info\")]"
   ]
  },
  {
   "cell_type": "code",
   "execution_count": null,
   "id": "95a7cf80",
   "metadata": {},
   "outputs": [],
   "source": [
    "lista_duraciones = list()\n",
    "\n",
    "for x in soup.find_all(\"div\", class_ = \"meta-body-item meta-body-info\"):\n",
    "    \n",
    "    x = x.text.replace(\"\\n\", \"\").split(\"/\")\n",
    "    \n",
    "    if len(x) < 3:\n",
    "        \n",
    "        lista_duraciones.append(np.nan)\n",
    "        \n",
    "    else:\n",
    "        \n",
    "        lista_duraciones.append(x[1])\n",
    "        \n",
    "lista_duraciones"
   ]
  },
  {
   "cell_type": "code",
   "execution_count": null,
   "id": "56ae6879",
   "metadata": {},
   "outputs": [],
   "source": [
    "<div class=\"rating-holder rating-holder-3\">\n",
    "<div class=\"rating-item\">\n",
    "<div class=\"rating-item-content\">\n",
    "<a class=\"xXx rating-title\" href=\"/peliculas/pelicula-246641/criticas-prensa/\"> Medios </a>\n",
    "<div class=\"stareval stareval-medium stareval-theme-default\"><div class=\"rating-mdl n40 stareval-stars\"><div class=\"star icon\"></div><div class=\"star icon\"></div><div class=\"star icon\"></div><div class=\"star icon\"></div><div class=\"star icon\"></div></div><span class=\"stareval-note\">3,8</span></div>\n",
    "</div>\n",
    "</div>\n",
    "<div class=\"rating-item\">\n",
    "<div class=\"rating-item-content\">\n",
    "<a class=\"xXx rating-title\" href=\"/peliculas/pelicula-246641/criticas-espectadores/\"> Usuarios </a>\n",
    "<div class=\"stareval stareval-medium stareval-theme-default\"><div class=\"rating-mdl n40 stareval-stars\"><div class=\"star icon\"></div><div class=\"star icon\"></div><div class=\"star icon\"></div><div class=\"star icon\"></div><div class=\"star icon\"></div></div><span class=\"stareval-note\">3,8</span></div>\n",
    "</div>\n",
    "</div>\n",
    "<div class=\"rating-item\">\n",
    "<div class=\"rating-item-content js-user-friends-rating\" data-entity-id=\"TW92aWU6MjQ2NjQx\" data-size=\"medium\" data-title=\"Mis amigos \"><span><div class=\"rating-title\">Mis amigos </div><div class=\"stareval stareval-medium\"><span class=\"user-rating-note theme-yellow read-only no-del user-rating-medium\"><span class=\"user-rating\"><div class=\"rating-star tooltip-parent\"></div><div class=\"rating-star tooltip-parent\"></div><div class=\"rating-star tooltip-parent\"></div><div class=\"rating-star tooltip-parent\"></div><div class=\"rating-star tooltip-parent\"></div><div class=\"rating-star tooltip-parent\"></div><div class=\"rating-star tooltip-parent\"></div><div class=\"rating-star tooltip-parent\"></div><div class=\"rating-star tooltip-parent\"></div><div class=\"rating-star tooltip-parent\"></div></span></span><span class=\"stareval-note no-rating\">--</span></div><div class=\"zRJZkyoM6t6Z56xqtqmA\"></div></span></div>\n",
    "</div>\n",
    "</div>"
   ]
  },
  {
   "cell_type": "code",
   "execution_count": null,
   "id": "203246df",
   "metadata": {},
   "outputs": [],
   "source": [
    "soup.find_all(\"li\", class_ = \"mdl\")[0]"
   ]
  },
  {
   "cell_type": "code",
   "execution_count": null,
   "id": "7270e20f",
   "metadata": {},
   "outputs": [],
   "source": [
    "soup.find_all(\"li\", class_ = \"mdl\")[1]"
   ]
  },
  {
   "cell_type": "code",
   "execution_count": null,
   "id": "51f948dd",
   "metadata": {},
   "outputs": [],
   "source": [
    "len(soup.find_all(\"li\", class_ = \"mdl\"))"
   ]
  },
  {
   "cell_type": "code",
   "execution_count": null,
   "id": "20bd89cc",
   "metadata": {},
   "outputs": [],
   "source": [
    "lista_puntaciones = list()\n",
    "\n",
    "for pelicula in soup.find_all(\"li\", class_ = \"mdl\"):\n",
    "    \n",
    "    if pelicula.find(\"a\") != None:\n",
    "    \n",
    "        try:\n",
    "            x = float(pelicula.find(\"div\", class_ = \"rating-item\").find(\"span\", class_ = \"stareval-note\").text.replace(\",\", \".\"))\n",
    "\n",
    "        except:\n",
    "\n",
    "            x = np.nan\n",
    "    \n",
    "        lista_puntaciones.append(x)\n",
    "        \n",
    "lista_puntaciones"
   ]
  },
  {
   "cell_type": "code",
   "execution_count": null,
   "id": "21345cf0",
   "metadata": {},
   "outputs": [],
   "source": [
    "df[\"duracion\"] = lista_duraciones\n",
    "\n",
    "df[\"puntuacion\"] = lista_puntaciones\n",
    "\n",
    "df"
   ]
  },
  {
   "cell_type": "code",
   "execution_count": null,
   "id": "782569bd",
   "metadata": {},
   "outputs": [],
   "source": [
    "df.info()"
   ]
  },
  {
   "cell_type": "markdown",
   "id": "d17a665b",
   "metadata": {},
   "source": [
    "### Información de 1 pelicula:\n",
    "\n",
    "Vamos a entrar al primer **`url`** y sacar toda su información."
   ]
  },
  {
   "cell_type": "code",
   "execution_count": null,
   "id": "aeb45c9c",
   "metadata": {},
   "outputs": [],
   "source": [
    "url = \"https://www.sensacine.com/peliculas/pelicula-246641/\"\n",
    "\n",
    "response = requests.get(url)\n",
    "soup = BeautifulSoup(response.text, \"html.parser\")\n",
    "\n",
    "soup"
   ]
  },
  {
   "cell_type": "code",
   "execution_count": 88,
   "id": "618df1d8",
   "metadata": {},
   "outputs": [
    {
     "data": {
      "text/plain": [
       "'Guardianes de la Galaxia: Volumen 3'"
      ]
     },
     "execution_count": 88,
     "metadata": {},
     "output_type": "execute_result"
    }
   ],
   "source": [
    "# Titulo\n",
    "\n",
    "soup.find(\"div\", class_ = \"titlebar titlebar-page\").text.strip()"
   ]
  },
  {
   "cell_type": "code",
   "execution_count": 93,
   "id": "0f742bef-4209-4875-9bcc-3030732203d7",
   "metadata": {},
   "outputs": [],
   "source": [
    "soup.find(\"a\", class_ = \"xXx date \")"
   ]
  },
  {
   "cell_type": "code",
   "execution_count": 94,
   "id": "969a1127",
   "metadata": {},
   "outputs": [
    {
     "data": {
      "text/plain": [
       "'4 de mayo de 2023'"
      ]
     },
     "execution_count": 94,
     "metadata": {},
     "output_type": "execute_result"
    }
   ],
   "source": [
    "# Fecha\n",
    "\n",
    "dict_bs4 = {\"class\" : \"meta-body-item meta-body-info\"}\n",
    "\n",
    "soup.find(\"div\", attrs = dict_bs4).text.strip().split(\"\\n\")[0]"
   ]
  },
  {
   "cell_type": "code",
   "execution_count": null,
   "id": "117045ea",
   "metadata": {},
   "outputs": [],
   "source": [
    "# Duración\n",
    "\n",
    "dict_bs4 = {\"class\" : \"meta-body-item meta-body-info\"}\n",
    "\n",
    "soup.find(\"div\", attrs = dict_bs4).text.replace(\"\\n\", \"\").split(\"/\")[1]"
   ]
  },
  {
   "cell_type": "code",
   "execution_count": null,
   "id": "2012796d",
   "metadata": {},
   "outputs": [],
   "source": [
    "# Guion \n",
    "\n",
    "soup.find_all(\"div\", class_ = \"meta-body-item meta-body-direction\")[1].find_all(\"span\")[1].text"
   ]
  },
  {
   "cell_type": "code",
   "execution_count": null,
   "id": "574f456f",
   "metadata": {},
   "outputs": [],
   "source": [
    "# Reparto \n",
    "\n",
    "soup.find(\"div\", class_ = \"meta-body-item meta-body-actor\").find_all(\"span\")[1:]"
   ]
  },
  {
   "cell_type": "code",
   "execution_count": null,
   "id": "d5e67fa2",
   "metadata": {},
   "outputs": [],
   "source": [
    "[x.text for x in soup.find(\"div\", class_ = \"meta-body-item meta-body-actor\").find_all(\"span\")[1:]]"
   ]
  },
  {
   "cell_type": "code",
   "execution_count": null,
   "id": "125d9012",
   "metadata": {},
   "outputs": [],
   "source": [
    "# Géneros\n",
    "\n",
    "dict_bs4 = {\"class\" : \"meta-body-item meta-body-info\"}\n",
    "\n",
    "soup.find(\"div\", attrs = dict_bs4).text.replace(\"\\n\", \"\").split(\"/\")[-1].split(\",\")"
   ]
  },
  {
   "cell_type": "code",
   "execution_count": null,
   "id": "5c7d22cd",
   "metadata": {},
   "outputs": [],
   "source": [
    "# Sinopsis\n",
    "\n",
    "soup.find(\"section\", attrs = {\"class\" : \"section ovw ovw-synopsis\"}).find(\"div\", class_ = \"content-txt\").text"
   ]
  },
  {
   "cell_type": "code",
   "execution_count": null,
   "id": "e91884a0",
   "metadata": {},
   "outputs": [],
   "source": [
    "from time import sleep"
   ]
  },
  {
   "cell_type": "code",
   "execution_count": null,
   "id": "665d6369",
   "metadata": {},
   "outputs": [],
   "source": [
    "df[\"urls\"]"
   ]
  },
  {
   "cell_type": "code",
   "execution_count": null,
   "id": "c6c4d458-3ae3-433c-b2b6-41638461cae0",
   "metadata": {},
   "outputs": [],
   "source": []
  },
  {
   "cell_type": "code",
   "execution_count": null,
   "id": "d4dc462a",
   "metadata": {},
   "outputs": [],
   "source": [
    "# Crear un DataFrame\n",
    "\n",
    "titulos = list()\n",
    "fechas = list()\n",
    "duraciones = list()\n",
    "guiones = list()\n",
    "repartos = list()\n",
    "generos = list()\n",
    "sinopsises = list()\n",
    "\n",
    "for url in df[\"urls\"]:\n",
    "    \n",
    "    print(url)\n",
    "    \n",
    "    response = requests.get(url)\n",
    "    soup = BeautifulSoup(response.text, \"html.parser\")\n",
    "\n",
    "    titulo = soup.find(\"div\", class_ = \"titlebar titlebar-page\").text\n",
    "    fecha = soup.find(\"div\", attrs = dict_bs4).text.strip().split(\"\\n\")[0]\n",
    "    duracion = soup.find(\"div\", class_ = \"meta-body-item meta-body-info\").text.replace(\"\\n\", \"\").split(\"/\")[1]\n",
    "    guion = soup.find_all(\"div\", class_ = \"meta-body-item meta-body-direction\")[1].find_all(\"span\")[1].text\n",
    "    reparto = \", \".join([x.text for x in soup.find(\"div\", class_ = \"meta-body-item meta-body-actor\").find_all(\"span\")[1:]])\n",
    "    genero = \" \".join(soup.find(\"div\", class_ = \"meta-body-item meta-body-info\").text.replace(\"\\n\", \"\").split(\"/\")[-1].split(\",\"))\n",
    "    sinopsis = soup.find(\"section\", class_ = \"section ovw ovw-synopsis\").find(\"div\", class_ = \"content-txt\").text\n",
    "    \n",
    "    titulos.append(titulo)\n",
    "    fechas.append(fecha)\n",
    "    duraciones.append(duracion)\n",
    "    guiones.append(guion)\n",
    "    repartos.append(reparto)\n",
    "    generos.append(genero)\n",
    "    sinopsises.append(sinopsis)\n",
    "    \n",
    "    sleep(3)"
   ]
  },
  {
   "cell_type": "markdown",
   "id": "24c7c832",
   "metadata": {},
   "source": [
    "Muchas veces sucede que no todas las páginas tienen la misma información, por lo que tenemos que asegurarnos de que si no existe un dato lo sustituimos con un np.nan. Por eso podemos usar:\n",
    "```python\n",
    "try:\n",
    "    \n",
    "except:\n",
    "```"
   ]
  },
  {
   "cell_type": "code",
   "execution_count": null,
   "id": "352d926d",
   "metadata": {},
   "outputs": [],
   "source": [
    "# Crear un DataFrame\n",
    "\n",
    "titulos = list()\n",
    "fechas = list()\n",
    "duraciones = list()\n",
    "guiones = list()\n",
    "repartos = list()\n",
    "generos = list()\n",
    "sinopsises = list()\n",
    "\n",
    "for url in df[\"urls\"]:\n",
    "    \n",
    "    print(url)\n",
    "    \n",
    "    response = requests.get(url)\n",
    "    soup = BeautifulSoup(response.text, \"html.parser\")\n",
    "    \n",
    "#### Titulo #######################################################################################################   \n",
    "\n",
    "    try:\n",
    "        titulo = soup.find(\"div\", class_ = \"titlebar titlebar-page\").text\n",
    "        \n",
    "    except:\n",
    "        titulo = np.nan\n",
    "        \n",
    "#### Fecha ########################################################################################################   \n",
    "\n",
    "    try:\n",
    "        fecha = soup.find(\"div\", class_ = \"meta-body-item meta-body-info\").text.strip().split(\"\\n\")[0]\n",
    "        \n",
    "    except:\n",
    "        fecha = np.nan\n",
    "\n",
    "#### Duracion #####################################################################################################\n",
    "\n",
    "    try:\n",
    "        duracion = soup.find(\"div\", attrs = dict_bs4).text.replace(\"\\n\", \"\").split(\"/\")[1]\n",
    "        \n",
    "    except:\n",
    "        duracion = np.nan\n",
    "\n",
    "#### Guion ########################################################################################################\n",
    "\n",
    "    try:\n",
    "        guion = soup.find_all(\"div\", class_ = \"meta-body-item meta-body-direction\")[1].find_all(\"span\")[1].text\n",
    "        \n",
    "    except:\n",
    "        guion = np.nan\n",
    "\n",
    "#### Reparto ######################################################################################################\n",
    "\n",
    "    try:\n",
    "        reparto = \", \".join([x.text for x in soup.find(\"div\", class_ = \"meta-body-item meta-body-actor\").find_all(\"span\")[1:]])\n",
    "        \n",
    "    except:\n",
    "        reparto = np.nan\n",
    "\n",
    "#### Genero #######################################################################################################\n",
    "\n",
    "    try:\n",
    "        genero = \" \".join(soup.find(\"div\", attrs = dict_bs4).text.replace(\"\\n\", \"\").split(\"/\")[-1].split(\",\"))\n",
    "        \n",
    "    except:\n",
    "        genero = np.nan\n",
    "\n",
    "#### Sinopsis #####################################################################################################\n",
    "\n",
    "    try:\n",
    "        sinopsis = soup.find(\"section\", attrs = {\"class\" : \"section ovw ovw-synopsis\"}).find(\"div\", class_ = \"content-txt\").text\n",
    "        \n",
    "    except:\n",
    "        sinopsis = np.nan\n",
    "        \n",
    "##################################################################################################################\n",
    "\n",
    "    # appends\n",
    "    \n",
    "    titulos.append(titulo)\n",
    "    fechas.append(fecha)\n",
    "    duraciones.append(duracion)\n",
    "    guiones.append(guion)\n",
    "    repartos.append(reparto)\n",
    "    generos.append(genero)\n",
    "    sinopsises.append(sinopsis)\n",
    "    \n",
    "    sleep(3)"
   ]
  },
  {
   "cell_type": "code",
   "execution_count": null,
   "id": "ed14af17",
   "metadata": {},
   "outputs": [],
   "source": [
    "df_peliculas = pd.DataFrame()\n",
    "\n",
    "df_peliculas[\"titulo\"] = titulos\n",
    "df_peliculas[\"fecha\"] = fechas\n",
    "df_peliculas[\"duracion\"] = duraciones\n",
    "df_peliculas[\"guion\"] = guiones\n",
    "df_peliculas[\"reparto\"] = repartos\n",
    "df_peliculas[\"genero\"] = generos\n",
    "df_peliculas[\"sinopsis\"] = sinopsises\n",
    "\n",
    "df_peliculas[\"url\"] = df[\"urls\"]"
   ]
  },
  {
   "cell_type": "code",
   "execution_count": null,
   "id": "8ce077f0",
   "metadata": {},
   "outputs": [],
   "source": [
    "df_peliculas"
   ]
  },
  {
   "cell_type": "markdown",
   "id": "33200003",
   "metadata": {},
   "source": [
    "### Ejercicio: Modificar el código para que no hayan errores"
   ]
  },
  {
   "cell_type": "code",
   "execution_count": null,
   "id": "133aa13e",
   "metadata": {},
   "outputs": [],
   "source": [
    "# Crear un DataFrame\n",
    "\n",
    "titulos = list()\n",
    "fechas = list()\n",
    "duraciones = list()\n",
    "guiones = list()\n",
    "repartos = list()\n",
    "generos = list()\n",
    "sinopsises = list()\n",
    "\n",
    "for url in df[\"urls\"]:\n",
    "    \n",
    "    print(url)\n",
    "    \n",
    "    response = requests.get(url)\n",
    "    soup = BeautifulSoup(response.text, \"html.parser\")\n",
    "    \n",
    "#### Titulo #######################################################################################################   \n",
    "\n",
    "    try:\n",
    "        titulo = soup.find(\"div\", class_ = \"titlebar titlebar-page\").text\n",
    "        \n",
    "    except:\n",
    "        titulo = np.nan\n",
    "        \n",
    "#### Fecha ########################################################################################################   \n",
    "\n",
    "    try:\n",
    "        fecha = soup.find(\"div\", class_ = \"meta-body-item meta-body-info\").text.strip().split(\"\\n\")[0]\n",
    "        \n",
    "    except:\n",
    "        fecha = np.nan\n",
    "\n",
    "#### Duracion #####################################################################################################\n",
    "\n",
    "    try:\n",
    "        duracion = soup.find(\"div\", attrs = dict_bs4).text.replace(\"\\n\", \"\").split(\"/\")\n",
    "        \n",
    "        if len(duracion) < 3:\n",
    "            \n",
    "            duracion = np.nan\n",
    "            \n",
    "        else:\n",
    "            \n",
    "            duracion = duracion[1]\n",
    "        \n",
    "    except:\n",
    "        duracion = np.nan\n",
    "\n",
    "#### Guion ########################################################################################################\n",
    "\n",
    "    try:\n",
    "        guion = soup.find_all(\"div\", class_ = \"meta-body-item meta-body-direction\")[1].find_all(\"span\")[1].text\n",
    "        \n",
    "    except:\n",
    "        guion = np.nan\n",
    "\n",
    "#### Reparto ######################################################################################################\n",
    "\n",
    "    try:\n",
    "        reparto = \", \".join([x.text for x in soup.find(\"div\", class_ = \"meta-body-item meta-body-actor\").find_all(\"span\")[1:]])\n",
    "        \n",
    "    except:\n",
    "        reparto = np.nan\n",
    "\n",
    "#### Genero #######################################################################################################\n",
    "\n",
    "    try:\n",
    "        genero = \" \".join(soup.find(\"div\", attrs = dict_bs4).text.replace(\"\\n\", \"\").split(\"/\")[-1].split(\",\"))\n",
    "        \n",
    "    except:\n",
    "        genero = np.nan\n",
    "\n",
    "#### Sinopsis #####################################################################################################\n",
    "\n",
    "    try:\n",
    "        sinopsis = soup.find(\"section\", attrs = {\"class\" : \"section ovw ovw-synopsis\"}).find(\"div\", class_ = \"content-txt\").text\n",
    "        \n",
    "    except:\n",
    "        sinopsis = np.nan\n",
    "        \n",
    "##################################################################################################################\n",
    "\n",
    "    # appends\n",
    "    \n",
    "    titulos.append(titulo)\n",
    "    fechas.append(fecha)\n",
    "    duraciones.append(duracion)\n",
    "    guiones.append(guion)\n",
    "    repartos.append(reparto)\n",
    "    generos.append(genero)\n",
    "    sinopsises.append(sinopsis)\n",
    "    \n",
    "    sleep(3)"
   ]
  },
  {
   "cell_type": "code",
   "execution_count": null,
   "id": "ee3d7832",
   "metadata": {},
   "outputs": [],
   "source": [
    "df_peliculas = pd.DataFrame()\n",
    "\n",
    "df_peliculas[\"titulo\"] = titulos\n",
    "df_peliculas[\"fecha\"] = fechas\n",
    "df_peliculas[\"duracion\"] = duraciones\n",
    "df_peliculas[\"guion\"] = guiones\n",
    "df_peliculas[\"reparto\"] = repartos\n",
    "df_peliculas[\"genero\"] = generos\n",
    "df_peliculas[\"sinopsis\"] = sinopsises\n",
    "\n",
    "df_peliculas[\"url\"] = df[\"urls\"]\n",
    "df_peliculas[\"puntuacion\"] = df[\"puntuacion\"]\n",
    "\n",
    "df_peliculas"
   ]
  },
  {
   "cell_type": "code",
   "execution_count": null,
   "id": "cf3b80a6",
   "metadata": {},
   "outputs": [],
   "source": [
    "df_peliculas.to_csv(\"info_peliculas.csv\", index = False, sep = \",\")"
   ]
  },
  {
   "cell_type": "code",
   "execution_count": null,
   "id": "b839973a",
   "metadata": {},
   "outputs": [],
   "source": [
    "################################################################################################################################"
   ]
  },
  {
   "cell_type": "markdown",
   "id": "52c1cfe1-3445-4849-a385-4f9b6869f825",
   "metadata": {},
   "source": [
    "# Pandas - Tablas"
   ]
  },
  {
   "cell_type": "code",
   "execution_count": 106,
   "id": "9579f96f-f56d-4ec8-af0d-36b0ba700135",
   "metadata": {},
   "outputs": [],
   "source": [
    "url = \"https://www.scrapethissite.com/pages/forms/\""
   ]
  },
  {
   "cell_type": "code",
   "execution_count": 108,
   "id": "f125d4d1-f9a2-4665-9ef3-95e80f24e3a7",
   "metadata": {},
   "outputs": [],
   "source": [
    "response = requests.get(url)"
   ]
  },
  {
   "cell_type": "code",
   "execution_count": 110,
   "id": "0760c3c2-1bda-4703-a5f6-66ecc716e2fc",
   "metadata": {},
   "outputs": [
    {
     "name": "stderr",
     "output_type": "stream",
     "text": [
      "/tmp/ipykernel_450208/1627489270.py:1: FutureWarning: Passing literal html to 'read_html' is deprecated and will be removed in a future version. To read from a literal string, wrap it in a 'StringIO' object.\n",
      "  tablas = pd.read_html(response.text)\n"
     ]
    }
   ],
   "source": [
    "tablas = pd.read_html(response.text)"
   ]
  },
  {
   "cell_type": "code",
   "execution_count": 115,
   "id": "f3e48bb0-bc4a-4eff-bef1-fa8a9a3d1a93",
   "metadata": {},
   "outputs": [],
   "source": [
    "# SACAR TODAS"
   ]
  },
  {
   "cell_type": "code",
   "execution_count": null,
   "id": "dec8c5a1-8faa-43c7-ad9f-0d785ebfcdfb",
   "metadata": {},
   "outputs": [],
   "source": [
    "page_counter = 1\n",
    "dfs = []\n",
    "\n",
    "while True:\n",
    "    url = f\"https://www.scrapethissite.com/pages/forms/?page_num={page_counter}\"\n",
    "    response = requests.get(url)\n",
    "    tablas = pd.read_html(response.text)\n",
    "    df_temp = tablas[0]\n",
    "\n",
    "    if df_temp.empty:\n",
    "        break\n",
    "    \n",
    "    dfs.append(df_temp)\n",
    "    page_counter += 1"
   ]
  },
  {
   "cell_type": "code",
   "execution_count": 127,
   "id": "3864dd05-b766-460e-bd84-3fcc5c16bda9",
   "metadata": {},
   "outputs": [],
   "source": [
    "a = pd.DataFrame()"
   ]
  },
  {
   "cell_type": "code",
   "execution_count": null,
   "id": "d1a76789-7b8f-48e1-9e49-c9f99a335801",
   "metadata": {},
   "outputs": [],
   "source": [
    "page_counter = 1\n",
    "\n",
    "df = pd.DataFrame()\n",
    "\n",
    "while True:\n",
    "    url = f\"https://www.scrapethissite.com/pages/forms/?page_num={page_counter}\"\n",
    "    response = requests.get(url)\n",
    "    tablas = pd.read_html(response.text)\n",
    "    df_temp = tablas[0]\n",
    "\n",
    "    if df_temp.empty:\n",
    "        break\n",
    "\n",
    "    df = pd.concat([df, df_temp])\n",
    "    page_counter += 1"
   ]
  },
  {
   "cell_type": "code",
   "execution_count": null,
   "id": "f5b4651c-3668-41d7-9359-6bf1f1b6672f",
   "metadata": {},
   "outputs": [],
   "source": []
  }
 ],
 "metadata": {
  "kernelspec": {
   "display_name": "Python 3 (ipykernel)",
   "language": "python",
   "name": "python3"
  },
  "language_info": {
   "codemirror_mode": {
    "name": "ipython",
    "version": 3
   },
   "file_extension": ".py",
   "mimetype": "text/x-python",
   "name": "python",
   "nbconvert_exporter": "python",
   "pygments_lexer": "ipython3",
   "version": "3.10.12"
  }
 },
 "nbformat": 4,
 "nbformat_minor": 5
}
