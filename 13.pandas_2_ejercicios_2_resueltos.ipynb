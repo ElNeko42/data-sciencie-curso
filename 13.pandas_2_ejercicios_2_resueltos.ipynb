{
 "cells": [
  {
   "cell_type": "markdown",
   "id": "c0dfa3ba",
   "metadata": {},
   "source": [
    "## Ejercicio pandas 2"
   ]
  },
  {
   "cell_type": "code",
   "execution_count": 1,
   "id": "a48526c3",
   "metadata": {},
   "outputs": [
    {
     "name": "stderr",
     "output_type": "stream",
     "text": [
      "/tmp/ipykernel_18439/1662815981.py:2: DeprecationWarning: \n",
      "Pyarrow will become a required dependency of pandas in the next major release of pandas (pandas 3.0),\n",
      "(to allow more performant data types, such as the Arrow string type, and better interoperability with other libraries)\n",
      "but was not found to be installed on your system.\n",
      "If this would cause problems for you,\n",
      "please provide us feedback at https://github.com/pandas-dev/pandas/issues/54466\n",
      "        \n",
      "  import pandas as pd\n"
     ]
    }
   ],
   "source": [
    "import numpy as np\n",
    "import pandas as pd"
   ]
  },
  {
   "cell_type": "markdown",
   "id": "b4b00b26",
   "metadata": {},
   "source": [
    "### Ejercicio 0:\n",
    "- Carga ambos archivos **`titanic_1.csv`** y **`titanic_2.csv`** y guardalos en **`df1`** y **`df2`** respectivamente:"
   ]
  },
  {
   "cell_type": "code",
   "execution_count": 5,
   "id": "3395863d",
   "metadata": {},
   "outputs": [],
   "source": [
    "df1 = pd.read_csv(\"Data/titanic_1.csv\")\n",
    "df2 = pd.read_csv(\"Data/titanic_2.csv\")"
   ]
  },
  {
   "cell_type": "markdown",
   "id": "69fdda19",
   "metadata": {},
   "source": [
    "### Ejercicio 1:\n",
    "- Mostrar las estadisticas de cada uno de los DataFrames."
   ]
  },
  {
   "cell_type": "code",
   "execution_count": 9,
   "id": "700ec390",
   "metadata": {},
   "outputs": [
    {
     "data": {
      "text/html": [
       "<div>\n",
       "<style scoped>\n",
       "    .dataframe tbody tr th:only-of-type {\n",
       "        vertical-align: middle;\n",
       "    }\n",
       "\n",
       "    .dataframe tbody tr th {\n",
       "        vertical-align: top;\n",
       "    }\n",
       "\n",
       "    .dataframe thead th {\n",
       "        text-align: right;\n",
       "    }\n",
       "</style>\n",
       "<table border=\"1\" class=\"dataframe\">\n",
       "  <thead>\n",
       "    <tr style=\"text-align: right;\">\n",
       "      <th></th>\n",
       "      <th>PassengerId</th>\n",
       "      <th>Age</th>\n",
       "    </tr>\n",
       "  </thead>\n",
       "  <tbody>\n",
       "    <tr>\n",
       "      <th>count</th>\n",
       "      <td>891.000000</td>\n",
       "      <td>714.000000</td>\n",
       "    </tr>\n",
       "    <tr>\n",
       "      <th>mean</th>\n",
       "      <td>446.000000</td>\n",
       "      <td>29.699118</td>\n",
       "    </tr>\n",
       "    <tr>\n",
       "      <th>std</th>\n",
       "      <td>257.353842</td>\n",
       "      <td>14.526497</td>\n",
       "    </tr>\n",
       "    <tr>\n",
       "      <th>min</th>\n",
       "      <td>1.000000</td>\n",
       "      <td>0.420000</td>\n",
       "    </tr>\n",
       "    <tr>\n",
       "      <th>25%</th>\n",
       "      <td>223.500000</td>\n",
       "      <td>20.125000</td>\n",
       "    </tr>\n",
       "    <tr>\n",
       "      <th>50%</th>\n",
       "      <td>446.000000</td>\n",
       "      <td>28.000000</td>\n",
       "    </tr>\n",
       "    <tr>\n",
       "      <th>75%</th>\n",
       "      <td>668.500000</td>\n",
       "      <td>38.000000</td>\n",
       "    </tr>\n",
       "    <tr>\n",
       "      <th>max</th>\n",
       "      <td>891.000000</td>\n",
       "      <td>80.000000</td>\n",
       "    </tr>\n",
       "  </tbody>\n",
       "</table>\n",
       "</div>"
      ],
      "text/plain": [
       "       PassengerId         Age\n",
       "count   891.000000  714.000000\n",
       "mean    446.000000   29.699118\n",
       "std     257.353842   14.526497\n",
       "min       1.000000    0.420000\n",
       "25%     223.500000   20.125000\n",
       "50%     446.000000   28.000000\n",
       "75%     668.500000   38.000000\n",
       "max     891.000000   80.000000"
      ]
     },
     "execution_count": 9,
     "metadata": {},
     "output_type": "execute_result"
    }
   ],
   "source": [
    "df1.describe()"
   ]
  },
  {
   "cell_type": "code",
   "execution_count": 10,
   "id": "f21f443c",
   "metadata": {},
   "outputs": [
    {
     "data": {
      "text/html": [
       "<div>\n",
       "<style scoped>\n",
       "    .dataframe tbody tr th:only-of-type {\n",
       "        vertical-align: middle;\n",
       "    }\n",
       "\n",
       "    .dataframe tbody tr th {\n",
       "        vertical-align: top;\n",
       "    }\n",
       "\n",
       "    .dataframe thead th {\n",
       "        text-align: right;\n",
       "    }\n",
       "</style>\n",
       "<table border=\"1\" class=\"dataframe\">\n",
       "  <thead>\n",
       "    <tr style=\"text-align: right;\">\n",
       "      <th></th>\n",
       "      <th>PassengerId</th>\n",
       "      <th>Survived</th>\n",
       "      <th>Pclass</th>\n",
       "      <th>Fare</th>\n",
       "    </tr>\n",
       "  </thead>\n",
       "  <tbody>\n",
       "    <tr>\n",
       "      <th>count</th>\n",
       "      <td>891.000000</td>\n",
       "      <td>891.000000</td>\n",
       "      <td>891.000000</td>\n",
       "      <td>891.000000</td>\n",
       "    </tr>\n",
       "    <tr>\n",
       "      <th>mean</th>\n",
       "      <td>446.000000</td>\n",
       "      <td>0.383838</td>\n",
       "      <td>2.308642</td>\n",
       "      <td>32.204208</td>\n",
       "    </tr>\n",
       "    <tr>\n",
       "      <th>std</th>\n",
       "      <td>257.353842</td>\n",
       "      <td>0.486592</td>\n",
       "      <td>0.836071</td>\n",
       "      <td>49.693429</td>\n",
       "    </tr>\n",
       "    <tr>\n",
       "      <th>min</th>\n",
       "      <td>1.000000</td>\n",
       "      <td>0.000000</td>\n",
       "      <td>1.000000</td>\n",
       "      <td>0.000000</td>\n",
       "    </tr>\n",
       "    <tr>\n",
       "      <th>25%</th>\n",
       "      <td>223.500000</td>\n",
       "      <td>0.000000</td>\n",
       "      <td>2.000000</td>\n",
       "      <td>7.910400</td>\n",
       "    </tr>\n",
       "    <tr>\n",
       "      <th>50%</th>\n",
       "      <td>446.000000</td>\n",
       "      <td>0.000000</td>\n",
       "      <td>3.000000</td>\n",
       "      <td>14.454200</td>\n",
       "    </tr>\n",
       "    <tr>\n",
       "      <th>75%</th>\n",
       "      <td>668.500000</td>\n",
       "      <td>1.000000</td>\n",
       "      <td>3.000000</td>\n",
       "      <td>31.000000</td>\n",
       "    </tr>\n",
       "    <tr>\n",
       "      <th>max</th>\n",
       "      <td>891.000000</td>\n",
       "      <td>1.000000</td>\n",
       "      <td>3.000000</td>\n",
       "      <td>512.329200</td>\n",
       "    </tr>\n",
       "  </tbody>\n",
       "</table>\n",
       "</div>"
      ],
      "text/plain": [
       "       PassengerId    Survived      Pclass        Fare\n",
       "count   891.000000  891.000000  891.000000  891.000000\n",
       "mean    446.000000    0.383838    2.308642   32.204208\n",
       "std     257.353842    0.486592    0.836071   49.693429\n",
       "min       1.000000    0.000000    1.000000    0.000000\n",
       "25%     223.500000    0.000000    2.000000    7.910400\n",
       "50%     446.000000    0.000000    3.000000   14.454200\n",
       "75%     668.500000    1.000000    3.000000   31.000000\n",
       "max     891.000000    1.000000    3.000000  512.329200"
      ]
     },
     "execution_count": 10,
     "metadata": {},
     "output_type": "execute_result"
    }
   ],
   "source": [
    "df2.describe()"
   ]
  },
  {
   "cell_type": "code",
   "execution_count": null,
   "id": "d5cd2f1b",
   "metadata": {},
   "outputs": [],
   "source": []
  },
  {
   "cell_type": "markdown",
   "id": "75bb80b3",
   "metadata": {},
   "source": [
    "### Ejercicio 2:\n",
    "- Unir los DataFrames para obtener solo uno."
   ]
  },
  {
   "cell_type": "code",
   "execution_count": 11,
   "id": "41f6d33f",
   "metadata": {},
   "outputs": [
    {
     "data": {
      "text/html": [
       "<div>\n",
       "<style scoped>\n",
       "    .dataframe tbody tr th:only-of-type {\n",
       "        vertical-align: middle;\n",
       "    }\n",
       "\n",
       "    .dataframe tbody tr th {\n",
       "        vertical-align: top;\n",
       "    }\n",
       "\n",
       "    .dataframe thead th {\n",
       "        text-align: right;\n",
       "    }\n",
       "</style>\n",
       "<table border=\"1\" class=\"dataframe\">\n",
       "  <thead>\n",
       "    <tr style=\"text-align: right;\">\n",
       "      <th></th>\n",
       "      <th>PassengerId</th>\n",
       "      <th>Name</th>\n",
       "      <th>Sex</th>\n",
       "      <th>Age</th>\n",
       "      <th>Survived</th>\n",
       "      <th>Pclass</th>\n",
       "      <th>Ticket</th>\n",
       "      <th>Fare</th>\n",
       "    </tr>\n",
       "  </thead>\n",
       "  <tbody>\n",
       "    <tr>\n",
       "      <th>0</th>\n",
       "      <td>1</td>\n",
       "      <td>Braund, Mr. Owen Harris</td>\n",
       "      <td>male</td>\n",
       "      <td>22.0</td>\n",
       "      <td>0</td>\n",
       "      <td>3</td>\n",
       "      <td>A/5 21171</td>\n",
       "      <td>7.2500</td>\n",
       "    </tr>\n",
       "    <tr>\n",
       "      <th>1</th>\n",
       "      <td>2</td>\n",
       "      <td>Cumings, Mrs. John Bradley (Florence Briggs Th...</td>\n",
       "      <td>female</td>\n",
       "      <td>38.0</td>\n",
       "      <td>1</td>\n",
       "      <td>1</td>\n",
       "      <td>PC 17599</td>\n",
       "      <td>71.2833</td>\n",
       "    </tr>\n",
       "    <tr>\n",
       "      <th>2</th>\n",
       "      <td>3</td>\n",
       "      <td>Heikkinen, Miss. Laina</td>\n",
       "      <td>female</td>\n",
       "      <td>26.0</td>\n",
       "      <td>1</td>\n",
       "      <td>3</td>\n",
       "      <td>STON/O2. 3101282</td>\n",
       "      <td>7.9250</td>\n",
       "    </tr>\n",
       "  </tbody>\n",
       "</table>\n",
       "</div>"
      ],
      "text/plain": [
       "   PassengerId                                               Name     Sex  \\\n",
       "0            1                            Braund, Mr. Owen Harris    male   \n",
       "1            2  Cumings, Mrs. John Bradley (Florence Briggs Th...  female   \n",
       "2            3                             Heikkinen, Miss. Laina  female   \n",
       "\n",
       "    Age  Survived  Pclass            Ticket     Fare  \n",
       "0  22.0         0       3         A/5 21171   7.2500  \n",
       "1  38.0         1       1          PC 17599  71.2833  \n",
       "2  26.0         1       3  STON/O2. 3101282   7.9250  "
      ]
     },
     "execution_count": 11,
     "metadata": {},
     "output_type": "execute_result"
    }
   ],
   "source": [
    "df = pd.merge(left = df1, right = df2, left_on = \"PassengerId\", right_on = \"PassengerId\", how = \"inner\")\n",
    "\n",
    "df.head(3)"
   ]
  },
  {
   "cell_type": "code",
   "execution_count": null,
   "id": "ac4e3205",
   "metadata": {},
   "outputs": [],
   "source": []
  },
  {
   "cell_type": "code",
   "execution_count": null,
   "id": "f94c3547",
   "metadata": {},
   "outputs": [],
   "source": []
  },
  {
   "cell_type": "markdown",
   "id": "606daf44",
   "metadata": {},
   "source": [
    "### Ejercicio 3:\n",
    "- Imprimir las últimas 5 filas de las columnas de nombre y edad"
   ]
  },
  {
   "cell_type": "code",
   "execution_count": 12,
   "id": "5dbe3ccb",
   "metadata": {},
   "outputs": [
    {
     "data": {
      "text/html": [
       "<div>\n",
       "<style scoped>\n",
       "    .dataframe tbody tr th:only-of-type {\n",
       "        vertical-align: middle;\n",
       "    }\n",
       "\n",
       "    .dataframe tbody tr th {\n",
       "        vertical-align: top;\n",
       "    }\n",
       "\n",
       "    .dataframe thead th {\n",
       "        text-align: right;\n",
       "    }\n",
       "</style>\n",
       "<table border=\"1\" class=\"dataframe\">\n",
       "  <thead>\n",
       "    <tr style=\"text-align: right;\">\n",
       "      <th></th>\n",
       "      <th>Name</th>\n",
       "      <th>Age</th>\n",
       "    </tr>\n",
       "  </thead>\n",
       "  <tbody>\n",
       "    <tr>\n",
       "      <th>0</th>\n",
       "      <td>Braund, Mr. Owen Harris</td>\n",
       "      <td>22.0</td>\n",
       "    </tr>\n",
       "    <tr>\n",
       "      <th>1</th>\n",
       "      <td>Cumings, Mrs. John Bradley (Florence Briggs Th...</td>\n",
       "      <td>38.0</td>\n",
       "    </tr>\n",
       "    <tr>\n",
       "      <th>2</th>\n",
       "      <td>Heikkinen, Miss. Laina</td>\n",
       "      <td>26.0</td>\n",
       "    </tr>\n",
       "    <tr>\n",
       "      <th>3</th>\n",
       "      <td>Futrelle, Mrs. Jacques Heath (Lily May Peel)</td>\n",
       "      <td>35.0</td>\n",
       "    </tr>\n",
       "    <tr>\n",
       "      <th>4</th>\n",
       "      <td>Allen, Mr. William Henry</td>\n",
       "      <td>35.0</td>\n",
       "    </tr>\n",
       "  </tbody>\n",
       "</table>\n",
       "</div>"
      ],
      "text/plain": [
       "                                                Name   Age\n",
       "0                            Braund, Mr. Owen Harris  22.0\n",
       "1  Cumings, Mrs. John Bradley (Florence Briggs Th...  38.0\n",
       "2                             Heikkinen, Miss. Laina  26.0\n",
       "3       Futrelle, Mrs. Jacques Heath (Lily May Peel)  35.0\n",
       "4                           Allen, Mr. William Henry  35.0"
      ]
     },
     "execution_count": 12,
     "metadata": {},
     "output_type": "execute_result"
    }
   ],
   "source": [
    "df[[\"Name\", \"Age\"]].head(5)"
   ]
  },
  {
   "cell_type": "code",
   "execution_count": null,
   "id": "b1a68577",
   "metadata": {},
   "outputs": [],
   "source": []
  },
  {
   "cell_type": "code",
   "execution_count": null,
   "id": "1ac48459",
   "metadata": {},
   "outputs": [],
   "source": []
  },
  {
   "cell_type": "markdown",
   "id": "f8e06689",
   "metadata": {},
   "source": [
    "### Ejercicio 4:\n",
    "- Imprimir las primeras 10 filas de las instancias que en sexo sean igual a femenino."
   ]
  },
  {
   "cell_type": "code",
   "execution_count": 13,
   "id": "6558bf13",
   "metadata": {},
   "outputs": [
    {
     "data": {
      "text/html": [
       "<div>\n",
       "<style scoped>\n",
       "    .dataframe tbody tr th:only-of-type {\n",
       "        vertical-align: middle;\n",
       "    }\n",
       "\n",
       "    .dataframe tbody tr th {\n",
       "        vertical-align: top;\n",
       "    }\n",
       "\n",
       "    .dataframe thead th {\n",
       "        text-align: right;\n",
       "    }\n",
       "</style>\n",
       "<table border=\"1\" class=\"dataframe\">\n",
       "  <thead>\n",
       "    <tr style=\"text-align: right;\">\n",
       "      <th></th>\n",
       "      <th>PassengerId</th>\n",
       "      <th>Name</th>\n",
       "      <th>Sex</th>\n",
       "      <th>Age</th>\n",
       "      <th>Survived</th>\n",
       "      <th>Pclass</th>\n",
       "      <th>Ticket</th>\n",
       "      <th>Fare</th>\n",
       "    </tr>\n",
       "  </thead>\n",
       "  <tbody>\n",
       "    <tr>\n",
       "      <th>1</th>\n",
       "      <td>2</td>\n",
       "      <td>Cumings, Mrs. John Bradley (Florence Briggs Th...</td>\n",
       "      <td>female</td>\n",
       "      <td>38.0</td>\n",
       "      <td>1</td>\n",
       "      <td>1</td>\n",
       "      <td>PC 17599</td>\n",
       "      <td>71.2833</td>\n",
       "    </tr>\n",
       "    <tr>\n",
       "      <th>2</th>\n",
       "      <td>3</td>\n",
       "      <td>Heikkinen, Miss. Laina</td>\n",
       "      <td>female</td>\n",
       "      <td>26.0</td>\n",
       "      <td>1</td>\n",
       "      <td>3</td>\n",
       "      <td>STON/O2. 3101282</td>\n",
       "      <td>7.9250</td>\n",
       "    </tr>\n",
       "    <tr>\n",
       "      <th>3</th>\n",
       "      <td>4</td>\n",
       "      <td>Futrelle, Mrs. Jacques Heath (Lily May Peel)</td>\n",
       "      <td>female</td>\n",
       "      <td>35.0</td>\n",
       "      <td>1</td>\n",
       "      <td>1</td>\n",
       "      <td>113803</td>\n",
       "      <td>53.1000</td>\n",
       "    </tr>\n",
       "    <tr>\n",
       "      <th>8</th>\n",
       "      <td>9</td>\n",
       "      <td>Johnson, Mrs. Oscar W (Elisabeth Vilhelmina Berg)</td>\n",
       "      <td>female</td>\n",
       "      <td>27.0</td>\n",
       "      <td>1</td>\n",
       "      <td>3</td>\n",
       "      <td>347742</td>\n",
       "      <td>11.1333</td>\n",
       "    </tr>\n",
       "    <tr>\n",
       "      <th>9</th>\n",
       "      <td>10</td>\n",
       "      <td>Nasser, Mrs. Nicholas (Adele Achem)</td>\n",
       "      <td>female</td>\n",
       "      <td>14.0</td>\n",
       "      <td>1</td>\n",
       "      <td>2</td>\n",
       "      <td>237736</td>\n",
       "      <td>30.0708</td>\n",
       "    </tr>\n",
       "    <tr>\n",
       "      <th>10</th>\n",
       "      <td>11</td>\n",
       "      <td>Sandstrom, Miss. Marguerite Rut</td>\n",
       "      <td>female</td>\n",
       "      <td>4.0</td>\n",
       "      <td>1</td>\n",
       "      <td>3</td>\n",
       "      <td>PP 9549</td>\n",
       "      <td>16.7000</td>\n",
       "    </tr>\n",
       "    <tr>\n",
       "      <th>11</th>\n",
       "      <td>12</td>\n",
       "      <td>Bonnell, Miss. Elizabeth</td>\n",
       "      <td>female</td>\n",
       "      <td>58.0</td>\n",
       "      <td>1</td>\n",
       "      <td>1</td>\n",
       "      <td>113783</td>\n",
       "      <td>26.5500</td>\n",
       "    </tr>\n",
       "    <tr>\n",
       "      <th>14</th>\n",
       "      <td>15</td>\n",
       "      <td>Vestrom, Miss. Hulda Amanda Adolfina</td>\n",
       "      <td>female</td>\n",
       "      <td>14.0</td>\n",
       "      <td>0</td>\n",
       "      <td>3</td>\n",
       "      <td>350406</td>\n",
       "      <td>7.8542</td>\n",
       "    </tr>\n",
       "    <tr>\n",
       "      <th>15</th>\n",
       "      <td>16</td>\n",
       "      <td>Hewlett, Mrs. (Mary D Kingcome)</td>\n",
       "      <td>female</td>\n",
       "      <td>55.0</td>\n",
       "      <td>1</td>\n",
       "      <td>2</td>\n",
       "      <td>248706</td>\n",
       "      <td>16.0000</td>\n",
       "    </tr>\n",
       "    <tr>\n",
       "      <th>18</th>\n",
       "      <td>19</td>\n",
       "      <td>Vander Planke, Mrs. Julius (Emelia Maria Vande...</td>\n",
       "      <td>female</td>\n",
       "      <td>31.0</td>\n",
       "      <td>0</td>\n",
       "      <td>3</td>\n",
       "      <td>345763</td>\n",
       "      <td>18.0000</td>\n",
       "    </tr>\n",
       "  </tbody>\n",
       "</table>\n",
       "</div>"
      ],
      "text/plain": [
       "    PassengerId                                               Name     Sex  \\\n",
       "1             2  Cumings, Mrs. John Bradley (Florence Briggs Th...  female   \n",
       "2             3                             Heikkinen, Miss. Laina  female   \n",
       "3             4       Futrelle, Mrs. Jacques Heath (Lily May Peel)  female   \n",
       "8             9  Johnson, Mrs. Oscar W (Elisabeth Vilhelmina Berg)  female   \n",
       "9            10                Nasser, Mrs. Nicholas (Adele Achem)  female   \n",
       "10           11                    Sandstrom, Miss. Marguerite Rut  female   \n",
       "11           12                           Bonnell, Miss. Elizabeth  female   \n",
       "14           15               Vestrom, Miss. Hulda Amanda Adolfina  female   \n",
       "15           16                   Hewlett, Mrs. (Mary D Kingcome)   female   \n",
       "18           19  Vander Planke, Mrs. Julius (Emelia Maria Vande...  female   \n",
       "\n",
       "     Age  Survived  Pclass            Ticket     Fare  \n",
       "1   38.0         1       1          PC 17599  71.2833  \n",
       "2   26.0         1       3  STON/O2. 3101282   7.9250  \n",
       "3   35.0         1       1            113803  53.1000  \n",
       "8   27.0         1       3            347742  11.1333  \n",
       "9   14.0         1       2            237736  30.0708  \n",
       "10   4.0         1       3           PP 9549  16.7000  \n",
       "11  58.0         1       1            113783  26.5500  \n",
       "14  14.0         0       3            350406   7.8542  \n",
       "15  55.0         1       2            248706  16.0000  \n",
       "18  31.0         0       3            345763  18.0000  "
      ]
     },
     "execution_count": 13,
     "metadata": {},
     "output_type": "execute_result"
    }
   ],
   "source": [
    "df[df[\"Sex\"] == \"female\"].head(10)"
   ]
  },
  {
   "cell_type": "code",
   "execution_count": null,
   "id": "89928162",
   "metadata": {},
   "outputs": [],
   "source": []
  },
  {
   "cell_type": "code",
   "execution_count": null,
   "id": "9a1ea213",
   "metadata": {},
   "outputs": [],
   "source": []
  },
  {
   "cell_type": "markdown",
   "id": "e534d75e",
   "metadata": {},
   "source": [
    "### Ejercicio 5:\n",
    "- Imprimir las instancias que en la columna **`Fare`** sean menor a 33 y en la columna **`Pclass`** igual a 2."
   ]
  },
  {
   "cell_type": "code",
   "execution_count": 14,
   "id": "0db7aad9",
   "metadata": {},
   "outputs": [
    {
     "data": {
      "text/html": [
       "<div>\n",
       "<style scoped>\n",
       "    .dataframe tbody tr th:only-of-type {\n",
       "        vertical-align: middle;\n",
       "    }\n",
       "\n",
       "    .dataframe tbody tr th {\n",
       "        vertical-align: top;\n",
       "    }\n",
       "\n",
       "    .dataframe thead th {\n",
       "        text-align: right;\n",
       "    }\n",
       "</style>\n",
       "<table border=\"1\" class=\"dataframe\">\n",
       "  <thead>\n",
       "    <tr style=\"text-align: right;\">\n",
       "      <th></th>\n",
       "      <th>PassengerId</th>\n",
       "      <th>Name</th>\n",
       "      <th>Sex</th>\n",
       "      <th>Age</th>\n",
       "      <th>Survived</th>\n",
       "      <th>Pclass</th>\n",
       "      <th>Ticket</th>\n",
       "      <th>Fare</th>\n",
       "    </tr>\n",
       "  </thead>\n",
       "  <tbody>\n",
       "    <tr>\n",
       "      <th>9</th>\n",
       "      <td>10</td>\n",
       "      <td>Nasser, Mrs. Nicholas (Adele Achem)</td>\n",
       "      <td>female</td>\n",
       "      <td>14.0</td>\n",
       "      <td>1</td>\n",
       "      <td>2</td>\n",
       "      <td>237736</td>\n",
       "      <td>30.0708</td>\n",
       "    </tr>\n",
       "    <tr>\n",
       "      <th>15</th>\n",
       "      <td>16</td>\n",
       "      <td>Hewlett, Mrs. (Mary D Kingcome)</td>\n",
       "      <td>female</td>\n",
       "      <td>55.0</td>\n",
       "      <td>1</td>\n",
       "      <td>2</td>\n",
       "      <td>248706</td>\n",
       "      <td>16.0000</td>\n",
       "    </tr>\n",
       "    <tr>\n",
       "      <th>17</th>\n",
       "      <td>18</td>\n",
       "      <td>Williams, Mr. Charles Eugene</td>\n",
       "      <td>male</td>\n",
       "      <td>NaN</td>\n",
       "      <td>1</td>\n",
       "      <td>2</td>\n",
       "      <td>244373</td>\n",
       "      <td>13.0000</td>\n",
       "    </tr>\n",
       "    <tr>\n",
       "      <th>20</th>\n",
       "      <td>21</td>\n",
       "      <td>Fynney, Mr. Joseph J</td>\n",
       "      <td>male</td>\n",
       "      <td>35.0</td>\n",
       "      <td>0</td>\n",
       "      <td>2</td>\n",
       "      <td>239865</td>\n",
       "      <td>26.0000</td>\n",
       "    </tr>\n",
       "    <tr>\n",
       "      <th>21</th>\n",
       "      <td>22</td>\n",
       "      <td>Beesley, Mr. Lawrence</td>\n",
       "      <td>male</td>\n",
       "      <td>34.0</td>\n",
       "      <td>1</td>\n",
       "      <td>2</td>\n",
       "      <td>248698</td>\n",
       "      <td>13.0000</td>\n",
       "    </tr>\n",
       "    <tr>\n",
       "      <th>33</th>\n",
       "      <td>34</td>\n",
       "      <td>Wheadon, Mr. Edward H</td>\n",
       "      <td>male</td>\n",
       "      <td>66.0</td>\n",
       "      <td>0</td>\n",
       "      <td>2</td>\n",
       "      <td>C.A. 24579</td>\n",
       "      <td>10.5000</td>\n",
       "    </tr>\n",
       "    <tr>\n",
       "      <th>41</th>\n",
       "      <td>42</td>\n",
       "      <td>Turpin, Mrs. William John Robert (Dorothy Ann ...</td>\n",
       "      <td>female</td>\n",
       "      <td>27.0</td>\n",
       "      <td>0</td>\n",
       "      <td>2</td>\n",
       "      <td>11668</td>\n",
       "      <td>21.0000</td>\n",
       "    </tr>\n",
       "    <tr>\n",
       "      <th>53</th>\n",
       "      <td>54</td>\n",
       "      <td>Faunthorpe, Mrs. Lizzie (Elizabeth Anne Wilkin...</td>\n",
       "      <td>female</td>\n",
       "      <td>29.0</td>\n",
       "      <td>1</td>\n",
       "      <td>2</td>\n",
       "      <td>2926</td>\n",
       "      <td>26.0000</td>\n",
       "    </tr>\n",
       "    <tr>\n",
       "      <th>56</th>\n",
       "      <td>57</td>\n",
       "      <td>Rugg, Miss. Emily</td>\n",
       "      <td>female</td>\n",
       "      <td>21.0</td>\n",
       "      <td>1</td>\n",
       "      <td>2</td>\n",
       "      <td>C.A. 31026</td>\n",
       "      <td>10.5000</td>\n",
       "    </tr>\n",
       "    <tr>\n",
       "      <th>58</th>\n",
       "      <td>59</td>\n",
       "      <td>West, Miss. Constance Mirium</td>\n",
       "      <td>female</td>\n",
       "      <td>5.0</td>\n",
       "      <td>1</td>\n",
       "      <td>2</td>\n",
       "      <td>C.A. 34651</td>\n",
       "      <td>27.7500</td>\n",
       "    </tr>\n",
       "  </tbody>\n",
       "</table>\n",
       "</div>"
      ],
      "text/plain": [
       "    PassengerId                                               Name     Sex  \\\n",
       "9            10                Nasser, Mrs. Nicholas (Adele Achem)  female   \n",
       "15           16                   Hewlett, Mrs. (Mary D Kingcome)   female   \n",
       "17           18                       Williams, Mr. Charles Eugene    male   \n",
       "20           21                               Fynney, Mr. Joseph J    male   \n",
       "21           22                              Beesley, Mr. Lawrence    male   \n",
       "33           34                              Wheadon, Mr. Edward H    male   \n",
       "41           42  Turpin, Mrs. William John Robert (Dorothy Ann ...  female   \n",
       "53           54  Faunthorpe, Mrs. Lizzie (Elizabeth Anne Wilkin...  female   \n",
       "56           57                                  Rugg, Miss. Emily  female   \n",
       "58           59                       West, Miss. Constance Mirium  female   \n",
       "\n",
       "     Age  Survived  Pclass      Ticket     Fare  \n",
       "9   14.0         1       2      237736  30.0708  \n",
       "15  55.0         1       2      248706  16.0000  \n",
       "17   NaN         1       2      244373  13.0000  \n",
       "20  35.0         0       2      239865  26.0000  \n",
       "21  34.0         1       2      248698  13.0000  \n",
       "33  66.0         0       2  C.A. 24579  10.5000  \n",
       "41  27.0         0       2       11668  21.0000  \n",
       "53  29.0         1       2        2926  26.0000  \n",
       "56  21.0         1       2  C.A. 31026  10.5000  \n",
       "58   5.0         1       2  C.A. 34651  27.7500  "
      ]
     },
     "execution_count": 14,
     "metadata": {},
     "output_type": "execute_result"
    }
   ],
   "source": [
    "df_ej5 = df[(df[\"Fare\"] < 33) & (df[\"Pclass\"] == 2)]\n",
    "\n",
    "df_ej5.head(10)"
   ]
  },
  {
   "cell_type": "code",
   "execution_count": null,
   "id": "b2790ab9",
   "metadata": {},
   "outputs": [],
   "source": []
  },
  {
   "cell_type": "code",
   "execution_count": null,
   "id": "e35abccb",
   "metadata": {},
   "outputs": [],
   "source": []
  },
  {
   "cell_type": "markdown",
   "id": "6d002006",
   "metadata": {},
   "source": [
    "### Ejercicio 6:\n",
    "- Del resultado anterior obten el número de hombres y el número de mujeres."
   ]
  },
  {
   "cell_type": "code",
   "execution_count": 15,
   "id": "f854c556",
   "metadata": {},
   "outputs": [
    {
     "data": {
      "text/plain": [
       "Sex\n",
       "male      95\n",
       "female    68\n",
       "Name: count, dtype: int64"
      ]
     },
     "execution_count": 15,
     "metadata": {},
     "output_type": "execute_result"
    }
   ],
   "source": [
    "df_ej5[\"Sex\"].value_counts(dropna = False)"
   ]
  },
  {
   "cell_type": "code",
   "execution_count": 16,
   "id": "3d5e8ec6",
   "metadata": {},
   "outputs": [
    {
     "data": {
      "text/plain": [
       "Sex\n",
       "male      0.582822\n",
       "female    0.417178\n",
       "Name: proportion, dtype: float64"
      ]
     },
     "execution_count": 16,
     "metadata": {},
     "output_type": "execute_result"
    }
   ],
   "source": [
    "df_ej5[\"Sex\"].value_counts(dropna = False, normalize = True)"
   ]
  },
  {
   "cell_type": "code",
   "execution_count": null,
   "id": "51f1de2d",
   "metadata": {},
   "outputs": [],
   "source": []
  },
  {
   "cell_type": "markdown",
   "id": "d80b4f7e",
   "metadata": {},
   "source": [
    "### Ejercicio 7:\n",
    "- Obten el costo total de los tickets de hombres y el costo total de los tickets de mujeres."
   ]
  },
  {
   "cell_type": "code",
   "execution_count": 17,
   "id": "3db5791f",
   "metadata": {},
   "outputs": [
    {
     "data": {
      "text/plain": [
       "13966.6628"
      ]
     },
     "execution_count": 17,
     "metadata": {},
     "output_type": "execute_result"
    }
   ],
   "source": [
    "df[df[\"Sex\"] == \"female\"][\"Fare\"].sum()"
   ]
  },
  {
   "cell_type": "code",
   "execution_count": 18,
   "id": "75940d39",
   "metadata": {},
   "outputs": [
    {
     "data": {
      "text/plain": [
       "14727.286500000002"
      ]
     },
     "execution_count": 18,
     "metadata": {},
     "output_type": "execute_result"
    }
   ],
   "source": [
    "df[df[\"Sex\"] == \"male\"][\"Fare\"].sum()"
   ]
  },
  {
   "cell_type": "code",
   "execution_count": 19,
   "id": "70e65887",
   "metadata": {},
   "outputs": [
    {
     "data": {
      "text/plain": [
       "Sex\n",
       "female    13966.6628\n",
       "male      14727.2865\n",
       "Name: Fare, dtype: float64"
      ]
     },
     "execution_count": 19,
     "metadata": {},
     "output_type": "execute_result"
    }
   ],
   "source": [
    "df.groupby(\"Sex\")[\"Fare\"].sum()"
   ]
  },
  {
   "cell_type": "markdown",
   "id": "46387b3e",
   "metadata": {},
   "source": [
    "### Ejercicio 8:\n",
    "- Obten el costo total de los tickets por cada clase (1, 2 y 3) y el número de pasajeros de cada clase."
   ]
  },
  {
   "cell_type": "code",
   "execution_count": 20,
   "id": "47c5519f",
   "metadata": {},
   "outputs": [
    {
     "name": "stdout",
     "output_type": "stream",
     "text": [
      "Total Ticket: 18177.4125\n",
      "Total Pasajeros: 216\n"
     ]
    }
   ],
   "source": [
    "# Para la clase 1\n",
    "\n",
    "print(\"Total Ticket:\", df[df[\"Pclass\"] == 1][\"Fare\"].sum())\n",
    "print(\"Total Pasajeros:\", df[df[\"Pclass\"] == 1].shape[0])"
   ]
  },
  {
   "cell_type": "code",
   "execution_count": 21,
   "id": "9fc59434",
   "metadata": {},
   "outputs": [
    {
     "name": "stdout",
     "output_type": "stream",
     "text": [
      "Total Ticket: 3801.8417\n",
      "Total Pasajeros: 184\n"
     ]
    }
   ],
   "source": [
    "# Para la clase 2\n",
    "\n",
    "print(\"Total Ticket:\", df[df[\"Pclass\"] == 2][\"Fare\"].sum())\n",
    "print(\"Total Pasajeros:\", df[df[\"Pclass\"] == 2].shape[0])"
   ]
  },
  {
   "cell_type": "code",
   "execution_count": 22,
   "id": "c062574a",
   "metadata": {},
   "outputs": [
    {
     "name": "stdout",
     "output_type": "stream",
     "text": [
      "Total Ticket: 6714.6951\n",
      "Total Pasajeros: 491\n"
     ]
    }
   ],
   "source": [
    "# Para la clase 3\n",
    "\n",
    "print(\"Total Ticket:\", df[df[\"Pclass\"] == 3][\"Fare\"].sum())\n",
    "print(\"Total Pasajeros:\", df[df[\"Pclass\"] == 3].shape[0])"
   ]
  },
  {
   "cell_type": "code",
   "execution_count": 23,
   "id": "ce87b8cd",
   "metadata": {},
   "outputs": [
    {
     "data": {
      "text/html": [
       "<div>\n",
       "<style scoped>\n",
       "    .dataframe tbody tr th:only-of-type {\n",
       "        vertical-align: middle;\n",
       "    }\n",
       "\n",
       "    .dataframe tbody tr th {\n",
       "        vertical-align: top;\n",
       "    }\n",
       "\n",
       "    .dataframe thead tr th {\n",
       "        text-align: left;\n",
       "    }\n",
       "\n",
       "    .dataframe thead tr:last-of-type th {\n",
       "        text-align: right;\n",
       "    }\n",
       "</style>\n",
       "<table border=\"1\" class=\"dataframe\">\n",
       "  <thead>\n",
       "    <tr>\n",
       "      <th></th>\n",
       "      <th colspan=\"2\" halign=\"left\">Fare</th>\n",
       "    </tr>\n",
       "    <tr>\n",
       "      <th></th>\n",
       "      <th>sum</th>\n",
       "      <th>size</th>\n",
       "    </tr>\n",
       "    <tr>\n",
       "      <th>Pclass</th>\n",
       "      <th></th>\n",
       "      <th></th>\n",
       "    </tr>\n",
       "  </thead>\n",
       "  <tbody>\n",
       "    <tr>\n",
       "      <th>1</th>\n",
       "      <td>18177.4125</td>\n",
       "      <td>216</td>\n",
       "    </tr>\n",
       "    <tr>\n",
       "      <th>2</th>\n",
       "      <td>3801.8417</td>\n",
       "      <td>184</td>\n",
       "    </tr>\n",
       "    <tr>\n",
       "      <th>3</th>\n",
       "      <td>6714.6951</td>\n",
       "      <td>491</td>\n",
       "    </tr>\n",
       "  </tbody>\n",
       "</table>\n",
       "</div>"
      ],
      "text/plain": [
       "              Fare     \n",
       "               sum size\n",
       "Pclass                 \n",
       "1       18177.4125  216\n",
       "2        3801.8417  184\n",
       "3        6714.6951  491"
      ]
     },
     "execution_count": 23,
     "metadata": {},
     "output_type": "execute_result"
    }
   ],
   "source": [
    "df.groupby(\"Pclass\").agg({\"Fare\" : [\"sum\", \"size\"]})"
   ]
  },
  {
   "cell_type": "markdown",
   "id": "97fae7e6",
   "metadata": {},
   "source": [
    "### Ejercicio 9:\n",
    "- Crear una columna con el apellido de cada pasajero y agregala al DataFrame."
   ]
  },
  {
   "cell_type": "code",
   "execution_count": 24,
   "id": "1ca800e9",
   "metadata": {},
   "outputs": [
    {
     "data": {
      "text/html": [
       "<div>\n",
       "<style scoped>\n",
       "    .dataframe tbody tr th:only-of-type {\n",
       "        vertical-align: middle;\n",
       "    }\n",
       "\n",
       "    .dataframe tbody tr th {\n",
       "        vertical-align: top;\n",
       "    }\n",
       "\n",
       "    .dataframe thead th {\n",
       "        text-align: right;\n",
       "    }\n",
       "</style>\n",
       "<table border=\"1\" class=\"dataframe\">\n",
       "  <thead>\n",
       "    <tr style=\"text-align: right;\">\n",
       "      <th></th>\n",
       "      <th>PassengerId</th>\n",
       "      <th>Name</th>\n",
       "      <th>Sex</th>\n",
       "      <th>Age</th>\n",
       "      <th>Survived</th>\n",
       "      <th>Pclass</th>\n",
       "      <th>Ticket</th>\n",
       "      <th>Fare</th>\n",
       "      <th>Surname</th>\n",
       "    </tr>\n",
       "  </thead>\n",
       "  <tbody>\n",
       "    <tr>\n",
       "      <th>0</th>\n",
       "      <td>1</td>\n",
       "      <td>Braund, Mr. Owen Harris</td>\n",
       "      <td>male</td>\n",
       "      <td>22.0</td>\n",
       "      <td>0</td>\n",
       "      <td>3</td>\n",
       "      <td>A/5 21171</td>\n",
       "      <td>7.2500</td>\n",
       "      <td>Braund</td>\n",
       "    </tr>\n",
       "    <tr>\n",
       "      <th>1</th>\n",
       "      <td>2</td>\n",
       "      <td>Cumings, Mrs. John Bradley (Florence Briggs Th...</td>\n",
       "      <td>female</td>\n",
       "      <td>38.0</td>\n",
       "      <td>1</td>\n",
       "      <td>1</td>\n",
       "      <td>PC 17599</td>\n",
       "      <td>71.2833</td>\n",
       "      <td>Cumings</td>\n",
       "    </tr>\n",
       "    <tr>\n",
       "      <th>2</th>\n",
       "      <td>3</td>\n",
       "      <td>Heikkinen, Miss. Laina</td>\n",
       "      <td>female</td>\n",
       "      <td>26.0</td>\n",
       "      <td>1</td>\n",
       "      <td>3</td>\n",
       "      <td>STON/O2. 3101282</td>\n",
       "      <td>7.9250</td>\n",
       "      <td>Heikkinen</td>\n",
       "    </tr>\n",
       "  </tbody>\n",
       "</table>\n",
       "</div>"
      ],
      "text/plain": [
       "   PassengerId                                               Name     Sex  \\\n",
       "0            1                            Braund, Mr. Owen Harris    male   \n",
       "1            2  Cumings, Mrs. John Bradley (Florence Briggs Th...  female   \n",
       "2            3                             Heikkinen, Miss. Laina  female   \n",
       "\n",
       "    Age  Survived  Pclass            Ticket     Fare    Surname  \n",
       "0  22.0         0       3         A/5 21171   7.2500     Braund  \n",
       "1  38.0         1       1          PC 17599  71.2833    Cumings  \n",
       "2  26.0         1       3  STON/O2. 3101282   7.9250  Heikkinen  "
      ]
     },
     "execution_count": 24,
     "metadata": {},
     "output_type": "execute_result"
    }
   ],
   "source": [
    "df[\"Surname\"] = df[\"Name\"].apply(lambda x : x.split(\",\")[0])\n",
    "\n",
    "df.head(3)"
   ]
  },
  {
   "cell_type": "code",
   "execution_count": null,
   "id": "b91bb7d9",
   "metadata": {},
   "outputs": [],
   "source": []
  },
  {
   "cell_type": "code",
   "execution_count": null,
   "id": "51ff38cc",
   "metadata": {},
   "outputs": [],
   "source": []
  },
  {
   "cell_type": "markdown",
   "id": "28cf8844",
   "metadata": {},
   "source": [
    "### Ejercicio 10:\n",
    "- Encuentra si se repiten apellidos en la columna que se creo en el ejercicio anterior. (Usa .value_counts())"
   ]
  },
  {
   "cell_type": "code",
   "execution_count": 25,
   "id": "bc3e5a06",
   "metadata": {},
   "outputs": [
    {
     "data": {
      "text/plain": [
       "Surname\n",
       "Andersson    9\n",
       "Sage         7\n",
       "Panula       6\n",
       "Skoog        6\n",
       "Carter       6\n",
       "            ..\n",
       "Hanna        1\n",
       "Lewy         1\n",
       "Mineff       1\n",
       "Haas         1\n",
       "Dooley       1\n",
       "Name: count, Length: 667, dtype: int64"
      ]
     },
     "execution_count": 25,
     "metadata": {},
     "output_type": "execute_result"
    }
   ],
   "source": [
    "df[\"Surname\"].value_counts()"
   ]
  },
  {
   "cell_type": "code",
   "execution_count": null,
   "id": "94314f1d",
   "metadata": {},
   "outputs": [],
   "source": []
  },
  {
   "cell_type": "code",
   "execution_count": null,
   "id": "9798a8c4",
   "metadata": {},
   "outputs": [],
   "source": []
  },
  {
   "cell_type": "markdown",
   "id": "a9d5d876",
   "metadata": {},
   "source": [
    "### Ejercicio 11:\n",
    "- Encuentra los apellidos que se repiten en la columna recien creada. Es decir, solo muestra los apellidos que aparecen más de 1 vez."
   ]
  },
  {
   "cell_type": "code",
   "execution_count": 42,
   "id": "e25f047e",
   "metadata": {},
   "outputs": [
    {
     "data": {
      "text/plain": [
       "133"
      ]
     },
     "execution_count": 42,
     "metadata": {},
     "output_type": "execute_result"
    }
   ],
   "source": [
    "len(df[df[\"Surname\"].duplicated()][\"Surname\"].unique())"
   ]
  },
  {
   "cell_type": "code",
   "execution_count": 37,
   "id": "26e3399d",
   "metadata": {},
   "outputs": [],
   "source": [
    "apellidos = df[\"Surname\"].value_counts()"
   ]
  },
  {
   "cell_type": "code",
   "execution_count": 40,
   "id": "427b3a84",
   "metadata": {},
   "outputs": [
    {
     "data": {
      "text/plain": [
       "Surname\n",
       "Andersson    9\n",
       "Sage         7\n",
       "Panula       6\n",
       "Skoog        6\n",
       "Carter       6\n",
       "            ..\n",
       "Hanna        1\n",
       "Lewy         1\n",
       "Mineff       1\n",
       "Haas         1\n",
       "Dooley       1\n",
       "Name: count, Length: 667, dtype: int64"
      ]
     },
     "execution_count": 40,
     "metadata": {},
     "output_type": "execute_result"
    }
   ],
   "source": [
    "apellidos"
   ]
  },
  {
   "cell_type": "code",
   "execution_count": 41,
   "id": "a956fa67",
   "metadata": {},
   "outputs": [
    {
     "data": {
      "text/html": [
       "<div>\n",
       "<style scoped>\n",
       "    .dataframe tbody tr th:only-of-type {\n",
       "        vertical-align: middle;\n",
       "    }\n",
       "\n",
       "    .dataframe tbody tr th {\n",
       "        vertical-align: top;\n",
       "    }\n",
       "\n",
       "    .dataframe thead th {\n",
       "        text-align: right;\n",
       "    }\n",
       "</style>\n",
       "<table border=\"1\" class=\"dataframe\">\n",
       "  <thead>\n",
       "    <tr style=\"text-align: right;\">\n",
       "      <th></th>\n",
       "      <th>count</th>\n",
       "    </tr>\n",
       "    <tr>\n",
       "      <th>Surname</th>\n",
       "      <th></th>\n",
       "    </tr>\n",
       "  </thead>\n",
       "  <tbody>\n",
       "    <tr>\n",
       "      <th>Andersson</th>\n",
       "      <td>9</td>\n",
       "    </tr>\n",
       "    <tr>\n",
       "      <th>Sage</th>\n",
       "      <td>7</td>\n",
       "    </tr>\n",
       "    <tr>\n",
       "      <th>Panula</th>\n",
       "      <td>6</td>\n",
       "    </tr>\n",
       "    <tr>\n",
       "      <th>Skoog</th>\n",
       "      <td>6</td>\n",
       "    </tr>\n",
       "    <tr>\n",
       "      <th>Carter</th>\n",
       "      <td>6</td>\n",
       "    </tr>\n",
       "    <tr>\n",
       "      <th>...</th>\n",
       "      <td>...</td>\n",
       "    </tr>\n",
       "    <tr>\n",
       "      <th>Hocking</th>\n",
       "      <td>2</td>\n",
       "    </tr>\n",
       "    <tr>\n",
       "      <th>Kantor</th>\n",
       "      <td>2</td>\n",
       "    </tr>\n",
       "    <tr>\n",
       "      <th>Petroff</th>\n",
       "      <td>2</td>\n",
       "    </tr>\n",
       "    <tr>\n",
       "      <th>Johnston</th>\n",
       "      <td>2</td>\n",
       "    </tr>\n",
       "    <tr>\n",
       "      <th>Dean</th>\n",
       "      <td>2</td>\n",
       "    </tr>\n",
       "  </tbody>\n",
       "</table>\n",
       "<p>133 rows × 1 columns</p>\n",
       "</div>"
      ],
      "text/plain": [
       "           count\n",
       "Surname         \n",
       "Andersson      9\n",
       "Sage           7\n",
       "Panula         6\n",
       "Skoog          6\n",
       "Carter         6\n",
       "...          ...\n",
       "Hocking        2\n",
       "Kantor         2\n",
       "Petroff        2\n",
       "Johnston       2\n",
       "Dean           2\n",
       "\n",
       "[133 rows x 1 columns]"
      ]
     },
     "execution_count": 41,
     "metadata": {},
     "output_type": "execute_result"
    }
   ],
   "source": [
    "pd.DataFrame(apellidos[apellidos > 1])"
   ]
  },
  {
   "cell_type": "markdown",
   "id": "382c4cfb",
   "metadata": {},
   "source": [
    "### Ejercicio 12:\n",
    "- Imprime los primeros 10 pasajeros que tengan un **`PassengerID`** multiplo de 3."
   ]
  },
  {
   "cell_type": "code",
   "execution_count": 44,
   "id": "afb53912",
   "metadata": {},
   "outputs": [
    {
     "data": {
      "text/html": [
       "<div>\n",
       "<style scoped>\n",
       "    .dataframe tbody tr th:only-of-type {\n",
       "        vertical-align: middle;\n",
       "    }\n",
       "\n",
       "    .dataframe tbody tr th {\n",
       "        vertical-align: top;\n",
       "    }\n",
       "\n",
       "    .dataframe thead th {\n",
       "        text-align: right;\n",
       "    }\n",
       "</style>\n",
       "<table border=\"1\" class=\"dataframe\">\n",
       "  <thead>\n",
       "    <tr style=\"text-align: right;\">\n",
       "      <th></th>\n",
       "      <th>PassengerId</th>\n",
       "      <th>Name</th>\n",
       "      <th>Sex</th>\n",
       "      <th>Age</th>\n",
       "      <th>Survived</th>\n",
       "      <th>Pclass</th>\n",
       "      <th>Ticket</th>\n",
       "      <th>Fare</th>\n",
       "      <th>Surname</th>\n",
       "    </tr>\n",
       "  </thead>\n",
       "  <tbody>\n",
       "    <tr>\n",
       "      <th>2</th>\n",
       "      <td>3</td>\n",
       "      <td>Heikkinen, Miss. Laina</td>\n",
       "      <td>female</td>\n",
       "      <td>26.0</td>\n",
       "      <td>1</td>\n",
       "      <td>3</td>\n",
       "      <td>STON/O2. 3101282</td>\n",
       "      <td>7.9250</td>\n",
       "      <td>Heikkinen</td>\n",
       "    </tr>\n",
       "    <tr>\n",
       "      <th>5</th>\n",
       "      <td>6</td>\n",
       "      <td>Moran, Mr. James</td>\n",
       "      <td>male</td>\n",
       "      <td>NaN</td>\n",
       "      <td>0</td>\n",
       "      <td>3</td>\n",
       "      <td>330877</td>\n",
       "      <td>8.4583</td>\n",
       "      <td>Moran</td>\n",
       "    </tr>\n",
       "    <tr>\n",
       "      <th>8</th>\n",
       "      <td>9</td>\n",
       "      <td>Johnson, Mrs. Oscar W (Elisabeth Vilhelmina Berg)</td>\n",
       "      <td>female</td>\n",
       "      <td>27.0</td>\n",
       "      <td>1</td>\n",
       "      <td>3</td>\n",
       "      <td>347742</td>\n",
       "      <td>11.1333</td>\n",
       "      <td>Johnson</td>\n",
       "    </tr>\n",
       "    <tr>\n",
       "      <th>11</th>\n",
       "      <td>12</td>\n",
       "      <td>Bonnell, Miss. Elizabeth</td>\n",
       "      <td>female</td>\n",
       "      <td>58.0</td>\n",
       "      <td>1</td>\n",
       "      <td>1</td>\n",
       "      <td>113783</td>\n",
       "      <td>26.5500</td>\n",
       "      <td>Bonnell</td>\n",
       "    </tr>\n",
       "    <tr>\n",
       "      <th>14</th>\n",
       "      <td>15</td>\n",
       "      <td>Vestrom, Miss. Hulda Amanda Adolfina</td>\n",
       "      <td>female</td>\n",
       "      <td>14.0</td>\n",
       "      <td>0</td>\n",
       "      <td>3</td>\n",
       "      <td>350406</td>\n",
       "      <td>7.8542</td>\n",
       "      <td>Vestrom</td>\n",
       "    </tr>\n",
       "    <tr>\n",
       "      <th>17</th>\n",
       "      <td>18</td>\n",
       "      <td>Williams, Mr. Charles Eugene</td>\n",
       "      <td>male</td>\n",
       "      <td>NaN</td>\n",
       "      <td>1</td>\n",
       "      <td>2</td>\n",
       "      <td>244373</td>\n",
       "      <td>13.0000</td>\n",
       "      <td>Williams</td>\n",
       "    </tr>\n",
       "    <tr>\n",
       "      <th>20</th>\n",
       "      <td>21</td>\n",
       "      <td>Fynney, Mr. Joseph J</td>\n",
       "      <td>male</td>\n",
       "      <td>35.0</td>\n",
       "      <td>0</td>\n",
       "      <td>2</td>\n",
       "      <td>239865</td>\n",
       "      <td>26.0000</td>\n",
       "      <td>Fynney</td>\n",
       "    </tr>\n",
       "    <tr>\n",
       "      <th>23</th>\n",
       "      <td>24</td>\n",
       "      <td>Sloper, Mr. William Thompson</td>\n",
       "      <td>male</td>\n",
       "      <td>28.0</td>\n",
       "      <td>1</td>\n",
       "      <td>1</td>\n",
       "      <td>113788</td>\n",
       "      <td>35.5000</td>\n",
       "      <td>Sloper</td>\n",
       "    </tr>\n",
       "    <tr>\n",
       "      <th>26</th>\n",
       "      <td>27</td>\n",
       "      <td>Emir, Mr. Farred Chehab</td>\n",
       "      <td>male</td>\n",
       "      <td>NaN</td>\n",
       "      <td>0</td>\n",
       "      <td>3</td>\n",
       "      <td>2631</td>\n",
       "      <td>7.2250</td>\n",
       "      <td>Emir</td>\n",
       "    </tr>\n",
       "    <tr>\n",
       "      <th>29</th>\n",
       "      <td>30</td>\n",
       "      <td>Todoroff, Mr. Lalio</td>\n",
       "      <td>male</td>\n",
       "      <td>NaN</td>\n",
       "      <td>0</td>\n",
       "      <td>3</td>\n",
       "      <td>349216</td>\n",
       "      <td>7.8958</td>\n",
       "      <td>Todoroff</td>\n",
       "    </tr>\n",
       "  </tbody>\n",
       "</table>\n",
       "</div>"
      ],
      "text/plain": [
       "    PassengerId                                               Name     Sex  \\\n",
       "2             3                             Heikkinen, Miss. Laina  female   \n",
       "5             6                                   Moran, Mr. James    male   \n",
       "8             9  Johnson, Mrs. Oscar W (Elisabeth Vilhelmina Berg)  female   \n",
       "11           12                           Bonnell, Miss. Elizabeth  female   \n",
       "14           15               Vestrom, Miss. Hulda Amanda Adolfina  female   \n",
       "17           18                       Williams, Mr. Charles Eugene    male   \n",
       "20           21                               Fynney, Mr. Joseph J    male   \n",
       "23           24                       Sloper, Mr. William Thompson    male   \n",
       "26           27                            Emir, Mr. Farred Chehab    male   \n",
       "29           30                                Todoroff, Mr. Lalio    male   \n",
       "\n",
       "     Age  Survived  Pclass            Ticket     Fare    Surname  \n",
       "2   26.0         1       3  STON/O2. 3101282   7.9250  Heikkinen  \n",
       "5    NaN         0       3            330877   8.4583      Moran  \n",
       "8   27.0         1       3            347742  11.1333    Johnson  \n",
       "11  58.0         1       1            113783  26.5500    Bonnell  \n",
       "14  14.0         0       3            350406   7.8542    Vestrom  \n",
       "17   NaN         1       2            244373  13.0000   Williams  \n",
       "20  35.0         0       2            239865  26.0000     Fynney  \n",
       "23  28.0         1       1            113788  35.5000     Sloper  \n",
       "26   NaN         0       3              2631   7.2250       Emir  \n",
       "29   NaN         0       3            349216   7.8958   Todoroff  "
      ]
     },
     "execution_count": 44,
     "metadata": {},
     "output_type": "execute_result"
    }
   ],
   "source": [
    "df.iloc[range(2, 31, 3), :]"
   ]
  },
  {
   "cell_type": "code",
   "execution_count": null,
   "id": "e0fb02d9",
   "metadata": {},
   "outputs": [],
   "source": []
  },
  {
   "cell_type": "code",
   "execution_count": null,
   "id": "0910b0e6",
   "metadata": {},
   "outputs": [],
   "source": []
  },
  {
   "cell_type": "markdown",
   "id": "8f8dc46f",
   "metadata": {},
   "source": [
    "### Ejercicio 13:\n",
    "- ¿Cuales son los apellidos de los pasajeros que son mujeres y menores de 20 años?"
   ]
  },
  {
   "cell_type": "code",
   "execution_count": 45,
   "id": "6f05d72a",
   "metadata": {
    "scrolled": true
   },
   "outputs": [
    {
     "name": "stdout",
     "output_type": "stream",
     "text": [
      "['Nasser', 'Sandstrom', 'Vestrom', 'McGowan', 'Palsson', 'Vander Planke', 'Nicola-Yarred', 'Laroche', 'Devaney', 'Arnold-Franchi', 'West', 'Andersson', 'Goodwin', 'Ilett', 'Zabour', 'Attalah', 'Andersson', 'Newsom', 'Ford', 'Gilnagh', 'Johnson', 'Kink-Heilmann', 'Andersen-Jensen', 'Strom', 'Carr', 'Asplund', 'Collyer', 'Bishop', 'Allison', 'Penasco y Castellana', 'Ryerson', 'Hippach', 'Palsson', 'Nakid', 'Lehmann', 'Silven', 'Van Impe', 'Phillips', 'Carter', 'Mellinger', 'Baclini', 'Baclini', 'Hirvonen', 'Maioni', 'Quick', 'Hart', 'Andersson', 'Andersson', 'Beane', 'Taussig', 'Becker', 'Skoog', 'Skoog', 'Baclini', 'Doling', 'Hegarty', 'Turja', 'Madill', 'Karun', 'Astor', 'Barbara', 'Harper', 'Wells', 'Emanuel', 'Ayoub', 'Dick', 'Sjoblom', 'Pettersson', 'Andersson', 'Yasbeck', 'Boulos', 'Lines', 'Aks', 'Najib', 'Graham']\n"
     ]
    }
   ],
   "source": [
    "apellidos_mujeres = df[(df[\"Sex\"] == \"female\") & (df[\"Age\"] < 20)][\"Surname\"].to_list()\n",
    "\n",
    "print(apellidos_mujeres)"
   ]
  },
  {
   "cell_type": "code",
   "execution_count": null,
   "id": "bcfb6b10",
   "metadata": {},
   "outputs": [],
   "source": []
  },
  {
   "cell_type": "code",
   "execution_count": null,
   "id": "115a919c",
   "metadata": {},
   "outputs": [],
   "source": []
  },
  {
   "cell_type": "markdown",
   "id": "0d19ff1d",
   "metadata": {},
   "source": [
    "### Ejercicio 14:\n",
    "- ¿Cuales son los apellidos de los pasajeros que son hombres y mayor de 45 años?"
   ]
  },
  {
   "cell_type": "code",
   "execution_count": 46,
   "id": "fa9ec747",
   "metadata": {
    "scrolled": true
   },
   "outputs": [
    {
     "name": "stdout",
     "output_type": "stream",
     "text": [
      "['McCarthy', 'Wheadon', 'Ostby', 'Chaffee', 'Coxon', 'Goldschmidt', 'Porter', 'Connors', 'White', 'Bateman', 'Meo', 'Williams', 'Van der hoef', 'Smith', 'Youseff', 'Green', 'Sjostedt', 'Carter', 'Stead', 'Taussig', 'Duane', 'Moraweck', 'Nysveen', 'Partner', 'McKane', 'Widegren', 'Silvey', 'Fortune', 'Peuchen', 'Goldenberg', 'Millet', 'Anderson', 'Gee', 'Milling', 'Smart', 'Rouse', 'Kent', 'Molson', 'Artagaveytia', 'Walker', 'Douglas', 'Nicholson', 'Wright', 'Harris', 'Downton', 'Jarvis', 'Frolicher-Stehli', 'Elsbury', 'Johnson', 'Duff Gordon', 'Sutton', 'Kirkland', 'Barkworth', 'Lundahl', 'Harper', 'Simonius-Blumer', 'Newell', 'Frauenthal', 'Colley', 'Mitchell', 'Brown', 'Weir', 'Chapman', 'Thayer', 'Taylor', 'Greenberg', 'Hodges', 'Crosby', 'Jensen', 'Guggenheim', 'Svensson', 'Daly', 'Vander Cruyssen']\n"
     ]
    }
   ],
   "source": [
    "apellidos_hombres = df[(df[\"Sex\"] == \"male\") & (df[\"Age\"] > 45)][\"Surname\"].to_list()\n",
    "\n",
    "print(apellidos_hombres)"
   ]
  },
  {
   "cell_type": "code",
   "execution_count": null,
   "id": "73540b18",
   "metadata": {},
   "outputs": [],
   "source": []
  },
  {
   "cell_type": "code",
   "execution_count": null,
   "id": "3620716c",
   "metadata": {},
   "outputs": [],
   "source": []
  },
  {
   "cell_type": "markdown",
   "id": "e3d2ddc1",
   "metadata": {},
   "source": [
    "### Ejercicio 15:\n",
    "- Compara si coinciden los apellidos generados en los ejercicios anteriores."
   ]
  },
  {
   "cell_type": "code",
   "execution_count": 47,
   "id": "0bd8f994",
   "metadata": {},
   "outputs": [
    {
     "data": {
      "text/plain": [
       "{'Carter', 'Harper', 'Johnson', 'Taussig'}"
      ]
     },
     "execution_count": 47,
     "metadata": {},
     "output_type": "execute_result"
    }
   ],
   "source": [
    "apellidos_hombres_set = set(apellidos_hombres)\n",
    "\n",
    "apellidos_mujeres_set = set(apellidos_mujeres)\n",
    "\n",
    "\n",
    "apellidos_hombres_set.intersection(apellidos_mujeres_set)"
   ]
  },
  {
   "cell_type": "code",
   "execution_count": null,
   "id": "9ad8721d",
   "metadata": {},
   "outputs": [],
   "source": []
  },
  {
   "cell_type": "code",
   "execution_count": null,
   "id": "ea6f74eb",
   "metadata": {},
   "outputs": [],
   "source": []
  },
  {
   "cell_type": "markdown",
   "id": "591cb3a1",
   "metadata": {},
   "source": [
    "### Ejercicio 16:\n",
    "- Encuentra los 10 pasajeros que no sobrevivieron más jovenes e imprime cuantos son hombres y cuantos son mujeres."
   ]
  },
  {
   "cell_type": "code",
   "execution_count": 52,
   "id": "c5ec7a5c",
   "metadata": {},
   "outputs": [
    {
     "data": {
      "text/plain": [
       "Sex\n",
       "male      5\n",
       "female    5\n",
       "Name: count, dtype: int64"
      ]
     },
     "execution_count": 52,
     "metadata": {},
     "output_type": "execute_result"
    }
   ],
   "source": [
    "df[df[\"Survived\"] == 0].sort_values(\"Age\").head(10)[\"Sex\"].value_counts()"
   ]
  },
  {
   "cell_type": "code",
   "execution_count": null,
   "id": "74891e2c",
   "metadata": {},
   "outputs": [],
   "source": []
  },
  {
   "cell_type": "code",
   "execution_count": null,
   "id": "bef9f278",
   "metadata": {},
   "outputs": [],
   "source": []
  },
  {
   "cell_type": "markdown",
   "id": "18ec5580",
   "metadata": {},
   "source": [
    "### Ejercicio 17:\n",
    "-  En un DataFrame muestra 3 pasajeros que sean hombres y 3 que sean mujeres, que hayan sobrevivido y para cada clase de la columna Pclass."
   ]
  },
  {
   "cell_type": "code",
   "execution_count": 53,
   "id": "ce0a95a3",
   "metadata": {},
   "outputs": [
    {
     "data": {
      "text/html": [
       "<div>\n",
       "<style scoped>\n",
       "    .dataframe tbody tr th:only-of-type {\n",
       "        vertical-align: middle;\n",
       "    }\n",
       "\n",
       "    .dataframe tbody tr th {\n",
       "        vertical-align: top;\n",
       "    }\n",
       "\n",
       "    .dataframe thead th {\n",
       "        text-align: right;\n",
       "    }\n",
       "</style>\n",
       "<table border=\"1\" class=\"dataframe\">\n",
       "  <thead>\n",
       "    <tr style=\"text-align: right;\">\n",
       "      <th></th>\n",
       "      <th>PassengerId</th>\n",
       "      <th>Name</th>\n",
       "      <th>Sex</th>\n",
       "      <th>Age</th>\n",
       "      <th>Survived</th>\n",
       "      <th>Pclass</th>\n",
       "      <th>Ticket</th>\n",
       "      <th>Fare</th>\n",
       "      <th>Surname</th>\n",
       "    </tr>\n",
       "  </thead>\n",
       "  <tbody>\n",
       "    <tr>\n",
       "      <th>0</th>\n",
       "      <td>37</td>\n",
       "      <td>Mamee, Mr. Hanna</td>\n",
       "      <td>male</td>\n",
       "      <td>NaN</td>\n",
       "      <td>1</td>\n",
       "      <td>3</td>\n",
       "      <td>2677</td>\n",
       "      <td>7.2292</td>\n",
       "      <td>Mamee</td>\n",
       "    </tr>\n",
       "    <tr>\n",
       "      <th>1</th>\n",
       "      <td>66</td>\n",
       "      <td>Moubarek, Master. Gerios</td>\n",
       "      <td>male</td>\n",
       "      <td>NaN</td>\n",
       "      <td>1</td>\n",
       "      <td>3</td>\n",
       "      <td>2661</td>\n",
       "      <td>15.2458</td>\n",
       "      <td>Moubarek</td>\n",
       "    </tr>\n",
       "    <tr>\n",
       "      <th>2</th>\n",
       "      <td>75</td>\n",
       "      <td>Bing, Mr. Lee</td>\n",
       "      <td>male</td>\n",
       "      <td>32.00</td>\n",
       "      <td>1</td>\n",
       "      <td>3</td>\n",
       "      <td>1601</td>\n",
       "      <td>56.4958</td>\n",
       "      <td>Bing</td>\n",
       "    </tr>\n",
       "    <tr>\n",
       "      <th>3</th>\n",
       "      <td>24</td>\n",
       "      <td>Sloper, Mr. William Thompson</td>\n",
       "      <td>male</td>\n",
       "      <td>28.00</td>\n",
       "      <td>1</td>\n",
       "      <td>1</td>\n",
       "      <td>113788</td>\n",
       "      <td>35.5000</td>\n",
       "      <td>Sloper</td>\n",
       "    </tr>\n",
       "    <tr>\n",
       "      <th>4</th>\n",
       "      <td>56</td>\n",
       "      <td>Woolner, Mr. Hugh</td>\n",
       "      <td>male</td>\n",
       "      <td>NaN</td>\n",
       "      <td>1</td>\n",
       "      <td>1</td>\n",
       "      <td>19947</td>\n",
       "      <td>35.5000</td>\n",
       "      <td>Woolner</td>\n",
       "    </tr>\n",
       "    <tr>\n",
       "      <th>5</th>\n",
       "      <td>98</td>\n",
       "      <td>Greenfield, Mr. William Bertram</td>\n",
       "      <td>male</td>\n",
       "      <td>23.00</td>\n",
       "      <td>1</td>\n",
       "      <td>1</td>\n",
       "      <td>PC 17759</td>\n",
       "      <td>63.3583</td>\n",
       "      <td>Greenfield</td>\n",
       "    </tr>\n",
       "    <tr>\n",
       "      <th>6</th>\n",
       "      <td>18</td>\n",
       "      <td>Williams, Mr. Charles Eugene</td>\n",
       "      <td>male</td>\n",
       "      <td>NaN</td>\n",
       "      <td>1</td>\n",
       "      <td>2</td>\n",
       "      <td>244373</td>\n",
       "      <td>13.0000</td>\n",
       "      <td>Williams</td>\n",
       "    </tr>\n",
       "    <tr>\n",
       "      <th>7</th>\n",
       "      <td>22</td>\n",
       "      <td>Beesley, Mr. Lawrence</td>\n",
       "      <td>male</td>\n",
       "      <td>34.00</td>\n",
       "      <td>1</td>\n",
       "      <td>2</td>\n",
       "      <td>248698</td>\n",
       "      <td>13.0000</td>\n",
       "      <td>Beesley</td>\n",
       "    </tr>\n",
       "    <tr>\n",
       "      <th>8</th>\n",
       "      <td>79</td>\n",
       "      <td>Caldwell, Master. Alden Gates</td>\n",
       "      <td>male</td>\n",
       "      <td>0.83</td>\n",
       "      <td>1</td>\n",
       "      <td>2</td>\n",
       "      <td>248738</td>\n",
       "      <td>29.0000</td>\n",
       "      <td>Caldwell</td>\n",
       "    </tr>\n",
       "    <tr>\n",
       "      <th>9</th>\n",
       "      <td>3</td>\n",
       "      <td>Heikkinen, Miss. Laina</td>\n",
       "      <td>female</td>\n",
       "      <td>26.00</td>\n",
       "      <td>1</td>\n",
       "      <td>3</td>\n",
       "      <td>STON/O2. 3101282</td>\n",
       "      <td>7.9250</td>\n",
       "      <td>Heikkinen</td>\n",
       "    </tr>\n",
       "    <tr>\n",
       "      <th>10</th>\n",
       "      <td>9</td>\n",
       "      <td>Johnson, Mrs. Oscar W (Elisabeth Vilhelmina Berg)</td>\n",
       "      <td>female</td>\n",
       "      <td>27.00</td>\n",
       "      <td>1</td>\n",
       "      <td>3</td>\n",
       "      <td>347742</td>\n",
       "      <td>11.1333</td>\n",
       "      <td>Johnson</td>\n",
       "    </tr>\n",
       "    <tr>\n",
       "      <th>11</th>\n",
       "      <td>11</td>\n",
       "      <td>Sandstrom, Miss. Marguerite Rut</td>\n",
       "      <td>female</td>\n",
       "      <td>4.00</td>\n",
       "      <td>1</td>\n",
       "      <td>3</td>\n",
       "      <td>PP 9549</td>\n",
       "      <td>16.7000</td>\n",
       "      <td>Sandstrom</td>\n",
       "    </tr>\n",
       "    <tr>\n",
       "      <th>12</th>\n",
       "      <td>2</td>\n",
       "      <td>Cumings, Mrs. John Bradley (Florence Briggs Th...</td>\n",
       "      <td>female</td>\n",
       "      <td>38.00</td>\n",
       "      <td>1</td>\n",
       "      <td>1</td>\n",
       "      <td>PC 17599</td>\n",
       "      <td>71.2833</td>\n",
       "      <td>Cumings</td>\n",
       "    </tr>\n",
       "    <tr>\n",
       "      <th>13</th>\n",
       "      <td>4</td>\n",
       "      <td>Futrelle, Mrs. Jacques Heath (Lily May Peel)</td>\n",
       "      <td>female</td>\n",
       "      <td>35.00</td>\n",
       "      <td>1</td>\n",
       "      <td>1</td>\n",
       "      <td>113803</td>\n",
       "      <td>53.1000</td>\n",
       "      <td>Futrelle</td>\n",
       "    </tr>\n",
       "    <tr>\n",
       "      <th>14</th>\n",
       "      <td>12</td>\n",
       "      <td>Bonnell, Miss. Elizabeth</td>\n",
       "      <td>female</td>\n",
       "      <td>58.00</td>\n",
       "      <td>1</td>\n",
       "      <td>1</td>\n",
       "      <td>113783</td>\n",
       "      <td>26.5500</td>\n",
       "      <td>Bonnell</td>\n",
       "    </tr>\n",
       "    <tr>\n",
       "      <th>15</th>\n",
       "      <td>10</td>\n",
       "      <td>Nasser, Mrs. Nicholas (Adele Achem)</td>\n",
       "      <td>female</td>\n",
       "      <td>14.00</td>\n",
       "      <td>1</td>\n",
       "      <td>2</td>\n",
       "      <td>237736</td>\n",
       "      <td>30.0708</td>\n",
       "      <td>Nasser</td>\n",
       "    </tr>\n",
       "    <tr>\n",
       "      <th>16</th>\n",
       "      <td>16</td>\n",
       "      <td>Hewlett, Mrs. (Mary D Kingcome)</td>\n",
       "      <td>female</td>\n",
       "      <td>55.00</td>\n",
       "      <td>1</td>\n",
       "      <td>2</td>\n",
       "      <td>248706</td>\n",
       "      <td>16.0000</td>\n",
       "      <td>Hewlett</td>\n",
       "    </tr>\n",
       "    <tr>\n",
       "      <th>17</th>\n",
       "      <td>44</td>\n",
       "      <td>Laroche, Miss. Simonne Marie Anne Andree</td>\n",
       "      <td>female</td>\n",
       "      <td>3.00</td>\n",
       "      <td>1</td>\n",
       "      <td>2</td>\n",
       "      <td>SC/Paris 2123</td>\n",
       "      <td>41.5792</td>\n",
       "      <td>Laroche</td>\n",
       "    </tr>\n",
       "  </tbody>\n",
       "</table>\n",
       "</div>"
      ],
      "text/plain": [
       "    PassengerId                                               Name     Sex  \\\n",
       "0            37                                   Mamee, Mr. Hanna    male   \n",
       "1            66                           Moubarek, Master. Gerios    male   \n",
       "2            75                                      Bing, Mr. Lee    male   \n",
       "3            24                       Sloper, Mr. William Thompson    male   \n",
       "4            56                                  Woolner, Mr. Hugh    male   \n",
       "5            98                    Greenfield, Mr. William Bertram    male   \n",
       "6            18                       Williams, Mr. Charles Eugene    male   \n",
       "7            22                              Beesley, Mr. Lawrence    male   \n",
       "8            79                      Caldwell, Master. Alden Gates    male   \n",
       "9             3                             Heikkinen, Miss. Laina  female   \n",
       "10            9  Johnson, Mrs. Oscar W (Elisabeth Vilhelmina Berg)  female   \n",
       "11           11                    Sandstrom, Miss. Marguerite Rut  female   \n",
       "12            2  Cumings, Mrs. John Bradley (Florence Briggs Th...  female   \n",
       "13            4       Futrelle, Mrs. Jacques Heath (Lily May Peel)  female   \n",
       "14           12                           Bonnell, Miss. Elizabeth  female   \n",
       "15           10                Nasser, Mrs. Nicholas (Adele Achem)  female   \n",
       "16           16                   Hewlett, Mrs. (Mary D Kingcome)   female   \n",
       "17           44           Laroche, Miss. Simonne Marie Anne Andree  female   \n",
       "\n",
       "      Age  Survived  Pclass            Ticket     Fare     Surname  \n",
       "0     NaN         1       3              2677   7.2292       Mamee  \n",
       "1     NaN         1       3              2661  15.2458    Moubarek  \n",
       "2   32.00         1       3              1601  56.4958        Bing  \n",
       "3   28.00         1       1            113788  35.5000      Sloper  \n",
       "4     NaN         1       1             19947  35.5000     Woolner  \n",
       "5   23.00         1       1          PC 17759  63.3583  Greenfield  \n",
       "6     NaN         1       2            244373  13.0000    Williams  \n",
       "7   34.00         1       2            248698  13.0000     Beesley  \n",
       "8    0.83         1       2            248738  29.0000    Caldwell  \n",
       "9   26.00         1       3  STON/O2. 3101282   7.9250   Heikkinen  \n",
       "10  27.00         1       3            347742  11.1333     Johnson  \n",
       "11   4.00         1       3           PP 9549  16.7000   Sandstrom  \n",
       "12  38.00         1       1          PC 17599  71.2833     Cumings  \n",
       "13  35.00         1       1            113803  53.1000    Futrelle  \n",
       "14  58.00         1       1            113783  26.5500     Bonnell  \n",
       "15  14.00         1       2            237736  30.0708      Nasser  \n",
       "16  55.00         1       2            248706  16.0000     Hewlett  \n",
       "17   3.00         1       2     SC/Paris 2123  41.5792     Laroche  "
      ]
     },
     "execution_count": 53,
     "metadata": {},
     "output_type": "execute_result"
    }
   ],
   "source": [
    "df_17 = pd.DataFrame()\n",
    "\n",
    "for sex in df[\"Sex\"].unique():\n",
    "    for pclass in df[\"Pclass\"].unique():\n",
    "        \n",
    "        df_ = df[(df[\"Sex\"] == sex) & (df[\"Pclass\"] == pclass) & (df[\"Survived\"] == 1)].head(3)\n",
    "        \n",
    "        df_17 = pd.concat([df_17, df_], axis = 0, ignore_index = True)\n",
    "        \n",
    "df_17"
   ]
  },
  {
   "cell_type": "code",
   "execution_count": null,
   "id": "52e701cc",
   "metadata": {},
   "outputs": [],
   "source": []
  },
  {
   "cell_type": "code",
   "execution_count": null,
   "id": "a1ee7bcd",
   "metadata": {},
   "outputs": [],
   "source": []
  },
  {
   "cell_type": "markdown",
   "id": "62aa7e57",
   "metadata": {},
   "source": [
    "### Ejercicio 18:\n",
    "- Obtener el tipo de elementos de cada columna y convierte los que sean \"int64\" a \"int32\". Evalua la memoria que consume antes y después de convertir las columnas y comenta la diferencia."
   ]
  },
  {
   "cell_type": "code",
   "execution_count": 54,
   "id": "2adde1e4",
   "metadata": {},
   "outputs": [
    {
     "name": "stdout",
     "output_type": "stream",
     "text": [
      "<class 'pandas.core.frame.DataFrame'>\n",
      "RangeIndex: 891 entries, 0 to 890\n",
      "Data columns (total 9 columns):\n",
      " #   Column       Non-Null Count  Dtype  \n",
      "---  ------       --------------  -----  \n",
      " 0   PassengerId  891 non-null    int64  \n",
      " 1   Name         891 non-null    object \n",
      " 2   Sex          891 non-null    object \n",
      " 3   Age          714 non-null    float64\n",
      " 4   Survived     891 non-null    int64  \n",
      " 5   Pclass       891 non-null    int64  \n",
      " 6   Ticket       891 non-null    object \n",
      " 7   Fare         891 non-null    float64\n",
      " 8   Surname      891 non-null    object \n",
      "dtypes: float64(2), int64(3), object(4)\n",
      "memory usage: 62.8+ KB\n"
     ]
    }
   ],
   "source": [
    "df.info()"
   ]
  },
  {
   "cell_type": "code",
   "execution_count": 55,
   "id": "1e8c0d95",
   "metadata": {},
   "outputs": [
    {
     "data": {
      "text/plain": [
       "{'PassengerId': dtype('int64'),\n",
       " 'Name': dtype('O'),\n",
       " 'Sex': dtype('O'),\n",
       " 'Age': dtype('float64'),\n",
       " 'Survived': dtype('int64'),\n",
       " 'Pclass': dtype('int64'),\n",
       " 'Ticket': dtype('O'),\n",
       " 'Fare': dtype('float64'),\n",
       " 'Surname': dtype('O')}"
      ]
     },
     "execution_count": 55,
     "metadata": {},
     "output_type": "execute_result"
    }
   ],
   "source": [
    "datos_columnas = df.dtypes.to_dict()\n",
    "\n",
    "datos_columnas"
   ]
  },
  {
   "cell_type": "code",
   "execution_count": 56,
   "id": "94f2d200",
   "metadata": {},
   "outputs": [],
   "source": [
    "for llave, valor in datos_columnas.items():\n",
    "    if valor == \"int64\":\n",
    "        df[llave] = df[llave].astype(\"int32\")"
   ]
  },
  {
   "cell_type": "code",
   "execution_count": 57,
   "id": "9b20d09c",
   "metadata": {},
   "outputs": [
    {
     "name": "stdout",
     "output_type": "stream",
     "text": [
      "<class 'pandas.core.frame.DataFrame'>\n",
      "RangeIndex: 891 entries, 0 to 890\n",
      "Data columns (total 9 columns):\n",
      " #   Column       Non-Null Count  Dtype  \n",
      "---  ------       --------------  -----  \n",
      " 0   PassengerId  891 non-null    int32  \n",
      " 1   Name         891 non-null    object \n",
      " 2   Sex          891 non-null    object \n",
      " 3   Age          714 non-null    float64\n",
      " 4   Survived     891 non-null    int32  \n",
      " 5   Pclass       891 non-null    int32  \n",
      " 6   Ticket       891 non-null    object \n",
      " 7   Fare         891 non-null    float64\n",
      " 8   Surname      891 non-null    object \n",
      "dtypes: float64(2), int32(3), object(4)\n",
      "memory usage: 52.3+ KB\n"
     ]
    }
   ],
   "source": [
    "df.info()"
   ]
  },
  {
   "cell_type": "markdown",
   "id": "99bb5d71",
   "metadata": {},
   "source": [
    "### Ejercicio 19:\n",
    "- Encuentra a los pasajeros de la clase 1 y 3 entre 20 y 25 años y comprueba si son más hombres o mujeres."
   ]
  },
  {
   "cell_type": "code",
   "execution_count": 58,
   "id": "967bfec6",
   "metadata": {},
   "outputs": [
    {
     "data": {
      "text/plain": [
       "Sex\n",
       "male      73\n",
       "female    34\n",
       "Name: count, dtype: int64"
      ]
     },
     "execution_count": 58,
     "metadata": {},
     "output_type": "execute_result"
    }
   ],
   "source": [
    "df[(df[\"Pclass\"].isin([1, 3])) & (df[\"Age\"].between(20, 25))][\"Sex\"].value_counts()"
   ]
  },
  {
   "cell_type": "code",
   "execution_count": null,
   "id": "a6265d21",
   "metadata": {},
   "outputs": [],
   "source": []
  },
  {
   "cell_type": "code",
   "execution_count": null,
   "id": "8d36a925",
   "metadata": {},
   "outputs": [],
   "source": []
  },
  {
   "cell_type": "markdown",
   "id": "61a74deb",
   "metadata": {},
   "source": [
    "### Ejercicio 20:\n",
    "- Agrega una nueva columna al DataFrame que se llame: \"Rango edad\" y va a categorizar de la siguiente manera:\n",
    "    - Niño < 11 años\n",
    "    - Joven < 18 años\n",
    "    - Adulto < 50 años\n",
    "    - Mayor >= 50 años"
   ]
  },
  {
   "cell_type": "code",
   "execution_count": 59,
   "id": "34ba18c7",
   "metadata": {},
   "outputs": [],
   "source": [
    "def rango_edad(edad):\n",
    "    \n",
    "    if edad < 11:\n",
    "        return \"niño\"\n",
    "    elif edad < 18:\n",
    "        return \"joven\"\n",
    "    elif edad < 50:\n",
    "        return \"adulto\"\n",
    "    else:\n",
    "        return \"mayor\""
   ]
  },
  {
   "cell_type": "code",
   "execution_count": 60,
   "id": "62e9cf3f",
   "metadata": {},
   "outputs": [
    {
     "data": {
      "text/html": [
       "<div>\n",
       "<style scoped>\n",
       "    .dataframe tbody tr th:only-of-type {\n",
       "        vertical-align: middle;\n",
       "    }\n",
       "\n",
       "    .dataframe tbody tr th {\n",
       "        vertical-align: top;\n",
       "    }\n",
       "\n",
       "    .dataframe thead th {\n",
       "        text-align: right;\n",
       "    }\n",
       "</style>\n",
       "<table border=\"1\" class=\"dataframe\">\n",
       "  <thead>\n",
       "    <tr style=\"text-align: right;\">\n",
       "      <th></th>\n",
       "      <th>PassengerId</th>\n",
       "      <th>Name</th>\n",
       "      <th>Sex</th>\n",
       "      <th>Age</th>\n",
       "      <th>Survived</th>\n",
       "      <th>Pclass</th>\n",
       "      <th>Ticket</th>\n",
       "      <th>Fare</th>\n",
       "      <th>Surname</th>\n",
       "      <th>rango_edad</th>\n",
       "    </tr>\n",
       "  </thead>\n",
       "  <tbody>\n",
       "    <tr>\n",
       "      <th>0</th>\n",
       "      <td>1</td>\n",
       "      <td>Braund, Mr. Owen Harris</td>\n",
       "      <td>male</td>\n",
       "      <td>22.0</td>\n",
       "      <td>0</td>\n",
       "      <td>3</td>\n",
       "      <td>A/5 21171</td>\n",
       "      <td>7.2500</td>\n",
       "      <td>Braund</td>\n",
       "      <td>adulto</td>\n",
       "    </tr>\n",
       "    <tr>\n",
       "      <th>1</th>\n",
       "      <td>2</td>\n",
       "      <td>Cumings, Mrs. John Bradley (Florence Briggs Th...</td>\n",
       "      <td>female</td>\n",
       "      <td>38.0</td>\n",
       "      <td>1</td>\n",
       "      <td>1</td>\n",
       "      <td>PC 17599</td>\n",
       "      <td>71.2833</td>\n",
       "      <td>Cumings</td>\n",
       "      <td>adulto</td>\n",
       "    </tr>\n",
       "    <tr>\n",
       "      <th>2</th>\n",
       "      <td>3</td>\n",
       "      <td>Heikkinen, Miss. Laina</td>\n",
       "      <td>female</td>\n",
       "      <td>26.0</td>\n",
       "      <td>1</td>\n",
       "      <td>3</td>\n",
       "      <td>STON/O2. 3101282</td>\n",
       "      <td>7.9250</td>\n",
       "      <td>Heikkinen</td>\n",
       "      <td>adulto</td>\n",
       "    </tr>\n",
       "    <tr>\n",
       "      <th>3</th>\n",
       "      <td>4</td>\n",
       "      <td>Futrelle, Mrs. Jacques Heath (Lily May Peel)</td>\n",
       "      <td>female</td>\n",
       "      <td>35.0</td>\n",
       "      <td>1</td>\n",
       "      <td>1</td>\n",
       "      <td>113803</td>\n",
       "      <td>53.1000</td>\n",
       "      <td>Futrelle</td>\n",
       "      <td>adulto</td>\n",
       "    </tr>\n",
       "    <tr>\n",
       "      <th>4</th>\n",
       "      <td>5</td>\n",
       "      <td>Allen, Mr. William Henry</td>\n",
       "      <td>male</td>\n",
       "      <td>35.0</td>\n",
       "      <td>0</td>\n",
       "      <td>3</td>\n",
       "      <td>373450</td>\n",
       "      <td>8.0500</td>\n",
       "      <td>Allen</td>\n",
       "      <td>adulto</td>\n",
       "    </tr>\n",
       "    <tr>\n",
       "      <th>5</th>\n",
       "      <td>6</td>\n",
       "      <td>Moran, Mr. James</td>\n",
       "      <td>male</td>\n",
       "      <td>NaN</td>\n",
       "      <td>0</td>\n",
       "      <td>3</td>\n",
       "      <td>330877</td>\n",
       "      <td>8.4583</td>\n",
       "      <td>Moran</td>\n",
       "      <td>mayor</td>\n",
       "    </tr>\n",
       "    <tr>\n",
       "      <th>6</th>\n",
       "      <td>7</td>\n",
       "      <td>McCarthy, Mr. Timothy J</td>\n",
       "      <td>male</td>\n",
       "      <td>54.0</td>\n",
       "      <td>0</td>\n",
       "      <td>1</td>\n",
       "      <td>17463</td>\n",
       "      <td>51.8625</td>\n",
       "      <td>McCarthy</td>\n",
       "      <td>mayor</td>\n",
       "    </tr>\n",
       "    <tr>\n",
       "      <th>7</th>\n",
       "      <td>8</td>\n",
       "      <td>Palsson, Master. Gosta Leonard</td>\n",
       "      <td>male</td>\n",
       "      <td>2.0</td>\n",
       "      <td>0</td>\n",
       "      <td>3</td>\n",
       "      <td>349909</td>\n",
       "      <td>21.0750</td>\n",
       "      <td>Palsson</td>\n",
       "      <td>niño</td>\n",
       "    </tr>\n",
       "    <tr>\n",
       "      <th>8</th>\n",
       "      <td>9</td>\n",
       "      <td>Johnson, Mrs. Oscar W (Elisabeth Vilhelmina Berg)</td>\n",
       "      <td>female</td>\n",
       "      <td>27.0</td>\n",
       "      <td>1</td>\n",
       "      <td>3</td>\n",
       "      <td>347742</td>\n",
       "      <td>11.1333</td>\n",
       "      <td>Johnson</td>\n",
       "      <td>adulto</td>\n",
       "    </tr>\n",
       "    <tr>\n",
       "      <th>9</th>\n",
       "      <td>10</td>\n",
       "      <td>Nasser, Mrs. Nicholas (Adele Achem)</td>\n",
       "      <td>female</td>\n",
       "      <td>14.0</td>\n",
       "      <td>1</td>\n",
       "      <td>2</td>\n",
       "      <td>237736</td>\n",
       "      <td>30.0708</td>\n",
       "      <td>Nasser</td>\n",
       "      <td>joven</td>\n",
       "    </tr>\n",
       "  </tbody>\n",
       "</table>\n",
       "</div>"
      ],
      "text/plain": [
       "   PassengerId                                               Name     Sex  \\\n",
       "0            1                            Braund, Mr. Owen Harris    male   \n",
       "1            2  Cumings, Mrs. John Bradley (Florence Briggs Th...  female   \n",
       "2            3                             Heikkinen, Miss. Laina  female   \n",
       "3            4       Futrelle, Mrs. Jacques Heath (Lily May Peel)  female   \n",
       "4            5                           Allen, Mr. William Henry    male   \n",
       "5            6                                   Moran, Mr. James    male   \n",
       "6            7                            McCarthy, Mr. Timothy J    male   \n",
       "7            8                     Palsson, Master. Gosta Leonard    male   \n",
       "8            9  Johnson, Mrs. Oscar W (Elisabeth Vilhelmina Berg)  female   \n",
       "9           10                Nasser, Mrs. Nicholas (Adele Achem)  female   \n",
       "\n",
       "    Age  Survived  Pclass            Ticket     Fare    Surname rango_edad  \n",
       "0  22.0         0       3         A/5 21171   7.2500     Braund     adulto  \n",
       "1  38.0         1       1          PC 17599  71.2833    Cumings     adulto  \n",
       "2  26.0         1       3  STON/O2. 3101282   7.9250  Heikkinen     adulto  \n",
       "3  35.0         1       1            113803  53.1000   Futrelle     adulto  \n",
       "4  35.0         0       3            373450   8.0500      Allen     adulto  \n",
       "5   NaN         0       3            330877   8.4583      Moran      mayor  \n",
       "6  54.0         0       1             17463  51.8625   McCarthy      mayor  \n",
       "7   2.0         0       3            349909  21.0750    Palsson       niño  \n",
       "8  27.0         1       3            347742  11.1333    Johnson     adulto  \n",
       "9  14.0         1       2            237736  30.0708     Nasser      joven  "
      ]
     },
     "execution_count": 60,
     "metadata": {},
     "output_type": "execute_result"
    }
   ],
   "source": [
    "df[\"rango_edad\"] = df[\"Age\"].apply(lambda x : rango_edad(x))\n",
    "\n",
    "df.head(10)"
   ]
  },
  {
   "cell_type": "code",
   "execution_count": null,
   "id": "e7a9330a",
   "metadata": {},
   "outputs": [],
   "source": []
  },
  {
   "cell_type": "markdown",
   "id": "675ad30a",
   "metadata": {},
   "source": [
    "### Ejercicio 21:\n",
    "- Encontrar a los pasajeros \"jovenes\" y \"mayores\" de la clase 2 y 3 que hayan sobrevivido. Imprimir los 10 primeros."
   ]
  },
  {
   "cell_type": "code",
   "execution_count": null,
   "id": "1b6181a3",
   "metadata": {},
   "outputs": [],
   "source": [
    "df[(df[\"rango_edad\"].isin([\"joven\", \"mayor\"])) & (df[\"Pclass\"].isin([2, 3]))]"
   ]
  },
  {
   "cell_type": "code",
   "execution_count": null,
   "id": "e9455a78",
   "metadata": {},
   "outputs": [],
   "source": []
  },
  {
   "cell_type": "code",
   "execution_count": null,
   "id": "c596d6f4",
   "metadata": {},
   "outputs": [],
   "source": []
  },
  {
   "cell_type": "markdown",
   "id": "2d55b763",
   "metadata": {},
   "source": [
    "### Ejercicio 22:\n",
    "- Encuentra la edad promedio de todos los pasajeros y reemmplazala por los NaN en la columna de Age y ejecuta el ejercicio anterior."
   ]
  },
  {
   "cell_type": "code",
   "execution_count": null,
   "id": "e3685698",
   "metadata": {},
   "outputs": [],
   "source": [
    "edad_promedio = df[\"Age\"].mean()\n",
    "\n",
    "edad_promedio"
   ]
  },
  {
   "cell_type": "code",
   "execution_count": null,
   "id": "505533c3",
   "metadata": {},
   "outputs": [],
   "source": [
    "df[\"Age\"].fillna(edad_promedio, inplace = True)\n",
    "\n",
    "df.head(10)"
   ]
  },
  {
   "cell_type": "code",
   "execution_count": null,
   "id": "23d0fdb9",
   "metadata": {},
   "outputs": [],
   "source": []
  },
  {
   "cell_type": "markdown",
   "id": "cf4a4f37",
   "metadata": {},
   "source": [
    "### Ejercicio 23:\n",
    "- Cambia a español la columna **`Sex`**."
   ]
  },
  {
   "cell_type": "code",
   "execution_count": null,
   "id": "31ce34ac",
   "metadata": {},
   "outputs": [],
   "source": [
    "df[\"Sex\"].replace({\"male\" : \"hombre\", \"female\" : \"mujer\"}, inplace = True)\n",
    "\n",
    "\n",
    "df[\"Sex\"].unique()"
   ]
  },
  {
   "cell_type": "code",
   "execution_count": null,
   "id": "6bd14502",
   "metadata": {},
   "outputs": [],
   "source": []
  },
  {
   "cell_type": "code",
   "execution_count": null,
   "id": "204b46f3",
   "metadata": {},
   "outputs": [],
   "source": []
  },
  {
   "cell_type": "markdown",
   "id": "5c9834c8",
   "metadata": {},
   "source": [
    "### Ejercicio 24:\n",
    "- Convierte a mayusculas todas las columnas que los valores sean cadenas."
   ]
  },
  {
   "cell_type": "code",
   "execution_count": null,
   "id": "128e274f",
   "metadata": {},
   "outputs": [],
   "source": [
    "datos_columnas = df.dtypes.to_dict()\n",
    "\n",
    "datos_columnas"
   ]
  },
  {
   "cell_type": "code",
   "execution_count": null,
   "id": "da755f85",
   "metadata": {},
   "outputs": [],
   "source": [
    "for llave, valor in datos_columnas.items():\n",
    "    if valor == \"object\":\n",
    "        df[llave] = df[llave].apply(lambda x : x.upper())\n",
    "        \n",
    "        \n",
    "df.head()"
   ]
  },
  {
   "cell_type": "code",
   "execution_count": null,
   "id": "23d4dda3",
   "metadata": {},
   "outputs": [],
   "source": []
  },
  {
   "cell_type": "markdown",
   "id": "c56e5a3b",
   "metadata": {},
   "source": [
    "### Ejercicio 25:\n",
    "- Agrupa por sexo y rango de edad y encuentra la edad promedio."
   ]
  },
  {
   "cell_type": "code",
   "execution_count": null,
   "id": "4d8c243e",
   "metadata": {},
   "outputs": [],
   "source": [
    "df.groupby([\"Sex\", \"rango_edad\"]).agg({\"Age\" : [\"mean\"]})"
   ]
  },
  {
   "cell_type": "code",
   "execution_count": null,
   "id": "dff1b94f",
   "metadata": {},
   "outputs": [],
   "source": []
  },
  {
   "cell_type": "code",
   "execution_count": null,
   "id": "f8067c0b",
   "metadata": {},
   "outputs": [],
   "source": []
  },
  {
   "cell_type": "markdown",
   "id": "cd9632e8",
   "metadata": {},
   "source": [
    "### Ejercicio 26:\n",
    "- Divide la columna name en las siguientes columnas:\n",
    "    - Mrs/Miss\n",
    "    - Apellido\n",
    "    - Nombre(s)\n",
    "    \n",
    "**Nota: Ignora el resto de información.**"
   ]
  },
  {
   "cell_type": "code",
   "execution_count": null,
   "id": "8e1f2ef6",
   "metadata": {},
   "outputs": [],
   "source": [
    "df[\"Mrs/Mss\"] = df[\"Name\"].apply(lambda x : x.split(\",\")[1].split()[0])\n",
    "\n",
    "df.head(3)"
   ]
  },
  {
   "cell_type": "code",
   "execution_count": null,
   "id": "6bec4f40",
   "metadata": {},
   "outputs": [],
   "source": [
    "df[\"Apellido\"] = df[\"Name\"].apply(lambda x : x.split(\",\")[0])\n",
    "\n",
    "df.head(3)"
   ]
  },
  {
   "cell_type": "code",
   "execution_count": null,
   "id": "f6d8f68f",
   "metadata": {},
   "outputs": [],
   "source": [
    "df[\"Nombre\"] = df[\"Name\"].apply(lambda x : \" \".join(x.split(\",\")[1].split()[1:]))\n",
    "\n",
    "df.head(3)"
   ]
  },
  {
   "cell_type": "code",
   "execution_count": null,
   "id": "86bffd4b",
   "metadata": {},
   "outputs": [],
   "source": []
  }
 ],
 "metadata": {
  "kernelspec": {
   "display_name": "Python 3 (ipykernel)",
   "language": "python",
   "name": "python3"
  },
  "language_info": {
   "codemirror_mode": {
    "name": "ipython",
    "version": 3
   },
   "file_extension": ".py",
   "mimetype": "text/x-python",
   "name": "python",
   "nbconvert_exporter": "python",
   "pygments_lexer": "ipython3",
   "version": "3.10.12"
  }
 },
 "nbformat": 4,
 "nbformat_minor": 5
}
