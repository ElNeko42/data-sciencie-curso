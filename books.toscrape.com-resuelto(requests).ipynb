{
 "cells": [
  {
   "cell_type": "markdown",
   "id": "165126bb",
   "metadata": {},
   "source": [
    "### Ejercicio 1:\n",
    "- De la web `url = \"https://books.toscrape.com\"` obtén la siguiente información del primer libro:\n",
    "    - Título\n",
    "    - Precio\n",
    "    - Stock\n",
    "    - Puntuación\n",
    "    - Descripción\n",
    "    - Género"
   ]
  },
  {
   "cell_type": "code",
   "execution_count": 1,
   "id": "608975b4",
   "metadata": {},
   "outputs": [
    {
     "name": "stderr",
     "output_type": "stream",
     "text": [
      "/tmp/ipykernel_26638/2409488756.py:3: DeprecationWarning: \n",
      "Pyarrow will become a required dependency of pandas in the next major release of pandas (pandas 3.0),\n",
      "(to allow more performant data types, such as the Arrow string type, and better interoperability with other libraries)\n",
      "but was not found to be installed on your system.\n",
      "If this would cause problems for you,\n",
      "please provide us feedback at https://github.com/pandas-dev/pandas/issues/54466\n",
      "        \n",
      "  import pandas as pd\n"
     ]
    }
   ],
   "source": [
    "from bs4 import BeautifulSoup\n",
    "import requests \n",
    "import pandas as pd\n",
    "import numpy as np"
   ]
  },
  {
   "cell_type": "code",
   "execution_count": 2,
   "id": "3dc5af51",
   "metadata": {},
   "outputs": [],
   "source": [
    "def get_data(url):\n",
    "    response = requests.get(url)\n",
    "    print(url, response.status_code)\n",
    "    soup = BeautifulSoup(response.text, \"html.parser\")\n",
    "    \n",
    "    try:\n",
    "        title = soup.find(\"h1\").text.strip()\n",
    "    except: title = np.nan\n",
    "    \n",
    "    try:\n",
    "        price = soup.find(\"p\", class_=\"price_color\").text.strip()\n",
    "    except: price = np.nan\n",
    "    \n",
    "    try:\n",
    "        in_stock = soup.find(\"p\", class_=\"instock availability\").text.strip()\n",
    "    except: in_stock = np.nan\n",
    "    \n",
    "    try:\n",
    "        gender = soup.find(\"ul\", class_=\"breadcrumb\").find_all(\"li\")[-2].text.strip()\n",
    "    except: gender = np.nan\n",
    "    \n",
    "    try:\n",
    "        description = soup.find(\"article\").find(\"p\", recursive=False).text.strip()\n",
    "    except: description = np.nan\n",
    "    \n",
    "    try:\n",
    "        rating = soup.find(\"p\", class_=\"star-rating\")[\"class\"][-1]\n",
    "    except: rating = np.nan\n",
    "            \n",
    "    return title, price, in_stock, gender, description, rating"
   ]
  },
  {
   "cell_type": "markdown",
   "id": "ab9f50c1",
   "metadata": {},
   "source": [
    "### Ejercicio 2:\n",
    "- Obtén la información que pide el **ejercicio 1** de los 20 primeros libros\n",
    "\n",
    "_Tip: usa Selenium para navegar por la página_"
   ]
  },
  {
   "cell_type": "code",
   "execution_count": null,
   "id": "6aa32fbb",
   "metadata": {},
   "outputs": [],
   "source": []
  },
  {
   "cell_type": "code",
   "execution_count": null,
   "id": "9514e6e5",
   "metadata": {},
   "outputs": [],
   "source": []
  },
  {
   "cell_type": "code",
   "execution_count": null,
   "id": "47e26128",
   "metadata": {},
   "outputs": [],
   "source": []
  },
  {
   "cell_type": "markdown",
   "id": "79e4a095",
   "metadata": {},
   "source": [
    "### Ejercicio 3:\n",
    "- Obtén la información que pide el ejercicio 1 de todos los libros que hay en la página web."
   ]
  },
  {
   "cell_type": "code",
   "execution_count": null,
   "id": "59ecef2f",
   "metadata": {},
   "outputs": [],
   "source": [
    "base_url = \"https://books.toscrape.com/catalogue/\"\n",
    "\n",
    "all_urls = []\n",
    "for i in range(1,51):\n",
    "    page_url = f\"https://books.toscrape.com/catalogue/page-{i}.html\"\n",
    "\n",
    "    response = requests.get(page_url)\n",
    "    soup = BeautifulSoup(response.text, \"html.parser\")\n",
    "\n",
    "    h3_list = soup.find_all(\"h3\")\n",
    "\n",
    "    urls = []\n",
    "    for h3 in h3_list:\n",
    "        endpoint = base_url + h3.find(\"a\")[\"href\"]\n",
    "        urls.append(endpoint)\n",
    "    \n",
    "    all_urls.extend(urls)"
   ]
  },
  {
   "cell_type": "code",
   "execution_count": null,
   "id": "e1ac7429",
   "metadata": {},
   "outputs": [],
   "source": [
    "data = {\n",
    "    \"title\" : [],\n",
    "    \"price\" : [],\n",
    "    \"in_stock\" :[],\n",
    "    \"gender\" : [],\n",
    "    \"description\" : [],\n",
    "    \"rating\" : [],\n",
    "}\n",
    "\n",
    "for url in all_urls:\n",
    "    title, price, stock, gender, description, rating = get_data(url)\n",
    "    data[\"title\"].append(title)\n",
    "    data[\"price\"].append(price)\n",
    "    data[\"in_stock\"].append(stock)\n",
    "    data[\"gender\"].append(gender)\n",
    "    data[\"description\"].append(description)\n",
    "    data[\"rating\"].append(rating)"
   ]
  },
  {
   "cell_type": "code",
   "execution_count": null,
   "id": "1d834da4",
   "metadata": {},
   "outputs": [],
   "source": [
    "df = pd.DataFrame(data)"
   ]
  },
  {
   "cell_type": "code",
   "execution_count": null,
   "id": "8bcc3f51",
   "metadata": {},
   "outputs": [],
   "source": [
    "df.price = df.price.apply(lambda x: float(x[2:]))\n",
    "\n",
    "df.in_stock = df.in_stock.apply(lambda x: int(''.join([char for char in x if char.isdigit()])))\n",
    "\n",
    "df.rating = df.rating.replace({\"One\" : 1, \"Two\" : 2, \"Three\" : 3, \"Four\" : 4, \"Five\" : 5})"
   ]
  },
  {
   "cell_type": "code",
   "execution_count": null,
   "id": "f3be5b7f",
   "metadata": {},
   "outputs": [],
   "source": [
    "df"
   ]
  }
 ],
 "metadata": {
  "kernelspec": {
   "display_name": "Python 3 (ipykernel)",
   "language": "python",
   "name": "python3"
  },
  "language_info": {
   "codemirror_mode": {
    "name": "ipython",
    "version": 3
   },
   "file_extension": ".py",
   "mimetype": "text/x-python",
   "name": "python",
   "nbconvert_exporter": "python",
   "pygments_lexer": "ipython3",
   "version": "3.10.12"
  }
 },
 "nbformat": 4,
 "nbformat_minor": 5
}
