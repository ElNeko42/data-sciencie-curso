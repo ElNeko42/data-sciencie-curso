{
 "cells": [
  {
   "cell_type": "markdown",
   "id": "221cc933",
   "metadata": {},
   "source": [
    "## NumPy\n",
    "\n",
    "**`NumPy`** es una librería utilizada para el manejo de arreglos (arrays) y matrices multidimensionales, cuenta con múltiples funciones para trabajar con estos objetos. Una matriz en **`NumPy`** es una cuadricula de valores, todos del mismo tipo e indexados.\n",
    "\n",
    "```python\n",
    "import numpy as np\n",
    "```"
   ]
  },
  {
   "cell_type": "code",
   "execution_count": 1,
   "id": "04664844",
   "metadata": {},
   "outputs": [],
   "source": [
    "import numpy as np"
   ]
  },
  {
   "cell_type": "code",
   "execution_count": 2,
   "id": "e9d1c7c9",
   "metadata": {},
   "outputs": [],
   "source": [
    "lista = [1, 2, 3]"
   ]
  },
  {
   "cell_type": "code",
   "execution_count": 3,
   "id": "f1df22c7",
   "metadata": {},
   "outputs": [
    {
     "data": {
      "text/plain": [
       "list"
      ]
     },
     "execution_count": 3,
     "metadata": {},
     "output_type": "execute_result"
    }
   ],
   "source": [
    "type(lista)"
   ]
  },
  {
   "cell_type": "code",
   "execution_count": 4,
   "id": "4bd2b057",
   "metadata": {},
   "outputs": [
    {
     "data": {
      "text/plain": [
       "numpy.ndarray"
      ]
     },
     "execution_count": 4,
     "metadata": {},
     "output_type": "execute_result"
    }
   ],
   "source": [
    "# Usando np.array() podemos castear una lista a un objeto numpy.ndarray\n",
    "type(np.array(lista))"
   ]
  },
  {
   "cell_type": "code",
   "execution_count": 5,
   "id": "41e46a2b-d361-4dbf-8fa9-c311a6c90107",
   "metadata": {},
   "outputs": [
    {
     "data": {
      "text/plain": [
       "array([1, 2, 3])"
      ]
     },
     "execution_count": 5,
     "metadata": {},
     "output_type": "execute_result"
    }
   ],
   "source": [
    "np.array(lista)"
   ]
  },
  {
   "cell_type": "markdown",
   "id": "5cd70c79",
   "metadata": {},
   "source": [
    "### Arreglos (arrays) de 1 dimensión (vector).\n",
    "\n",
    "| Método           | Atributo   |\n",
    "|------------------|------------|\n",
    "|**`.argmin()`**   |**`.dtype`**|\n",
    "|**`.argmax()`**   |**`.ndim`** |\n",
    "|**`.cumsum()`**   |**`.size`** |\n",
    "|**`.cumprod()`**  |**`.shape`**|\n",
    "|**`.dot()`**      | **`.T`**   |\n",
    "|**`.flatten()`**  |            |\n",
    "|**`.max()`**      |            |\n",
    "|**`.min()`**      |            |\n",
    "|**`.mean()`**     |            |\n",
    "|**`.reshape()`**  |            |\n",
    "|**`.transpose()`**|            |\n",
    "|**`.sum()`**      |            |\n",
    "|**`.sort()`**     |            |\n",
    "|**`.tolist()`**   |            |"
   ]
  },
  {
   "cell_type": "code",
   "execution_count": 6,
   "id": "32d5ed80",
   "metadata": {},
   "outputs": [
    {
     "data": {
      "text/plain": [
       "array([-2. ,  4. ,  1. ,  3.5])"
      ]
     },
     "execution_count": 6,
     "metadata": {},
     "output_type": "execute_result"
    }
   ],
   "source": [
    "vector = [-2, 4, 1, 3.5]\n",
    "\n",
    "vector = np.array(vector)\n",
    "\n",
    "vector"
   ]
  },
  {
   "cell_type": "code",
   "execution_count": 7,
   "id": "90b68668",
   "metadata": {},
   "outputs": [
    {
     "name": "stdout",
     "output_type": "stream",
     "text": [
      "0\n",
      "1\n"
     ]
    }
   ],
   "source": [
    "# .argmin() y .argmax() retornan el indice del minimo y del maximo respectivamente\n",
    "print(vector.argmin())\n",
    "print(vector.argmax())"
   ]
  },
  {
   "cell_type": "code",
   "execution_count": 8,
   "id": "c6fff054",
   "metadata": {},
   "outputs": [
    {
     "name": "stdout",
     "output_type": "stream",
     "text": [
      "[-2.   2.   3.   6.5]\n",
      "[ -2.  -8.  -8. -28.]\n"
     ]
    }
   ],
   "source": [
    "# .cumsum() y cumprod() retorna un np.array() con la suma acumulada y el producto acumulado respectivamente\n",
    "\n",
    "print(vector.cumsum())\n",
    "print(vector.cumprod())"
   ]
  },
  {
   "cell_type": "code",
   "execution_count": 9,
   "id": "854a50d4-3c96-4ebb-be44-b1afbd967019",
   "metadata": {},
   "outputs": [
    {
     "data": {
      "text/plain": [
       "(4,)"
      ]
     },
     "execution_count": 9,
     "metadata": {},
     "output_type": "execute_result"
    }
   ],
   "source": [
    "vector.shape"
   ]
  },
  {
   "cell_type": "code",
   "execution_count": 10,
   "id": "836f163c",
   "metadata": {},
   "outputs": [
    {
     "data": {
      "text/plain": [
       "array([[-2. ,  4. ,  1. ,  3.5]])"
      ]
     },
     "execution_count": 10,
     "metadata": {},
     "output_type": "execute_result"
    }
   ],
   "source": [
    "# .reshape() cambia la \"forma\" de la matriz\n",
    "\n",
    "matriz_1 = vector.reshape(1, 4)\n",
    "\n",
    "matriz_1"
   ]
  },
  {
   "cell_type": "code",
   "execution_count": 11,
   "id": "440ae0bb-c2c4-4f68-9a59-0c0bb94ff45a",
   "metadata": {},
   "outputs": [
    {
     "data": {
      "text/plain": [
       "(1, 4)"
      ]
     },
     "execution_count": 11,
     "metadata": {},
     "output_type": "execute_result"
    }
   ],
   "source": [
    "matriz_1.shape"
   ]
  },
  {
   "cell_type": "code",
   "execution_count": 26,
   "id": "53d2092a-2b2f-40b4-80b3-e9faa7d5cafe",
   "metadata": {},
   "outputs": [
    {
     "data": {
      "text/plain": [
       "array([-2. ,  1. ,  3.5,  4. ])"
      ]
     },
     "execution_count": 26,
     "metadata": {},
     "output_type": "execute_result"
    }
   ],
   "source": [
    "vector"
   ]
  },
  {
   "cell_type": "code",
   "execution_count": 19,
   "id": "82d70476-bf64-4ee6-a676-db66fc565ab6",
   "metadata": {},
   "outputs": [
    {
     "data": {
      "text/plain": [
       "array([[-2. ,  1. ,  3.5,  4. ]])"
      ]
     },
     "execution_count": 19,
     "metadata": {},
     "output_type": "execute_result"
    }
   ],
   "source": [
    "matriz_1"
   ]
  },
  {
   "cell_type": "code",
   "execution_count": 12,
   "id": "5360e7b1",
   "metadata": {},
   "outputs": [
    {
     "name": "stdout",
     "output_type": "stream",
     "text": [
      "[[-2. ]\n",
      " [ 4. ]\n",
      " [ 1. ]\n",
      " [ 3.5]]\n",
      "--------------------\n",
      "[[-2. ]\n",
      " [ 4. ]\n",
      " [ 1. ]\n",
      " [ 3.5]]\n"
     ]
    }
   ],
   "source": [
    "# .transpose() hace la transpuesta de la matriz, también se puede usar .T\n",
    "\n",
    "print(matriz_1.transpose())\n",
    "\n",
    "print(\"-\"*20)\n",
    "\n",
    "print(matriz_1.T)"
   ]
  },
  {
   "cell_type": "code",
   "execution_count": 13,
   "id": "cab9c78e",
   "metadata": {},
   "outputs": [
    {
     "data": {
      "text/plain": [
       "[[-2.0, 4.0, 1.0, 3.5]]"
      ]
     },
     "execution_count": 13,
     "metadata": {},
     "output_type": "execute_result"
    }
   ],
   "source": [
    "# .tolist() retorna el array en una lista\n",
    "\n",
    "matriz_1.tolist()"
   ]
  },
  {
   "cell_type": "code",
   "execution_count": 14,
   "id": "8e97e799",
   "metadata": {},
   "outputs": [
    {
     "data": {
      "text/plain": [
       "[array([-2. ,  4. ,  1. ,  3.5])]"
      ]
     },
     "execution_count": 14,
     "metadata": {},
     "output_type": "execute_result"
    }
   ],
   "source": [
    "list(matriz_1)"
   ]
  },
  {
   "cell_type": "code",
   "execution_count": 15,
   "id": "cc4e66c9",
   "metadata": {},
   "outputs": [
    {
     "data": {
      "text/plain": [
       "array([-2. ,  4. ,  1. ,  3.5])"
      ]
     },
     "execution_count": 15,
     "metadata": {},
     "output_type": "execute_result"
    }
   ],
   "source": [
    "vector"
   ]
  },
  {
   "cell_type": "code",
   "execution_count": 16,
   "id": "d23e4452",
   "metadata": {},
   "outputs": [
    {
     "data": {
      "text/plain": [
       "array([[-2. ,  4. ,  1. ,  3.5]])"
      ]
     },
     "execution_count": 16,
     "metadata": {},
     "output_type": "execute_result"
    }
   ],
   "source": [
    "matriz_1"
   ]
  },
  {
   "cell_type": "code",
   "execution_count": 17,
   "id": "b9c5aa51",
   "metadata": {},
   "outputs": [
    {
     "data": {
      "text/plain": [
       "array([-2. ,  4. ,  1. ,  3.5])"
      ]
     },
     "execution_count": 17,
     "metadata": {},
     "output_type": "execute_result"
    }
   ],
   "source": [
    "# .flatten() retorna un vector plano con los elementos de la matriz\n",
    "\n",
    "matriz_1.flatten()"
   ]
  },
  {
   "cell_type": "code",
   "execution_count": 18,
   "id": "129dc8d4",
   "metadata": {},
   "outputs": [
    {
     "name": "stdout",
     "output_type": "stream",
     "text": [
      "Antes de .sort() [-2.   4.   1.   3.5]\n",
      "Después de .sort() [-2.   1.   3.5  4. ]\n"
     ]
    }
   ],
   "source": [
    "# .sort() ordena la matriz de menor a mayor, lo hace in-place\n",
    "\n",
    "print(\"Antes de .sort()\", vector)\n",
    "\n",
    "vector.sort()\n",
    "\n",
    "print(\"Después de .sort()\", vector)"
   ]
  },
  {
   "cell_type": "code",
   "execution_count": 28,
   "id": "314df444",
   "metadata": {},
   "outputs": [
    {
     "data": {
      "text/plain": [
       "array([-2. ,  1. ,  3.5,  4. ])"
      ]
     },
     "execution_count": 28,
     "metadata": {},
     "output_type": "execute_result"
    }
   ],
   "source": [
    "vector"
   ]
  },
  {
   "cell_type": "code",
   "execution_count": 29,
   "id": "af24eeb6",
   "metadata": {},
   "outputs": [
    {
     "data": {
      "text/plain": [
       "1"
      ]
     },
     "execution_count": 29,
     "metadata": {},
     "output_type": "execute_result"
    }
   ],
   "source": [
    "# .ndim retorna el número de dimensiones\n",
    "\n",
    "vector.ndim"
   ]
  },
  {
   "cell_type": "code",
   "execution_count": 32,
   "id": "2996cb43-8f89-44f7-ac5a-00103ea7e105",
   "metadata": {},
   "outputs": [
    {
     "data": {
      "text/plain": [
       "2"
      ]
     },
     "execution_count": 32,
     "metadata": {},
     "output_type": "execute_result"
    }
   ],
   "source": [
    "matriz_1.ndim"
   ]
  },
  {
   "cell_type": "code",
   "execution_count": 33,
   "id": "a826a8a7",
   "metadata": {},
   "outputs": [
    {
     "data": {
      "text/plain": [
       "4"
      ]
     },
     "execution_count": 33,
     "metadata": {},
     "output_type": "execute_result"
    }
   ],
   "source": [
    "# .size retorna el número de elementos\n",
    "\n",
    "vector.size"
   ]
  },
  {
   "cell_type": "code",
   "execution_count": 34,
   "id": "9c100a65",
   "metadata": {},
   "outputs": [
    {
     "data": {
      "text/plain": [
       "(1, 4)"
      ]
     },
     "execution_count": 34,
     "metadata": {},
     "output_type": "execute_result"
    }
   ],
   "source": [
    "# .shape retorna en una tupla las dimesiones de la matriz\n",
    "\n",
    "matriz_1.shape"
   ]
  },
  {
   "cell_type": "code",
   "execution_count": 35,
   "id": "5bca1414",
   "metadata": {},
   "outputs": [
    {
     "data": {
      "text/plain": [
       "dtype('float64')"
      ]
     },
     "execution_count": 35,
     "metadata": {},
     "output_type": "execute_result"
    }
   ],
   "source": [
    "# .dtype retorna el tipo de dato de los elementos de la matriz\n",
    "\n",
    "vector.dtype"
   ]
  },
  {
   "cell_type": "markdown",
   "id": "fd3b3064",
   "metadata": {},
   "source": [
    "### Arreglos (arrays) de 2 dimensiones (matrices).\n",
    "\n",
    "Comparte los métodos y atributos de los vectores por que son de la misma clase.\n",
    "\n",
    "Existen varias funciones para inicializar matrices o arrays:\n",
    "\n",
    "| Función                  | Descripción                                                                             |\n",
    "|--------------------------|-----------------------------------------------------------------------------------------|\n",
    "|**`np.empty((n, m))`**    | Inicializa una matriz **nxm** vacia.                                                    |\n",
    "|**`np.zeros((n, m))`**    | Inicializa una matriz **nxm** de ceros.                                                 |\n",
    "|**`np.ones((n, m))`**     | Inicializa una matriz **nxm** de unos.                                                  |\n",
    "|**`np.eye(n)`**           | Inicializa la matriz identidad de orden **n**.                                          |\n",
    "|**`np.identity(n)`**      | Inicializa la matriz identidad de orden **n**.                                          |\n",
    "|**`np.full(shape, elem)`**| Inicializa una matriz con la forma de **`shape`** usando los elementos de **`elem`**.   |\n",
    "|**`np.linspace(a, b, p)`**| Inicializa un array de **`p`** elementos entre **`a`** y **`b`**, todos **x-distantes**.|"
   ]
  },
  {
   "cell_type": "code",
   "execution_count": 64,
   "id": "4e7e29d5",
   "metadata": {},
   "outputs": [
    {
     "data": {
      "text/plain": [
       "array([[ 3,  2,  1, 10],\n",
       "       [ 4,  5,  6, 20],\n",
       "       [ 7,  8,  9, 15]])"
      ]
     },
     "execution_count": 64,
     "metadata": {},
     "output_type": "execute_result"
    }
   ],
   "source": [
    "matriz = np.array([[3, 2, 1, 10], \n",
    "                   [4, 5, 6, 20], \n",
    "                   [7, 8, 9, 15]])\n",
    "\n",
    "matriz"
   ]
  },
  {
   "cell_type": "code",
   "execution_count": 65,
   "id": "7a0fc954",
   "metadata": {},
   "outputs": [
    {
     "name": "stdout",
     "output_type": "stream",
     "text": [
      "[[ 3  2  1 10]\n",
      " [ 4  5  6 20]\n",
      " [ 7  8  9 15]]\n"
     ]
    }
   ],
   "source": [
    "print(matriz)"
   ]
  },
  {
   "cell_type": "code",
   "execution_count": 66,
   "id": "f01ec395-faf2-4225-a5a1-e3e78d8b58cf",
   "metadata": {},
   "outputs": [
    {
     "data": {
      "text/plain": [
       "(3, 4)"
      ]
     },
     "execution_count": 66,
     "metadata": {},
     "output_type": "execute_result"
    }
   ],
   "source": [
    "matriz.shape"
   ]
  },
  {
   "cell_type": "code",
   "execution_count": 67,
   "id": "82acd1cc-f054-4a3b-aa30-19f640675274",
   "metadata": {},
   "outputs": [],
   "source": [
    "matriz.sort()"
   ]
  },
  {
   "cell_type": "code",
   "execution_count": 69,
   "id": "ea934ad2",
   "metadata": {},
   "outputs": [
    {
     "data": {
      "text/plain": [
       "array([ 1,  2,  3, 10,  4,  5,  6, 20,  7,  8,  9, 15])"
      ]
     },
     "execution_count": 69,
     "metadata": {},
     "output_type": "execute_result"
    }
   ],
   "source": [
    "matriz.flatten()"
   ]
  },
  {
   "cell_type": "code",
   "execution_count": 70,
   "id": "5a434d59",
   "metadata": {},
   "outputs": [
    {
     "data": {
      "text/plain": [
       "array([[ 1,  2],\n",
       "       [ 3, 10],\n",
       "       [ 4,  5],\n",
       "       [ 6, 20],\n",
       "       [ 7,  8],\n",
       "       [ 9, 15]])"
      ]
     },
     "execution_count": 70,
     "metadata": {},
     "output_type": "execute_result"
    }
   ],
   "source": [
    "matriz.reshape(6, 2)"
   ]
  },
  {
   "cell_type": "code",
   "execution_count": 71,
   "id": "2aac080b",
   "metadata": {},
   "outputs": [
    {
     "name": "stdout",
     "output_type": "stream",
     "text": [
      "[[ 4.65968232e-310  0.00000000e+000  6.92730372e-310  4.87154264e-168\n",
      "   6.92730420e-310]\n",
      " [ 3.50886576e+160  6.92730422e-310 -8.74423162e-083  0.00000000e+000\n",
      "   0.00000000e+000]\n",
      " [ 6.92730414e-310  7.51246669e+272  6.92730415e-310 -4.21398072e+235\n",
      "   0.00000000e+000]\n",
      " [ 0.00000000e+000  6.92730375e-310 -5.28707854e-241  6.92730415e-310\n",
      "  -2.04914383e-135]\n",
      " [ 0.00000000e+000  0.00000000e+000  0.00000000e+000  0.00000000e+000\n",
      "   1.66006057e-321]]\n"
     ]
    }
   ],
   "source": [
    "# Aunque muestre numeros dentro de la matriz, np.empty() la inicializa vacia, estos números que se ven\n",
    "# Estan en memoria y numpy los usa para mostrar la matriz\n",
    "\n",
    "empty = np.empty(shape = (5, 5), dtype = \"float\")\n",
    "\n",
    "print(empty)"
   ]
  },
  {
   "cell_type": "code",
   "execution_count": 72,
   "id": "7efe5c70",
   "metadata": {},
   "outputs": [
    {
     "name": "stdout",
     "output_type": "stream",
     "text": [
      "[[1 1 1 1 1]\n",
      " [1 1 1 1 1]\n",
      " [1 1 1 1 1]\n",
      " [1 1 1 1 1]\n",
      " [1 1 1 1 1]]\n"
     ]
    }
   ],
   "source": [
    "# Inicializa una matriz de 1's.\n",
    "\n",
    "ones = np.ones(shape = (5, 5), dtype = \"int8\")\n",
    "\n",
    "print(ones)"
   ]
  },
  {
   "cell_type": "code",
   "execution_count": 73,
   "id": "3afe6662",
   "metadata": {},
   "outputs": [
    {
     "name": "stdout",
     "output_type": "stream",
     "text": [
      "[[0 0 0 0 0]\n",
      " [0 0 0 0 0]\n",
      " [0 0 0 0 0]\n",
      " [0 0 0 0 0]\n",
      " [0 0 0 0 0]]\n"
     ]
    }
   ],
   "source": [
    "# Inicializa una matriz de 0's.\n",
    "\n",
    "zeros = np.zeros(shape = (5, 5), dtype = \"int8\")\n",
    "\n",
    "print(zeros)"
   ]
  },
  {
   "cell_type": "code",
   "execution_count": 74,
   "id": "b0faa89f",
   "metadata": {},
   "outputs": [
    {
     "data": {
      "text/plain": [
       "array([[1., 0., 0., 0., 0.],\n",
       "       [0., 1., 0., 0., 0.],\n",
       "       [0., 0., 1., 0., 0.],\n",
       "       [0., 0., 0., 1., 0.],\n",
       "       [0., 0., 0., 0., 1.]])"
      ]
     },
     "execution_count": 74,
     "metadata": {},
     "output_type": "execute_result"
    }
   ],
   "source": [
    "# Matriz identidad\n",
    "\n",
    "np.eye(5)"
   ]
  },
  {
   "cell_type": "code",
   "execution_count": 78,
   "id": "d1ccc458",
   "metadata": {},
   "outputs": [
    {
     "name": "stdout",
     "output_type": "stream",
     "text": [
      "[[0 1 2 3 4]\n",
      " [0 1 2 3 4]\n",
      " [0 1 2 3 4]\n",
      " [0 1 2 3 4]\n",
      " [0 1 2 3 4]]\n"
     ]
    }
   ],
   "source": [
    "# np.full() crea una lista con forma \"shape\" y la llena con un iterable.\n",
    "\n",
    "full = np.full(shape = (5, 5), fill_value = range(5))\n",
    "\n",
    "print(full)"
   ]
  },
  {
   "cell_type": "code",
   "execution_count": 79,
   "id": "84e8feee-9330-401a-ae1d-194582bf6be4",
   "metadata": {},
   "outputs": [
    {
     "name": "stdout",
     "output_type": "stream",
     "text": [
      "[[10 10 10 10 10]\n",
      " [10 10 10 10 10]\n",
      " [10 10 10 10 10]\n",
      " [10 10 10 10 10]\n",
      " [10 10 10 10 10]]\n"
     ]
    }
   ],
   "source": [
    "# np.full() crea una lista con forma \"shape\" y la llena con un iterable.\n",
    "\n",
    "full = np.full(shape = (5, 5), fill_value = 10)\n",
    "\n",
    "print(full)"
   ]
  },
  {
   "cell_type": "code",
   "execution_count": 80,
   "id": "5ff662d1",
   "metadata": {},
   "outputs": [
    {
     "name": "stdout",
     "output_type": "stream",
     "text": [
      "[ 1.          1.73333333  2.46666667  3.2         3.93333333  4.66666667\n",
      "  5.4         6.13333333  6.86666667  7.6         8.33333333  9.06666667\n",
      "  9.8        10.53333333 11.26666667 12.        ]\n"
     ]
    }
   ],
   "source": [
    "# np.linspace(a, b, p) crea un array de \"p\" elementos entre \"a\" y \"b\", todos x-distantes\n",
    "\n",
    "linspace = np.linspace(1, 12, 16)\n",
    "\n",
    "print(linspace)"
   ]
  },
  {
   "cell_type": "markdown",
   "id": "254762c3",
   "metadata": {},
   "source": [
    "### Slicing en NumPy\n",
    "\n",
    "En Python para hacer slicing de una lista de listas debiamos escribir primero la \"fila\" y de segundo la \"columna\" asi:\n",
    "```python\n",
    "lista[a][b]\n",
    "```\n",
    "\n",
    "Usando un **`np.array()`** podemos usar la siguiente notación:\n",
    "```python\n",
    "array[a, b]\n",
    "```\n",
    "\n",
    "Incluso, podemos pasar un **slicing** dentro del **slicing** para filtrar aun más los datos:\n",
    "```python\n",
    "array[a1 : a2, b1 : b2]\n",
    "```\n",
    "\n",
    "También podemos hacer **indexing** dentro del **slicing**\n",
    "\n",
    "```python\n",
    "array[[a1, a3], [b2, b4]]\n",
    "```"
   ]
  },
  {
   "cell_type": "code",
   "execution_count": 81,
   "id": "12a6a5ff",
   "metadata": {},
   "outputs": [
    {
     "name": "stdout",
     "output_type": "stream",
     "text": [
      "[[1 0 0 0 0]\n",
      " [0 0 2 0 0]\n",
      " [1 1 0 0 1]\n",
      " [2 1 1 1 0]\n",
      " [1 2 1 2 2]]\n"
     ]
    }
   ],
   "source": [
    "matriz = np.array([[1, 0, 0, 0, 0],\n",
    "                   [0, 0, 2, 0, 0],\n",
    "                   [1, 1, 0, 0, 1],\n",
    "                   [2, 1, 1, 1, 0],\n",
    "                   [1, 2, 1, 2, 2]])\n",
    "\n",
    "print(matriz)"
   ]
  },
  {
   "cell_type": "code",
   "execution_count": 82,
   "id": "21dbaeca",
   "metadata": {},
   "outputs": [
    {
     "data": {
      "text/plain": [
       "2"
      ]
     },
     "execution_count": 82,
     "metadata": {},
     "output_type": "execute_result"
    }
   ],
   "source": [
    "# Hacer\n",
    "\n",
    "matriz[4][1]"
   ]
  },
  {
   "cell_type": "code",
   "execution_count": 83,
   "id": "ec4d8249",
   "metadata": {},
   "outputs": [
    {
     "data": {
      "text/plain": [
       "2"
      ]
     },
     "execution_count": 83,
     "metadata": {},
     "output_type": "execute_result"
    }
   ],
   "source": [
    "# Es igual que hacer\n",
    "\n",
    "matriz[4, 1]"
   ]
  },
  {
   "cell_type": "code",
   "execution_count": 84,
   "id": "52d4413b",
   "metadata": {},
   "outputs": [
    {
     "data": {
      "text/plain": [
       "array([[0, 2, 0],\n",
       "       [1, 0, 0],\n",
       "       [1, 1, 1]])"
      ]
     },
     "execution_count": 84,
     "metadata": {},
     "output_type": "execute_result"
    }
   ],
   "source": [
    "# Slicing\n",
    "matriz[1:4, 1:4]"
   ]
  },
  {
   "cell_type": "code",
   "execution_count": 86,
   "id": "93e46fc8",
   "metadata": {},
   "outputs": [
    {
     "data": {
      "text/plain": [
       "array([2, 0])"
      ]
     },
     "execution_count": 86,
     "metadata": {},
     "output_type": "execute_result"
    }
   ],
   "source": [
    "# Slicing + Indexing\n",
    "\n",
    "matriz[[1, 3], [2, 4]]"
   ]
  },
  {
   "cell_type": "markdown",
   "id": "a53ed0b5",
   "metadata": {},
   "source": [
    "### Operaciones con Arrays"
   ]
  },
  {
   "cell_type": "code",
   "execution_count": 87,
   "id": "a67f60f0",
   "metadata": {},
   "outputs": [
    {
     "name": "stdout",
     "output_type": "stream",
     "text": [
      "[[20 40]\n",
      " [30 50]]\n",
      "--------------------\n",
      "[[4 5]\n",
      " [2 3]]\n"
     ]
    }
   ],
   "source": [
    "A = np.array([[20, 40], [30, 50]])\n",
    "B = np.array([[4, 5], [2, 3]])\n",
    "\n",
    "print(A)\n",
    "print(\"-\"*20)\n",
    "print(B)"
   ]
  },
  {
   "cell_type": "code",
   "execution_count": 88,
   "id": "ddedeb57",
   "metadata": {},
   "outputs": [
    {
     "data": {
      "text/plain": [
       "array([[24, 45],\n",
       "       [32, 53]])"
      ]
     },
     "execution_count": 88,
     "metadata": {},
     "output_type": "execute_result"
    }
   ],
   "source": [
    "# Suma\n",
    "\n",
    "A + B"
   ]
  },
  {
   "cell_type": "code",
   "execution_count": 89,
   "id": "d72056b3",
   "metadata": {},
   "outputs": [
    {
     "data": {
      "text/plain": [
       "array([[16, 35],\n",
       "       [28, 47]])"
      ]
     },
     "execution_count": 89,
     "metadata": {},
     "output_type": "execute_result"
    }
   ],
   "source": [
    "# Resta\n",
    "A - B"
   ]
  },
  {
   "cell_type": "code",
   "execution_count": 90,
   "id": "dd2e20b7",
   "metadata": {},
   "outputs": [
    {
     "data": {
      "text/plain": [
       "array([[100, 200],\n",
       "       [150, 250]])"
      ]
     },
     "execution_count": 90,
     "metadata": {},
     "output_type": "execute_result"
    }
   ],
   "source": [
    "# Multiplicación por escalar\n",
    "\n",
    "A * 5"
   ]
  },
  {
   "cell_type": "code",
   "execution_count": 91,
   "id": "825278f1",
   "metadata": {},
   "outputs": [
    {
     "data": {
      "text/plain": [
       "array([[ 80, 200],\n",
       "       [ 60, 150]])"
      ]
     },
     "execution_count": 91,
     "metadata": {},
     "output_type": "execute_result"
    }
   ],
   "source": [
    "# Multiplicación elemento a elemento (no es la forma matemática de multiplicar)\n",
    "\n",
    "A * B"
   ]
  },
  {
   "cell_type": "code",
   "execution_count": 92,
   "id": "9357e55c",
   "metadata": {},
   "outputs": [
    {
     "data": {
      "text/plain": [
       "array([[ 4.,  8.],\n",
       "       [ 6., 10.]])"
      ]
     },
     "execution_count": 92,
     "metadata": {},
     "output_type": "execute_result"
    }
   ],
   "source": [
    "# División por escalar\n",
    "\n",
    "A / 5"
   ]
  },
  {
   "cell_type": "code",
   "execution_count": 93,
   "id": "28efadce",
   "metadata": {},
   "outputs": [
    {
     "data": {
      "text/plain": [
       "array([[160, 220],\n",
       "       [220, 300]])"
      ]
     },
     "execution_count": 93,
     "metadata": {},
     "output_type": "execute_result"
    }
   ],
   "source": [
    "# Producto de matrices (también conocido como producto de vectorial)\n",
    "\n",
    "A.dot(B)"
   ]
  },
  {
   "cell_type": "code",
   "execution_count": 94,
   "id": "1841c7ec",
   "metadata": {},
   "outputs": [
    {
     "name": "stdout",
     "output_type": "stream",
     "text": [
      "[[20 40]\n",
      " [30 50]]\n",
      "--------------------\n",
      "[[4 5]\n",
      " [2 3]]\n"
     ]
    }
   ],
   "source": [
    "print(A)\n",
    "print(\"-\"*20)\n",
    "print(B)"
   ]
  },
  {
   "cell_type": "markdown",
   "id": "547b4361",
   "metadata": {},
   "source": [
    "#### Concatenar"
   ]
  },
  {
   "cell_type": "code",
   "execution_count": 115,
   "id": "336b6dfb-174e-4e74-acb1-f3ddce78f191",
   "metadata": {},
   "outputs": [
    {
     "data": {
      "text/plain": [
       "array([[20, 40],\n",
       "       [30, 50]])"
      ]
     },
     "execution_count": 115,
     "metadata": {},
     "output_type": "execute_result"
    }
   ],
   "source": [
    "A"
   ]
  },
  {
   "cell_type": "code",
   "execution_count": 116,
   "id": "e184308b-c4b8-4bb0-b1bd-d25daab520b8",
   "metadata": {},
   "outputs": [
    {
     "data": {
      "text/plain": [
       "array([[4, 5],\n",
       "       [2, 3]])"
      ]
     },
     "execution_count": 116,
     "metadata": {},
     "output_type": "execute_result"
    }
   ],
   "source": [
    "B"
   ]
  },
  {
   "cell_type": "code",
   "execution_count": 117,
   "id": "269d0b12",
   "metadata": {},
   "outputs": [
    {
     "data": {
      "text/plain": [
       "array([[20, 40],\n",
       "       [30, 50],\n",
       "       [ 4,  5],\n",
       "       [ 2,  3]])"
      ]
     },
     "execution_count": 117,
     "metadata": {},
     "output_type": "execute_result"
    }
   ],
   "source": [
    "# Concatenar verticalmente\n",
    "\n",
    "np.concatenate((A, B), axis = 0)"
   ]
  },
  {
   "cell_type": "code",
   "execution_count": 118,
   "id": "0d17002e",
   "metadata": {},
   "outputs": [
    {
     "data": {
      "text/plain": [
       "array([[20, 40,  4,  5],\n",
       "       [30, 50,  2,  3]])"
      ]
     },
     "execution_count": 118,
     "metadata": {},
     "output_type": "execute_result"
    }
   ],
   "source": [
    "# Concatenar horizontalmente\n",
    "\n",
    "np.concatenate((A, B), axis = 1)"
   ]
  },
  {
   "cell_type": "markdown",
   "id": "ae907e98",
   "metadata": {},
   "source": [
    "### Números aleatorios en NumPy\n",
    "\n",
    "|Función                             |Descripción                                                                                                                                         |\n",
    "|------------------------------------|----------------------------------------------------------------------------------------------------------------------------------------------------|\n",
    "|**`np.random.random(n)`**           | Genera un número aleatorio entre 0 y 1, si damos el parametro **`n`** genera una lista de **`n`** elementos aleatorios entre 0 y 1, solo genera vectores.                                                                                                                       |\n",
    "|**`np.random.rand(shape)`**         | Genera un array de forma **shape** con números aleatorios entre 0 y 1.                                                                             |\n",
    "|**`np.random.randn(shape)`**        | Genera un array de forma **shape** con números aleatorios entre -1 y 1.                                                                           |\n",
    "|**`no.random.randint(a, b, size)`** | Genera un array de tamaño **size** con numeros enteros aleatorios entre **a** y **b**.                                                             |\n",
    "|**`np.random.choice(obj, size, p)`**| Genera un array de tamaño **size** con los elementos de **obj**, se le pueden dar pesos a los elementos usando **p**, retorna elementos repetidos.|\n",
    "|**`np.random.seed(n)`**             | Genera una semilla.                                                                                                                                 |\n",
    "|**`np.random.RandomState(n)`**      | Genera una semilla.                                                                                                                                 |"
   ]
  },
  {
   "cell_type": "code",
   "execution_count": 131,
   "id": "b3288efd",
   "metadata": {},
   "outputs": [
    {
     "data": {
      "text/plain": [
       "array([[0.14675589, 0.09233859, 0.18626021, 0.34556073, 0.39676747],\n",
       "       [0.53881673, 0.41919451, 0.6852195 , 0.20445225, 0.87811744],\n",
       "       [0.02738759, 0.67046751, 0.4173048 , 0.55868983, 0.14038694],\n",
       "       [0.19810149, 0.80074457, 0.96826158, 0.31342418, 0.69232262],\n",
       "       [0.87638915, 0.89460666, 0.08504421, 0.03905478, 0.16983042]])"
      ]
     },
     "execution_count": 131,
     "metadata": {},
     "output_type": "execute_result"
    }
   ],
   "source": [
    "np.random.random(size = (5, 5))"
   ]
  },
  {
   "cell_type": "code",
   "execution_count": 132,
   "id": "c8ed8fa8",
   "metadata": {},
   "outputs": [
    {
     "name": "stdout",
     "output_type": "stream",
     "text": [
      "0.8781425034294131\n",
      "------------------------------\n",
      "[0.09834683 0.42110763 0.95788953 0.53316528 0.69187711]\n"
     ]
    }
   ],
   "source": [
    "print(np.random.random())\n",
    "\n",
    "print(\"-\"*30)\n",
    "\n",
    "print(np.random.random(5))"
   ]
  },
  {
   "cell_type": "code",
   "execution_count": 135,
   "id": "8aad0c3b",
   "metadata": {},
   "outputs": [
    {
     "name": "stdout",
     "output_type": "stream",
     "text": [
      "0.13002857211827767\n",
      "------------------------------\n",
      "[[0.01936696 0.67883553 0.21162812]\n",
      " [0.26554666 0.49157316 0.05336255]]\n"
     ]
    }
   ],
   "source": [
    "print(np.random.rand())\n",
    "\n",
    "print(\"-\"*30)\n",
    "\n",
    "print(np.random.rand(2, 3))"
   ]
  },
  {
   "cell_type": "code",
   "execution_count": 138,
   "id": "250d0d26",
   "metadata": {},
   "outputs": [
    {
     "name": "stdout",
     "output_type": "stream",
     "text": [
      "0.3001703199558275\n",
      "------------------------------\n",
      "[[-0.35224985 -1.1425182  -0.34934272]\n",
      " [-0.20889423  0.58662319  0.83898341]]\n"
     ]
    }
   ],
   "source": [
    "print(np.random.randn())\n",
    "\n",
    "print(\"-\"*30)\n",
    "\n",
    "print(np.random.randn(2, 3))"
   ]
  },
  {
   "cell_type": "code",
   "execution_count": 140,
   "id": "deb7b024",
   "metadata": {},
   "outputs": [
    {
     "name": "stdout",
     "output_type": "stream",
     "text": [
      "4\n",
      "------------------------------\n",
      "[[7 1 7 6 2]\n",
      " [3 2 6 5 1]\n",
      " [8 9 6 8 1]\n",
      " [4 2 5 5 7]\n",
      " [9 9 3 8 6]]\n"
     ]
    }
   ],
   "source": [
    "print(np.random.randint(0, 10))\n",
    "\n",
    "print(\"-\"*30)\n",
    "\n",
    "print(np.random.randint(1, 10, size = (5, 5)))"
   ]
  },
  {
   "cell_type": "code",
   "execution_count": 142,
   "id": "8f34224a",
   "metadata": {},
   "outputs": [
    {
     "name": "stdout",
     "output_type": "stream",
     "text": [
      "['a' 'u' 'a' 'a' 'o' 'a' 'o' 'a' 'o' 'i']\n"
     ]
    }
   ],
   "source": [
    "print(np.random.choice(a    = [\"a\", \"e\", \"i\", \"o\", \"u\"],\n",
    "                       size = 10,\n",
    "                       p    = [0.6, 0.1, 0.1, 0.1, 0.1])) "
   ]
  },
  {
   "cell_type": "code",
   "execution_count": 149,
   "id": "fcaa9040",
   "metadata": {},
   "outputs": [
    {
     "name": "stdout",
     "output_type": "stream",
     "text": [
      "0.4967141530112327\n",
      "0.4967141530112327\n",
      "0.4967141530112327\n",
      "0.4967141530112327\n",
      "0.4967141530112327\n"
     ]
    }
   ],
   "source": [
    "for i in range(5):\n",
    "    np.random.seed(42)\n",
    "    print(np.random.randn())"
   ]
  },
  {
   "cell_type": "code",
   "execution_count": 150,
   "id": "719185bd",
   "metadata": {},
   "outputs": [
    {
     "name": "stdout",
     "output_type": "stream",
     "text": [
      "0.43599490214200376\n",
      "8\n",
      "-0.13826430117118466\n",
      "------------------------------\n",
      "0.43599490214200376\n",
      "8\n",
      "0.6476885381006925\n",
      "------------------------------\n",
      "0.43599490214200376\n",
      "8\n",
      "1.5230298564080254\n",
      "------------------------------\n",
      "0.43599490214200376\n",
      "8\n",
      "-0.23415337472333597\n",
      "------------------------------\n"
     ]
    }
   ],
   "source": [
    "for i in range(4):\n",
    "    \n",
    "    rs = np.random.RandomState(2)\n",
    "    \n",
    "    print(rs.rand())\n",
    "    print(rs.randint(0, 10))\n",
    "    \n",
    "    print(np.random.randn()) # No usa rs\n",
    "    \n",
    "    print(\"-\"*30)    "
   ]
  },
  {
   "cell_type": "code",
   "execution_count": 153,
   "id": "27335492",
   "metadata": {},
   "outputs": [
    {
     "name": "stdout",
     "output_type": "stream",
     "text": [
      "0.5488135039273248\n",
      "5\n",
      "0.11849646073740812\n",
      "------------------------------\n",
      "0.8472517387841254\n",
      "3\n",
      "0.11396779497090676\n",
      "------------------------------\n",
      "0.6458941130666561\n",
      "4\n",
      "-0.2913939760114335\n",
      "------------------------------\n",
      "0.2726562945801132\n",
      "1\n",
      "-0.13309028458966213\n",
      "------------------------------\n"
     ]
    }
   ],
   "source": [
    "np.random.seed(0)\n",
    "\n",
    "for i in range(4):\n",
    "    \n",
    "    print(np.random.rand())\n",
    "    print(np.random.randint(0, 10))\n",
    "    print(np.random.randn())\n",
    "    print(\"-\"*30)  "
   ]
  },
  {
   "cell_type": "code",
   "execution_count": 29,
   "id": "49b47b97",
   "metadata": {},
   "outputs": [
    {
     "data": {
      "text/plain": [
       "array([[0.61, 0.92, 0.38, -1.10, 0.30, 1.33],\n",
       "       [-0.69, -0.15, -0.44, 1.85, 0.67, 0.41],\n",
       "       [-0.77, 0.54, -0.67, 0.03, -0.64, 0.68],\n",
       "       [0.58, -0.21, 0.40, -1.09, -1.49, 0.44],\n",
       "       [0.17, 0.64, 2.38, 0.94, -0.91, 1.12],\n",
       "       [-1.32, -0.46, -0.07, 1.71, -0.74, -0.83]])"
      ]
     },
     "execution_count": 29,
     "metadata": {},
     "output_type": "execute_result"
    }
   ],
   "source": [
    "# Código para establecer el número de decimales (Cambiar {0:0.2f} para elegir el número de decimales)\n",
    "\n",
    "np.set_printoptions(formatter = {\"float\" : lambda x: \"{0:0.2f}\".format(x)})\n",
    "\n",
    "np.random.randn(6, 6)"
   ]
  },
  {
   "cell_type": "code",
   "execution_count": 30,
   "id": "57fad6e7",
   "metadata": {},
   "outputs": [
    {
     "data": {
      "text/plain": [
       "array([[-0.10, -0.66, 1.13, -1.08, -1.15, -0.44],\n",
       "       [-0.50, 1.93, 0.95, 0.09, -1.23, 0.84],\n",
       "       [-1.00, -1.54, 1.19, 0.32, 0.92, 0.32],\n",
       "       [0.86, -0.65, -1.03, 0.68, -0.80, -0.69],\n",
       "       [-0.46, 0.02, -0.35, -1.37, -0.64, -2.22],\n",
       "       [0.63, -1.60, -1.10, 0.05, -0.74, 1.54]])"
      ]
     },
     "execution_count": 30,
     "metadata": {},
     "output_type": "execute_result"
    }
   ],
   "source": [
    "np.random.randn(6, 6)"
   ]
  },
  {
   "cell_type": "code",
   "execution_count": 31,
   "id": "8c6a06b3",
   "metadata": {},
   "outputs": [
    {
     "data": {
      "text/plain": [
       "array([[0.62, 0.44, 0.48, 0.98, 0.98],\n",
       "       [0.92, 0.05, 0.62, 0.37, 0.19],\n",
       "       [0.63, 0.04, 0.96, 0.83, 0.96],\n",
       "       [0.48, 0.58, 0.84, 0.35, 0.03],\n",
       "       [0.89, 0.57, 0.10, 0.56, 0.64]])"
      ]
     },
     "execution_count": 31,
     "metadata": {},
     "output_type": "execute_result"
    }
   ],
   "source": [
    "np.empty((5, 5), dtype = \"float64\")"
   ]
  },
  {
   "cell_type": "code",
   "execution_count": null,
   "id": "d6263c75",
   "metadata": {},
   "outputs": [],
   "source": [
    "################################################################################################################################"
   ]
  }
 ],
 "metadata": {
  "kernelspec": {
   "display_name": "Python 3 (ipykernel)",
   "language": "python",
   "name": "python3"
  },
  "language_info": {
   "codemirror_mode": {
    "name": "ipython",
    "version": 3
   },
   "file_extension": ".py",
   "mimetype": "text/x-python",
   "name": "python",
   "nbconvert_exporter": "python",
   "pygments_lexer": "ipython3",
   "version": "3.10.12"
  }
 },
 "nbformat": 4,
 "nbformat_minor": 5
}
