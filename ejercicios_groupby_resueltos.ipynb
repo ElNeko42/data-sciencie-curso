{
 "cells": [
  {
   "cell_type": "code",
   "execution_count": null,
   "id": "3489f685",
   "metadata": {},
   "outputs": [],
   "source": [
    "import pandas as pd\n",
    "import numpy as np"
   ]
  },
  {
   "cell_type": "code",
   "execution_count": null,
   "id": "ce11fd8a",
   "metadata": {},
   "outputs": [],
   "source": [
    "df = pd.read_csv(\"Data/titanic.csv\")"
   ]
  },
  {
   "cell_type": "code",
   "execution_count": null,
   "id": "8b799510",
   "metadata": {},
   "outputs": [],
   "source": [
    "df"
   ]
  },
  {
   "cell_type": "markdown",
   "id": "21d9be1f",
   "metadata": {},
   "source": [
    "### Ejercicio 1:\n",
    "- Agrupa los datos por la columna `Sex` y calcula:\n",
    "    - Porcentaje de supervivientes para cada sexo.\n",
    "    - Edad promedio para cada sexo.\n",
    "    - La mediana del precio del ticket para cada sexo."
   ]
  },
  {
   "cell_type": "code",
   "execution_count": null,
   "id": "315753f8",
   "metadata": {},
   "outputs": [],
   "source": [
    "df.groupby(\"Sex\")[[\"Survived\"]].mean(numeric_only=True)"
   ]
  },
  {
   "cell_type": "code",
   "execution_count": null,
   "id": "dda20681",
   "metadata": {},
   "outputs": [],
   "source": [
    "df.groupby(\"Sex\")[[\"Age\"]].mean(numeric_only=True)"
   ]
  },
  {
   "cell_type": "code",
   "execution_count": null,
   "id": "9ad543e8",
   "metadata": {},
   "outputs": [],
   "source": [
    "df.groupby(\"Sex\")[[\"Fare\"]].median(numeric_only=True)"
   ]
  },
  {
   "cell_type": "markdown",
   "id": "20776722",
   "metadata": {},
   "source": [
    "### Ejercicio 2:\n",
    "- Agrupa los datos por la columna `Pclass` y calcula:\n",
    "    - El porcentaje de supervivientes por cada clase.\n",
    "    - Edad promedio para cada sexo.\n",
    "    - La mediana del precio del ticket para cada sexo."
   ]
  },
  {
   "cell_type": "code",
   "execution_count": null,
   "id": "4364a1db",
   "metadata": {},
   "outputs": [],
   "source": [
    "df.groupby(\"Pclass\")[[\"Survived\"]].mean(numeric_only=True)"
   ]
  },
  {
   "cell_type": "code",
   "execution_count": null,
   "id": "c0b75d45",
   "metadata": {},
   "outputs": [],
   "source": [
    "df.groupby(\"Pclass\")[[\"Age\"]].mean(numeric_only=True)"
   ]
  },
  {
   "cell_type": "code",
   "execution_count": null,
   "id": "25643efb",
   "metadata": {},
   "outputs": [],
   "source": [
    "df.groupby(\"Pclass\")[[\"Fare\"]].median(numeric_only=True)"
   ]
  },
  {
   "cell_type": "markdown",
   "id": "90dd63e1",
   "metadata": {},
   "source": [
    "### Ejercicio 3:\n",
    "- Crea una columna nueva `age_interval` y llénala con valores del 0 al 3, dependiendo de la edad del pasajero:\n",
    "    - 0 : menores de 18 años\n",
    "    - 1 : de 18 años a 32 años \n",
    "    - 2 : de 32 años a 60 años\n",
    "    - 3 : mayores a 60 años\n",
    "- Agrupa los datos por `age_interval` y obtén para cada grupo de edad:\n",
    "    - Porcentaje de supervivientes\n",
    "    - Distribución de sexos\n",
    "    - Distribución de clases\n",
    "    - Precio mediano de los tickets"
   ]
  },
  {
   "cell_type": "code",
   "execution_count": null,
   "id": "16cd9b39",
   "metadata": {},
   "outputs": [],
   "source": [
    "def intervalos_edad(edad):\n",
    "    if edad < 18:\n",
    "        return 0\n",
    "    if edad < 32:\n",
    "        return 1\n",
    "    if edad < 60:\n",
    "        return 2\n",
    "    return 3\n",
    "\n",
    "df[\"age_interval\"] = df[\"Age\"].apply(intervalos_edad)"
   ]
  },
  {
   "cell_type": "code",
   "execution_count": null,
   "id": "bf2e79e9",
   "metadata": {},
   "outputs": [],
   "source": [
    "df.groupby(\"age_interval\")[[\"Survived\"]].mean()"
   ]
  },
  {
   "cell_type": "code",
   "execution_count": null,
   "id": "f7d84145",
   "metadata": {},
   "outputs": [],
   "source": [
    "df.groupby(\"age_interval\")[[\"Sex\"]].value_counts()"
   ]
  },
  {
   "cell_type": "code",
   "execution_count": null,
   "id": "268867cd",
   "metadata": {},
   "outputs": [],
   "source": [
    "df.groupby(\"age_interval\")[[\"Pclass\"]].value_counts()"
   ]
  },
  {
   "cell_type": "code",
   "execution_count": null,
   "id": "823154fe",
   "metadata": {},
   "outputs": [],
   "source": [
    "df.groupby(\"age_interval\")[[\"Fare\"]].median()"
   ]
  },
  {
   "cell_type": "code",
   "execution_count": null,
   "id": "cb8b4917",
   "metadata": {},
   "outputs": [],
   "source": []
  }
 ],
 "metadata": {
  "kernelspec": {
   "display_name": "Python 3 (ipykernel)",
   "language": "python",
   "name": "python3"
  },
  "language_info": {
   "codemirror_mode": {
    "name": "ipython",
    "version": 3
   },
   "file_extension": ".py",
   "mimetype": "text/x-python",
   "name": "python",
   "nbconvert_exporter": "python",
   "pygments_lexer": "ipython3",
   "version": "3.10.12"
  }
 },
 "nbformat": 4,
 "nbformat_minor": 5
}
